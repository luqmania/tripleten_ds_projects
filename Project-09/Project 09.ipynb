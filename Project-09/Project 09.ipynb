{
 "cells": [
  {
   "cell_type": "markdown",
   "metadata": {},
   "source": [
    "# Perusahaan Tambang OilyGiant"
   ]
  },
  {
   "cell_type": "markdown",
   "metadata": {},
   "source": [
    "# Daftar Isi <a id='back'></a>\n",
    "\n",
    "* [Pendahuluan](#intro)\n",
    "\n",
    "* [Tahap 1. Ikhtisar Data](#data_review)\n",
    "    * [1.1 Kesimpulan](#review_conclusion)\n",
    "\n",
    "* [Tahap 2. Pra-pemrosesan data](#data_preprocessing)\n",
    "    * [2.1 Menghapus kolom data yang kurang relevan](#dataprep_1)\n",
    "    * [2.2 Kesimpulan](#dataprep_conclusion)    \n",
    "    \n",
    "* [Tahap 3. Analisis](#analysis)\n",
    "    * [3.1 Split data dan train model](#analysis_1)\n",
    "    * [3.2 Break-even volume untuk setiap sumur minyak](#analysis_2)\n",
    "    * [3.3 Profit dari sumur terpilih dan prediksi model](#analysis_3)\n",
    "    * [3.4 Profit dan risiko setiap wilayah](#analysis_3)\n",
    "    * [3.5 Kesimpulan](#analysis_conclusion)\n",
    "\n",
    "* [Temuan](#end)"
   ]
  },
  {
   "cell_type": "markdown",
   "metadata": {},
   "source": [
    "[Kembali ke Daftar Isi](#back)"
   ]
  },
  {
   "cell_type": "markdown",
   "metadata": {},
   "source": [
    "## Pendahuluan <a id='intro'></a>\n",
    "\n",
    "Peneliti bekerja di perusahaan tambang OilyGiant. Peneliti bertugas untuk mencari tempat\n",
    "terbaik untuk mengembangkan 200 titik sumur minyak baru.\n",
    "\n",
    "Perusahaan Tambang OilyGiant memiliki data cadangan minyak di 3 wilayah, masing-masing 1 dataset untuk setiap wilayah. Kita akan melatih model Regresi Linier untuk masing-masing wilayah guna memprediksi volume yang dikandung dan menghitung pendapatan untuk setiap wilayah, serta menggunakan temuan tersebut untuk menentukan wilayah dengan profit margin tertinggi.\n",
    "\n",
    "### Tujuan: \n",
    "Memilih wilayah dengan profit margin tertinggi.\n",
    "\n",
    "### Tahapan\n",
    "Peneliti memiliki data terkait wilayah yang akan diteliti dalam 3 *file* berikut:\n",
    "- /datasets/geo_data_0.csv\n",
    "- /datasets/geo_data_1.csv\n",
    "- /datasets/geo_data_2.csv\n",
    "\n",
    "Tidak ada informasi terkait kualitas data tersebut, jadi perlu diperiksa terlebih dahulu sebelum melakukan analisis lebih lanjut.\n",
    "\n",
    "Pertama akan dilakukan evaluasi kualitas data dan melihat apakah terdapat hal yang signifikan yang perlu dilakukan tindak lanjut sebelum dilakukan proses analisis.\n",
    "\n",
    "Proyek ini akan terdiri dari tiga tahap:\n",
    " 1. Ikhtisar Data\n",
    " 2. Pra-pemrosesan Data \n",
    " 3. Analisis"
   ]
  },
  {
   "cell_type": "markdown",
   "metadata": {},
   "source": [
    "[Kembali ke Daftar Isi](#back)"
   ]
  },
  {
   "cell_type": "markdown",
   "metadata": {},
   "source": [
    "\n",
    "## Tahap 1. Ikhtisar Data <a id='data_review'></a>\n",
    "\n",
    "Melakukan import library yang diperlukan, membuka data terkait yang akan dievaluasi, kemudian menjelajahi data tersebut."
   ]
  },
  {
   "cell_type": "markdown",
   "metadata": {},
   "source": [
    "**Step 1.1**\n",
    "Melakukan import libraries dan modules yang diperlukan"
   ]
  },
  {
   "cell_type": "code",
   "execution_count": 1,
   "metadata": {},
   "outputs": [],
   "source": [
    "import pandas as pd #untuk mengelola dataframe\n",
    "from sklearn.linear_model import LinearRegression #untuk mengolah model Linear Regression\n",
    "from sklearn.model_selection import train_test_split #untuk melakukan split dataset\n",
    "from sklearn.metrics import mean_squared_error #untuk melakukan penghitungan mean squared error\n",
    "from scipy import stats as st #untuk melakukan penghitungan fungsi statistika\n",
    "import numpy as np #untuk mengelola number array\n",
    "import matplotlib.pyplot as plt #untuk menampilkan grafik"
   ]
  },
  {
   "cell_type": "markdown",
   "metadata": {},
   "source": [
    "**Step 1.2**\n",
    "Melakukan load data yang diperlukan dari file *geo_data_0.csv*, *geo_data_1.csv*, dan *geo_data_2.csv* kemudian menyimpannya ke\n",
    "dalam dataframe data_0, data_1, dan data_2 "
   ]
  },
  {
   "cell_type": "code",
   "execution_count": 2,
   "metadata": {},
   "outputs": [],
   "source": [
    "try:\n",
    "    data_0 = pd.read_csv('geo_data_0.csv')\n",
    "except:\n",
    "    data_0 = pd.read_csv('/datasets/geo_data_0.csv')\n",
    "#membaca file geo_data_0.csv dan konversi ke dataframe data_0\n",
    "\n",
    "try:\n",
    "    data_1 = pd.read_csv('geo_data_1.csv')\n",
    "except:\n",
    "    data_1 = pd.read_csv('/datasets/geo_data_1.csv')\n",
    "#membaca file geo_data_1.csv dan konversi ke dataframe data_1\n",
    "\n",
    "try:\n",
    "    data_2 = pd.read_csv('geo_data_2.csv')\n",
    "except:\n",
    "    data_2 = pd.read_csv('/datasets/geo_data_2.csv')\n",
    "#membaca file geo_data_2.csv dan konversi ke dataframe data_2"
   ]
  },
  {
   "cell_type": "markdown",
   "metadata": {},
   "source": [
    "**Step 1.3**\n",
    "Melihat informasi umum dataset geo_data_0.csv"
   ]
  },
  {
   "cell_type": "code",
   "execution_count": 3,
   "metadata": {},
   "outputs": [
    {
     "data": {
      "text/html": [
       "<div>\n",
       "<style scoped>\n",
       "    .dataframe tbody tr th:only-of-type {\n",
       "        vertical-align: middle;\n",
       "    }\n",
       "\n",
       "    .dataframe tbody tr th {\n",
       "        vertical-align: top;\n",
       "    }\n",
       "\n",
       "    .dataframe thead th {\n",
       "        text-align: right;\n",
       "    }\n",
       "</style>\n",
       "<table border=\"1\" class=\"dataframe\">\n",
       "  <thead>\n",
       "    <tr style=\"text-align: right;\">\n",
       "      <th></th>\n",
       "      <th>id</th>\n",
       "      <th>f0</th>\n",
       "      <th>f1</th>\n",
       "      <th>f2</th>\n",
       "      <th>product</th>\n",
       "    </tr>\n",
       "  </thead>\n",
       "  <tbody>\n",
       "    <tr>\n",
       "      <th>0</th>\n",
       "      <td>txEyH</td>\n",
       "      <td>0.705745</td>\n",
       "      <td>-0.497823</td>\n",
       "      <td>1.221170</td>\n",
       "      <td>105.280062</td>\n",
       "    </tr>\n",
       "    <tr>\n",
       "      <th>1</th>\n",
       "      <td>2acmU</td>\n",
       "      <td>1.334711</td>\n",
       "      <td>-0.340164</td>\n",
       "      <td>4.365080</td>\n",
       "      <td>73.037750</td>\n",
       "    </tr>\n",
       "    <tr>\n",
       "      <th>2</th>\n",
       "      <td>409Wp</td>\n",
       "      <td>1.022732</td>\n",
       "      <td>0.151990</td>\n",
       "      <td>1.419926</td>\n",
       "      <td>85.265647</td>\n",
       "    </tr>\n",
       "    <tr>\n",
       "      <th>3</th>\n",
       "      <td>iJLyR</td>\n",
       "      <td>-0.032172</td>\n",
       "      <td>0.139033</td>\n",
       "      <td>2.978566</td>\n",
       "      <td>168.620776</td>\n",
       "    </tr>\n",
       "    <tr>\n",
       "      <th>4</th>\n",
       "      <td>Xdl7t</td>\n",
       "      <td>1.988431</td>\n",
       "      <td>0.155413</td>\n",
       "      <td>4.751769</td>\n",
       "      <td>154.036647</td>\n",
       "    </tr>\n",
       "  </tbody>\n",
       "</table>\n",
       "</div>"
      ],
      "text/plain": [
       "      id        f0        f1        f2     product\n",
       "0  txEyH  0.705745 -0.497823  1.221170  105.280062\n",
       "1  2acmU  1.334711 -0.340164  4.365080   73.037750\n",
       "2  409Wp  1.022732  0.151990  1.419926   85.265647\n",
       "3  iJLyR -0.032172  0.139033  2.978566  168.620776\n",
       "4  Xdl7t  1.988431  0.155413  4.751769  154.036647"
      ]
     },
     "execution_count": 3,
     "metadata": {},
     "output_type": "execute_result"
    }
   ],
   "source": [
    "data_0.head() #melihat 5 baris awal data_0"
   ]
  },
  {
   "cell_type": "code",
   "execution_count": 4,
   "metadata": {},
   "outputs": [
    {
     "name": "stdout",
     "output_type": "stream",
     "text": [
      "<class 'pandas.core.frame.DataFrame'>\n",
      "RangeIndex: 100000 entries, 0 to 99999\n",
      "Data columns (total 5 columns):\n",
      " #   Column   Non-Null Count   Dtype  \n",
      "---  ------   --------------   -----  \n",
      " 0   id       100000 non-null  object \n",
      " 1   f0       100000 non-null  float64\n",
      " 2   f1       100000 non-null  float64\n",
      " 3   f2       100000 non-null  float64\n",
      " 4   product  100000 non-null  float64\n",
      "dtypes: float64(4), object(1)\n",
      "memory usage: 3.8+ MB\n"
     ]
    }
   ],
   "source": [
    "data_0.info() #melihat informasi umum data_0"
   ]
  },
  {
   "cell_type": "code",
   "execution_count": 5,
   "metadata": {},
   "outputs": [
    {
     "data": {
      "text/plain": [
       "id         0\n",
       "f0         0\n",
       "f1         0\n",
       "f2         0\n",
       "product    0\n",
       "dtype: int64"
      ]
     },
     "execution_count": 5,
     "metadata": {},
     "output_type": "execute_result"
    }
   ],
   "source": [
    "data_0.isna().sum() #memeriksa missing value data_0"
   ]
  },
  {
   "cell_type": "code",
   "execution_count": 6,
   "metadata": {},
   "outputs": [
    {
     "data": {
      "text/plain": [
       "0"
      ]
     },
     "execution_count": 6,
     "metadata": {},
     "output_type": "execute_result"
    }
   ],
   "source": [
    "data_0.duplicated().sum() #memeriksa duplicated value data_0"
   ]
  },
  {
   "cell_type": "markdown",
   "metadata": {},
   "source": [
    "**Step 1.4**\n",
    "Melihat informasi umum dataset geo_data_1.csv"
   ]
  },
  {
   "cell_type": "code",
   "execution_count": 7,
   "metadata": {},
   "outputs": [
    {
     "data": {
      "text/html": [
       "<div>\n",
       "<style scoped>\n",
       "    .dataframe tbody tr th:only-of-type {\n",
       "        vertical-align: middle;\n",
       "    }\n",
       "\n",
       "    .dataframe tbody tr th {\n",
       "        vertical-align: top;\n",
       "    }\n",
       "\n",
       "    .dataframe thead th {\n",
       "        text-align: right;\n",
       "    }\n",
       "</style>\n",
       "<table border=\"1\" class=\"dataframe\">\n",
       "  <thead>\n",
       "    <tr style=\"text-align: right;\">\n",
       "      <th></th>\n",
       "      <th>id</th>\n",
       "      <th>f0</th>\n",
       "      <th>f1</th>\n",
       "      <th>f2</th>\n",
       "      <th>product</th>\n",
       "    </tr>\n",
       "  </thead>\n",
       "  <tbody>\n",
       "    <tr>\n",
       "      <th>0</th>\n",
       "      <td>kBEdx</td>\n",
       "      <td>-15.001348</td>\n",
       "      <td>-8.276000</td>\n",
       "      <td>-0.005876</td>\n",
       "      <td>3.179103</td>\n",
       "    </tr>\n",
       "    <tr>\n",
       "      <th>1</th>\n",
       "      <td>62mP7</td>\n",
       "      <td>14.272088</td>\n",
       "      <td>-3.475083</td>\n",
       "      <td>0.999183</td>\n",
       "      <td>26.953261</td>\n",
       "    </tr>\n",
       "    <tr>\n",
       "      <th>2</th>\n",
       "      <td>vyE1P</td>\n",
       "      <td>6.263187</td>\n",
       "      <td>-5.948386</td>\n",
       "      <td>5.001160</td>\n",
       "      <td>134.766305</td>\n",
       "    </tr>\n",
       "    <tr>\n",
       "      <th>3</th>\n",
       "      <td>KcrkZ</td>\n",
       "      <td>-13.081196</td>\n",
       "      <td>-11.506057</td>\n",
       "      <td>4.999415</td>\n",
       "      <td>137.945408</td>\n",
       "    </tr>\n",
       "    <tr>\n",
       "      <th>4</th>\n",
       "      <td>AHL4O</td>\n",
       "      <td>12.702195</td>\n",
       "      <td>-8.147433</td>\n",
       "      <td>5.004363</td>\n",
       "      <td>134.766305</td>\n",
       "    </tr>\n",
       "  </tbody>\n",
       "</table>\n",
       "</div>"
      ],
      "text/plain": [
       "      id         f0         f1        f2     product\n",
       "0  kBEdx -15.001348  -8.276000 -0.005876    3.179103\n",
       "1  62mP7  14.272088  -3.475083  0.999183   26.953261\n",
       "2  vyE1P   6.263187  -5.948386  5.001160  134.766305\n",
       "3  KcrkZ -13.081196 -11.506057  4.999415  137.945408\n",
       "4  AHL4O  12.702195  -8.147433  5.004363  134.766305"
      ]
     },
     "execution_count": 7,
     "metadata": {},
     "output_type": "execute_result"
    }
   ],
   "source": [
    "data_1.head() #melihat 5 baris awal data_1"
   ]
  },
  {
   "cell_type": "code",
   "execution_count": 8,
   "metadata": {},
   "outputs": [
    {
     "name": "stdout",
     "output_type": "stream",
     "text": [
      "<class 'pandas.core.frame.DataFrame'>\n",
      "RangeIndex: 100000 entries, 0 to 99999\n",
      "Data columns (total 5 columns):\n",
      " #   Column   Non-Null Count   Dtype  \n",
      "---  ------   --------------   -----  \n",
      " 0   id       100000 non-null  object \n",
      " 1   f0       100000 non-null  float64\n",
      " 2   f1       100000 non-null  float64\n",
      " 3   f2       100000 non-null  float64\n",
      " 4   product  100000 non-null  float64\n",
      "dtypes: float64(4), object(1)\n",
      "memory usage: 3.8+ MB\n"
     ]
    }
   ],
   "source": [
    "data_1.info() #melihat informasi umum data_1"
   ]
  },
  {
   "cell_type": "code",
   "execution_count": 9,
   "metadata": {},
   "outputs": [
    {
     "data": {
      "text/plain": [
       "id         0\n",
       "f0         0\n",
       "f1         0\n",
       "f2         0\n",
       "product    0\n",
       "dtype: int64"
      ]
     },
     "execution_count": 9,
     "metadata": {},
     "output_type": "execute_result"
    }
   ],
   "source": [
    "data_1.isna().sum() #memeriksa missing value data_1"
   ]
  },
  {
   "cell_type": "code",
   "execution_count": 10,
   "metadata": {},
   "outputs": [
    {
     "data": {
      "text/plain": [
       "0"
      ]
     },
     "execution_count": 10,
     "metadata": {},
     "output_type": "execute_result"
    }
   ],
   "source": [
    "data_1.duplicated().sum() #memeriksa duplicated value data_1"
   ]
  },
  {
   "cell_type": "markdown",
   "metadata": {},
   "source": [
    "**Step 1.5**\n",
    "Melihat informasi umum dataset geo_data_2.csv"
   ]
  },
  {
   "cell_type": "code",
   "execution_count": 11,
   "metadata": {},
   "outputs": [
    {
     "data": {
      "text/html": [
       "<div>\n",
       "<style scoped>\n",
       "    .dataframe tbody tr th:only-of-type {\n",
       "        vertical-align: middle;\n",
       "    }\n",
       "\n",
       "    .dataframe tbody tr th {\n",
       "        vertical-align: top;\n",
       "    }\n",
       "\n",
       "    .dataframe thead th {\n",
       "        text-align: right;\n",
       "    }\n",
       "</style>\n",
       "<table border=\"1\" class=\"dataframe\">\n",
       "  <thead>\n",
       "    <tr style=\"text-align: right;\">\n",
       "      <th></th>\n",
       "      <th>id</th>\n",
       "      <th>f0</th>\n",
       "      <th>f1</th>\n",
       "      <th>f2</th>\n",
       "      <th>product</th>\n",
       "    </tr>\n",
       "  </thead>\n",
       "  <tbody>\n",
       "    <tr>\n",
       "      <th>0</th>\n",
       "      <td>fwXo0</td>\n",
       "      <td>-1.146987</td>\n",
       "      <td>0.963328</td>\n",
       "      <td>-0.828965</td>\n",
       "      <td>27.758673</td>\n",
       "    </tr>\n",
       "    <tr>\n",
       "      <th>1</th>\n",
       "      <td>WJtFt</td>\n",
       "      <td>0.262778</td>\n",
       "      <td>0.269839</td>\n",
       "      <td>-2.530187</td>\n",
       "      <td>56.069697</td>\n",
       "    </tr>\n",
       "    <tr>\n",
       "      <th>2</th>\n",
       "      <td>ovLUW</td>\n",
       "      <td>0.194587</td>\n",
       "      <td>0.289035</td>\n",
       "      <td>-5.586433</td>\n",
       "      <td>62.871910</td>\n",
       "    </tr>\n",
       "    <tr>\n",
       "      <th>3</th>\n",
       "      <td>q6cA6</td>\n",
       "      <td>2.236060</td>\n",
       "      <td>-0.553760</td>\n",
       "      <td>0.930038</td>\n",
       "      <td>114.572842</td>\n",
       "    </tr>\n",
       "    <tr>\n",
       "      <th>4</th>\n",
       "      <td>WPMUX</td>\n",
       "      <td>-0.515993</td>\n",
       "      <td>1.716266</td>\n",
       "      <td>5.899011</td>\n",
       "      <td>149.600746</td>\n",
       "    </tr>\n",
       "  </tbody>\n",
       "</table>\n",
       "</div>"
      ],
      "text/plain": [
       "      id        f0        f1        f2     product\n",
       "0  fwXo0 -1.146987  0.963328 -0.828965   27.758673\n",
       "1  WJtFt  0.262778  0.269839 -2.530187   56.069697\n",
       "2  ovLUW  0.194587  0.289035 -5.586433   62.871910\n",
       "3  q6cA6  2.236060 -0.553760  0.930038  114.572842\n",
       "4  WPMUX -0.515993  1.716266  5.899011  149.600746"
      ]
     },
     "execution_count": 11,
     "metadata": {},
     "output_type": "execute_result"
    }
   ],
   "source": [
    "data_2.head() #melihat 5 baris awal data_0"
   ]
  },
  {
   "cell_type": "code",
   "execution_count": 12,
   "metadata": {},
   "outputs": [
    {
     "name": "stdout",
     "output_type": "stream",
     "text": [
      "<class 'pandas.core.frame.DataFrame'>\n",
      "RangeIndex: 100000 entries, 0 to 99999\n",
      "Data columns (total 5 columns):\n",
      " #   Column   Non-Null Count   Dtype  \n",
      "---  ------   --------------   -----  \n",
      " 0   id       100000 non-null  object \n",
      " 1   f0       100000 non-null  float64\n",
      " 2   f1       100000 non-null  float64\n",
      " 3   f2       100000 non-null  float64\n",
      " 4   product  100000 non-null  float64\n",
      "dtypes: float64(4), object(1)\n",
      "memory usage: 3.8+ MB\n"
     ]
    }
   ],
   "source": [
    "data_2.info() #melihat informasi umum data_2"
   ]
  },
  {
   "cell_type": "code",
   "execution_count": 13,
   "metadata": {},
   "outputs": [
    {
     "data": {
      "text/plain": [
       "id         0\n",
       "f0         0\n",
       "f1         0\n",
       "f2         0\n",
       "product    0\n",
       "dtype: int64"
      ]
     },
     "execution_count": 13,
     "metadata": {},
     "output_type": "execute_result"
    }
   ],
   "source": [
    "data_2.isna().sum() #memeriksa missing value data_2"
   ]
  },
  {
   "cell_type": "code",
   "execution_count": 14,
   "metadata": {},
   "outputs": [
    {
     "data": {
      "text/plain": [
       "0"
      ]
     },
     "execution_count": 14,
     "metadata": {},
     "output_type": "execute_result"
    }
   ],
   "source": [
    "data_2.duplicated().sum() #memeriksa duplicated value data_2"
   ]
  },
  {
   "cell_type": "markdown",
   "metadata": {},
   "source": [
    "Setelah dilakukan pemeriksaan dataset terkait, tidak ditemukan missing value dan duplicated value. Namun demikian, kolom id pada setiap data bersifat unik sehingga tidak terlalu membantu proses analisis, kolom ini akan kita hapus sebelum dilakukan analisis lebih lanjut."
   ]
  },
  {
   "cell_type": "markdown",
   "metadata": {},
   "source": [
    "### Kesimpulan <a name=\"review_conclusion\"></a>"
   ]
  },
  {
   "cell_type": "markdown",
   "metadata": {},
   "source": [
    "Data type kolom pada dataframe data_0, data_1, dan data_2 telah sesuai dan dapat diproses untuk analisis lebih lanjut. Untuk analisis lebih lanjut, terdapat kolom yang kurang relevan yang dapat didrop yakni id. Tidak terdapat missing value dan juga tidak terdapat duplicated value. "
   ]
  },
  {
   "cell_type": "markdown",
   "metadata": {},
   "source": [
    "[Kembali ke Daftar Isi](#back)"
   ]
  },
  {
   "cell_type": "markdown",
   "metadata": {},
   "source": [
    "## Tahap 2. Pra-pemrosesan Data <a id='data_preprocessing'></a>"
   ]
  },
  {
   "cell_type": "markdown",
   "metadata": {},
   "source": [
    "### Menghapus kolom data yang kurang relevan<a name=\"dataprep_1\"></a>"
   ]
  },
  {
   "cell_type": "markdown",
   "metadata": {},
   "source": [
    "Kolom data yang kurang relevan tersebut adalah id. Kolom id pada dasarnya merupakan gabungan karakter huruf dan angka yang bersifat unik dan sifatnya berbeda untuk setiap pengamatan. Kolom ini tidak akan membantu dalam proses train model sehingga kita dapat menghapus kolom ini."
   ]
  },
  {
   "cell_type": "markdown",
   "metadata": {},
   "source": [
    "**Step 2.1**\n",
    "Menghapus kolom yang kurang relevan untuk train model."
   ]
  },
  {
   "cell_type": "code",
   "execution_count": 15,
   "metadata": {},
   "outputs": [
    {
     "name": "stdout",
     "output_type": "stream",
     "text": [
      "<class 'pandas.core.frame.DataFrame'>\n",
      "RangeIndex: 100000 entries, 0 to 99999\n",
      "Data columns (total 4 columns):\n",
      " #   Column   Non-Null Count   Dtype  \n",
      "---  ------   --------------   -----  \n",
      " 0   f0       100000 non-null  float64\n",
      " 1   f1       100000 non-null  float64\n",
      " 2   f2       100000 non-null  float64\n",
      " 3   product  100000 non-null  float64\n",
      "dtypes: float64(4)\n",
      "memory usage: 3.1 MB\n",
      "<class 'pandas.core.frame.DataFrame'>\n",
      "RangeIndex: 100000 entries, 0 to 99999\n",
      "Data columns (total 4 columns):\n",
      " #   Column   Non-Null Count   Dtype  \n",
      "---  ------   --------------   -----  \n",
      " 0   f0       100000 non-null  float64\n",
      " 1   f1       100000 non-null  float64\n",
      " 2   f2       100000 non-null  float64\n",
      " 3   product  100000 non-null  float64\n",
      "dtypes: float64(4)\n",
      "memory usage: 3.1 MB\n",
      "<class 'pandas.core.frame.DataFrame'>\n",
      "RangeIndex: 100000 entries, 0 to 99999\n",
      "Data columns (total 4 columns):\n",
      " #   Column   Non-Null Count   Dtype  \n",
      "---  ------   --------------   -----  \n",
      " 0   f0       100000 non-null  float64\n",
      " 1   f1       100000 non-null  float64\n",
      " 2   f2       100000 non-null  float64\n",
      " 3   product  100000 non-null  float64\n",
      "dtypes: float64(4)\n",
      "memory usage: 3.1 MB\n"
     ]
    }
   ],
   "source": [
    "data_0=data_0.drop(['id'], axis=1)\n",
    "data_1=data_1.drop(['id'], axis=1)\n",
    "data_2=data_2.drop(['id'], axis=1)\n",
    "#menghapus kolom id dari dataframe data_0, data_1, dan data_2\n",
    "\n",
    "data_0.info()\n",
    "data_1.info()\n",
    "data_2.info()\n",
    "#melihat informasi umum tentang data_0, data_1, dan data_2"
   ]
  },
  {
   "cell_type": "markdown",
   "metadata": {},
   "source": [
    "### Kesimpulan <a name=\"dataprep_conclusion\"></a>"
   ]
  },
  {
   "cell_type": "markdown",
   "metadata": {},
   "source": [
    "Telah dilakukan drop kolom yang kurang relevan yakni kolom id untuk seluruh data yang akan digunakan."
   ]
  },
  {
   "cell_type": "markdown",
   "metadata": {},
   "source": [
    "[Kembali ke Daftar Isi](#back)"
   ]
  },
  {
   "cell_type": "markdown",
   "metadata": {},
   "source": [
    "## Tahap 3. Analisis <a name='analysis'></a>"
   ]
  },
  {
   "cell_type": "markdown",
   "metadata": {},
   "source": [
    "## Split data dan train model <a name='analysis_1'></a>"
   ]
  },
  {
   "cell_type": "markdown",
   "metadata": {},
   "source": [
    "Kolom produk akan menjadi target dan kolom lainnya akan menjadi feature."
   ]
  },
  {
   "cell_type": "markdown",
   "metadata": {},
   "source": [
    "Kita perlu membuat fungsi dengan 4 argumen untuk pemisahan data (feature train, target train, feature valid, target validi). Fungsi tersebut melakukan train model Regresi terhadap setiap dataset r dan mengembalikan nilai prediksi berikut nilai RMSE (Root Mean Square Error) dari model. Untuk selanjutnya, kita dapat melakukan split data terhadap setiap dataset dengan memanggil fungsi yang telah dibuat."
   ]
  },
  {
   "cell_type": "markdown",
   "metadata": {},
   "source": [
    "**Step 3.1**\n",
    "Membuat fungsi untuk melakukan train model Regresi Linear."
   ]
  },
  {
   "cell_type": "code",
   "execution_count": 16,
   "metadata": {},
   "outputs": [],
   "source": [
    "def lr_model(f_train, f_valid, t_train, t_valid):\n",
    "    #membuat fungsi yang memroses 4 data sebagai argument\n",
    "    lr = LinearRegression().fit(f_train, t_train)\n",
    "    #melakukan train model linear regression model menggunakan data set train\n",
    "    t_pred = lr.predict(f_valid)\n",
    "    #mendapatkan prediction dari model yang telah di-train untuk data feature valid\n",
    "    rmse=(mean_squared_error(t_valid, t_pred))**0.5\n",
    "    #menghitung nilai RMSE antara target valid dan nilai prediction\n",
    "    return rmse, t_pred \n",
    "    #mengembalikan nilai RMSE dan nilai prediction"
   ]
  },
  {
   "cell_type": "markdown",
   "metadata": {},
   "source": [
    "Sekarang kita dapat melakukan pemisahan dengan komposisi 75% set train, 25% set valid. Kita akan melakukan train model dengan meneruskan 4 item sebagai argument ke fungsi lr_model kita. Untuk selanjutnya kita mendapatkan nilai RMSE dan nilai rata-rata prediction."
   ]
  },
  {
   "cell_type": "markdown",
   "metadata": {},
   "source": [
    "**Step 3.2**\n",
    "Menghitung nilai RMSE dan nilai rata-rata prediction untuk wilayah 0"
   ]
  },
  {
   "cell_type": "code",
   "execution_count": 17,
   "metadata": {},
   "outputs": [
    {
     "name": "stdout",
     "output_type": "stream",
     "text": [
      "RMSE: 37.5794217150813 ; Rata-rata predicted volume: 92.59256778438035\n"
     ]
    }
   ],
   "source": [
    "features0=data_0.drop(['product'], axis=1)\n",
    "#membentuk feature dengan menghapus kolom product\n",
    "target0=data_0['product']\n",
    "#membentuk target yang merupakan kolom product\n",
    "f_train0, f_valid0, t_train0, t_valid0 = train_test_split(features0, target0, test_size=0.25, \\\n",
    "                                                          random_state=12345)\n",
    "#melakukan split feature dan target dengan komposisi 75% untuk set train dan 25% untuk set valid\n",
    "rmse0, pred0 = lr_model(f_train0, f_valid0, t_train0, t_valid0)\n",
    "#meneruskan 4 item argument ke fungsi lr_model untuk mendapatkan nilai RMSE dan nilai prediction \n",
    "print('RMSE:', rmse0, '; Rata-rata predicted volume:', pred0.mean())\n",
    "#mencetak nilai RMSE dan nilai rata-rata prediction "
   ]
  },
  {
   "cell_type": "markdown",
   "metadata": {},
   "source": [
    "Untuk wilayah 0, nilai RMSE adalah sebesar 37.58 dan nilai rata-rata prediction adalah sebesar 92.59."
   ]
  },
  {
   "cell_type": "markdown",
   "metadata": {},
   "source": [
    "**Step 3.3**\n",
    "Menghitung nilai RMSE dan nilai rata-rata prediction untuk wilayah 1"
   ]
  },
  {
   "cell_type": "code",
   "execution_count": 18,
   "metadata": {
    "scrolled": true
   },
   "outputs": [
    {
     "name": "stdout",
     "output_type": "stream",
     "text": [
      "RMSE: 0.8930992867756167 ; Rata-rata predicted volume: 68.728546895446\n"
     ]
    }
   ],
   "source": [
    "features1=data_1.drop(['product'], axis=1)\n",
    "#membentuk feature dengan menghapus kolom product\n",
    "target1=data_1['product']\n",
    "#membentuk target yang merupakan kolom product\n",
    "f_train1, f_valid1, t_train1, t_valid1 = train_test_split(features1, target1, test_size=0.25, \\\n",
    "                                                          random_state=12345)\n",
    "#melakukan split feature dan target dengan komposisi 75% untuk set train dan 25% untuk set valid\n",
    "rmse1, pred1 = lr_model(f_train1, f_valid1, t_train1, t_valid1)\n",
    "#meneruskan 4 item argument ke fungsi lr_model untuk mendapatkan nilai RMSE dan nilai prediction \n",
    "print('RMSE:', rmse1, '; Rata-rata predicted volume:', pred1.mean())\n",
    "#mencetak nilai RMSE dan nilai rata-rata prediction "
   ]
  },
  {
   "cell_type": "markdown",
   "metadata": {},
   "source": [
    "Untuk wilayah 1 nilai RMSE adalah sebesar 0.89 dan nilai rata-rata prediction adalah sebesar 68.73."
   ]
  },
  {
   "cell_type": "markdown",
   "metadata": {},
   "source": [
    "**Step 3.4**\n",
    "Menghitung nilai RMSE dan nilai rata-rata prediction untuk wilayah 0"
   ]
  },
  {
   "cell_type": "code",
   "execution_count": 19,
   "metadata": {
    "scrolled": true
   },
   "outputs": [
    {
     "name": "stdout",
     "output_type": "stream",
     "text": [
      "RMSE: 40.02970873393434 ; Rata-rata predicted volume: 94.96504596800489\n"
     ]
    }
   ],
   "source": [
    "features2=data_2.drop(['product'], axis=1)\n",
    "#membentuk feature dengan menghapus kolom product\n",
    "target2=data_2['product']\n",
    "#membentuk target yang merupakan kolom product\n",
    "f_train2, f_valid2, t_train2, t_valid2 = train_test_split(features2, target2, test_size=0.25, \\\n",
    "                                                          random_state=12345)\n",
    "#melakukan split feature dan target dengan komposisi 75% untuk set train dan 25% untuk set valid\n",
    "rmse2, pred2 = lr_model(f_train2, f_valid2, t_train2, t_valid2)\n",
    "#meneruskan 4 item argument ke fungsi lr_model untuk mendapatkan nilai RMSE dan nilai prediction \n",
    "print('RMSE:', rmse2, '; Rata-rata predicted volume:', pred2.mean())\n",
    "#mencetak nilai RMSE dan nilai rata-rata prediction "
   ]
  },
  {
   "cell_type": "markdown",
   "metadata": {},
   "source": [
    "Untuk wilayah 2, nilai RMSE adalah sebesar 40.03 dan nilai rata-rata prediction adalah sebesar 94.96."
   ]
  },
  {
   "cell_type": "markdown",
   "metadata": {},
   "source": [
    "Model wilayah 1 adalah yang paling akurat karena memiliki nilai RMSE terkecil. Namun demikian wilayah 3 memiliki nilai rata-rata prediction terbesar."
   ]
  },
  {
   "cell_type": "markdown",
   "metadata": {},
   "source": [
    "## Break-even volume untuk setiap sumur minyak <a name='analysis_2'></a>"
   ]
  },
  {
   "cell_type": "markdown",
   "metadata": {},
   "source": [
    "Informasi terkait proyek ini adalah sebagai berikut:\n",
    "* Anggaran untuk pengembangan 200 sumur minyak adalah sebesar 100 USD juta\n",
    "* Ketika menjelajahi wilayah-wilayah tersebut, dilakukan studi terhadap 500 titik dengan memilih 200 titik terbaik untuk perhitungan laba.\n",
    "* Satu barel bahan mentah menghasilkan 4,5 USD pendapatan. Pendapatan dari satu unit produk adalah 4.500 dolar (volume cadangan minyak dalam ribuan barel)."
   ]
  },
  {
   "cell_type": "markdown",
   "metadata": {},
   "source": [
    "Dengan investasi 100 juta untuk 200 sumur minyak, sebuah sumur minyak rata-rata harus menghasilkan  setidaknya 500 ribu USD untuk menghindari kerugian (hal ini setara dengan 111,1 unit).\n",
    "\n",
    "Kita akan menyimpan informasi ini dalam variabel yang nantinya akan dapat digunakan pada saat menghitung profit. Guna mendapatkan volume yang cukup untuk mengembangkan sumur baru tanpa kerugian, kita perlu mencari biaya pengembangan sumur baru dan membaginya dengan pendapatan per volume."
   ]
  },
  {
   "cell_type": "markdown",
   "metadata": {},
   "source": [
    "**Step 3.5**\n",
    "Analisis break-even volume"
   ]
  },
  {
   "cell_type": "code",
   "execution_count": 20,
   "metadata": {},
   "outputs": [
    {
     "name": "stdout",
     "output_type": "stream",
     "text": [
      "111.11111111111111\n"
     ]
    }
   ],
   "source": [
    "titik = 500\n",
    "titik_utama = 200\n",
    "budget_200 = 100000000\n",
    "income_per_volume = 4500\n",
    "\n",
    "biaya_sumur=budget_200/titik_utama\n",
    "no_loss_volume=biaya_sumur / income_per_volume\n",
    "print(no_loss_volume)"
   ]
  },
  {
   "cell_type": "markdown",
   "metadata": {},
   "source": [
    "Hasilnya adalah 111.11 unit per product. Mari kita bandingkan dengan rata-rata dari 3 wilayah."
   ]
  },
  {
   "cell_type": "code",
   "execution_count": 21,
   "metadata": {},
   "outputs": [
    {
     "name": "stdout",
     "output_type": "stream",
     "text": [
      "Rata-rata produksi Wilayah 0: 92.50000000000001\n",
      "Rata-rata produksi Wilayah 1: 68.82500000000002\n",
      "Rata-rata produksi Wilayah 2: 95.00000000000004\n"
     ]
    }
   ],
   "source": [
    "print('Rata-rata produksi Wilayah 0:', data_0['product'].mean())\n",
    "print('Rata-rata produksi Wilayah 1:', data_1['product'].mean())\n",
    "print('Rata-rata produksi Wilayah 2:', data_2['product'].mean())"
   ]
  },
  {
   "cell_type": "markdown",
   "metadata": {},
   "source": [
    "Hasil penghitungan rata-rata produksi di seluruh wilayah lebih rendah dari nilai pada no-loss volume. Dapat dikatakan bahwa wilayah-wilayah tersebut menimbulkan kerugian."
   ]
  },
  {
   "cell_type": "markdown",
   "metadata": {},
   "source": [
    "## Profit dari sumur terpilih dan prediksi model <a name='analysis_3'></a>"
   ]
  },
  {
   "cell_type": "markdown",
   "metadata": {},
   "source": [
    "Hal yang perlu dikerjakan:\n",
    "* Tuliskan sebuah fungsi untuk menghitung profit dari sekumpulan sumur minyak terpilih dan prediksi modelnya, pilih 200 sumur dengan nilai prediksi tertinggi dari masing-masing 3 wilayah (file 'csv')\n",
    "* Buat rangkuman tentang target volume pemesanan berdasarkan prediksi ini. Simpan prediksi untuk 200 sumur di masing-masing dari 3 wilayah"
   ]
  },
  {
   "cell_type": "markdown",
   "metadata": {},
   "source": [
    "**Step 3.5**\n",
    "Membuat fungsi revenue dengan argument target, prediction, dan jumlah sumur untuk menghitung profit."
   ]
  },
  {
   "cell_type": "code",
   "execution_count": 22,
   "metadata": {},
   "outputs": [],
   "source": [
    "def revenue(target, predicted, n):\n",
    "    #membuat fungsi dengan argument target, prediction, dan jumlah sumur\n",
    "    predicted = pd.Series(predicted)\n",
    "    #konversi data prediction ke format series\n",
    "    target = target.reset_index(drop=True)\n",
    "    #reset index target\n",
    "    indeks = predicted.sort_values(ascending=False).index\n",
    "    #mengurutkan nilai prediction dalam urutan menurun dan mendapatkan nilai indeksnya\n",
    "    return (target.loc[indeks][:n].sum() * income_per_volume) - (biaya_sumur * n)\n",
    "    #mengembalikan nilai profit dengan memroses nilai target dan jumlah sumur"
   ]
  },
  {
   "cell_type": "markdown",
   "metadata": {},
   "source": [
    "## Profit dan risiko setiap wilayah <a name=\"analysis_4\"></a>"
   ]
  },
  {
   "cell_type": "markdown",
   "metadata": {},
   "source": [
    "Kita akan menggunakan teknik bootstrapping untuk membuat sampel (1000 sampel untuk menemukan distribusi profit) dari target dan mengaitkannya dengan nilai prediksi masing-masing dan menghitung profit untuk 200 sumur dengan prediksi paling menguntungkan untuk setiap sampel, serta menyimpan semua nilai profit tersebut dalam sebuah list."
   ]
  },
  {
   "cell_type": "markdown",
   "metadata": {},
   "source": [
    "Perlu diingat bahwa saat menjelajahi wilayah, perlu dilakukan studi terhadap 500 titik dengan memilih 200 titik terbaik untuk perhitungan profit."
   ]
  },
  {
   "cell_type": "markdown",
   "metadata": {},
   "source": [
    "**Step 3.6**\n",
    "Membuat fungsi rev_bootstr dengan argument target dan predictions."
   ]
  },
  {
   "cell_type": "code",
   "execution_count": 23,
   "metadata": {},
   "outputs": [
    {
     "data": {
      "image/png": "[encoded data removed]",
      "text/plain": [
       "<Figure size 640x480 with 1 Axes>"
      ]
     },
     "metadata": {},
     "output_type": "display_data"
    },
    {
     "data": {
      "image/png": "[encoded data removed]",
      "text/plain": [
       "<Figure size 640x480 with 1 Axes>"
      ]
     },
     "metadata": {},
     "output_type": "display_data"
    },
    {
     "data": {
      "image/png": "[encoded data removed]",
      "text/plain": [
       "<Figure size 640x480 with 1 Axes>"
      ]
     },
     "metadata": {},
     "output_type": "display_data"
    }
   ],
   "source": [
    "def rev_bootstr(target, predictions): \n",
    "#membuat fungsi dengan argument target dan prediction\n",
    "    state = np.random.RandomState(12345) #mwngatur random state\n",
    "    values = [] #membuat list kosong\n",
    "    target = target.reset_index(drop=True) #reset index dari target\n",
    "    \n",
    "    #melakukan bootstrapping\n",
    "    for i in range(1000): \n",
    "    #loop sebanyak 1000 kali\n",
    "        target_sample = target.sample(n=titik, replace=True, random_state=state)\n",
    "        #membuat target_sample dengan 500 titik\n",
    "        pred_sample=predictions[target_sample.index]\n",
    "        #membuat pred_sample yang diasosiasikan dengan nilai target sample\n",
    "        values.append(revenue(target_sample, pred_sample, titik_utama))\n",
    "        #menghitung pendapatan menggunakan fungsi revenue untuk 200 sumur\n",
    "    return pd.Series(values) #mengembalikan list sebagai format series\n",
    "\n",
    "revenues0 = rev_bootstr(t_valid0, pred0) #bootstrap untuk wilayah 0\n",
    "revenues1 = rev_bootstr(t_valid1, pred1) #bootstrap untuk wilayah 1\n",
    "revenues2 = rev_bootstr(t_valid2, pred2) #bootstrap untuk wilayah 2\n",
    "\n",
    "plots = [revenues0, revenues1, revenues2] #list dari variabel bootstrap\n",
    "titles = ['Region 0', 'Region 1', 'Region 2'] #list judul\n",
    "for i in range(3):#loop dari 0 hingga 2\n",
    "    plt.hist(plots[i], bins=20)#membuat grafik histogram dengan 20 bin\n",
    "    plt.title(titles[i])#memberikan judul untuk grafik\n",
    "    plt.xlabel('Revenues')#melabeli sumbu-x 'Revenues' pada grafik \n",
    "    plt.show()#menampilkan grafik"
   ]
  },
  {
   "cell_type": "markdown",
   "metadata": {},
   "source": [
    "Kita dapat melihat bahwa semua wilayah secara umum menguntungkan meskipun terdapat beberapa wilayah yang mengalami kerugian. Untuk setiap wilayah, kita dapat menghitung selang kepercayaan 95%, rata-rata profit, dan risiko kerugian sebagai persentase. Kita mengharapkan wilayah-wilayah ini memiliki risiko kerugian lebih rendah dari 2,5%."
   ]
  },
  {
   "cell_type": "markdown",
   "metadata": {},
   "source": [
    "**Step 3.7**\n",
    "Menghitung rata-rata profit, selang kepercayaan 95%, dan risiko kerugian untuk wilayah 0."
   ]
  },
  {
   "cell_type": "code",
   "execution_count": 24,
   "metadata": {},
   "outputs": [
    {
     "name": "stdout",
     "output_type": "stream",
     "text": [
      "Wilayah 0\n",
      "Rata-rata profit: 3961649.8480237117\n",
      "Selang kepercayaan 95%: [-1112155.4589049604, 9097669.41553423]\n",
      "Risiko kerugian: 0.069\n"
     ]
    }
   ],
   "source": [
    "conf_interval = [revenues0.quantile(0.025), revenues0.quantile(0.975)]\n",
    "#calculates the 95% confidence interval by getting the required percentiles\n",
    "loss_risk = len(revenues0[revenues0 < 0]) / len(revenues0)\n",
    "#calculates the risk of loss by dividing the number of losses by the total number of values from the \n",
    "#bootstrap result\n",
    "print('Wilayah 0')\n",
    "print('Rata-rata profit:', revenues0.mean()) \n",
    "print('Selang kepercayaan 95%:', conf_interval)\n",
    "print('Risiko kerugian:', loss_risk)"
   ]
  },
  {
   "cell_type": "markdown",
   "metadata": {},
   "source": [
    "**Step 3.8**\n",
    "Menghitung rata-rata profit, selang kepercayaan 95%, dan risiko kerugian untuk wilayah 1."
   ]
  },
  {
   "cell_type": "code",
   "execution_count": 25,
   "metadata": {},
   "outputs": [
    {
     "name": "stdout",
     "output_type": "stream",
     "text": [
      "Wilayah 1\n",
      "Rata-rata profit: 4560451.057866608\n",
      "Selang kepercayaan 95%: [338205.0939898458, 8522894.538660347]\n",
      "Risiko kerugian: 0.015\n"
     ]
    }
   ],
   "source": [
    "conf_interval = [revenues1.quantile(0.025), revenues1.quantile(0.975)]\n",
    "loss_risk = len(revenues1[revenues1 < 0]) / len(revenues1)\n",
    "print('Wilayah 1')\n",
    "print('Rata-rata profit:', revenues1.mean()) \n",
    "print('Selang kepercayaan 95%:', conf_interval)\n",
    "print('Risiko kerugian:', loss_risk)"
   ]
  },
  {
   "cell_type": "markdown",
   "metadata": {},
   "source": [
    "**Step 3.9**\n",
    "Menghitung rata-rata profit, selang kepercayaan 95%, dan risiko kerugian untuk wilayah 2."
   ]
  },
  {
   "cell_type": "code",
   "execution_count": 26,
   "metadata": {},
   "outputs": [
    {
     "name": "stdout",
     "output_type": "stream",
     "text": [
      "Wilayah 2\n",
      "Rata-rata profit: 4044038.665683568\n",
      "Selang kepercayaan 95%: [-1633504.1339559986, 9503595.749237997]\n",
      "Risiko kerugian: 0.076\n"
     ]
    }
   ],
   "source": [
    "conf_interval = [revenues2.quantile(0.025), revenues2.quantile(0.975)]\n",
    "loss_risk = len(revenues2[revenues2 < 0]) / len(revenues2)\n",
    "print('Wilayah 2')\n",
    "print('Rata-rata profit:', revenues2.mean()) \n",
    "print('Selang kepercayaan 95%:', conf_interval)\n",
    "print('Risiko kerugian:', loss_risk)"
   ]
  },
  {
   "cell_type": "markdown",
   "metadata": {},
   "source": [
    "### Kesimpulan <a name=\"analysis_conclusion\"></a>"
   ]
  },
  {
   "cell_type": "markdown",
   "metadata": {},
   "source": [
    "Kita dapat menyimpulkan bahwa Wilayah 1 adalah wilayah yang terbaik untuk pengembangan sumur minyak baru karena memiliki risiko kerugian paling kecil (1,5%) dan rata-rata profit terbesar 4560451.057866608 dengan batas selang kepercayaan 95% batas bawah 338205.0939898458 dan batas atas 8522894.538660347 ."
   ]
  },
  {
   "cell_type": "markdown",
   "metadata": {},
   "source": [
    "## Temuan <a name=\"end\"></a>\n",
    "* Kita telah melakukan train model Regresi Linier untuk data dari 3 wilayah\n",
    "* Kita menemukan bahwa satuan 111,11 unit volume cukup untuk membuat sebuah sumur untuk tidak mengalami kerugian\n",
    "* Kita telah melakukan bootstrap nilai target dengan membuat sampel sebanyak 500 nilai dan menggunakan nilai prediksi yang sesuai untuk menghitung nilai profit untuk 200 titik utama.\n",
    "* Dengan menggunakan bootstraps, kita telah menghitung selang kepercayaan, rata-rata profit, dan risiko kerugian. Kita akhirnya menyimpulkan bahwa Wilayah 1 adalah yang terbaik untuk pengembangan sumur minyak baru karena memiliki risiko kerugian paling kecil (1,5%) dan rata-rata profit terbesar 4560451.057866608 dengan batas selang kepercayaan 95% batas bawah 338205.0939898458 dan batas atas 8522894.538660347 ."
   ]
  },
  {
   "cell_type": "markdown",
   "metadata": {},
   "source": [
    "[Kembali ke Daftar Isi](#back)"
   ]
  }
 ],
 "metadata": {
  "kernelspec": {
   "display_name": "Python 3 (ipykernel)",
   "language": "python",
   "name": "python3"
  },
  "language_info": {
   "codemirror_mode": {
    "name": "ipython",
    "version": 3
   },
   "file_extension": ".py",
   "mimetype": "text/x-python",
   "name": "python",
   "nbconvert_exporter": "python",
   "pygments_lexer": "ipython3",
   "version": "3.11.5"
  },
  "toc": {
   "base_numbering": 1,
   "nav_menu": {},
   "number_sections": true,
   "sideBar": true,
   "skip_h1_title": false,
   "title_cell": "Table of Contents",
   "title_sidebar": "Contents",
   "toc_cell": false,
   "toc_position": {},
   "toc_section_display": true,
   "toc_window_display": false
  }
 },
 "nbformat": 4,
 "nbformat_minor": 2
}
