{
 "cells": [
  {
   "cell_type": "markdown",
   "metadata": {},
   "source": [
    "# Daftar Isi <a id='back'></a>\n",
    "\n",
    "* [Pendahuluan](#intro)\n",
    "\n",
    "* [Tahap 1. Ikhtisar Data](#data_review)\n",
    "    * [1.1 Pemeriksaan dataframe train](#datarev_1)\n",
    "    * [1.2 Pemeriksaan dataframe test](#datarev_2)\n",
    "    * [1.3 Pemeriksaan dataframe full](#datarev_3)\n",
    "    * [1.4 Identifikasi kolom yang hilang pada dataframe test](#datarev_4)\n",
    "    * [1.5 Kesimpulan](#datarev_conclusion)\n",
    "\n",
    "* [Tahap 2. Pra-pemrosesan data](#data_preprocessing)\n",
    "    * [2.1 Memverifikasi perhitungan 'rougher output recovery' pada dataframe train](#dataprep_1)\n",
    "    * [2.2 Menangani missing column pada dataframe test](#dataprep_2)\n",
    "    * [2.3 Menangani missing values](#dataprep_3)\n",
    "    * [2.4 Menangani duplicated values](#dataprep_4)\n",
    "    * [2.5 Kesimpulan](#dataprep_conclusion)    \n",
    "    \n",
    "* [Tahap 3. Analisis](#analysis)\n",
    "    * [3.1 Konsentrat emas (Au), perak (Ag), dan timbal (Pb) mengacu pada stage pemurnian](#analysis_1)\n",
    "    * [3.2 Distribusi ukuran partikel feed](#analysis_2)\n",
    "    * [3.3 Total konsentrat seluruh logam di setiap stage yang berbeda](#analysis_3)\n",
    "    * [3.4 Menangani outlier](#analysis_4)\n",
    "    * [3.5 Kesimpulan](#analysis_conclusion)\n",
    "\n",
    "* [Tahap 4. Pengujian](#test)\n",
    "    * [4.1 Melakukan train model](#test_1)\n",
    "    * [4.2 Melakukan pengujian final](#test_2)\n",
    "\n",
    "* [Temuan](#end)"
   ]
  },
  {
   "cell_type": "markdown",
   "metadata": {},
   "source": [
    "[Kembali ke Daftar Isi](#back)"
   ]
  },
  {
   "cell_type": "markdown",
   "metadata": {},
   "source": [
    "## Pendahuluan <a id='intro'></a>\n",
    "\n",
    "Bijih yang ditambang mengalami pemrosesan primer untuk mendapatkan campuran bijih atau feed yang lebih kasar. Hasil dari proses itu digunakan sebagai bahan baku untuk flotasi (alias proses untuk menghasilkan konsentrat yang lebih kasar). Setelah dilakukan flotasi, hasil partikel-partikelnya pun melewati proses pemurnian dua tahap.\n",
    "\n",
    "1. Flotasi\n",
    "Campuran bijih emas dimasukkan ke dalam tangki pelampung untuk mendapatkan konsentrat Au dan ekor yang lebih kasar (residu produk dengan tingkat konsentrasi logam berharga yang rendah).\n",
    "Kestabilan proses ini dipengaruhi oleh volatilitas dan keadaan fisikokimia yang tidak optimal dari pulp flotasi (campuran partikel padat dan cairan).\n",
    "2. Pemurnian\n",
    "Konsentrat Au yang lebih kasar mengalami dua tahap pemurnian. Setelah proses pemurnian, kita pun akan memiliki tingkat konsentrasi logam akhir dan ekor baru.\n",
    "\n",
    "Peneliti perlu menyimulasikan proses perolehan emas dari bijih emas dengan menggunakan rumus berikut untuk menyimulasikan proses perolehan:\n",
    "\n",
    "Perolehan = ((C * (F - T)) / ((F * (C - T)))) * 100\n",
    "\n",
    "Dengan keterangan sebagai berikut:\n",
    "•\tC — persentase emas dalam konsentrat tepat setelah proses flotasi (untuk menemukan perolehan konsentrat yang lebih kasar)/setelah dilakukan pemurnian (untuk menemukan perolehan konsentrat akhir)\n",
    "•\tF — persentase emas dalam feed sebelum proses flotasi (untuk menemukan perolehan konsentrat yang lebih kasar)/ dalam konsentrat tepat setelah proses flotasi (untuk menemukan perolehan konsentrat akhir)\n",
    "•\tT — persentase emas dalam ekor yang lebih kasar, tepat setelah proses flotasi (untuk menemukan perolehan konsentrat yang lebih kasar)/setelah dilakukan pemurnian (untuk menemukan perolehan konsentrat akhir)\n",
    "Untuk memprediksi koefisiennya, kita perlu menemukan persentase emas dalam konsentrat dan ekornya. Perlu diingat bahwa baik konsentrat akhir maupun konsentrat yang lebih kasar sama-sama penting.\n",
    "\n",
    "Peneliti juga memerlukan metrik yang baru. Metrik tersebut bernama sMAPE (symmetric Mean Absolute Percentage Error) atau kesalahan persentase absolut rata-rata simetris. Metrik sMAPE mirip dengan metrik MAE, hanya saja sMAPE diekspresikan dalam nilai relatif, bukan nilai absolut. Metrik sMAPE disebut simetris karena memperhitungkan skala target maupun prediksi.\n",
    "\n",
    "\n",
    "### Tujuan: \n",
    "Peneliti akan memprediksi konsentrat akhir emas yang diperoleh dari proses pemurnian bijih emas. \n",
    "\n",
    "\n",
    "### Tahapan\n",
    "Peneliti memiliki data yang terdiri dari parameter yang diukur selama proses pemurnian bijih emas seperti konsentrat pada berbagai stage, level tangki pelampung dan lain-lain, dalam *file*:\n",
    "- /datasets/gold_recovery_train.csv\n",
    "- /datasets/gold_recovery_test.csv\n",
    "- /datasets/gold_recovery_full.csv\n",
    "\n",
    "Tidak ada informasi terkait kualitas data tersebut, jadi perlu dilakukan pemeriksaan terlebih dahulu sebelum melakukan analisis lebih lanjut.\n",
    "\n",
    "Pertama akan dilakukan evaluasi kualitas data dan melihat apakah terdapat hal yang signifikan yang perlu dilakukan tindak lanjut sebelum dilakukan proses analisis.\n",
    "\n",
    "Proyek ini akan terdiri dari empat tahap:\n",
    " 1. Ikhtisar Data\n",
    " 2. Pra-pemrosesan Data \n",
    " 3. Analisis\n",
    " 4. Pengujian"
   ]
  },
  {
   "cell_type": "markdown",
   "metadata": {},
   "source": [
    "[Kembali ke Daftar Isi](#back)"
   ]
  },
  {
   "cell_type": "markdown",
   "metadata": {},
   "source": [
    "## Tahap 1. Ikhtisar Data <a name=\"data_review\"></a>"
   ]
  },
  {
   "cell_type": "markdown",
   "metadata": {},
   "source": [
    "**Step 1.1**\n",
    "Melakukan import libraries dan modules yang diperlukan"
   ]
  },
  {
   "cell_type": "code",
   "execution_count": 1,
   "metadata": {},
   "outputs": [],
   "source": [
    "import pandas as pd\n",
    "import numpy as np\n",
    "import matplotlib.pyplot as plt\n",
    "from sklearn.linear_model import LinearRegression\n",
    "from sklearn.tree import DecisionTreeRegressor\n",
    "from sklearn.ensemble import RandomForestRegressor\n",
    "from numpy.random import RandomState\n",
    "from sklearn.metrics import mean_absolute_error\n",
    "from sklearn.model_selection import cross_val_score\n",
    "from sklearn.preprocessing import StandardScaler\n",
    "from sklearn.metrics import make_scorer"
   ]
  },
  {
   "cell_type": "markdown",
   "metadata": {},
   "source": [
    "**Step 1.2**\n",
    "Melakukan load data yang diperlukan dari file *gold_recovery_train.csv*, *gold_recovery_test.csv*, dan *gold_recovery_full.csv* dan menyimpan ke dalam dataframe train, test, dan full."
   ]
  },
  {
   "cell_type": "code",
   "execution_count": 2,
   "metadata": {},
   "outputs": [],
   "source": [
    "try:\n",
    "    train = pd.read_csv('gold_recovery_train.csv', index_col='date')\n",
    "except:\n",
    "    train = pd.read_csv('/datasets/gold_recovery_train.csv', index_col='date')\n",
    "#membaca gold_recovery_train.csv dan konversi ke dataframe train dengan index kolom date\n",
    "\n",
    "try:\n",
    "    test = pd.read_csv('gold_recovery_test.csv', index_col='date')\n",
    "except:\n",
    "    test = pd.read_csv('/datasets/gold_recovery_test.csv', index_col='date')\n",
    "#membaca gold_recovery_test.csv dan konversi ke dataframe test dengan index kolom date\n",
    "\n",
    "try:\n",
    "    full = pd.read_csv('gold_recovery_full.csv', index_col='date')\n",
    "except:\n",
    "    full = pd.read_csv('/datasets/gold_recovery_full.csv', index_col='date')\n",
    "#membaca gold_recovery_full.csv dan konversi ke dataframe full dengan index kolom date"
   ]
  },
  {
   "cell_type": "markdown",
   "metadata": {},
   "source": [
    "### Pemeriksaan dataframe train <a name=\"datarev_1\"></a>"
   ]
  },
  {
   "cell_type": "markdown",
   "metadata": {},
   "source": [
    "**Step 1.3**\n",
    "Melakukan pemeriksaan terhadap dataframe train."
   ]
  },
  {
   "cell_type": "code",
   "execution_count": 3,
   "metadata": {},
   "outputs": [
    {
     "data": {
      "text/html": [
       "<div>\n",
       "<style scoped>\n",
       "    .dataframe tbody tr th:only-of-type {\n",
       "        vertical-align: middle;\n",
       "    }\n",
       "\n",
       "    .dataframe tbody tr th {\n",
       "        vertical-align: top;\n",
       "    }\n",
       "\n",
       "    .dataframe thead th {\n",
       "        text-align: right;\n",
       "    }\n",
       "</style>\n",
       "<table border=\"1\" class=\"dataframe\">\n",
       "  <thead>\n",
       "    <tr style=\"text-align: right;\">\n",
       "      <th></th>\n",
       "      <th>final.output.concentrate_ag</th>\n",
       "      <th>final.output.concentrate_pb</th>\n",
       "      <th>final.output.concentrate_sol</th>\n",
       "      <th>final.output.concentrate_au</th>\n",
       "      <th>final.output.recovery</th>\n",
       "      <th>final.output.tail_ag</th>\n",
       "      <th>final.output.tail_pb</th>\n",
       "      <th>final.output.tail_sol</th>\n",
       "      <th>final.output.tail_au</th>\n",
       "      <th>primary_cleaner.input.sulfate</th>\n",
       "      <th>...</th>\n",
       "      <th>secondary_cleaner.state.floatbank4_a_air</th>\n",
       "      <th>secondary_cleaner.state.floatbank4_a_level</th>\n",
       "      <th>secondary_cleaner.state.floatbank4_b_air</th>\n",
       "      <th>secondary_cleaner.state.floatbank4_b_level</th>\n",
       "      <th>secondary_cleaner.state.floatbank5_a_air</th>\n",
       "      <th>secondary_cleaner.state.floatbank5_a_level</th>\n",
       "      <th>secondary_cleaner.state.floatbank5_b_air</th>\n",
       "      <th>secondary_cleaner.state.floatbank5_b_level</th>\n",
       "      <th>secondary_cleaner.state.floatbank6_a_air</th>\n",
       "      <th>secondary_cleaner.state.floatbank6_a_level</th>\n",
       "    </tr>\n",
       "    <tr>\n",
       "      <th>date</th>\n",
       "      <th></th>\n",
       "      <th></th>\n",
       "      <th></th>\n",
       "      <th></th>\n",
       "      <th></th>\n",
       "      <th></th>\n",
       "      <th></th>\n",
       "      <th></th>\n",
       "      <th></th>\n",
       "      <th></th>\n",
       "      <th></th>\n",
       "      <th></th>\n",
       "      <th></th>\n",
       "      <th></th>\n",
       "      <th></th>\n",
       "      <th></th>\n",
       "      <th></th>\n",
       "      <th></th>\n",
       "      <th></th>\n",
       "      <th></th>\n",
       "      <th></th>\n",
       "    </tr>\n",
       "  </thead>\n",
       "  <tbody>\n",
       "    <tr>\n",
       "      <th>2016-01-15 00:00:00</th>\n",
       "      <td>6.055403</td>\n",
       "      <td>9.889648</td>\n",
       "      <td>5.507324</td>\n",
       "      <td>42.192020</td>\n",
       "      <td>70.541216</td>\n",
       "      <td>10.411962</td>\n",
       "      <td>0.895447</td>\n",
       "      <td>16.904297</td>\n",
       "      <td>2.143149</td>\n",
       "      <td>127.092003</td>\n",
       "      <td>...</td>\n",
       "      <td>14.016835</td>\n",
       "      <td>-502.488007</td>\n",
       "      <td>12.099931</td>\n",
       "      <td>-504.715942</td>\n",
       "      <td>9.925633</td>\n",
       "      <td>-498.310211</td>\n",
       "      <td>8.079666</td>\n",
       "      <td>-500.470978</td>\n",
       "      <td>14.151341</td>\n",
       "      <td>-605.841980</td>\n",
       "    </tr>\n",
       "    <tr>\n",
       "      <th>2016-01-15 01:00:00</th>\n",
       "      <td>6.029369</td>\n",
       "      <td>9.968944</td>\n",
       "      <td>5.257781</td>\n",
       "      <td>42.701629</td>\n",
       "      <td>69.266198</td>\n",
       "      <td>10.462676</td>\n",
       "      <td>0.927452</td>\n",
       "      <td>16.634514</td>\n",
       "      <td>2.224930</td>\n",
       "      <td>125.629232</td>\n",
       "      <td>...</td>\n",
       "      <td>13.992281</td>\n",
       "      <td>-505.503262</td>\n",
       "      <td>11.950531</td>\n",
       "      <td>-501.331529</td>\n",
       "      <td>10.039245</td>\n",
       "      <td>-500.169983</td>\n",
       "      <td>7.984757</td>\n",
       "      <td>-500.582168</td>\n",
       "      <td>13.998353</td>\n",
       "      <td>-599.787184</td>\n",
       "    </tr>\n",
       "    <tr>\n",
       "      <th>2016-01-15 02:00:00</th>\n",
       "      <td>6.055926</td>\n",
       "      <td>10.213995</td>\n",
       "      <td>5.383759</td>\n",
       "      <td>42.657501</td>\n",
       "      <td>68.116445</td>\n",
       "      <td>10.507046</td>\n",
       "      <td>0.953716</td>\n",
       "      <td>16.208849</td>\n",
       "      <td>2.257889</td>\n",
       "      <td>123.819808</td>\n",
       "      <td>...</td>\n",
       "      <td>14.015015</td>\n",
       "      <td>-502.520901</td>\n",
       "      <td>11.912783</td>\n",
       "      <td>-501.133383</td>\n",
       "      <td>10.070913</td>\n",
       "      <td>-500.129135</td>\n",
       "      <td>8.013877</td>\n",
       "      <td>-500.517572</td>\n",
       "      <td>14.028663</td>\n",
       "      <td>-601.427363</td>\n",
       "    </tr>\n",
       "    <tr>\n",
       "      <th>2016-01-15 03:00:00</th>\n",
       "      <td>6.047977</td>\n",
       "      <td>9.977019</td>\n",
       "      <td>4.858634</td>\n",
       "      <td>42.689819</td>\n",
       "      <td>68.347543</td>\n",
       "      <td>10.422762</td>\n",
       "      <td>0.883763</td>\n",
       "      <td>16.532835</td>\n",
       "      <td>2.146849</td>\n",
       "      <td>122.270188</td>\n",
       "      <td>...</td>\n",
       "      <td>14.036510</td>\n",
       "      <td>-500.857308</td>\n",
       "      <td>11.999550</td>\n",
       "      <td>-501.193686</td>\n",
       "      <td>9.970366</td>\n",
       "      <td>-499.201640</td>\n",
       "      <td>7.977324</td>\n",
       "      <td>-500.255908</td>\n",
       "      <td>14.005551</td>\n",
       "      <td>-599.996129</td>\n",
       "    </tr>\n",
       "    <tr>\n",
       "      <th>2016-01-15 04:00:00</th>\n",
       "      <td>6.148599</td>\n",
       "      <td>10.142511</td>\n",
       "      <td>4.939416</td>\n",
       "      <td>42.774141</td>\n",
       "      <td>66.927016</td>\n",
       "      <td>10.360302</td>\n",
       "      <td>0.792826</td>\n",
       "      <td>16.525686</td>\n",
       "      <td>2.055292</td>\n",
       "      <td>117.988169</td>\n",
       "      <td>...</td>\n",
       "      <td>14.027298</td>\n",
       "      <td>-499.838632</td>\n",
       "      <td>11.953070</td>\n",
       "      <td>-501.053894</td>\n",
       "      <td>9.925709</td>\n",
       "      <td>-501.686727</td>\n",
       "      <td>7.894242</td>\n",
       "      <td>-500.356035</td>\n",
       "      <td>13.996647</td>\n",
       "      <td>-601.496691</td>\n",
       "    </tr>\n",
       "  </tbody>\n",
       "</table>\n",
       "<p>5 rows × 86 columns</p>\n",
       "</div>"
      ],
      "text/plain": [
       "                     final.output.concentrate_ag  final.output.concentrate_pb  \\\n",
       "date                                                                            \n",
       "2016-01-15 00:00:00                     6.055403                     9.889648   \n",
       "2016-01-15 01:00:00                     6.029369                     9.968944   \n",
       "2016-01-15 02:00:00                     6.055926                    10.213995   \n",
       "2016-01-15 03:00:00                     6.047977                     9.977019   \n",
       "2016-01-15 04:00:00                     6.148599                    10.142511   \n",
       "\n",
       "                     final.output.concentrate_sol  \\\n",
       "date                                                \n",
       "2016-01-15 00:00:00                      5.507324   \n",
       "2016-01-15 01:00:00                      5.257781   \n",
       "2016-01-15 02:00:00                      5.383759   \n",
       "2016-01-15 03:00:00                      4.858634   \n",
       "2016-01-15 04:00:00                      4.939416   \n",
       "\n",
       "                     final.output.concentrate_au  final.output.recovery  \\\n",
       "date                                                                      \n",
       "2016-01-15 00:00:00                    42.192020              70.541216   \n",
       "2016-01-15 01:00:00                    42.701629              69.266198   \n",
       "2016-01-15 02:00:00                    42.657501              68.116445   \n",
       "2016-01-15 03:00:00                    42.689819              68.347543   \n",
       "2016-01-15 04:00:00                    42.774141              66.927016   \n",
       "\n",
       "                     final.output.tail_ag  final.output.tail_pb  \\\n",
       "date                                                              \n",
       "2016-01-15 00:00:00             10.411962              0.895447   \n",
       "2016-01-15 01:00:00             10.462676              0.927452   \n",
       "2016-01-15 02:00:00             10.507046              0.953716   \n",
       "2016-01-15 03:00:00             10.422762              0.883763   \n",
       "2016-01-15 04:00:00             10.360302              0.792826   \n",
       "\n",
       "                     final.output.tail_sol  final.output.tail_au  \\\n",
       "date                                                               \n",
       "2016-01-15 00:00:00              16.904297              2.143149   \n",
       "2016-01-15 01:00:00              16.634514              2.224930   \n",
       "2016-01-15 02:00:00              16.208849              2.257889   \n",
       "2016-01-15 03:00:00              16.532835              2.146849   \n",
       "2016-01-15 04:00:00              16.525686              2.055292   \n",
       "\n",
       "                     primary_cleaner.input.sulfate  ...  \\\n",
       "date                                                ...   \n",
       "2016-01-15 00:00:00                     127.092003  ...   \n",
       "2016-01-15 01:00:00                     125.629232  ...   \n",
       "2016-01-15 02:00:00                     123.819808  ...   \n",
       "2016-01-15 03:00:00                     122.270188  ...   \n",
       "2016-01-15 04:00:00                     117.988169  ...   \n",
       "\n",
       "                     secondary_cleaner.state.floatbank4_a_air  \\\n",
       "date                                                            \n",
       "2016-01-15 00:00:00                                 14.016835   \n",
       "2016-01-15 01:00:00                                 13.992281   \n",
       "2016-01-15 02:00:00                                 14.015015   \n",
       "2016-01-15 03:00:00                                 14.036510   \n",
       "2016-01-15 04:00:00                                 14.027298   \n",
       "\n",
       "                     secondary_cleaner.state.floatbank4_a_level  \\\n",
       "date                                                              \n",
       "2016-01-15 00:00:00                                 -502.488007   \n",
       "2016-01-15 01:00:00                                 -505.503262   \n",
       "2016-01-15 02:00:00                                 -502.520901   \n",
       "2016-01-15 03:00:00                                 -500.857308   \n",
       "2016-01-15 04:00:00                                 -499.838632   \n",
       "\n",
       "                     secondary_cleaner.state.floatbank4_b_air  \\\n",
       "date                                                            \n",
       "2016-01-15 00:00:00                                 12.099931   \n",
       "2016-01-15 01:00:00                                 11.950531   \n",
       "2016-01-15 02:00:00                                 11.912783   \n",
       "2016-01-15 03:00:00                                 11.999550   \n",
       "2016-01-15 04:00:00                                 11.953070   \n",
       "\n",
       "                     secondary_cleaner.state.floatbank4_b_level  \\\n",
       "date                                                              \n",
       "2016-01-15 00:00:00                                 -504.715942   \n",
       "2016-01-15 01:00:00                                 -501.331529   \n",
       "2016-01-15 02:00:00                                 -501.133383   \n",
       "2016-01-15 03:00:00                                 -501.193686   \n",
       "2016-01-15 04:00:00                                 -501.053894   \n",
       "\n",
       "                     secondary_cleaner.state.floatbank5_a_air  \\\n",
       "date                                                            \n",
       "2016-01-15 00:00:00                                  9.925633   \n",
       "2016-01-15 01:00:00                                 10.039245   \n",
       "2016-01-15 02:00:00                                 10.070913   \n",
       "2016-01-15 03:00:00                                  9.970366   \n",
       "2016-01-15 04:00:00                                  9.925709   \n",
       "\n",
       "                     secondary_cleaner.state.floatbank5_a_level  \\\n",
       "date                                                              \n",
       "2016-01-15 00:00:00                                 -498.310211   \n",
       "2016-01-15 01:00:00                                 -500.169983   \n",
       "2016-01-15 02:00:00                                 -500.129135   \n",
       "2016-01-15 03:00:00                                 -499.201640   \n",
       "2016-01-15 04:00:00                                 -501.686727   \n",
       "\n",
       "                     secondary_cleaner.state.floatbank5_b_air  \\\n",
       "date                                                            \n",
       "2016-01-15 00:00:00                                  8.079666   \n",
       "2016-01-15 01:00:00                                  7.984757   \n",
       "2016-01-15 02:00:00                                  8.013877   \n",
       "2016-01-15 03:00:00                                  7.977324   \n",
       "2016-01-15 04:00:00                                  7.894242   \n",
       "\n",
       "                     secondary_cleaner.state.floatbank5_b_level  \\\n",
       "date                                                              \n",
       "2016-01-15 00:00:00                                 -500.470978   \n",
       "2016-01-15 01:00:00                                 -500.582168   \n",
       "2016-01-15 02:00:00                                 -500.517572   \n",
       "2016-01-15 03:00:00                                 -500.255908   \n",
       "2016-01-15 04:00:00                                 -500.356035   \n",
       "\n",
       "                     secondary_cleaner.state.floatbank6_a_air  \\\n",
       "date                                                            \n",
       "2016-01-15 00:00:00                                 14.151341   \n",
       "2016-01-15 01:00:00                                 13.998353   \n",
       "2016-01-15 02:00:00                                 14.028663   \n",
       "2016-01-15 03:00:00                                 14.005551   \n",
       "2016-01-15 04:00:00                                 13.996647   \n",
       "\n",
       "                     secondary_cleaner.state.floatbank6_a_level  \n",
       "date                                                             \n",
       "2016-01-15 00:00:00                                 -605.841980  \n",
       "2016-01-15 01:00:00                                 -599.787184  \n",
       "2016-01-15 02:00:00                                 -601.427363  \n",
       "2016-01-15 03:00:00                                 -599.996129  \n",
       "2016-01-15 04:00:00                                 -601.496691  \n",
       "\n",
       "[5 rows x 86 columns]"
      ]
     },
     "execution_count": 3,
     "metadata": {},
     "output_type": "execute_result"
    }
   ],
   "source": [
    "train.head() #melihat 5 baris awal dataframe train"
   ]
  },
  {
   "cell_type": "code",
   "execution_count": 4,
   "metadata": {},
   "outputs": [
    {
     "name": "stdout",
     "output_type": "stream",
     "text": [
      "<class 'pandas.core.frame.DataFrame'>\n",
      "Index: 16860 entries, 2016-01-15 00:00:00 to 2018-08-18 10:59:59\n",
      "Data columns (total 86 columns):\n",
      " #   Column                                              Non-Null Count  Dtype  \n",
      "---  ------                                              --------------  -----  \n",
      " 0   final.output.concentrate_ag                         16788 non-null  float64\n",
      " 1   final.output.concentrate_pb                         16788 non-null  float64\n",
      " 2   final.output.concentrate_sol                        16490 non-null  float64\n",
      " 3   final.output.concentrate_au                         16789 non-null  float64\n",
      " 4   final.output.recovery                               15339 non-null  float64\n",
      " 5   final.output.tail_ag                                16794 non-null  float64\n",
      " 6   final.output.tail_pb                                16677 non-null  float64\n",
      " 7   final.output.tail_sol                               16715 non-null  float64\n",
      " 8   final.output.tail_au                                16794 non-null  float64\n",
      " 9   primary_cleaner.input.sulfate                       15553 non-null  float64\n",
      " 10  primary_cleaner.input.depressant                    15598 non-null  float64\n",
      " 11  primary_cleaner.input.feed_size                     16860 non-null  float64\n",
      " 12  primary_cleaner.input.xanthate                      15875 non-null  float64\n",
      " 13  primary_cleaner.output.concentrate_ag               16778 non-null  float64\n",
      " 14  primary_cleaner.output.concentrate_pb               16502 non-null  float64\n",
      " 15  primary_cleaner.output.concentrate_sol              16224 non-null  float64\n",
      " 16  primary_cleaner.output.concentrate_au               16778 non-null  float64\n",
      " 17  primary_cleaner.output.tail_ag                      16777 non-null  float64\n",
      " 18  primary_cleaner.output.tail_pb                      16761 non-null  float64\n",
      " 19  primary_cleaner.output.tail_sol                     16579 non-null  float64\n",
      " 20  primary_cleaner.output.tail_au                      16777 non-null  float64\n",
      " 21  primary_cleaner.state.floatbank8_a_air              16820 non-null  float64\n",
      " 22  primary_cleaner.state.floatbank8_a_level            16827 non-null  float64\n",
      " 23  primary_cleaner.state.floatbank8_b_air              16820 non-null  float64\n",
      " 24  primary_cleaner.state.floatbank8_b_level            16833 non-null  float64\n",
      " 25  primary_cleaner.state.floatbank8_c_air              16822 non-null  float64\n",
      " 26  primary_cleaner.state.floatbank8_c_level            16833 non-null  float64\n",
      " 27  primary_cleaner.state.floatbank8_d_air              16821 non-null  float64\n",
      " 28  primary_cleaner.state.floatbank8_d_level            16833 non-null  float64\n",
      " 29  rougher.calculation.sulfate_to_au_concentrate       16833 non-null  float64\n",
      " 30  rougher.calculation.floatbank10_sulfate_to_au_feed  16833 non-null  float64\n",
      " 31  rougher.calculation.floatbank11_sulfate_to_au_feed  16833 non-null  float64\n",
      " 32  rougher.calculation.au_pb_ratio                     15618 non-null  float64\n",
      " 33  rougher.input.feed_ag                               16778 non-null  float64\n",
      " 34  rougher.input.feed_pb                               16632 non-null  float64\n",
      " 35  rougher.input.feed_rate                             16347 non-null  float64\n",
      " 36  rougher.input.feed_size                             16443 non-null  float64\n",
      " 37  rougher.input.feed_sol                              16568 non-null  float64\n",
      " 38  rougher.input.feed_au                               16777 non-null  float64\n",
      " 39  rougher.input.floatbank10_sulfate                   15816 non-null  float64\n",
      " 40  rougher.input.floatbank10_xanthate                  16514 non-null  float64\n",
      " 41  rougher.input.floatbank11_sulfate                   16237 non-null  float64\n",
      " 42  rougher.input.floatbank11_xanthate                  14956 non-null  float64\n",
      " 43  rougher.output.concentrate_ag                       16778 non-null  float64\n",
      " 44  rougher.output.concentrate_pb                       16778 non-null  float64\n",
      " 45  rougher.output.concentrate_sol                      16698 non-null  float64\n",
      " 46  rougher.output.concentrate_au                       16778 non-null  float64\n",
      " 47  rougher.output.recovery                             14287 non-null  float64\n",
      " 48  rougher.output.tail_ag                              14610 non-null  float64\n",
      " 49  rougher.output.tail_pb                              16778 non-null  float64\n",
      " 50  rougher.output.tail_sol                             14611 non-null  float64\n",
      " 51  rougher.output.tail_au                              14611 non-null  float64\n",
      " 52  rougher.state.floatbank10_a_air                     16807 non-null  float64\n",
      " 53  rougher.state.floatbank10_a_level                   16807 non-null  float64\n",
      " 54  rougher.state.floatbank10_b_air                     16807 non-null  float64\n",
      " 55  rougher.state.floatbank10_b_level                   16807 non-null  float64\n",
      " 56  rougher.state.floatbank10_c_air                     16807 non-null  float64\n",
      " 57  rougher.state.floatbank10_c_level                   16814 non-null  float64\n",
      " 58  rougher.state.floatbank10_d_air                     16802 non-null  float64\n",
      " 59  rougher.state.floatbank10_d_level                   16809 non-null  float64\n",
      " 60  rougher.state.floatbank10_e_air                     16257 non-null  float64\n",
      " 61  rougher.state.floatbank10_e_level                   16809 non-null  float64\n",
      " 62  rougher.state.floatbank10_f_air                     16802 non-null  float64\n",
      " 63  rougher.state.floatbank10_f_level                   16802 non-null  float64\n",
      " 64  secondary_cleaner.output.tail_ag                    16776 non-null  float64\n",
      " 65  secondary_cleaner.output.tail_pb                    16764 non-null  float64\n",
      " 66  secondary_cleaner.output.tail_sol                   14874 non-null  float64\n",
      " 67  secondary_cleaner.output.tail_au                    16778 non-null  float64\n",
      " 68  secondary_cleaner.state.floatbank2_a_air            16497 non-null  float64\n",
      " 69  secondary_cleaner.state.floatbank2_a_level          16751 non-null  float64\n",
      " 70  secondary_cleaner.state.floatbank2_b_air            16705 non-null  float64\n",
      " 71  secondary_cleaner.state.floatbank2_b_level          16748 non-null  float64\n",
      " 72  secondary_cleaner.state.floatbank3_a_air            16763 non-null  float64\n",
      " 73  secondary_cleaner.state.floatbank3_a_level          16747 non-null  float64\n",
      " 74  secondary_cleaner.state.floatbank3_b_air            16752 non-null  float64\n",
      " 75  secondary_cleaner.state.floatbank3_b_level          16750 non-null  float64\n",
      " 76  secondary_cleaner.state.floatbank4_a_air            16731 non-null  float64\n",
      " 77  secondary_cleaner.state.floatbank4_a_level          16747 non-null  float64\n",
      " 78  secondary_cleaner.state.floatbank4_b_air            16768 non-null  float64\n",
      " 79  secondary_cleaner.state.floatbank4_b_level          16767 non-null  float64\n",
      " 80  secondary_cleaner.state.floatbank5_a_air            16775 non-null  float64\n",
      " 81  secondary_cleaner.state.floatbank5_a_level          16775 non-null  float64\n",
      " 82  secondary_cleaner.state.floatbank5_b_air            16775 non-null  float64\n",
      " 83  secondary_cleaner.state.floatbank5_b_level          16776 non-null  float64\n",
      " 84  secondary_cleaner.state.floatbank6_a_air            16757 non-null  float64\n",
      " 85  secondary_cleaner.state.floatbank6_a_level          16775 non-null  float64\n",
      "dtypes: float64(86)\n",
      "memory usage: 11.2+ MB\n"
     ]
    }
   ],
   "source": [
    "train.info() #informasi umum tentang dataframe train"
   ]
  },
  {
   "cell_type": "code",
   "execution_count": 5,
   "metadata": {},
   "outputs": [
    {
     "name": "stdout",
     "output_type": "stream",
     "text": [
      "final.output.concentrate_ag                             72\n",
      "final.output.concentrate_pb                             72\n",
      "final.output.concentrate_sol                           370\n",
      "final.output.concentrate_au                             71\n",
      "final.output.recovery                                 1521\n",
      "final.output.tail_ag                                    66\n",
      "final.output.tail_pb                                   183\n",
      "final.output.tail_sol                                  145\n",
      "final.output.tail_au                                    66\n",
      "primary_cleaner.input.sulfate                         1307\n",
      "primary_cleaner.input.depressant                      1262\n",
      "primary_cleaner.input.feed_size                          0\n",
      "primary_cleaner.input.xanthate                         985\n",
      "primary_cleaner.output.concentrate_ag                   82\n",
      "primary_cleaner.output.concentrate_pb                  358\n",
      "primary_cleaner.output.concentrate_sol                 636\n",
      "primary_cleaner.output.concentrate_au                   82\n",
      "primary_cleaner.output.tail_ag                          83\n",
      "primary_cleaner.output.tail_pb                          99\n",
      "primary_cleaner.output.tail_sol                        281\n",
      "primary_cleaner.output.tail_au                          83\n",
      "primary_cleaner.state.floatbank8_a_air                  40\n",
      "primary_cleaner.state.floatbank8_a_level                33\n",
      "primary_cleaner.state.floatbank8_b_air                  40\n",
      "primary_cleaner.state.floatbank8_b_level                27\n",
      "primary_cleaner.state.floatbank8_c_air                  38\n",
      "primary_cleaner.state.floatbank8_c_level                27\n",
      "primary_cleaner.state.floatbank8_d_air                  39\n",
      "primary_cleaner.state.floatbank8_d_level                27\n",
      "rougher.calculation.sulfate_to_au_concentrate           27\n",
      "rougher.calculation.floatbank10_sulfate_to_au_feed      27\n",
      "rougher.calculation.floatbank11_sulfate_to_au_feed      27\n",
      "rougher.calculation.au_pb_ratio                       1242\n",
      "rougher.input.feed_ag                                   82\n",
      "rougher.input.feed_pb                                  228\n",
      "rougher.input.feed_rate                                513\n",
      "rougher.input.feed_size                                417\n",
      "rougher.input.feed_sol                                 292\n",
      "rougher.input.feed_au                                   83\n",
      "rougher.input.floatbank10_sulfate                     1044\n",
      "rougher.input.floatbank10_xanthate                     346\n",
      "rougher.input.floatbank11_sulfate                      623\n",
      "rougher.input.floatbank11_xanthate                    1904\n",
      "rougher.output.concentrate_ag                           82\n",
      "rougher.output.concentrate_pb                           82\n",
      "rougher.output.concentrate_sol                         162\n",
      "rougher.output.concentrate_au                           82\n",
      "rougher.output.recovery                               2573\n",
      "rougher.output.tail_ag                                2250\n",
      "rougher.output.tail_pb                                  82\n",
      "rougher.output.tail_sol                               2249\n",
      "rougher.output.tail_au                                2249\n",
      "rougher.state.floatbank10_a_air                         53\n",
      "rougher.state.floatbank10_a_level                       53\n",
      "rougher.state.floatbank10_b_air                         53\n",
      "rougher.state.floatbank10_b_level                       53\n",
      "rougher.state.floatbank10_c_air                         53\n",
      "rougher.state.floatbank10_c_level                       46\n",
      "rougher.state.floatbank10_d_air                         58\n",
      "rougher.state.floatbank10_d_level                       51\n",
      "dtype: int64\n",
      "rougher.state.floatbank10_e_air                603\n",
      "rougher.state.floatbank10_e_level               51\n",
      "rougher.state.floatbank10_f_air                 58\n",
      "rougher.state.floatbank10_f_level               58\n",
      "secondary_cleaner.output.tail_ag                84\n",
      "secondary_cleaner.output.tail_pb                96\n",
      "secondary_cleaner.output.tail_sol             1986\n",
      "secondary_cleaner.output.tail_au                82\n",
      "secondary_cleaner.state.floatbank2_a_air       363\n",
      "secondary_cleaner.state.floatbank2_a_level     109\n",
      "secondary_cleaner.state.floatbank2_b_air       155\n",
      "secondary_cleaner.state.floatbank2_b_level     112\n",
      "secondary_cleaner.state.floatbank3_a_air        97\n",
      "secondary_cleaner.state.floatbank3_a_level     113\n",
      "secondary_cleaner.state.floatbank3_b_air       108\n",
      "secondary_cleaner.state.floatbank3_b_level     110\n",
      "secondary_cleaner.state.floatbank4_a_air       129\n",
      "secondary_cleaner.state.floatbank4_a_level     113\n",
      "secondary_cleaner.state.floatbank4_b_air        92\n",
      "secondary_cleaner.state.floatbank4_b_level      93\n",
      "secondary_cleaner.state.floatbank5_a_air        85\n",
      "secondary_cleaner.state.floatbank5_a_level      85\n",
      "secondary_cleaner.state.floatbank5_b_air        85\n",
      "secondary_cleaner.state.floatbank5_b_level      84\n",
      "secondary_cleaner.state.floatbank6_a_air       103\n",
      "secondary_cleaner.state.floatbank6_a_level      85\n",
      "dtype: int64\n"
     ]
    }
   ],
   "source": [
    "print(f'{train.isna().sum().head(60)}\\n{train.isna().sum().tail(26)}')\n",
    "#memeriksa detail missing value pada dataframe train"
   ]
  },
  {
   "cell_type": "code",
   "execution_count": 6,
   "metadata": {},
   "outputs": [
    {
     "data": {
      "text/plain": [
       "16"
      ]
     },
     "execution_count": 6,
     "metadata": {},
     "output_type": "execute_result"
    }
   ],
   "source": [
    "train.duplicated().sum()\n",
    "#memeriksa duplicated value pada dataframe train"
   ]
  },
  {
   "cell_type": "markdown",
   "metadata": {},
   "source": [
    "Terdapat missing values dan duplicated values pada dataframe train yang akan diolah lebih lanjut."
   ]
  },
  {
   "cell_type": "markdown",
   "metadata": {},
   "source": [
    "### Pemeriksaan dataframe test <a name=\"datarev_2\"></a>"
   ]
  },
  {
   "cell_type": "markdown",
   "metadata": {},
   "source": [
    "**Step 1.4**\n",
    "Melakukan pemeriksaan terhadap dataframe test."
   ]
  },
  {
   "cell_type": "code",
   "execution_count": 7,
   "metadata": {},
   "outputs": [
    {
     "data": {
      "text/html": [
       "<div>\n",
       "<style scoped>\n",
       "    .dataframe tbody tr th:only-of-type {\n",
       "        vertical-align: middle;\n",
       "    }\n",
       "\n",
       "    .dataframe tbody tr th {\n",
       "        vertical-align: top;\n",
       "    }\n",
       "\n",
       "    .dataframe thead th {\n",
       "        text-align: right;\n",
       "    }\n",
       "</style>\n",
       "<table border=\"1\" class=\"dataframe\">\n",
       "  <thead>\n",
       "    <tr style=\"text-align: right;\">\n",
       "      <th></th>\n",
       "      <th>primary_cleaner.input.sulfate</th>\n",
       "      <th>primary_cleaner.input.depressant</th>\n",
       "      <th>primary_cleaner.input.feed_size</th>\n",
       "      <th>primary_cleaner.input.xanthate</th>\n",
       "      <th>primary_cleaner.state.floatbank8_a_air</th>\n",
       "      <th>primary_cleaner.state.floatbank8_a_level</th>\n",
       "      <th>primary_cleaner.state.floatbank8_b_air</th>\n",
       "      <th>primary_cleaner.state.floatbank8_b_level</th>\n",
       "      <th>primary_cleaner.state.floatbank8_c_air</th>\n",
       "      <th>primary_cleaner.state.floatbank8_c_level</th>\n",
       "      <th>...</th>\n",
       "      <th>secondary_cleaner.state.floatbank4_a_air</th>\n",
       "      <th>secondary_cleaner.state.floatbank4_a_level</th>\n",
       "      <th>secondary_cleaner.state.floatbank4_b_air</th>\n",
       "      <th>secondary_cleaner.state.floatbank4_b_level</th>\n",
       "      <th>secondary_cleaner.state.floatbank5_a_air</th>\n",
       "      <th>secondary_cleaner.state.floatbank5_a_level</th>\n",
       "      <th>secondary_cleaner.state.floatbank5_b_air</th>\n",
       "      <th>secondary_cleaner.state.floatbank5_b_level</th>\n",
       "      <th>secondary_cleaner.state.floatbank6_a_air</th>\n",
       "      <th>secondary_cleaner.state.floatbank6_a_level</th>\n",
       "    </tr>\n",
       "    <tr>\n",
       "      <th>date</th>\n",
       "      <th></th>\n",
       "      <th></th>\n",
       "      <th></th>\n",
       "      <th></th>\n",
       "      <th></th>\n",
       "      <th></th>\n",
       "      <th></th>\n",
       "      <th></th>\n",
       "      <th></th>\n",
       "      <th></th>\n",
       "      <th></th>\n",
       "      <th></th>\n",
       "      <th></th>\n",
       "      <th></th>\n",
       "      <th></th>\n",
       "      <th></th>\n",
       "      <th></th>\n",
       "      <th></th>\n",
       "      <th></th>\n",
       "      <th></th>\n",
       "      <th></th>\n",
       "    </tr>\n",
       "  </thead>\n",
       "  <tbody>\n",
       "    <tr>\n",
       "      <th>2016-09-01 00:59:59</th>\n",
       "      <td>210.800909</td>\n",
       "      <td>14.993118</td>\n",
       "      <td>8.080000</td>\n",
       "      <td>1.005021</td>\n",
       "      <td>1398.981301</td>\n",
       "      <td>-500.225577</td>\n",
       "      <td>1399.144926</td>\n",
       "      <td>-499.919735</td>\n",
       "      <td>1400.102998</td>\n",
       "      <td>-500.704369</td>\n",
       "      <td>...</td>\n",
       "      <td>12.023554</td>\n",
       "      <td>-497.795834</td>\n",
       "      <td>8.016656</td>\n",
       "      <td>-501.289139</td>\n",
       "      <td>7.946562</td>\n",
       "      <td>-432.317850</td>\n",
       "      <td>4.872511</td>\n",
       "      <td>-500.037437</td>\n",
       "      <td>26.705889</td>\n",
       "      <td>-499.709414</td>\n",
       "    </tr>\n",
       "    <tr>\n",
       "      <th>2016-09-01 01:59:59</th>\n",
       "      <td>215.392455</td>\n",
       "      <td>14.987471</td>\n",
       "      <td>8.080000</td>\n",
       "      <td>0.990469</td>\n",
       "      <td>1398.777912</td>\n",
       "      <td>-500.057435</td>\n",
       "      <td>1398.055362</td>\n",
       "      <td>-499.778182</td>\n",
       "      <td>1396.151033</td>\n",
       "      <td>-499.240168</td>\n",
       "      <td>...</td>\n",
       "      <td>12.058140</td>\n",
       "      <td>-498.695773</td>\n",
       "      <td>8.130979</td>\n",
       "      <td>-499.634209</td>\n",
       "      <td>7.958270</td>\n",
       "      <td>-525.839648</td>\n",
       "      <td>4.878850</td>\n",
       "      <td>-500.162375</td>\n",
       "      <td>25.019940</td>\n",
       "      <td>-499.819438</td>\n",
       "    </tr>\n",
       "    <tr>\n",
       "      <th>2016-09-01 02:59:59</th>\n",
       "      <td>215.259946</td>\n",
       "      <td>12.884934</td>\n",
       "      <td>7.786667</td>\n",
       "      <td>0.996043</td>\n",
       "      <td>1398.493666</td>\n",
       "      <td>-500.868360</td>\n",
       "      <td>1398.860436</td>\n",
       "      <td>-499.764529</td>\n",
       "      <td>1398.075709</td>\n",
       "      <td>-502.151509</td>\n",
       "      <td>...</td>\n",
       "      <td>11.962366</td>\n",
       "      <td>-498.767484</td>\n",
       "      <td>8.096893</td>\n",
       "      <td>-500.827423</td>\n",
       "      <td>8.071056</td>\n",
       "      <td>-500.801673</td>\n",
       "      <td>4.905125</td>\n",
       "      <td>-499.828510</td>\n",
       "      <td>24.994862</td>\n",
       "      <td>-500.622559</td>\n",
       "    </tr>\n",
       "    <tr>\n",
       "      <th>2016-09-01 03:59:59</th>\n",
       "      <td>215.336236</td>\n",
       "      <td>12.006805</td>\n",
       "      <td>7.640000</td>\n",
       "      <td>0.863514</td>\n",
       "      <td>1399.618111</td>\n",
       "      <td>-498.863574</td>\n",
       "      <td>1397.440120</td>\n",
       "      <td>-499.211024</td>\n",
       "      <td>1400.129303</td>\n",
       "      <td>-498.355873</td>\n",
       "      <td>...</td>\n",
       "      <td>12.033091</td>\n",
       "      <td>-498.350935</td>\n",
       "      <td>8.074946</td>\n",
       "      <td>-499.474407</td>\n",
       "      <td>7.897085</td>\n",
       "      <td>-500.868509</td>\n",
       "      <td>4.931400</td>\n",
       "      <td>-499.963623</td>\n",
       "      <td>24.948919</td>\n",
       "      <td>-498.709987</td>\n",
       "    </tr>\n",
       "    <tr>\n",
       "      <th>2016-09-01 04:59:59</th>\n",
       "      <td>199.099327</td>\n",
       "      <td>10.682530</td>\n",
       "      <td>7.530000</td>\n",
       "      <td>0.805575</td>\n",
       "      <td>1401.268123</td>\n",
       "      <td>-500.808305</td>\n",
       "      <td>1398.128818</td>\n",
       "      <td>-499.504543</td>\n",
       "      <td>1402.172226</td>\n",
       "      <td>-500.810606</td>\n",
       "      <td>...</td>\n",
       "      <td>12.025367</td>\n",
       "      <td>-500.786497</td>\n",
       "      <td>8.054678</td>\n",
       "      <td>-500.397500</td>\n",
       "      <td>8.107890</td>\n",
       "      <td>-509.526725</td>\n",
       "      <td>4.957674</td>\n",
       "      <td>-500.360026</td>\n",
       "      <td>25.003331</td>\n",
       "      <td>-500.856333</td>\n",
       "    </tr>\n",
       "  </tbody>\n",
       "</table>\n",
       "<p>5 rows × 52 columns</p>\n",
       "</div>"
      ],
      "text/plain": [
       "                     primary_cleaner.input.sulfate  \\\n",
       "date                                                 \n",
       "2016-09-01 00:59:59                     210.800909   \n",
       "2016-09-01 01:59:59                     215.392455   \n",
       "2016-09-01 02:59:59                     215.259946   \n",
       "2016-09-01 03:59:59                     215.336236   \n",
       "2016-09-01 04:59:59                     199.099327   \n",
       "\n",
       "                     primary_cleaner.input.depressant  \\\n",
       "date                                                    \n",
       "2016-09-01 00:59:59                         14.993118   \n",
       "2016-09-01 01:59:59                         14.987471   \n",
       "2016-09-01 02:59:59                         12.884934   \n",
       "2016-09-01 03:59:59                         12.006805   \n",
       "2016-09-01 04:59:59                         10.682530   \n",
       "\n",
       "                     primary_cleaner.input.feed_size  \\\n",
       "date                                                   \n",
       "2016-09-01 00:59:59                         8.080000   \n",
       "2016-09-01 01:59:59                         8.080000   \n",
       "2016-09-01 02:59:59                         7.786667   \n",
       "2016-09-01 03:59:59                         7.640000   \n",
       "2016-09-01 04:59:59                         7.530000   \n",
       "\n",
       "                     primary_cleaner.input.xanthate  \\\n",
       "date                                                  \n",
       "2016-09-01 00:59:59                        1.005021   \n",
       "2016-09-01 01:59:59                        0.990469   \n",
       "2016-09-01 02:59:59                        0.996043   \n",
       "2016-09-01 03:59:59                        0.863514   \n",
       "2016-09-01 04:59:59                        0.805575   \n",
       "\n",
       "                     primary_cleaner.state.floatbank8_a_air  \\\n",
       "date                                                          \n",
       "2016-09-01 00:59:59                             1398.981301   \n",
       "2016-09-01 01:59:59                             1398.777912   \n",
       "2016-09-01 02:59:59                             1398.493666   \n",
       "2016-09-01 03:59:59                             1399.618111   \n",
       "2016-09-01 04:59:59                             1401.268123   \n",
       "\n",
       "                     primary_cleaner.state.floatbank8_a_level  \\\n",
       "date                                                            \n",
       "2016-09-01 00:59:59                               -500.225577   \n",
       "2016-09-01 01:59:59                               -500.057435   \n",
       "2016-09-01 02:59:59                               -500.868360   \n",
       "2016-09-01 03:59:59                               -498.863574   \n",
       "2016-09-01 04:59:59                               -500.808305   \n",
       "\n",
       "                     primary_cleaner.state.floatbank8_b_air  \\\n",
       "date                                                          \n",
       "2016-09-01 00:59:59                             1399.144926   \n",
       "2016-09-01 01:59:59                             1398.055362   \n",
       "2016-09-01 02:59:59                             1398.860436   \n",
       "2016-09-01 03:59:59                             1397.440120   \n",
       "2016-09-01 04:59:59                             1398.128818   \n",
       "\n",
       "                     primary_cleaner.state.floatbank8_b_level  \\\n",
       "date                                                            \n",
       "2016-09-01 00:59:59                               -499.919735   \n",
       "2016-09-01 01:59:59                               -499.778182   \n",
       "2016-09-01 02:59:59                               -499.764529   \n",
       "2016-09-01 03:59:59                               -499.211024   \n",
       "2016-09-01 04:59:59                               -499.504543   \n",
       "\n",
       "                     primary_cleaner.state.floatbank8_c_air  \\\n",
       "date                                                          \n",
       "2016-09-01 00:59:59                             1400.102998   \n",
       "2016-09-01 01:59:59                             1396.151033   \n",
       "2016-09-01 02:59:59                             1398.075709   \n",
       "2016-09-01 03:59:59                             1400.129303   \n",
       "2016-09-01 04:59:59                             1402.172226   \n",
       "\n",
       "                     primary_cleaner.state.floatbank8_c_level  ...  \\\n",
       "date                                                           ...   \n",
       "2016-09-01 00:59:59                               -500.704369  ...   \n",
       "2016-09-01 01:59:59                               -499.240168  ...   \n",
       "2016-09-01 02:59:59                               -502.151509  ...   \n",
       "2016-09-01 03:59:59                               -498.355873  ...   \n",
       "2016-09-01 04:59:59                               -500.810606  ...   \n",
       "\n",
       "                     secondary_cleaner.state.floatbank4_a_air  \\\n",
       "date                                                            \n",
       "2016-09-01 00:59:59                                 12.023554   \n",
       "2016-09-01 01:59:59                                 12.058140   \n",
       "2016-09-01 02:59:59                                 11.962366   \n",
       "2016-09-01 03:59:59                                 12.033091   \n",
       "2016-09-01 04:59:59                                 12.025367   \n",
       "\n",
       "                     secondary_cleaner.state.floatbank4_a_level  \\\n",
       "date                                                              \n",
       "2016-09-01 00:59:59                                 -497.795834   \n",
       "2016-09-01 01:59:59                                 -498.695773   \n",
       "2016-09-01 02:59:59                                 -498.767484   \n",
       "2016-09-01 03:59:59                                 -498.350935   \n",
       "2016-09-01 04:59:59                                 -500.786497   \n",
       "\n",
       "                     secondary_cleaner.state.floatbank4_b_air  \\\n",
       "date                                                            \n",
       "2016-09-01 00:59:59                                  8.016656   \n",
       "2016-09-01 01:59:59                                  8.130979   \n",
       "2016-09-01 02:59:59                                  8.096893   \n",
       "2016-09-01 03:59:59                                  8.074946   \n",
       "2016-09-01 04:59:59                                  8.054678   \n",
       "\n",
       "                     secondary_cleaner.state.floatbank4_b_level  \\\n",
       "date                                                              \n",
       "2016-09-01 00:59:59                                 -501.289139   \n",
       "2016-09-01 01:59:59                                 -499.634209   \n",
       "2016-09-01 02:59:59                                 -500.827423   \n",
       "2016-09-01 03:59:59                                 -499.474407   \n",
       "2016-09-01 04:59:59                                 -500.397500   \n",
       "\n",
       "                     secondary_cleaner.state.floatbank5_a_air  \\\n",
       "date                                                            \n",
       "2016-09-01 00:59:59                                  7.946562   \n",
       "2016-09-01 01:59:59                                  7.958270   \n",
       "2016-09-01 02:59:59                                  8.071056   \n",
       "2016-09-01 03:59:59                                  7.897085   \n",
       "2016-09-01 04:59:59                                  8.107890   \n",
       "\n",
       "                     secondary_cleaner.state.floatbank5_a_level  \\\n",
       "date                                                              \n",
       "2016-09-01 00:59:59                                 -432.317850   \n",
       "2016-09-01 01:59:59                                 -525.839648   \n",
       "2016-09-01 02:59:59                                 -500.801673   \n",
       "2016-09-01 03:59:59                                 -500.868509   \n",
       "2016-09-01 04:59:59                                 -509.526725   \n",
       "\n",
       "                     secondary_cleaner.state.floatbank5_b_air  \\\n",
       "date                                                            \n",
       "2016-09-01 00:59:59                                  4.872511   \n",
       "2016-09-01 01:59:59                                  4.878850   \n",
       "2016-09-01 02:59:59                                  4.905125   \n",
       "2016-09-01 03:59:59                                  4.931400   \n",
       "2016-09-01 04:59:59                                  4.957674   \n",
       "\n",
       "                     secondary_cleaner.state.floatbank5_b_level  \\\n",
       "date                                                              \n",
       "2016-09-01 00:59:59                                 -500.037437   \n",
       "2016-09-01 01:59:59                                 -500.162375   \n",
       "2016-09-01 02:59:59                                 -499.828510   \n",
       "2016-09-01 03:59:59                                 -499.963623   \n",
       "2016-09-01 04:59:59                                 -500.360026   \n",
       "\n",
       "                     secondary_cleaner.state.floatbank6_a_air  \\\n",
       "date                                                            \n",
       "2016-09-01 00:59:59                                 26.705889   \n",
       "2016-09-01 01:59:59                                 25.019940   \n",
       "2016-09-01 02:59:59                                 24.994862   \n",
       "2016-09-01 03:59:59                                 24.948919   \n",
       "2016-09-01 04:59:59                                 25.003331   \n",
       "\n",
       "                     secondary_cleaner.state.floatbank6_a_level  \n",
       "date                                                             \n",
       "2016-09-01 00:59:59                                 -499.709414  \n",
       "2016-09-01 01:59:59                                 -499.819438  \n",
       "2016-09-01 02:59:59                                 -500.622559  \n",
       "2016-09-01 03:59:59                                 -498.709987  \n",
       "2016-09-01 04:59:59                                 -500.856333  \n",
       "\n",
       "[5 rows x 52 columns]"
      ]
     },
     "execution_count": 7,
     "metadata": {},
     "output_type": "execute_result"
    }
   ],
   "source": [
    "test.head()"
   ]
  },
  {
   "cell_type": "code",
   "execution_count": 8,
   "metadata": {},
   "outputs": [
    {
     "name": "stdout",
     "output_type": "stream",
     "text": [
      "<class 'pandas.core.frame.DataFrame'>\n",
      "Index: 5856 entries, 2016-09-01 00:59:59 to 2017-12-31 23:59:59\n",
      "Data columns (total 52 columns):\n",
      " #   Column                                      Non-Null Count  Dtype  \n",
      "---  ------                                      --------------  -----  \n",
      " 0   primary_cleaner.input.sulfate               5554 non-null   float64\n",
      " 1   primary_cleaner.input.depressant            5572 non-null   float64\n",
      " 2   primary_cleaner.input.feed_size             5856 non-null   float64\n",
      " 3   primary_cleaner.input.xanthate              5690 non-null   float64\n",
      " 4   primary_cleaner.state.floatbank8_a_air      5840 non-null   float64\n",
      " 5   primary_cleaner.state.floatbank8_a_level    5840 non-null   float64\n",
      " 6   primary_cleaner.state.floatbank8_b_air      5840 non-null   float64\n",
      " 7   primary_cleaner.state.floatbank8_b_level    5840 non-null   float64\n",
      " 8   primary_cleaner.state.floatbank8_c_air      5840 non-null   float64\n",
      " 9   primary_cleaner.state.floatbank8_c_level    5840 non-null   float64\n",
      " 10  primary_cleaner.state.floatbank8_d_air      5840 non-null   float64\n",
      " 11  primary_cleaner.state.floatbank8_d_level    5840 non-null   float64\n",
      " 12  rougher.input.feed_ag                       5840 non-null   float64\n",
      " 13  rougher.input.feed_pb                       5840 non-null   float64\n",
      " 14  rougher.input.feed_rate                     5816 non-null   float64\n",
      " 15  rougher.input.feed_size                     5834 non-null   float64\n",
      " 16  rougher.input.feed_sol                      5789 non-null   float64\n",
      " 17  rougher.input.feed_au                       5840 non-null   float64\n",
      " 18  rougher.input.floatbank10_sulfate           5599 non-null   float64\n",
      " 19  rougher.input.floatbank10_xanthate          5733 non-null   float64\n",
      " 20  rougher.input.floatbank11_sulfate           5801 non-null   float64\n",
      " 21  rougher.input.floatbank11_xanthate          5503 non-null   float64\n",
      " 22  rougher.state.floatbank10_a_air             5839 non-null   float64\n",
      " 23  rougher.state.floatbank10_a_level           5840 non-null   float64\n",
      " 24  rougher.state.floatbank10_b_air             5839 non-null   float64\n",
      " 25  rougher.state.floatbank10_b_level           5840 non-null   float64\n",
      " 26  rougher.state.floatbank10_c_air             5839 non-null   float64\n",
      " 27  rougher.state.floatbank10_c_level           5840 non-null   float64\n",
      " 28  rougher.state.floatbank10_d_air             5839 non-null   float64\n",
      " 29  rougher.state.floatbank10_d_level           5840 non-null   float64\n",
      " 30  rougher.state.floatbank10_e_air             5839 non-null   float64\n",
      " 31  rougher.state.floatbank10_e_level           5840 non-null   float64\n",
      " 32  rougher.state.floatbank10_f_air             5839 non-null   float64\n",
      " 33  rougher.state.floatbank10_f_level           5840 non-null   float64\n",
      " 34  secondary_cleaner.state.floatbank2_a_air    5836 non-null   float64\n",
      " 35  secondary_cleaner.state.floatbank2_a_level  5840 non-null   float64\n",
      " 36  secondary_cleaner.state.floatbank2_b_air    5833 non-null   float64\n",
      " 37  secondary_cleaner.state.floatbank2_b_level  5840 non-null   float64\n",
      " 38  secondary_cleaner.state.floatbank3_a_air    5822 non-null   float64\n",
      " 39  secondary_cleaner.state.floatbank3_a_level  5840 non-null   float64\n",
      " 40  secondary_cleaner.state.floatbank3_b_air    5840 non-null   float64\n",
      " 41  secondary_cleaner.state.floatbank3_b_level  5840 non-null   float64\n",
      " 42  secondary_cleaner.state.floatbank4_a_air    5840 non-null   float64\n",
      " 43  secondary_cleaner.state.floatbank4_a_level  5840 non-null   float64\n",
      " 44  secondary_cleaner.state.floatbank4_b_air    5840 non-null   float64\n",
      " 45  secondary_cleaner.state.floatbank4_b_level  5840 non-null   float64\n",
      " 46  secondary_cleaner.state.floatbank5_a_air    5840 non-null   float64\n",
      " 47  secondary_cleaner.state.floatbank5_a_level  5840 non-null   float64\n",
      " 48  secondary_cleaner.state.floatbank5_b_air    5840 non-null   float64\n",
      " 49  secondary_cleaner.state.floatbank5_b_level  5840 non-null   float64\n",
      " 50  secondary_cleaner.state.floatbank6_a_air    5840 non-null   float64\n",
      " 51  secondary_cleaner.state.floatbank6_a_level  5840 non-null   float64\n",
      "dtypes: float64(52)\n",
      "memory usage: 2.4+ MB\n"
     ]
    }
   ],
   "source": [
    "test.info()"
   ]
  },
  {
   "cell_type": "code",
   "execution_count": 9,
   "metadata": {},
   "outputs": [
    {
     "data": {
      "text/plain": [
       "primary_cleaner.input.sulfate                 302\n",
       "primary_cleaner.input.depressant              284\n",
       "primary_cleaner.input.feed_size                 0\n",
       "primary_cleaner.input.xanthate                166\n",
       "primary_cleaner.state.floatbank8_a_air         16\n",
       "primary_cleaner.state.floatbank8_a_level       16\n",
       "primary_cleaner.state.floatbank8_b_air         16\n",
       "primary_cleaner.state.floatbank8_b_level       16\n",
       "primary_cleaner.state.floatbank8_c_air         16\n",
       "primary_cleaner.state.floatbank8_c_level       16\n",
       "primary_cleaner.state.floatbank8_d_air         16\n",
       "primary_cleaner.state.floatbank8_d_level       16\n",
       "rougher.input.feed_ag                          16\n",
       "rougher.input.feed_pb                          16\n",
       "rougher.input.feed_rate                        40\n",
       "rougher.input.feed_size                        22\n",
       "rougher.input.feed_sol                         67\n",
       "rougher.input.feed_au                          16\n",
       "rougher.input.floatbank10_sulfate             257\n",
       "rougher.input.floatbank10_xanthate            123\n",
       "rougher.input.floatbank11_sulfate              55\n",
       "rougher.input.floatbank11_xanthate            353\n",
       "rougher.state.floatbank10_a_air                17\n",
       "rougher.state.floatbank10_a_level              16\n",
       "rougher.state.floatbank10_b_air                17\n",
       "rougher.state.floatbank10_b_level              16\n",
       "rougher.state.floatbank10_c_air                17\n",
       "rougher.state.floatbank10_c_level              16\n",
       "rougher.state.floatbank10_d_air                17\n",
       "rougher.state.floatbank10_d_level              16\n",
       "rougher.state.floatbank10_e_air                17\n",
       "rougher.state.floatbank10_e_level              16\n",
       "rougher.state.floatbank10_f_air                17\n",
       "rougher.state.floatbank10_f_level              16\n",
       "secondary_cleaner.state.floatbank2_a_air       20\n",
       "secondary_cleaner.state.floatbank2_a_level     16\n",
       "secondary_cleaner.state.floatbank2_b_air       23\n",
       "secondary_cleaner.state.floatbank2_b_level     16\n",
       "secondary_cleaner.state.floatbank3_a_air       34\n",
       "secondary_cleaner.state.floatbank3_a_level     16\n",
       "secondary_cleaner.state.floatbank3_b_air       16\n",
       "secondary_cleaner.state.floatbank3_b_level     16\n",
       "secondary_cleaner.state.floatbank4_a_air       16\n",
       "secondary_cleaner.state.floatbank4_a_level     16\n",
       "secondary_cleaner.state.floatbank4_b_air       16\n",
       "secondary_cleaner.state.floatbank4_b_level     16\n",
       "secondary_cleaner.state.floatbank5_a_air       16\n",
       "secondary_cleaner.state.floatbank5_a_level     16\n",
       "secondary_cleaner.state.floatbank5_b_air       16\n",
       "secondary_cleaner.state.floatbank5_b_level     16\n",
       "secondary_cleaner.state.floatbank6_a_air       16\n",
       "secondary_cleaner.state.floatbank6_a_level     16\n",
       "dtype: int64"
      ]
     },
     "execution_count": 9,
     "metadata": {},
     "output_type": "execute_result"
    }
   ],
   "source": [
    "test.isna().sum().head(52)"
   ]
  },
  {
   "cell_type": "code",
   "execution_count": 10,
   "metadata": {},
   "outputs": [
    {
     "data": {
      "text/plain": [
       "6"
      ]
     },
     "execution_count": 10,
     "metadata": {},
     "output_type": "execute_result"
    }
   ],
   "source": [
    "test.duplicated().sum()"
   ]
  },
  {
   "cell_type": "markdown",
   "metadata": {},
   "source": [
    "Terdapat indikasi missing columns dan juga missing values serta duplicated values pada dataframe test yang akan diolah lebih lanjut."
   ]
  },
  {
   "cell_type": "markdown",
   "metadata": {},
   "source": [
    "### Pemeriksaan dataframe full <a name=\"datarev_3\"></a>"
   ]
  },
  {
   "cell_type": "markdown",
   "metadata": {},
   "source": [
    "**Step 1.5**\n",
    "Melakukan pemeriksaan terhadap dataframe full."
   ]
  },
  {
   "cell_type": "code",
   "execution_count": 11,
   "metadata": {},
   "outputs": [
    {
     "data": {
      "text/html": [
       "<div>\n",
       "<style scoped>\n",
       "    .dataframe tbody tr th:only-of-type {\n",
       "        vertical-align: middle;\n",
       "    }\n",
       "\n",
       "    .dataframe tbody tr th {\n",
       "        vertical-align: top;\n",
       "    }\n",
       "\n",
       "    .dataframe thead th {\n",
       "        text-align: right;\n",
       "    }\n",
       "</style>\n",
       "<table border=\"1\" class=\"dataframe\">\n",
       "  <thead>\n",
       "    <tr style=\"text-align: right;\">\n",
       "      <th></th>\n",
       "      <th>final.output.concentrate_ag</th>\n",
       "      <th>final.output.concentrate_pb</th>\n",
       "      <th>final.output.concentrate_sol</th>\n",
       "      <th>final.output.concentrate_au</th>\n",
       "      <th>final.output.recovery</th>\n",
       "      <th>final.output.tail_ag</th>\n",
       "      <th>final.output.tail_pb</th>\n",
       "      <th>final.output.tail_sol</th>\n",
       "      <th>final.output.tail_au</th>\n",
       "      <th>primary_cleaner.input.sulfate</th>\n",
       "      <th>...</th>\n",
       "      <th>secondary_cleaner.state.floatbank4_a_air</th>\n",
       "      <th>secondary_cleaner.state.floatbank4_a_level</th>\n",
       "      <th>secondary_cleaner.state.floatbank4_b_air</th>\n",
       "      <th>secondary_cleaner.state.floatbank4_b_level</th>\n",
       "      <th>secondary_cleaner.state.floatbank5_a_air</th>\n",
       "      <th>secondary_cleaner.state.floatbank5_a_level</th>\n",
       "      <th>secondary_cleaner.state.floatbank5_b_air</th>\n",
       "      <th>secondary_cleaner.state.floatbank5_b_level</th>\n",
       "      <th>secondary_cleaner.state.floatbank6_a_air</th>\n",
       "      <th>secondary_cleaner.state.floatbank6_a_level</th>\n",
       "    </tr>\n",
       "    <tr>\n",
       "      <th>date</th>\n",
       "      <th></th>\n",
       "      <th></th>\n",
       "      <th></th>\n",
       "      <th></th>\n",
       "      <th></th>\n",
       "      <th></th>\n",
       "      <th></th>\n",
       "      <th></th>\n",
       "      <th></th>\n",
       "      <th></th>\n",
       "      <th></th>\n",
       "      <th></th>\n",
       "      <th></th>\n",
       "      <th></th>\n",
       "      <th></th>\n",
       "      <th></th>\n",
       "      <th></th>\n",
       "      <th></th>\n",
       "      <th></th>\n",
       "      <th></th>\n",
       "      <th></th>\n",
       "    </tr>\n",
       "  </thead>\n",
       "  <tbody>\n",
       "    <tr>\n",
       "      <th>2016-01-15 00:00:00</th>\n",
       "      <td>6.055403</td>\n",
       "      <td>9.889648</td>\n",
       "      <td>5.507324</td>\n",
       "      <td>42.192020</td>\n",
       "      <td>70.541216</td>\n",
       "      <td>10.411962</td>\n",
       "      <td>0.895447</td>\n",
       "      <td>16.904297</td>\n",
       "      <td>2.143149</td>\n",
       "      <td>127.092003</td>\n",
       "      <td>...</td>\n",
       "      <td>14.016835</td>\n",
       "      <td>-502.488007</td>\n",
       "      <td>12.099931</td>\n",
       "      <td>-504.715942</td>\n",
       "      <td>9.925633</td>\n",
       "      <td>-498.310211</td>\n",
       "      <td>8.079666</td>\n",
       "      <td>-500.470978</td>\n",
       "      <td>14.151341</td>\n",
       "      <td>-605.841980</td>\n",
       "    </tr>\n",
       "    <tr>\n",
       "      <th>2016-01-15 01:00:00</th>\n",
       "      <td>6.029369</td>\n",
       "      <td>9.968944</td>\n",
       "      <td>5.257781</td>\n",
       "      <td>42.701629</td>\n",
       "      <td>69.266198</td>\n",
       "      <td>10.462676</td>\n",
       "      <td>0.927452</td>\n",
       "      <td>16.634514</td>\n",
       "      <td>2.224930</td>\n",
       "      <td>125.629232</td>\n",
       "      <td>...</td>\n",
       "      <td>13.992281</td>\n",
       "      <td>-505.503262</td>\n",
       "      <td>11.950531</td>\n",
       "      <td>-501.331529</td>\n",
       "      <td>10.039245</td>\n",
       "      <td>-500.169983</td>\n",
       "      <td>7.984757</td>\n",
       "      <td>-500.582168</td>\n",
       "      <td>13.998353</td>\n",
       "      <td>-599.787184</td>\n",
       "    </tr>\n",
       "    <tr>\n",
       "      <th>2016-01-15 02:00:00</th>\n",
       "      <td>6.055926</td>\n",
       "      <td>10.213995</td>\n",
       "      <td>5.383759</td>\n",
       "      <td>42.657501</td>\n",
       "      <td>68.116445</td>\n",
       "      <td>10.507046</td>\n",
       "      <td>0.953716</td>\n",
       "      <td>16.208849</td>\n",
       "      <td>2.257889</td>\n",
       "      <td>123.819808</td>\n",
       "      <td>...</td>\n",
       "      <td>14.015015</td>\n",
       "      <td>-502.520901</td>\n",
       "      <td>11.912783</td>\n",
       "      <td>-501.133383</td>\n",
       "      <td>10.070913</td>\n",
       "      <td>-500.129135</td>\n",
       "      <td>8.013877</td>\n",
       "      <td>-500.517572</td>\n",
       "      <td>14.028663</td>\n",
       "      <td>-601.427363</td>\n",
       "    </tr>\n",
       "    <tr>\n",
       "      <th>2016-01-15 03:00:00</th>\n",
       "      <td>6.047977</td>\n",
       "      <td>9.977019</td>\n",
       "      <td>4.858634</td>\n",
       "      <td>42.689819</td>\n",
       "      <td>68.347543</td>\n",
       "      <td>10.422762</td>\n",
       "      <td>0.883763</td>\n",
       "      <td>16.532835</td>\n",
       "      <td>2.146849</td>\n",
       "      <td>122.270188</td>\n",
       "      <td>...</td>\n",
       "      <td>14.036510</td>\n",
       "      <td>-500.857308</td>\n",
       "      <td>11.999550</td>\n",
       "      <td>-501.193686</td>\n",
       "      <td>9.970366</td>\n",
       "      <td>-499.201640</td>\n",
       "      <td>7.977324</td>\n",
       "      <td>-500.255908</td>\n",
       "      <td>14.005551</td>\n",
       "      <td>-599.996129</td>\n",
       "    </tr>\n",
       "    <tr>\n",
       "      <th>2016-01-15 04:00:00</th>\n",
       "      <td>6.148599</td>\n",
       "      <td>10.142511</td>\n",
       "      <td>4.939416</td>\n",
       "      <td>42.774141</td>\n",
       "      <td>66.927016</td>\n",
       "      <td>10.360302</td>\n",
       "      <td>0.792826</td>\n",
       "      <td>16.525686</td>\n",
       "      <td>2.055292</td>\n",
       "      <td>117.988169</td>\n",
       "      <td>...</td>\n",
       "      <td>14.027298</td>\n",
       "      <td>-499.838632</td>\n",
       "      <td>11.953070</td>\n",
       "      <td>-501.053894</td>\n",
       "      <td>9.925709</td>\n",
       "      <td>-501.686727</td>\n",
       "      <td>7.894242</td>\n",
       "      <td>-500.356035</td>\n",
       "      <td>13.996647</td>\n",
       "      <td>-601.496691</td>\n",
       "    </tr>\n",
       "  </tbody>\n",
       "</table>\n",
       "<p>5 rows × 86 columns</p>\n",
       "</div>"
      ],
      "text/plain": [
       "                     final.output.concentrate_ag  final.output.concentrate_pb  \\\n",
       "date                                                                            \n",
       "2016-01-15 00:00:00                     6.055403                     9.889648   \n",
       "2016-01-15 01:00:00                     6.029369                     9.968944   \n",
       "2016-01-15 02:00:00                     6.055926                    10.213995   \n",
       "2016-01-15 03:00:00                     6.047977                     9.977019   \n",
       "2016-01-15 04:00:00                     6.148599                    10.142511   \n",
       "\n",
       "                     final.output.concentrate_sol  \\\n",
       "date                                                \n",
       "2016-01-15 00:00:00                      5.507324   \n",
       "2016-01-15 01:00:00                      5.257781   \n",
       "2016-01-15 02:00:00                      5.383759   \n",
       "2016-01-15 03:00:00                      4.858634   \n",
       "2016-01-15 04:00:00                      4.939416   \n",
       "\n",
       "                     final.output.concentrate_au  final.output.recovery  \\\n",
       "date                                                                      \n",
       "2016-01-15 00:00:00                    42.192020              70.541216   \n",
       "2016-01-15 01:00:00                    42.701629              69.266198   \n",
       "2016-01-15 02:00:00                    42.657501              68.116445   \n",
       "2016-01-15 03:00:00                    42.689819              68.347543   \n",
       "2016-01-15 04:00:00                    42.774141              66.927016   \n",
       "\n",
       "                     final.output.tail_ag  final.output.tail_pb  \\\n",
       "date                                                              \n",
       "2016-01-15 00:00:00             10.411962              0.895447   \n",
       "2016-01-15 01:00:00             10.462676              0.927452   \n",
       "2016-01-15 02:00:00             10.507046              0.953716   \n",
       "2016-01-15 03:00:00             10.422762              0.883763   \n",
       "2016-01-15 04:00:00             10.360302              0.792826   \n",
       "\n",
       "                     final.output.tail_sol  final.output.tail_au  \\\n",
       "date                                                               \n",
       "2016-01-15 00:00:00              16.904297              2.143149   \n",
       "2016-01-15 01:00:00              16.634514              2.224930   \n",
       "2016-01-15 02:00:00              16.208849              2.257889   \n",
       "2016-01-15 03:00:00              16.532835              2.146849   \n",
       "2016-01-15 04:00:00              16.525686              2.055292   \n",
       "\n",
       "                     primary_cleaner.input.sulfate  ...  \\\n",
       "date                                                ...   \n",
       "2016-01-15 00:00:00                     127.092003  ...   \n",
       "2016-01-15 01:00:00                     125.629232  ...   \n",
       "2016-01-15 02:00:00                     123.819808  ...   \n",
       "2016-01-15 03:00:00                     122.270188  ...   \n",
       "2016-01-15 04:00:00                     117.988169  ...   \n",
       "\n",
       "                     secondary_cleaner.state.floatbank4_a_air  \\\n",
       "date                                                            \n",
       "2016-01-15 00:00:00                                 14.016835   \n",
       "2016-01-15 01:00:00                                 13.992281   \n",
       "2016-01-15 02:00:00                                 14.015015   \n",
       "2016-01-15 03:00:00                                 14.036510   \n",
       "2016-01-15 04:00:00                                 14.027298   \n",
       "\n",
       "                     secondary_cleaner.state.floatbank4_a_level  \\\n",
       "date                                                              \n",
       "2016-01-15 00:00:00                                 -502.488007   \n",
       "2016-01-15 01:00:00                                 -505.503262   \n",
       "2016-01-15 02:00:00                                 -502.520901   \n",
       "2016-01-15 03:00:00                                 -500.857308   \n",
       "2016-01-15 04:00:00                                 -499.838632   \n",
       "\n",
       "                     secondary_cleaner.state.floatbank4_b_air  \\\n",
       "date                                                            \n",
       "2016-01-15 00:00:00                                 12.099931   \n",
       "2016-01-15 01:00:00                                 11.950531   \n",
       "2016-01-15 02:00:00                                 11.912783   \n",
       "2016-01-15 03:00:00                                 11.999550   \n",
       "2016-01-15 04:00:00                                 11.953070   \n",
       "\n",
       "                     secondary_cleaner.state.floatbank4_b_level  \\\n",
       "date                                                              \n",
       "2016-01-15 00:00:00                                 -504.715942   \n",
       "2016-01-15 01:00:00                                 -501.331529   \n",
       "2016-01-15 02:00:00                                 -501.133383   \n",
       "2016-01-15 03:00:00                                 -501.193686   \n",
       "2016-01-15 04:00:00                                 -501.053894   \n",
       "\n",
       "                     secondary_cleaner.state.floatbank5_a_air  \\\n",
       "date                                                            \n",
       "2016-01-15 00:00:00                                  9.925633   \n",
       "2016-01-15 01:00:00                                 10.039245   \n",
       "2016-01-15 02:00:00                                 10.070913   \n",
       "2016-01-15 03:00:00                                  9.970366   \n",
       "2016-01-15 04:00:00                                  9.925709   \n",
       "\n",
       "                     secondary_cleaner.state.floatbank5_a_level  \\\n",
       "date                                                              \n",
       "2016-01-15 00:00:00                                 -498.310211   \n",
       "2016-01-15 01:00:00                                 -500.169983   \n",
       "2016-01-15 02:00:00                                 -500.129135   \n",
       "2016-01-15 03:00:00                                 -499.201640   \n",
       "2016-01-15 04:00:00                                 -501.686727   \n",
       "\n",
       "                     secondary_cleaner.state.floatbank5_b_air  \\\n",
       "date                                                            \n",
       "2016-01-15 00:00:00                                  8.079666   \n",
       "2016-01-15 01:00:00                                  7.984757   \n",
       "2016-01-15 02:00:00                                  8.013877   \n",
       "2016-01-15 03:00:00                                  7.977324   \n",
       "2016-01-15 04:00:00                                  7.894242   \n",
       "\n",
       "                     secondary_cleaner.state.floatbank5_b_level  \\\n",
       "date                                                              \n",
       "2016-01-15 00:00:00                                 -500.470978   \n",
       "2016-01-15 01:00:00                                 -500.582168   \n",
       "2016-01-15 02:00:00                                 -500.517572   \n",
       "2016-01-15 03:00:00                                 -500.255908   \n",
       "2016-01-15 04:00:00                                 -500.356035   \n",
       "\n",
       "                     secondary_cleaner.state.floatbank6_a_air  \\\n",
       "date                                                            \n",
       "2016-01-15 00:00:00                                 14.151341   \n",
       "2016-01-15 01:00:00                                 13.998353   \n",
       "2016-01-15 02:00:00                                 14.028663   \n",
       "2016-01-15 03:00:00                                 14.005551   \n",
       "2016-01-15 04:00:00                                 13.996647   \n",
       "\n",
       "                     secondary_cleaner.state.floatbank6_a_level  \n",
       "date                                                             \n",
       "2016-01-15 00:00:00                                 -605.841980  \n",
       "2016-01-15 01:00:00                                 -599.787184  \n",
       "2016-01-15 02:00:00                                 -601.427363  \n",
       "2016-01-15 03:00:00                                 -599.996129  \n",
       "2016-01-15 04:00:00                                 -601.496691  \n",
       "\n",
       "[5 rows x 86 columns]"
      ]
     },
     "execution_count": 11,
     "metadata": {},
     "output_type": "execute_result"
    }
   ],
   "source": [
    "full.head()"
   ]
  },
  {
   "cell_type": "code",
   "execution_count": 12,
   "metadata": {},
   "outputs": [
    {
     "name": "stdout",
     "output_type": "stream",
     "text": [
      "<class 'pandas.core.frame.DataFrame'>\n",
      "Index: 22716 entries, 2016-01-15 00:00:00 to 2018-08-18 10:59:59\n",
      "Data columns (total 86 columns):\n",
      " #   Column                                              Non-Null Count  Dtype  \n",
      "---  ------                                              --------------  -----  \n",
      " 0   final.output.concentrate_ag                         22627 non-null  float64\n",
      " 1   final.output.concentrate_pb                         22629 non-null  float64\n",
      " 2   final.output.concentrate_sol                        22331 non-null  float64\n",
      " 3   final.output.concentrate_au                         22630 non-null  float64\n",
      " 4   final.output.recovery                               20753 non-null  float64\n",
      " 5   final.output.tail_ag                                22633 non-null  float64\n",
      " 6   final.output.tail_pb                                22516 non-null  float64\n",
      " 7   final.output.tail_sol                               22445 non-null  float64\n",
      " 8   final.output.tail_au                                22635 non-null  float64\n",
      " 9   primary_cleaner.input.sulfate                       21107 non-null  float64\n",
      " 10  primary_cleaner.input.depressant                    21170 non-null  float64\n",
      " 11  primary_cleaner.input.feed_size                     22716 non-null  float64\n",
      " 12  primary_cleaner.input.xanthate                      21565 non-null  float64\n",
      " 13  primary_cleaner.output.concentrate_ag               22618 non-null  float64\n",
      " 14  primary_cleaner.output.concentrate_pb               22268 non-null  float64\n",
      " 15  primary_cleaner.output.concentrate_sol              21918 non-null  float64\n",
      " 16  primary_cleaner.output.concentrate_au               22618 non-null  float64\n",
      " 17  primary_cleaner.output.tail_ag                      22614 non-null  float64\n",
      " 18  primary_cleaner.output.tail_pb                      22594 non-null  float64\n",
      " 19  primary_cleaner.output.tail_sol                     22365 non-null  float64\n",
      " 20  primary_cleaner.output.tail_au                      22617 non-null  float64\n",
      " 21  primary_cleaner.state.floatbank8_a_air              22660 non-null  float64\n",
      " 22  primary_cleaner.state.floatbank8_a_level            22667 non-null  float64\n",
      " 23  primary_cleaner.state.floatbank8_b_air              22660 non-null  float64\n",
      " 24  primary_cleaner.state.floatbank8_b_level            22673 non-null  float64\n",
      " 25  primary_cleaner.state.floatbank8_c_air              22662 non-null  float64\n",
      " 26  primary_cleaner.state.floatbank8_c_level            22673 non-null  float64\n",
      " 27  primary_cleaner.state.floatbank8_d_air              22661 non-null  float64\n",
      " 28  primary_cleaner.state.floatbank8_d_level            22673 non-null  float64\n",
      " 29  rougher.calculation.sulfate_to_au_concentrate       22672 non-null  float64\n",
      " 30  rougher.calculation.floatbank10_sulfate_to_au_feed  22672 non-null  float64\n",
      " 31  rougher.calculation.floatbank11_sulfate_to_au_feed  22672 non-null  float64\n",
      " 32  rougher.calculation.au_pb_ratio                     21089 non-null  float64\n",
      " 33  rougher.input.feed_ag                               22618 non-null  float64\n",
      " 34  rougher.input.feed_pb                               22472 non-null  float64\n",
      " 35  rougher.input.feed_rate                             22163 non-null  float64\n",
      " 36  rougher.input.feed_size                             22277 non-null  float64\n",
      " 37  rougher.input.feed_sol                              22357 non-null  float64\n",
      " 38  rougher.input.feed_au                               22617 non-null  float64\n",
      " 39  rougher.input.floatbank10_sulfate                   21415 non-null  float64\n",
      " 40  rougher.input.floatbank10_xanthate                  22247 non-null  float64\n",
      " 41  rougher.input.floatbank11_sulfate                   22038 non-null  float64\n",
      " 42  rougher.input.floatbank11_xanthate                  20459 non-null  float64\n",
      " 43  rougher.output.concentrate_ag                       22618 non-null  float64\n",
      " 44  rougher.output.concentrate_pb                       22618 non-null  float64\n",
      " 45  rougher.output.concentrate_sol                      22526 non-null  float64\n",
      " 46  rougher.output.concentrate_au                       22618 non-null  float64\n",
      " 47  rougher.output.recovery                             19597 non-null  float64\n",
      " 48  rougher.output.tail_ag                              19979 non-null  float64\n",
      " 49  rougher.output.tail_pb                              22618 non-null  float64\n",
      " 50  rougher.output.tail_sol                             19980 non-null  float64\n",
      " 51  rougher.output.tail_au                              19980 non-null  float64\n",
      " 52  rougher.state.floatbank10_a_air                     22646 non-null  float64\n",
      " 53  rougher.state.floatbank10_a_level                   22647 non-null  float64\n",
      " 54  rougher.state.floatbank10_b_air                     22646 non-null  float64\n",
      " 55  rougher.state.floatbank10_b_level                   22647 non-null  float64\n",
      " 56  rougher.state.floatbank10_c_air                     22646 non-null  float64\n",
      " 57  rougher.state.floatbank10_c_level                   22654 non-null  float64\n",
      " 58  rougher.state.floatbank10_d_air                     22641 non-null  float64\n",
      " 59  rougher.state.floatbank10_d_level                   22649 non-null  float64\n",
      " 60  rougher.state.floatbank10_e_air                     22096 non-null  float64\n",
      " 61  rougher.state.floatbank10_e_level                   22649 non-null  float64\n",
      " 62  rougher.state.floatbank10_f_air                     22641 non-null  float64\n",
      " 63  rougher.state.floatbank10_f_level                   22642 non-null  float64\n",
      " 64  secondary_cleaner.output.tail_ag                    22616 non-null  float64\n",
      " 65  secondary_cleaner.output.tail_pb                    22600 non-null  float64\n",
      " 66  secondary_cleaner.output.tail_sol                   20501 non-null  float64\n",
      " 67  secondary_cleaner.output.tail_au                    22618 non-null  float64\n",
      " 68  secondary_cleaner.state.floatbank2_a_air            22333 non-null  float64\n",
      " 69  secondary_cleaner.state.floatbank2_a_level          22591 non-null  float64\n",
      " 70  secondary_cleaner.state.floatbank2_b_air            22538 non-null  float64\n",
      " 71  secondary_cleaner.state.floatbank2_b_level          22588 non-null  float64\n",
      " 72  secondary_cleaner.state.floatbank3_a_air            22585 non-null  float64\n",
      " 73  secondary_cleaner.state.floatbank3_a_level          22587 non-null  float64\n",
      " 74  secondary_cleaner.state.floatbank3_b_air            22592 non-null  float64\n",
      " 75  secondary_cleaner.state.floatbank3_b_level          22590 non-null  float64\n",
      " 76  secondary_cleaner.state.floatbank4_a_air            22571 non-null  float64\n",
      " 77  secondary_cleaner.state.floatbank4_a_level          22587 non-null  float64\n",
      " 78  secondary_cleaner.state.floatbank4_b_air            22608 non-null  float64\n",
      " 79  secondary_cleaner.state.floatbank4_b_level          22607 non-null  float64\n",
      " 80  secondary_cleaner.state.floatbank5_a_air            22615 non-null  float64\n",
      " 81  secondary_cleaner.state.floatbank5_a_level          22615 non-null  float64\n",
      " 82  secondary_cleaner.state.floatbank5_b_air            22615 non-null  float64\n",
      " 83  secondary_cleaner.state.floatbank5_b_level          22616 non-null  float64\n",
      " 84  secondary_cleaner.state.floatbank6_a_air            22597 non-null  float64\n",
      " 85  secondary_cleaner.state.floatbank6_a_level          22615 non-null  float64\n",
      "dtypes: float64(86)\n",
      "memory usage: 15.1+ MB\n"
     ]
    }
   ],
   "source": [
    "full.info()"
   ]
  },
  {
   "cell_type": "code",
   "execution_count": 13,
   "metadata": {},
   "outputs": [
    {
     "name": "stdout",
     "output_type": "stream",
     "text": [
      "final.output.concentrate_ag                             89\n",
      "final.output.concentrate_pb                             87\n",
      "final.output.concentrate_sol                           385\n",
      "final.output.concentrate_au                             86\n",
      "final.output.recovery                                 1963\n",
      "final.output.tail_ag                                    83\n",
      "final.output.tail_pb                                   200\n",
      "final.output.tail_sol                                  271\n",
      "final.output.tail_au                                    81\n",
      "primary_cleaner.input.sulfate                         1609\n",
      "primary_cleaner.input.depressant                      1546\n",
      "primary_cleaner.input.feed_size                          0\n",
      "primary_cleaner.input.xanthate                        1151\n",
      "primary_cleaner.output.concentrate_ag                   98\n",
      "primary_cleaner.output.concentrate_pb                  448\n",
      "primary_cleaner.output.concentrate_sol                 798\n",
      "primary_cleaner.output.concentrate_au                   98\n",
      "primary_cleaner.output.tail_ag                         102\n",
      "primary_cleaner.output.tail_pb                         122\n",
      "primary_cleaner.output.tail_sol                        351\n",
      "primary_cleaner.output.tail_au                          99\n",
      "primary_cleaner.state.floatbank8_a_air                  56\n",
      "primary_cleaner.state.floatbank8_a_level                49\n",
      "primary_cleaner.state.floatbank8_b_air                  56\n",
      "primary_cleaner.state.floatbank8_b_level                43\n",
      "primary_cleaner.state.floatbank8_c_air                  54\n",
      "primary_cleaner.state.floatbank8_c_level                43\n",
      "primary_cleaner.state.floatbank8_d_air                  55\n",
      "primary_cleaner.state.floatbank8_d_level                43\n",
      "rougher.calculation.sulfate_to_au_concentrate           44\n",
      "rougher.calculation.floatbank10_sulfate_to_au_feed      44\n",
      "rougher.calculation.floatbank11_sulfate_to_au_feed      44\n",
      "rougher.calculation.au_pb_ratio                       1627\n",
      "rougher.input.feed_ag                                   98\n",
      "rougher.input.feed_pb                                  244\n",
      "rougher.input.feed_rate                                553\n",
      "rougher.input.feed_size                                439\n",
      "rougher.input.feed_sol                                 359\n",
      "rougher.input.feed_au                                   99\n",
      "rougher.input.floatbank10_sulfate                     1301\n",
      "rougher.input.floatbank10_xanthate                     469\n",
      "rougher.input.floatbank11_sulfate                      678\n",
      "rougher.input.floatbank11_xanthate                    2257\n",
      "rougher.output.concentrate_ag                           98\n",
      "rougher.output.concentrate_pb                           98\n",
      "rougher.output.concentrate_sol                         190\n",
      "rougher.output.concentrate_au                           98\n",
      "rougher.output.recovery                               3119\n",
      "rougher.output.tail_ag                                2737\n",
      "rougher.output.tail_pb                                  98\n",
      "rougher.output.tail_sol                               2736\n",
      "rougher.output.tail_au                                2736\n",
      "rougher.state.floatbank10_a_air                         70\n",
      "rougher.state.floatbank10_a_level                       69\n",
      "rougher.state.floatbank10_b_air                         70\n",
      "rougher.state.floatbank10_b_level                       69\n",
      "rougher.state.floatbank10_c_air                         70\n",
      "rougher.state.floatbank10_c_level                       62\n",
      "rougher.state.floatbank10_d_air                         75\n",
      "rougher.state.floatbank10_d_level                       67\n",
      "dtype: int64\n",
      " rougher.state.floatbank10_e_air                620\n",
      "rougher.state.floatbank10_e_level               67\n",
      "rougher.state.floatbank10_f_air                 75\n",
      "rougher.state.floatbank10_f_level               74\n",
      "secondary_cleaner.output.tail_ag               100\n",
      "secondary_cleaner.output.tail_pb               116\n",
      "secondary_cleaner.output.tail_sol             2215\n",
      "secondary_cleaner.output.tail_au                98\n",
      "secondary_cleaner.state.floatbank2_a_air       383\n",
      "secondary_cleaner.state.floatbank2_a_level     125\n",
      "secondary_cleaner.state.floatbank2_b_air       178\n",
      "secondary_cleaner.state.floatbank2_b_level     128\n",
      "secondary_cleaner.state.floatbank3_a_air       131\n",
      "secondary_cleaner.state.floatbank3_a_level     129\n",
      "secondary_cleaner.state.floatbank3_b_air       124\n",
      "secondary_cleaner.state.floatbank3_b_level     126\n",
      "secondary_cleaner.state.floatbank4_a_air       145\n",
      "secondary_cleaner.state.floatbank4_a_level     129\n",
      "secondary_cleaner.state.floatbank4_b_air       108\n",
      "secondary_cleaner.state.floatbank4_b_level     109\n",
      "secondary_cleaner.state.floatbank5_a_air       101\n",
      "secondary_cleaner.state.floatbank5_a_level     101\n",
      "secondary_cleaner.state.floatbank5_b_air       101\n",
      "secondary_cleaner.state.floatbank5_b_level     100\n",
      "secondary_cleaner.state.floatbank6_a_air       119\n",
      "secondary_cleaner.state.floatbank6_a_level     101\n",
      "dtype: int64\n"
     ]
    }
   ],
   "source": [
    "print(f'{full.isna().sum().head(60)}\\n {full.isna().sum().tail(26)}')"
   ]
  },
  {
   "cell_type": "code",
   "execution_count": 14,
   "metadata": {},
   "outputs": [
    {
     "data": {
      "text/plain": [
       "22"
      ]
     },
     "execution_count": 14,
     "metadata": {},
     "output_type": "execute_result"
    }
   ],
   "source": [
    "full.duplicated().sum()"
   ]
  },
  {
   "cell_type": "markdown",
   "metadata": {},
   "source": [
    "Terdapat missing values dan duplicated values pada dataframe full yang akan diolah lebih lanjut."
   ]
  },
  {
   "cell_type": "markdown",
   "metadata": {},
   "source": [
    "### Identifikasi kolom yang hilang pada dataframe test <a name=\"datarev_4\"></a>"
   ]
  },
  {
   "cell_type": "markdown",
   "metadata": {},
   "source": [
    "**Step 1.6**\n",
    "Membandingkan kolom set full dengan kolom set test dan mendeteksi kekurangannya."
   ]
  },
  {
   "cell_type": "code",
   "execution_count": 18,
   "metadata": {},
   "outputs": [
    {
     "name": "stdout",
     "output_type": "stream",
     "text": [
      "<class 'pandas.core.frame.DataFrame'>\n",
      "Index: 22716 entries, 2016-01-15 00:00:00 to 2018-08-18 10:59:59\n",
      "Data columns (total 34 columns):\n",
      " #   Column                                              Non-Null Count  Dtype  \n",
      "---  ------                                              --------------  -----  \n",
      " 0   final.output.concentrate_ag                         22627 non-null  float64\n",
      " 1   final.output.concentrate_pb                         22629 non-null  float64\n",
      " 2   final.output.concentrate_sol                        22331 non-null  float64\n",
      " 3   final.output.concentrate_au                         22630 non-null  float64\n",
      " 4   final.output.recovery                               20753 non-null  float64\n",
      " 5   final.output.tail_ag                                22633 non-null  float64\n",
      " 6   final.output.tail_pb                                22516 non-null  float64\n",
      " 7   final.output.tail_sol                               22445 non-null  float64\n",
      " 8   final.output.tail_au                                22635 non-null  float64\n",
      " 9   primary_cleaner.output.concentrate_ag               22618 non-null  float64\n",
      " 10  primary_cleaner.output.concentrate_pb               22268 non-null  float64\n",
      " 11  primary_cleaner.output.concentrate_sol              21918 non-null  float64\n",
      " 12  primary_cleaner.output.concentrate_au               22618 non-null  float64\n",
      " 13  primary_cleaner.output.tail_ag                      22614 non-null  float64\n",
      " 14  primary_cleaner.output.tail_pb                      22594 non-null  float64\n",
      " 15  primary_cleaner.output.tail_sol                     22365 non-null  float64\n",
      " 16  primary_cleaner.output.tail_au                      22617 non-null  float64\n",
      " 17  rougher.calculation.sulfate_to_au_concentrate       22672 non-null  float64\n",
      " 18  rougher.calculation.floatbank10_sulfate_to_au_feed  22672 non-null  float64\n",
      " 19  rougher.calculation.floatbank11_sulfate_to_au_feed  22672 non-null  float64\n",
      " 20  rougher.calculation.au_pb_ratio                     21089 non-null  float64\n",
      " 21  rougher.output.concentrate_ag                       22618 non-null  float64\n",
      " 22  rougher.output.concentrate_pb                       22618 non-null  float64\n",
      " 23  rougher.output.concentrate_sol                      22526 non-null  float64\n",
      " 24  rougher.output.concentrate_au                       22618 non-null  float64\n",
      " 25  rougher.output.recovery                             19597 non-null  float64\n",
      " 26  rougher.output.tail_ag                              19979 non-null  float64\n",
      " 27  rougher.output.tail_pb                              22618 non-null  float64\n",
      " 28  rougher.output.tail_sol                             19980 non-null  float64\n",
      " 29  rougher.output.tail_au                              19980 non-null  float64\n",
      " 30  secondary_cleaner.output.tail_ag                    22616 non-null  float64\n",
      " 31  secondary_cleaner.output.tail_pb                    22600 non-null  float64\n",
      " 32  secondary_cleaner.output.tail_sol                   20501 non-null  float64\n",
      " 33  secondary_cleaner.output.tail_au                    22618 non-null  float64\n",
      "dtypes: float64(34)\n",
      "memory usage: 6.1+ MB\n"
     ]
    }
   ],
   "source": [
    "df_tempfull=pd.DataFrame() #membuat dataframe sementara\n",
    "for col in list(full.columns):#loop melalui list kolom set full\n",
    "    if col not in list(test.columns):#jika kolom tidak ditemukan pada set test\n",
    "        df_tempfull[col]=full[col]#menambahkan kolom dari set full set ke dataframe sementara\n",
    "        \n",
    "df_tempfull.info()#informasi umum terkait dataframe sementara"
   ]
  },
  {
   "cell_type": "code",
   "execution_count": 19,
   "metadata": {},
   "outputs": [
    {
     "data": {
      "text/plain": [
       "(22716, 34)"
      ]
     },
     "execution_count": 19,
     "metadata": {},
     "output_type": "execute_result"
    }
   ],
   "source": [
    "df_tempfull.shape"
   ]
  },
  {
   "cell_type": "markdown",
   "metadata": {},
   "source": [
    "Dataframe test kekurangan 34 kolom, di mana kolom-kolom tersebut terdiri dari 13 item dari stage rougher, 8 item dari stage primary cleaner, 4 item dari stage secondary cleaner, dan 9 item dari stage final."
   ]
  },
  {
   "cell_type": "markdown",
   "metadata": {},
   "source": [
    "### Kesimpulan <a name=\"datarev_conclusion\"></a>"
   ]
  },
  {
   "cell_type": "markdown",
   "metadata": {},
   "source": [
    "Data type kolom pada dataframe train, test, dan full telah sesuai. Selanjutnya terdapat kekuarangan kolom yang diperlukan pada dataframe test yang terdiri dari 13 item dari stage rougher, 8 item dari stage primary cleaner, 4 item dari stage secondary cleaner, dan 9 item dari stage final. Kemudian juga terdapat missing value dan duplicated value pada ketiga dataframe yang perlu ditindaklanjuti sebelum dilakukan analisis lebih lanjut."
   ]
  },
  {
   "cell_type": "markdown",
   "metadata": {},
   "source": [
    "[Kembali ke Daftar Isi](#back)"
   ]
  },
  {
   "cell_type": "markdown",
   "metadata": {},
   "source": [
    "## Tahap 2. Pra-pemrosesan Data <a id='data_preprocessing'></a>"
   ]
  },
  {
   "cell_type": "markdown",
   "metadata": {},
   "source": [
    "### Memverifikasi perhitungan 'rougher output recovery' pada dataframe train <a id='dataprep_1'></a>"
   ]
  },
  {
   "cell_type": "markdown",
   "metadata": {},
   "source": [
    "**Step 2.1**\n",
    "Melakukan pembersihan null dalam dataframe train untuk melakukan verifikasi menggunakan rumus  yang telah diberikan pada deskripsi proyek."
   ]
  },
  {
   "cell_type": "code",
   "execution_count": 15,
   "metadata": {
    "scrolled": true
   },
   "outputs": [
    {
     "name": "stdout",
     "output_type": "stream",
     "text": [
      "<class 'pandas.core.frame.DataFrame'>\n",
      "Index: 11017 entries, 2016-01-15 00:00:00 to 2018-08-18 10:59:59\n",
      "Data columns (total 86 columns):\n",
      " #   Column                                              Non-Null Count  Dtype  \n",
      "---  ------                                              --------------  -----  \n",
      " 0   final.output.concentrate_ag                         11017 non-null  float64\n",
      " 1   final.output.concentrate_pb                         11017 non-null  float64\n",
      " 2   final.output.concentrate_sol                        11017 non-null  float64\n",
      " 3   final.output.concentrate_au                         11017 non-null  float64\n",
      " 4   final.output.recovery                               11017 non-null  float64\n",
      " 5   final.output.tail_ag                                11017 non-null  float64\n",
      " 6   final.output.tail_pb                                11017 non-null  float64\n",
      " 7   final.output.tail_sol                               11017 non-null  float64\n",
      " 8   final.output.tail_au                                11017 non-null  float64\n",
      " 9   primary_cleaner.input.sulfate                       11017 non-null  float64\n",
      " 10  primary_cleaner.input.depressant                    11017 non-null  float64\n",
      " 11  primary_cleaner.input.feed_size                     11017 non-null  float64\n",
      " 12  primary_cleaner.input.xanthate                      11017 non-null  float64\n",
      " 13  primary_cleaner.output.concentrate_ag               11017 non-null  float64\n",
      " 14  primary_cleaner.output.concentrate_pb               11017 non-null  float64\n",
      " 15  primary_cleaner.output.concentrate_sol              11017 non-null  float64\n",
      " 16  primary_cleaner.output.concentrate_au               11017 non-null  float64\n",
      " 17  primary_cleaner.output.tail_ag                      11017 non-null  float64\n",
      " 18  primary_cleaner.output.tail_pb                      11017 non-null  float64\n",
      " 19  primary_cleaner.output.tail_sol                     11017 non-null  float64\n",
      " 20  primary_cleaner.output.tail_au                      11017 non-null  float64\n",
      " 21  primary_cleaner.state.floatbank8_a_air              11017 non-null  float64\n",
      " 22  primary_cleaner.state.floatbank8_a_level            11017 non-null  float64\n",
      " 23  primary_cleaner.state.floatbank8_b_air              11017 non-null  float64\n",
      " 24  primary_cleaner.state.floatbank8_b_level            11017 non-null  float64\n",
      " 25  primary_cleaner.state.floatbank8_c_air              11017 non-null  float64\n",
      " 26  primary_cleaner.state.floatbank8_c_level            11017 non-null  float64\n",
      " 27  primary_cleaner.state.floatbank8_d_air              11017 non-null  float64\n",
      " 28  primary_cleaner.state.floatbank8_d_level            11017 non-null  float64\n",
      " 29  rougher.calculation.sulfate_to_au_concentrate       11017 non-null  float64\n",
      " 30  rougher.calculation.floatbank10_sulfate_to_au_feed  11017 non-null  float64\n",
      " 31  rougher.calculation.floatbank11_sulfate_to_au_feed  11017 non-null  float64\n",
      " 32  rougher.calculation.au_pb_ratio                     11017 non-null  float64\n",
      " 33  rougher.input.feed_ag                               11017 non-null  float64\n",
      " 34  rougher.input.feed_pb                               11017 non-null  float64\n",
      " 35  rougher.input.feed_rate                             11017 non-null  float64\n",
      " 36  rougher.input.feed_size                             11017 non-null  float64\n",
      " 37  rougher.input.feed_sol                              11017 non-null  float64\n",
      " 38  rougher.input.feed_au                               11017 non-null  float64\n",
      " 39  rougher.input.floatbank10_sulfate                   11017 non-null  float64\n",
      " 40  rougher.input.floatbank10_xanthate                  11017 non-null  float64\n",
      " 41  rougher.input.floatbank11_sulfate                   11017 non-null  float64\n",
      " 42  rougher.input.floatbank11_xanthate                  11017 non-null  float64\n",
      " 43  rougher.output.concentrate_ag                       11017 non-null  float64\n",
      " 44  rougher.output.concentrate_pb                       11017 non-null  float64\n",
      " 45  rougher.output.concentrate_sol                      11017 non-null  float64\n",
      " 46  rougher.output.concentrate_au                       11017 non-null  float64\n",
      " 47  rougher.output.recovery                             11017 non-null  float64\n",
      " 48  rougher.output.tail_ag                              11017 non-null  float64\n",
      " 49  rougher.output.tail_pb                              11017 non-null  float64\n",
      " 50  rougher.output.tail_sol                             11017 non-null  float64\n",
      " 51  rougher.output.tail_au                              11017 non-null  float64\n",
      " 52  rougher.state.floatbank10_a_air                     11017 non-null  float64\n",
      " 53  rougher.state.floatbank10_a_level                   11017 non-null  float64\n",
      " 54  rougher.state.floatbank10_b_air                     11017 non-null  float64\n",
      " 55  rougher.state.floatbank10_b_level                   11017 non-null  float64\n",
      " 56  rougher.state.floatbank10_c_air                     11017 non-null  float64\n",
      " 57  rougher.state.floatbank10_c_level                   11017 non-null  float64\n",
      " 58  rougher.state.floatbank10_d_air                     11017 non-null  float64\n",
      " 59  rougher.state.floatbank10_d_level                   11017 non-null  float64\n",
      " 60  rougher.state.floatbank10_e_air                     11017 non-null  float64\n",
      " 61  rougher.state.floatbank10_e_level                   11017 non-null  float64\n",
      " 62  rougher.state.floatbank10_f_air                     11017 non-null  float64\n",
      " 63  rougher.state.floatbank10_f_level                   11017 non-null  float64\n",
      " 64  secondary_cleaner.output.tail_ag                    11017 non-null  float64\n",
      " 65  secondary_cleaner.output.tail_pb                    11017 non-null  float64\n",
      " 66  secondary_cleaner.output.tail_sol                   11017 non-null  float64\n",
      " 67  secondary_cleaner.output.tail_au                    11017 non-null  float64\n",
      " 68  secondary_cleaner.state.floatbank2_a_air            11017 non-null  float64\n",
      " 69  secondary_cleaner.state.floatbank2_a_level          11017 non-null  float64\n",
      " 70  secondary_cleaner.state.floatbank2_b_air            11017 non-null  float64\n",
      " 71  secondary_cleaner.state.floatbank2_b_level          11017 non-null  float64\n",
      " 72  secondary_cleaner.state.floatbank3_a_air            11017 non-null  float64\n",
      " 73  secondary_cleaner.state.floatbank3_a_level          11017 non-null  float64\n",
      " 74  secondary_cleaner.state.floatbank3_b_air            11017 non-null  float64\n",
      " 75  secondary_cleaner.state.floatbank3_b_level          11017 non-null  float64\n",
      " 76  secondary_cleaner.state.floatbank4_a_air            11017 non-null  float64\n",
      " 77  secondary_cleaner.state.floatbank4_a_level          11017 non-null  float64\n",
      " 78  secondary_cleaner.state.floatbank4_b_air            11017 non-null  float64\n",
      " 79  secondary_cleaner.state.floatbank4_b_level          11017 non-null  float64\n",
      " 80  secondary_cleaner.state.floatbank5_a_air            11017 non-null  float64\n",
      " 81  secondary_cleaner.state.floatbank5_a_level          11017 non-null  float64\n",
      " 82  secondary_cleaner.state.floatbank5_b_air            11017 non-null  float64\n",
      " 83  secondary_cleaner.state.floatbank5_b_level          11017 non-null  float64\n",
      " 84  secondary_cleaner.state.floatbank6_a_air            11017 non-null  float64\n",
      " 85  secondary_cleaner.state.floatbank6_a_level          11017 non-null  float64\n",
      "dtypes: float64(86)\n",
      "memory usage: 7.3+ MB\n"
     ]
    }
   ],
   "source": [
    "train_nnull = train.dropna() #menghapus seluruh null values dari train\n",
    "train_nnull.info()"
   ]
  },
  {
   "cell_type": "markdown",
   "metadata": {},
   "source": [
    "**Step 2.2**\n",
    "Melakukan kalkulasi menggunakan rumus yang terdapat dalam deskripsi proyek [((C * (F - T)) / ((F * (C - T)))) * 100] dan membandingkannya dengan kolom rougher.output.recovery existing pada dataframe."
   ]
  },
  {
   "cell_type": "code",
   "execution_count": 16,
   "metadata": {
    "scrolled": true
   },
   "outputs": [
    {
     "name": "stderr",
     "output_type": "stream",
     "text": [
      "C:\\Users\\Luqmanulhakim\\AppData\\Local\\Temp\\ipykernel_33160\\247968824.py:4: SettingWithCopyWarning: \n",
      "A value is trying to be set on a copy of a slice from a DataFrame.\n",
      "Try using .loc[row_indexer,col_indexer] = value instead\n",
      "\n",
      "See the caveats in the documentation: https://pandas.pydata.org/pandas-docs/stable/user_guide/indexing.html#returning-a-view-versus-a-copy\n",
      "  train_nnull['recovery'] = ((C * (F - T)) / ((F * (C - T)))) * 100\n"
     ]
    },
    {
     "data": {
      "text/plain": [
       "date\n",
       "2016-01-15 00:00:00    87.107763\n",
       "2016-01-15 01:00:00    86.843261\n",
       "2016-01-15 02:00:00    86.842308\n",
       "2016-01-15 03:00:00    87.226430\n",
       "2016-01-15 04:00:00    86.688794\n",
       "Name: recovery, dtype: float64"
      ]
     },
     "metadata": {},
     "output_type": "display_data"
    },
    {
     "data": {
      "text/plain": [
       "date\n",
       "2016-01-15 00:00:00    87.107763\n",
       "2016-01-15 01:00:00    86.843261\n",
       "2016-01-15 02:00:00    86.842308\n",
       "2016-01-15 03:00:00    87.226430\n",
       "2016-01-15 04:00:00    86.688794\n",
       "Name: rougher.output.recovery, dtype: float64"
      ]
     },
     "metadata": {},
     "output_type": "display_data"
    }
   ],
   "source": [
    "C = train_nnull['rougher.output.concentrate_au']\n",
    "F = train_nnull['rougher.input.feed_au']\n",
    "T = train_nnull['rougher.output.tail_au']\n",
    "train_nnull['recovery'] = ((C * (F - T)) / ((F * (C - T)))) * 100\n",
    "display(train_nnull['recovery'].head())\n",
    "display(train_nnull['rougher.output.recovery'].head())"
   ]
  },
  {
   "cell_type": "markdown",
   "metadata": {},
   "source": [
    "**Step 2.3**\n",
    "Melakukan kalkulasi Mean Absolute Error (MAE) terhadap hasil perhitungan di atas dengan kolom recovery existing."
   ]
  },
  {
   "cell_type": "code",
   "execution_count": 17,
   "metadata": {
    "scrolled": true
   },
   "outputs": [
    {
     "name": "stdout",
     "output_type": "stream",
     "text": [
      "9.460144184559453e-15\n"
     ]
    }
   ],
   "source": [
    "MAE = np.sum(np.abs(train_nnull['recovery'] - train_nnull['rougher.output.recovery']))/\\\n",
    "len(train_nnull['rougher.output.recovery'])\n",
    "print(MAE)"
   ]
  },
  {
   "cell_type": "markdown",
   "metadata": {},
   "source": [
    "Nilai MAE dapat diabaikan karena sangat tidak signifikan. Jadi kita dapat menyimpulkan bahwa nilai rougher.output.recovery sudah benar."
   ]
  },
  {
   "cell_type": "markdown",
   "metadata": {},
   "source": [
    "### Menangani missing column pada dataframe test<a id='dataprep_2'></a>"
   ]
  },
  {
   "cell_type": "markdown",
   "metadata": {},
   "source": [
    "**Step 2.4**\n",
    "Menindaklanjuti missing column pada dataframe test. Untuk mengisi missing column, telah tersedia data yang didapat pada proses sebelumnya yakni df_tempfull"
   ]
  },
  {
   "cell_type": "code",
   "execution_count": 20,
   "metadata": {},
   "outputs": [
    {
     "data": {
      "text/plain": [
       "(5856, 86)"
      ]
     },
     "execution_count": 20,
     "metadata": {},
     "output_type": "execute_result"
    }
   ],
   "source": [
    "test = test.merge(df_tempfull, on = 'date')\n",
    "test.shape"
   ]
  },
  {
   "cell_type": "markdown",
   "metadata": {},
   "source": [
    "**Step 2.5**\n",
    "Menyamakan urutan column pada set train, set test, dan set full, untuk proses analisis selanjutnya."
   ]
  },
  {
   "cell_type": "code",
   "execution_count": 21,
   "metadata": {},
   "outputs": [],
   "source": [
    "train = train.reindex(columns=sorted(train.columns))\n",
    "test = test.reindex(columns=sorted(test.columns))\n",
    "full = full.reindex(columns=sorted(full.columns))"
   ]
  },
  {
   "cell_type": "code",
   "execution_count": 22,
   "metadata": {},
   "outputs": [
    {
     "name": "stdout",
     "output_type": "stream",
     "text": [
      "<class 'pandas.core.frame.DataFrame'>\n",
      "Index: 16860 entries, 2016-01-15 00:00:00 to 2018-08-18 10:59:59\n",
      "Data columns (total 86 columns):\n",
      " #   Column                                              Non-Null Count  Dtype  \n",
      "---  ------                                              --------------  -----  \n",
      " 0   final.output.concentrate_ag                         16788 non-null  float64\n",
      " 1   final.output.concentrate_au                         16789 non-null  float64\n",
      " 2   final.output.concentrate_pb                         16788 non-null  float64\n",
      " 3   final.output.concentrate_sol                        16490 non-null  float64\n",
      " 4   final.output.recovery                               15339 non-null  float64\n",
      " 5   final.output.tail_ag                                16794 non-null  float64\n",
      " 6   final.output.tail_au                                16794 non-null  float64\n",
      " 7   final.output.tail_pb                                16677 non-null  float64\n",
      " 8   final.output.tail_sol                               16715 non-null  float64\n",
      " 9   primary_cleaner.input.depressant                    15598 non-null  float64\n",
      " 10  primary_cleaner.input.feed_size                     16860 non-null  float64\n",
      " 11  primary_cleaner.input.sulfate                       15553 non-null  float64\n",
      " 12  primary_cleaner.input.xanthate                      15875 non-null  float64\n",
      " 13  primary_cleaner.output.concentrate_ag               16778 non-null  float64\n",
      " 14  primary_cleaner.output.concentrate_au               16778 non-null  float64\n",
      " 15  primary_cleaner.output.concentrate_pb               16502 non-null  float64\n",
      " 16  primary_cleaner.output.concentrate_sol              16224 non-null  float64\n",
      " 17  primary_cleaner.output.tail_ag                      16777 non-null  float64\n",
      " 18  primary_cleaner.output.tail_au                      16777 non-null  float64\n",
      " 19  primary_cleaner.output.tail_pb                      16761 non-null  float64\n",
      " 20  primary_cleaner.output.tail_sol                     16579 non-null  float64\n",
      " 21  primary_cleaner.state.floatbank8_a_air              16820 non-null  float64\n",
      " 22  primary_cleaner.state.floatbank8_a_level            16827 non-null  float64\n",
      " 23  primary_cleaner.state.floatbank8_b_air              16820 non-null  float64\n",
      " 24  primary_cleaner.state.floatbank8_b_level            16833 non-null  float64\n",
      " 25  primary_cleaner.state.floatbank8_c_air              16822 non-null  float64\n",
      " 26  primary_cleaner.state.floatbank8_c_level            16833 non-null  float64\n",
      " 27  primary_cleaner.state.floatbank8_d_air              16821 non-null  float64\n",
      " 28  primary_cleaner.state.floatbank8_d_level            16833 non-null  float64\n",
      " 29  rougher.calculation.au_pb_ratio                     15618 non-null  float64\n",
      " 30  rougher.calculation.floatbank10_sulfate_to_au_feed  16833 non-null  float64\n",
      " 31  rougher.calculation.floatbank11_sulfate_to_au_feed  16833 non-null  float64\n",
      " 32  rougher.calculation.sulfate_to_au_concentrate       16833 non-null  float64\n",
      " 33  rougher.input.feed_ag                               16778 non-null  float64\n",
      " 34  rougher.input.feed_au                               16777 non-null  float64\n",
      " 35  rougher.input.feed_pb                               16632 non-null  float64\n",
      " 36  rougher.input.feed_rate                             16347 non-null  float64\n",
      " 37  rougher.input.feed_size                             16443 non-null  float64\n",
      " 38  rougher.input.feed_sol                              16568 non-null  float64\n",
      " 39  rougher.input.floatbank10_sulfate                   15816 non-null  float64\n",
      " 40  rougher.input.floatbank10_xanthate                  16514 non-null  float64\n",
      " 41  rougher.input.floatbank11_sulfate                   16237 non-null  float64\n",
      " 42  rougher.input.floatbank11_xanthate                  14956 non-null  float64\n",
      " 43  rougher.output.concentrate_ag                       16778 non-null  float64\n",
      " 44  rougher.output.concentrate_au                       16778 non-null  float64\n",
      " 45  rougher.output.concentrate_pb                       16778 non-null  float64\n",
      " 46  rougher.output.concentrate_sol                      16698 non-null  float64\n",
      " 47  rougher.output.recovery                             14287 non-null  float64\n",
      " 48  rougher.output.tail_ag                              14610 non-null  float64\n",
      " 49  rougher.output.tail_au                              14611 non-null  float64\n",
      " 50  rougher.output.tail_pb                              16778 non-null  float64\n",
      " 51  rougher.output.tail_sol                             14611 non-null  float64\n",
      " 52  rougher.state.floatbank10_a_air                     16807 non-null  float64\n",
      " 53  rougher.state.floatbank10_a_level                   16807 non-null  float64\n",
      " 54  rougher.state.floatbank10_b_air                     16807 non-null  float64\n",
      " 55  rougher.state.floatbank10_b_level                   16807 non-null  float64\n",
      " 56  rougher.state.floatbank10_c_air                     16807 non-null  float64\n",
      " 57  rougher.state.floatbank10_c_level                   16814 non-null  float64\n",
      " 58  rougher.state.floatbank10_d_air                     16802 non-null  float64\n",
      " 59  rougher.state.floatbank10_d_level                   16809 non-null  float64\n",
      " 60  rougher.state.floatbank10_e_air                     16257 non-null  float64\n",
      " 61  rougher.state.floatbank10_e_level                   16809 non-null  float64\n",
      " 62  rougher.state.floatbank10_f_air                     16802 non-null  float64\n",
      " 63  rougher.state.floatbank10_f_level                   16802 non-null  float64\n",
      " 64  secondary_cleaner.output.tail_ag                    16776 non-null  float64\n",
      " 65  secondary_cleaner.output.tail_au                    16778 non-null  float64\n",
      " 66  secondary_cleaner.output.tail_pb                    16764 non-null  float64\n",
      " 67  secondary_cleaner.output.tail_sol                   14874 non-null  float64\n",
      " 68  secondary_cleaner.state.floatbank2_a_air            16497 non-null  float64\n",
      " 69  secondary_cleaner.state.floatbank2_a_level          16751 non-null  float64\n",
      " 70  secondary_cleaner.state.floatbank2_b_air            16705 non-null  float64\n",
      " 71  secondary_cleaner.state.floatbank2_b_level          16748 non-null  float64\n",
      " 72  secondary_cleaner.state.floatbank3_a_air            16763 non-null  float64\n",
      " 73  secondary_cleaner.state.floatbank3_a_level          16747 non-null  float64\n",
      " 74  secondary_cleaner.state.floatbank3_b_air            16752 non-null  float64\n",
      " 75  secondary_cleaner.state.floatbank3_b_level          16750 non-null  float64\n",
      " 76  secondary_cleaner.state.floatbank4_a_air            16731 non-null  float64\n",
      " 77  secondary_cleaner.state.floatbank4_a_level          16747 non-null  float64\n",
      " 78  secondary_cleaner.state.floatbank4_b_air            16768 non-null  float64\n",
      " 79  secondary_cleaner.state.floatbank4_b_level          16767 non-null  float64\n",
      " 80  secondary_cleaner.state.floatbank5_a_air            16775 non-null  float64\n",
      " 81  secondary_cleaner.state.floatbank5_a_level          16775 non-null  float64\n",
      " 82  secondary_cleaner.state.floatbank5_b_air            16775 non-null  float64\n",
      " 83  secondary_cleaner.state.floatbank5_b_level          16776 non-null  float64\n",
      " 84  secondary_cleaner.state.floatbank6_a_air            16757 non-null  float64\n",
      " 85  secondary_cleaner.state.floatbank6_a_level          16775 non-null  float64\n",
      "dtypes: float64(86)\n",
      "memory usage: 11.2+ MB\n",
      "<class 'pandas.core.frame.DataFrame'>\n",
      "Index: 5856 entries, 2016-09-01 00:59:59 to 2017-12-31 23:59:59\n",
      "Data columns (total 86 columns):\n",
      " #   Column                                              Non-Null Count  Dtype  \n",
      "---  ------                                              --------------  -----  \n",
      " 0   final.output.concentrate_ag                         5839 non-null   float64\n",
      " 1   final.output.concentrate_au                         5841 non-null   float64\n",
      " 2   final.output.concentrate_pb                         5841 non-null   float64\n",
      " 3   final.output.concentrate_sol                        5841 non-null   float64\n",
      " 4   final.output.recovery                               5414 non-null   float64\n",
      " 5   final.output.tail_ag                                5839 non-null   float64\n",
      " 6   final.output.tail_au                                5841 non-null   float64\n",
      " 7   final.output.tail_pb                                5839 non-null   float64\n",
      " 8   final.output.tail_sol                               5730 non-null   float64\n",
      " 9   primary_cleaner.input.depressant                    5572 non-null   float64\n",
      " 10  primary_cleaner.input.feed_size                     5856 non-null   float64\n",
      " 11  primary_cleaner.input.sulfate                       5554 non-null   float64\n",
      " 12  primary_cleaner.input.xanthate                      5690 non-null   float64\n",
      " 13  primary_cleaner.output.concentrate_ag               5840 non-null   float64\n",
      " 14  primary_cleaner.output.concentrate_au               5840 non-null   float64\n",
      " 15  primary_cleaner.output.concentrate_pb               5766 non-null   float64\n",
      " 16  primary_cleaner.output.concentrate_sol              5694 non-null   float64\n",
      " 17  primary_cleaner.output.tail_ag                      5837 non-null   float64\n",
      " 18  primary_cleaner.output.tail_au                      5840 non-null   float64\n",
      " 19  primary_cleaner.output.tail_pb                      5833 non-null   float64\n",
      " 20  primary_cleaner.output.tail_sol                     5786 non-null   float64\n",
      " 21  primary_cleaner.state.floatbank8_a_air              5840 non-null   float64\n",
      " 22  primary_cleaner.state.floatbank8_a_level            5840 non-null   float64\n",
      " 23  primary_cleaner.state.floatbank8_b_air              5840 non-null   float64\n",
      " 24  primary_cleaner.state.floatbank8_b_level            5840 non-null   float64\n",
      " 25  primary_cleaner.state.floatbank8_c_air              5840 non-null   float64\n",
      " 26  primary_cleaner.state.floatbank8_c_level            5840 non-null   float64\n",
      " 27  primary_cleaner.state.floatbank8_d_air              5840 non-null   float64\n",
      " 28  primary_cleaner.state.floatbank8_d_level            5840 non-null   float64\n",
      " 29  rougher.calculation.au_pb_ratio                     5471 non-null   float64\n",
      " 30  rougher.calculation.floatbank10_sulfate_to_au_feed  5839 non-null   float64\n",
      " 31  rougher.calculation.floatbank11_sulfate_to_au_feed  5839 non-null   float64\n",
      " 32  rougher.calculation.sulfate_to_au_concentrate       5839 non-null   float64\n",
      " 33  rougher.input.feed_ag                               5840 non-null   float64\n",
      " 34  rougher.input.feed_au                               5840 non-null   float64\n",
      " 35  rougher.input.feed_pb                               5840 non-null   float64\n",
      " 36  rougher.input.feed_rate                             5816 non-null   float64\n",
      " 37  rougher.input.feed_size                             5834 non-null   float64\n",
      " 38  rougher.input.feed_sol                              5789 non-null   float64\n",
      " 39  rougher.input.floatbank10_sulfate                   5599 non-null   float64\n",
      " 40  rougher.input.floatbank10_xanthate                  5733 non-null   float64\n",
      " 41  rougher.input.floatbank11_sulfate                   5801 non-null   float64\n",
      " 42  rougher.input.floatbank11_xanthate                  5503 non-null   float64\n",
      " 43  rougher.output.concentrate_ag                       5840 non-null   float64\n",
      " 44  rougher.output.concentrate_au                       5840 non-null   float64\n",
      " 45  rougher.output.concentrate_pb                       5840 non-null   float64\n",
      " 46  rougher.output.concentrate_sol                      5828 non-null   float64\n",
      " 47  rougher.output.recovery                             5310 non-null   float64\n",
      " 48  rougher.output.tail_ag                              5369 non-null   float64\n",
      " 49  rougher.output.tail_au                              5369 non-null   float64\n",
      " 50  rougher.output.tail_pb                              5840 non-null   float64\n",
      " 51  rougher.output.tail_sol                             5369 non-null   float64\n",
      " 52  rougher.state.floatbank10_a_air                     5839 non-null   float64\n",
      " 53  rougher.state.floatbank10_a_level                   5840 non-null   float64\n",
      " 54  rougher.state.floatbank10_b_air                     5839 non-null   float64\n",
      " 55  rougher.state.floatbank10_b_level                   5840 non-null   float64\n",
      " 56  rougher.state.floatbank10_c_air                     5839 non-null   float64\n",
      " 57  rougher.state.floatbank10_c_level                   5840 non-null   float64\n",
      " 58  rougher.state.floatbank10_d_air                     5839 non-null   float64\n",
      " 59  rougher.state.floatbank10_d_level                   5840 non-null   float64\n",
      " 60  rougher.state.floatbank10_e_air                     5839 non-null   float64\n",
      " 61  rougher.state.floatbank10_e_level                   5840 non-null   float64\n",
      " 62  rougher.state.floatbank10_f_air                     5839 non-null   float64\n",
      " 63  rougher.state.floatbank10_f_level                   5840 non-null   float64\n",
      " 64  secondary_cleaner.output.tail_ag                    5840 non-null   float64\n",
      " 65  secondary_cleaner.output.tail_au                    5840 non-null   float64\n",
      " 66  secondary_cleaner.output.tail_pb                    5836 non-null   float64\n",
      " 67  secondary_cleaner.output.tail_sol                   5627 non-null   float64\n",
      " 68  secondary_cleaner.state.floatbank2_a_air            5836 non-null   float64\n",
      " 69  secondary_cleaner.state.floatbank2_a_level          5840 non-null   float64\n",
      " 70  secondary_cleaner.state.floatbank2_b_air            5833 non-null   float64\n",
      " 71  secondary_cleaner.state.floatbank2_b_level          5840 non-null   float64\n",
      " 72  secondary_cleaner.state.floatbank3_a_air            5822 non-null   float64\n",
      " 73  secondary_cleaner.state.floatbank3_a_level          5840 non-null   float64\n",
      " 74  secondary_cleaner.state.floatbank3_b_air            5840 non-null   float64\n",
      " 75  secondary_cleaner.state.floatbank3_b_level          5840 non-null   float64\n",
      " 76  secondary_cleaner.state.floatbank4_a_air            5840 non-null   float64\n",
      " 77  secondary_cleaner.state.floatbank4_a_level          5840 non-null   float64\n",
      " 78  secondary_cleaner.state.floatbank4_b_air            5840 non-null   float64\n",
      " 79  secondary_cleaner.state.floatbank4_b_level          5840 non-null   float64\n",
      " 80  secondary_cleaner.state.floatbank5_a_air            5840 non-null   float64\n",
      " 81  secondary_cleaner.state.floatbank5_a_level          5840 non-null   float64\n",
      " 82  secondary_cleaner.state.floatbank5_b_air            5840 non-null   float64\n",
      " 83  secondary_cleaner.state.floatbank5_b_level          5840 non-null   float64\n",
      " 84  secondary_cleaner.state.floatbank6_a_air            5840 non-null   float64\n",
      " 85  secondary_cleaner.state.floatbank6_a_level          5840 non-null   float64\n",
      "dtypes: float64(86)\n",
      "memory usage: 3.9+ MB\n",
      "<class 'pandas.core.frame.DataFrame'>\n",
      "Index: 22716 entries, 2016-01-15 00:00:00 to 2018-08-18 10:59:59\n",
      "Data columns (total 86 columns):\n",
      " #   Column                                              Non-Null Count  Dtype  \n",
      "---  ------                                              --------------  -----  \n",
      " 0   final.output.concentrate_ag                         22627 non-null  float64\n",
      " 1   final.output.concentrate_au                         22630 non-null  float64\n",
      " 2   final.output.concentrate_pb                         22629 non-null  float64\n",
      " 3   final.output.concentrate_sol                        22331 non-null  float64\n",
      " 4   final.output.recovery                               20753 non-null  float64\n",
      " 5   final.output.tail_ag                                22633 non-null  float64\n",
      " 6   final.output.tail_au                                22635 non-null  float64\n",
      " 7   final.output.tail_pb                                22516 non-null  float64\n",
      " 8   final.output.tail_sol                               22445 non-null  float64\n",
      " 9   primary_cleaner.input.depressant                    21170 non-null  float64\n",
      " 10  primary_cleaner.input.feed_size                     22716 non-null  float64\n",
      " 11  primary_cleaner.input.sulfate                       21107 non-null  float64\n",
      " 12  primary_cleaner.input.xanthate                      21565 non-null  float64\n",
      " 13  primary_cleaner.output.concentrate_ag               22618 non-null  float64\n",
      " 14  primary_cleaner.output.concentrate_au               22618 non-null  float64\n",
      " 15  primary_cleaner.output.concentrate_pb               22268 non-null  float64\n",
      " 16  primary_cleaner.output.concentrate_sol              21918 non-null  float64\n",
      " 17  primary_cleaner.output.tail_ag                      22614 non-null  float64\n",
      " 18  primary_cleaner.output.tail_au                      22617 non-null  float64\n",
      " 19  primary_cleaner.output.tail_pb                      22594 non-null  float64\n",
      " 20  primary_cleaner.output.tail_sol                     22365 non-null  float64\n",
      " 21  primary_cleaner.state.floatbank8_a_air              22660 non-null  float64\n",
      " 22  primary_cleaner.state.floatbank8_a_level            22667 non-null  float64\n",
      " 23  primary_cleaner.state.floatbank8_b_air              22660 non-null  float64\n",
      " 24  primary_cleaner.state.floatbank8_b_level            22673 non-null  float64\n",
      " 25  primary_cleaner.state.floatbank8_c_air              22662 non-null  float64\n",
      " 26  primary_cleaner.state.floatbank8_c_level            22673 non-null  float64\n",
      " 27  primary_cleaner.state.floatbank8_d_air              22661 non-null  float64\n",
      " 28  primary_cleaner.state.floatbank8_d_level            22673 non-null  float64\n",
      " 29  rougher.calculation.au_pb_ratio                     21089 non-null  float64\n",
      " 30  rougher.calculation.floatbank10_sulfate_to_au_feed  22672 non-null  float64\n",
      " 31  rougher.calculation.floatbank11_sulfate_to_au_feed  22672 non-null  float64\n",
      " 32  rougher.calculation.sulfate_to_au_concentrate       22672 non-null  float64\n",
      " 33  rougher.input.feed_ag                               22618 non-null  float64\n",
      " 34  rougher.input.feed_au                               22617 non-null  float64\n",
      " 35  rougher.input.feed_pb                               22472 non-null  float64\n",
      " 36  rougher.input.feed_rate                             22163 non-null  float64\n",
      " 37  rougher.input.feed_size                             22277 non-null  float64\n",
      " 38  rougher.input.feed_sol                              22357 non-null  float64\n",
      " 39  rougher.input.floatbank10_sulfate                   21415 non-null  float64\n",
      " 40  rougher.input.floatbank10_xanthate                  22247 non-null  float64\n",
      " 41  rougher.input.floatbank11_sulfate                   22038 non-null  float64\n",
      " 42  rougher.input.floatbank11_xanthate                  20459 non-null  float64\n",
      " 43  rougher.output.concentrate_ag                       22618 non-null  float64\n",
      " 44  rougher.output.concentrate_au                       22618 non-null  float64\n",
      " 45  rougher.output.concentrate_pb                       22618 non-null  float64\n",
      " 46  rougher.output.concentrate_sol                      22526 non-null  float64\n",
      " 47  rougher.output.recovery                             19597 non-null  float64\n",
      " 48  rougher.output.tail_ag                              19979 non-null  float64\n",
      " 49  rougher.output.tail_au                              19980 non-null  float64\n",
      " 50  rougher.output.tail_pb                              22618 non-null  float64\n",
      " 51  rougher.output.tail_sol                             19980 non-null  float64\n",
      " 52  rougher.state.floatbank10_a_air                     22646 non-null  float64\n",
      " 53  rougher.state.floatbank10_a_level                   22647 non-null  float64\n",
      " 54  rougher.state.floatbank10_b_air                     22646 non-null  float64\n",
      " 55  rougher.state.floatbank10_b_level                   22647 non-null  float64\n",
      " 56  rougher.state.floatbank10_c_air                     22646 non-null  float64\n",
      " 57  rougher.state.floatbank10_c_level                   22654 non-null  float64\n",
      " 58  rougher.state.floatbank10_d_air                     22641 non-null  float64\n",
      " 59  rougher.state.floatbank10_d_level                   22649 non-null  float64\n",
      " 60  rougher.state.floatbank10_e_air                     22096 non-null  float64\n",
      " 61  rougher.state.floatbank10_e_level                   22649 non-null  float64\n",
      " 62  rougher.state.floatbank10_f_air                     22641 non-null  float64\n",
      " 63  rougher.state.floatbank10_f_level                   22642 non-null  float64\n",
      " 64  secondary_cleaner.output.tail_ag                    22616 non-null  float64\n",
      " 65  secondary_cleaner.output.tail_au                    22618 non-null  float64\n",
      " 66  secondary_cleaner.output.tail_pb                    22600 non-null  float64\n",
      " 67  secondary_cleaner.output.tail_sol                   20501 non-null  float64\n",
      " 68  secondary_cleaner.state.floatbank2_a_air            22333 non-null  float64\n",
      " 69  secondary_cleaner.state.floatbank2_a_level          22591 non-null  float64\n",
      " 70  secondary_cleaner.state.floatbank2_b_air            22538 non-null  float64\n",
      " 71  secondary_cleaner.state.floatbank2_b_level          22588 non-null  float64\n",
      " 72  secondary_cleaner.state.floatbank3_a_air            22585 non-null  float64\n",
      " 73  secondary_cleaner.state.floatbank3_a_level          22587 non-null  float64\n",
      " 74  secondary_cleaner.state.floatbank3_b_air            22592 non-null  float64\n",
      " 75  secondary_cleaner.state.floatbank3_b_level          22590 non-null  float64\n",
      " 76  secondary_cleaner.state.floatbank4_a_air            22571 non-null  float64\n",
      " 77  secondary_cleaner.state.floatbank4_a_level          22587 non-null  float64\n",
      " 78  secondary_cleaner.state.floatbank4_b_air            22608 non-null  float64\n",
      " 79  secondary_cleaner.state.floatbank4_b_level          22607 non-null  float64\n",
      " 80  secondary_cleaner.state.floatbank5_a_air            22615 non-null  float64\n",
      " 81  secondary_cleaner.state.floatbank5_a_level          22615 non-null  float64\n",
      " 82  secondary_cleaner.state.floatbank5_b_air            22615 non-null  float64\n",
      " 83  secondary_cleaner.state.floatbank5_b_level          22616 non-null  float64\n",
      " 84  secondary_cleaner.state.floatbank6_a_air            22597 non-null  float64\n",
      " 85  secondary_cleaner.state.floatbank6_a_level          22615 non-null  float64\n",
      "dtypes: float64(86)\n",
      "memory usage: 15.1+ MB\n",
      "None None None\n"
     ]
    }
   ],
   "source": [
    "print(f'{train.info()} {test.info()} {full.info()}')"
   ]
  },
  {
   "cell_type": "markdown",
   "metadata": {},
   "source": [
    "### Menangani missing values <a id='dataprep_3'></a>"
   ]
  },
  {
   "cell_type": "markdown",
   "metadata": {},
   "source": [
    "**Step 2.6**\n",
    "Menindaklanjuti missing value pada seluruh set data yang akan digunakan. Untuk mengisi missing value, kita akan menggunakan metode forward fills karena nilai fitur yang berurutan secara waktu memiliki kecenderungan nilai yang tidak jauh berbeda."
   ]
  },
  {
   "cell_type": "code",
   "execution_count": 23,
   "metadata": {},
   "outputs": [],
   "source": [
    "#menggunakan metode forward fills untuk missing values\n",
    "train = train.fillna(method='ffill', axis=0) \n",
    "test = test.fillna(method='ffill', axis=0)\n",
    "full = full.fillna(method='ffill', axis=0)"
   ]
  },
  {
   "cell_type": "code",
   "execution_count": 24,
   "metadata": {},
   "outputs": [
    {
     "name": "stdout",
     "output_type": "stream",
     "text": [
      "final.output.concentrate_ag                           0\n",
      "final.output.concentrate_au                           0\n",
      "final.output.concentrate_pb                           0\n",
      "final.output.concentrate_sol                          0\n",
      "final.output.recovery                                 0\n",
      "final.output.tail_ag                                  0\n",
      "final.output.tail_au                                  0\n",
      "final.output.tail_pb                                  0\n",
      "final.output.tail_sol                                 0\n",
      "primary_cleaner.input.depressant                      0\n",
      "primary_cleaner.input.feed_size                       0\n",
      "primary_cleaner.input.sulfate                         0\n",
      "primary_cleaner.input.xanthate                        0\n",
      "primary_cleaner.output.concentrate_ag                 0\n",
      "primary_cleaner.output.concentrate_au                 0\n",
      "primary_cleaner.output.concentrate_pb                 0\n",
      "primary_cleaner.output.concentrate_sol                0\n",
      "primary_cleaner.output.tail_ag                        0\n",
      "primary_cleaner.output.tail_au                        0\n",
      "primary_cleaner.output.tail_pb                        0\n",
      "primary_cleaner.output.tail_sol                       0\n",
      "primary_cleaner.state.floatbank8_a_air                0\n",
      "primary_cleaner.state.floatbank8_a_level              0\n",
      "primary_cleaner.state.floatbank8_b_air                0\n",
      "primary_cleaner.state.floatbank8_b_level              0\n",
      "primary_cleaner.state.floatbank8_c_air                0\n",
      "primary_cleaner.state.floatbank8_c_level              0\n",
      "primary_cleaner.state.floatbank8_d_air                0\n",
      "primary_cleaner.state.floatbank8_d_level              0\n",
      "rougher.calculation.au_pb_ratio                       0\n",
      "rougher.calculation.floatbank10_sulfate_to_au_feed    0\n",
      "rougher.calculation.floatbank11_sulfate_to_au_feed    0\n",
      "rougher.calculation.sulfate_to_au_concentrate         0\n",
      "rougher.input.feed_ag                                 0\n",
      "rougher.input.feed_au                                 0\n",
      "rougher.input.feed_pb                                 0\n",
      "rougher.input.feed_rate                               0\n",
      "rougher.input.feed_size                               0\n",
      "rougher.input.feed_sol                                0\n",
      "rougher.input.floatbank10_sulfate                     0\n",
      "rougher.input.floatbank10_xanthate                    0\n",
      "rougher.input.floatbank11_sulfate                     0\n",
      "rougher.input.floatbank11_xanthate                    0\n",
      "rougher.output.concentrate_ag                         0\n",
      "rougher.output.concentrate_au                         0\n",
      "rougher.output.concentrate_pb                         0\n",
      "rougher.output.concentrate_sol                        0\n",
      "rougher.output.recovery                               0\n",
      "rougher.output.tail_ag                                0\n",
      "rougher.output.tail_au                                0\n",
      "rougher.output.tail_pb                                0\n",
      "rougher.output.tail_sol                               0\n",
      "rougher.state.floatbank10_a_air                       0\n",
      "rougher.state.floatbank10_a_level                     0\n",
      "rougher.state.floatbank10_b_air                       0\n",
      "rougher.state.floatbank10_b_level                     0\n",
      "rougher.state.floatbank10_c_air                       0\n",
      "rougher.state.floatbank10_c_level                     0\n",
      "rougher.state.floatbank10_d_air                       0\n",
      "rougher.state.floatbank10_d_level                     0\n",
      "dtype: int64\n",
      "rougher.state.floatbank10_e_air               0\n",
      "rougher.state.floatbank10_e_level             0\n",
      "rougher.state.floatbank10_f_air               0\n",
      "rougher.state.floatbank10_f_level             0\n",
      "secondary_cleaner.output.tail_ag              0\n",
      "secondary_cleaner.output.tail_au              0\n",
      "secondary_cleaner.output.tail_pb              0\n",
      "secondary_cleaner.output.tail_sol             0\n",
      "secondary_cleaner.state.floatbank2_a_air      0\n",
      "secondary_cleaner.state.floatbank2_a_level    0\n",
      "secondary_cleaner.state.floatbank2_b_air      0\n",
      "secondary_cleaner.state.floatbank2_b_level    0\n",
      "secondary_cleaner.state.floatbank3_a_air      0\n",
      "secondary_cleaner.state.floatbank3_a_level    0\n",
      "secondary_cleaner.state.floatbank3_b_air      0\n",
      "secondary_cleaner.state.floatbank3_b_level    0\n",
      "secondary_cleaner.state.floatbank4_a_air      0\n",
      "secondary_cleaner.state.floatbank4_a_level    0\n",
      "secondary_cleaner.state.floatbank4_b_air      0\n",
      "secondary_cleaner.state.floatbank4_b_level    0\n",
      "secondary_cleaner.state.floatbank5_a_air      0\n",
      "secondary_cleaner.state.floatbank5_a_level    0\n",
      "secondary_cleaner.state.floatbank5_b_air      0\n",
      "secondary_cleaner.state.floatbank5_b_level    0\n",
      "secondary_cleaner.state.floatbank6_a_air      0\n",
      "secondary_cleaner.state.floatbank6_a_level    0\n",
      "dtype: int64\n",
      "\n",
      "         final.output.concentrate_ag                           0\n",
      "final.output.concentrate_au                           0\n",
      "final.output.concentrate_pb                           0\n",
      "final.output.concentrate_sol                          0\n",
      "final.output.recovery                                 0\n",
      "final.output.tail_ag                                  0\n",
      "final.output.tail_au                                  0\n",
      "final.output.tail_pb                                  0\n",
      "final.output.tail_sol                                 0\n",
      "primary_cleaner.input.depressant                      0\n",
      "primary_cleaner.input.feed_size                       0\n",
      "primary_cleaner.input.sulfate                         0\n",
      "primary_cleaner.input.xanthate                        0\n",
      "primary_cleaner.output.concentrate_ag                 0\n",
      "primary_cleaner.output.concentrate_au                 0\n",
      "primary_cleaner.output.concentrate_pb                 0\n",
      "primary_cleaner.output.concentrate_sol                0\n",
      "primary_cleaner.output.tail_ag                        0\n",
      "primary_cleaner.output.tail_au                        0\n",
      "primary_cleaner.output.tail_pb                        0\n",
      "primary_cleaner.output.tail_sol                       0\n",
      "primary_cleaner.state.floatbank8_a_air                0\n",
      "primary_cleaner.state.floatbank8_a_level              0\n",
      "primary_cleaner.state.floatbank8_b_air                0\n",
      "primary_cleaner.state.floatbank8_b_level              0\n",
      "primary_cleaner.state.floatbank8_c_air                0\n",
      "primary_cleaner.state.floatbank8_c_level              0\n",
      "primary_cleaner.state.floatbank8_d_air                0\n",
      "primary_cleaner.state.floatbank8_d_level              0\n",
      "rougher.calculation.au_pb_ratio                       0\n",
      "rougher.calculation.floatbank10_sulfate_to_au_feed    0\n",
      "rougher.calculation.floatbank11_sulfate_to_au_feed    0\n",
      "rougher.calculation.sulfate_to_au_concentrate         0\n",
      "rougher.input.feed_ag                                 0\n",
      "rougher.input.feed_au                                 0\n",
      "rougher.input.feed_pb                                 0\n",
      "rougher.input.feed_rate                               0\n",
      "rougher.input.feed_size                               0\n",
      "rougher.input.feed_sol                                0\n",
      "rougher.input.floatbank10_sulfate                     0\n",
      "rougher.input.floatbank10_xanthate                    0\n",
      "rougher.input.floatbank11_sulfate                     0\n",
      "rougher.input.floatbank11_xanthate                    0\n",
      "rougher.output.concentrate_ag                         0\n",
      "rougher.output.concentrate_au                         0\n",
      "rougher.output.concentrate_pb                         0\n",
      "rougher.output.concentrate_sol                        0\n",
      "rougher.output.recovery                               0\n",
      "rougher.output.tail_ag                                0\n",
      "rougher.output.tail_au                                0\n",
      "rougher.output.tail_pb                                0\n",
      "rougher.output.tail_sol                               0\n",
      "rougher.state.floatbank10_a_air                       0\n",
      "rougher.state.floatbank10_a_level                     0\n",
      "rougher.state.floatbank10_b_air                       0\n",
      "rougher.state.floatbank10_b_level                     0\n",
      "rougher.state.floatbank10_c_air                       0\n",
      "rougher.state.floatbank10_c_level                     0\n",
      "rougher.state.floatbank10_d_air                       0\n",
      "rougher.state.floatbank10_d_level                     0\n",
      "dtype: int64\n",
      "rougher.state.floatbank10_e_air               0\n",
      "rougher.state.floatbank10_e_level             0\n",
      "rougher.state.floatbank10_f_air               0\n",
      "rougher.state.floatbank10_f_level             0\n",
      "secondary_cleaner.output.tail_ag              0\n",
      "secondary_cleaner.output.tail_au              0\n",
      "secondary_cleaner.output.tail_pb              0\n",
      "secondary_cleaner.output.tail_sol             0\n",
      "secondary_cleaner.state.floatbank2_a_air      0\n",
      "secondary_cleaner.state.floatbank2_a_level    0\n",
      "secondary_cleaner.state.floatbank2_b_air      0\n",
      "secondary_cleaner.state.floatbank2_b_level    0\n",
      "secondary_cleaner.state.floatbank3_a_air      0\n",
      "secondary_cleaner.state.floatbank3_a_level    0\n",
      "secondary_cleaner.state.floatbank3_b_air      0\n",
      "secondary_cleaner.state.floatbank3_b_level    0\n",
      "secondary_cleaner.state.floatbank4_a_air      0\n",
      "secondary_cleaner.state.floatbank4_a_level    0\n",
      "secondary_cleaner.state.floatbank4_b_air      0\n",
      "secondary_cleaner.state.floatbank4_b_level    0\n",
      "secondary_cleaner.state.floatbank5_a_air      0\n",
      "secondary_cleaner.state.floatbank5_a_level    0\n",
      "secondary_cleaner.state.floatbank5_b_air      0\n",
      "secondary_cleaner.state.floatbank5_b_level    0\n",
      "secondary_cleaner.state.floatbank6_a_air      0\n",
      "secondary_cleaner.state.floatbank6_a_level    0\n",
      "dtype: int64\n",
      "\n",
      "         final.output.concentrate_ag                           0\n",
      "final.output.concentrate_au                           0\n",
      "final.output.concentrate_pb                           0\n",
      "final.output.concentrate_sol                          0\n",
      "final.output.recovery                                 0\n",
      "final.output.tail_ag                                  0\n",
      "final.output.tail_au                                  0\n",
      "final.output.tail_pb                                  0\n",
      "final.output.tail_sol                                 0\n",
      "primary_cleaner.input.depressant                      0\n",
      "primary_cleaner.input.feed_size                       0\n",
      "primary_cleaner.input.sulfate                         0\n",
      "primary_cleaner.input.xanthate                        0\n",
      "primary_cleaner.output.concentrate_ag                 0\n",
      "primary_cleaner.output.concentrate_au                 0\n",
      "primary_cleaner.output.concentrate_pb                 0\n",
      "primary_cleaner.output.concentrate_sol                0\n",
      "primary_cleaner.output.tail_ag                        0\n",
      "primary_cleaner.output.tail_au                        0\n",
      "primary_cleaner.output.tail_pb                        0\n",
      "primary_cleaner.output.tail_sol                       0\n",
      "primary_cleaner.state.floatbank8_a_air                0\n",
      "primary_cleaner.state.floatbank8_a_level              0\n",
      "primary_cleaner.state.floatbank8_b_air                0\n",
      "primary_cleaner.state.floatbank8_b_level              0\n",
      "primary_cleaner.state.floatbank8_c_air                0\n",
      "primary_cleaner.state.floatbank8_c_level              0\n",
      "primary_cleaner.state.floatbank8_d_air                0\n",
      "primary_cleaner.state.floatbank8_d_level              0\n",
      "rougher.calculation.au_pb_ratio                       0\n",
      "rougher.calculation.floatbank10_sulfate_to_au_feed    0\n",
      "rougher.calculation.floatbank11_sulfate_to_au_feed    0\n",
      "rougher.calculation.sulfate_to_au_concentrate         0\n",
      "rougher.input.feed_ag                                 0\n",
      "rougher.input.feed_au                                 0\n",
      "rougher.input.feed_pb                                 0\n",
      "rougher.input.feed_rate                               0\n",
      "rougher.input.feed_size                               0\n",
      "rougher.input.feed_sol                                0\n",
      "rougher.input.floatbank10_sulfate                     0\n",
      "rougher.input.floatbank10_xanthate                    0\n",
      "rougher.input.floatbank11_sulfate                     0\n",
      "rougher.input.floatbank11_xanthate                    0\n",
      "rougher.output.concentrate_ag                         0\n",
      "rougher.output.concentrate_au                         0\n",
      "rougher.output.concentrate_pb                         0\n",
      "rougher.output.concentrate_sol                        0\n",
      "rougher.output.recovery                               0\n",
      "rougher.output.tail_ag                                0\n",
      "rougher.output.tail_au                                0\n",
      "rougher.output.tail_pb                                0\n",
      "rougher.output.tail_sol                               0\n",
      "rougher.state.floatbank10_a_air                       0\n",
      "rougher.state.floatbank10_a_level                     0\n",
      "rougher.state.floatbank10_b_air                       0\n",
      "rougher.state.floatbank10_b_level                     0\n",
      "rougher.state.floatbank10_c_air                       0\n",
      "rougher.state.floatbank10_c_level                     0\n",
      "rougher.state.floatbank10_d_air                       0\n",
      "rougher.state.floatbank10_d_level                     0\n",
      "dtype: int64\n",
      "rougher.state.floatbank10_e_air               0\n",
      "rougher.state.floatbank10_e_level             0\n",
      "rougher.state.floatbank10_f_air               0\n",
      "rougher.state.floatbank10_f_level             0\n",
      "secondary_cleaner.output.tail_ag              0\n",
      "secondary_cleaner.output.tail_au              0\n",
      "secondary_cleaner.output.tail_pb              0\n",
      "secondary_cleaner.output.tail_sol             0\n",
      "secondary_cleaner.state.floatbank2_a_air      0\n",
      "secondary_cleaner.state.floatbank2_a_level    0\n",
      "secondary_cleaner.state.floatbank2_b_air      0\n",
      "secondary_cleaner.state.floatbank2_b_level    0\n",
      "secondary_cleaner.state.floatbank3_a_air      0\n",
      "secondary_cleaner.state.floatbank3_a_level    0\n",
      "secondary_cleaner.state.floatbank3_b_air      0\n",
      "secondary_cleaner.state.floatbank3_b_level    0\n",
      "secondary_cleaner.state.floatbank4_a_air      0\n",
      "secondary_cleaner.state.floatbank4_a_level    0\n",
      "secondary_cleaner.state.floatbank4_b_air      0\n",
      "secondary_cleaner.state.floatbank4_b_level    0\n",
      "secondary_cleaner.state.floatbank5_a_air      0\n",
      "secondary_cleaner.state.floatbank5_a_level    0\n",
      "secondary_cleaner.state.floatbank5_b_air      0\n",
      "secondary_cleaner.state.floatbank5_b_level    0\n",
      "secondary_cleaner.state.floatbank6_a_air      0\n",
      "secondary_cleaner.state.floatbank6_a_level    0\n",
      "dtype: int64\n"
     ]
    }
   ],
   "source": [
    "print(f'{train.isna().sum().head(60)}\\n{train.isna().sum().tail(26)}\\n\\n \\\n",
    "        {test.isna().sum().head(60)}\\n{test.isna().sum().tail(26)}\\n\\n \\\n",
    "        {full.isna().sum().head(60)}\\n{full.isna().sum().tail(26)}')"
   ]
  },
  {
   "cell_type": "markdown",
   "metadata": {},
   "source": [
    "### Menangani duplicated values <a id='dataprep_4'></a>"
   ]
  },
  {
   "cell_type": "markdown",
   "metadata": {},
   "source": [
    "**Step 2.7**\n",
    "Menindaklanjuti duplicated value pada seluruh set data yang akan digunakan."
   ]
  },
  {
   "cell_type": "code",
   "execution_count": 25,
   "metadata": {},
   "outputs": [
    {
     "name": "stdout",
     "output_type": "stream",
     "text": [
      "0,0,0\n"
     ]
    }
   ],
   "source": [
    "train = train.drop_duplicates() \n",
    "test = test.drop_duplicates() \n",
    "full = full.drop_duplicates()\n",
    "\n",
    "print(f'{train.duplicated().sum()},{test.duplicated().sum()},{test.duplicated().sum()}')"
   ]
  },
  {
   "cell_type": "markdown",
   "metadata": {},
   "source": [
    "### Kesimpulan <a name=\"dataprep_conclusion\"></a>"
   ]
  },
  {
   "cell_type": "markdown",
   "metadata": {},
   "source": [
    "Kita telah melakukan kalkulasi menggunakan rumus yang terdapat dalam deskripsi proyek [((C * (F - T)) / ((F * (C - T)))) * 100] dan membandingkannya dengan kolom rougher.output.recovery existing pada dataframe, kemudian dilanjutkan dengan menghitung nilai Mean Absolute Error (MAE). Hasil nilai MAE sangat tidak signifikan sehingga dapat diabaikan, dengan kata lain kita dapat menyimpulkan bahwa nilai rougher.output.recovery sudah benar.\n",
    "\n",
    "Kita telah melengkapi kolom yang hilang dalam dataframe test dan telah menyamakan urutan kolom untuk ketiga dataframe untuk pengolahan lebih lanjut.\n",
    "\n",
    "Kita juga telah menangani missing values dan duplicated values yang ada di ketiga dataframe tersebut."
   ]
  },
  {
   "cell_type": "markdown",
   "metadata": {},
   "source": [
    "[Kembali ke Daftar Isi](#back)"
   ]
  },
  {
   "cell_type": "markdown",
   "metadata": {},
   "source": [
    "## Tahap 3. Analisis <a name=\"analysis\"></a>"
   ]
  },
  {
   "cell_type": "markdown",
   "metadata": {},
   "source": [
    "### Konsentrat emas (Au), perak (Ag), dan timbal (Pb) mengacu pada stage pemurnian <a name=\"analysis_1\"></a>"
   ]
  },
  {
   "cell_type": "markdown",
   "metadata": {},
   "source": [
    "**Step 3.1**\n",
    "Membuat grafik histogram untuk menampilkan konsentrat emas (Au) di setiap stage pemurnian."
   ]
  },
  {
   "cell_type": "code",
   "execution_count": 26,
   "metadata": {},
   "outputs": [
    {
     "data": {
      "image/png": "[encoded data removed]",
      "text/plain": [
       "<Figure size 1000x600 with 1 Axes>"
      ]
     },
     "metadata": {},
     "output_type": "display_data"
    },
    {
     "data": {
      "image/png": "[encoded data removed]",
      "text/plain": [
       "<Figure size 1000x600 with 1 Axes>"
      ]
     },
     "metadata": {},
     "output_type": "display_data"
    },
    {
     "data": {
      "image/png": "[encoded data removed]",
      "text/plain": [
       "<Figure size 1000x600 with 1 Axes>"
      ]
     },
     "metadata": {},
     "output_type": "display_data"
    },
    {
     "data": {
      "image/png": "[encoded data removed]",
      "text/plain": [
       "<Figure size 1000x600 with 1 Axes>"
      ]
     },
     "metadata": {},
     "output_type": "display_data"
    }
   ],
   "source": [
    "au_inputs = [('rougher.input.feed_au', 'Input'), ('rougher.output.concentrate_au', 'Rougher') \\\n",
    "          ,('primary_cleaner.output.concentrate_au', 'Primary'), ('final.output.concentrate_au', 'Final')]\n",
    "#membuat list input untuk diproses pada loop\n",
    "for i in au_inputs:#loop melalui list\n",
    "    full[i[0]].hist(bins=200, figsize=(10, 6))#membentuk grafik histogram\n",
    "    plt.title('Konsentrat emas (Au) pada stage {}'.format(i[1]))#memberikan judul grafik\n",
    "    plt.show()#menampilkan grafik"
   ]
  },
  {
   "cell_type": "markdown",
   "metadata": {},
   "source": [
    "Konsentrat emas mencapai nilai tertinggi pada stage final dan hal ini sangat rasional. Konsentrat menurun saat kita kembali ke stage input. Sebagai catatan tambahan, kita menemukan banyak nilai nol di setiap stage."
   ]
  },
  {
   "cell_type": "markdown",
   "metadata": {},
   "source": [
    "**Step 3.2**\n",
    "Membuat grafik histogram untuk menampilkan konsentrat perak (Ag) di setiap stage pemurnian."
   ]
  },
  {
   "cell_type": "code",
   "execution_count": 27,
   "metadata": {},
   "outputs": [
    {
     "data": {
      "image/png": "[encoded data removed]",
      "text/plain": [
       "<Figure size 1000x600 with 1 Axes>"
      ]
     },
     "metadata": {},
     "output_type": "display_data"
    },
    {
     "data": {
      "image/png": "[encoded data removed]",
      "text/plain": [
       "<Figure size 1000x600 with 1 Axes>"
      ]
     },
     "metadata": {},
     "output_type": "display_data"
    },
    {
     "data": {
      "image/png": "[encoded data removed]",
      "text/plain": [
       "<Figure size 1000x600 with 1 Axes>"
      ]
     },
     "metadata": {},
     "output_type": "display_data"
    },
    {
     "data": {
      "image/png": "[encoded data removed]",
      "text/plain": [
       "<Figure size 1000x600 with 1 Axes>"
      ]
     },
     "metadata": {},
     "output_type": "display_data"
    }
   ],
   "source": [
    "ag_inputs = [('rougher.input.feed_ag', 'Input'), ('rougher.output.concentrate_ag', 'Rougher') \\\n",
    "          ,('primary_cleaner.output.concentrate_ag', 'Primary'), ('final.output.concentrate_ag', 'Final')]\n",
    "for i in ag_inputs:\n",
    "    full[i[0]].hist(bins=200, figsize=(10, 6))\n",
    "    plt.title('Konsentrat perak (Ag) pada stage {}'.format(i[1]))\n",
    "    plt.show()"
   ]
  },
  {
   "cell_type": "markdown",
   "metadata": {},
   "source": [
    "Konsentrasi perak lebih tinggi pada stage final, diikuti oleh stage rougher, stage primary cleaner, dan stage input. Di sini juga ditemukan banyak nilai nol."
   ]
  },
  {
   "cell_type": "markdown",
   "metadata": {},
   "source": [
    "**Step 3.3**\n",
    "Membuat grafik histogram untuk menampilkan konsentrat timbal (Pb) di setiap stage pemurnian."
   ]
  },
  {
   "cell_type": "code",
   "execution_count": 28,
   "metadata": {},
   "outputs": [
    {
     "data": {
      "image/png": "[encoded data removed]",
      "text/plain": [
       "<Figure size 1000x600 with 1 Axes>"
      ]
     },
     "metadata": {},
     "output_type": "display_data"
    },
    {
     "data": {
      "image/png": "[encoded data removed]",
      "text/plain": [
       "<Figure size 1000x600 with 1 Axes>"
      ]
     },
     "metadata": {},
     "output_type": "display_data"
    },
    {
     "data": {
      "image/png": "[encoded data removed]",
      "text/plain": [
       "<Figure size 1000x600 with 1 Axes>"
      ]
     },
     "metadata": {},
     "output_type": "display_data"
    },
    {
     "data": {
      "image/png": "[encoded data removed]",
      "text/plain": [
       "<Figure size 1000x600 with 1 Axes>"
      ]
     },
     "metadata": {},
     "output_type": "display_data"
    }
   ],
   "source": [
    "pb_inputs = [('rougher.input.feed_pb', 'Input'), ('rougher.output.concentrate_pb', 'Rougher') \\\n",
    "          ,('primary_cleaner.output.concentrate_pb', 'Primary'), ('final.output.concentrate_pb', 'Final')]\n",
    "for i in pb_inputs:\n",
    "    full[i[0]].hist(bins=200, figsize=(10, 6))\n",
    "    plt.title('Konsentrat timbal (Pb) pada stage {}'.format(i[1]))\n",
    "    plt.show()"
   ]
  },
  {
   "cell_type": "markdown",
   "metadata": {},
   "source": [
    "Konsentrat timbal tertinggi terjadi pada stage rougher, diikuti stage final, kemudian tahap primary cleaner dan stage input. Di sini juga kembali ditemukan banyak nilai nol."
   ]
  },
  {
   "cell_type": "markdown",
   "metadata": {},
   "source": [
    "### Distribusi ukuran partikel feed <a name=\"analysis_2\"></a>"
   ]
  },
  {
   "cell_type": "markdown",
   "metadata": {},
   "source": [
    "**Step 3.4**\n",
    "Membuat perbandingan distribusi ukuran feed untuk set train dan set test."
   ]
  },
  {
   "cell_type": "code",
   "execution_count": 29,
   "metadata": {
    "scrolled": false
   },
   "outputs": [
    {
     "data": {
      "image/png": "[encoded data removed]",
      "text/plain": [
       "<Figure size 640x480 with 1 Axes>"
      ]
     },
     "metadata": {},
     "output_type": "display_data"
    }
   ],
   "source": [
    "plt.hist(train['rougher.input.feed_size'], bins=100, alpha=0.5, label='rougher.input.feed_size - Train')\n",
    "#mwmbuat grafik histogram untuk feed size pada set train\n",
    "plt.hist(test['rougher.input.feed_size'], bins=100, alpha=0.5, label='rougher.input.feed_size - Test')\n",
    "#mwmbuat grafik histogram untuk feed size pada set test\n",
    "plt.legend(loc='upper right')#memberikan legend pada diagram grafik\n",
    "plt.show()#menampilkan grafik"
   ]
  },
  {
   "cell_type": "markdown",
   "metadata": {},
   "source": [
    "Kita dapat menyimpulkan bahwa distribusinya serupa dan hal ini merupakan kondisi yang baik terlepas dari perbedaan minor yang ada."
   ]
  },
  {
   "cell_type": "markdown",
   "metadata": {},
   "source": [
    "### Total konsentrat seluruh logam di setiap stage yang berbeda <a name=\"analysis_3\"></a>"
   ]
  },
  {
   "cell_type": "markdown",
   "metadata": {},
   "source": [
    "**Step 3.5**\n",
    "Menghitung dan mengelompokkan konsentrat dari seluruh substansi pada setiap stage. "
   ]
  },
  {
   "cell_type": "code",
   "execution_count": 30,
   "metadata": {},
   "outputs": [],
   "source": [
    "input_concentrate = ['rougher.input.feed_au', 'rougher.input.feed_ag', 'rougher.input.feed_pb'\\\n",
    "                              , 'rougher.input.feed_sol']\n",
    "#konsentrat input\n",
    "rougher_concentrate = ['rougher.output.concentrate_au', 'rougher.output.concentrate_ag'\\\n",
    "                                , 'rougher.output.concentrate_pb', 'rougher.output.concentrate_sol']\n",
    "#konsentrat rougher\n",
    "output_concentrate = ['final.output.concentrate_au', 'final.output.concentrate_ag'\\\n",
    "                               , 'final.output.concentrate_pb', 'final.output.concentrate_sol']\n",
    "#konsentrat final\n",
    "\n",
    "#rekapitulasi nilai konsentrat\n",
    "input_sum=full[input_concentrate].sum(axis=1).reset_index()\n",
    "rougher_sum=full[rougher_concentrate].sum(axis=1).reset_index()\n",
    "output_sum=full[output_concentrate].sum(axis=1).reset_index()"
   ]
  },
  {
   "cell_type": "markdown",
   "metadata": {},
   "source": [
    "**Step 3.6**\n",
    "Membuat grafik dari pengelompokan Konsentrat Input. "
   ]
  },
  {
   "cell_type": "code",
   "execution_count": 31,
   "metadata": {
    "scrolled": false
   },
   "outputs": [
    {
     "data": {
      "image/png": "[encoded data removed]",
      "text/plain": [
       "<Figure size 1000x600 with 1 Axes>"
      ]
     },
     "metadata": {},
     "output_type": "display_data"
    }
   ],
   "source": [
    "input_sum.hist(bins=40, label='Konsentrat Input', figsize=(10, 6))\n",
    "plt.title('Jumlah Konsentrat Input')\n",
    "plt.legend(loc='upper right')\n",
    "plt.show()"
   ]
  },
  {
   "cell_type": "markdown",
   "metadata": {},
   "source": [
    "Terdapat konsentrat dengan nilai nol di mana hal ini tidak normal."
   ]
  },
  {
   "cell_type": "markdown",
   "metadata": {},
   "source": [
    "**Step 3.7**\n",
    "Membuat grafik dari pengelompokan Konsentrat Rougher. "
   ]
  },
  {
   "cell_type": "code",
   "execution_count": 32,
   "metadata": {
    "scrolled": false
   },
   "outputs": [
    {
     "data": {
      "image/png": "[encoded data removed]",
      "text/plain": [
       "<Figure size 1000x600 with 1 Axes>"
      ]
     },
     "metadata": {},
     "output_type": "display_data"
    }
   ],
   "source": [
    "rougher_sum.hist(bins=40, label='Konsentrat Rougher', figsize=(10, 6))\n",
    "plt.title('Jumlah Konsentrat Rougher')\n",
    "plt.legend(loc='upper right')\n",
    "plt.show()"
   ]
  },
  {
   "cell_type": "markdown",
   "metadata": {},
   "source": [
    "Di sini juga ditemukan konsentrat dengan nilai nol di mana hal ini tidak normal."
   ]
  },
  {
   "cell_type": "markdown",
   "metadata": {},
   "source": [
    "**Step 3.8**\n",
    "Membuat grafik dari pengelompokan Konsentrat Output. "
   ]
  },
  {
   "cell_type": "code",
   "execution_count": 33,
   "metadata": {},
   "outputs": [
    {
     "data": {
      "image/png": "[encoded data removed]",
      "text/plain": [
       "<Figure size 1000x600 with 1 Axes>"
      ]
     },
     "metadata": {},
     "output_type": "display_data"
    }
   ],
   "source": [
    "output_sum.hist(bins=40, label='Konsentrat Output', figsize=(10, 6))\n",
    "plt.title('Jumlah Konsentrat Output')\n",
    "plt.legend(loc='upper right')\n",
    "plt.show()"
   ]
  },
  {
   "cell_type": "markdown",
   "metadata": {},
   "source": [
    "Di sini kembali ditemukan konsentrat dengan nilai nol di mana hal ini juga menunjukkan hal yang tidak normal."
   ]
  },
  {
   "cell_type": "markdown",
   "metadata": {},
   "source": [
    "**Step 3.9**\n",
    "Menindaklanjuti nilai nol pada set train yang menunjukkan data yang tidak normal."
   ]
  },
  {
   "cell_type": "code",
   "execution_count": 34,
   "metadata": {
    "scrolled": true
   },
   "outputs": [
    {
     "name": "stdout",
     "output_type": "stream",
     "text": [
      "<class 'pandas.core.frame.DataFrame'>\n",
      "Index: 15628 entries, 2016-01-15 00:00:00 to 2018-08-18 10:59:59\n",
      "Data columns (total 86 columns):\n",
      " #   Column                                              Non-Null Count  Dtype  \n",
      "---  ------                                              --------------  -----  \n",
      " 0   final.output.concentrate_ag                         15628 non-null  float64\n",
      " 1   final.output.concentrate_au                         15628 non-null  float64\n",
      " 2   final.output.concentrate_pb                         15628 non-null  float64\n",
      " 3   final.output.concentrate_sol                        15628 non-null  float64\n",
      " 4   final.output.recovery                               15628 non-null  float64\n",
      " 5   final.output.tail_ag                                15628 non-null  float64\n",
      " 6   final.output.tail_au                                15628 non-null  float64\n",
      " 7   final.output.tail_pb                                15628 non-null  float64\n",
      " 8   final.output.tail_sol                               15628 non-null  float64\n",
      " 9   primary_cleaner.input.depressant                    15628 non-null  float64\n",
      " 10  primary_cleaner.input.feed_size                     15628 non-null  float64\n",
      " 11  primary_cleaner.input.sulfate                       15628 non-null  float64\n",
      " 12  primary_cleaner.input.xanthate                      15628 non-null  float64\n",
      " 13  primary_cleaner.output.concentrate_ag               15628 non-null  float64\n",
      " 14  primary_cleaner.output.concentrate_au               15628 non-null  float64\n",
      " 15  primary_cleaner.output.concentrate_pb               15628 non-null  float64\n",
      " 16  primary_cleaner.output.concentrate_sol              15628 non-null  float64\n",
      " 17  primary_cleaner.output.tail_ag                      15628 non-null  float64\n",
      " 18  primary_cleaner.output.tail_au                      15628 non-null  float64\n",
      " 19  primary_cleaner.output.tail_pb                      15628 non-null  float64\n",
      " 20  primary_cleaner.output.tail_sol                     15628 non-null  float64\n",
      " 21  primary_cleaner.state.floatbank8_a_air              15628 non-null  float64\n",
      " 22  primary_cleaner.state.floatbank8_a_level            15628 non-null  float64\n",
      " 23  primary_cleaner.state.floatbank8_b_air              15628 non-null  float64\n",
      " 24  primary_cleaner.state.floatbank8_b_level            15628 non-null  float64\n",
      " 25  primary_cleaner.state.floatbank8_c_air              15628 non-null  float64\n",
      " 26  primary_cleaner.state.floatbank8_c_level            15628 non-null  float64\n",
      " 27  primary_cleaner.state.floatbank8_d_air              15628 non-null  float64\n",
      " 28  primary_cleaner.state.floatbank8_d_level            15628 non-null  float64\n",
      " 29  rougher.calculation.au_pb_ratio                     15628 non-null  float64\n",
      " 30  rougher.calculation.floatbank10_sulfate_to_au_feed  15628 non-null  float64\n",
      " 31  rougher.calculation.floatbank11_sulfate_to_au_feed  15628 non-null  float64\n",
      " 32  rougher.calculation.sulfate_to_au_concentrate       15628 non-null  float64\n",
      " 33  rougher.input.feed_ag                               15628 non-null  float64\n",
      " 34  rougher.input.feed_au                               15628 non-null  float64\n",
      " 35  rougher.input.feed_pb                               15628 non-null  float64\n",
      " 36  rougher.input.feed_rate                             15628 non-null  float64\n",
      " 37  rougher.input.feed_size                             15628 non-null  float64\n",
      " 38  rougher.input.feed_sol                              15628 non-null  float64\n",
      " 39  rougher.input.floatbank10_sulfate                   15628 non-null  float64\n",
      " 40  rougher.input.floatbank10_xanthate                  15628 non-null  float64\n",
      " 41  rougher.input.floatbank11_sulfate                   15628 non-null  float64\n",
      " 42  rougher.input.floatbank11_xanthate                  15628 non-null  float64\n",
      " 43  rougher.output.concentrate_ag                       15628 non-null  float64\n",
      " 44  rougher.output.concentrate_au                       15628 non-null  float64\n",
      " 45  rougher.output.concentrate_pb                       15628 non-null  float64\n",
      " 46  rougher.output.concentrate_sol                      15628 non-null  float64\n",
      " 47  rougher.output.recovery                             15628 non-null  float64\n",
      " 48  rougher.output.tail_ag                              15628 non-null  float64\n",
      " 49  rougher.output.tail_au                              15628 non-null  float64\n",
      " 50  rougher.output.tail_pb                              15628 non-null  float64\n",
      " 51  rougher.output.tail_sol                             15628 non-null  float64\n",
      " 52  rougher.state.floatbank10_a_air                     15628 non-null  float64\n",
      " 53  rougher.state.floatbank10_a_level                   15628 non-null  float64\n",
      " 54  rougher.state.floatbank10_b_air                     15628 non-null  float64\n",
      " 55  rougher.state.floatbank10_b_level                   15628 non-null  float64\n",
      " 56  rougher.state.floatbank10_c_air                     15628 non-null  float64\n",
      " 57  rougher.state.floatbank10_c_level                   15628 non-null  float64\n",
      " 58  rougher.state.floatbank10_d_air                     15628 non-null  float64\n",
      " 59  rougher.state.floatbank10_d_level                   15628 non-null  float64\n",
      " 60  rougher.state.floatbank10_e_air                     15628 non-null  float64\n",
      " 61  rougher.state.floatbank10_e_level                   15628 non-null  float64\n",
      " 62  rougher.state.floatbank10_f_air                     15628 non-null  float64\n",
      " 63  rougher.state.floatbank10_f_level                   15628 non-null  float64\n",
      " 64  secondary_cleaner.output.tail_ag                    15628 non-null  float64\n",
      " 65  secondary_cleaner.output.tail_au                    15628 non-null  float64\n",
      " 66  secondary_cleaner.output.tail_pb                    15628 non-null  float64\n",
      " 67  secondary_cleaner.output.tail_sol                   15628 non-null  float64\n",
      " 68  secondary_cleaner.state.floatbank2_a_air            15628 non-null  float64\n",
      " 69  secondary_cleaner.state.floatbank2_a_level          15628 non-null  float64\n",
      " 70  secondary_cleaner.state.floatbank2_b_air            15628 non-null  float64\n",
      " 71  secondary_cleaner.state.floatbank2_b_level          15628 non-null  float64\n",
      " 72  secondary_cleaner.state.floatbank3_a_air            15628 non-null  float64\n",
      " 73  secondary_cleaner.state.floatbank3_a_level          15628 non-null  float64\n",
      " 74  secondary_cleaner.state.floatbank3_b_air            15628 non-null  float64\n",
      " 75  secondary_cleaner.state.floatbank3_b_level          15628 non-null  float64\n",
      " 76  secondary_cleaner.state.floatbank4_a_air            15628 non-null  float64\n",
      " 77  secondary_cleaner.state.floatbank4_a_level          15628 non-null  float64\n",
      " 78  secondary_cleaner.state.floatbank4_b_air            15628 non-null  float64\n",
      " 79  secondary_cleaner.state.floatbank4_b_level          15628 non-null  float64\n",
      " 80  secondary_cleaner.state.floatbank5_a_air            15628 non-null  float64\n",
      " 81  secondary_cleaner.state.floatbank5_a_level          15628 non-null  float64\n",
      " 82  secondary_cleaner.state.floatbank5_b_air            15628 non-null  float64\n",
      " 83  secondary_cleaner.state.floatbank5_b_level          15628 non-null  float64\n",
      " 84  secondary_cleaner.state.floatbank6_a_air            15628 non-null  float64\n",
      " 85  secondary_cleaner.state.floatbank6_a_level          15628 non-null  float64\n",
      "dtypes: float64(86)\n",
      "memory usage: 10.4+ MB\n"
     ]
    }
   ],
   "source": [
    "#jumlah konsentrat tiap stage harus lebih besar dari 0\n",
    "train_model=train[train[rougher_concentrate].sum(axis=1)>0]\n",
    "train_model=train[train[output_concentrate].sum(axis=1)>0]\n",
    "train_model=train[train[input_concentrate].sum(axis=1)>0]\n",
    "train_model.info()"
   ]
  },
  {
   "cell_type": "markdown",
   "metadata": {},
   "source": [
    "**Step 3.10**\n",
    "Mengidentifikasi target dan feature pada set train"
   ]
  },
  {
   "cell_type": "code",
   "execution_count": 35,
   "metadata": {},
   "outputs": [
    {
     "data": {
      "text/plain": [
       "(15628, 2)"
      ]
     },
     "execution_count": 35,
     "metadata": {},
     "output_type": "execute_result"
    }
   ],
   "source": [
    "#menetapkan target dari set train\n",
    "train_targets = train_model[['rougher.output.recovery', 'final.output.recovery']]\n",
    "train_targets.shape"
   ]
  },
  {
   "cell_type": "code",
   "execution_count": 36,
   "metadata": {},
   "outputs": [
    {
     "data": {
      "text/plain": [
       "(15628, 86)"
      ]
     },
     "execution_count": 36,
     "metadata": {},
     "output_type": "execute_result"
    }
   ],
   "source": [
    "#menetapkan feature dari set train\n",
    "train_features = train_model.loc[:, list(train.columns)]\n",
    "train_features.shape"
   ]
  },
  {
   "cell_type": "markdown",
   "metadata": {},
   "source": [
    "### Menangani outlier <a name=\"analysis_4\"></a>"
   ]
  },
  {
   "cell_type": "markdown",
   "metadata": {},
   "source": [
    "**Step 3.11**\n",
    "Menindaklanjuti nilai nol pada set test yang menunjukkan data yang tidak normal. "
   ]
  },
  {
   "cell_type": "code",
   "execution_count": 37,
   "metadata": {
    "scrolled": true
   },
   "outputs": [
    {
     "name": "stdout",
     "output_type": "stream",
     "text": [
      "<class 'pandas.core.frame.DataFrame'>\n",
      "Index: 5498 entries, 2016-09-01 00:59:59 to 2017-12-31 23:59:59\n",
      "Data columns (total 86 columns):\n",
      " #   Column                                              Non-Null Count  Dtype  \n",
      "---  ------                                              --------------  -----  \n",
      " 0   final.output.concentrate_ag                         5498 non-null   float64\n",
      " 1   final.output.concentrate_au                         5498 non-null   float64\n",
      " 2   final.output.concentrate_pb                         5498 non-null   float64\n",
      " 3   final.output.concentrate_sol                        5498 non-null   float64\n",
      " 4   final.output.recovery                               5498 non-null   float64\n",
      " 5   final.output.tail_ag                                5498 non-null   float64\n",
      " 6   final.output.tail_au                                5498 non-null   float64\n",
      " 7   final.output.tail_pb                                5498 non-null   float64\n",
      " 8   final.output.tail_sol                               5498 non-null   float64\n",
      " 9   primary_cleaner.input.depressant                    5498 non-null   float64\n",
      " 10  primary_cleaner.input.feed_size                     5498 non-null   float64\n",
      " 11  primary_cleaner.input.sulfate                       5498 non-null   float64\n",
      " 12  primary_cleaner.input.xanthate                      5498 non-null   float64\n",
      " 13  primary_cleaner.output.concentrate_ag               5498 non-null   float64\n",
      " 14  primary_cleaner.output.concentrate_au               5498 non-null   float64\n",
      " 15  primary_cleaner.output.concentrate_pb               5498 non-null   float64\n",
      " 16  primary_cleaner.output.concentrate_sol              5498 non-null   float64\n",
      " 17  primary_cleaner.output.tail_ag                      5498 non-null   float64\n",
      " 18  primary_cleaner.output.tail_au                      5498 non-null   float64\n",
      " 19  primary_cleaner.output.tail_pb                      5498 non-null   float64\n",
      " 20  primary_cleaner.output.tail_sol                     5498 non-null   float64\n",
      " 21  primary_cleaner.state.floatbank8_a_air              5498 non-null   float64\n",
      " 22  primary_cleaner.state.floatbank8_a_level            5498 non-null   float64\n",
      " 23  primary_cleaner.state.floatbank8_b_air              5498 non-null   float64\n",
      " 24  primary_cleaner.state.floatbank8_b_level            5498 non-null   float64\n",
      " 25  primary_cleaner.state.floatbank8_c_air              5498 non-null   float64\n",
      " 26  primary_cleaner.state.floatbank8_c_level            5498 non-null   float64\n",
      " 27  primary_cleaner.state.floatbank8_d_air              5498 non-null   float64\n",
      " 28  primary_cleaner.state.floatbank8_d_level            5498 non-null   float64\n",
      " 29  rougher.calculation.au_pb_ratio                     5498 non-null   float64\n",
      " 30  rougher.calculation.floatbank10_sulfate_to_au_feed  5498 non-null   float64\n",
      " 31  rougher.calculation.floatbank11_sulfate_to_au_feed  5498 non-null   float64\n",
      " 32  rougher.calculation.sulfate_to_au_concentrate       5498 non-null   float64\n",
      " 33  rougher.input.feed_ag                               5498 non-null   float64\n",
      " 34  rougher.input.feed_au                               5498 non-null   float64\n",
      " 35  rougher.input.feed_pb                               5498 non-null   float64\n",
      " 36  rougher.input.feed_rate                             5498 non-null   float64\n",
      " 37  rougher.input.feed_size                             5498 non-null   float64\n",
      " 38  rougher.input.feed_sol                              5498 non-null   float64\n",
      " 39  rougher.input.floatbank10_sulfate                   5498 non-null   float64\n",
      " 40  rougher.input.floatbank10_xanthate                  5498 non-null   float64\n",
      " 41  rougher.input.floatbank11_sulfate                   5498 non-null   float64\n",
      " 42  rougher.input.floatbank11_xanthate                  5498 non-null   float64\n",
      " 43  rougher.output.concentrate_ag                       5498 non-null   float64\n",
      " 44  rougher.output.concentrate_au                       5498 non-null   float64\n",
      " 45  rougher.output.concentrate_pb                       5498 non-null   float64\n",
      " 46  rougher.output.concentrate_sol                      5498 non-null   float64\n",
      " 47  rougher.output.recovery                             5498 non-null   float64\n",
      " 48  rougher.output.tail_ag                              5498 non-null   float64\n",
      " 49  rougher.output.tail_au                              5498 non-null   float64\n",
      " 50  rougher.output.tail_pb                              5498 non-null   float64\n",
      " 51  rougher.output.tail_sol                             5498 non-null   float64\n",
      " 52  rougher.state.floatbank10_a_air                     5498 non-null   float64\n",
      " 53  rougher.state.floatbank10_a_level                   5498 non-null   float64\n",
      " 54  rougher.state.floatbank10_b_air                     5498 non-null   float64\n",
      " 55  rougher.state.floatbank10_b_level                   5498 non-null   float64\n",
      " 56  rougher.state.floatbank10_c_air                     5498 non-null   float64\n",
      " 57  rougher.state.floatbank10_c_level                   5498 non-null   float64\n",
      " 58  rougher.state.floatbank10_d_air                     5498 non-null   float64\n",
      " 59  rougher.state.floatbank10_d_level                   5498 non-null   float64\n",
      " 60  rougher.state.floatbank10_e_air                     5498 non-null   float64\n",
      " 61  rougher.state.floatbank10_e_level                   5498 non-null   float64\n",
      " 62  rougher.state.floatbank10_f_air                     5498 non-null   float64\n",
      " 63  rougher.state.floatbank10_f_level                   5498 non-null   float64\n",
      " 64  secondary_cleaner.output.tail_ag                    5498 non-null   float64\n",
      " 65  secondary_cleaner.output.tail_au                    5498 non-null   float64\n",
      " 66  secondary_cleaner.output.tail_pb                    5498 non-null   float64\n",
      " 67  secondary_cleaner.output.tail_sol                   5498 non-null   float64\n",
      " 68  secondary_cleaner.state.floatbank2_a_air            5498 non-null   float64\n",
      " 69  secondary_cleaner.state.floatbank2_a_level          5498 non-null   float64\n",
      " 70  secondary_cleaner.state.floatbank2_b_air            5498 non-null   float64\n",
      " 71  secondary_cleaner.state.floatbank2_b_level          5498 non-null   float64\n",
      " 72  secondary_cleaner.state.floatbank3_a_air            5498 non-null   float64\n",
      " 73  secondary_cleaner.state.floatbank3_a_level          5498 non-null   float64\n",
      " 74  secondary_cleaner.state.floatbank3_b_air            5498 non-null   float64\n",
      " 75  secondary_cleaner.state.floatbank3_b_level          5498 non-null   float64\n",
      " 76  secondary_cleaner.state.floatbank4_a_air            5498 non-null   float64\n",
      " 77  secondary_cleaner.state.floatbank4_a_level          5498 non-null   float64\n",
      " 78  secondary_cleaner.state.floatbank4_b_air            5498 non-null   float64\n",
      " 79  secondary_cleaner.state.floatbank4_b_level          5498 non-null   float64\n",
      " 80  secondary_cleaner.state.floatbank5_a_air            5498 non-null   float64\n",
      " 81  secondary_cleaner.state.floatbank5_a_level          5498 non-null   float64\n",
      " 82  secondary_cleaner.state.floatbank5_b_air            5498 non-null   float64\n",
      " 83  secondary_cleaner.state.floatbank5_b_level          5498 non-null   float64\n",
      " 84  secondary_cleaner.state.floatbank6_a_air            5498 non-null   float64\n",
      " 85  secondary_cleaner.state.floatbank6_a_level          5498 non-null   float64\n",
      "dtypes: float64(86)\n",
      "memory usage: 3.6+ MB\n"
     ]
    }
   ],
   "source": [
    "#jumlah konsentrat tiap stage harus lebih besar dari 0\n",
    "test_model=test[test[rougher_concentrate].sum(axis=1)>0]\n",
    "test_model=test[test[input_concentrate].sum(axis=1)>0]\n",
    "test_model=test[test[output_concentrate].sum(axis=1)>0]\n",
    "test_model.info()"
   ]
  },
  {
   "cell_type": "markdown",
   "metadata": {},
   "source": [
    "**Step 3.12**\n",
    "Menetapkan target dan feature pada set test"
   ]
  },
  {
   "cell_type": "code",
   "execution_count": 38,
   "metadata": {},
   "outputs": [
    {
     "data": {
      "text/plain": [
       "(5498, 2)"
      ]
     },
     "execution_count": 38,
     "metadata": {},
     "output_type": "execute_result"
    }
   ],
   "source": [
    "#menetapkan target dari set test\n",
    "test_targets = test_model[['rougher.output.recovery', 'final.output.recovery']]\n",
    "test_targets.shape"
   ]
  },
  {
   "cell_type": "code",
   "execution_count": 39,
   "metadata": {},
   "outputs": [
    {
     "data": {
      "text/plain": [
       "(5498, 86)"
      ]
     },
     "execution_count": 39,
     "metadata": {},
     "output_type": "execute_result"
    }
   ],
   "source": [
    "#menetapkan feature dari set train\n",
    "test_features = test_model.loc[:, list(test.columns)]\n",
    "test_features.shape"
   ]
  },
  {
   "cell_type": "markdown",
   "metadata": {},
   "source": [
    "### Kesimpulan <a name=\"analysis_conclusion\"></a>"
   ]
  },
  {
   "cell_type": "markdown",
   "metadata": {},
   "source": [
    "Kita telah berhasil menganalisis konsentrat logam di seluruh stage, distribusi ukuran partikel feed, dan konsentrat total di setiap stage yang berbeda, serta kita juga telah mengeliminasi outlier."
   ]
  },
  {
   "cell_type": "markdown",
   "metadata": {},
   "source": [
    "[Kembali ke Daftar Isi](#back)"
   ]
  },
  {
   "cell_type": "markdown",
   "metadata": {},
   "source": [
    "## Tahap 4. Pengujian <a name='test'></a>"
   ]
  },
  {
   "cell_type": "markdown",
   "metadata": {},
   "source": [
    "**Step 4.1**\n",
    "Membuat fungsi sMAPE sesuai dengan rumus yang diberikan pada deskripsi proyek, setelah itu kita akan menjadikannya sebagai metrik yang akan kita gunakan untuk memilih model terbaik. Karena ini adalah penghitungan persentase kesalahan, semakin dekat nilainya ke 0 berarti semakin baik."
   ]
  },
  {
   "cell_type": "code",
   "execution_count": 40,
   "metadata": {},
   "outputs": [],
   "source": [
    "def finalsMAPE(targ, pred): #membuat fungsi finalSMAPE yang menjadikan target dan prediction sebagai argument\n",
    "    sMAPE_rougher = (np.mean((np.abs(targ.iloc[:,0] - pred[:, 0]) / ((np.abs(targ.iloc[:,0]) + np.abs(pred[:,0])) / 2))) * 100)\n",
    "    #rumus sMAPE untuk stage rougher\n",
    "    sMAPE_final = (np.mean((np.abs(targ.iloc[:,1] - pred[:, 1]) / ((np.abs(targ.iloc[:,1]) + np.abs(pred[:,1])) / 2))) * 100)\n",
    "    #rumus sMAPE untuk stage final\n",
    "    final_sMAPE = sMAPE_rougher * 0.25 + sMAPE_final * 0.75 \n",
    "    #rumus sMAPE final\n",
    "    return final_sMAPE\n",
    "    #mengembalikan nilai sMAPE final\n",
    "\n",
    "sMAPE_score = make_scorer(finalsMAPE, greater_is_better = False)\n",
    "#membuat rumus finalsMAPE pengukur dari model, semakin kecil nilainya semakin baik karena berfungsi sebagai pengukur kesalahan"
   ]
  },
  {
   "cell_type": "markdown",
   "metadata": {},
   "source": [
    "### Melakukan train model <a name=\"test_1\"></a>"
   ]
  },
  {
   "cell_type": "markdown",
   "metadata": {},
   "source": [
    "**Step 4.2**\n",
    "Melakukan train model Linear Regression dan mendapatkan nilai rata-rata LR. "
   ]
  },
  {
   "cell_type": "code",
   "execution_count": 41,
   "metadata": {},
   "outputs": [
    {
     "name": "stdout",
     "output_type": "stream",
     "text": [
      "-2.178758797221983\n"
     ]
    }
   ],
   "source": [
    "LR = LinearRegression()\n",
    "LR_score = cross_val_score(LR, train_features, train_targets, scoring=sMAPE_score, cv=5)\n",
    "#menghitung nilai model Linear Regression dengan feature train dan taret train, dengan parameter scoring menggunakan sMAPE, dan cv bernilai 5)\n",
    "print(LR_score.mean()) \n",
    "#mencetak nilai rata-rata LR"
   ]
  },
  {
   "cell_type": "markdown",
   "metadata": {},
   "source": [
    "**Step 4.3**\n",
    "Melakukan train model Decision Tree dan mencari max-depth terbaik. "
   ]
  },
  {
   "cell_type": "code",
   "execution_count": 42,
   "metadata": {},
   "outputs": [
    {
     "name": "stdout",
     "output_type": "stream",
     "text": [
      "Max_Depth= 1 : -13.453443640416662\n",
      "Max_Depth= 2 : -11.08187484555808\n",
      "Max_Depth= 3 : -9.29097680153205\n",
      "Max_Depth= 4 : -7.296640111401436\n",
      "Max_Depth= 5 : -5.787867833859595\n",
      "Max_Depth= 6 : -4.672377802115067\n",
      "Max_Depth= 7 : -3.7378324417224342\n",
      "Max_Depth= 8 : -2.9474137807268357\n",
      "Max_Depth= 9 : -2.3136827173754404\n",
      "Max_Depth= 10 : -1.6973890671164231\n"
     ]
    }
   ],
   "source": [
    "for depth in range(1,11):#loop melalui max_depth dengan nilai 1 hingga 10\n",
    "    DTR = DecisionTreeRegressor(max_depth=depth, random_state=12345)\n",
    "    DTR_score = cross_val_score(DTR, train_features, train_targets, scoring=sMAPE_score, cv=5)\n",
    "    print('Max_Depth=', depth, ':', DTR_score.mean())"
   ]
  },
  {
   "cell_type": "markdown",
   "metadata": {},
   "source": [
    "**Step 4.4**\n",
    "Melakukan train model Random Forest dan mencari max_depth dan n_estimator terbaik"
   ]
  },
  {
   "cell_type": "code",
   "execution_count": 43,
   "metadata": {
    "scrolled": true
   },
   "outputs": [
    {
     "name": "stdout",
     "output_type": "stream",
     "text": [
      "Max_Depth= 1 : -13.433089725176814\n",
      "Max_Depth= 2 : -10.534423606265548\n",
      "Max_Depth= 3 : -8.408300284884472\n",
      "Max_Depth= 4 : -6.696302778687686\n",
      "Max_Depth= 5 : -5.263849357603295\n",
      "Max_Depth= 6 : -4.276338959224903\n",
      "Max_Depth= 7 : -3.3000706358960494\n",
      "Max_Depth= 8 : -2.7073239137201854\n",
      "Max_Depth= 9 : -2.3729045932745905\n",
      "Max_Depth= 10 : -2.24959968823437\n"
     ]
    }
   ],
   "source": [
    "for depth in range(1, 11):\n",
    "    RFR = RandomForestRegressor(n_estimators=20, max_depth=depth, random_state = 12345)\n",
    "    RFR_score = cross_val_score(RFR, train_features, train_targets, scoring=sMAPE_score, cv=5)\n",
    "    print('Max_Depth=', depth, ':', RFR_score.mean())"
   ]
  },
  {
   "cell_type": "markdown",
   "metadata": {},
   "source": [
    "Dari semua model ini, yang bekerja paling baik adalah model Decision Tree dengan hyperparameter max_depth= 10. Sekarang kita lanjutkan train model dengan Standard Scaler, lalu mengujinya di set test."
   ]
  },
  {
   "cell_type": "markdown",
   "metadata": {},
   "source": [
    "**Step 4.5**\n",
    "Melakukan train model dengan Standard Scaler"
   ]
  },
  {
   "cell_type": "code",
   "execution_count": 44,
   "metadata": {},
   "outputs": [
    {
     "data": {
      "text/plain": [
       "array([[ 1.45562719, -0.14864764,  0.2923863 , ..., -0.19127671,\n",
       "         1.24228614,  0.2108789 ],\n",
       "       [ 1.59019691, -0.26648626,  0.33833218, ..., -0.19350948,\n",
       "         0.96570854,  0.20874343],\n",
       "       [ 1.4813522 , -0.15068482,  0.27547673, ..., -0.18754296,\n",
       "         0.96159452,  0.19315557],\n",
       "       ...,\n",
       "       [-0.14398493,  0.53313437,  0.03342912, ..., -0.19133051,\n",
       "        -1.66528696,  0.24813528],\n",
       "       [-0.31972806,  0.6283934 , -0.10460961, ..., -0.18949791,\n",
       "        -1.66026351,  0.20224436],\n",
       "       [-0.24426761,  0.57218231, -0.12891386, ..., -0.19664072,\n",
       "        -1.66420524,  0.19039214]])"
      ]
     },
     "execution_count": 44,
     "metadata": {},
     "output_type": "execute_result"
    }
   ],
   "source": [
    "scaler = StandardScaler()#membuat method scaler untuk menjalankan StandardScaler\n",
    "scaler.fit_transform(train_features)#fit transform dengan feature train\n",
    "scaler.transform(test_features)#transform dengan feature test"
   ]
  },
  {
   "cell_type": "markdown",
   "metadata": {},
   "source": [
    "### Melakukan pengujian final <a name=\"test_2\"></a>"
   ]
  },
  {
   "cell_type": "markdown",
   "metadata": {},
   "source": [
    "**Step 4.6**\n",
    "Melakukan pengujian terakhir dan menghitung nilai finalsMAPE"
   ]
  },
  {
   "cell_type": "code",
   "execution_count": 45,
   "metadata": {},
   "outputs": [
    {
     "name": "stdout",
     "output_type": "stream",
     "text": [
      "0.9830331833611263\n"
     ]
    }
   ],
   "source": [
    "model = DecisionTreeRegressor(max_depth=10, random_state = 12345)\n",
    "#membuat model regresi Decision Tree dengan hyperparameter max_depth 10\n",
    "model.fit(train_features, train_targets)#train model dengan feature dan target yang telah diskalakan\n",
    "predictions = model.predict(test_features)#menghitung prediction dengan feature test \n",
    "print(finalsMAPE(test_targets, predictions))#mencetak nilai sMAPE final "
   ]
  },
  {
   "cell_type": "markdown",
   "metadata": {},
   "source": [
    "## Temuan <a name=\"end\"></a>\n",
    "Kita telah berhasil melakukan hal sebagai berikut:\n",
    "- Menganalisis konsentrat logam melalui stage pemurnian yang berbeda dan menemukan bahwa konsentrat timbal paling tinggi pada stage rougher, diikuti oleh stage final, kemudian stage primary cleaner, dan stage input. Konsentrat perak lebih tinggi pada stage final, diikuti oleh stage rougher, stage primary cleaner, dan stage input. Konsentrat emas terus meningkat secara stabil dari satu stage ke stage lainnya, sama dengan total konsentratnya\n",
    "- Menganalisis distribusi ukuran partikel feed untuk set train dan set test serta menemukan bahwa keduanya serupa\n",
    "- Menguji model dan memilih model terbaik yaitu Decision Tree Regressor dengan max depth 10 yang memiliki nilai Final sMAPE sebesar 0.98%"
   ]
  },
  {
   "cell_type": "markdown",
   "metadata": {},
   "source": [
    "[Kembali ke Daftar Isi](#back)"
   ]
  }
 ],
 "metadata": {
  "kernelspec": {
   "display_name": "Python 3 (ipykernel)",
   "language": "python",
   "name": "python3"
  },
  "language_info": {
   "codemirror_mode": {
    "name": "ipython",
    "version": 3
   },
   "file_extension": ".py",
   "mimetype": "text/x-python",
   "name": "python",
   "nbconvert_exporter": "python",
   "pygments_lexer": "ipython3",
   "version": "3.11.5"
  },
  "toc": {
   "base_numbering": 1,
   "nav_menu": {},
   "number_sections": true,
   "sideBar": true,
   "skip_h1_title": false,
   "title_cell": "Table of Contents",
   "title_sidebar": "Contents",
   "toc_cell": false,
   "toc_position": {},
   "toc_section_display": true,
   "toc_window_display": false
  }
 },
 "nbformat": 4,
 "nbformat_minor": 2
}
