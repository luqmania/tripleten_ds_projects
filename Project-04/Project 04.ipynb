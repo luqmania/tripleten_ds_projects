{
 "cells": [
  {
   "cell_type": "markdown",
   "id": "f9666e6a",
   "metadata": {},
   "source": [
    "# Perilaku Konsumen Operator Telekomunikasi Megaline"
   ]
  },
  {
   "cell_type": "markdown",
   "id": "21a773f4",
   "metadata": {},
   "source": [
    "# Daftar Isi <a id='back'></a>\n",
    "\n",
    "* [Pendahuluan](#intro)\n",
    "\n",
    "* [Tahap 1. Ikhtisar Data](#data_review)\n",
    "    * [Kesimpulan](#data_review_conclusions)\n",
    "    \n",
    "* [Tahap 2. Pra-pemrosesan data](#data_preprocessing)\n",
    "    * [2.1 Data File 'calls'](#file_calls)\n",
    "    * [2.2 Data File 'internet'](#file_internet)\n",
    "    * [2.3 Data File 'messages'](#file_messages)\n",
    "    * [2.4 Data File 'plans'](#file_plans)\n",
    "    * [2.5 Data File 'users'](#file_users)\n",
    "    * [2.6 Persiapan proses analisis selanjutnya](#prep)\n",
    "    * [2.6.1 Basis data berdasarkan users](#prep_users)\n",
    "    * [2.6.2 Penambahan data: calls made monthly](#prep_callspm)\n",
    "    * [2.6.3 Penambahan data: calls duration monthly](#prep_minutespm)\n",
    "    * [2.6.4 Penambahan data: internet session monthly](#prep_gbdatapm)\n",
    "    * [2.6.5 Penambahan data: messages made monthly](#prep_messagespm)\n",
    "    * [2.6.6 Penghitungan monthly profit](#prep_monthly_profit)\n",
    "    * [2.6.7 Klasifikasi region](#prep_klas_region)\n",
    "    * [2.7 Kesimpulan](#data_preprocessing_conclusions)\n",
    "    \n",
    "* [Tahap 3. Analisis](#analysis)\n",
    "    * [3.1 Proses analisis perilaku pengguna plan Surf](#analisis_surf)\n",
    "    * [3.1.1 Analisis Calls Duration Monthly - Surf](#surf_minutespm)\n",
    "    * [3.1.2 Analisis Internet Session Monthly - Surf](#surf_gbdatapm)\n",
    "    * [3.1.3 Analisis Messages Made Monthly - Surf](#surf_messagespm)\n",
    "    * [3.2 Proses analisis perilaku pengguna plan Ultimate](#analisis_ultimate)\n",
    "    * [3.2.1 Analisis Calls Duration Monthly  - Ultimate](#ultimate_minutespm)\n",
    "    * [3.2.2 Analisis Internet Session Monthly - Ultimate](#ultimate_gbdatapm)\n",
    "    * [3.2.3 Analisis Messages Made Monthly - Ultimate](#ultimate_messagespm)\n",
    "    * [3.3 Kesimpulan](#analysis_conclusion)\n",
    "\n",
    "* [Tahap 4. Pengujian Hipotesis](#hypothesis_test)\n",
    "    * [4.1 Uji Hipotesis 1: \"Rata-rata pendapatan dari pengguna paket telepon Ultimate dan Surf berbeda\"](#test_1)\n",
    "    * [4.2 Uji Hipotesis 2: \"Rata-rata pendapatan dari pengguna di wilayah NY-NJ berbeda dengan pendapatan pengguna dari wilayah lain](#test_2)\n",
    "\n",
    "* [Temuan](#end)"
   ]
  },
  {
   "cell_type": "markdown",
   "id": "9077147b",
   "metadata": {},
   "source": [
    "## Pendahuluan <a id='intro'></a>\n",
    "\n",
    "Peneliti bekerja sebagai analis untuk operator telekomunikasi Megaline. Perusahaan tersebut menawarkan kliennya dua paket prabayar, Surf dan Ultimate. Departemen periklanan ingin mengetahui paket prabayar mana yang menghasilkan lebih banyak pendapatan untuk menyesuaikan anggaran iklan.\n",
    "Peneliti akan melakukan analisis awal untuk paket-paket prabayar tersebut berdasarkan sampel klien yang berukuran relatif kecil. Peneliti akan memiliki 500 data klien Megaline: siapa mereka, dari mana mereka, jenis paket apa yang mereka gunakan, serta jumlah panggilan dan pesan yang mereka kirim di tahun 2018.\n",
    "\n",
    "### Tujuan: \n",
    "Menganalisis perilaku klien dan menentukan paket prabayar mana yang mendatangkan lebih banyak pendapatan. lebih detailnya adalah mendeskripsikan perilaku konsumen dengan menemukan menit, pesan, dan volume penggunaan data seluler yang dibutuhkan pengguna setiap paket per bulan. \n",
    "Menguji hipotesis berikut:\n",
    "* Rata-rata pendapatan dari pengguna paket telepon Ultimate dan Surf berbeda.\n",
    "* Rata-rata pendapatan dari pengguna di wilayah NY-NJ berbeda dengan pendapatan pengguna dari wilayah lain.\n",
    "\n",
    "\n",
    "### Tahapan\n",
    "Data tentang pelanggan dan layanan dari operator telekomunikasi Megaline disimpan dalam *file* sebagai berikut:\n",
    "- /datasets/megaline_calls.csv\n",
    "- /datasets/megaline_internet.csv\n",
    "- /datasets/megaline_messages.csv\n",
    "- /datasets/megaline_plans.csv\n",
    "- /datasets/megaline_users.csv\n",
    "\n",
    "Tidak ada informasi terkait kualitas data tersebut, jadi perlu diperiksa terlebih dahulu sebelum melakukan analisis lebih lanjut.\n",
    "\n",
    "Pertama akan dilakukan evaluasi kualitas data dan melihat apakah terdapat hal yang signifikan yang perlu dilakukan tindak lanjut sebelum dilakukan proses analisis, di antaranya:\n",
    "* Mengkonversi data menjadi tipe data yang dibutuhkan\n",
    "* Menemukan dan mengeliminasi kesalahan pada data\n",
    "\n",
    "Proyek ini akan terdiri dari empat tahap:\n",
    " 1. Ikhtisar Data\n",
    " 2. Pra-pemrosesan Data\n",
    " 3. Proses Analisis\n",
    " 4. Uji Hipotesis\n",
    "\n",
    " \n",
    "[Kembali ke Daftar Isi](#back)"
   ]
  },
  {
   "cell_type": "markdown",
   "id": "76de80e3",
   "metadata": {},
   "source": [
    "## Tahap 1. Ikhtisar Data <a id='data_review'></a>\n",
    "\n",
    "Melakukan import library yang diperlukan, membuka data terkait yang akan dievaluasi, kemudian menjelajahi data tersebut."
   ]
  },
  {
   "cell_type": "markdown",
   "id": "54d43c98",
   "metadata": {},
   "source": [
    "**Step 1.1**\n",
    "Melakukan import library yang diperlukan"
   ]
  },
  {
   "cell_type": "code",
   "execution_count": 1,
   "id": "71feb853",
   "metadata": {},
   "outputs": [],
   "source": [
    "import pandas as pd\n",
    "import numpy as np\n",
    "import matplotlib.pyplot as plt\n",
    "from scipy import stats as st"
   ]
  },
  {
   "cell_type": "markdown",
   "id": "34c2a7e2",
   "metadata": {},
   "source": [
    "**Step 1.2**\n",
    "Melakukan load data yang diperlukan dari file *megaline_calls.csv - megaline_internet - megaline_messages - megaline_plans - megaline_users*"
   ]
  },
  {
   "cell_type": "code",
   "execution_count": 2,
   "id": "88a01e28",
   "metadata": {},
   "outputs": [],
   "source": [
    "try:\n",
    "    calls = pd.read_csv('megaline_calls.csv')\n",
    "except:\n",
    "    calls = pd.read_csv('/datasets/megaline_calls.csv')\n",
    "\n",
    "try:\n",
    "    internet = pd.read_csv('megaline_internet.csv')\n",
    "except:\n",
    "    internet = pd.read_csv('/datasets/megaline_internet.csv')\n",
    "\n",
    "try:\n",
    "    messages = pd.read_csv('megaline_messages.csv')\n",
    "except:\n",
    "    messages = pd.read_csv('/datasets/megaline_messages.csv')\n",
    "\n",
    "try:\n",
    "    plans = pd.read_csv('megaline_plans.csv')\n",
    "except:\n",
    "    plans = pd.read_csv('/datasets/megaline_plans.csv')\n",
    "\n",
    "try:\n",
    "    users = pd.read_csv('megaline_users.csv')\n",
    "except:\n",
    "    users = pd.read_csv('/datasets/megaline_users.csv')"
   ]
  },
  {
   "cell_type": "markdown",
   "id": "40488d26",
   "metadata": {},
   "source": [
    "**Step 1.3**\n",
    "Memeriksa informasi umum dari dataframe yang di-*load* file *megaline_calls.csv*"
   ]
  },
  {
   "cell_type": "code",
   "execution_count": 3,
   "id": "43a63a20",
   "metadata": {},
   "outputs": [
    {
     "data": {
      "text/html": [
       "<div>\n",
       "<style scoped>\n",
       "    .dataframe tbody tr th:only-of-type {\n",
       "        vertical-align: middle;\n",
       "    }\n",
       "\n",
       "    .dataframe tbody tr th {\n",
       "        vertical-align: top;\n",
       "    }\n",
       "\n",
       "    .dataframe thead th {\n",
       "        text-align: right;\n",
       "    }\n",
       "</style>\n",
       "<table border=\"1\" class=\"dataframe\">\n",
       "  <thead>\n",
       "    <tr style=\"text-align: right;\">\n",
       "      <th></th>\n",
       "      <th>id</th>\n",
       "      <th>user_id</th>\n",
       "      <th>call_date</th>\n",
       "      <th>duration</th>\n",
       "    </tr>\n",
       "  </thead>\n",
       "  <tbody>\n",
       "    <tr>\n",
       "      <th>0</th>\n",
       "      <td>1000_93</td>\n",
       "      <td>1000</td>\n",
       "      <td>2018-12-27</td>\n",
       "      <td>8.52</td>\n",
       "    </tr>\n",
       "    <tr>\n",
       "      <th>1</th>\n",
       "      <td>1000_145</td>\n",
       "      <td>1000</td>\n",
       "      <td>2018-12-27</td>\n",
       "      <td>13.66</td>\n",
       "    </tr>\n",
       "    <tr>\n",
       "      <th>2</th>\n",
       "      <td>1000_247</td>\n",
       "      <td>1000</td>\n",
       "      <td>2018-12-27</td>\n",
       "      <td>14.48</td>\n",
       "    </tr>\n",
       "    <tr>\n",
       "      <th>3</th>\n",
       "      <td>1000_309</td>\n",
       "      <td>1000</td>\n",
       "      <td>2018-12-28</td>\n",
       "      <td>5.76</td>\n",
       "    </tr>\n",
       "    <tr>\n",
       "      <th>4</th>\n",
       "      <td>1000_380</td>\n",
       "      <td>1000</td>\n",
       "      <td>2018-12-30</td>\n",
       "      <td>4.22</td>\n",
       "    </tr>\n",
       "  </tbody>\n",
       "</table>\n",
       "</div>"
      ],
      "text/plain": [
       "         id  user_id   call_date  duration\n",
       "0   1000_93     1000  2018-12-27      8.52\n",
       "1  1000_145     1000  2018-12-27     13.66\n",
       "2  1000_247     1000  2018-12-27     14.48\n",
       "3  1000_309     1000  2018-12-28      5.76\n",
       "4  1000_380     1000  2018-12-30      4.22"
      ]
     },
     "execution_count": 3,
     "metadata": {},
     "output_type": "execute_result"
    }
   ],
   "source": [
    "calls.head()"
   ]
  },
  {
   "cell_type": "code",
   "execution_count": 4,
   "id": "926265e8",
   "metadata": {},
   "outputs": [
    {
     "name": "stdout",
     "output_type": "stream",
     "text": [
      "<class 'pandas.core.frame.DataFrame'>\n",
      "RangeIndex: 137735 entries, 0 to 137734\n",
      "Data columns (total 4 columns):\n",
      " #   Column     Non-Null Count   Dtype  \n",
      "---  ------     --------------   -----  \n",
      " 0   id         137735 non-null  object \n",
      " 1   user_id    137735 non-null  int64  \n",
      " 2   call_date  137735 non-null  object \n",
      " 3   duration   137735 non-null  float64\n",
      "dtypes: float64(1), int64(1), object(2)\n",
      "memory usage: 4.2+ MB\n"
     ]
    }
   ],
   "source": [
    "calls.info()"
   ]
  },
  {
   "cell_type": "code",
   "execution_count": 5,
   "id": "c46a7a6b",
   "metadata": {
    "scrolled": true
   },
   "outputs": [
    {
     "name": "stdout",
     "output_type": "stream",
     "text": [
      "id           0\n",
      "user_id      0\n",
      "call_date    0\n",
      "duration     0\n",
      "dtype: int64\n"
     ]
    }
   ],
   "source": [
    "print(calls.isna().sum())"
   ]
  },
  {
   "cell_type": "markdown",
   "id": "221b026a",
   "metadata": {},
   "source": [
    "**Step 1.4**\n",
    "Memeriksa informasi umum dari dataframe yang di-*load* file *megaline_internet.csv*"
   ]
  },
  {
   "cell_type": "code",
   "execution_count": 6,
   "id": "5cd1fb7e",
   "metadata": {},
   "outputs": [
    {
     "data": {
      "text/html": [
       "<div>\n",
       "<style scoped>\n",
       "    .dataframe tbody tr th:only-of-type {\n",
       "        vertical-align: middle;\n",
       "    }\n",
       "\n",
       "    .dataframe tbody tr th {\n",
       "        vertical-align: top;\n",
       "    }\n",
       "\n",
       "    .dataframe thead th {\n",
       "        text-align: right;\n",
       "    }\n",
       "</style>\n",
       "<table border=\"1\" class=\"dataframe\">\n",
       "  <thead>\n",
       "    <tr style=\"text-align: right;\">\n",
       "      <th></th>\n",
       "      <th>id</th>\n",
       "      <th>user_id</th>\n",
       "      <th>session_date</th>\n",
       "      <th>mb_used</th>\n",
       "    </tr>\n",
       "  </thead>\n",
       "  <tbody>\n",
       "    <tr>\n",
       "      <th>0</th>\n",
       "      <td>1000_13</td>\n",
       "      <td>1000</td>\n",
       "      <td>2018-12-29</td>\n",
       "      <td>89.86</td>\n",
       "    </tr>\n",
       "    <tr>\n",
       "      <th>1</th>\n",
       "      <td>1000_204</td>\n",
       "      <td>1000</td>\n",
       "      <td>2018-12-31</td>\n",
       "      <td>0.00</td>\n",
       "    </tr>\n",
       "    <tr>\n",
       "      <th>2</th>\n",
       "      <td>1000_379</td>\n",
       "      <td>1000</td>\n",
       "      <td>2018-12-28</td>\n",
       "      <td>660.40</td>\n",
       "    </tr>\n",
       "    <tr>\n",
       "      <th>3</th>\n",
       "      <td>1000_413</td>\n",
       "      <td>1000</td>\n",
       "      <td>2018-12-26</td>\n",
       "      <td>270.99</td>\n",
       "    </tr>\n",
       "    <tr>\n",
       "      <th>4</th>\n",
       "      <td>1000_442</td>\n",
       "      <td>1000</td>\n",
       "      <td>2018-12-27</td>\n",
       "      <td>880.22</td>\n",
       "    </tr>\n",
       "  </tbody>\n",
       "</table>\n",
       "</div>"
      ],
      "text/plain": [
       "         id  user_id session_date  mb_used\n",
       "0   1000_13     1000   2018-12-29    89.86\n",
       "1  1000_204     1000   2018-12-31     0.00\n",
       "2  1000_379     1000   2018-12-28   660.40\n",
       "3  1000_413     1000   2018-12-26   270.99\n",
       "4  1000_442     1000   2018-12-27   880.22"
      ]
     },
     "execution_count": 6,
     "metadata": {},
     "output_type": "execute_result"
    }
   ],
   "source": [
    "internet.head()"
   ]
  },
  {
   "cell_type": "code",
   "execution_count": 7,
   "id": "20be6ca6",
   "metadata": {},
   "outputs": [
    {
     "name": "stdout",
     "output_type": "stream",
     "text": [
      "<class 'pandas.core.frame.DataFrame'>\n",
      "RangeIndex: 104825 entries, 0 to 104824\n",
      "Data columns (total 4 columns):\n",
      " #   Column        Non-Null Count   Dtype  \n",
      "---  ------        --------------   -----  \n",
      " 0   id            104825 non-null  object \n",
      " 1   user_id       104825 non-null  int64  \n",
      " 2   session_date  104825 non-null  object \n",
      " 3   mb_used       104825 non-null  float64\n",
      "dtypes: float64(1), int64(1), object(2)\n",
      "memory usage: 3.2+ MB\n"
     ]
    }
   ],
   "source": [
    "internet.info()"
   ]
  },
  {
   "cell_type": "code",
   "execution_count": 8,
   "id": "d80873b5",
   "metadata": {
    "scrolled": true
   },
   "outputs": [
    {
     "name": "stdout",
     "output_type": "stream",
     "text": [
      "id              0\n",
      "user_id         0\n",
      "session_date    0\n",
      "mb_used         0\n",
      "dtype: int64\n"
     ]
    }
   ],
   "source": [
    "print(internet.isna().sum())"
   ]
  },
  {
   "cell_type": "markdown",
   "id": "6db57226",
   "metadata": {},
   "source": [
    "**Step 1.5**\n",
    "Memeriksa informasi umum dari dataframe yang di-*load* file *megaline_messages.csv*"
   ]
  },
  {
   "cell_type": "code",
   "execution_count": 9,
   "id": "bce0af81",
   "metadata": {
    "scrolled": true
   },
   "outputs": [
    {
     "data": {
      "text/html": [
       "<div>\n",
       "<style scoped>\n",
       "    .dataframe tbody tr th:only-of-type {\n",
       "        vertical-align: middle;\n",
       "    }\n",
       "\n",
       "    .dataframe tbody tr th {\n",
       "        vertical-align: top;\n",
       "    }\n",
       "\n",
       "    .dataframe thead th {\n",
       "        text-align: right;\n",
       "    }\n",
       "</style>\n",
       "<table border=\"1\" class=\"dataframe\">\n",
       "  <thead>\n",
       "    <tr style=\"text-align: right;\">\n",
       "      <th></th>\n",
       "      <th>id</th>\n",
       "      <th>user_id</th>\n",
       "      <th>message_date</th>\n",
       "    </tr>\n",
       "  </thead>\n",
       "  <tbody>\n",
       "    <tr>\n",
       "      <th>0</th>\n",
       "      <td>1000_125</td>\n",
       "      <td>1000</td>\n",
       "      <td>2018-12-27</td>\n",
       "    </tr>\n",
       "    <tr>\n",
       "      <th>1</th>\n",
       "      <td>1000_160</td>\n",
       "      <td>1000</td>\n",
       "      <td>2018-12-31</td>\n",
       "    </tr>\n",
       "    <tr>\n",
       "      <th>2</th>\n",
       "      <td>1000_223</td>\n",
       "      <td>1000</td>\n",
       "      <td>2018-12-31</td>\n",
       "    </tr>\n",
       "    <tr>\n",
       "      <th>3</th>\n",
       "      <td>1000_251</td>\n",
       "      <td>1000</td>\n",
       "      <td>2018-12-27</td>\n",
       "    </tr>\n",
       "    <tr>\n",
       "      <th>4</th>\n",
       "      <td>1000_255</td>\n",
       "      <td>1000</td>\n",
       "      <td>2018-12-26</td>\n",
       "    </tr>\n",
       "  </tbody>\n",
       "</table>\n",
       "</div>"
      ],
      "text/plain": [
       "         id  user_id message_date\n",
       "0  1000_125     1000   2018-12-27\n",
       "1  1000_160     1000   2018-12-31\n",
       "2  1000_223     1000   2018-12-31\n",
       "3  1000_251     1000   2018-12-27\n",
       "4  1000_255     1000   2018-12-26"
      ]
     },
     "execution_count": 9,
     "metadata": {},
     "output_type": "execute_result"
    }
   ],
   "source": [
    "messages.head()"
   ]
  },
  {
   "cell_type": "code",
   "execution_count": 10,
   "id": "2bd78bab",
   "metadata": {},
   "outputs": [
    {
     "name": "stdout",
     "output_type": "stream",
     "text": [
      "<class 'pandas.core.frame.DataFrame'>\n",
      "RangeIndex: 76051 entries, 0 to 76050\n",
      "Data columns (total 3 columns):\n",
      " #   Column        Non-Null Count  Dtype \n",
      "---  ------        --------------  ----- \n",
      " 0   id            76051 non-null  object\n",
      " 1   user_id       76051 non-null  int64 \n",
      " 2   message_date  76051 non-null  object\n",
      "dtypes: int64(1), object(2)\n",
      "memory usage: 1.7+ MB\n"
     ]
    }
   ],
   "source": [
    "messages.info()"
   ]
  },
  {
   "cell_type": "code",
   "execution_count": 11,
   "id": "4b7d7c0c",
   "metadata": {
    "scrolled": true
   },
   "outputs": [
    {
     "name": "stdout",
     "output_type": "stream",
     "text": [
      "id              0\n",
      "user_id         0\n",
      "message_date    0\n",
      "dtype: int64\n"
     ]
    }
   ],
   "source": [
    "print(messages.isna().sum())"
   ]
  },
  {
   "cell_type": "markdown",
   "id": "c98755f5",
   "metadata": {},
   "source": [
    "**Step 1.6**\n",
    "Memeriksa informasi umum dari dataframe yang di-*load* file *megaline_plans.csv*"
   ]
  },
  {
   "cell_type": "code",
   "execution_count": 12,
   "id": "c8eec197",
   "metadata": {},
   "outputs": [
    {
     "data": {
      "text/html": [
       "<div>\n",
       "<style scoped>\n",
       "    .dataframe tbody tr th:only-of-type {\n",
       "        vertical-align: middle;\n",
       "    }\n",
       "\n",
       "    .dataframe tbody tr th {\n",
       "        vertical-align: top;\n",
       "    }\n",
       "\n",
       "    .dataframe thead th {\n",
       "        text-align: right;\n",
       "    }\n",
       "</style>\n",
       "<table border=\"1\" class=\"dataframe\">\n",
       "  <thead>\n",
       "    <tr style=\"text-align: right;\">\n",
       "      <th></th>\n",
       "      <th>messages_included</th>\n",
       "      <th>mb_per_month_included</th>\n",
       "      <th>minutes_included</th>\n",
       "      <th>usd_monthly_pay</th>\n",
       "      <th>usd_per_gb</th>\n",
       "      <th>usd_per_message</th>\n",
       "      <th>usd_per_minute</th>\n",
       "      <th>plan_name</th>\n",
       "    </tr>\n",
       "  </thead>\n",
       "  <tbody>\n",
       "    <tr>\n",
       "      <th>0</th>\n",
       "      <td>50</td>\n",
       "      <td>15360</td>\n",
       "      <td>500</td>\n",
       "      <td>20</td>\n",
       "      <td>10</td>\n",
       "      <td>0.03</td>\n",
       "      <td>0.03</td>\n",
       "      <td>surf</td>\n",
       "    </tr>\n",
       "    <tr>\n",
       "      <th>1</th>\n",
       "      <td>1000</td>\n",
       "      <td>30720</td>\n",
       "      <td>3000</td>\n",
       "      <td>70</td>\n",
       "      <td>7</td>\n",
       "      <td>0.01</td>\n",
       "      <td>0.01</td>\n",
       "      <td>ultimate</td>\n",
       "    </tr>\n",
       "  </tbody>\n",
       "</table>\n",
       "</div>"
      ],
      "text/plain": [
       "   messages_included  mb_per_month_included  minutes_included  \\\n",
       "0                 50                  15360               500   \n",
       "1               1000                  30720              3000   \n",
       "\n",
       "   usd_monthly_pay  usd_per_gb  usd_per_message  usd_per_minute plan_name  \n",
       "0               20          10             0.03            0.03      surf  \n",
       "1               70           7             0.01            0.01  ultimate  "
      ]
     },
     "execution_count": 12,
     "metadata": {},
     "output_type": "execute_result"
    }
   ],
   "source": [
    "plans.head()"
   ]
  },
  {
   "cell_type": "code",
   "execution_count": 13,
   "id": "c1b71489",
   "metadata": {},
   "outputs": [
    {
     "name": "stdout",
     "output_type": "stream",
     "text": [
      "<class 'pandas.core.frame.DataFrame'>\n",
      "RangeIndex: 2 entries, 0 to 1\n",
      "Data columns (total 8 columns):\n",
      " #   Column                 Non-Null Count  Dtype  \n",
      "---  ------                 --------------  -----  \n",
      " 0   messages_included      2 non-null      int64  \n",
      " 1   mb_per_month_included  2 non-null      int64  \n",
      " 2   minutes_included       2 non-null      int64  \n",
      " 3   usd_monthly_pay        2 non-null      int64  \n",
      " 4   usd_per_gb             2 non-null      int64  \n",
      " 5   usd_per_message        2 non-null      float64\n",
      " 6   usd_per_minute         2 non-null      float64\n",
      " 7   plan_name              2 non-null      object \n",
      "dtypes: float64(2), int64(5), object(1)\n",
      "memory usage: 260.0+ bytes\n"
     ]
    }
   ],
   "source": [
    "plans.info()"
   ]
  },
  {
   "cell_type": "code",
   "execution_count": 14,
   "id": "09037be3",
   "metadata": {
    "scrolled": true
   },
   "outputs": [
    {
     "name": "stdout",
     "output_type": "stream",
     "text": [
      "messages_included        0\n",
      "mb_per_month_included    0\n",
      "minutes_included         0\n",
      "usd_monthly_pay          0\n",
      "usd_per_gb               0\n",
      "usd_per_message          0\n",
      "usd_per_minute           0\n",
      "plan_name                0\n",
      "dtype: int64\n"
     ]
    }
   ],
   "source": [
    "print(plans.isna().sum())"
   ]
  },
  {
   "cell_type": "markdown",
   "id": "c1339fc2",
   "metadata": {},
   "source": [
    "**Step 1.7**\n",
    "Memeriksa informasi umum dari dataframe yang di-*load* file *megaline_users.csv*"
   ]
  },
  {
   "cell_type": "code",
   "execution_count": 15,
   "id": "7344026e",
   "metadata": {
    "scrolled": true
   },
   "outputs": [
    {
     "data": {
      "text/html": [
       "<div>\n",
       "<style scoped>\n",
       "    .dataframe tbody tr th:only-of-type {\n",
       "        vertical-align: middle;\n",
       "    }\n",
       "\n",
       "    .dataframe tbody tr th {\n",
       "        vertical-align: top;\n",
       "    }\n",
       "\n",
       "    .dataframe thead th {\n",
       "        text-align: right;\n",
       "    }\n",
       "</style>\n",
       "<table border=\"1\" class=\"dataframe\">\n",
       "  <thead>\n",
       "    <tr style=\"text-align: right;\">\n",
       "      <th></th>\n",
       "      <th>user_id</th>\n",
       "      <th>first_name</th>\n",
       "      <th>last_name</th>\n",
       "      <th>age</th>\n",
       "      <th>city</th>\n",
       "      <th>reg_date</th>\n",
       "      <th>plan</th>\n",
       "      <th>churn_date</th>\n",
       "    </tr>\n",
       "  </thead>\n",
       "  <tbody>\n",
       "    <tr>\n",
       "      <th>0</th>\n",
       "      <td>1000</td>\n",
       "      <td>Anamaria</td>\n",
       "      <td>Bauer</td>\n",
       "      <td>45</td>\n",
       "      <td>Atlanta-Sandy Springs-Roswell, GA MSA</td>\n",
       "      <td>2018-12-24</td>\n",
       "      <td>ultimate</td>\n",
       "      <td>NaN</td>\n",
       "    </tr>\n",
       "    <tr>\n",
       "      <th>1</th>\n",
       "      <td>1001</td>\n",
       "      <td>Mickey</td>\n",
       "      <td>Wilkerson</td>\n",
       "      <td>28</td>\n",
       "      <td>Seattle-Tacoma-Bellevue, WA MSA</td>\n",
       "      <td>2018-08-13</td>\n",
       "      <td>surf</td>\n",
       "      <td>NaN</td>\n",
       "    </tr>\n",
       "    <tr>\n",
       "      <th>2</th>\n",
       "      <td>1002</td>\n",
       "      <td>Carlee</td>\n",
       "      <td>Hoffman</td>\n",
       "      <td>36</td>\n",
       "      <td>Las Vegas-Henderson-Paradise, NV MSA</td>\n",
       "      <td>2018-10-21</td>\n",
       "      <td>surf</td>\n",
       "      <td>NaN</td>\n",
       "    </tr>\n",
       "    <tr>\n",
       "      <th>3</th>\n",
       "      <td>1003</td>\n",
       "      <td>Reynaldo</td>\n",
       "      <td>Jenkins</td>\n",
       "      <td>52</td>\n",
       "      <td>Tulsa, OK MSA</td>\n",
       "      <td>2018-01-28</td>\n",
       "      <td>surf</td>\n",
       "      <td>NaN</td>\n",
       "    </tr>\n",
       "    <tr>\n",
       "      <th>4</th>\n",
       "      <td>1004</td>\n",
       "      <td>Leonila</td>\n",
       "      <td>Thompson</td>\n",
       "      <td>40</td>\n",
       "      <td>Seattle-Tacoma-Bellevue, WA MSA</td>\n",
       "      <td>2018-05-23</td>\n",
       "      <td>surf</td>\n",
       "      <td>NaN</td>\n",
       "    </tr>\n",
       "  </tbody>\n",
       "</table>\n",
       "</div>"
      ],
      "text/plain": [
       "   user_id first_name  last_name  age                                   city  \\\n",
       "0     1000   Anamaria      Bauer   45  Atlanta-Sandy Springs-Roswell, GA MSA   \n",
       "1     1001     Mickey  Wilkerson   28        Seattle-Tacoma-Bellevue, WA MSA   \n",
       "2     1002     Carlee    Hoffman   36   Las Vegas-Henderson-Paradise, NV MSA   \n",
       "3     1003   Reynaldo    Jenkins   52                          Tulsa, OK MSA   \n",
       "4     1004    Leonila   Thompson   40        Seattle-Tacoma-Bellevue, WA MSA   \n",
       "\n",
       "     reg_date      plan churn_date  \n",
       "0  2018-12-24  ultimate        NaN  \n",
       "1  2018-08-13      surf        NaN  \n",
       "2  2018-10-21      surf        NaN  \n",
       "3  2018-01-28      surf        NaN  \n",
       "4  2018-05-23      surf        NaN  "
      ]
     },
     "execution_count": 15,
     "metadata": {},
     "output_type": "execute_result"
    }
   ],
   "source": [
    "users.head()"
   ]
  },
  {
   "cell_type": "code",
   "execution_count": 16,
   "id": "84f3b452",
   "metadata": {},
   "outputs": [
    {
     "name": "stdout",
     "output_type": "stream",
     "text": [
      "<class 'pandas.core.frame.DataFrame'>\n",
      "RangeIndex: 500 entries, 0 to 499\n",
      "Data columns (total 8 columns):\n",
      " #   Column      Non-Null Count  Dtype \n",
      "---  ------      --------------  ----- \n",
      " 0   user_id     500 non-null    int64 \n",
      " 1   first_name  500 non-null    object\n",
      " 2   last_name   500 non-null    object\n",
      " 3   age         500 non-null    int64 \n",
      " 4   city        500 non-null    object\n",
      " 5   reg_date    500 non-null    object\n",
      " 6   plan        500 non-null    object\n",
      " 7   churn_date  34 non-null     object\n",
      "dtypes: int64(2), object(6)\n",
      "memory usage: 31.4+ KB\n"
     ]
    }
   ],
   "source": [
    "users.info()"
   ]
  },
  {
   "cell_type": "code",
   "execution_count": 17,
   "id": "f1f9fc42",
   "metadata": {
    "scrolled": true
   },
   "outputs": [
    {
     "name": "stdout",
     "output_type": "stream",
     "text": [
      "user_id         0\n",
      "first_name      0\n",
      "last_name       0\n",
      "age             0\n",
      "city            0\n",
      "reg_date        0\n",
      "plan            0\n",
      "churn_date    466\n",
      "dtype: int64\n"
     ]
    }
   ],
   "source": [
    "print(users.isna().sum())"
   ]
  },
  {
   "cell_type": "markdown",
   "id": "01ccef77",
   "metadata": {},
   "source": [
    "### Kesimpulan <a id='data_review_conclusions'></a> \n",
    "\n",
    "Setiap baris dalam tiap-tiap tabel menyimpan data terkait user dan layanan operator telekomunikasi Megaline. Berikut rinciannya:\n",
    "\n",
    "Tabel users (data pengguna):\n",
    "* user_id — ID pengguna\n",
    "* first_name — nama depan pengguna\n",
    "* last_name — nama belakang pengguna\n",
    "* age — usia pengguna (tahun)\n",
    "* reg_date — tanggal mulai berlangganan (dd, mm, yy)\n",
    "* churn_date — tanggal pengguna berhenti menggunakan layanan (jika nilainya hilang atau tidak ada, berarti paket layanan sedang digunakan saat data ini dibuat)\n",
    "* city — kota tempat tinggal pengguna\n",
    "* plan — nama paket telepon\n",
    "\n",
    "Tabel calls (data panggilan):\n",
    "* id — ID sesi web unik\n",
    "* call_date — tanggal panggilan\n",
    "* duration — durasi panggilan (dalam menit)\n",
    "* user_id — ID pengguna yang melakukan panggilan\n",
    "\n",
    "Tabel messages (data SMS):\n",
    "* id — ID SMS unik\n",
    "* message_date — tanggal SMS dikirim\n",
    "* user_id — ID pengguna yang mengirim SMS\n",
    "\n",
    "Tabel internet (data sesi web):\n",
    "* id — ID sesi web unik\n",
    "* mb_used — volume data yang dihabiskan selama sesi (dalam megabita)\n",
    "* session_date — tanggal sesi web\n",
    "* user_id — ID pengguna\n",
    "\n",
    "Tabel plans (data paket telepon):\n",
    "* plan_name — nama paket telepon\n",
    "* usd_monthly_fee — biaya bulanan dalam dolar AS\n",
    "* minutes_included — alokasi menit panggilan bulanan\n",
    "* messages_included — alokasi SMS bulanan\n",
    "* mb_per_month_included — alokasi volume data bulanan (dalam megabita)\n",
    "* usd_per_minute — harga per menit jika telah melebihi batas alokasi paket (misalnya, jika paket memiliki alokasi 100 menit, maka penggunaan mulai dari menit ke-101 akan dikenakan biaya)\n",
    "* usd_per_message — harga per SMS jika telah melebihi batas alokasi paket\n",
    "* usd_per_gb — harga per ekstra gigabita data jika telah melebihi batas alokasi paket (1 GB = 1024 megabita)\n",
    "\n",
    "\n",
    "Terlihat bahwa data yang dimiliki cukup untuk melakukan proses analisis dan uji hipotesis yang diperlukan. Meski demikian, dapat saja ditemukan nilai-nilai yang hilang, tipe-tipe data yang tidak sesuai, data yang perlu diklasifikasi lebih baik, serta beberapa data yang perlu ditambahkan untuk analisis lebih lanjut di antaranya:\n",
    "1. Jumlah panggilan yang dilakukan dan menit yang digunakan per bulan\n",
    "2. Jumlah SMS yang dikirim per bulan\n",
    "3. Volume data per bulan\n",
    "4. Pendapatan bulanan dari setiap pengguna (kurangi batas paket gratis dari jumlah total panggilan, SMS, dan data; kalikan hasilnya dengan nilai paket telepon; tambahkan biaya bulanan tergantung pada paket teleponnya)\n",
    "\n",
    "Untuk dapat berlanjut ke proses analisis, perlu dilakukan pra-pemrosesan data terlebih dahulu."
   ]
  },
  {
   "cell_type": "markdown",
   "id": "3729a156",
   "metadata": {},
   "source": [
    "[Kembali ke Daftar Isi](#back)"
   ]
  },
  {
   "cell_type": "markdown",
   "id": "06ed40d5",
   "metadata": {},
   "source": [
    "## Pra-pemrosesan Data <a id='data_preprocessing'></a>"
   ]
  },
  {
   "cell_type": "markdown",
   "id": "b0802e81",
   "metadata": {},
   "source": [
    "### Data File 'calls' <a id='file_calls'></a>"
   ]
  },
  {
   "cell_type": "markdown",
   "id": "4d8d1364",
   "metadata": {},
   "source": [
    "**Step 2.1**\n",
    "Melakukan pembulatan ke atas untuk satuan menit terdekat pada kolom duration."
   ]
  },
  {
   "cell_type": "code",
   "execution_count": 18,
   "id": "338be2f0",
   "metadata": {
    "scrolled": true
   },
   "outputs": [
    {
     "name": "stdout",
     "output_type": "stream",
     "text": [
      "<class 'pandas.core.frame.DataFrame'>\n",
      "RangeIndex: 137735 entries, 0 to 137734\n",
      "Data columns (total 4 columns):\n",
      " #   Column     Non-Null Count   Dtype \n",
      "---  ------     --------------   ----- \n",
      " 0   id         137735 non-null  object\n",
      " 1   user_id    137735 non-null  int64 \n",
      " 2   call_date  137735 non-null  object\n",
      " 3   duration   137735 non-null  int32 \n",
      "dtypes: int32(1), int64(1), object(2)\n",
      "memory usage: 3.7+ MB\n"
     ]
    }
   ],
   "source": [
    "calls['duration'] = calls['duration'].apply(np.ceil).astype('int')\n",
    "calls.info()"
   ]
  },
  {
   "cell_type": "markdown",
   "id": "d02856db",
   "metadata": {},
   "source": [
    "**Step 2.2**\n",
    "Melakukan pemformatan kolom tanggal dengan tipe data yang sesuai."
   ]
  },
  {
   "cell_type": "code",
   "execution_count": 19,
   "id": "c8d5e124",
   "metadata": {},
   "outputs": [
    {
     "name": "stdout",
     "output_type": "stream",
     "text": [
      "<class 'pandas.core.frame.DataFrame'>\n",
      "RangeIndex: 137735 entries, 0 to 137734\n",
      "Data columns (total 4 columns):\n",
      " #   Column     Non-Null Count   Dtype         \n",
      "---  ------     --------------   -----         \n",
      " 0   id         137735 non-null  object        \n",
      " 1   user_id    137735 non-null  int64         \n",
      " 2   call_date  137735 non-null  datetime64[ns]\n",
      " 3   duration   137735 non-null  int32         \n",
      "dtypes: datetime64[ns](1), int32(1), int64(1), object(1)\n",
      "memory usage: 3.7+ MB\n"
     ]
    }
   ],
   "source": [
    "calls['call_date'] = pd.to_datetime(calls['call_date'], format='%Y-%m-%d')\n",
    "calls.info()"
   ]
  },
  {
   "cell_type": "markdown",
   "id": "6564975e",
   "metadata": {},
   "source": [
    "**Step 2.3**\n",
    "Menambahkan kolom nama bulan yang diperlukan untuk proses analisis selanjutnya."
   ]
  },
  {
   "cell_type": "code",
   "execution_count": 20,
   "id": "b0a78357",
   "metadata": {
    "scrolled": true
   },
   "outputs": [
    {
     "data": {
      "text/html": [
       "<div>\n",
       "<style scoped>\n",
       "    .dataframe tbody tr th:only-of-type {\n",
       "        vertical-align: middle;\n",
       "    }\n",
       "\n",
       "    .dataframe tbody tr th {\n",
       "        vertical-align: top;\n",
       "    }\n",
       "\n",
       "    .dataframe thead th {\n",
       "        text-align: right;\n",
       "    }\n",
       "</style>\n",
       "<table border=\"1\" class=\"dataframe\">\n",
       "  <thead>\n",
       "    <tr style=\"text-align: right;\">\n",
       "      <th></th>\n",
       "      <th>id</th>\n",
       "      <th>user_id</th>\n",
       "      <th>call_date</th>\n",
       "      <th>duration</th>\n",
       "      <th>call_month</th>\n",
       "    </tr>\n",
       "  </thead>\n",
       "  <tbody>\n",
       "    <tr>\n",
       "      <th>0</th>\n",
       "      <td>1000_93</td>\n",
       "      <td>1000</td>\n",
       "      <td>2018-12-27</td>\n",
       "      <td>9</td>\n",
       "      <td>December</td>\n",
       "    </tr>\n",
       "    <tr>\n",
       "      <th>1</th>\n",
       "      <td>1000_145</td>\n",
       "      <td>1000</td>\n",
       "      <td>2018-12-27</td>\n",
       "      <td>14</td>\n",
       "      <td>December</td>\n",
       "    </tr>\n",
       "    <tr>\n",
       "      <th>2</th>\n",
       "      <td>1000_247</td>\n",
       "      <td>1000</td>\n",
       "      <td>2018-12-27</td>\n",
       "      <td>15</td>\n",
       "      <td>December</td>\n",
       "    </tr>\n",
       "    <tr>\n",
       "      <th>3</th>\n",
       "      <td>1000_309</td>\n",
       "      <td>1000</td>\n",
       "      <td>2018-12-28</td>\n",
       "      <td>6</td>\n",
       "      <td>December</td>\n",
       "    </tr>\n",
       "    <tr>\n",
       "      <th>4</th>\n",
       "      <td>1000_380</td>\n",
       "      <td>1000</td>\n",
       "      <td>2018-12-30</td>\n",
       "      <td>5</td>\n",
       "      <td>December</td>\n",
       "    </tr>\n",
       "  </tbody>\n",
       "</table>\n",
       "</div>"
      ],
      "text/plain": [
       "         id  user_id  call_date  duration call_month\n",
       "0   1000_93     1000 2018-12-27         9   December\n",
       "1  1000_145     1000 2018-12-27        14   December\n",
       "2  1000_247     1000 2018-12-27        15   December\n",
       "3  1000_309     1000 2018-12-28         6   December\n",
       "4  1000_380     1000 2018-12-30         5   December"
      ]
     },
     "execution_count": 20,
     "metadata": {},
     "output_type": "execute_result"
    }
   ],
   "source": [
    "calls['call_month'] = calls['call_date'].dt.month_name()\n",
    "calls.head()"
   ]
  },
  {
   "cell_type": "code",
   "execution_count": 21,
   "id": "144d39ff",
   "metadata": {},
   "outputs": [
    {
     "name": "stdout",
     "output_type": "stream",
     "text": [
      "26834 137735\n",
      "19.48 %\n"
     ]
    }
   ],
   "source": [
    "print(len(calls.query('duration == 0')),len(calls))\n",
    "print(round((len(calls.query('duration == 0'))/len(calls))*100,2), '%')"
   ]
  },
  {
   "cell_type": "markdown",
   "id": "b0701990",
   "metadata": {},
   "source": [
    "**Catatan**\n",
    "\n",
    "Terhadap calls dengan duration 0 dengan porsi sebesar 19,48 % dari keseluruhan data akan tetap dibiarkan dengan asumsi dapat saja terjadi pencatatan calls pada user id users di mana upaya koneksi user ke nomor tujuan tidak tersambung namun tetap tercatat dalam sistem. Kemudian juga pada akhirnya yang dianalisis adalah jumlah kumulatif bulanannya. Dengan porsi 19,48 % dari keseluruhan masih dapat ditolerir. "
   ]
  },
  {
   "cell_type": "markdown",
   "id": "fee930ae",
   "metadata": {},
   "source": [
    "### Data File 'internet' <a id='file_internet'></a>"
   ]
  },
  {
   "cell_type": "markdown",
   "id": "220976c6",
   "metadata": {},
   "source": [
    "**Step 2.4**\n",
    "Melakukan pemformatan kolom tanggal dengan tipe data yang sesuai."
   ]
  },
  {
   "cell_type": "code",
   "execution_count": 22,
   "id": "d3aaa93e",
   "metadata": {
    "scrolled": true
   },
   "outputs": [
    {
     "name": "stdout",
     "output_type": "stream",
     "text": [
      "<class 'pandas.core.frame.DataFrame'>\n",
      "RangeIndex: 104825 entries, 0 to 104824\n",
      "Data columns (total 4 columns):\n",
      " #   Column        Non-Null Count   Dtype         \n",
      "---  ------        --------------   -----         \n",
      " 0   id            104825 non-null  object        \n",
      " 1   user_id       104825 non-null  int64         \n",
      " 2   session_date  104825 non-null  datetime64[ns]\n",
      " 3   mb_used       104825 non-null  float64       \n",
      "dtypes: datetime64[ns](1), float64(1), int64(1), object(1)\n",
      "memory usage: 3.2+ MB\n"
     ]
    }
   ],
   "source": [
    "internet['session_date'] = pd.to_datetime(internet['session_date'], format='%Y-%m-%d')\n",
    "internet.info()"
   ]
  },
  {
   "cell_type": "markdown",
   "id": "6b54a49f",
   "metadata": {},
   "source": [
    "**Step 2.5**\n",
    "Menambahkan kolom nama bulan yang diperlukan untuk proses analisis selanjutnya."
   ]
  },
  {
   "cell_type": "code",
   "execution_count": 23,
   "id": "7fac7dcd",
   "metadata": {
    "scrolled": false
   },
   "outputs": [
    {
     "data": {
      "text/html": [
       "<div>\n",
       "<style scoped>\n",
       "    .dataframe tbody tr th:only-of-type {\n",
       "        vertical-align: middle;\n",
       "    }\n",
       "\n",
       "    .dataframe tbody tr th {\n",
       "        vertical-align: top;\n",
       "    }\n",
       "\n",
       "    .dataframe thead th {\n",
       "        text-align: right;\n",
       "    }\n",
       "</style>\n",
       "<table border=\"1\" class=\"dataframe\">\n",
       "  <thead>\n",
       "    <tr style=\"text-align: right;\">\n",
       "      <th></th>\n",
       "      <th>id</th>\n",
       "      <th>user_id</th>\n",
       "      <th>session_date</th>\n",
       "      <th>mb_used</th>\n",
       "      <th>session_month</th>\n",
       "    </tr>\n",
       "  </thead>\n",
       "  <tbody>\n",
       "    <tr>\n",
       "      <th>0</th>\n",
       "      <td>1000_13</td>\n",
       "      <td>1000</td>\n",
       "      <td>2018-12-29</td>\n",
       "      <td>89.86</td>\n",
       "      <td>December</td>\n",
       "    </tr>\n",
       "    <tr>\n",
       "      <th>1</th>\n",
       "      <td>1000_204</td>\n",
       "      <td>1000</td>\n",
       "      <td>2018-12-31</td>\n",
       "      <td>0.00</td>\n",
       "      <td>December</td>\n",
       "    </tr>\n",
       "    <tr>\n",
       "      <th>2</th>\n",
       "      <td>1000_379</td>\n",
       "      <td>1000</td>\n",
       "      <td>2018-12-28</td>\n",
       "      <td>660.40</td>\n",
       "      <td>December</td>\n",
       "    </tr>\n",
       "    <tr>\n",
       "      <th>3</th>\n",
       "      <td>1000_413</td>\n",
       "      <td>1000</td>\n",
       "      <td>2018-12-26</td>\n",
       "      <td>270.99</td>\n",
       "      <td>December</td>\n",
       "    </tr>\n",
       "    <tr>\n",
       "      <th>4</th>\n",
       "      <td>1000_442</td>\n",
       "      <td>1000</td>\n",
       "      <td>2018-12-27</td>\n",
       "      <td>880.22</td>\n",
       "      <td>December</td>\n",
       "    </tr>\n",
       "  </tbody>\n",
       "</table>\n",
       "</div>"
      ],
      "text/plain": [
       "         id  user_id session_date  mb_used session_month\n",
       "0   1000_13     1000   2018-12-29    89.86      December\n",
       "1  1000_204     1000   2018-12-31     0.00      December\n",
       "2  1000_379     1000   2018-12-28   660.40      December\n",
       "3  1000_413     1000   2018-12-26   270.99      December\n",
       "4  1000_442     1000   2018-12-27   880.22      December"
      ]
     },
     "execution_count": 23,
     "metadata": {},
     "output_type": "execute_result"
    }
   ],
   "source": [
    "internet['session_month'] = internet['session_date'].dt.month_name()\n",
    "internet.head()"
   ]
  },
  {
   "cell_type": "code",
   "execution_count": 24,
   "id": "e2809390",
   "metadata": {},
   "outputs": [
    {
     "name": "stdout",
     "output_type": "stream",
     "text": [
      "13747 104825\n",
      "13.11 %\n"
     ]
    }
   ],
   "source": [
    "print(len(internet.query('mb_used == 0')),len(internet))\n",
    "print(round(len(internet.query('mb_used == 0'))/len(internet)*100,2),'%')"
   ]
  },
  {
   "cell_type": "markdown",
   "id": "117b3b15",
   "metadata": {},
   "source": [
    "**Catatan**\n",
    "\n",
    "Terhadap internet dengan mb_used 0 dengan porsi sebesar 13,11 % dari keseluruhan data akan tetap dibiarkan dengan asumsi dapat saja terjadi pencatatan internet pada user id users di mana upaya koneksi data ke server provider tidak tersambung namun tetap tercatat dalam sistem. Kemudian juga pada akhirnya yang dianalisis adalah jumlah kumulatif bulanannya. Dengan porsi 13,11 % dari keseluruhan masih dapat ditolerir."
   ]
  },
  {
   "cell_type": "markdown",
   "id": "f4793d7c",
   "metadata": {},
   "source": [
    "### Data File 'messages' <a id='file_messages'></a>"
   ]
  },
  {
   "cell_type": "markdown",
   "id": "7c173b71",
   "metadata": {},
   "source": [
    "**Step 2.6**\n",
    "Melakukan pemformatan kolom tanggal dengan tipe data yang sesuai."
   ]
  },
  {
   "cell_type": "code",
   "execution_count": 25,
   "id": "da60406a",
   "metadata": {},
   "outputs": [
    {
     "name": "stdout",
     "output_type": "stream",
     "text": [
      "<class 'pandas.core.frame.DataFrame'>\n",
      "RangeIndex: 76051 entries, 0 to 76050\n",
      "Data columns (total 3 columns):\n",
      " #   Column        Non-Null Count  Dtype         \n",
      "---  ------        --------------  -----         \n",
      " 0   id            76051 non-null  object        \n",
      " 1   user_id       76051 non-null  int64         \n",
      " 2   message_date  76051 non-null  datetime64[ns]\n",
      "dtypes: datetime64[ns](1), int64(1), object(1)\n",
      "memory usage: 1.7+ MB\n"
     ]
    }
   ],
   "source": [
    "messages['message_date'] = pd.to_datetime(messages['message_date'], format='%Y-%m-%d')\n",
    "messages.info()"
   ]
  },
  {
   "cell_type": "markdown",
   "id": "32c47ec1",
   "metadata": {},
   "source": [
    "**Step 2.7**\n",
    "Menambahkan kolom nama bulan yang diperlukan untuk proses analisis selanjutnya."
   ]
  },
  {
   "cell_type": "code",
   "execution_count": 26,
   "id": "382b14ea",
   "metadata": {
    "scrolled": true
   },
   "outputs": [
    {
     "data": {
      "text/html": [
       "<div>\n",
       "<style scoped>\n",
       "    .dataframe tbody tr th:only-of-type {\n",
       "        vertical-align: middle;\n",
       "    }\n",
       "\n",
       "    .dataframe tbody tr th {\n",
       "        vertical-align: top;\n",
       "    }\n",
       "\n",
       "    .dataframe thead th {\n",
       "        text-align: right;\n",
       "    }\n",
       "</style>\n",
       "<table border=\"1\" class=\"dataframe\">\n",
       "  <thead>\n",
       "    <tr style=\"text-align: right;\">\n",
       "      <th></th>\n",
       "      <th>id</th>\n",
       "      <th>user_id</th>\n",
       "      <th>message_date</th>\n",
       "      <th>message_month</th>\n",
       "    </tr>\n",
       "  </thead>\n",
       "  <tbody>\n",
       "    <tr>\n",
       "      <th>0</th>\n",
       "      <td>1000_125</td>\n",
       "      <td>1000</td>\n",
       "      <td>2018-12-27</td>\n",
       "      <td>December</td>\n",
       "    </tr>\n",
       "    <tr>\n",
       "      <th>1</th>\n",
       "      <td>1000_160</td>\n",
       "      <td>1000</td>\n",
       "      <td>2018-12-31</td>\n",
       "      <td>December</td>\n",
       "    </tr>\n",
       "    <tr>\n",
       "      <th>2</th>\n",
       "      <td>1000_223</td>\n",
       "      <td>1000</td>\n",
       "      <td>2018-12-31</td>\n",
       "      <td>December</td>\n",
       "    </tr>\n",
       "    <tr>\n",
       "      <th>3</th>\n",
       "      <td>1000_251</td>\n",
       "      <td>1000</td>\n",
       "      <td>2018-12-27</td>\n",
       "      <td>December</td>\n",
       "    </tr>\n",
       "    <tr>\n",
       "      <th>4</th>\n",
       "      <td>1000_255</td>\n",
       "      <td>1000</td>\n",
       "      <td>2018-12-26</td>\n",
       "      <td>December</td>\n",
       "    </tr>\n",
       "  </tbody>\n",
       "</table>\n",
       "</div>"
      ],
      "text/plain": [
       "         id  user_id message_date message_month\n",
       "0  1000_125     1000   2018-12-27      December\n",
       "1  1000_160     1000   2018-12-31      December\n",
       "2  1000_223     1000   2018-12-31      December\n",
       "3  1000_251     1000   2018-12-27      December\n",
       "4  1000_255     1000   2018-12-26      December"
      ]
     },
     "execution_count": 26,
     "metadata": {},
     "output_type": "execute_result"
    }
   ],
   "source": [
    "messages['message_month'] = messages['message_date'].dt.month_name()\n",
    "messages.head()"
   ]
  },
  {
   "cell_type": "markdown",
   "id": "ab33f464",
   "metadata": {},
   "source": [
    "### Data File 'plans' <a id='file_plans'></a>"
   ]
  },
  {
   "cell_type": "markdown",
   "id": "865c2453",
   "metadata": {},
   "source": [
    "**Step 2.8** Mengkonversi satuan data dalam satuan gigabyte. Untuk hal ini diperlukan angka pembagi 1024 sesuai kaidah perhitungan byte."
   ]
  },
  {
   "cell_type": "code",
   "execution_count": 27,
   "id": "7e460d07",
   "metadata": {
    "scrolled": true
   },
   "outputs": [
    {
     "name": "stdout",
     "output_type": "stream",
     "text": [
      "<class 'pandas.core.frame.DataFrame'>\n",
      "RangeIndex: 2 entries, 0 to 1\n",
      "Data columns (total 8 columns):\n",
      " #   Column                 Non-Null Count  Dtype  \n",
      "---  ------                 --------------  -----  \n",
      " 0   messages_included      2 non-null      int64  \n",
      " 1   gb_per_month_included  2 non-null      float64\n",
      " 2   minutes_included       2 non-null      int64  \n",
      " 3   usd_monthly_pay        2 non-null      int64  \n",
      " 4   usd_per_gb             2 non-null      int64  \n",
      " 5   usd_per_message        2 non-null      float64\n",
      " 6   usd_per_minute         2 non-null      float64\n",
      " 7   plan_name              2 non-null      object \n",
      "dtypes: float64(3), int64(4), object(1)\n",
      "memory usage: 260.0+ bytes\n"
     ]
    }
   ],
   "source": [
    "plans['mb_per_month_included'] = plans['mb_per_month_included']/1024\n",
    "plans = plans.rename(columns={'mb_per_month_included':'gb_per_month_included'})\n",
    "plans.info()"
   ]
  },
  {
   "cell_type": "markdown",
   "id": "eff65b5a",
   "metadata": {},
   "source": [
    "### Data File 'users' <a id='file_users'></a>"
   ]
  },
  {
   "cell_type": "markdown",
   "id": "9a4b0bf1",
   "metadata": {},
   "source": [
    "**Step 2.9** Mengkonversi tipe data plan menjadi tipe data category."
   ]
  },
  {
   "cell_type": "code",
   "execution_count": 28,
   "id": "4f25e25e",
   "metadata": {},
   "outputs": [
    {
     "name": "stdout",
     "output_type": "stream",
     "text": [
      "<class 'pandas.core.frame.DataFrame'>\n",
      "RangeIndex: 500 entries, 0 to 499\n",
      "Data columns (total 8 columns):\n",
      " #   Column      Non-Null Count  Dtype   \n",
      "---  ------      --------------  -----   \n",
      " 0   user_id     500 non-null    int64   \n",
      " 1   first_name  500 non-null    object  \n",
      " 2   last_name   500 non-null    object  \n",
      " 3   age         500 non-null    int64   \n",
      " 4   city        500 non-null    object  \n",
      " 5   reg_date    500 non-null    object  \n",
      " 6   plan        500 non-null    category\n",
      " 7   churn_date  34 non-null     object  \n",
      "dtypes: category(1), int64(2), object(5)\n",
      "memory usage: 28.1+ KB\n"
     ]
    }
   ],
   "source": [
    "users['plan'] = users['plan'].astype('category')\n",
    "users.info()"
   ]
  },
  {
   "cell_type": "markdown",
   "id": "65671c31",
   "metadata": {},
   "source": [
    "### Persiapan proses analisis selanjutnya <a id='prep'></a>"
   ]
  },
  {
   "cell_type": "markdown",
   "id": "cde966a6",
   "metadata": {},
   "source": [
    "#### Basis data berdasarkan users <a id='prep_users'></a>"
   ]
  },
  {
   "cell_type": "markdown",
   "id": "bdc62ca9",
   "metadata": {},
   "source": [
    "**Step 2.10** Membuat basis tabel data yang mengacu pada data user untuk selanjutnya ditambahkan data bulanan yang relevan untuk proses analisis selanjutnya.\n",
    "\n",
    "Hal ini mencakup:\n",
    "•\tJumlah panggilan yang dilakukan dan menit yang digunakan per bulan\n",
    "•\tJumlah SMS yang dikirim per bulan\n",
    "•\tVolume data per bulan\n",
    "•\tPendapatan bulanan dari setiap pengguna (kurangi batas paket gratis dari jumlah total panggilan, SMS, dan data; kalikan hasilnya dengan nilai paket telepon; tambahkan biaya bulanan tergantung pada paket teleponnya)\n"
   ]
  },
  {
   "cell_type": "code",
   "execution_count": 29,
   "id": "36142c4d",
   "metadata": {},
   "outputs": [
    {
     "data": {
      "text/html": [
       "<div>\n",
       "<style scoped>\n",
       "    .dataframe tbody tr th:only-of-type {\n",
       "        vertical-align: middle;\n",
       "    }\n",
       "\n",
       "    .dataframe tbody tr th {\n",
       "        vertical-align: top;\n",
       "    }\n",
       "\n",
       "    .dataframe thead th {\n",
       "        text-align: right;\n",
       "    }\n",
       "</style>\n",
       "<table border=\"1\" class=\"dataframe\">\n",
       "  <thead>\n",
       "    <tr style=\"text-align: right;\">\n",
       "      <th></th>\n",
       "      <th>user_id</th>\n",
       "      <th>first_name</th>\n",
       "      <th>last_name</th>\n",
       "      <th>city</th>\n",
       "      <th>plan</th>\n",
       "    </tr>\n",
       "  </thead>\n",
       "  <tbody>\n",
       "    <tr>\n",
       "      <th>0</th>\n",
       "      <td>1000</td>\n",
       "      <td>Anamaria</td>\n",
       "      <td>Bauer</td>\n",
       "      <td>Atlanta-Sandy Springs-Roswell, GA MSA</td>\n",
       "      <td>ultimate</td>\n",
       "    </tr>\n",
       "    <tr>\n",
       "      <th>1</th>\n",
       "      <td>1001</td>\n",
       "      <td>Mickey</td>\n",
       "      <td>Wilkerson</td>\n",
       "      <td>Seattle-Tacoma-Bellevue, WA MSA</td>\n",
       "      <td>surf</td>\n",
       "    </tr>\n",
       "    <tr>\n",
       "      <th>2</th>\n",
       "      <td>1002</td>\n",
       "      <td>Carlee</td>\n",
       "      <td>Hoffman</td>\n",
       "      <td>Las Vegas-Henderson-Paradise, NV MSA</td>\n",
       "      <td>surf</td>\n",
       "    </tr>\n",
       "    <tr>\n",
       "      <th>3</th>\n",
       "      <td>1003</td>\n",
       "      <td>Reynaldo</td>\n",
       "      <td>Jenkins</td>\n",
       "      <td>Tulsa, OK MSA</td>\n",
       "      <td>surf</td>\n",
       "    </tr>\n",
       "    <tr>\n",
       "      <th>4</th>\n",
       "      <td>1004</td>\n",
       "      <td>Leonila</td>\n",
       "      <td>Thompson</td>\n",
       "      <td>Seattle-Tacoma-Bellevue, WA MSA</td>\n",
       "      <td>surf</td>\n",
       "    </tr>\n",
       "    <tr>\n",
       "      <th>...</th>\n",
       "      <td>...</td>\n",
       "      <td>...</td>\n",
       "      <td>...</td>\n",
       "      <td>...</td>\n",
       "      <td>...</td>\n",
       "    </tr>\n",
       "    <tr>\n",
       "      <th>495</th>\n",
       "      <td>1495</td>\n",
       "      <td>Fidel</td>\n",
       "      <td>Sharpe</td>\n",
       "      <td>New York-Newark-Jersey City, NY-NJ-PA MSA</td>\n",
       "      <td>surf</td>\n",
       "    </tr>\n",
       "    <tr>\n",
       "      <th>496</th>\n",
       "      <td>1496</td>\n",
       "      <td>Ariel</td>\n",
       "      <td>Shepherd</td>\n",
       "      <td>New Orleans-Metairie, LA MSA</td>\n",
       "      <td>surf</td>\n",
       "    </tr>\n",
       "    <tr>\n",
       "      <th>497</th>\n",
       "      <td>1497</td>\n",
       "      <td>Donte</td>\n",
       "      <td>Barrera</td>\n",
       "      <td>Los Angeles-Long Beach-Anaheim, CA MSA</td>\n",
       "      <td>ultimate</td>\n",
       "    </tr>\n",
       "    <tr>\n",
       "      <th>498</th>\n",
       "      <td>1498</td>\n",
       "      <td>Scot</td>\n",
       "      <td>Williamson</td>\n",
       "      <td>New York-Newark-Jersey City, NY-NJ-PA MSA</td>\n",
       "      <td>surf</td>\n",
       "    </tr>\n",
       "    <tr>\n",
       "      <th>499</th>\n",
       "      <td>1499</td>\n",
       "      <td>Shena</td>\n",
       "      <td>Dickson</td>\n",
       "      <td>Orlando-Kissimmee-Sanford, FL MSA</td>\n",
       "      <td>surf</td>\n",
       "    </tr>\n",
       "  </tbody>\n",
       "</table>\n",
       "<p>500 rows × 5 columns</p>\n",
       "</div>"
      ],
      "text/plain": [
       "     user_id first_name   last_name  \\\n",
       "0       1000   Anamaria       Bauer   \n",
       "1       1001     Mickey   Wilkerson   \n",
       "2       1002     Carlee     Hoffman   \n",
       "3       1003   Reynaldo     Jenkins   \n",
       "4       1004    Leonila    Thompson   \n",
       "..       ...        ...         ...   \n",
       "495     1495      Fidel      Sharpe   \n",
       "496     1496      Ariel    Shepherd   \n",
       "497     1497      Donte     Barrera   \n",
       "498     1498       Scot  Williamson   \n",
       "499     1499      Shena     Dickson   \n",
       "\n",
       "                                          city      plan  \n",
       "0        Atlanta-Sandy Springs-Roswell, GA MSA  ultimate  \n",
       "1              Seattle-Tacoma-Bellevue, WA MSA      surf  \n",
       "2         Las Vegas-Henderson-Paradise, NV MSA      surf  \n",
       "3                                Tulsa, OK MSA      surf  \n",
       "4              Seattle-Tacoma-Bellevue, WA MSA      surf  \n",
       "..                                         ...       ...  \n",
       "495  New York-Newark-Jersey City, NY-NJ-PA MSA      surf  \n",
       "496               New Orleans-Metairie, LA MSA      surf  \n",
       "497     Los Angeles-Long Beach-Anaheim, CA MSA  ultimate  \n",
       "498  New York-Newark-Jersey City, NY-NJ-PA MSA      surf  \n",
       "499          Orlando-Kissimmee-Sanford, FL MSA      surf  \n",
       "\n",
       "[500 rows x 5 columns]"
      ]
     },
     "execution_count": 29,
     "metadata": {},
     "output_type": "execute_result"
    }
   ],
   "source": [
    "user_stats = users[['user_id', 'first_name', 'last_name', 'city', 'plan']]\n",
    "user_stats"
   ]
  },
  {
   "cell_type": "markdown",
   "id": "9a55e492",
   "metadata": {},
   "source": [
    "#### Pembuatan data: calls made month <a id='prep_callspm'></a>"
   ]
  },
  {
   "cell_type": "markdown",
   "id": "3e097884",
   "metadata": {},
   "source": [
    "**Step 2.11** Membuat data calls made month per pengguna dan mengikhtisarkan data calls made untuk ditambahkan ke tabel user_stats."
   ]
  },
  {
   "cell_type": "code",
   "execution_count": 30,
   "id": "7dcaee9e",
   "metadata": {},
   "outputs": [
    {
     "data": {
      "text/html": [
       "<div>\n",
       "<style scoped>\n",
       "    .dataframe tbody tr th:only-of-type {\n",
       "        vertical-align: middle;\n",
       "    }\n",
       "\n",
       "    .dataframe tbody tr th {\n",
       "        vertical-align: top;\n",
       "    }\n",
       "\n",
       "    .dataframe thead th {\n",
       "        text-align: right;\n",
       "    }\n",
       "</style>\n",
       "<table border=\"1\" class=\"dataframe\">\n",
       "  <thead>\n",
       "    <tr style=\"text-align: right;\">\n",
       "      <th></th>\n",
       "      <th></th>\n",
       "      <th>id</th>\n",
       "      <th>call_date</th>\n",
       "      <th>duration</th>\n",
       "    </tr>\n",
       "    <tr>\n",
       "      <th>user_id</th>\n",
       "      <th>call_month</th>\n",
       "      <th></th>\n",
       "      <th></th>\n",
       "      <th></th>\n",
       "    </tr>\n",
       "  </thead>\n",
       "  <tbody>\n",
       "    <tr>\n",
       "      <th>1000</th>\n",
       "      <th>December</th>\n",
       "      <td>16</td>\n",
       "      <td>16</td>\n",
       "      <td>16</td>\n",
       "    </tr>\n",
       "    <tr>\n",
       "      <th rowspan=\"4\" valign=\"top\">1001</th>\n",
       "      <th>August</th>\n",
       "      <td>27</td>\n",
       "      <td>27</td>\n",
       "      <td>27</td>\n",
       "    </tr>\n",
       "    <tr>\n",
       "      <th>December</th>\n",
       "      <td>56</td>\n",
       "      <td>56</td>\n",
       "      <td>56</td>\n",
       "    </tr>\n",
       "    <tr>\n",
       "      <th>November</th>\n",
       "      <td>64</td>\n",
       "      <td>64</td>\n",
       "      <td>64</td>\n",
       "    </tr>\n",
       "    <tr>\n",
       "      <th>October</th>\n",
       "      <td>65</td>\n",
       "      <td>65</td>\n",
       "      <td>65</td>\n",
       "    </tr>\n",
       "    <tr>\n",
       "      <th>...</th>\n",
       "      <th>...</th>\n",
       "      <td>...</td>\n",
       "      <td>...</td>\n",
       "      <td>...</td>\n",
       "    </tr>\n",
       "    <tr>\n",
       "      <th>1498</th>\n",
       "      <th>September</th>\n",
       "      <td>45</td>\n",
       "      <td>45</td>\n",
       "      <td>45</td>\n",
       "    </tr>\n",
       "    <tr>\n",
       "      <th rowspan=\"4\" valign=\"top\">1499</th>\n",
       "      <th>December</th>\n",
       "      <td>65</td>\n",
       "      <td>65</td>\n",
       "      <td>65</td>\n",
       "    </tr>\n",
       "    <tr>\n",
       "      <th>November</th>\n",
       "      <td>45</td>\n",
       "      <td>45</td>\n",
       "      <td>45</td>\n",
       "    </tr>\n",
       "    <tr>\n",
       "      <th>October</th>\n",
       "      <td>53</td>\n",
       "      <td>53</td>\n",
       "      <td>53</td>\n",
       "    </tr>\n",
       "    <tr>\n",
       "      <th>September</th>\n",
       "      <td>41</td>\n",
       "      <td>41</td>\n",
       "      <td>41</td>\n",
       "    </tr>\n",
       "  </tbody>\n",
       "</table>\n",
       "<p>2258 rows × 3 columns</p>\n",
       "</div>"
      ],
      "text/plain": [
       "                    id  call_date  duration\n",
       "user_id call_month                         \n",
       "1000    December    16         16        16\n",
       "1001    August      27         27        27\n",
       "        December    56         56        56\n",
       "        November    64         64        64\n",
       "        October     65         65        65\n",
       "...                 ..        ...       ...\n",
       "1498    September   45         45        45\n",
       "1499    December    65         65        65\n",
       "        November    45         45        45\n",
       "        October     53         53        53\n",
       "        September   41         41        41\n",
       "\n",
       "[2258 rows x 3 columns]"
      ]
     },
     "execution_count": 30,
     "metadata": {},
     "output_type": "execute_result"
    }
   ],
   "source": [
    "calls_made_month = calls.groupby(['user_id','call_month']).count()\n",
    "calls_made_month"
   ]
  },
  {
   "cell_type": "code",
   "execution_count": 31,
   "id": "2f3a5759",
   "metadata": {},
   "outputs": [
    {
     "data": {
      "text/html": [
       "<div>\n",
       "<style scoped>\n",
       "    .dataframe tbody tr th:only-of-type {\n",
       "        vertical-align: middle;\n",
       "    }\n",
       "\n",
       "    .dataframe tbody tr th {\n",
       "        vertical-align: top;\n",
       "    }\n",
       "\n",
       "    .dataframe thead th {\n",
       "        text-align: right;\n",
       "    }\n",
       "</style>\n",
       "<table border=\"1\" class=\"dataframe\">\n",
       "  <thead>\n",
       "    <tr style=\"text-align: right;\">\n",
       "      <th></th>\n",
       "      <th>calls_made</th>\n",
       "    </tr>\n",
       "    <tr>\n",
       "      <th>user_id</th>\n",
       "      <th></th>\n",
       "    </tr>\n",
       "  </thead>\n",
       "  <tbody>\n",
       "    <tr>\n",
       "      <th>1000</th>\n",
       "      <td>16</td>\n",
       "    </tr>\n",
       "    <tr>\n",
       "      <th>1001</th>\n",
       "      <td>261</td>\n",
       "    </tr>\n",
       "    <tr>\n",
       "      <th>1002</th>\n",
       "      <td>113</td>\n",
       "    </tr>\n",
       "    <tr>\n",
       "      <th>1003</th>\n",
       "      <td>149</td>\n",
       "    </tr>\n",
       "    <tr>\n",
       "      <th>1004</th>\n",
       "      <td>370</td>\n",
       "    </tr>\n",
       "    <tr>\n",
       "      <th>...</th>\n",
       "      <td>...</td>\n",
       "    </tr>\n",
       "    <tr>\n",
       "      <th>1495</th>\n",
       "      <td>253</td>\n",
       "    </tr>\n",
       "    <tr>\n",
       "      <th>1496</th>\n",
       "      <td>195</td>\n",
       "    </tr>\n",
       "    <tr>\n",
       "      <th>1497</th>\n",
       "      <td>54</td>\n",
       "    </tr>\n",
       "    <tr>\n",
       "      <th>1498</th>\n",
       "      <td>451</td>\n",
       "    </tr>\n",
       "    <tr>\n",
       "      <th>1499</th>\n",
       "      <td>204</td>\n",
       "    </tr>\n",
       "  </tbody>\n",
       "</table>\n",
       "<p>481 rows × 1 columns</p>\n",
       "</div>"
      ],
      "text/plain": [
       "         calls_made\n",
       "user_id            \n",
       "1000             16\n",
       "1001            261\n",
       "1002            113\n",
       "1003            149\n",
       "1004            370\n",
       "...             ...\n",
       "1495            253\n",
       "1496            195\n",
       "1497             54\n",
       "1498            451\n",
       "1499            204\n",
       "\n",
       "[481 rows x 1 columns]"
      ]
     },
     "execution_count": 31,
     "metadata": {},
     "output_type": "execute_result"
    }
   ],
   "source": [
    "calls_made = calls.groupby(['user_id']).count()\n",
    "calls_made = calls_made['id'].astype('int')\n",
    "calls_made = calls_made.to_frame(name='calls_made')\n",
    "calls_made"
   ]
  },
  {
   "cell_type": "markdown",
   "id": "829f825c",
   "metadata": {},
   "source": [
    "#### Penambahan data: calls duration month <a id='prep_minutespm'></a>"
   ]
  },
  {
   "cell_type": "markdown",
   "id": "94aa7dad",
   "metadata": {},
   "source": [
    "**Step 2.12** Membuat data calls duration month per pengguna dan mengikhtisarkan data calls duration untuk ditambahkan ke tabel user_stats."
   ]
  },
  {
   "cell_type": "code",
   "execution_count": 32,
   "id": "39166e4b",
   "metadata": {},
   "outputs": [
    {
     "data": {
      "text/html": [
       "<div>\n",
       "<style scoped>\n",
       "    .dataframe tbody tr th:only-of-type {\n",
       "        vertical-align: middle;\n",
       "    }\n",
       "\n",
       "    .dataframe tbody tr th {\n",
       "        vertical-align: top;\n",
       "    }\n",
       "\n",
       "    .dataframe thead th {\n",
       "        text-align: right;\n",
       "    }\n",
       "</style>\n",
       "<table border=\"1\" class=\"dataframe\">\n",
       "  <thead>\n",
       "    <tr style=\"text-align: right;\">\n",
       "      <th></th>\n",
       "      <th></th>\n",
       "      <th>duration</th>\n",
       "    </tr>\n",
       "    <tr>\n",
       "      <th>user_id</th>\n",
       "      <th>call_month</th>\n",
       "      <th></th>\n",
       "    </tr>\n",
       "  </thead>\n",
       "  <tbody>\n",
       "    <tr>\n",
       "      <th>1000</th>\n",
       "      <th>December</th>\n",
       "      <td>124</td>\n",
       "    </tr>\n",
       "    <tr>\n",
       "      <th rowspan=\"4\" valign=\"top\">1001</th>\n",
       "      <th>August</th>\n",
       "      <td>182</td>\n",
       "    </tr>\n",
       "    <tr>\n",
       "      <th>December</th>\n",
       "      <td>412</td>\n",
       "    </tr>\n",
       "    <tr>\n",
       "      <th>November</th>\n",
       "      <td>426</td>\n",
       "    </tr>\n",
       "    <tr>\n",
       "      <th>October</th>\n",
       "      <td>393</td>\n",
       "    </tr>\n",
       "    <tr>\n",
       "      <th>...</th>\n",
       "      <th>...</th>\n",
       "      <td>...</td>\n",
       "    </tr>\n",
       "    <tr>\n",
       "      <th>1498</th>\n",
       "      <th>September</th>\n",
       "      <td>363</td>\n",
       "    </tr>\n",
       "    <tr>\n",
       "      <th rowspan=\"4\" valign=\"top\">1499</th>\n",
       "      <th>December</th>\n",
       "      <td>496</td>\n",
       "    </tr>\n",
       "    <tr>\n",
       "      <th>November</th>\n",
       "      <td>308</td>\n",
       "    </tr>\n",
       "    <tr>\n",
       "      <th>October</th>\n",
       "      <td>385</td>\n",
       "    </tr>\n",
       "    <tr>\n",
       "      <th>September</th>\n",
       "      <td>346</td>\n",
       "    </tr>\n",
       "  </tbody>\n",
       "</table>\n",
       "<p>2258 rows × 1 columns</p>\n",
       "</div>"
      ],
      "text/plain": [
       "                    duration\n",
       "user_id call_month          \n",
       "1000    December         124\n",
       "1001    August           182\n",
       "        December         412\n",
       "        November         426\n",
       "        October          393\n",
       "...                      ...\n",
       "1498    September        363\n",
       "1499    December         496\n",
       "        November         308\n",
       "        October          385\n",
       "        September        346\n",
       "\n",
       "[2258 rows x 1 columns]"
      ]
     },
     "execution_count": 32,
     "metadata": {},
     "output_type": "execute_result"
    }
   ],
   "source": [
    "calls_duration_month = calls.groupby(['user_id','call_month']).sum(['duration'])\n",
    "calls_duration_month"
   ]
  },
  {
   "cell_type": "code",
   "execution_count": 33,
   "id": "b0b0f158",
   "metadata": {},
   "outputs": [
    {
     "data": {
      "text/html": [
       "<div>\n",
       "<style scoped>\n",
       "    .dataframe tbody tr th:only-of-type {\n",
       "        vertical-align: middle;\n",
       "    }\n",
       "\n",
       "    .dataframe tbody tr th {\n",
       "        vertical-align: top;\n",
       "    }\n",
       "\n",
       "    .dataframe thead th {\n",
       "        text-align: right;\n",
       "    }\n",
       "</style>\n",
       "<table border=\"1\" class=\"dataframe\">\n",
       "  <thead>\n",
       "    <tr style=\"text-align: right;\">\n",
       "      <th></th>\n",
       "      <th>duration</th>\n",
       "    </tr>\n",
       "    <tr>\n",
       "      <th>user_id</th>\n",
       "      <th></th>\n",
       "    </tr>\n",
       "  </thead>\n",
       "  <tbody>\n",
       "    <tr>\n",
       "      <th>1000</th>\n",
       "      <td>124</td>\n",
       "    </tr>\n",
       "    <tr>\n",
       "      <th>1001</th>\n",
       "      <td>1728</td>\n",
       "    </tr>\n",
       "    <tr>\n",
       "      <th>1002</th>\n",
       "      <td>829</td>\n",
       "    </tr>\n",
       "    <tr>\n",
       "      <th>1003</th>\n",
       "      <td>1104</td>\n",
       "    </tr>\n",
       "    <tr>\n",
       "      <th>1004</th>\n",
       "      <td>2772</td>\n",
       "    </tr>\n",
       "    <tr>\n",
       "      <th>...</th>\n",
       "      <td>...</td>\n",
       "    </tr>\n",
       "    <tr>\n",
       "      <th>1495</th>\n",
       "      <td>1765</td>\n",
       "    </tr>\n",
       "    <tr>\n",
       "      <th>1496</th>\n",
       "      <td>1455</td>\n",
       "    </tr>\n",
       "    <tr>\n",
       "      <th>1497</th>\n",
       "      <td>300</td>\n",
       "    </tr>\n",
       "    <tr>\n",
       "      <th>1498</th>\n",
       "      <td>3211</td>\n",
       "    </tr>\n",
       "    <tr>\n",
       "      <th>1499</th>\n",
       "      <td>1535</td>\n",
       "    </tr>\n",
       "  </tbody>\n",
       "</table>\n",
       "<p>481 rows × 1 columns</p>\n",
       "</div>"
      ],
      "text/plain": [
       "         duration\n",
       "user_id          \n",
       "1000          124\n",
       "1001         1728\n",
       "1002          829\n",
       "1003         1104\n",
       "1004         2772\n",
       "...           ...\n",
       "1495         1765\n",
       "1496         1455\n",
       "1497          300\n",
       "1498         3211\n",
       "1499         1535\n",
       "\n",
       "[481 rows x 1 columns]"
      ]
     },
     "execution_count": 33,
     "metadata": {},
     "output_type": "execute_result"
    }
   ],
   "source": [
    "calls_duration = calls_duration_month.groupby(['user_id']).sum()\n",
    "calls_duration"
   ]
  },
  {
   "cell_type": "markdown",
   "id": "a1eaf294",
   "metadata": {},
   "source": [
    "#### Penambahan data: internet session month <a id='prep_gbdatapm'></a>"
   ]
  },
  {
   "cell_type": "markdown",
   "id": "e98a4b86",
   "metadata": {},
   "source": [
    "**Step 2.13** Membuat data internet session month per pengguna dan mengikhtisarkan data internet session untuk ditambahkan ke tabel user_stats. Sebagai catatan tambahan, dalam proses ini sekaligus mengkonversi data internet session month ke dalam satuan gigabyte. Untuk hal ini diperlukan angka pembagi 1024 sesuai kaidah perhitungan byte."
   ]
  },
  {
   "cell_type": "code",
   "execution_count": 34,
   "id": "381a1fd2",
   "metadata": {
    "scrolled": true
   },
   "outputs": [
    {
     "data": {
      "text/html": [
       "<div>\n",
       "<style scoped>\n",
       "    .dataframe tbody tr th:only-of-type {\n",
       "        vertical-align: middle;\n",
       "    }\n",
       "\n",
       "    .dataframe tbody tr th {\n",
       "        vertical-align: top;\n",
       "    }\n",
       "\n",
       "    .dataframe thead th {\n",
       "        text-align: right;\n",
       "    }\n",
       "</style>\n",
       "<table border=\"1\" class=\"dataframe\">\n",
       "  <thead>\n",
       "    <tr style=\"text-align: right;\">\n",
       "      <th></th>\n",
       "      <th></th>\n",
       "      <th>gb_used</th>\n",
       "    </tr>\n",
       "    <tr>\n",
       "      <th>user_id</th>\n",
       "      <th>session_month</th>\n",
       "      <th></th>\n",
       "    </tr>\n",
       "  </thead>\n",
       "  <tbody>\n",
       "    <tr>\n",
       "      <th>1000</th>\n",
       "      <th>December</th>\n",
       "      <td>2</td>\n",
       "    </tr>\n",
       "    <tr>\n",
       "      <th rowspan=\"4\" valign=\"top\">1001</th>\n",
       "      <th>August</th>\n",
       "      <td>7</td>\n",
       "    </tr>\n",
       "    <tr>\n",
       "      <th>December</th>\n",
       "      <td>19</td>\n",
       "    </tr>\n",
       "    <tr>\n",
       "      <th>November</th>\n",
       "      <td>19</td>\n",
       "    </tr>\n",
       "    <tr>\n",
       "      <th>October</th>\n",
       "      <td>22</td>\n",
       "    </tr>\n",
       "    <tr>\n",
       "      <th>...</th>\n",
       "      <th>...</th>\n",
       "      <td>...</td>\n",
       "    </tr>\n",
       "    <tr>\n",
       "      <th>1498</th>\n",
       "      <th>September</th>\n",
       "      <td>23</td>\n",
       "    </tr>\n",
       "    <tr>\n",
       "      <th rowspan=\"4\" valign=\"top\">1499</th>\n",
       "      <th>December</th>\n",
       "      <td>22</td>\n",
       "    </tr>\n",
       "    <tr>\n",
       "      <th>November</th>\n",
       "      <td>17</td>\n",
       "    </tr>\n",
       "    <tr>\n",
       "      <th>October</th>\n",
       "      <td>20</td>\n",
       "    </tr>\n",
       "    <tr>\n",
       "      <th>September</th>\n",
       "      <td>13</td>\n",
       "    </tr>\n",
       "  </tbody>\n",
       "</table>\n",
       "<p>2277 rows × 1 columns</p>\n",
       "</div>"
      ],
      "text/plain": [
       "                       gb_used\n",
       "user_id session_month         \n",
       "1000    December             2\n",
       "1001    August               7\n",
       "        December            19\n",
       "        November            19\n",
       "        October             22\n",
       "...                        ...\n",
       "1498    September           23\n",
       "1499    December            22\n",
       "        November            17\n",
       "        October             20\n",
       "        September           13\n",
       "\n",
       "[2277 rows x 1 columns]"
      ]
     },
     "execution_count": 34,
     "metadata": {},
     "output_type": "execute_result"
    }
   ],
   "source": [
    "internet_session_month = internet.groupby(['user_id','session_month']).sum(['mb_used'])\n",
    "internet_session_month['mb_used'] = internet_session_month['mb_used']/1024\n",
    "internet_session_month['mb_used'] = internet_session_month['mb_used'].apply(np.ceil).astype('int')\n",
    "internet_session_month = internet_session_month.rename(columns={'mb_used': 'gb_used'})\n",
    "internet_session_month"
   ]
  },
  {
   "cell_type": "code",
   "execution_count": 35,
   "id": "5618fdc0",
   "metadata": {
    "scrolled": true
   },
   "outputs": [
    {
     "data": {
      "text/html": [
       "<div>\n",
       "<style scoped>\n",
       "    .dataframe tbody tr th:only-of-type {\n",
       "        vertical-align: middle;\n",
       "    }\n",
       "\n",
       "    .dataframe tbody tr th {\n",
       "        vertical-align: top;\n",
       "    }\n",
       "\n",
       "    .dataframe thead th {\n",
       "        text-align: right;\n",
       "    }\n",
       "</style>\n",
       "<table border=\"1\" class=\"dataframe\">\n",
       "  <thead>\n",
       "    <tr style=\"text-align: right;\">\n",
       "      <th></th>\n",
       "      <th>gb_used</th>\n",
       "    </tr>\n",
       "    <tr>\n",
       "      <th>user_id</th>\n",
       "      <th></th>\n",
       "    </tr>\n",
       "  </thead>\n",
       "  <tbody>\n",
       "    <tr>\n",
       "      <th>1000</th>\n",
       "      <td>2</td>\n",
       "    </tr>\n",
       "    <tr>\n",
       "      <th>1001</th>\n",
       "      <td>81</td>\n",
       "    </tr>\n",
       "    <tr>\n",
       "      <th>1002</th>\n",
       "      <td>41</td>\n",
       "    </tr>\n",
       "    <tr>\n",
       "      <th>1003</th>\n",
       "      <td>27</td>\n",
       "    </tr>\n",
       "    <tr>\n",
       "      <th>1004</th>\n",
       "      <td>157</td>\n",
       "    </tr>\n",
       "    <tr>\n",
       "      <th>...</th>\n",
       "      <td>...</td>\n",
       "    </tr>\n",
       "    <tr>\n",
       "      <th>1495</th>\n",
       "      <td>99</td>\n",
       "    </tr>\n",
       "    <tr>\n",
       "      <th>1496</th>\n",
       "      <td>66</td>\n",
       "    </tr>\n",
       "    <tr>\n",
       "      <th>1497</th>\n",
       "      <td>11</td>\n",
       "    </tr>\n",
       "    <tr>\n",
       "      <th>1498</th>\n",
       "      <td>228</td>\n",
       "    </tr>\n",
       "    <tr>\n",
       "      <th>1499</th>\n",
       "      <td>72</td>\n",
       "    </tr>\n",
       "  </tbody>\n",
       "</table>\n",
       "<p>489 rows × 1 columns</p>\n",
       "</div>"
      ],
      "text/plain": [
       "         gb_used\n",
       "user_id         \n",
       "1000           2\n",
       "1001          81\n",
       "1002          41\n",
       "1003          27\n",
       "1004         157\n",
       "...          ...\n",
       "1495          99\n",
       "1496          66\n",
       "1497          11\n",
       "1498         228\n",
       "1499          72\n",
       "\n",
       "[489 rows x 1 columns]"
      ]
     },
     "execution_count": 35,
     "metadata": {},
     "output_type": "execute_result"
    }
   ],
   "source": [
    "internet_session = internet_session_month.groupby(['user_id']).sum()\n",
    "internet_session"
   ]
  },
  {
   "cell_type": "markdown",
   "id": "2f46c91a",
   "metadata": {},
   "source": [
    "#### Penambahan data: messages made month <a id='prep_messagespm'></a>"
   ]
  },
  {
   "cell_type": "markdown",
   "id": "5a06ac1c",
   "metadata": {},
   "source": [
    "**Step 2.14** Membuat data messages made month per pengguna dan mengikhtisarkan data message made untuk ditambahkan ke tabel user_stats."
   ]
  },
  {
   "cell_type": "code",
   "execution_count": 36,
   "id": "5bfae3f0",
   "metadata": {
    "scrolled": true
   },
   "outputs": [
    {
     "data": {
      "text/html": [
       "<div>\n",
       "<style scoped>\n",
       "    .dataframe tbody tr th:only-of-type {\n",
       "        vertical-align: middle;\n",
       "    }\n",
       "\n",
       "    .dataframe tbody tr th {\n",
       "        vertical-align: top;\n",
       "    }\n",
       "\n",
       "    .dataframe thead th {\n",
       "        text-align: right;\n",
       "    }\n",
       "</style>\n",
       "<table border=\"1\" class=\"dataframe\">\n",
       "  <thead>\n",
       "    <tr style=\"text-align: right;\">\n",
       "      <th></th>\n",
       "      <th></th>\n",
       "      <th>id</th>\n",
       "      <th>message_date</th>\n",
       "    </tr>\n",
       "    <tr>\n",
       "      <th>user_id</th>\n",
       "      <th>message_month</th>\n",
       "      <th></th>\n",
       "      <th></th>\n",
       "    </tr>\n",
       "  </thead>\n",
       "  <tbody>\n",
       "    <tr>\n",
       "      <th>1000</th>\n",
       "      <th>December</th>\n",
       "      <td>11</td>\n",
       "      <td>11</td>\n",
       "    </tr>\n",
       "    <tr>\n",
       "      <th rowspan=\"4\" valign=\"top\">1001</th>\n",
       "      <th>August</th>\n",
       "      <td>30</td>\n",
       "      <td>30</td>\n",
       "    </tr>\n",
       "    <tr>\n",
       "      <th>December</th>\n",
       "      <td>44</td>\n",
       "      <td>44</td>\n",
       "    </tr>\n",
       "    <tr>\n",
       "      <th>November</th>\n",
       "      <td>36</td>\n",
       "      <td>36</td>\n",
       "    </tr>\n",
       "    <tr>\n",
       "      <th>October</th>\n",
       "      <td>53</td>\n",
       "      <td>53</td>\n",
       "    </tr>\n",
       "    <tr>\n",
       "      <th>...</th>\n",
       "      <th>...</th>\n",
       "      <td>...</td>\n",
       "      <td>...</td>\n",
       "    </tr>\n",
       "    <tr>\n",
       "      <th rowspan=\"4\" valign=\"top\">1496</th>\n",
       "      <th>December</th>\n",
       "      <td>11</td>\n",
       "      <td>11</td>\n",
       "    </tr>\n",
       "    <tr>\n",
       "      <th>November</th>\n",
       "      <td>13</td>\n",
       "      <td>13</td>\n",
       "    </tr>\n",
       "    <tr>\n",
       "      <th>October</th>\n",
       "      <td>18</td>\n",
       "      <td>18</td>\n",
       "    </tr>\n",
       "    <tr>\n",
       "      <th>September</th>\n",
       "      <td>21</td>\n",
       "      <td>21</td>\n",
       "    </tr>\n",
       "    <tr>\n",
       "      <th>1497</th>\n",
       "      <th>December</th>\n",
       "      <td>50</td>\n",
       "      <td>50</td>\n",
       "    </tr>\n",
       "  </tbody>\n",
       "</table>\n",
       "<p>1806 rows × 2 columns</p>\n",
       "</div>"
      ],
      "text/plain": [
       "                       id  message_date\n",
       "user_id message_month                  \n",
       "1000    December       11            11\n",
       "1001    August         30            30\n",
       "        December       44            44\n",
       "        November       36            36\n",
       "        October        53            53\n",
       "...                    ..           ...\n",
       "1496    December       11            11\n",
       "        November       13            13\n",
       "        October        18            18\n",
       "        September      21            21\n",
       "1497    December       50            50\n",
       "\n",
       "[1806 rows x 2 columns]"
      ]
     },
     "execution_count": 36,
     "metadata": {},
     "output_type": "execute_result"
    }
   ],
   "source": [
    "messages_made_month = messages.groupby(['user_id','message_month']).count()\n",
    "messages_made_month"
   ]
  },
  {
   "cell_type": "code",
   "execution_count": 37,
   "id": "eff9d11f",
   "metadata": {
    "scrolled": true
   },
   "outputs": [
    {
     "data": {
      "text/html": [
       "<div>\n",
       "<style scoped>\n",
       "    .dataframe tbody tr th:only-of-type {\n",
       "        vertical-align: middle;\n",
       "    }\n",
       "\n",
       "    .dataframe tbody tr th {\n",
       "        vertical-align: top;\n",
       "    }\n",
       "\n",
       "    .dataframe thead th {\n",
       "        text-align: right;\n",
       "    }\n",
       "</style>\n",
       "<table border=\"1\" class=\"dataframe\">\n",
       "  <thead>\n",
       "    <tr style=\"text-align: right;\">\n",
       "      <th></th>\n",
       "      <th>messages_made</th>\n",
       "    </tr>\n",
       "    <tr>\n",
       "      <th>user_id</th>\n",
       "      <th></th>\n",
       "    </tr>\n",
       "  </thead>\n",
       "  <tbody>\n",
       "    <tr>\n",
       "      <th>1000</th>\n",
       "      <td>11</td>\n",
       "    </tr>\n",
       "    <tr>\n",
       "      <th>1001</th>\n",
       "      <td>207</td>\n",
       "    </tr>\n",
       "    <tr>\n",
       "      <th>1002</th>\n",
       "      <td>88</td>\n",
       "    </tr>\n",
       "    <tr>\n",
       "      <th>1003</th>\n",
       "      <td>50</td>\n",
       "    </tr>\n",
       "    <tr>\n",
       "      <th>1004</th>\n",
       "      <td>177</td>\n",
       "    </tr>\n",
       "    <tr>\n",
       "      <th>...</th>\n",
       "      <td>...</td>\n",
       "    </tr>\n",
       "    <tr>\n",
       "      <th>1491</th>\n",
       "      <td>409</td>\n",
       "    </tr>\n",
       "    <tr>\n",
       "      <th>1492</th>\n",
       "      <td>108</td>\n",
       "    </tr>\n",
       "    <tr>\n",
       "      <th>1494</th>\n",
       "      <td>174</td>\n",
       "    </tr>\n",
       "    <tr>\n",
       "      <th>1496</th>\n",
       "      <td>65</td>\n",
       "    </tr>\n",
       "    <tr>\n",
       "      <th>1497</th>\n",
       "      <td>50</td>\n",
       "    </tr>\n",
       "  </tbody>\n",
       "</table>\n",
       "<p>402 rows × 1 columns</p>\n",
       "</div>"
      ],
      "text/plain": [
       "         messages_made\n",
       "user_id               \n",
       "1000                11\n",
       "1001               207\n",
       "1002                88\n",
       "1003                50\n",
       "1004               177\n",
       "...                ...\n",
       "1491               409\n",
       "1492               108\n",
       "1494               174\n",
       "1496                65\n",
       "1497                50\n",
       "\n",
       "[402 rows x 1 columns]"
      ]
     },
     "execution_count": 37,
     "metadata": {},
     "output_type": "execute_result"
    }
   ],
   "source": [
    "messages_made = messages.groupby(['user_id']).count()\n",
    "messages_made = messages_made['id'].astype('int')\n",
    "messages_made = messages_made.to_frame(name='messages_made')\n",
    "messages_made"
   ]
  },
  {
   "cell_type": "code",
   "execution_count": 38,
   "id": "d4be8500",
   "metadata": {
    "scrolled": true
   },
   "outputs": [
    {
     "data": {
      "text/html": [
       "<div>\n",
       "<style scoped>\n",
       "    .dataframe tbody tr th:only-of-type {\n",
       "        vertical-align: middle;\n",
       "    }\n",
       "\n",
       "    .dataframe tbody tr th {\n",
       "        vertical-align: top;\n",
       "    }\n",
       "\n",
       "    .dataframe thead th {\n",
       "        text-align: right;\n",
       "    }\n",
       "</style>\n",
       "<table border=\"1\" class=\"dataframe\">\n",
       "  <thead>\n",
       "    <tr style=\"text-align: right;\">\n",
       "      <th></th>\n",
       "      <th></th>\n",
       "      <th>calls_made</th>\n",
       "    </tr>\n",
       "    <tr>\n",
       "      <th>user_id</th>\n",
       "      <th>call_month</th>\n",
       "      <th></th>\n",
       "    </tr>\n",
       "  </thead>\n",
       "  <tbody>\n",
       "    <tr>\n",
       "      <th>1000</th>\n",
       "      <th>December</th>\n",
       "      <td>16</td>\n",
       "    </tr>\n",
       "    <tr>\n",
       "      <th>1001</th>\n",
       "      <th>December</th>\n",
       "      <td>56</td>\n",
       "    </tr>\n",
       "    <tr>\n",
       "      <th>1002</th>\n",
       "      <th>December</th>\n",
       "      <td>47</td>\n",
       "    </tr>\n",
       "    <tr>\n",
       "      <th>1003</th>\n",
       "      <th>December</th>\n",
       "      <td>149</td>\n",
       "    </tr>\n",
       "    <tr>\n",
       "      <th>1004</th>\n",
       "      <th>December</th>\n",
       "      <td>50</td>\n",
       "    </tr>\n",
       "    <tr>\n",
       "      <th>...</th>\n",
       "      <th>...</th>\n",
       "      <td>...</td>\n",
       "    </tr>\n",
       "    <tr>\n",
       "      <th>1495</th>\n",
       "      <th>December</th>\n",
       "      <td>65</td>\n",
       "    </tr>\n",
       "    <tr>\n",
       "      <th>1496</th>\n",
       "      <th>December</th>\n",
       "      <td>40</td>\n",
       "    </tr>\n",
       "    <tr>\n",
       "      <th>1497</th>\n",
       "      <th>December</th>\n",
       "      <td>54</td>\n",
       "    </tr>\n",
       "    <tr>\n",
       "      <th>1498</th>\n",
       "      <th>December</th>\n",
       "      <td>39</td>\n",
       "    </tr>\n",
       "    <tr>\n",
       "      <th>1499</th>\n",
       "      <th>December</th>\n",
       "      <td>65</td>\n",
       "    </tr>\n",
       "  </tbody>\n",
       "</table>\n",
       "<p>460 rows × 1 columns</p>\n",
       "</div>"
      ],
      "text/plain": [
       "                    calls_made\n",
       "user_id call_month            \n",
       "1000    December            16\n",
       "1001    December            56\n",
       "1002    December            47\n",
       "1003    December           149\n",
       "1004    December            50\n",
       "...                        ...\n",
       "1495    December            65\n",
       "1496    December            40\n",
       "1497    December            54\n",
       "1498    December            39\n",
       "1499    December            65\n",
       "\n",
       "[460 rows x 1 columns]"
      ]
     },
     "execution_count": 38,
     "metadata": {},
     "output_type": "execute_result"
    }
   ],
   "source": [
    "calls_made_January = calls_made_month.query('call_month == \"January\"')\n",
    "calls_made_Jan = calls_made_January['id'].astype('int').to_frame(name='calls_made')\n",
    "calls_made_February = calls_made_month.query('call_month == \"February\"')\n",
    "calls_made_Feb = calls_made_February['id'].astype('int').to_frame(name='calls_made')\n",
    "calls_made_March = calls_made_month.query('call_month == \"March\"')\n",
    "calls_made_Mar = calls_made_March['id'].astype('int').to_frame(name='calls_made')\n",
    "calls_made_April = calls_made_month.query('call_month == \"April\"')\n",
    "calls_made_Apr = calls_made_April['id'].astype('int').to_frame(name='calls_made')\n",
    "calls_made_May = calls_made_month.query('call_month == \"May\"')\n",
    "calls_made_May = calls_made_May['id'].astype('int').to_frame(name='calls_made')\n",
    "calls_made_June = calls_made_month.query('call_month == \"June\"')\n",
    "calls_made_Jun = calls_made_June['id'].astype('int').to_frame(name='calls_made')\n",
    "calls_made_July = calls_made_month.query('call_month == \"July\"')\n",
    "calls_made_Jul = calls_made_July['id'].astype('int').to_frame(name='calls_made')\n",
    "calls_made_August = calls_made_month.query('call_month == \"August\"')\n",
    "calls_made_Aug = calls_made_August['id'].astype('int').to_frame(name='calls_made')\n",
    "calls_made_September = calls_made_month.query('call_month == \"September\"')\n",
    "calls_made_Sep = calls_made_September['id'].astype('int').to_frame(name='calls_made')\n",
    "calls_made_October = calls_made_month.query('call_month == \"October\"')\n",
    "calls_made_Oct = calls_made_October['id'].astype('int').to_frame(name='calls_made')\n",
    "calls_made_November = calls_made_month.query('call_month == \"November\"')\n",
    "calls_made_Nov = calls_made_November['id'].astype('int').to_frame(name='calls_made')\n",
    "calls_made_December = calls_made_month.query('call_month == \"December\"')\n",
    "calls_made_Dec = calls_made_December['id'].astype('int').to_frame(name='calls_made')\n",
    "\n",
    "#calls_made_Jan\n",
    "#calls_made_Feb\n",
    "#calls_made_Mar\n",
    "#calls_made_Apr\n",
    "#calls_made_May\n",
    "#calls_made_Jun\n",
    "#calls_made_Jul\n",
    "#calls_made_Aug\n",
    "#calls_made_Sep\n",
    "#calls_made_Oct\n",
    "#calls_made_Nov\n",
    "calls_made_Dec"
   ]
  },
  {
   "cell_type": "code",
   "execution_count": 39,
   "id": "23cee86c",
   "metadata": {
    "scrolled": true
   },
   "outputs": [
    {
     "data": {
      "text/html": [
       "<div>\n",
       "<style scoped>\n",
       "    .dataframe tbody tr th:only-of-type {\n",
       "        vertical-align: middle;\n",
       "    }\n",
       "\n",
       "    .dataframe tbody tr th {\n",
       "        vertical-align: top;\n",
       "    }\n",
       "\n",
       "    .dataframe thead th {\n",
       "        text-align: right;\n",
       "    }\n",
       "</style>\n",
       "<table border=\"1\" class=\"dataframe\">\n",
       "  <thead>\n",
       "    <tr style=\"text-align: right;\">\n",
       "      <th></th>\n",
       "      <th></th>\n",
       "      <th>duration</th>\n",
       "    </tr>\n",
       "    <tr>\n",
       "      <th>user_id</th>\n",
       "      <th>call_month</th>\n",
       "      <th></th>\n",
       "    </tr>\n",
       "  </thead>\n",
       "  <tbody>\n",
       "    <tr>\n",
       "      <th>1000</th>\n",
       "      <th>December</th>\n",
       "      <td>124</td>\n",
       "    </tr>\n",
       "    <tr>\n",
       "      <th>1001</th>\n",
       "      <th>December</th>\n",
       "      <td>412</td>\n",
       "    </tr>\n",
       "    <tr>\n",
       "      <th>1002</th>\n",
       "      <th>December</th>\n",
       "      <td>384</td>\n",
       "    </tr>\n",
       "    <tr>\n",
       "      <th>1003</th>\n",
       "      <th>December</th>\n",
       "      <td>1104</td>\n",
       "    </tr>\n",
       "    <tr>\n",
       "      <th>1004</th>\n",
       "      <th>December</th>\n",
       "      <td>427</td>\n",
       "    </tr>\n",
       "    <tr>\n",
       "      <th>...</th>\n",
       "      <th>...</th>\n",
       "      <td>...</td>\n",
       "    </tr>\n",
       "    <tr>\n",
       "      <th>1495</th>\n",
       "      <th>December</th>\n",
       "      <td>492</td>\n",
       "    </tr>\n",
       "    <tr>\n",
       "      <th>1496</th>\n",
       "      <th>December</th>\n",
       "      <td>294</td>\n",
       "    </tr>\n",
       "    <tr>\n",
       "      <th>1497</th>\n",
       "      <th>December</th>\n",
       "      <td>300</td>\n",
       "    </tr>\n",
       "    <tr>\n",
       "      <th>1498</th>\n",
       "      <th>December</th>\n",
       "      <td>339</td>\n",
       "    </tr>\n",
       "    <tr>\n",
       "      <th>1499</th>\n",
       "      <th>December</th>\n",
       "      <td>496</td>\n",
       "    </tr>\n",
       "  </tbody>\n",
       "</table>\n",
       "<p>460 rows × 1 columns</p>\n",
       "</div>"
      ],
      "text/plain": [
       "                    duration\n",
       "user_id call_month          \n",
       "1000    December         124\n",
       "1001    December         412\n",
       "1002    December         384\n",
       "1003    December        1104\n",
       "1004    December         427\n",
       "...                      ...\n",
       "1495    December         492\n",
       "1496    December         294\n",
       "1497    December         300\n",
       "1498    December         339\n",
       "1499    December         496\n",
       "\n",
       "[460 rows x 1 columns]"
      ]
     },
     "execution_count": 39,
     "metadata": {},
     "output_type": "execute_result"
    }
   ],
   "source": [
    "calls_duration_Jan = calls_duration_month.query('call_month == \"January\"')\n",
    "calls_duration_Feb = calls_duration_month.query('call_month == \"February\"')\n",
    "calls_duration_Mar = calls_duration_month.query('call_month == \"March\"')\n",
    "calls_duration_Apr = calls_duration_month.query('call_month == \"April\"')\n",
    "calls_duration_May = calls_duration_month.query('call_month == \"May\"')\n",
    "calls_duration_Jun = calls_duration_month.query('call_month == \"June\"')\n",
    "calls_duration_Jul = calls_duration_month.query('call_month == \"July\"')\n",
    "calls_duration_Aug = calls_duration_month.query('call_month == \"August\"')\n",
    "calls_duration_Sep = calls_duration_month.query('call_month == \"September\"')\n",
    "calls_duration_Oct = calls_duration_month.query('call_month == \"October\"')\n",
    "calls_duration_Nov = calls_duration_month.query('call_month == \"November\"')\n",
    "calls_duration_Dec = calls_duration_month.query('call_month == \"December\"')\n",
    "\n",
    "#calls_duration_Jan\n",
    "#calls_duration_Feb\n",
    "#calls_duration_Mar\n",
    "#calls_duration_Apr\n",
    "#calls_duration_May\n",
    "#calls_duration_Jun\n",
    "#calls_duration_Jul\n",
    "#calls_duration_Aug\n",
    "#calls_duration_Sep\n",
    "#calls_duration_Oct\n",
    "#calls_duration_Nov\n",
    "calls_duration_Dec"
   ]
  },
  {
   "cell_type": "code",
   "execution_count": 40,
   "id": "7ec7f725",
   "metadata": {
    "scrolled": true
   },
   "outputs": [
    {
     "data": {
      "text/html": [
       "<div>\n",
       "<style scoped>\n",
       "    .dataframe tbody tr th:only-of-type {\n",
       "        vertical-align: middle;\n",
       "    }\n",
       "\n",
       "    .dataframe tbody tr th {\n",
       "        vertical-align: top;\n",
       "    }\n",
       "\n",
       "    .dataframe thead th {\n",
       "        text-align: right;\n",
       "    }\n",
       "</style>\n",
       "<table border=\"1\" class=\"dataframe\">\n",
       "  <thead>\n",
       "    <tr style=\"text-align: right;\">\n",
       "      <th></th>\n",
       "      <th></th>\n",
       "      <th>gb_used</th>\n",
       "    </tr>\n",
       "    <tr>\n",
       "      <th>user_id</th>\n",
       "      <th>session_month</th>\n",
       "      <th></th>\n",
       "    </tr>\n",
       "  </thead>\n",
       "  <tbody>\n",
       "    <tr>\n",
       "      <th>1000</th>\n",
       "      <th>December</th>\n",
       "      <td>2</td>\n",
       "    </tr>\n",
       "    <tr>\n",
       "      <th>1001</th>\n",
       "      <th>December</th>\n",
       "      <td>19</td>\n",
       "    </tr>\n",
       "    <tr>\n",
       "      <th>1002</th>\n",
       "      <th>December</th>\n",
       "      <td>15</td>\n",
       "    </tr>\n",
       "    <tr>\n",
       "      <th>1003</th>\n",
       "      <th>December</th>\n",
       "      <td>27</td>\n",
       "    </tr>\n",
       "    <tr>\n",
       "      <th>1004</th>\n",
       "      <th>December</th>\n",
       "      <td>21</td>\n",
       "    </tr>\n",
       "    <tr>\n",
       "      <th>...</th>\n",
       "      <th>...</th>\n",
       "      <td>...</td>\n",
       "    </tr>\n",
       "    <tr>\n",
       "      <th>1495</th>\n",
       "      <th>December</th>\n",
       "      <td>24</td>\n",
       "    </tr>\n",
       "    <tr>\n",
       "      <th>1496</th>\n",
       "      <th>December</th>\n",
       "      <td>17</td>\n",
       "    </tr>\n",
       "    <tr>\n",
       "      <th>1497</th>\n",
       "      <th>December</th>\n",
       "      <td>11</td>\n",
       "    </tr>\n",
       "    <tr>\n",
       "      <th>1498</th>\n",
       "      <th>December</th>\n",
       "      <td>23</td>\n",
       "    </tr>\n",
       "    <tr>\n",
       "      <th>1499</th>\n",
       "      <th>December</th>\n",
       "      <td>22</td>\n",
       "    </tr>\n",
       "  </tbody>\n",
       "</table>\n",
       "<p>468 rows × 1 columns</p>\n",
       "</div>"
      ],
      "text/plain": [
       "                       gb_used\n",
       "user_id session_month         \n",
       "1000    December             2\n",
       "1001    December            19\n",
       "1002    December            15\n",
       "1003    December            27\n",
       "1004    December            21\n",
       "...                        ...\n",
       "1495    December            24\n",
       "1496    December            17\n",
       "1497    December            11\n",
       "1498    December            23\n",
       "1499    December            22\n",
       "\n",
       "[468 rows x 1 columns]"
      ]
     },
     "execution_count": 40,
     "metadata": {},
     "output_type": "execute_result"
    }
   ],
   "source": [
    "internet_session_Jan = internet_session_month.query('session_month == \"January\"')\n",
    "internet_session_Feb = internet_session_month.query('session_month == \"February\"')\n",
    "internet_session_Mar = internet_session_month.query('session_month == \"March\"')\n",
    "internet_session_Apr = internet_session_month.query('session_month == \"April\"')\n",
    "internet_session_May = internet_session_month.query('session_month == \"May\"')\n",
    "internet_session_Jun = internet_session_month.query('session_month == \"June\"')\n",
    "internet_session_Jul = internet_session_month.query('session_month == \"July\"')\n",
    "internet_session_Aug = internet_session_month.query('session_month == \"August\"')\n",
    "internet_session_Sep = internet_session_month.query('session_month == \"September\"')\n",
    "internet_session_Oct = internet_session_month.query('session_month == \"October\"')\n",
    "internet_session_Nov = internet_session_month.query('session_month == \"November\"')\n",
    "internet_session_Dec = internet_session_month.query('session_month == \"December\"')\n",
    "\n",
    "#internet_session_Jan\n",
    "#internet_session_Feb\n",
    "#internet_session_Mar\n",
    "#internet_session_Apr\n",
    "#internet_session_May\n",
    "#internet_session_Jun\n",
    "#internet_session_Jul\n",
    "#internet_session_Aug\n",
    "#internet_session_Sep\n",
    "#internet_session_Oct\n",
    "#internet_session_Nov\n",
    "internet_session_Dec"
   ]
  },
  {
   "cell_type": "code",
   "execution_count": 41,
   "id": "7dcde3f3",
   "metadata": {},
   "outputs": [
    {
     "data": {
      "text/html": [
       "<div>\n",
       "<style scoped>\n",
       "    .dataframe tbody tr th:only-of-type {\n",
       "        vertical-align: middle;\n",
       "    }\n",
       "\n",
       "    .dataframe tbody tr th {\n",
       "        vertical-align: top;\n",
       "    }\n",
       "\n",
       "    .dataframe thead th {\n",
       "        text-align: right;\n",
       "    }\n",
       "</style>\n",
       "<table border=\"1\" class=\"dataframe\">\n",
       "  <thead>\n",
       "    <tr style=\"text-align: right;\">\n",
       "      <th></th>\n",
       "      <th></th>\n",
       "      <th>messages_made</th>\n",
       "    </tr>\n",
       "    <tr>\n",
       "      <th>user_id</th>\n",
       "      <th>message_month</th>\n",
       "      <th></th>\n",
       "    </tr>\n",
       "  </thead>\n",
       "  <tbody>\n",
       "    <tr>\n",
       "      <th>1000</th>\n",
       "      <th>December</th>\n",
       "      <td>11</td>\n",
       "    </tr>\n",
       "    <tr>\n",
       "      <th>1001</th>\n",
       "      <th>December</th>\n",
       "      <td>44</td>\n",
       "    </tr>\n",
       "    <tr>\n",
       "      <th>1002</th>\n",
       "      <th>December</th>\n",
       "      <td>41</td>\n",
       "    </tr>\n",
       "    <tr>\n",
       "      <th>1003</th>\n",
       "      <th>December</th>\n",
       "      <td>50</td>\n",
       "    </tr>\n",
       "    <tr>\n",
       "      <th>1004</th>\n",
       "      <th>December</th>\n",
       "      <td>31</td>\n",
       "    </tr>\n",
       "    <tr>\n",
       "      <th>...</th>\n",
       "      <th>...</th>\n",
       "      <td>...</td>\n",
       "    </tr>\n",
       "    <tr>\n",
       "      <th>1491</th>\n",
       "      <th>December</th>\n",
       "      <td>43</td>\n",
       "    </tr>\n",
       "    <tr>\n",
       "      <th>1492</th>\n",
       "      <th>December</th>\n",
       "      <td>37</td>\n",
       "    </tr>\n",
       "    <tr>\n",
       "      <th>1494</th>\n",
       "      <th>December</th>\n",
       "      <td>33</td>\n",
       "    </tr>\n",
       "    <tr>\n",
       "      <th>1496</th>\n",
       "      <th>December</th>\n",
       "      <td>11</td>\n",
       "    </tr>\n",
       "    <tr>\n",
       "      <th>1497</th>\n",
       "      <th>December</th>\n",
       "      <td>50</td>\n",
       "    </tr>\n",
       "  </tbody>\n",
       "</table>\n",
       "<p>380 rows × 1 columns</p>\n",
       "</div>"
      ],
      "text/plain": [
       "                       messages_made\n",
       "user_id message_month               \n",
       "1000    December                  11\n",
       "1001    December                  44\n",
       "1002    December                  41\n",
       "1003    December                  50\n",
       "1004    December                  31\n",
       "...                              ...\n",
       "1491    December                  43\n",
       "1492    December                  37\n",
       "1494    December                  33\n",
       "1496    December                  11\n",
       "1497    December                  50\n",
       "\n",
       "[380 rows x 1 columns]"
      ]
     },
     "execution_count": 41,
     "metadata": {},
     "output_type": "execute_result"
    }
   ],
   "source": [
    "messages_made_January = messages_made_month.query('message_month == \"January\"')\n",
    "messages_made_Jan = messages_made_January['id'].astype('int').to_frame(name='messages_made')\n",
    "messages_made_February = messages_made_month.query('message_month == \"February\"')\n",
    "messages_made_Feb = messages_made_February['id'].astype('int').to_frame(name='messages_made')\n",
    "messages_made_March = messages_made_month.query('message_month == \"March\"')\n",
    "messages_made_Mar = messages_made_March['id'].astype('int').to_frame(name='messages_made')\n",
    "messages_made_April = messages_made_month.query('message_month == \"April\"')\n",
    "messages_made_Apr = messages_made_April['id'].astype('int').to_frame(name='messages_made')\n",
    "messages_made_May = messages_made_month.query('message_month == \"May\"')\n",
    "messages_made_May = messages_made_May['id'].astype('int').to_frame(name='messages_made')\n",
    "messages_made_June = messages_made_month.query('message_month == \"June\"')\n",
    "messages_made_Jun = messages_made_June['id'].astype('int').to_frame(name='messages_made')\n",
    "messages_made_July = messages_made_month.query('message_month == \"July\"')\n",
    "messages_made_Jul = messages_made_July['id'].astype('int').to_frame(name='messages_made')\n",
    "messages_made_August = messages_made_month.query('message_month == \"August\"')\n",
    "messages_made_Aug = messages_made_August['id'].astype('int').to_frame(name='messages_made')\n",
    "messages_made_September = messages_made_month.query('message_month == \"September\"')\n",
    "messages_made_Sep = messages_made_September['id'].astype('int').to_frame(name='messages_made')\n",
    "messages_made_October = messages_made_month.query('message_month == \"October\"')\n",
    "messages_made_Oct = messages_made_October['id'].astype('int').to_frame(name='messages_made')\n",
    "messages_made_November = messages_made_month.query('message_month == \"November\"')\n",
    "messages_made_Nov = messages_made_November['id'].astype('int').to_frame(name='messages_made')\n",
    "messages_made_December = messages_made_month.query('message_month == \"December\"')\n",
    "messages_made_Dec = messages_made_December['id'].astype('int').to_frame(name='messages_made')\n",
    "\n",
    "#messages_made_Jan\n",
    "#messages_made_Feb\n",
    "#messages_made_Mar\n",
    "#messages_made_Apr\n",
    "#messages_made_May\n",
    "#messages_made_Jun\n",
    "#messages_made_Jul\n",
    "#messages_made_Aug\n",
    "#messages_made_Sep\n",
    "#messages_made_Oct\n",
    "#messages_made_Nov\n",
    "messages_made_Dec"
   ]
  },
  {
   "cell_type": "markdown",
   "id": "bd2b1e7c",
   "metadata": {},
   "source": [
    "#### Penghitungan profit <a id='prep_monthly_profit'></a>"
   ]
  },
  {
   "cell_type": "code",
   "execution_count": 42,
   "id": "b4b0852f",
   "metadata": {},
   "outputs": [],
   "source": [
    "def monthly_profit(row):\n",
    "    minutes_count = 0\n",
    "    messages_count = 0\n",
    "    gb_count = 0\n",
    "    plan = row['plan'] \n",
    "\n",
    "    if plan == 'surf':\n",
    "        if row['duration'] > 500: \n",
    "            minutes_count = row['duration'] - 500\n",
    "        if row['messages_made'] > 50:\n",
    "            messages_count = row['messages_made'] - 50\n",
    "        if row['gb_used'] > 15:\n",
    "            gb_count = row['gb_used'] - 15\n",
    "        profit = (minutes_count * .03) + (messages_count * .03) + (gb_count * 10)\n",
    "        \n",
    "    if plan == 'ultimate':\n",
    "        if row['duration'] > 3000:\n",
    "            minutes_count = row['duration'] - 3000\n",
    "        if row['messages_made'] > 1000:\n",
    "            messages_count = row['messages_made'] - 1000\n",
    "        if row['gb_used'] > 30:\n",
    "            gb_count = row['gb_used'] - 30\n",
    "        profit = (minutes_count * .01) + (messages_count * .01) + (gb_count * 7)\n",
    "        \n",
    "    return profit"
   ]
  },
  {
   "cell_type": "markdown",
   "id": "01f53aad",
   "metadata": {},
   "source": [
    "**Step 2.15** Menghitung monthly profit per pengguna sesuai dengan plan yang digunakan untuk ditambahkan ke tabel user_stats, dengan rincian berikut:\n",
    "\n",
    "**Surf**\n",
    "1.\tBiaya bulanan: 20\n",
    "2.\t500 menit durasi panggilan per bulan, 50 SMS, dan 15 GB data\n",
    "3.\tSetelah melebihi batas paket, akan dikenakan:\n",
    "    - 1 menit: 3 sen\n",
    "    - 1 SMS: 3 sen\n",
    "    - 1 GB data: 10\n",
    "\n",
    "**Ultimate**\n",
    "1.\tBiaya bulanan: 70\n",
    "2.\t3000 menit durasi panggilan per bulan, 1000 SMS, dan 30 GB data\n",
    "3.\tSetelah melebihi batas paket, akan dikenakan:\n",
    "    - 1 menit: 1 sen\n",
    "    - 1 SMS: 1 sen\n",
    "    - 1 GB data: 7\n",
    "\n",
    "Hal ini nantinya ditujukan untuk menguji hipotesis apakah rata-rata pendapatan dari pengguna paket telepon Ultimate dan Surf berbeda."
   ]
  },
  {
   "cell_type": "code",
   "execution_count": 43,
   "id": "d0abf784",
   "metadata": {},
   "outputs": [
    {
     "data": {
      "text/html": [
       "<div>\n",
       "<style scoped>\n",
       "    .dataframe tbody tr th:only-of-type {\n",
       "        vertical-align: middle;\n",
       "    }\n",
       "\n",
       "    .dataframe tbody tr th {\n",
       "        vertical-align: top;\n",
       "    }\n",
       "\n",
       "    .dataframe thead th {\n",
       "        text-align: right;\n",
       "    }\n",
       "</style>\n",
       "<table border=\"1\" class=\"dataframe\">\n",
       "  <thead>\n",
       "    <tr style=\"text-align: right;\">\n",
       "      <th></th>\n",
       "      <th>user_id</th>\n",
       "      <th>profit</th>\n",
       "    </tr>\n",
       "  </thead>\n",
       "  <tbody>\n",
       "    <tr>\n",
       "      <th>0</th>\n",
       "      <td>1000</td>\n",
       "      <td>0.00</td>\n",
       "    </tr>\n",
       "    <tr>\n",
       "      <th>1</th>\n",
       "      <td>1001</td>\n",
       "      <td>40.00</td>\n",
       "    </tr>\n",
       "    <tr>\n",
       "      <th>2</th>\n",
       "      <td>1002</td>\n",
       "      <td>0.00</td>\n",
       "    </tr>\n",
       "    <tr>\n",
       "      <th>3</th>\n",
       "      <td>1003</td>\n",
       "      <td>138.12</td>\n",
       "    </tr>\n",
       "    <tr>\n",
       "      <th>4</th>\n",
       "      <td>1004</td>\n",
       "      <td>60.00</td>\n",
       "    </tr>\n",
       "    <tr>\n",
       "      <th>...</th>\n",
       "      <td>...</td>\n",
       "      <td>...</td>\n",
       "    </tr>\n",
       "    <tr>\n",
       "      <th>495</th>\n",
       "      <td>1495</td>\n",
       "      <td>90.00</td>\n",
       "    </tr>\n",
       "    <tr>\n",
       "      <th>496</th>\n",
       "      <td>1496</td>\n",
       "      <td>20.00</td>\n",
       "    </tr>\n",
       "    <tr>\n",
       "      <th>497</th>\n",
       "      <td>1497</td>\n",
       "      <td>0.00</td>\n",
       "    </tr>\n",
       "    <tr>\n",
       "      <th>498</th>\n",
       "      <td>1498</td>\n",
       "      <td>80.00</td>\n",
       "    </tr>\n",
       "    <tr>\n",
       "      <th>499</th>\n",
       "      <td>1499</td>\n",
       "      <td>70.00</td>\n",
       "    </tr>\n",
       "  </tbody>\n",
       "</table>\n",
       "<p>500 rows × 2 columns</p>\n",
       "</div>"
      ],
      "text/plain": [
       "     user_id  profit\n",
       "0       1000    0.00\n",
       "1       1001   40.00\n",
       "2       1002    0.00\n",
       "3       1003  138.12\n",
       "4       1004   60.00\n",
       "..       ...     ...\n",
       "495     1495   90.00\n",
       "496     1496   20.00\n",
       "497     1497    0.00\n",
       "498     1498   80.00\n",
       "499     1499   70.00\n",
       "\n",
       "[500 rows x 2 columns]"
      ]
     },
     "execution_count": 43,
     "metadata": {},
     "output_type": "execute_result"
    }
   ],
   "source": [
    "user_stats_Jan = user_stats.merge(calls_made_Jan,how ='outer',on='user_id').merge(calls_duration_Jan,how ='left',on='user_id').merge(internet_session_Jan,how ='left',on='user_id').merge(messages_made_Jan,how ='left',on='user_id')\n",
    "user_stats_Jan[['calls_made','duration','gb_used','messages_made']] = user_stats_Jan[['calls_made','duration','gb_used','messages_made']].fillna(0)\n",
    "user_stats_Jan['profit'] = user_stats_Jan.apply(monthly_profit, axis=1)\n",
    "user_stats_Feb = user_stats.merge(calls_made_Feb,how ='outer',on='user_id').merge(calls_duration_Feb,how ='left',on='user_id').merge(internet_session_Feb,how ='left',on='user_id').merge(messages_made_Feb,how ='left',on='user_id')\n",
    "user_stats_Feb[['calls_made','duration','gb_used','messages_made']] = user_stats_Feb[['calls_made','duration','gb_used','messages_made']].fillna(0)\n",
    "user_stats_Feb['profit'] = user_stats_Feb.apply(monthly_profit, axis=1)\n",
    "user_stats_Mar = user_stats.merge(calls_made_Mar,how ='outer',on='user_id').merge(calls_duration_Mar,how ='left',on='user_id').merge(internet_session_Mar,how ='left',on='user_id').merge(messages_made_Mar,how ='left',on='user_id')\n",
    "user_stats_Mar[['calls_made','duration','gb_used','messages_made']] = user_stats_Mar[['calls_made','duration','gb_used','messages_made']].fillna(0)\n",
    "user_stats_Mar['profit'] = user_stats_Mar.apply(monthly_profit, axis=1)\n",
    "user_stats_Apr = user_stats.merge(calls_made_Apr,how ='outer',on='user_id').merge(calls_duration_Apr,how ='left',on='user_id').merge(internet_session_Apr,how ='left',on='user_id').merge(messages_made_Apr,how ='left',on='user_id')\n",
    "user_stats_Apr[['calls_made','duration','gb_used','messages_made']] = user_stats_Apr[['calls_made','duration','gb_used','messages_made']].fillna(0)\n",
    "user_stats_Apr['profit'] = user_stats_Apr.apply(monthly_profit, axis=1)\n",
    "user_stats_May = user_stats.merge(calls_made_May,how ='outer',on='user_id').merge(calls_duration_May,how ='left',on='user_id').merge(internet_session_May,how ='left',on='user_id').merge(messages_made_May,how ='left',on='user_id')\n",
    "user_stats_May[['calls_made','duration','gb_used','messages_made']] = user_stats_May[['calls_made','duration','gb_used','messages_made']].fillna(0)\n",
    "user_stats_May['profit'] = user_stats_May.apply(monthly_profit, axis=1)\n",
    "user_stats_Jun = user_stats.merge(calls_made_Jun,how ='outer',on='user_id').merge(calls_duration_Jun,how ='left',on='user_id').merge(internet_session_Jun,how ='left',on='user_id').merge(messages_made_Jun,how ='left',on='user_id')\n",
    "user_stats_Jun[['calls_made','duration','gb_used','messages_made']] = user_stats_Jun[['calls_made','duration','gb_used','messages_made']].fillna(0)\n",
    "user_stats_Jun['profit'] = user_stats_Jun.apply(monthly_profit, axis=1)\n",
    "user_stats_Jul = user_stats.merge(calls_made_Jul,how ='outer',on='user_id').merge(calls_duration_Jul,how ='left',on='user_id').merge(internet_session_Jul,how ='left',on='user_id').merge(messages_made_Jul,how ='left',on='user_id')\n",
    "user_stats_Jul[['calls_made','duration','gb_used','messages_made']] = user_stats_Jul[['calls_made','duration','gb_used','messages_made']].fillna(0)\n",
    "user_stats_Jul['profit'] = user_stats_Jul.apply(monthly_profit, axis=1)\n",
    "user_stats_Aug = user_stats.merge(calls_made_Aug,how ='outer',on='user_id').merge(calls_duration_Aug,how ='left',on='user_id').merge(internet_session_Aug,how ='left',on='user_id').merge(messages_made_Aug,how ='left',on='user_id')\n",
    "user_stats_Aug[['calls_made','duration','gb_used','messages_made']] = user_stats_Aug[['calls_made','duration','gb_used','messages_made']].fillna(0)\n",
    "user_stats_Aug['profit'] = user_stats_Aug.apply(monthly_profit, axis=1)\n",
    "user_stats_Sep = user_stats.merge(calls_made_Sep,how ='outer',on='user_id').merge(calls_duration_Sep,how ='left',on='user_id').merge(internet_session_Sep,how ='left',on='user_id').merge(messages_made_Sep,how ='left',on='user_id')\n",
    "user_stats_Sep[['calls_made','duration','gb_used','messages_made']] = user_stats_Sep[['calls_made','duration','gb_used','messages_made']].fillna(0)\n",
    "user_stats_Sep['profit'] = user_stats_Sep.apply(monthly_profit, axis=1)\n",
    "user_stats_Oct = user_stats.merge(calls_made_Oct,how ='outer',on='user_id').merge(calls_duration_Oct,how ='left',on='user_id').merge(internet_session_Oct,how ='left',on='user_id').merge(messages_made_Oct,how ='left',on='user_id')\n",
    "user_stats_Oct[['calls_made','duration','gb_used','messages_made']] = user_stats_Oct[['calls_made','duration','gb_used','messages_made']].fillna(0)\n",
    "user_stats_Oct['profit'] = user_stats_Oct.apply(monthly_profit, axis=1)\n",
    "user_stats_Nov = user_stats.merge(calls_made_Nov,how ='outer',on='user_id').merge(calls_duration_Nov,how ='left',on='user_id').merge(internet_session_Nov,how ='left',on='user_id').merge(messages_made_Nov,how ='left',on='user_id')\n",
    "user_stats_Nov[['calls_made','duration','gb_used','messages_made']] = user_stats_Nov[['calls_made','duration','gb_used','messages_made']].fillna(0)\n",
    "user_stats_Nov['profit'] = user_stats_Nov.apply(monthly_profit, axis=1)\n",
    "user_stats_Dec = user_stats.merge(calls_made_Dec,how ='outer',on='user_id').merge(calls_duration_Dec,how ='left',on='user_id').merge(internet_session_Dec,how ='left',on='user_id').merge(messages_made_Dec,how ='left',on='user_id')\n",
    "user_stats_Dec[['calls_made','duration','gb_used','messages_made']] = user_stats_Dec[['calls_made','duration','gb_used','messages_made']].fillna(0)\n",
    "user_stats_Dec['profit'] = user_stats_Dec.apply(monthly_profit, axis=1)\n",
    "\n",
    "profit_Jan = user_stats_Jan[['user_id','profit']]\n",
    "profit_Feb = user_stats_Feb[['user_id','profit']]\n",
    "profit_Mar = user_stats_Mar[['user_id','profit']]\n",
    "profit_Apr = user_stats_Apr[['user_id','profit']]\n",
    "profit_May = user_stats_May[['user_id','profit']]\n",
    "profit_Jun = user_stats_Jun[['user_id','profit']]\n",
    "profit_Jul = user_stats_Jul[['user_id','profit']]\n",
    "profit_Aug = user_stats_Aug[['user_id','profit']]\n",
    "profit_Sep = user_stats_Sep[['user_id','profit']]\n",
    "profit_Oct = user_stats_Oct[['user_id','profit']]\n",
    "profit_Nov = user_stats_Nov[['user_id','profit']]\n",
    "profit_Dec = user_stats_Dec[['user_id','profit']]\n",
    "profit_Dec"
   ]
  },
  {
   "cell_type": "code",
   "execution_count": 44,
   "id": "54bef279",
   "metadata": {},
   "outputs": [],
   "source": [
    "calls_made_list = [calls_made_Jan,calls_made_Feb,calls_made_Mar,calls_made_Apr,calls_made_May,calls_made_Jun,calls_made_Jul,calls_made_Aug,calls_made_Sep,calls_made_Oct,calls_made_Nov,calls_made_Dec]\n",
    "calls_made_conc = pd.concat(calls_made_list)\n",
    "\n",
    "calls_made_sum = calls_made_conc.groupby('user_id')['calls_made'].sum().reset_index()\n",
    "calls_made_sum.rename(columns={'calls_made':'calls_made_year_sum'}, inplace=True)\n",
    "\n",
    "calls_made_mean = calls_made_conc.groupby('user_id')['calls_made'].mean().round().reset_index()\n",
    "calls_made_mean.rename(columns={'calls_made':'calls_made_year_mean'}, inplace=True)"
   ]
  },
  {
   "cell_type": "code",
   "execution_count": 45,
   "id": "d00f415e",
   "metadata": {},
   "outputs": [],
   "source": [
    "calls_duration_list = [calls_duration_Jan,calls_duration_Feb,calls_duration_Mar,calls_duration_Apr,calls_duration_May,calls_duration_Jun,calls_duration_Jul,calls_duration_Aug,calls_duration_Sep,calls_duration_Oct,calls_duration_Nov,calls_duration_Dec]\n",
    "calls_duration_conc = pd.concat(calls_duration_list)\n",
    "\n",
    "calls_duration_sum = calls_duration_conc.groupby('user_id')['duration'].sum().reset_index()\n",
    "calls_duration_sum.rename(columns={'duration':'duration_year_sum'}, inplace=True)\n",
    "\n",
    "calls_duration_mean = calls_duration_conc.groupby('user_id')['duration'].mean().round().reset_index()\n",
    "calls_duration_mean.rename(columns={'duration':'duration_year_mean'}, inplace=True)"
   ]
  },
  {
   "cell_type": "code",
   "execution_count": 46,
   "id": "9f7ebfb7",
   "metadata": {},
   "outputs": [],
   "source": [
    "internet_session_list = [internet_session_Jan,internet_session_Feb,internet_session_Mar,internet_session_Apr,internet_session_May,internet_session_Jun,internet_session_Jul,internet_session_Aug,internet_session_Sep,internet_session_Oct,internet_session_Nov,internet_session_Dec]\n",
    "internet_session_conc = pd.concat(internet_session_list)\n",
    "\n",
    "internet_session_sum = internet_session_conc.groupby('user_id')['gb_used'].sum().reset_index()\n",
    "internet_session_sum.rename(columns={'gb_used':'gb_used_year_sum'}, inplace=True)\n",
    "\n",
    "internet_session_mean = internet_session_conc.groupby('user_id')['gb_used'].mean().round().reset_index()\n",
    "internet_session_mean.rename(columns={'gb_used':'gb_used_year_mean'}, inplace=True)"
   ]
  },
  {
   "cell_type": "code",
   "execution_count": 47,
   "id": "b5ebca58",
   "metadata": {},
   "outputs": [],
   "source": [
    "messages_made_list = [messages_made_Jan,messages_made_Feb,messages_made_Mar,messages_made_Apr,messages_made_May,messages_made_Jun,messages_made_Jul,messages_made_Aug,messages_made_Sep,messages_made_Oct,messages_made_Nov,messages_made_Dec]\n",
    "messages_made_conc = pd.concat(messages_made_list)\n",
    "\n",
    "messages_made_sum = messages_made_conc.groupby('user_id')['messages_made'].sum().reset_index()\n",
    "messages_made_sum.rename(columns={'messages_made':'messages_made_year_sum'}, inplace=True)\n",
    "\n",
    "messages_made_mean = messages_made_conc.groupby('user_id')['messages_made'].mean().round().reset_index()\n",
    "messages_made_mean.rename(columns={'messages_made':'messages_made_year_mean'}, inplace=True)"
   ]
  },
  {
   "cell_type": "code",
   "execution_count": 48,
   "id": "e286c5a8",
   "metadata": {},
   "outputs": [],
   "source": [
    "profit_list = [profit_Jan,profit_Feb,profit_Mar,profit_Apr,profit_May,profit_Jun,profit_Jul,profit_Aug,profit_Sep,profit_Oct,profit_Nov,profit_Dec]\n",
    "profit_conc = pd.concat(profit_list)\n",
    "\n",
    "profit_sum = profit_conc.groupby('user_id')['profit'].sum().reset_index()\n",
    "profit_sum.rename(columns={'profit':'profit_year_sum'}, inplace=True)\n",
    "\n",
    "profit_mean = profit_conc.groupby('user_id')['profit'].mean().round().reset_index()\n",
    "profit_mean.rename(columns={'profit':'profit_year_mean'}, inplace=True)"
   ]
  },
  {
   "cell_type": "code",
   "execution_count": 49,
   "id": "ea3417b1",
   "metadata": {},
   "outputs": [
    {
     "data": {
      "text/html": [
       "<div>\n",
       "<style scoped>\n",
       "    .dataframe tbody tr th:only-of-type {\n",
       "        vertical-align: middle;\n",
       "    }\n",
       "\n",
       "    .dataframe tbody tr th {\n",
       "        vertical-align: top;\n",
       "    }\n",
       "\n",
       "    .dataframe thead th {\n",
       "        text-align: right;\n",
       "    }\n",
       "</style>\n",
       "<table border=\"1\" class=\"dataframe\">\n",
       "  <thead>\n",
       "    <tr style=\"text-align: right;\">\n",
       "      <th></th>\n",
       "      <th>user_id</th>\n",
       "      <th>first_name</th>\n",
       "      <th>last_name</th>\n",
       "      <th>city</th>\n",
       "      <th>plan</th>\n",
       "      <th>calls_made_year_sum</th>\n",
       "      <th>calls_made_year_mean</th>\n",
       "      <th>duration_year_sum</th>\n",
       "      <th>duration_year_mean</th>\n",
       "      <th>gb_used_year_sum</th>\n",
       "      <th>gb_used_year_mean</th>\n",
       "      <th>messages_made_year_sum</th>\n",
       "      <th>messages_made_year_mean</th>\n",
       "      <th>profit_year_sum</th>\n",
       "      <th>profit_year_mean</th>\n",
       "    </tr>\n",
       "  </thead>\n",
       "  <tbody>\n",
       "    <tr>\n",
       "      <th>0</th>\n",
       "      <td>1000</td>\n",
       "      <td>Anamaria</td>\n",
       "      <td>Bauer</td>\n",
       "      <td>Atlanta-Sandy Springs-Roswell, GA MSA</td>\n",
       "      <td>ultimate</td>\n",
       "      <td>16.0</td>\n",
       "      <td>16.0</td>\n",
       "      <td>124.0</td>\n",
       "      <td>124.0</td>\n",
       "      <td>2.0</td>\n",
       "      <td>2.0</td>\n",
       "      <td>11.0</td>\n",
       "      <td>11.0</td>\n",
       "      <td>0.00</td>\n",
       "      <td>0.0</td>\n",
       "    </tr>\n",
       "    <tr>\n",
       "      <th>1</th>\n",
       "      <td>1001</td>\n",
       "      <td>Mickey</td>\n",
       "      <td>Wilkerson</td>\n",
       "      <td>Seattle-Tacoma-Bellevue, WA MSA</td>\n",
       "      <td>surf</td>\n",
       "      <td>261.0</td>\n",
       "      <td>52.0</td>\n",
       "      <td>1728.0</td>\n",
       "      <td>346.0</td>\n",
       "      <td>81.0</td>\n",
       "      <td>16.0</td>\n",
       "      <td>207.0</td>\n",
       "      <td>41.0</td>\n",
       "      <td>150.09</td>\n",
       "      <td>13.0</td>\n",
       "    </tr>\n",
       "    <tr>\n",
       "      <th>2</th>\n",
       "      <td>1002</td>\n",
       "      <td>Carlee</td>\n",
       "      <td>Hoffman</td>\n",
       "      <td>Las Vegas-Henderson-Paradise, NV MSA</td>\n",
       "      <td>surf</td>\n",
       "      <td>113.0</td>\n",
       "      <td>38.0</td>\n",
       "      <td>829.0</td>\n",
       "      <td>276.0</td>\n",
       "      <td>41.0</td>\n",
       "      <td>14.0</td>\n",
       "      <td>88.0</td>\n",
       "      <td>29.0</td>\n",
       "      <td>40.00</td>\n",
       "      <td>3.0</td>\n",
       "    </tr>\n",
       "    <tr>\n",
       "      <th>3</th>\n",
       "      <td>1003</td>\n",
       "      <td>Reynaldo</td>\n",
       "      <td>Jenkins</td>\n",
       "      <td>Tulsa, OK MSA</td>\n",
       "      <td>surf</td>\n",
       "      <td>149.0</td>\n",
       "      <td>149.0</td>\n",
       "      <td>1104.0</td>\n",
       "      <td>1104.0</td>\n",
       "      <td>27.0</td>\n",
       "      <td>27.0</td>\n",
       "      <td>50.0</td>\n",
       "      <td>50.0</td>\n",
       "      <td>138.12</td>\n",
       "      <td>12.0</td>\n",
       "    </tr>\n",
       "    <tr>\n",
       "      <th>4</th>\n",
       "      <td>1004</td>\n",
       "      <td>Leonila</td>\n",
       "      <td>Thompson</td>\n",
       "      <td>Seattle-Tacoma-Bellevue, WA MSA</td>\n",
       "      <td>surf</td>\n",
       "      <td>370.0</td>\n",
       "      <td>46.0</td>\n",
       "      <td>2772.0</td>\n",
       "      <td>346.0</td>\n",
       "      <td>157.0</td>\n",
       "      <td>20.0</td>\n",
       "      <td>177.0</td>\n",
       "      <td>22.0</td>\n",
       "      <td>450.00</td>\n",
       "      <td>38.0</td>\n",
       "    </tr>\n",
       "    <tr>\n",
       "      <th>...</th>\n",
       "      <td>...</td>\n",
       "      <td>...</td>\n",
       "      <td>...</td>\n",
       "      <td>...</td>\n",
       "      <td>...</td>\n",
       "      <td>...</td>\n",
       "      <td>...</td>\n",
       "      <td>...</td>\n",
       "      <td>...</td>\n",
       "      <td>...</td>\n",
       "      <td>...</td>\n",
       "      <td>...</td>\n",
       "      <td>...</td>\n",
       "      <td>...</td>\n",
       "      <td>...</td>\n",
       "    </tr>\n",
       "    <tr>\n",
       "      <th>495</th>\n",
       "      <td>1495</td>\n",
       "      <td>Fidel</td>\n",
       "      <td>Sharpe</td>\n",
       "      <td>New York-Newark-Jersey City, NY-NJ-PA MSA</td>\n",
       "      <td>surf</td>\n",
       "      <td>253.0</td>\n",
       "      <td>63.0</td>\n",
       "      <td>1765.0</td>\n",
       "      <td>441.0</td>\n",
       "      <td>99.0</td>\n",
       "      <td>25.0</td>\n",
       "      <td>0.0</td>\n",
       "      <td>0.0</td>\n",
       "      <td>393.30</td>\n",
       "      <td>33.0</td>\n",
       "    </tr>\n",
       "    <tr>\n",
       "      <th>496</th>\n",
       "      <td>1496</td>\n",
       "      <td>Ariel</td>\n",
       "      <td>Shepherd</td>\n",
       "      <td>New Orleans-Metairie, LA MSA</td>\n",
       "      <td>surf</td>\n",
       "      <td>195.0</td>\n",
       "      <td>39.0</td>\n",
       "      <td>1455.0</td>\n",
       "      <td>291.0</td>\n",
       "      <td>66.0</td>\n",
       "      <td>13.0</td>\n",
       "      <td>65.0</td>\n",
       "      <td>13.0</td>\n",
       "      <td>40.00</td>\n",
       "      <td>3.0</td>\n",
       "    </tr>\n",
       "    <tr>\n",
       "      <th>497</th>\n",
       "      <td>1497</td>\n",
       "      <td>Donte</td>\n",
       "      <td>Barrera</td>\n",
       "      <td>Los Angeles-Long Beach-Anaheim, CA MSA</td>\n",
       "      <td>ultimate</td>\n",
       "      <td>54.0</td>\n",
       "      <td>54.0</td>\n",
       "      <td>300.0</td>\n",
       "      <td>300.0</td>\n",
       "      <td>11.0</td>\n",
       "      <td>11.0</td>\n",
       "      <td>50.0</td>\n",
       "      <td>50.0</td>\n",
       "      <td>0.00</td>\n",
       "      <td>0.0</td>\n",
       "    </tr>\n",
       "    <tr>\n",
       "      <th>498</th>\n",
       "      <td>1498</td>\n",
       "      <td>Scot</td>\n",
       "      <td>Williamson</td>\n",
       "      <td>New York-Newark-Jersey City, NY-NJ-PA MSA</td>\n",
       "      <td>surf</td>\n",
       "      <td>451.0</td>\n",
       "      <td>41.0</td>\n",
       "      <td>3211.0</td>\n",
       "      <td>292.0</td>\n",
       "      <td>228.0</td>\n",
       "      <td>21.0</td>\n",
       "      <td>0.0</td>\n",
       "      <td>0.0</td>\n",
       "      <td>630.00</td>\n",
       "      <td>52.0</td>\n",
       "    </tr>\n",
       "    <tr>\n",
       "      <th>499</th>\n",
       "      <td>1499</td>\n",
       "      <td>Shena</td>\n",
       "      <td>Dickson</td>\n",
       "      <td>Orlando-Kissimmee-Sanford, FL MSA</td>\n",
       "      <td>surf</td>\n",
       "      <td>204.0</td>\n",
       "      <td>51.0</td>\n",
       "      <td>1535.0</td>\n",
       "      <td>384.0</td>\n",
       "      <td>72.0</td>\n",
       "      <td>18.0</td>\n",
       "      <td>0.0</td>\n",
       "      <td>0.0</td>\n",
       "      <td>140.00</td>\n",
       "      <td>12.0</td>\n",
       "    </tr>\n",
       "  </tbody>\n",
       "</table>\n",
       "<p>500 rows × 15 columns</p>\n",
       "</div>"
      ],
      "text/plain": [
       "     user_id first_name   last_name  \\\n",
       "0       1000   Anamaria       Bauer   \n",
       "1       1001     Mickey   Wilkerson   \n",
       "2       1002     Carlee     Hoffman   \n",
       "3       1003   Reynaldo     Jenkins   \n",
       "4       1004    Leonila    Thompson   \n",
       "..       ...        ...         ...   \n",
       "495     1495      Fidel      Sharpe   \n",
       "496     1496      Ariel    Shepherd   \n",
       "497     1497      Donte     Barrera   \n",
       "498     1498       Scot  Williamson   \n",
       "499     1499      Shena     Dickson   \n",
       "\n",
       "                                          city      plan  calls_made_year_sum  \\\n",
       "0        Atlanta-Sandy Springs-Roswell, GA MSA  ultimate                 16.0   \n",
       "1              Seattle-Tacoma-Bellevue, WA MSA      surf                261.0   \n",
       "2         Las Vegas-Henderson-Paradise, NV MSA      surf                113.0   \n",
       "3                                Tulsa, OK MSA      surf                149.0   \n",
       "4              Seattle-Tacoma-Bellevue, WA MSA      surf                370.0   \n",
       "..                                         ...       ...                  ...   \n",
       "495  New York-Newark-Jersey City, NY-NJ-PA MSA      surf                253.0   \n",
       "496               New Orleans-Metairie, LA MSA      surf                195.0   \n",
       "497     Los Angeles-Long Beach-Anaheim, CA MSA  ultimate                 54.0   \n",
       "498  New York-Newark-Jersey City, NY-NJ-PA MSA      surf                451.0   \n",
       "499          Orlando-Kissimmee-Sanford, FL MSA      surf                204.0   \n",
       "\n",
       "     calls_made_year_mean  duration_year_sum  duration_year_mean  \\\n",
       "0                    16.0              124.0               124.0   \n",
       "1                    52.0             1728.0               346.0   \n",
       "2                    38.0              829.0               276.0   \n",
       "3                   149.0             1104.0              1104.0   \n",
       "4                    46.0             2772.0               346.0   \n",
       "..                    ...                ...                 ...   \n",
       "495                  63.0             1765.0               441.0   \n",
       "496                  39.0             1455.0               291.0   \n",
       "497                  54.0              300.0               300.0   \n",
       "498                  41.0             3211.0               292.0   \n",
       "499                  51.0             1535.0               384.0   \n",
       "\n",
       "     gb_used_year_sum  gb_used_year_mean  messages_made_year_sum  \\\n",
       "0                 2.0                2.0                    11.0   \n",
       "1                81.0               16.0                   207.0   \n",
       "2                41.0               14.0                    88.0   \n",
       "3                27.0               27.0                    50.0   \n",
       "4               157.0               20.0                   177.0   \n",
       "..                ...                ...                     ...   \n",
       "495              99.0               25.0                     0.0   \n",
       "496              66.0               13.0                    65.0   \n",
       "497              11.0               11.0                    50.0   \n",
       "498             228.0               21.0                     0.0   \n",
       "499              72.0               18.0                     0.0   \n",
       "\n",
       "     messages_made_year_mean  profit_year_sum  profit_year_mean  \n",
       "0                       11.0             0.00               0.0  \n",
       "1                       41.0           150.09              13.0  \n",
       "2                       29.0            40.00               3.0  \n",
       "3                       50.0           138.12              12.0  \n",
       "4                       22.0           450.00              38.0  \n",
       "..                       ...              ...               ...  \n",
       "495                      0.0           393.30              33.0  \n",
       "496                     13.0            40.00               3.0  \n",
       "497                     50.0             0.00               0.0  \n",
       "498                      0.0           630.00              52.0  \n",
       "499                      0.0           140.00              12.0  \n",
       "\n",
       "[500 rows x 15 columns]"
      ]
     },
     "execution_count": 49,
     "metadata": {},
     "output_type": "execute_result"
    }
   ],
   "source": [
    "user_stats_year = user_stats.merge(calls_made_sum,how ='outer',on='user_id').merge(calls_made_mean,how ='outer',on='user_id').merge(calls_duration_sum,how ='outer',on='user_id').merge(calls_duration_mean,how ='outer',on='user_id').merge(internet_session_sum,how ='outer',on='user_id').merge(internet_session_mean,how ='outer',on='user_id').merge(messages_made_sum,how ='outer',on='user_id').merge(messages_made_mean,how ='outer',on='user_id').merge(profit_sum,how ='outer',on='user_id').merge(profit_mean,how ='outer',on='user_id')\n",
    "user_stats_year[['calls_made_year_sum','calls_made_year_mean','duration_year_sum','duration_year_mean','gb_used_year_sum','gb_used_year_mean','messages_made_year_sum','messages_made_year_mean','profit_year_sum','profit_year_mean']] = user_stats_year[['calls_made_year_sum','calls_made_year_mean','duration_year_sum','duration_year_mean','gb_used_year_sum','gb_used_year_mean','messages_made_year_sum','messages_made_year_mean','profit_year_sum','profit_year_mean']].fillna(0)\n",
    "user_stats_year"
   ]
  },
  {
   "cell_type": "markdown",
   "id": "6ad04154",
   "metadata": {},
   "source": [
    "#### Klasifikasi region <a id='prep_klas_region'></a>"
   ]
  },
  {
   "cell_type": "markdown",
   "id": "323036a9",
   "metadata": {},
   "source": [
    "**Step 2.16** Mengklasifikan region untuk khusus NY-NJ dan di luar NY-NJ.\n",
    "\n",
    "Klasifikasi region yang dilakukan adalah dengan memisahkan region NY-NJ dengan lainnya, dilakukan dengan memanfaatkan data yang terdapat dalam kolom city.\n",
    "\n",
    "Hal ini nantinya ditujukan untuk menguji hpotesis apakah rata-rata pendapatan dari pengguna di wilayah NY-NJ berbeda dengan pendapatan pengguna dari wilayah lain."
   ]
  },
  {
   "cell_type": "code",
   "execution_count": 50,
   "id": "b21e13c7",
   "metadata": {
    "scrolled": true
   },
   "outputs": [
    {
     "data": {
      "text/plain": [
       "array(['Atlanta-Sandy Springs-Roswell, GA MSA',\n",
       "       'Seattle-Tacoma-Bellevue, WA MSA',\n",
       "       'Las Vegas-Henderson-Paradise, NV MSA', 'Tulsa, OK MSA',\n",
       "       'Dallas-Fort Worth-Arlington, TX MSA',\n",
       "       'San Francisco-Oakland-Berkeley, CA MSA',\n",
       "       'Grand Rapids-Kentwood, MI MSA',\n",
       "       'Orlando-Kissimmee-Sanford, FL MSA',\n",
       "       'San Jose-Sunnyvale-Santa Clara, CA MSA',\n",
       "       'Cleveland-Elyria, OH MSA',\n",
       "       'Chicago-Naperville-Elgin, IL-IN-WI MSA', 'Knoxville, TN MSA',\n",
       "       'New York-Newark-Jersey City, NY-NJ-PA MSA', 'Pittsburgh, PA MSA',\n",
       "       'Fresno, CA MSA',\n",
       "       'Washington-Arlington-Alexandria, DC-VA-MD-WV MSA',\n",
       "       'Indianapolis-Carmel-Anderson, IN MSA', 'Jacksonville, FL MSA',\n",
       "       'Los Angeles-Long Beach-Anaheim, CA MSA',\n",
       "       'Omaha-Council Bluffs, NE-IA MSA',\n",
       "       'Houston-The Woodlands-Sugar Land, TX MSA',\n",
       "       'Philadelphia-Camden-Wilmington, PA-NJ-DE-MD MSA',\n",
       "       'Tampa-St. Petersburg-Clearwater, FL MSA',\n",
       "       'Birmingham-Hoover, AL MSA', 'Oklahoma City, OK MSA',\n",
       "       'Charlotte-Concord-Gastonia, NC-SC MSA',\n",
       "       'Denver-Aurora-Lakewood, CO MSA',\n",
       "       'Nashville-Davidson–Murfreesboro–Franklin, TN MSA',\n",
       "       'Columbus, OH MSA', 'Albuquerque, NM MSA',\n",
       "       'Boston-Cambridge-Newton, MA-NH MSA',\n",
       "       'Miami-Fort Lauderdale-West Palm Beach, FL MSA',\n",
       "       'San Diego-Chula Vista-Carlsbad, CA MSA',\n",
       "       'Phoenix-Mesa-Chandler, AZ MSA',\n",
       "       'Portland-Vancouver-Hillsboro, OR-WA MSA',\n",
       "       'Cincinnati, OH-KY-IN MSA', 'Columbia, SC MSA',\n",
       "       'San Antonio-New Braunfels, TX MSA', 'Buffalo-Cheektowaga, NY MSA',\n",
       "       'Memphis, TN-MS-AR MSA',\n",
       "       'Riverside-San Bernardino-Ontario, CA MSA',\n",
       "       'Louisville/Jefferson County, KY-IN MSA',\n",
       "       'Albany-Schenectady-Troy, NY MSA', 'Providence-Warwick, RI-MA MSA',\n",
       "       'Salt Lake City, UT MSA', 'Urban Honolulu, HI MSA',\n",
       "       'El Paso, TX MSA', 'New Haven-Milford, CT MSA',\n",
       "       'North Port-Sarasota-Bradenton, FL MSA', 'Baton Rouge, LA MSA',\n",
       "       'New Orleans-Metairie, LA MSA',\n",
       "       'Bridgeport-Stamford-Norwalk, CT MSA',\n",
       "       'Virginia Beach-Norfolk-Newport News, VA-NC MSA',\n",
       "       'Baltimore-Columbia-Towson, MD MSA', 'Milwaukee-Waukesha, WI MSA',\n",
       "       'Oxnard-Thousand Oaks-Ventura, CA MSA',\n",
       "       'Sacramento–Roseville–Folsom, CA MSA',\n",
       "       'Austin-Round Rock-Georgetown, TX MSA', 'Richmond, VA MSA',\n",
       "       'St. Louis, MO-IL MSA',\n",
       "       'Minneapolis-St. Paul-Bloomington, MN-WI MSA',\n",
       "       'Dayton-Kettering, OH MSA', 'Bakersfield, CA MSA',\n",
       "       'Detroit-Warren-Dearborn, MI MSA', 'Kansas City, MO-KS MSA',\n",
       "       'Charleston-North Charleston, SC MSA', 'Rochester, NY MSA',\n",
       "       'Raleigh-Cary, NC MSA', 'Colorado Springs, CO MSA',\n",
       "       'Greensboro-High Point, NC MSA', 'Tucson, AZ MSA',\n",
       "       'Stockton, CA MSA', 'Cape Coral-Fort Myers, FL MSA'], dtype=object)"
      ]
     },
     "execution_count": 50,
     "metadata": {},
     "output_type": "execute_result"
    }
   ],
   "source": [
    "user_stats_year['city'].unique()"
   ]
  },
  {
   "cell_type": "code",
   "execution_count": 51,
   "id": "8f041b2d",
   "metadata": {},
   "outputs": [
    {
     "data": {
      "text/plain": [
       "region\n",
       "other    420\n",
       "ny-nj     80\n",
       "Name: count, dtype: int64"
      ]
     },
     "execution_count": 51,
     "metadata": {},
     "output_type": "execute_result"
    }
   ],
   "source": [
    "def region(city):\n",
    "    words_split = city.split(\",\")\n",
    "    for entry in words_split:\n",
    "        if ('NY-NJ' in entry)|(entry == 'NY')|(entry == 'NJ'):\n",
    "            return 'ny-nj'\n",
    "        \n",
    "user_stats_year['region'] = user_stats_year['city'].apply(region)\n",
    "user_stats_year['region'] = user_stats_year['region'].fillna('other')\n",
    "user_stats_year['region'] = user_stats_year['region'].astype('category')\n",
    "user_stats_year['region'].value_counts()"
   ]
  },
  {
   "cell_type": "code",
   "execution_count": 52,
   "id": "107929f3",
   "metadata": {
    "scrolled": true
   },
   "outputs": [
    {
     "data": {
      "text/html": [
       "<div>\n",
       "<style scoped>\n",
       "    .dataframe tbody tr th:only-of-type {\n",
       "        vertical-align: middle;\n",
       "    }\n",
       "\n",
       "    .dataframe tbody tr th {\n",
       "        vertical-align: top;\n",
       "    }\n",
       "\n",
       "    .dataframe thead th {\n",
       "        text-align: right;\n",
       "    }\n",
       "</style>\n",
       "<table border=\"1\" class=\"dataframe\">\n",
       "  <thead>\n",
       "    <tr style=\"text-align: right;\">\n",
       "      <th></th>\n",
       "      <th>user_id</th>\n",
       "      <th>first_name</th>\n",
       "      <th>last_name</th>\n",
       "      <th>city</th>\n",
       "      <th>plan</th>\n",
       "      <th>calls_made_year_sum</th>\n",
       "      <th>calls_made_year_mean</th>\n",
       "      <th>duration_year_sum</th>\n",
       "      <th>duration_year_mean</th>\n",
       "      <th>gb_used_year_sum</th>\n",
       "      <th>gb_used_year_mean</th>\n",
       "      <th>messages_made_year_sum</th>\n",
       "      <th>messages_made_year_mean</th>\n",
       "      <th>profit_year_sum</th>\n",
       "      <th>profit_year_mean</th>\n",
       "      <th>region</th>\n",
       "    </tr>\n",
       "  </thead>\n",
       "  <tbody>\n",
       "    <tr>\n",
       "      <th>0</th>\n",
       "      <td>1000</td>\n",
       "      <td>Anamaria</td>\n",
       "      <td>Bauer</td>\n",
       "      <td>Atlanta-Sandy Springs-Roswell, GA MSA</td>\n",
       "      <td>ultimate</td>\n",
       "      <td>16.0</td>\n",
       "      <td>16.0</td>\n",
       "      <td>124.0</td>\n",
       "      <td>124.0</td>\n",
       "      <td>2.0</td>\n",
       "      <td>2.0</td>\n",
       "      <td>11.0</td>\n",
       "      <td>11.0</td>\n",
       "      <td>0.00</td>\n",
       "      <td>0.0</td>\n",
       "      <td>other</td>\n",
       "    </tr>\n",
       "    <tr>\n",
       "      <th>1</th>\n",
       "      <td>1001</td>\n",
       "      <td>Mickey</td>\n",
       "      <td>Wilkerson</td>\n",
       "      <td>Seattle-Tacoma-Bellevue, WA MSA</td>\n",
       "      <td>surf</td>\n",
       "      <td>261.0</td>\n",
       "      <td>52.0</td>\n",
       "      <td>1728.0</td>\n",
       "      <td>346.0</td>\n",
       "      <td>81.0</td>\n",
       "      <td>16.0</td>\n",
       "      <td>207.0</td>\n",
       "      <td>41.0</td>\n",
       "      <td>150.09</td>\n",
       "      <td>13.0</td>\n",
       "      <td>other</td>\n",
       "    </tr>\n",
       "    <tr>\n",
       "      <th>2</th>\n",
       "      <td>1002</td>\n",
       "      <td>Carlee</td>\n",
       "      <td>Hoffman</td>\n",
       "      <td>Las Vegas-Henderson-Paradise, NV MSA</td>\n",
       "      <td>surf</td>\n",
       "      <td>113.0</td>\n",
       "      <td>38.0</td>\n",
       "      <td>829.0</td>\n",
       "      <td>276.0</td>\n",
       "      <td>41.0</td>\n",
       "      <td>14.0</td>\n",
       "      <td>88.0</td>\n",
       "      <td>29.0</td>\n",
       "      <td>40.00</td>\n",
       "      <td>3.0</td>\n",
       "      <td>other</td>\n",
       "    </tr>\n",
       "    <tr>\n",
       "      <th>3</th>\n",
       "      <td>1003</td>\n",
       "      <td>Reynaldo</td>\n",
       "      <td>Jenkins</td>\n",
       "      <td>Tulsa, OK MSA</td>\n",
       "      <td>surf</td>\n",
       "      <td>149.0</td>\n",
       "      <td>149.0</td>\n",
       "      <td>1104.0</td>\n",
       "      <td>1104.0</td>\n",
       "      <td>27.0</td>\n",
       "      <td>27.0</td>\n",
       "      <td>50.0</td>\n",
       "      <td>50.0</td>\n",
       "      <td>138.12</td>\n",
       "      <td>12.0</td>\n",
       "      <td>other</td>\n",
       "    </tr>\n",
       "    <tr>\n",
       "      <th>4</th>\n",
       "      <td>1004</td>\n",
       "      <td>Leonila</td>\n",
       "      <td>Thompson</td>\n",
       "      <td>Seattle-Tacoma-Bellevue, WA MSA</td>\n",
       "      <td>surf</td>\n",
       "      <td>370.0</td>\n",
       "      <td>46.0</td>\n",
       "      <td>2772.0</td>\n",
       "      <td>346.0</td>\n",
       "      <td>157.0</td>\n",
       "      <td>20.0</td>\n",
       "      <td>177.0</td>\n",
       "      <td>22.0</td>\n",
       "      <td>450.00</td>\n",
       "      <td>38.0</td>\n",
       "      <td>other</td>\n",
       "    </tr>\n",
       "  </tbody>\n",
       "</table>\n",
       "</div>"
      ],
      "text/plain": [
       "   user_id first_name  last_name                                   city  \\\n",
       "0     1000   Anamaria      Bauer  Atlanta-Sandy Springs-Roswell, GA MSA   \n",
       "1     1001     Mickey  Wilkerson        Seattle-Tacoma-Bellevue, WA MSA   \n",
       "2     1002     Carlee    Hoffman   Las Vegas-Henderson-Paradise, NV MSA   \n",
       "3     1003   Reynaldo    Jenkins                          Tulsa, OK MSA   \n",
       "4     1004    Leonila   Thompson        Seattle-Tacoma-Bellevue, WA MSA   \n",
       "\n",
       "       plan  calls_made_year_sum  calls_made_year_mean  duration_year_sum  \\\n",
       "0  ultimate                 16.0                  16.0              124.0   \n",
       "1      surf                261.0                  52.0             1728.0   \n",
       "2      surf                113.0                  38.0              829.0   \n",
       "3      surf                149.0                 149.0             1104.0   \n",
       "4      surf                370.0                  46.0             2772.0   \n",
       "\n",
       "   duration_year_mean  gb_used_year_sum  gb_used_year_mean  \\\n",
       "0               124.0               2.0                2.0   \n",
       "1               346.0              81.0               16.0   \n",
       "2               276.0              41.0               14.0   \n",
       "3              1104.0              27.0               27.0   \n",
       "4               346.0             157.0               20.0   \n",
       "\n",
       "   messages_made_year_sum  messages_made_year_mean  profit_year_sum  \\\n",
       "0                    11.0                     11.0             0.00   \n",
       "1                   207.0                     41.0           150.09   \n",
       "2                    88.0                     29.0            40.00   \n",
       "3                    50.0                     50.0           138.12   \n",
       "4                   177.0                     22.0           450.00   \n",
       "\n",
       "   profit_year_mean region  \n",
       "0               0.0  other  \n",
       "1              13.0  other  \n",
       "2               3.0  other  \n",
       "3              12.0  other  \n",
       "4              38.0  other  "
      ]
     },
     "execution_count": 52,
     "metadata": {},
     "output_type": "execute_result"
    }
   ],
   "source": [
    "user_stats_year.head()"
   ]
  },
  {
   "cell_type": "markdown",
   "id": "d68115d1",
   "metadata": {},
   "source": [
    "### Kesimpulan <a id='data_preprocessing_conclusions'></a> "
   ]
  },
  {
   "cell_type": "markdown",
   "id": "9a7b4af9",
   "metadata": {},
   "source": [
    "* Konversi kolom yang diperlukan untuk proses analisis selanjutnya telah dilakukan.\n",
    "* Tabel data user yang melingkupi summary penggunaan layanan berikut monthly profit dan region yang diperlukan untuk proses analisis selanjutnya juga telah dilakukan.\n",
    "* Kelengkapan data untuk pengujian hipotesis pun telah dipenuhi."
   ]
  },
  {
   "cell_type": "markdown",
   "id": "96556014",
   "metadata": {},
   "source": [
    "[Kembali ke Daftar Isi](#back)"
   ]
  },
  {
   "cell_type": "markdown",
   "id": "4ce20e81",
   "metadata": {},
   "source": [
    "## Analisis <a name='analysis'></a>"
   ]
  },
  {
   "cell_type": "markdown",
   "id": "2959d0ad",
   "metadata": {},
   "source": [
    "Melakukan proses analisis calls, messages, dan gb_data dari pengguna untuk masing-masing plan secara bulanan."
   ]
  },
  {
   "cell_type": "markdown",
   "id": "77d4fb37",
   "metadata": {},
   "source": [
    "### Proses analisis perilaku pengguna plan Surf <a id='analisis_surf'></a>"
   ]
  },
  {
   "cell_type": "markdown",
   "id": "a9ad4a9c",
   "metadata": {},
   "source": [
    "**Step 3.1** \n",
    "Melakukan proses analisis calls, messages, dan gb_data dari pengguna plan **Surf** secara bulanan."
   ]
  },
  {
   "cell_type": "code",
   "execution_count": 53,
   "id": "0c35e025",
   "metadata": {
    "scrolled": true
   },
   "outputs": [
    {
     "name": "stdout",
     "output_type": "stream",
     "text": [
      "<class 'pandas.core.frame.DataFrame'>\n",
      "Index: 339 entries, 1 to 499\n",
      "Data columns (total 16 columns):\n",
      " #   Column                   Non-Null Count  Dtype   \n",
      "---  ------                   --------------  -----   \n",
      " 0   user_id                  339 non-null    int64   \n",
      " 1   first_name               339 non-null    object  \n",
      " 2   last_name                339 non-null    object  \n",
      " 3   city                     339 non-null    object  \n",
      " 4   plan                     339 non-null    category\n",
      " 5   calls_made_year_sum      339 non-null    float64 \n",
      " 6   calls_made_year_mean     339 non-null    float64 \n",
      " 7   duration_year_sum        339 non-null    float64 \n",
      " 8   duration_year_mean       339 non-null    float64 \n",
      " 9   gb_used_year_sum         339 non-null    float64 \n",
      " 10  gb_used_year_mean        339 non-null    float64 \n",
      " 11  messages_made_year_sum   339 non-null    float64 \n",
      " 12  messages_made_year_mean  339 non-null    float64 \n",
      " 13  profit_year_sum          339 non-null    float64 \n",
      " 14  profit_year_mean         339 non-null    float64 \n",
      " 15  region                   339 non-null    category\n",
      "dtypes: category(2), float64(10), int64(1), object(3)\n",
      "memory usage: 40.6+ KB\n"
     ]
    }
   ],
   "source": [
    "surf_part = user_stats_year.query('plan == \"surf\"')\n",
    "surf_part.info()"
   ]
  },
  {
   "cell_type": "markdown",
   "id": "c91b8864",
   "metadata": {},
   "source": [
    "#### Analisis Calls Duration Monthly - Surf <a id='surf_minutespm'></a>"
   ]
  },
  {
   "cell_type": "markdown",
   "id": "39a764e1",
   "metadata": {},
   "source": [
    "**Step 3.2** \n",
    "Mencari nilai varian, rata-rata, standar deviasi, serta membuat histogram dari pengguna plan **Surf** berdasarkan data 'duration'."
   ]
  },
  {
   "cell_type": "markdown",
   "id": "aa9df054",
   "metadata": {},
   "source": [
    "Menyiapkan nilai varian."
   ]
  },
  {
   "cell_type": "code",
   "execution_count": 54,
   "id": "94011397",
   "metadata": {},
   "outputs": [
    {
     "data": {
      "text/plain": [
       "41820.90209796289"
      ]
     },
     "execution_count": 54,
     "metadata": {},
     "output_type": "execute_result"
    }
   ],
   "source": [
    "np.var(surf_part['duration_year_mean'])"
   ]
  },
  {
   "cell_type": "markdown",
   "id": "aacc95e3",
   "metadata": {},
   "source": [
    "Menyiapkan nilai rata-rata dan standar deviasi."
   ]
  },
  {
   "cell_type": "code",
   "execution_count": 55,
   "id": "57b7c5e7",
   "metadata": {},
   "outputs": [
    {
     "data": {
      "text/plain": [
       "count     339.000000\n",
       "mean      401.643068\n",
       "std       204.803888\n",
       "min         0.000000\n",
       "25%       285.500000\n",
       "50%       391.000000\n",
       "75%       533.000000\n",
       "max      1104.000000\n",
       "Name: duration_year_mean, dtype: float64"
      ]
     },
     "execution_count": 55,
     "metadata": {},
     "output_type": "execute_result"
    }
   ],
   "source": [
    "surf_part['duration_year_mean'].describe()"
   ]
  },
  {
   "cell_type": "code",
   "execution_count": 56,
   "id": "9b537bd7",
   "metadata": {
    "scrolled": false
   },
   "outputs": [
    {
     "data": {
      "image/png": "[encoded data removed]",
      "text/plain": [
       "<Figure size 640x480 with 1 Axes>"
      ]
     },
     "metadata": {},
     "output_type": "display_data"
    }
   ],
   "source": [
    "surf_part['duration_year_mean'].hist(bins=15)\n",
    "plt.title('Calls Duration Monthly - Surf')\n",
    "plt.show()"
   ]
  },
  {
   "cell_type": "markdown",
   "id": "b4cc6258",
   "metadata": {},
   "source": [
    "Sebagian besar pengguna plan Surf melakukan call antara 200 dan 650 per bulan, dengan puncaknya di kisaran 350. \n",
    "Rata-ratanya lebih besar dari  median oleh karenanya histogram ini memiliki kemiringan ke kanan (positive skew)."
   ]
  },
  {
   "cell_type": "markdown",
   "id": "1eecb9d0",
   "metadata": {},
   "source": [
    "#### Analisis Internet Session Monthly - Surf <a id='surf_gbdatapm'></a>"
   ]
  },
  {
   "cell_type": "markdown",
   "id": "2cd07ee8",
   "metadata": {},
   "source": [
    "**Step 3.3** \n",
    "Mencari nilai varian, rata-rata, standar deviasi, serta membuat histogram dari pengguna plan **Surf** berdasarkan data 'gb_used'."
   ]
  },
  {
   "cell_type": "markdown",
   "id": "1f8dfe6a",
   "metadata": {},
   "source": [
    "Menyiapkan nilai varian."
   ]
  },
  {
   "cell_type": "code",
   "execution_count": 57,
   "id": "c67dedb8",
   "metadata": {
    "scrolled": true
   },
   "outputs": [
    {
     "data": {
      "text/plain": [
       "40.73638412474652"
      ]
     },
     "execution_count": 57,
     "metadata": {},
     "output_type": "execute_result"
    }
   ],
   "source": [
    "np.var(surf_part['gb_used_year_mean'])"
   ]
  },
  {
   "cell_type": "markdown",
   "id": "42f81e9f",
   "metadata": {},
   "source": [
    "Menyiapkan nilai rata-rata dan standar deviasi."
   ]
  },
  {
   "cell_type": "code",
   "execution_count": 58,
   "id": "b3179d9f",
   "metadata": {
    "scrolled": true
   },
   "outputs": [
    {
     "data": {
      "text/plain": [
       "count    339.000000\n",
       "mean      15.737463\n",
       "std        6.391941\n",
       "min        0.000000\n",
       "25%       12.000000\n",
       "50%       16.000000\n",
       "75%       19.000000\n",
       "max       44.000000\n",
       "Name: gb_used_year_mean, dtype: float64"
      ]
     },
     "execution_count": 58,
     "metadata": {},
     "output_type": "execute_result"
    }
   ],
   "source": [
    "surf_part['gb_used_year_mean'].describe()"
   ]
  },
  {
   "cell_type": "code",
   "execution_count": 59,
   "id": "343646a5",
   "metadata": {
    "scrolled": true
   },
   "outputs": [
    {
     "data": {
      "image/png": "[encoded data removed]",
      "text/plain": [
       "<Figure size 640x480 with 1 Axes>"
      ]
     },
     "metadata": {},
     "output_type": "display_data"
    }
   ],
   "source": [
    "surf_part['gb_used_year_mean'].hist(bins=15)\n",
    "plt.title('Internet Session Monthly - Surf')\n",
    "plt.show()"
   ]
  },
  {
   "cell_type": "markdown",
   "id": "61e42399",
   "metadata": {},
   "source": [
    "Sebagian besar pengguna plan Surf memiliki puncak penggunaan pada kisaran 15GB per bulan pada umumnya di kisaran 10GB hingga 20GB. Di sini teridentifikasi outlier, di mana terdapat sekitar 2-3 orang menggunakan data 40GB per bulannya.\n",
    "Antara rata-rata dan median tidak terlihat perbedaan yang signifikan sehingga dapat dikatakan histogram ini tidak memiliki kemiringan (skew). Lain halnya bila outlier dihapus maka kemungkinannya akan terjadi kemiringan ke kiri (negative skew)"
   ]
  },
  {
   "cell_type": "markdown",
   "id": "8167cfbd",
   "metadata": {},
   "source": [
    "#### Analisis Messages Made Monthly - Surf <a id='surf_messagespm'></a>"
   ]
  },
  {
   "cell_type": "markdown",
   "id": "0517e248",
   "metadata": {},
   "source": [
    "**Step 3.4** \n",
    "Mencari nilai varian, rata-rata, standar deviasi, serta membuat histogram dari pengguna plan **Surf** berdasarkan data 'messages_made'."
   ]
  },
  {
   "cell_type": "markdown",
   "id": "f9d9bf49",
   "metadata": {},
   "source": [
    "Menyiapkan nilai varian."
   ]
  },
  {
   "cell_type": "code",
   "execution_count": 60,
   "id": "bcce77be",
   "metadata": {
    "scrolled": true
   },
   "outputs": [
    {
     "data": {
      "text/plain": [
       "960.6794580624957"
      ]
     },
     "execution_count": 60,
     "metadata": {},
     "output_type": "execute_result"
    }
   ],
   "source": [
    "np.var(surf_part['messages_made_year_mean'])"
   ]
  },
  {
   "cell_type": "markdown",
   "id": "24c7ea83",
   "metadata": {},
   "source": [
    "Menyiapkan nilai rata-rata dan standar deviasi."
   ]
  },
  {
   "cell_type": "code",
   "execution_count": 61,
   "id": "bdf9574f",
   "metadata": {
    "scrolled": true
   },
   "outputs": [
    {
     "data": {
      "text/plain": [
       "count    339.000000\n",
       "mean      31.955752\n",
       "std       31.040646\n",
       "min        0.000000\n",
       "25%        5.000000\n",
       "50%       26.000000\n",
       "75%       49.500000\n",
       "max      159.000000\n",
       "Name: messages_made_year_mean, dtype: float64"
      ]
     },
     "execution_count": 61,
     "metadata": {},
     "output_type": "execute_result"
    }
   ],
   "source": [
    "surf_part['messages_made_year_mean'].describe()"
   ]
  },
  {
   "cell_type": "code",
   "execution_count": 62,
   "id": "813dc9bc",
   "metadata": {
    "scrolled": true
   },
   "outputs": [
    {
     "data": {
      "image/png": "[encoded data removed]",
      "text/plain": [
       "<Figure size 640x480 with 1 Axes>"
      ]
     },
     "metadata": {},
     "output_type": "display_data"
    }
   ],
   "source": [
    "surf_part['messages_made_year_mean'].hist(bins=15)\n",
    "plt.title('Messages Made Monthly - Surf')\n",
    "plt.show()"
   ]
  },
  {
   "cell_type": "markdown",
   "id": "5bb73782",
   "metadata": {},
   "source": [
    "Sebagian besar pengguna plan Surf hanya melakukan texting message pada kisaran 0 - 30 message saja tiap bulannya, dengan penggunaan tertinggi oleh pengguna plan Surf berada pada kisaran 10 message tiap bulannya. Terlihat bahwa semakin sedikit pengguna Surf yang melakukan texting messages untuk kebutuhan perpesanan, hanya menyisakan sekitar 2 - 4 orang saja yang intens menggunakan message. Dalam grafik juga teridentifikasi outlier di mana terdapat sekitar 2 - 3 orang menggunakan message di atas 150 message tiap bulannya. Secara umum histogram ini memiliki kemiringan ke kanan (positive skew)"
   ]
  },
  {
   "cell_type": "markdown",
   "id": "68783bc4",
   "metadata": {},
   "source": [
    "### Proses analisis perilaku pengguna plan Ultimate <a id='analisis_ultimate'></a>"
   ]
  },
  {
   "cell_type": "markdown",
   "id": "a9ec0892",
   "metadata": {},
   "source": [
    "**Step 3.5** \n",
    "Melakukan proses analisis calls, messages, dan gb_data dari pengguna plan **Ultimate** secara bulanan."
   ]
  },
  {
   "cell_type": "code",
   "execution_count": 63,
   "id": "05eb503a",
   "metadata": {},
   "outputs": [
    {
     "name": "stdout",
     "output_type": "stream",
     "text": [
      "<class 'pandas.core.frame.DataFrame'>\n",
      "Index: 161 entries, 0 to 497\n",
      "Data columns (total 16 columns):\n",
      " #   Column                   Non-Null Count  Dtype   \n",
      "---  ------                   --------------  -----   \n",
      " 0   user_id                  161 non-null    int64   \n",
      " 1   first_name               161 non-null    object  \n",
      " 2   last_name                161 non-null    object  \n",
      " 3   city                     161 non-null    object  \n",
      " 4   plan                     161 non-null    category\n",
      " 5   calls_made_year_sum      161 non-null    float64 \n",
      " 6   calls_made_year_mean     161 non-null    float64 \n",
      " 7   duration_year_sum        161 non-null    float64 \n",
      " 8   duration_year_mean       161 non-null    float64 \n",
      " 9   gb_used_year_sum         161 non-null    float64 \n",
      " 10  gb_used_year_mean        161 non-null    float64 \n",
      " 11  messages_made_year_sum   161 non-null    float64 \n",
      " 12  messages_made_year_mean  161 non-null    float64 \n",
      " 13  profit_year_sum          161 non-null    float64 \n",
      " 14  profit_year_mean         161 non-null    float64 \n",
      " 15  region                   161 non-null    category\n",
      "dtypes: category(2), float64(10), int64(1), object(3)\n",
      "memory usage: 19.4+ KB\n"
     ]
    }
   ],
   "source": [
    "ultimate_part = user_stats_year.query('plan == \"ultimate\"')\n",
    "ultimate_part.info()"
   ]
  },
  {
   "cell_type": "markdown",
   "id": "90fc3cd4",
   "metadata": {},
   "source": [
    "#### Analisis Calls Duration Monthly - Ultimate <a id='ultimate_minutespm'></a>"
   ]
  },
  {
   "cell_type": "markdown",
   "id": "3054fc20",
   "metadata": {},
   "source": [
    "**Step 3.6** \n",
    "Mencari nilai varian, rata-rata, standar deviasi, serta membuat histogram dari pengguna plan **Ultimate** berdasarkan data 'duration'."
   ]
  },
  {
   "cell_type": "markdown",
   "id": "c0b5791e",
   "metadata": {},
   "source": [
    "Menyiapkan nilai varian."
   ]
  },
  {
   "cell_type": "code",
   "execution_count": 64,
   "id": "182af9da",
   "metadata": {
    "scrolled": true
   },
   "outputs": [
    {
     "data": {
      "text/plain": [
       "42652.56764785308"
      ]
     },
     "execution_count": 64,
     "metadata": {},
     "output_type": "execute_result"
    }
   ],
   "source": [
    "np.var(ultimate_part['duration_year_mean'])"
   ]
  },
  {
   "cell_type": "markdown",
   "id": "c4b62f93",
   "metadata": {},
   "source": [
    "Menyiapkan nilai rata-rata dan standar deviasi."
   ]
  },
  {
   "cell_type": "code",
   "execution_count": 65,
   "id": "25a8cc19",
   "metadata": {
    "scrolled": true
   },
   "outputs": [
    {
     "data": {
      "text/plain": [
       "count     161.000000\n",
       "mean      399.217391\n",
       "std       207.169366\n",
       "min         0.000000\n",
       "25%       261.000000\n",
       "50%       414.000000\n",
       "75%       512.000000\n",
       "max      1055.000000\n",
       "Name: duration_year_mean, dtype: float64"
      ]
     },
     "execution_count": 65,
     "metadata": {},
     "output_type": "execute_result"
    }
   ],
   "source": [
    "ultimate_part['duration_year_mean'].describe()"
   ]
  },
  {
   "cell_type": "code",
   "execution_count": 66,
   "id": "4a1e1c0a",
   "metadata": {
    "scrolled": false
   },
   "outputs": [
    {
     "data": {
      "image/png": "[encoded data removed]",
      "text/plain": [
       "<Figure size 640x480 with 1 Axes>"
      ]
     },
     "metadata": {},
     "output_type": "display_data"
    }
   ],
   "source": [
    "ultimate_part['duration_year_mean'].hist(bins=15)\n",
    "plt.title('Calls Duration Monthly - Ultimate')\n",
    "plt.show()"
   ]
  },
  {
   "cell_type": "markdown",
   "id": "3cdd4faa",
   "metadata": {},
   "source": [
    "Sebagian besar pengguna plan Ultimate melakukan call antara 200 dan 550 per bulan, dengan puncaknya di kisaran 400.\n",
    "Juga dapat terlihat potensi outlier di kisaran 750 ke atas, apabila outlier ini dihilangkan maka akan menghasilkan kemiringan ke kiri (negative skew)."
   ]
  },
  {
   "cell_type": "markdown",
   "id": "3a6e644c",
   "metadata": {},
   "source": [
    "#### Analisis Internet Session Monthly - Ultimate <a id='ultimate_gbdatapm'></a>"
   ]
  },
  {
   "cell_type": "markdown",
   "id": "8f30b73c",
   "metadata": {},
   "source": [
    "**Step 3.7** \n",
    "Mencari nilai varian, rata-rata, standar deviasi, serta membuat histogram dari pengguna plan **Ultimate** berdasarkan data 'gb_used'."
   ]
  },
  {
   "cell_type": "markdown",
   "id": "de417a25",
   "metadata": {},
   "source": [
    "Menyiapkan nilai varian."
   ]
  },
  {
   "cell_type": "code",
   "execution_count": 67,
   "id": "0915f9e6",
   "metadata": {
    "scrolled": true
   },
   "outputs": [
    {
     "data": {
      "text/plain": [
       "38.477142085567735"
      ]
     },
     "execution_count": 67,
     "metadata": {},
     "output_type": "execute_result"
    }
   ],
   "source": [
    "np.var(ultimate_part['gb_used_year_mean'])"
   ]
  },
  {
   "cell_type": "markdown",
   "id": "88b7817f",
   "metadata": {},
   "source": [
    "Menyiapkan nilai rata-rata dan standar deviasi."
   ]
  },
  {
   "cell_type": "code",
   "execution_count": 68,
   "id": "7f0eb02e",
   "metadata": {
    "scrolled": true
   },
   "outputs": [
    {
     "data": {
      "text/plain": [
       "count    161.000000\n",
       "mean      15.788820\n",
       "std        6.222349\n",
       "min        0.000000\n",
       "25%       12.000000\n",
       "50%       16.000000\n",
       "75%       19.000000\n",
       "max       35.000000\n",
       "Name: gb_used_year_mean, dtype: float64"
      ]
     },
     "execution_count": 68,
     "metadata": {},
     "output_type": "execute_result"
    }
   ],
   "source": [
    "ultimate_part['gb_used_year_mean'].describe()"
   ]
  },
  {
   "cell_type": "code",
   "execution_count": 69,
   "id": "5669a462",
   "metadata": {
    "scrolled": false
   },
   "outputs": [
    {
     "data": {
      "image/png": "[encoded data removed]",
      "text/plain": [
       "<Figure size 640x480 with 1 Axes>"
      ]
     },
     "metadata": {},
     "output_type": "display_data"
    }
   ],
   "source": [
    "ultimate_part['gb_used_year_mean'].hist(bins=15)\n",
    "plt.title('Internet Session Monthly - Ultimate')\n",
    "plt.show()"
   ]
  },
  {
   "cell_type": "markdown",
   "id": "b556fccc",
   "metadata": {},
   "source": [
    "Sebagian besar pengguna plan Ultimate memiliki puncak penggunaan pada kisaran 15GB per bulannya, dan secara umum penggunaan internet berada di kisaran 10GB hingga 20GB. Di sini juga teridentifikasi outlier di mana terdapat sekitar 8 orang menggunakan hanya 0 - 2 GB per bulannya, serta juga terdapat potensi outlier di mana sekitar 2 - 3 orang menggunakan internet hingga kisaran 35 GB.\n",
    "Antara rata-rata dan median tidak terlihat perbedaan yang signifikan sehingga dapat dikatakan histogram ini tidak memiliki kemiringan (skew)."
   ]
  },
  {
   "cell_type": "markdown",
   "id": "4839623f",
   "metadata": {},
   "source": [
    "#### Analisis Messages Made Monthly - Ultimate <a id='ultimate_messagespm'></a>"
   ]
  },
  {
   "cell_type": "markdown",
   "id": "5a62185a",
   "metadata": {},
   "source": [
    "**Step 3.8** \n",
    "Mencari nilai varian, rata-rata, standar deviasi, serta membuat histogram dari pengguna plan **Ultimate** berdasarkan data 'messages_made'."
   ]
  },
  {
   "cell_type": "markdown",
   "id": "479444e0",
   "metadata": {},
   "source": [
    "Menyiapkan nilai varian."
   ]
  },
  {
   "cell_type": "code",
   "execution_count": 70,
   "id": "aaf8f5ea",
   "metadata": {
    "scrolled": true
   },
   "outputs": [
    {
     "data": {
      "text/plain": [
       "1082.9569075267166"
      ]
     },
     "execution_count": 70,
     "metadata": {},
     "output_type": "execute_result"
    }
   ],
   "source": [
    "np.var(ultimate_part['messages_made_year_mean'])"
   ]
  },
  {
   "cell_type": "markdown",
   "id": "61181f5e",
   "metadata": {},
   "source": [
    "Menyiapkan nilai rata-rata dan standar deviasi."
   ]
  },
  {
   "cell_type": "code",
   "execution_count": 71,
   "id": "6814ba18",
   "metadata": {
    "scrolled": true
   },
   "outputs": [
    {
     "data": {
      "text/plain": [
       "count    161.000000\n",
       "mean      37.534161\n",
       "std       33.010989\n",
       "min        0.000000\n",
       "25%        9.000000\n",
       "50%       32.000000\n",
       "75%       60.000000\n",
       "max      148.000000\n",
       "Name: messages_made_year_mean, dtype: float64"
      ]
     },
     "execution_count": 71,
     "metadata": {},
     "output_type": "execute_result"
    }
   ],
   "source": [
    "ultimate_part['messages_made_year_mean'].describe()"
   ]
  },
  {
   "cell_type": "code",
   "execution_count": 72,
   "id": "80a76f9b",
   "metadata": {
    "scrolled": true
   },
   "outputs": [
    {
     "data": {
      "image/png": "[encoded data removed]",
      "text/plain": [
       "<Figure size 640x480 with 1 Axes>"
      ]
     },
     "metadata": {},
     "output_type": "display_data"
    }
   ],
   "source": [
    "ultimate_part['messages_made_year_mean'].hist(bins=15)\n",
    "plt.title('Messages made - Ultimate')\n",
    "plt.show()"
   ]
  },
  {
   "cell_type": "markdown",
   "id": "a88f417d",
   "metadata": {},
   "source": [
    "Seperti pada pengguna plan Surf, sebagian besar pengguna plan Ultimate juga hanya melakukan texting message pada kisaran 0 - 30 message saja tiap bulannya, dengan penggunaan tertinggi oleh pengguna plan Ultimate juga berada pada kisaran 10 message tiap bulannya. Juga terlihat bahwa semakin sedikit pengguna Ultimate yang melakukan texting messages untuk kebutuhan perpesanan, hanya menyisakan sekitar 2 - 3 orang saja yang intens menggunakan message. Dalam grafik juga teridentifikasi outlier di mana terdapat sekitar 2 - 3 orang menggunakan message di atas 130 message tiap bulannya. Secara umum histogram ini memiliki kemiringan ke kanan (positive skew)"
   ]
  },
  {
   "cell_type": "markdown",
   "id": "3bb288f5",
   "metadata": {},
   "source": [
    "### Kesimpulan <a id='analysis_conclusion'></a>"
   ]
  },
  {
   "cell_type": "markdown",
   "id": "5b42792c",
   "metadata": {},
   "source": [
    "Analisis perilaku pengguna untuk kedua plan telah dilakukan, dengan hasil sebagai berikut:\n",
    "* sebagian besar pengguna plan Surf melakukan call antara 200 dan 650 menit, dengan penggunaan data pada umumnya berkisar antara 10GB hingga 20GB, dan secara rata-rata mengirimkan 0 - 10 messages dalam sebulan.\n",
    "* sebagian besar pengguna plan Ultimate melakukan call antara 200 dan 550 menit, dengan penggunaan data pada umumnya berkisar antara 10GB hingga 20GB, dan secara rata-rata mengirimkan 0 - 10 messages dalam sebulan."
   ]
  },
  {
   "cell_type": "markdown",
   "id": "2ce360b8",
   "metadata": {},
   "source": [
    "[Kembali ke Daftar Isi](#back)"
   ]
  },
  {
   "cell_type": "markdown",
   "id": "4e0e50f6",
   "metadata": {},
   "source": [
    "## Pengujian Hipotesis <a name='hypothesis_test'></a>"
   ]
  },
  {
   "cell_type": "markdown",
   "id": "bd25ba8b",
   "metadata": {},
   "source": [
    "### Uji Hipotesis 1: \"Rata-rata pendapatan dari pengguna paket telepon Ultimate dan Surf berbeda\" <a id='test_1'></a>"
   ]
  },
  {
   "cell_type": "markdown",
   "id": "3db707de",
   "metadata": {},
   "source": [
    "Melakukan pengujian hipotesis apakah Rata-rata pendapatan dari pengguna paket telepon Ultimate dan Surf berbeda.\n",
    "\n",
    "Hipotesis ditetapkan sebagai berikut:\n",
    "\n",
    "* H0: Rata-rata pendapatan dari pengguna paket telepon Ultimate dan Surf tidak sama\n",
    "* H1: Rata-rata pendapatan dari pengguna paket telepon Ultimate dan Surf sama\n",
    "\n",
    "Pengujian dilakukan dengan menggunakan t-test Pengujian Hipotesis Persamaan Rata-Rata Dua Populasi, yakni dengan menggunakan use metode st.ttest_ind(). \n",
    "\n",
    "Fungsi penghitungan akan menghasilkan p-value yang akan dibandingkan dengan alpha yang ditetapkan sebesar 0.05 yang berfungsi sebagai threshold untuk dapat menyimpulkan apakah hipotesis nol diterima (p-value lebih kecil dari alpha) atau ditolak (p-value lebih besar dari alpha).\n",
    "\n",
    "Sebelum melakukan pengujian, perlu dipastikan untuk nilai varian kedua data berbeda nilainya. Sebagai objek pengujian adalah kolom monthly_profit baik dari Surf maupun Ultimate yang telah tersedia dari proses sebelumnya."
   ]
  },
  {
   "cell_type": "markdown",
   "id": "773b3ac4",
   "metadata": {},
   "source": [
    "**Step 4.1**\n",
    "Menghitung varian untuk kedua data yang akan dilakukan pengujian"
   ]
  },
  {
   "cell_type": "code",
   "execution_count": 73,
   "id": "ec4e23df",
   "metadata": {
    "scrolled": true
   },
   "outputs": [
    {
     "data": {
      "text/plain": [
       "19.226804521430356"
      ]
     },
     "execution_count": 73,
     "metadata": {},
     "output_type": "execute_result"
    }
   ],
   "source": [
    "np.var(ultimate_part['profit_year_mean'])"
   ]
  },
  {
   "cell_type": "code",
   "execution_count": 74,
   "id": "0c995911",
   "metadata": {
    "scrolled": true
   },
   "outputs": [
    {
     "data": {
      "text/plain": [
       "459.5064087503585"
      ]
     },
     "execution_count": 74,
     "metadata": {},
     "output_type": "execute_result"
    }
   ],
   "source": [
    "np.var(surf_part['profit_year_mean'])"
   ]
  },
  {
   "cell_type": "markdown",
   "id": "3ce043e6",
   "metadata": {},
   "source": [
    "**Catatan**\n",
    "\n",
    "Nilai varian kedua data cukup jauh perbedaannya yang artinya pengujian dapat dilanjutkan."
   ]
  },
  {
   "cell_type": "markdown",
   "id": "2531691e",
   "metadata": {},
   "source": [
    "**Step 4.2**\n",
    "Melakukan pengujian hipotesis dengan menggunakan metode st.ttest_ind() dengan nilai alpha 0.05"
   ]
  },
  {
   "cell_type": "code",
   "execution_count": 75,
   "id": "38a4d841",
   "metadata": {},
   "outputs": [
    {
     "name": "stdout",
     "output_type": "stream",
     "text": [
      "p-value: 2.389855634561327e-29\n",
      "Rata-rata pendapatan dari pengguna paket telepon Ultimate dan Surf tidak sama\n"
     ]
    }
   ],
   "source": [
    "alpha = 0.05\n",
    "results = st.ttest_ind(ultimate_part['profit_year_mean'], surf_part['profit_year_mean'], equal_var=False)\n",
    "print('p-value:', results.pvalue)\n",
    "\n",
    "if results.pvalue < alpha:\n",
    "    print('Rata-rata pendapatan dari pengguna paket telepon Ultimate dan Surf tidak sama')\n",
    "else:\n",
    "    print('Rata-rata pendapatan dari pengguna paket telepon Ultimate dan Surf sama')"
   ]
  },
  {
   "cell_type": "markdown",
   "id": "0a996b34",
   "metadata": {},
   "source": [
    "**Hasil**\n",
    "\n",
    "Nilai p-value jauh lebih kecil daripada alpha yang artinya hipotesis nol tidak dapat ditolak atau hipotesis nol diterima yakni bahwa Rata-rata pendapatan dari pengguna paket telepon Ultimate dan Surf tidak sama. "
   ]
  },
  {
   "cell_type": "markdown",
   "id": "e503711c",
   "metadata": {},
   "source": [
    "### Uji Hipotesis 2: \"Rata-rata pendapatan dari pengguna di wilayah NY-NJ berbeda dengan pendapatan pengguna dari wilayah lain\" <a id='test_2'></a>"
   ]
  },
  {
   "cell_type": "markdown",
   "id": "fe8c8621",
   "metadata": {},
   "source": [
    "Melakukan pengujian hipotesis apakah Rata-rata pendapatan dari pengguna di wilayah NY-NJ berbeda dengan pendapatan pengguna dari wilayah lain.\n",
    "\n",
    "Hipotesis ditetapkan sebagai berikut:\n",
    "\n",
    "* H0: Rata-rata pendapatan dari pengguna di wilayah NY-NJ berbeda dengan pendapatan pengguna dari wilayah lain tidak sama\n",
    "* H1: Rata-rata pendapatan dari pengguna di wilayah NY-NJ berbeda dengan pendapatan pengguna dari wilayah lain sama\n",
    "\n",
    "Pengujian dilakukan dengan menggunakan t-test Pengujian Hipotesis Persamaan Rata-Rata Dua Populasi, yakni dengan menggunakan use metode st.ttest_ind(). \n",
    "\n",
    "Fungsi penghitungan akan menghasilkan p-value yang akan dibandingkan dengan alpha yang ditetapkan sebesar 0.05 yang berfungsi sebagai threshold untuk dapat menyimpulkan apakah hipotesis nol diterima (p-value lebih kecil dari alpha) atau ditolak (p-value lebih besar dari alpha).\n",
    "\n",
    "Sebelum melakukan pengujian, perlu dipastikan untuk nilai varian kedua data berbeda nilainya. Sebagai objek pengujian adalah kolom monthly_profit yang memerlukan proses pemilahan terlebih dahulu.\n",
    "\n",
    "Jadi perlu dibuat terlebih dahulu tabel tersendiri dari user_stats di mana kolom 'region' = ny-nj dan kolom 'region' = other."
   ]
  },
  {
   "cell_type": "markdown",
   "id": "38837bf6",
   "metadata": {},
   "source": [
    "**Step 4.3**\n",
    "Membuat tabel tersendiri dari user_stats di mana kolom 'region' = \"ny-nj\" dan kolom 'region' = \"other\""
   ]
  },
  {
   "cell_type": "code",
   "execution_count": 76,
   "id": "e3083cdb",
   "metadata": {
    "scrolled": true
   },
   "outputs": [
    {
     "name": "stdout",
     "output_type": "stream",
     "text": [
      "<class 'pandas.core.frame.DataFrame'>\n",
      "Index: 80 entries, 14 to 498\n",
      "Data columns (total 16 columns):\n",
      " #   Column                   Non-Null Count  Dtype   \n",
      "---  ------                   --------------  -----   \n",
      " 0   user_id                  80 non-null     int64   \n",
      " 1   first_name               80 non-null     object  \n",
      " 2   last_name                80 non-null     object  \n",
      " 3   city                     80 non-null     object  \n",
      " 4   plan                     80 non-null     category\n",
      " 5   calls_made_year_sum      80 non-null     float64 \n",
      " 6   calls_made_year_mean     80 non-null     float64 \n",
      " 7   duration_year_sum        80 non-null     float64 \n",
      " 8   duration_year_mean       80 non-null     float64 \n",
      " 9   gb_used_year_sum         80 non-null     float64 \n",
      " 10  gb_used_year_mean        80 non-null     float64 \n",
      " 11  messages_made_year_sum   80 non-null     float64 \n",
      " 12  messages_made_year_mean  80 non-null     float64 \n",
      " 13  profit_year_sum          80 non-null     float64 \n",
      " 14  profit_year_mean         80 non-null     float64 \n",
      " 15  region                   80 non-null     category\n",
      "dtypes: category(2), float64(10), int64(1), object(3)\n",
      "memory usage: 9.8+ KB\n"
     ]
    }
   ],
   "source": [
    "nynj_part = user_stats_year.query('region == \"ny-nj\"')\n",
    "nynj_part.info()"
   ]
  },
  {
   "cell_type": "code",
   "execution_count": 77,
   "id": "b0426fe2",
   "metadata": {
    "scrolled": true
   },
   "outputs": [
    {
     "name": "stdout",
     "output_type": "stream",
     "text": [
      "<class 'pandas.core.frame.DataFrame'>\n",
      "Index: 420 entries, 0 to 499\n",
      "Data columns (total 16 columns):\n",
      " #   Column                   Non-Null Count  Dtype   \n",
      "---  ------                   --------------  -----   \n",
      " 0   user_id                  420 non-null    int64   \n",
      " 1   first_name               420 non-null    object  \n",
      " 2   last_name                420 non-null    object  \n",
      " 3   city                     420 non-null    object  \n",
      " 4   plan                     420 non-null    category\n",
      " 5   calls_made_year_sum      420 non-null    float64 \n",
      " 6   calls_made_year_mean     420 non-null    float64 \n",
      " 7   duration_year_sum        420 non-null    float64 \n",
      " 8   duration_year_mean       420 non-null    float64 \n",
      " 9   gb_used_year_sum         420 non-null    float64 \n",
      " 10  gb_used_year_mean        420 non-null    float64 \n",
      " 11  messages_made_year_sum   420 non-null    float64 \n",
      " 12  messages_made_year_mean  420 non-null    float64 \n",
      " 13  profit_year_sum          420 non-null    float64 \n",
      " 14  profit_year_mean         420 non-null    float64 \n",
      " 15  region                   420 non-null    category\n",
      "dtypes: category(2), float64(10), int64(1), object(3)\n",
      "memory usage: 50.3+ KB\n"
     ]
    }
   ],
   "source": [
    "other_part = user_stats_year.query('region == \"other\"')\n",
    "other_part.info()"
   ]
  },
  {
   "cell_type": "markdown",
   "id": "50ce1b34",
   "metadata": {},
   "source": [
    "**Step 4.4**\n",
    "Menghitung varian untuk kedua data yang akan dilakukan pengujian"
   ]
  },
  {
   "cell_type": "code",
   "execution_count": 78,
   "id": "cb81fe97",
   "metadata": {},
   "outputs": [
    {
     "data": {
      "text/plain": [
       "284.16859375000007"
      ]
     },
     "execution_count": 78,
     "metadata": {},
     "output_type": "execute_result"
    }
   ],
   "source": [
    "np.var(nynj_part['profit_year_mean'])"
   ]
  },
  {
   "cell_type": "code",
   "execution_count": 79,
   "id": "75340ce5",
   "metadata": {
    "scrolled": true
   },
   "outputs": [
    {
     "data": {
      "text/plain": [
       "381.1928061224475"
      ]
     },
     "execution_count": 79,
     "metadata": {},
     "output_type": "execute_result"
    }
   ],
   "source": [
    "np.var(other_part['profit_year_mean'])"
   ]
  },
  {
   "cell_type": "markdown",
   "id": "b31807ef",
   "metadata": {},
   "source": [
    "**Catatan**\n",
    "\n",
    "Nilai varian kedua data berbeda yang artinya pengujian dapat dilanjutkan."
   ]
  },
  {
   "cell_type": "code",
   "execution_count": 80,
   "id": "2976c2a4",
   "metadata": {
    "scrolled": true
   },
   "outputs": [
    {
     "name": "stdout",
     "output_type": "stream",
     "text": [
      "p-value: 0.46517357376401225\n",
      "Rata-rata pendapatan dari pengguna di wilayah NY-NJ berbeda dengan pendapatan pengguna dari wilayah lain sama\n"
     ]
    }
   ],
   "source": [
    "alpha = 0.05\n",
    "results = st.ttest_ind(nynj_part['profit_year_mean'], other_part['profit_year_mean'], equal_var=False)\n",
    "print('p-value:', results.pvalue)\n",
    "\n",
    "if results.pvalue < alpha:\n",
    "    print('Rata-rata pendapatan dari pengguna di wilayah NY-NJ berbeda dengan pendapatan pengguna dari wilayah lain tidak sama')\n",
    "else:\n",
    "    print('Rata-rata pendapatan dari pengguna di wilayah NY-NJ berbeda dengan pendapatan pengguna dari wilayah lain sama')"
   ]
  },
  {
   "cell_type": "markdown",
   "id": "4ecfdc87",
   "metadata": {},
   "source": [
    "**Hasil**\n",
    "\n",
    "Nilai p-value lebih besar daripada alpha yang artinya hipotesis nol ditolak yang berarti Rata-rata pendapatan dari pengguna di wilayah NY-NJ sama dengan pendapatan pengguna dari wilayah lain."
   ]
  },
  {
   "cell_type": "markdown",
   "id": "3a86a0f5",
   "metadata": {},
   "source": [
    "## Temuan <a name='end'></a>"
   ]
  },
  {
   "cell_type": "markdown",
   "id": "849ac339",
   "metadata": {},
   "source": [
    "Dari analisis calls duration monthly, internet session monthly, dan message made monthly dari pengguna untuk kedua plan, Surf dan Ultimate, ditemukan bahwa:\n",
    "* Sebagian besar pengguna plan Surf melakukan call antara 200 dan 650 menit, dengan penggunaan data pada umumnya berkisar antara 30GB hingga 50GB, dan secara rata-rata mengirimkan 0 - 10 messages dalam sebulan.\n",
    "* Sebagian besar pengguna plan Ultimate melakukan call antara 200 dan 550 menit, dengan penggunaan data pada umumnya berkisar antara 30GB hingga 50GB, dan secara rata-rata mengirimkan 0 - 10 messages dalam sebulan.\n",
    "\n",
    "Dari pengujian hipotesis t-test ditemukan bahwa:\n",
    "* Rata-rata pendapatan dari pengguna paket telepon Ultimate dan Surf berbeda (hipotesis nol diterima)\n",
    "* Rata-rata pendapatan dari pengguna di wilayah NY-NJ sama dengan pendapatan pengguna dari wilayah lain (hipotesis nol ditolak)"
   ]
  },
  {
   "cell_type": "markdown",
   "id": "bcc8a0a7",
   "metadata": {},
   "source": [
    "[Kembali ke Daftar Isi](#back)"
   ]
  }
 ],
 "metadata": {
  "kernelspec": {
   "display_name": "Python 3 (ipykernel)",
   "language": "python",
   "name": "python3"
  },
  "language_info": {
   "codemirror_mode": {
    "name": "ipython",
    "version": 3
   },
   "file_extension": ".py",
   "mimetype": "text/x-python",
   "name": "python",
   "nbconvert_exporter": "python",
   "pygments_lexer": "ipython3",
   "version": "3.11.5"
  },
  "toc": {
   "base_numbering": 1,
   "nav_menu": {},
   "number_sections": true,
   "sideBar": true,
   "skip_h1_title": true,
   "title_cell": "Table of Contents",
   "title_sidebar": "Contents",
   "toc_cell": false,
   "toc_position": {},
   "toc_section_display": true,
   "toc_window_display": false
  }
 },
 "nbformat": 4,
 "nbformat_minor": 5
}
