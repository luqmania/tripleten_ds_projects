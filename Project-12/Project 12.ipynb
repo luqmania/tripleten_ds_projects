{
 "cells": [
  {
   "cell_type": "markdown",
   "metadata": {},
   "source": [
    "# Perusahaan jual-beli mobil bekas Rusty Bargain"
   ]
  },
  {
   "cell_type": "markdown",
   "metadata": {},
   "source": [
    "# Daftar Isi <a id='back'></a>\n",
    "\n",
    "* [Pendahuluan](#intro)\n",
    "\n",
    "* [Tahap 1. Ikhtisar Data](#data_review)\n",
    "    * [1.1 Load data dan mendapatkan gambaran umum](#datarev_1)\n",
    "    * [1.2 Memeriksa tipe data](#datarev_2)\n",
    "    * [1.3 Memeriksa nilai yang hilang](#datarev_3)\n",
    "    * [1.4 Memeriksa nilai yang terduplikasi](#datarev_4)\n",
    "    * [1.5 Memeriksa gambaran seluruh kolom](#datarev_5)\n",
    "    * [1.6 Memeriksa rincian data pada tiap kolom](#datarev_6)\n",
    "    * [1.7 Kesimpulan](#datarev_conclusion)\n",
    "\n",
    "* [Tahap 2. Pra-pemrosesan data](#data_preprocessing)\n",
    "    * [2.1 Menghapus kolom yang tidak diperlukan](#dataprep_1)\n",
    "    * [2.2 Menangani missing value dan nilai yang tidak proper](#dataprep_2)\n",
    "    * [2.3 Menangani duplicated value](#dataprep_3)\n",
    "    * [2.4 Mempersiapkan data untuk train model](#dataprep_4)\n",
    "    * [2.5 Kesimpulan](#dataprep_conclusion)    \n",
    "    \n",
    "* [Tahap 3. Analisis](#analysis)\n",
    "    * [3.1 Train Model](#analysis_1)\n",
    "    * [3.1.1 Model Linear Regression](#analysis_1_1)\n",
    "    * [3.1.2 Model Decision Tree Regressor](#analysis_1_2)\n",
    "    * [3.1.3 Model Random Forest Regressor](#analysis_1_3)\n",
    "    * [3.1.4 Model LGBM Regressor](#analysis_1_4)\n",
    "    * [3.1.5 Model Cat Boost Regressor](#analysis_1_5)\n",
    "    * [3.1.6 XGB Regressor](#analysis_1_6)\n",
    "    * [3.2 Kesimpulan](#analysis_conclusion)\n",
    "\n",
    "* [Tahap 4. Pengujian](#test)\n",
    "    * [4.1 Kesimpulan](#test_conclusion)\n",
    "\n",
    "* [Temuan](#end)"
   ]
  },
  {
   "cell_type": "markdown",
   "metadata": {},
   "source": [
    "[Kembali ke Daftar Isi](#back)"
   ]
  },
  {
   "cell_type": "markdown",
   "metadata": {},
   "source": [
    "# Pendahuluan <a id='intro'></a>\n",
    "\n",
    "Rusty Bargain adalah perusahaan jual beli mobil bekas yang sedang mengembangkan sebuah aplikasi untuk menarik pembeli baru. Dalam aplikasi tersebut, peneliti bisa dengan cepat mengetahui nilai pasar mobil. Peneliti memiliki akses ke data historis, spesifikasi teknis kendaraan, versi model kendaraan, dan harga kendaraan. Rusty Bargain tertarik pada:\n",
    "- kualitas prediksi\n",
    "- kecepatan prediksi\n",
    "- waktu yang diperlukan untuk melatih model\n",
    "\n",
    "\n",
    "### Tujuan: \n",
    "Pada kasus ini, tugas peneliti adalah membuat suatu model yang mampu menentukan nilai pasar mobil.\n",
    "\n",
    "\n",
    "### Tahapan:\n",
    "Peneliti memiliki data terkait para klien yang disimpan dalam *file*:\n",
    "- /datasets/car_data.csv\n",
    "\n",
    "**Fitur**\n",
    "- DateCrawled — tanggal ketika profil diunduh dari database\n",
    "- VehicleType — jenis bodi kendaraan\n",
    "- RegistrationYear — tahun registrasi kendaraan\n",
    "- Gearbox — jenis transmisi\n",
    "- Power — daya (hp)\n",
    "- Model — model kendaraan\n",
    "- Mileage — jarak tempuh (diukur dalam satuan km berdasarkan dataset regional tertentu)\n",
    "- RegistrationMonth — bulan registrasi kendaraan\n",
    "- FuelType — jenis bahan bakar\n",
    "- Brand — merek kendaraan\n",
    "- NotRepaired — apakah kendaraan pernah direparasi sebelumnya\n",
    "- DateCreated — tanggal pembuatan profil\n",
    "- NumberOfPictures — jumlah gambar kendaraan\n",
    "- PostalCode — kode pos pemilik profil (pengguna)\n",
    "- LastSeen — tanggal aktivitas terakhir pengguna\n",
    "\n",
    "**Target**\n",
    "- Price — harga (dalam satuan Euro)\n",
    "\n",
    "\n",
    "Tidak ada informasi terkait kualitas data tersebut, jadi perlu diperiksa terlebih dahulu sebelum melakukan analisis lebih lanjut.\n",
    "\n",
    "Pertama akan dilakukan evaluasi kualitas data dan melihat apakah terdapat hal yang signifikan yang perlu dilakukan tindak lanjut sebelum dilakukan proses analisis.\n",
    "\n",
    "Proyek ini akan terdiri dari empat tahap:\n",
    " 1. Ikhtisar Data\n",
    " 2. Pra-pemrosesan Data \n",
    " 3. Analisis\n",
    " 4. Pengujian"
   ]
  },
  {
   "cell_type": "markdown",
   "metadata": {},
   "source": [
    "[Kembali ke Daftar Isi](#back)"
   ]
  },
  {
   "cell_type": "markdown",
   "metadata": {},
   "source": [
    "\n",
    "# Tahap 1. Ikhtisar Data <a id='data_review'></a>"
   ]
  },
  {
   "cell_type": "markdown",
   "metadata": {},
   "source": [
    "Melakukan import library yang diperlukan, membuka data terkait yang akan dievaluasi, kemudian menjelajahi data tersebut."
   ]
  },
  {
   "cell_type": "markdown",
   "metadata": {},
   "source": [
    "**Step 1.1**\n",
    "Melakukan import libraries dan modules yang diperlukan. Untuk libraries catboost, lightgbm, dan xgboost, perlu diinstall terlebih dahulu."
   ]
  },
  {
   "cell_type": "code",
   "execution_count": 1,
   "metadata": {},
   "outputs": [],
   "source": [
    "import numpy as np\n",
    "import pandas as pd\n",
    "import seaborn as sns\n",
    "import matplotlib.pyplot as plt\n",
    "import math\n",
    "import time\n",
    "from scipy import stats as st\n",
    "from sklearn.utils import shuffle\n",
    "from sklearn.model_selection import train_test_split, GridSearchCV\n",
    "from sklearn.tree import DecisionTreeClassifier, DecisionTreeRegressor\n",
    "from sklearn.ensemble import RandomForestClassifier, RandomForestRegressor\n",
    "from sklearn.linear_model import LogisticRegression, LinearRegression\n",
    "from sklearn.metrics import accuracy_score, confusion_matrix, f1_score, recall_score\n",
    "from sklearn.metrics import mean_squared_error, r2_score, mean_absolute_error, precision_score \n",
    "from sklearn.metrics import roc_auc_score, precision_recall_curve, roc_curve\n",
    "from sklearn.preprocessing import OrdinalEncoder, StandardScaler\n",
    "from catboost import CatBoostClassifier,CatBoostRegressor\n",
    "from lightgbm import LGBMRegressor\n",
    "from xgboost import XGBRegressor"
   ]
  },
  {
   "cell_type": "markdown",
   "metadata": {},
   "source": [
    "## Load data dan mendapatkan gambaran umum <a name='datarev_1'></a>"
   ]
  },
  {
   "cell_type": "markdown",
   "metadata": {},
   "source": [
    "**Step 1.2**\n",
    "Melakukan load data yang diperlukan dari file *car_data.csv* dan menyimpan ke\n",
    "dalam dataframe df"
   ]
  },
  {
   "cell_type": "code",
   "execution_count": 2,
   "metadata": {},
   "outputs": [
    {
     "data": {
      "text/plain": [
       "(354369, 16)"
      ]
     },
     "execution_count": 2,
     "metadata": {},
     "output_type": "execute_result"
    }
   ],
   "source": [
    "try:\n",
    "    df = pd.read_csv('car_data.csv')\n",
    "except:\n",
    "    df = pd.read_csv('/datasets/car_data.csv')\n",
    "#membaca file csv dan konversi ke dataframe df\n",
    "\n",
    "df.shape\n",
    "#melihat ukuran dataframe df"
   ]
  },
  {
   "cell_type": "code",
   "execution_count": 3,
   "metadata": {},
   "outputs": [
    {
     "data": {
      "text/html": [
       "<div>\n",
       "<style scoped>\n",
       "    .dataframe tbody tr th:only-of-type {\n",
       "        vertical-align: middle;\n",
       "    }\n",
       "\n",
       "    .dataframe tbody tr th {\n",
       "        vertical-align: top;\n",
       "    }\n",
       "\n",
       "    .dataframe thead th {\n",
       "        text-align: right;\n",
       "    }\n",
       "</style>\n",
       "<table border=\"1\" class=\"dataframe\">\n",
       "  <thead>\n",
       "    <tr style=\"text-align: right;\">\n",
       "      <th></th>\n",
       "      <th>DateCrawled</th>\n",
       "      <th>Price</th>\n",
       "      <th>VehicleType</th>\n",
       "      <th>RegistrationYear</th>\n",
       "      <th>Gearbox</th>\n",
       "      <th>Power</th>\n",
       "      <th>Model</th>\n",
       "      <th>Mileage</th>\n",
       "      <th>RegistrationMonth</th>\n",
       "      <th>FuelType</th>\n",
       "      <th>Brand</th>\n",
       "      <th>NotRepaired</th>\n",
       "      <th>DateCreated</th>\n",
       "      <th>NumberOfPictures</th>\n",
       "      <th>PostalCode</th>\n",
       "      <th>LastSeen</th>\n",
       "    </tr>\n",
       "  </thead>\n",
       "  <tbody>\n",
       "    <tr>\n",
       "      <th>0</th>\n",
       "      <td>24/03/2016 11:52</td>\n",
       "      <td>480</td>\n",
       "      <td>NaN</td>\n",
       "      <td>1993</td>\n",
       "      <td>manual</td>\n",
       "      <td>0</td>\n",
       "      <td>golf</td>\n",
       "      <td>150000</td>\n",
       "      <td>0</td>\n",
       "      <td>petrol</td>\n",
       "      <td>volkswagen</td>\n",
       "      <td>NaN</td>\n",
       "      <td>24/03/2016 00:00</td>\n",
       "      <td>0</td>\n",
       "      <td>70435</td>\n",
       "      <td>07/04/2016 03:16</td>\n",
       "    </tr>\n",
       "    <tr>\n",
       "      <th>1</th>\n",
       "      <td>24/03/2016 10:58</td>\n",
       "      <td>18300</td>\n",
       "      <td>coupe</td>\n",
       "      <td>2011</td>\n",
       "      <td>manual</td>\n",
       "      <td>190</td>\n",
       "      <td>NaN</td>\n",
       "      <td>125000</td>\n",
       "      <td>5</td>\n",
       "      <td>gasoline</td>\n",
       "      <td>audi</td>\n",
       "      <td>yes</td>\n",
       "      <td>24/03/2016 00:00</td>\n",
       "      <td>0</td>\n",
       "      <td>66954</td>\n",
       "      <td>07/04/2016 01:46</td>\n",
       "    </tr>\n",
       "    <tr>\n",
       "      <th>2</th>\n",
       "      <td>14/03/2016 12:52</td>\n",
       "      <td>9800</td>\n",
       "      <td>suv</td>\n",
       "      <td>2004</td>\n",
       "      <td>auto</td>\n",
       "      <td>163</td>\n",
       "      <td>grand</td>\n",
       "      <td>125000</td>\n",
       "      <td>8</td>\n",
       "      <td>gasoline</td>\n",
       "      <td>jeep</td>\n",
       "      <td>NaN</td>\n",
       "      <td>14/03/2016 00:00</td>\n",
       "      <td>0</td>\n",
       "      <td>90480</td>\n",
       "      <td>05/04/2016 12:47</td>\n",
       "    </tr>\n",
       "    <tr>\n",
       "      <th>3</th>\n",
       "      <td>17/03/2016 16:54</td>\n",
       "      <td>1500</td>\n",
       "      <td>small</td>\n",
       "      <td>2001</td>\n",
       "      <td>manual</td>\n",
       "      <td>75</td>\n",
       "      <td>golf</td>\n",
       "      <td>150000</td>\n",
       "      <td>6</td>\n",
       "      <td>petrol</td>\n",
       "      <td>volkswagen</td>\n",
       "      <td>no</td>\n",
       "      <td>17/03/2016 00:00</td>\n",
       "      <td>0</td>\n",
       "      <td>91074</td>\n",
       "      <td>17/03/2016 17:40</td>\n",
       "    </tr>\n",
       "    <tr>\n",
       "      <th>4</th>\n",
       "      <td>31/03/2016 17:25</td>\n",
       "      <td>3600</td>\n",
       "      <td>small</td>\n",
       "      <td>2008</td>\n",
       "      <td>manual</td>\n",
       "      <td>69</td>\n",
       "      <td>fabia</td>\n",
       "      <td>90000</td>\n",
       "      <td>7</td>\n",
       "      <td>gasoline</td>\n",
       "      <td>skoda</td>\n",
       "      <td>no</td>\n",
       "      <td>31/03/2016 00:00</td>\n",
       "      <td>0</td>\n",
       "      <td>60437</td>\n",
       "      <td>06/04/2016 10:17</td>\n",
       "    </tr>\n",
       "  </tbody>\n",
       "</table>\n",
       "</div>"
      ],
      "text/plain": [
       "        DateCrawled  Price VehicleType  RegistrationYear Gearbox  Power  \\\n",
       "0  24/03/2016 11:52    480         NaN              1993  manual      0   \n",
       "1  24/03/2016 10:58  18300       coupe              2011  manual    190   \n",
       "2  14/03/2016 12:52   9800         suv              2004    auto    163   \n",
       "3  17/03/2016 16:54   1500       small              2001  manual     75   \n",
       "4  31/03/2016 17:25   3600       small              2008  manual     69   \n",
       "\n",
       "   Model  Mileage  RegistrationMonth  FuelType       Brand NotRepaired  \\\n",
       "0   golf   150000                  0    petrol  volkswagen         NaN   \n",
       "1    NaN   125000                  5  gasoline        audi         yes   \n",
       "2  grand   125000                  8  gasoline        jeep         NaN   \n",
       "3   golf   150000                  6    petrol  volkswagen          no   \n",
       "4  fabia    90000                  7  gasoline       skoda          no   \n",
       "\n",
       "        DateCreated  NumberOfPictures  PostalCode          LastSeen  \n",
       "0  24/03/2016 00:00                 0       70435  07/04/2016 03:16  \n",
       "1  24/03/2016 00:00                 0       66954  07/04/2016 01:46  \n",
       "2  14/03/2016 00:00                 0       90480  05/04/2016 12:47  \n",
       "3  17/03/2016 00:00                 0       91074  17/03/2016 17:40  \n",
       "4  31/03/2016 00:00                 0       60437  06/04/2016 10:17  "
      ]
     },
     "execution_count": 3,
     "metadata": {},
     "output_type": "execute_result"
    }
   ],
   "source": [
    "df.head() \n",
    "#melihat 5 baris awal dari dataframe df"
   ]
  },
  {
   "cell_type": "code",
   "execution_count": 4,
   "metadata": {},
   "outputs": [
    {
     "name": "stdout",
     "output_type": "stream",
     "text": [
      "<class 'pandas.core.frame.DataFrame'>\n",
      "RangeIndex: 354369 entries, 0 to 354368\n",
      "Data columns (total 16 columns):\n",
      " #   Column             Non-Null Count   Dtype \n",
      "---  ------             --------------   ----- \n",
      " 0   DateCrawled        354369 non-null  object\n",
      " 1   Price              354369 non-null  int64 \n",
      " 2   VehicleType        316879 non-null  object\n",
      " 3   RegistrationYear   354369 non-null  int64 \n",
      " 4   Gearbox            334536 non-null  object\n",
      " 5   Power              354369 non-null  int64 \n",
      " 6   Model              334664 non-null  object\n",
      " 7   Mileage            354369 non-null  int64 \n",
      " 8   RegistrationMonth  354369 non-null  int64 \n",
      " 9   FuelType           321474 non-null  object\n",
      " 10  Brand              354369 non-null  object\n",
      " 11  NotRepaired        283215 non-null  object\n",
      " 12  DateCreated        354369 non-null  object\n",
      " 13  NumberOfPictures   354369 non-null  int64 \n",
      " 14  PostalCode         354369 non-null  int64 \n",
      " 15  LastSeen           354369 non-null  object\n",
      "dtypes: int64(7), object(9)\n",
      "memory usage: 43.3+ MB\n"
     ]
    }
   ],
   "source": [
    "df.info() #general info"
   ]
  },
  {
   "cell_type": "markdown",
   "metadata": {},
   "source": [
    "## Memeriksa tipe data <a name='datarev_2'></a>"
   ]
  },
  {
   "cell_type": "markdown",
   "metadata": {},
   "source": [
    "**Step 1.3**\n",
    "Melihat tipe data seluruh kolom dalam dataframe df untuk memeriksa kesuaian tipe data dengan isi data"
   ]
  },
  {
   "cell_type": "code",
   "execution_count": 5,
   "metadata": {
    "scrolled": true
   },
   "outputs": [
    {
     "data": {
      "text/plain": [
       "DateCrawled          object\n",
       "Price                 int64\n",
       "VehicleType          object\n",
       "RegistrationYear      int64\n",
       "Gearbox              object\n",
       "Power                 int64\n",
       "Model                object\n",
       "Mileage               int64\n",
       "RegistrationMonth     int64\n",
       "FuelType             object\n",
       "Brand                object\n",
       "NotRepaired          object\n",
       "DateCreated          object\n",
       "NumberOfPictures      int64\n",
       "PostalCode            int64\n",
       "LastSeen             object\n",
       "dtype: object"
      ]
     },
     "execution_count": 5,
     "metadata": {},
     "output_type": "execute_result"
    }
   ],
   "source": [
    "df.dtypes"
   ]
  },
  {
   "cell_type": "markdown",
   "metadata": {},
   "source": [
    "Terlihat bahwa tipe data DateCrawled, Data Created, dan Last Seen yang merupakan data tanggal perlu diubah ke tipe data datetime. "
   ]
  },
  {
   "cell_type": "markdown",
   "metadata": {},
   "source": [
    "## Memeriksa nilai yang hilang <a name='datarev_3'></a>"
   ]
  },
  {
   "cell_type": "markdown",
   "metadata": {},
   "source": [
    "**Step 1.4**\n",
    "Melakukan pemeriksaan missing value pada dataframe df"
   ]
  },
  {
   "cell_type": "code",
   "execution_count": 6,
   "metadata": {},
   "outputs": [
    {
     "data": {
      "text/plain": [
       "DateCrawled              0\n",
       "Price                    0\n",
       "VehicleType          37490\n",
       "RegistrationYear         0\n",
       "Gearbox              19833\n",
       "Power                    0\n",
       "Model                19705\n",
       "Mileage                  0\n",
       "RegistrationMonth        0\n",
       "FuelType             32895\n",
       "Brand                    0\n",
       "NotRepaired          71154\n",
       "DateCreated              0\n",
       "NumberOfPictures         0\n",
       "PostalCode               0\n",
       "LastSeen                 0\n",
       "dtype: int64"
      ]
     },
     "execution_count": 6,
     "metadata": {},
     "output_type": "execute_result"
    }
   ],
   "source": [
    "missing_values = df.isna().sum()\n",
    "missing_values"
   ]
  },
  {
   "cell_type": "code",
   "execution_count": 7,
   "metadata": {},
   "outputs": [
    {
     "data": {
      "text/plain": [
       "DateCrawled           0.000000\n",
       "Price                 0.000000\n",
       "VehicleType          10.579368\n",
       "RegistrationYear      0.000000\n",
       "Gearbox               5.596709\n",
       "Power                 0.000000\n",
       "Model                 5.560588\n",
       "Mileage               0.000000\n",
       "RegistrationMonth     0.000000\n",
       "FuelType              9.282697\n",
       "Brand                 0.000000\n",
       "NotRepaired          20.079070\n",
       "DateCreated           0.000000\n",
       "NumberOfPictures      0.000000\n",
       "PostalCode            0.000000\n",
       "LastSeen              0.000000\n",
       "dtype: float64"
      ]
     },
     "execution_count": 7,
     "metadata": {},
     "output_type": "execute_result"
    }
   ],
   "source": [
    "missing_percent = df.isna().sum()/len(df) * 100\n",
    "missing_percent"
   ]
  },
  {
   "cell_type": "code",
   "execution_count": 8,
   "metadata": {},
   "outputs": [
    {
     "data": {
      "text/html": [
       "<div>\n",
       "<style scoped>\n",
       "    .dataframe tbody tr th:only-of-type {\n",
       "        vertical-align: middle;\n",
       "    }\n",
       "\n",
       "    .dataframe tbody tr th {\n",
       "        vertical-align: top;\n",
       "    }\n",
       "\n",
       "    .dataframe thead th {\n",
       "        text-align: right;\n",
       "    }\n",
       "</style>\n",
       "<table border=\"1\" class=\"dataframe\">\n",
       "  <thead>\n",
       "    <tr style=\"text-align: right;\">\n",
       "      <th></th>\n",
       "      <th>Nilai yang Hilang</th>\n",
       "      <th>Persentase(%)</th>\n",
       "    </tr>\n",
       "  </thead>\n",
       "  <tbody>\n",
       "    <tr>\n",
       "      <th>NotRepaired</th>\n",
       "      <td>71154</td>\n",
       "      <td>20.08</td>\n",
       "    </tr>\n",
       "    <tr>\n",
       "      <th>VehicleType</th>\n",
       "      <td>37490</td>\n",
       "      <td>10.58</td>\n",
       "    </tr>\n",
       "    <tr>\n",
       "      <th>FuelType</th>\n",
       "      <td>32895</td>\n",
       "      <td>9.28</td>\n",
       "    </tr>\n",
       "    <tr>\n",
       "      <th>Gearbox</th>\n",
       "      <td>19833</td>\n",
       "      <td>5.60</td>\n",
       "    </tr>\n",
       "    <tr>\n",
       "      <th>Model</th>\n",
       "      <td>19705</td>\n",
       "      <td>5.56</td>\n",
       "    </tr>\n",
       "  </tbody>\n",
       "</table>\n",
       "</div>"
      ],
      "text/plain": [
       "             Nilai yang Hilang  Persentase(%)\n",
       "NotRepaired              71154          20.08\n",
       "VehicleType              37490          10.58\n",
       "FuelType                 32895           9.28\n",
       "Gearbox                  19833           5.60\n",
       "Model                    19705           5.56"
      ]
     },
     "execution_count": 8,
     "metadata": {},
     "output_type": "execute_result"
    }
   ],
   "source": [
    "missing_table = pd.concat([missing_values, missing_percent], axis=1)\n",
    "missing_table = missing_table.rename(columns={0: 'Nilai yang Hilang', 1:'Persentase(%)'})\n",
    "missing_table = missing_table[missing_table.iloc[:,1]!=0].sort_values('Persentase(%)', ascending=False).round(2)\n",
    "missing_table"
   ]
  },
  {
   "cell_type": "markdown",
   "metadata": {},
   "source": [
    "Terdapat 5 kolom yang memilliki nilai yang hilang dengan persentase tertinggi ada pada kolom NotRepaired."
   ]
  },
  {
   "cell_type": "markdown",
   "metadata": {},
   "source": [
    "## Memeriksa nilai yang terduplikasi <a name='datarev_4'></a>"
   ]
  },
  {
   "cell_type": "markdown",
   "metadata": {},
   "source": [
    "**Step 1.5**\n",
    "Melakukan pemeriksaan duplicated value pada dataframe df"
   ]
  },
  {
   "cell_type": "code",
   "execution_count": 9,
   "metadata": {},
   "outputs": [
    {
     "data": {
      "text/plain": [
       "262"
      ]
     },
     "execution_count": 9,
     "metadata": {},
     "output_type": "execute_result"
    }
   ],
   "source": [
    "df.duplicated().sum()"
   ]
  },
  {
   "cell_type": "markdown",
   "metadata": {},
   "source": [
    "Terdapat 262 baris yang berisi nilai duplikat."
   ]
  },
  {
   "cell_type": "markdown",
   "metadata": {},
   "source": [
    "## Memeriksa gambaran seluruh kolom <a name='datarev_5'></a>"
   ]
  },
  {
   "cell_type": "markdown",
   "metadata": {},
   "source": [
    "**Step 1.6**\n",
    "Memeriksa gambaran umum dari kolom pada dataframe df untuk mendeteksi secara cepat anomali yang terjadi"
   ]
  },
  {
   "cell_type": "code",
   "execution_count": 10,
   "metadata": {
    "scrolled": true
   },
   "outputs": [
    {
     "data": {
      "text/html": [
       "<div>\n",
       "<style scoped>\n",
       "    .dataframe tbody tr th:only-of-type {\n",
       "        vertical-align: middle;\n",
       "    }\n",
       "\n",
       "    .dataframe tbody tr th {\n",
       "        vertical-align: top;\n",
       "    }\n",
       "\n",
       "    .dataframe thead th {\n",
       "        text-align: right;\n",
       "    }\n",
       "</style>\n",
       "<table border=\"1\" class=\"dataframe\">\n",
       "  <thead>\n",
       "    <tr style=\"text-align: right;\">\n",
       "      <th></th>\n",
       "      <th>Price</th>\n",
       "      <th>RegistrationYear</th>\n",
       "      <th>Power</th>\n",
       "      <th>Mileage</th>\n",
       "      <th>RegistrationMonth</th>\n",
       "      <th>NumberOfPictures</th>\n",
       "      <th>PostalCode</th>\n",
       "    </tr>\n",
       "  </thead>\n",
       "  <tbody>\n",
       "    <tr>\n",
       "      <th>count</th>\n",
       "      <td>354369.000000</td>\n",
       "      <td>354369.000000</td>\n",
       "      <td>354369.000000</td>\n",
       "      <td>354369.000000</td>\n",
       "      <td>354369.000000</td>\n",
       "      <td>354369.0</td>\n",
       "      <td>354369.000000</td>\n",
       "    </tr>\n",
       "    <tr>\n",
       "      <th>mean</th>\n",
       "      <td>4416.656776</td>\n",
       "      <td>2004.234448</td>\n",
       "      <td>110.094337</td>\n",
       "      <td>128211.172535</td>\n",
       "      <td>5.714645</td>\n",
       "      <td>0.0</td>\n",
       "      <td>50508.689087</td>\n",
       "    </tr>\n",
       "    <tr>\n",
       "      <th>std</th>\n",
       "      <td>4514.158514</td>\n",
       "      <td>90.227958</td>\n",
       "      <td>189.850405</td>\n",
       "      <td>37905.341530</td>\n",
       "      <td>3.726421</td>\n",
       "      <td>0.0</td>\n",
       "      <td>25783.096248</td>\n",
       "    </tr>\n",
       "    <tr>\n",
       "      <th>min</th>\n",
       "      <td>0.000000</td>\n",
       "      <td>1000.000000</td>\n",
       "      <td>0.000000</td>\n",
       "      <td>5000.000000</td>\n",
       "      <td>0.000000</td>\n",
       "      <td>0.0</td>\n",
       "      <td>1067.000000</td>\n",
       "    </tr>\n",
       "    <tr>\n",
       "      <th>25%</th>\n",
       "      <td>1050.000000</td>\n",
       "      <td>1999.000000</td>\n",
       "      <td>69.000000</td>\n",
       "      <td>125000.000000</td>\n",
       "      <td>3.000000</td>\n",
       "      <td>0.0</td>\n",
       "      <td>30165.000000</td>\n",
       "    </tr>\n",
       "    <tr>\n",
       "      <th>50%</th>\n",
       "      <td>2700.000000</td>\n",
       "      <td>2003.000000</td>\n",
       "      <td>105.000000</td>\n",
       "      <td>150000.000000</td>\n",
       "      <td>6.000000</td>\n",
       "      <td>0.0</td>\n",
       "      <td>49413.000000</td>\n",
       "    </tr>\n",
       "    <tr>\n",
       "      <th>75%</th>\n",
       "      <td>6400.000000</td>\n",
       "      <td>2008.000000</td>\n",
       "      <td>143.000000</td>\n",
       "      <td>150000.000000</td>\n",
       "      <td>9.000000</td>\n",
       "      <td>0.0</td>\n",
       "      <td>71083.000000</td>\n",
       "    </tr>\n",
       "    <tr>\n",
       "      <th>max</th>\n",
       "      <td>20000.000000</td>\n",
       "      <td>9999.000000</td>\n",
       "      <td>20000.000000</td>\n",
       "      <td>150000.000000</td>\n",
       "      <td>12.000000</td>\n",
       "      <td>0.0</td>\n",
       "      <td>99998.000000</td>\n",
       "    </tr>\n",
       "  </tbody>\n",
       "</table>\n",
       "</div>"
      ],
      "text/plain": [
       "               Price  RegistrationYear          Power        Mileage  \\\n",
       "count  354369.000000     354369.000000  354369.000000  354369.000000   \n",
       "mean     4416.656776       2004.234448     110.094337  128211.172535   \n",
       "std      4514.158514         90.227958     189.850405   37905.341530   \n",
       "min         0.000000       1000.000000       0.000000    5000.000000   \n",
       "25%      1050.000000       1999.000000      69.000000  125000.000000   \n",
       "50%      2700.000000       2003.000000     105.000000  150000.000000   \n",
       "75%      6400.000000       2008.000000     143.000000  150000.000000   \n",
       "max     20000.000000       9999.000000   20000.000000  150000.000000   \n",
       "\n",
       "       RegistrationMonth  NumberOfPictures     PostalCode  \n",
       "count      354369.000000          354369.0  354369.000000  \n",
       "mean            5.714645               0.0   50508.689087  \n",
       "std             3.726421               0.0   25783.096248  \n",
       "min             0.000000               0.0    1067.000000  \n",
       "25%             3.000000               0.0   30165.000000  \n",
       "50%             6.000000               0.0   49413.000000  \n",
       "75%             9.000000               0.0   71083.000000  \n",
       "max            12.000000               0.0   99998.000000  "
      ]
     },
     "execution_count": 10,
     "metadata": {},
     "output_type": "execute_result"
    }
   ],
   "source": [
    "df.describe()"
   ]
  },
  {
   "cell_type": "markdown",
   "metadata": {},
   "source": [
    "Terdapat keanehan pada kolom Price (min bernilai 0), Power (min bernilai 0), Registration Month (min bernilai 0), dan NumberOfPictures (min dan max bernilai 0)."
   ]
  },
  {
   "cell_type": "code",
   "execution_count": 11,
   "metadata": {},
   "outputs": [
    {
     "name": "stderr",
     "output_type": "stream",
     "text": [
      "C:\\Users\\Luqmanulhakim\\AppData\\Local\\Temp\\ipykernel_34660\\3866693937.py:3: UserWarning: To output multiple subplots, the figure containing the passed axes is being cleared.\n",
      "  df.hist(ax = ax)\n"
     ]
    },
    {
     "data": {
      "image/png": "[encoded data removed]",
      "text/plain": [
       "<Figure size 1200x1200 with 9 Axes>"
      ]
     },
     "metadata": {},
     "output_type": "display_data"
    }
   ],
   "source": [
    "fig = plt.figure(figsize = (12,12))\n",
    "ax = fig.gca()\n",
    "df.hist(ax = ax)\n",
    "plt.show()"
   ]
  },
  {
   "cell_type": "markdown",
   "metadata": {},
   "source": [
    "Dari gambaran umum terhadap seluruh kolom di atas dapat terlihat bahwa kolom NumberOfPictures yang sepertinya hanya memiliki satu nilai, kolom Power terdapat banyak nilai nol, dan kolom RegistrationMonth terdapat angka nol."
   ]
  },
  {
   "cell_type": "markdown",
   "metadata": {},
   "source": [
    "## Memeriksa rincian data pada tiap kolom <a name='datarev_6'></a>"
   ]
  },
  {
   "cell_type": "markdown",
   "metadata": {},
   "source": [
    "**Step 1.7**\n",
    "Memeriksa rincian data tiap kolom dalam dataframe df"
   ]
  },
  {
   "cell_type": "code",
   "execution_count": 12,
   "metadata": {},
   "outputs": [
    {
     "data": {
      "text/plain": [
       "NumberOfPictures\n",
       "0    354369\n",
       "Name: count, dtype: int64"
      ]
     },
     "execution_count": 12,
     "metadata": {},
     "output_type": "execute_result"
    }
   ],
   "source": [
    "df['NumberOfPictures'].value_counts()"
   ]
  },
  {
   "cell_type": "markdown",
   "metadata": {},
   "source": [
    "Dalam kolom ini hanya terdapat nilai 0."
   ]
  },
  {
   "cell_type": "code",
   "execution_count": 13,
   "metadata": {},
   "outputs": [
    {
     "data": {
      "text/plain": [
       "NotRepaired\n",
       "no     247161\n",
       "yes     36054\n",
       "Name: count, dtype: int64"
      ]
     },
     "execution_count": 13,
     "metadata": {},
     "output_type": "execute_result"
    }
   ],
   "source": [
    "df['NotRepaired'].value_counts()"
   ]
  },
  {
   "cell_type": "markdown",
   "metadata": {},
   "source": [
    "Nilai yes dan no dalam kolom ini dapat diganti dengan angka 1 dan 0. Nilai yang hilang dapat diganti dengan 0 karena kemungkinan besar pengguna yang mengisi formulir \"Apakah mobilnya diperbaiki\" tidak akan mengisinya jika mobilnya memang tidak diperbaiki sehingga nilai yang hilang dapat dianggap 0."
   ]
  },
  {
   "cell_type": "code",
   "execution_count": 14,
   "metadata": {
    "scrolled": true
   },
   "outputs": [
    {
     "data": {
      "text/plain": [
       "Power\n",
       "0       40225\n",
       "75      24023\n",
       "60      15897\n",
       "150     14590\n",
       "101     13298\n",
       "        ...  \n",
       "610         1\n",
       "6006        1\n",
       "5815        1\n",
       "6018        1\n",
       "1241        1\n",
       "Name: count, Length: 712, dtype: int64"
      ]
     },
     "execution_count": 14,
     "metadata": {},
     "output_type": "execute_result"
    }
   ],
   "source": [
    "df['Power'].value_counts()"
   ]
  },
  {
   "cell_type": "code",
   "execution_count": 15,
   "metadata": {},
   "outputs": [
    {
     "data": {
      "text/plain": [
       "Power\n",
       "0       11.351162\n",
       "75       6.779092\n",
       "60       4.486002\n",
       "150      4.117177\n",
       "101      3.752586\n",
       "          ...    \n",
       "610      0.000282\n",
       "6006     0.000282\n",
       "5815     0.000282\n",
       "6018     0.000282\n",
       "1241     0.000282\n",
       "Name: count, Length: 712, dtype: float64"
      ]
     },
     "execution_count": 15,
     "metadata": {},
     "output_type": "execute_result"
    }
   ],
   "source": [
    "df['Power'].value_counts()/len(df)*100"
   ]
  },
  {
   "cell_type": "markdown",
   "metadata": {},
   "source": [
    "Dalam kolom ini terdapat nilai 0 dengan persentase 11% dari data, di mana seharusnya untuk kolom ini tidak boleh ada nilai 0. Kita dapat mengisinya dengan nilai rata-rata atau bisa juga dengan forward fill."
   ]
  },
  {
   "cell_type": "code",
   "execution_count": 16,
   "metadata": {},
   "outputs": [
    {
     "name": "stdout",
     "output_type": "stream",
     "text": [
      "[1000 1001 1039 1111 1200 1234 1253 1255 1300 1400 1500 1600 1602 1688\n",
      " 1800 1910 1915 1919 1920 1923 1925 1927 1928 1929 1930 1931 1932 1933\n",
      " 1934 1935 1936 1937 1938 1940 1941 1942 1943 1944 1945 1946 1947 1948\n",
      " 1949 1950 1951 1952 1953 1954 1955 1956 1957 1958 1959 1960 1961 1962\n",
      " 1963 1964 1965 1966 1967 1968 1969 1970 1971 1972 1973 1974 1975 1976\n",
      " 1977 1978 1979 1980 1981 1982 1983 1984 1985 1986 1987 1988 1989 1990\n",
      " 1991 1992 1993 1994 1995 1996 1997 1998 1999 2000 2001 2002 2003 2004\n",
      " 2005 2006 2007 2008 2009 2010 2011 2012 2013 2014 2015 2016 2017 2018\n",
      " 2019 2066 2200 2222 2290 2500 2800 2900 3000 3200 3500 3700 3800 4000\n",
      " 4100 4500 4800 5000 5300 5555 5600 5900 5911 6000 6500 7000 7100 7500\n",
      " 7800 8000 8200 8455 8500 8888 9000 9229 9450 9996 9999]\n"
     ]
    }
   ],
   "source": [
    "tahun = df['RegistrationYear'].unique()\n",
    "tahun.sort()\n",
    "print(tahun)"
   ]
  },
  {
   "cell_type": "markdown",
   "metadata": {},
   "source": [
    "Terdapat nilai registration year tidak relevan, sebagian besarnya dapat dikelompokkan di luar range 1920-2020, baik 1000-1919 dan 2066-9999."
   ]
  },
  {
   "cell_type": "code",
   "execution_count": 17,
   "metadata": {},
   "outputs": [
    {
     "data": {
      "text/plain": [
       "PostalCode\n",
       "10115    819\n",
       "65428    613\n",
       "66333    343\n",
       "32257    317\n",
       "44145    317\n",
       "        ... \n",
       "91801      1\n",
       "31097      1\n",
       "82444      1\n",
       "94359      1\n",
       "31096      1\n",
       "Name: count, Length: 8143, dtype: int64"
      ]
     },
     "execution_count": 17,
     "metadata": {},
     "output_type": "execute_result"
    }
   ],
   "source": [
    "df['PostalCode'].value_counts()"
   ]
  },
  {
   "cell_type": "markdown",
   "metadata": {},
   "source": [
    "Untuk keperluan analisis lebih lanjut, kemungkinan kolom PostalCode tidak diperlukan sehingga ke depannya kolom ini dapat dihapus."
   ]
  },
  {
   "cell_type": "markdown",
   "metadata": {},
   "source": [
    "## Kesimpulan <a name=\"datarev_conclusion\"></a>"
   ]
  },
  {
   "cell_type": "markdown",
   "metadata": {},
   "source": [
    "- Berdasarkan sumber data dalam file car_data.csv terdapat 16 kolom dan 354369 baris.\n",
    "- Terdapat nilai yang hilang dari 5 kolom yaitu:\n",
    "     - NotRepaired: 71154 baris yaitu 20,08% dari seluruh data\n",
    "     - VehicleType : 37490 baris yaitu 10,58% dari seluruh data\n",
    "     - FuelType: 32895 baris yaitu 9,28% dari seluruh data\n",
    "     - Gearbox : 19833 baris yaitu 5,59% dari seluruh data\n",
    "     - Model: 19705 baris yaitu 5,56% dari seluruh data\n",
    "- Tipe data tanggal pada kolom DateCrawled, DateCreated, dan LastSeen perlu diubah menjadi tipe data datetime. Namun demikian kolom datetime sepertinya tidak diperlukan untuk pelatihan model. Untuk selanjutnya akan dilakukan pendalaman pada tahap Pra-pemrosesan Data.\n",
    "- Terdapat 262 baris duplikat.\n",
    "- Nilai dalam kolom NumberOfPictures semuanya nol, jadi kolom tersebut tidak diperlukan dan dapat dihapus.\n",
    "- Kolom Kode Pos juga kemungkinan besar tidak diperlukan dan dapat dihapus.\n",
    "- Nilai pada Kolom NotRepaired dapat diganti 1 untuk yes dan 0 untuk no dan nilai yang hilang dapat diganti dengan 0 karena kemungkinan besar pengguna yang mengisi formulir \"Apakah mobilnya diperbaiki\" tidak akan mengisinya jika mobilnya memang tidak diperbaiki, sehingga nilai yang hilang dapat diasumsikan nol.\n",
    "- Pada kolom Power terdapat banyak nilai nol yakni sebanyak 11% dari seluruh data. Power seharusnya tidak boleh bernilai 0 sehingga kita bisa mengisinya dengan nilai rata-rata ataupun dengan metode forward fill.\n",
    "- Terdapat nilai tahun registrasi mobil yang aneh dan ekstrim. Range yang relevan yakni berada dala kisaran 1920-2020. Dalam kolom RegistrationYear terdapat angka tahun 1000-1919 dan 2066-9999."
   ]
  },
  {
   "cell_type": "markdown",
   "metadata": {},
   "source": [
    "[Kembali ke Daftar Isi](#back)"
   ]
  },
  {
   "cell_type": "markdown",
   "metadata": {},
   "source": [
    "# Tahap 2. Pra-pemrosesan Data <a id='data_preprocessing'></a>"
   ]
  },
  {
   "cell_type": "markdown",
   "metadata": {},
   "source": [
    "**Step 2.1**\n",
    "Mengubah tipe data kolom yang berisi data tanggal"
   ]
  },
  {
   "cell_type": "code",
   "execution_count": 18,
   "metadata": {},
   "outputs": [],
   "source": [
    "df['DateCrawled']= pd.to_datetime(df['DateCrawled'], format='%d/%m/%Y %H:%M')\n",
    "df['DateCreated']= pd.to_datetime(df['DateCreated'], format='%d/%m/%Y %H:%M')\n",
    "df['LastSeen']= pd.to_datetime(df['LastSeen'], format='%d/%m/%Y %H:%M')"
   ]
  },
  {
   "cell_type": "markdown",
   "metadata": {},
   "source": [
    "**Step 2.2** Memeriksa apakah data tanggal relevan untuk analisis lebih lanjut."
   ]
  },
  {
   "cell_type": "code",
   "execution_count": 19,
   "metadata": {},
   "outputs": [
    {
     "name": "stdout",
     "output_type": "stream",
     "text": [
      "--------------- DateCrawled ---------------\n",
      "count    354369.0\n",
      "mean       2016.0\n",
      "std           0.0\n",
      "min        2016.0\n",
      "25%        2016.0\n",
      "50%        2016.0\n",
      "75%        2016.0\n",
      "max        2016.0\n",
      "Name: year_crawled, dtype: Float64\n",
      "--------------- DateCreated ---------------\n",
      "count       354369.0\n",
      "mean     2015.999924\n",
      "std         0.009046\n",
      "min           2014.0\n",
      "25%           2016.0\n",
      "50%           2016.0\n",
      "75%           2016.0\n",
      "max           2016.0\n",
      "Name: year_created, dtype: Float64\n",
      "--------------- LastSeen ---------------\n",
      "count    354369.0\n",
      "mean       2016.0\n",
      "std           0.0\n",
      "min        2016.0\n",
      "25%        2016.0\n",
      "50%        2016.0\n",
      "75%        2016.0\n",
      "max        2016.0\n",
      "Name: year_lastSeen, dtype: Float64\n"
     ]
    }
   ],
   "source": [
    "print('--------------- DateCrawled ---------------')\n",
    "df['year_crawled'] = pd.DatetimeIndex(df['DateCrawled']).year\n",
    "df['year_crawled'] = df['year_crawled'].astype('Int32')\n",
    "print(df['year_crawled'].describe())\n",
    "\n",
    "print('--------------- DateCreated ---------------')\n",
    "df['year_created'] = pd.DatetimeIndex(df['DateCreated']).year\n",
    "df['year_created'] = df['year_created'].astype('Int32')\n",
    "print(df['year_created'].describe())\n",
    "\n",
    "print('--------------- LastSeen ---------------')\n",
    "df['year_lastSeen'] = pd.DatetimeIndex(df['LastSeen']).year\n",
    "df['year_lastSeen'] = df['year_lastSeen'].astype('Int32')\n",
    "print(df['year_lastSeen'].describe())"
   ]
  },
  {
   "cell_type": "code",
   "execution_count": 20,
   "metadata": {},
   "outputs": [],
   "source": [
    "df = df.drop(columns=['year_crawled', 'year_created', 'year_lastSeen'])"
   ]
  },
  {
   "cell_type": "markdown",
   "metadata": {},
   "source": [
    "Dapat kita simpulkan bahwa data tanggal tidak relevan karena memiliki tahun yang sama baik pada saat dimasukkan (DateCreated) maupun pada saat terakhir dilihat (LastSeen). DataCrawled juga tidak relevan untuk analisis lebih lanjut. "
   ]
  },
  {
   "cell_type": "markdown",
   "metadata": {},
   "source": [
    "## Menghapus kolom yang tidak diperlukan <a name=\"dataprep_1\"></a>"
   ]
  },
  {
   "cell_type": "markdown",
   "metadata": {},
   "source": [
    "**Step 2.3** Menghapus kolom yang tidak diperlukan untuk analisis lebih lanjut."
   ]
  },
  {
   "cell_type": "markdown",
   "metadata": {},
   "source": [
    "Selain kolom data tanggal, juga kolom PostalCode, serta NumberOfPictures yang hanya berisi nilai nol."
   ]
  },
  {
   "cell_type": "code",
   "execution_count": 21,
   "metadata": {},
   "outputs": [
    {
     "data": {
      "text/html": [
       "<div>\n",
       "<style scoped>\n",
       "    .dataframe tbody tr th:only-of-type {\n",
       "        vertical-align: middle;\n",
       "    }\n",
       "\n",
       "    .dataframe tbody tr th {\n",
       "        vertical-align: top;\n",
       "    }\n",
       "\n",
       "    .dataframe thead th {\n",
       "        text-align: right;\n",
       "    }\n",
       "</style>\n",
       "<table border=\"1\" class=\"dataframe\">\n",
       "  <thead>\n",
       "    <tr style=\"text-align: right;\">\n",
       "      <th></th>\n",
       "      <th>Price</th>\n",
       "      <th>VehicleType</th>\n",
       "      <th>RegistrationYear</th>\n",
       "      <th>Gearbox</th>\n",
       "      <th>Power</th>\n",
       "      <th>Model</th>\n",
       "      <th>Mileage</th>\n",
       "      <th>RegistrationMonth</th>\n",
       "      <th>FuelType</th>\n",
       "      <th>Brand</th>\n",
       "      <th>NotRepaired</th>\n",
       "    </tr>\n",
       "  </thead>\n",
       "  <tbody>\n",
       "    <tr>\n",
       "      <th>0</th>\n",
       "      <td>480</td>\n",
       "      <td>NaN</td>\n",
       "      <td>1993</td>\n",
       "      <td>manual</td>\n",
       "      <td>0</td>\n",
       "      <td>golf</td>\n",
       "      <td>150000</td>\n",
       "      <td>0</td>\n",
       "      <td>petrol</td>\n",
       "      <td>volkswagen</td>\n",
       "      <td>NaN</td>\n",
       "    </tr>\n",
       "    <tr>\n",
       "      <th>1</th>\n",
       "      <td>18300</td>\n",
       "      <td>coupe</td>\n",
       "      <td>2011</td>\n",
       "      <td>manual</td>\n",
       "      <td>190</td>\n",
       "      <td>NaN</td>\n",
       "      <td>125000</td>\n",
       "      <td>5</td>\n",
       "      <td>gasoline</td>\n",
       "      <td>audi</td>\n",
       "      <td>yes</td>\n",
       "    </tr>\n",
       "    <tr>\n",
       "      <th>2</th>\n",
       "      <td>9800</td>\n",
       "      <td>suv</td>\n",
       "      <td>2004</td>\n",
       "      <td>auto</td>\n",
       "      <td>163</td>\n",
       "      <td>grand</td>\n",
       "      <td>125000</td>\n",
       "      <td>8</td>\n",
       "      <td>gasoline</td>\n",
       "      <td>jeep</td>\n",
       "      <td>NaN</td>\n",
       "    </tr>\n",
       "    <tr>\n",
       "      <th>3</th>\n",
       "      <td>1500</td>\n",
       "      <td>small</td>\n",
       "      <td>2001</td>\n",
       "      <td>manual</td>\n",
       "      <td>75</td>\n",
       "      <td>golf</td>\n",
       "      <td>150000</td>\n",
       "      <td>6</td>\n",
       "      <td>petrol</td>\n",
       "      <td>volkswagen</td>\n",
       "      <td>no</td>\n",
       "    </tr>\n",
       "    <tr>\n",
       "      <th>4</th>\n",
       "      <td>3600</td>\n",
       "      <td>small</td>\n",
       "      <td>2008</td>\n",
       "      <td>manual</td>\n",
       "      <td>69</td>\n",
       "      <td>fabia</td>\n",
       "      <td>90000</td>\n",
       "      <td>7</td>\n",
       "      <td>gasoline</td>\n",
       "      <td>skoda</td>\n",
       "      <td>no</td>\n",
       "    </tr>\n",
       "  </tbody>\n",
       "</table>\n",
       "</div>"
      ],
      "text/plain": [
       "   Price VehicleType  RegistrationYear Gearbox  Power  Model  Mileage  \\\n",
       "0    480         NaN              1993  manual      0   golf   150000   \n",
       "1  18300       coupe              2011  manual    190    NaN   125000   \n",
       "2   9800         suv              2004    auto    163  grand   125000   \n",
       "3   1500       small              2001  manual     75   golf   150000   \n",
       "4   3600       small              2008  manual     69  fabia    90000   \n",
       "\n",
       "   RegistrationMonth  FuelType       Brand NotRepaired  \n",
       "0                  0    petrol  volkswagen         NaN  \n",
       "1                  5  gasoline        audi         yes  \n",
       "2                  8  gasoline        jeep         NaN  \n",
       "3                  6    petrol  volkswagen          no  \n",
       "4                  7  gasoline       skoda          no  "
      ]
     },
     "execution_count": 21,
     "metadata": {},
     "output_type": "execute_result"
    }
   ],
   "source": [
    "df=df.drop(['DateCrawled','DateCreated','LastSeen','PostalCode','NumberOfPictures'], axis=1)\n",
    "df.head()"
   ]
  },
  {
   "cell_type": "markdown",
   "metadata": {},
   "source": [
    "## Menangani missing value dan nilai yang tidak proper <a name=\"dataprep_2\"></a>"
   ]
  },
  {
   "cell_type": "markdown",
   "metadata": {},
   "source": [
    "**Step 2.3** Menindaklanjuti missing value pada kolom NotRepaired."
   ]
  },
  {
   "cell_type": "markdown",
   "metadata": {},
   "source": [
    "Mengganti nilai yes dengan 1, dan nilai no dengan 0"
   ]
  },
  {
   "cell_type": "code",
   "execution_count": 22,
   "metadata": {},
   "outputs": [],
   "source": [
    "df['NotRepaired'] = df['NotRepaired'].map({'yes':1, 'no':0})"
   ]
  },
  {
   "cell_type": "markdown",
   "metadata": {},
   "source": [
    "Mengisi nilai NotRepaired yang hilang dengan 0 karena kemungkinan besar pengguna yang mengisi formulir \"Apakah mobilnya diperbaiki\" tidak mengisinya jika mobilnya memang tidak diperbaiki sehingga nilainya dapat diasumsikan nol."
   ]
  },
  {
   "cell_type": "code",
   "execution_count": 23,
   "metadata": {},
   "outputs": [],
   "source": [
    "df['NotRepaired'] = df['NotRepaired'].fillna(0)"
   ]
  },
  {
   "cell_type": "markdown",
   "metadata": {},
   "source": [
    "**Step 2.4** Menindaklanjuti nilai yang tidak proper pada kolom Power."
   ]
  },
  {
   "cell_type": "code",
   "execution_count": 24,
   "metadata": {},
   "outputs": [
    {
     "data": {
      "text/plain": [
       "110.0943366942368"
      ]
     },
     "execution_count": 24,
     "metadata": {},
     "output_type": "execute_result"
    }
   ],
   "source": [
    "df['Power'].mean()"
   ]
  },
  {
   "cell_type": "code",
   "execution_count": 25,
   "metadata": {},
   "outputs": [
    {
     "data": {
      "image/png": "[encoded data removed]",
      "text/plain": [
       "<Figure size 640x480 with 1 Axes>"
      ]
     },
     "metadata": {},
     "output_type": "display_data"
    }
   ],
   "source": [
    "sns.boxplot(data=df['Power']);"
   ]
  },
  {
   "cell_type": "markdown",
   "metadata": {},
   "source": [
    "Terdapat beberapa data kolom Power dengan nilai yang terlalu ekstrim. Kita akan membatas Power mobil berkekuatan 2000 hp."
   ]
  },
  {
   "cell_type": "code",
   "execution_count": 26,
   "metadata": {},
   "outputs": [],
   "source": [
    "df = df[df['Power']<=2000]"
   ]
  },
  {
   "cell_type": "code",
   "execution_count": 27,
   "metadata": {
    "scrolled": true
   },
   "outputs": [
    {
     "data": {
      "image/png": "[encoded data removed]",
      "text/plain": [
       "<Figure size 640x480 with 1 Axes>"
      ]
     },
     "metadata": {},
     "output_type": "display_data"
    }
   ],
   "source": [
    "sns.boxplot(data=df['Power']);"
   ]
  },
  {
   "cell_type": "markdown",
   "metadata": {},
   "source": [
    "RegistrationYear berada dalam kisaran 1920-2020. Kebanyakan adalah 2000, kita akan mengidentifikasi mobil yang memiliki RegistrationYear di bawah 1920 untuk diubah menjadi 1920 dan yang memiliki RegistrationYear di atas 2020 diubah menjadi 2000."
   ]
  },
  {
   "cell_type": "code",
   "execution_count": 28,
   "metadata": {},
   "outputs": [],
   "source": [
    "def year_corrected(row):\n",
    "    year = row['RegistrationYear']\n",
    "    if year <= 1920 :\n",
    "        return 1920\n",
    "    elif year > 2020:\n",
    "        return 2000\n",
    "    return year\n",
    "\n",
    "df['RegistrationYear'] = df.apply(year_corrected, axis=1)"
   ]
  },
  {
   "cell_type": "code",
   "execution_count": 29,
   "metadata": {},
   "outputs": [
    {
     "name": "stdout",
     "output_type": "stream",
     "text": [
      "[1920 1923 1925 1927 1928 1929 1930 1931 1932 1933 1934 1935 1936 1937\n",
      " 1938 1940 1941 1942 1943 1944 1945 1946 1947 1948 1949 1950 1951 1952\n",
      " 1953 1954 1955 1956 1957 1958 1959 1960 1961 1962 1963 1964 1965 1966\n",
      " 1967 1968 1969 1970 1971 1972 1973 1974 1975 1976 1977 1978 1979 1980\n",
      " 1981 1982 1983 1984 1985 1986 1987 1988 1989 1990 1991 1992 1993 1994\n",
      " 1995 1996 1997 1998 1999 2000 2001 2002 2003 2004 2005 2006 2007 2008\n",
      " 2009 2010 2011 2012 2013 2014 2015 2016 2017 2018 2019]\n"
     ]
    }
   ],
   "source": [
    "tahun = df['RegistrationYear'].unique()\n",
    "tahun.sort()\n",
    "print(tahun)"
   ]
  },
  {
   "cell_type": "markdown",
   "metadata": {},
   "source": [
    "**Step 2.5** Mengisi nilai yang hilang pada kolom Model."
   ]
  },
  {
   "cell_type": "markdown",
   "metadata": {},
   "source": [
    "Mengisi nilai yang hilang pada kolom Model dengan asumsi terdapat hubungan antara Model dengan Brand dan RegistrationYear.   "
   ]
  },
  {
   "cell_type": "code",
   "execution_count": 30,
   "metadata": {},
   "outputs": [
    {
     "data": {
      "text/plain": [
       "19690"
      ]
     },
     "execution_count": 30,
     "metadata": {},
     "output_type": "execute_result"
    }
   ],
   "source": [
    "df['Model'].isna().sum()"
   ]
  },
  {
   "cell_type": "code",
   "execution_count": 31,
   "metadata": {},
   "outputs": [],
   "source": [
    "df['Model'] = df.groupby(['Brand','RegistrationYear'])['Model'].transform(lambda x: x.fillna((x.mode()[0] if not x.mode().empty else \"Empty\")))"
   ]
  },
  {
   "cell_type": "code",
   "execution_count": 32,
   "metadata": {},
   "outputs": [
    {
     "data": {
      "text/plain": [
       "0"
      ]
     },
     "execution_count": 32,
     "metadata": {},
     "output_type": "execute_result"
    }
   ],
   "source": [
    "df['Model'].isna().sum()"
   ]
  },
  {
   "cell_type": "code",
   "execution_count": 33,
   "metadata": {},
   "outputs": [
    {
     "name": "stdout",
     "output_type": "stream",
     "text": [
      "['100' '145' '147' '156' '159' '1_reihe' '1er' '200' '2_reihe' '300c'\n",
      " '3_reihe' '3er' '4_reihe' '500' '5_reihe' '5er' '601' '6_reihe' '6er'\n",
      " '7er' '80' '850' '90' '900' '9000' '911' 'Empty' 'a1' 'a2' 'a3' 'a4' 'a5'\n",
      " 'a6' 'a8' 'a_klasse' 'accord' 'agila' 'alhambra' 'almera' 'altea'\n",
      " 'amarok' 'antara' 'arosa' 'astra' 'auris' 'avensis' 'aveo' 'aygo'\n",
      " 'b_klasse' 'b_max' 'beetle' 'berlingo' 'bora' 'boxster' 'bravo' 'c1' 'c2'\n",
      " 'c3' 'c4' 'c5' 'c_klasse' 'c_max' 'c_reihe' 'caddy' 'calibra' 'captiva'\n",
      " 'carisma' 'carnival' 'cayenne' 'cc' 'ceed' 'charade' 'cherokee' 'citigo'\n",
      " 'civic' 'cl' 'clio' 'clk' 'clubman' 'colt' 'combo' 'cooper' 'cordoba'\n",
      " 'corolla' 'corsa' 'cr_reihe' 'croma' 'crossfire' 'cuore' 'cx_reihe'\n",
      " 'defender' 'delta' 'discovery' 'doblo' 'ducato' 'duster' 'e_klasse'\n",
      " 'elefantino' 'eos' 'escort' 'espace' 'exeo' 'fabia' 'fiesta' 'focus'\n",
      " 'forester' 'forfour' 'fortwo' 'fox' 'freelander' 'fusion' 'g_klasse'\n",
      " 'galant' 'galaxy' 'getz' 'gl' 'glk' 'golf' 'grand' 'i3' 'i_reihe' 'ibiza'\n",
      " 'impreza' 'insignia' 'jazz' 'jetta' 'jimny' 'juke' 'justy' 'ka' 'kadett'\n",
      " 'kaefer' 'kalina' 'kalos' 'kangoo' 'kappa' 'kuga' 'laguna' 'lancer'\n",
      " 'lanos' 'legacy' 'leon' 'lodgy' 'logan' 'lupo' 'lybra' 'm_klasse'\n",
      " 'm_reihe' 'materia' 'matiz' 'megane' 'meriva' 'micra' 'mii' 'modus'\n",
      " 'mondeo' 'move' 'musa' 'mustang' 'mx_reihe' 'navara' 'niva' 'note'\n",
      " 'nubira' 'octavia' 'omega' 'one' 'other' 'outlander' 'pajero' 'panda'\n",
      " 'passat' 'phaeton' 'picanto' 'polo' 'primera' 'ptcruiser' 'punto' 'q3'\n",
      " 'q5' 'q7' 'qashqai' 'r19' 'range_rover' 'range_rover_evoque'\n",
      " 'range_rover_sport' 'rangerover' 'rav' 'rio' 'roadster' 'roomster'\n",
      " 'rx_reihe' 's60' 's_klasse' 's_max' 's_type' 'samara' 'sandero' 'santa'\n",
      " 'scenic' 'scirocco' 'seicento' 'serie_1' 'serie_2' 'serie_3' 'sharan'\n",
      " 'signum' 'sirion' 'sl' 'slk' 'sorento' 'spark' 'spider' 'sportage'\n",
      " 'sprinter' 'stilo' 'superb' 'swift' 'terios' 'tigra' 'tiguan' 'toledo'\n",
      " 'touareg' 'touran' 'transit' 'transporter' 'tt' 'tucson' 'twingo' 'up'\n",
      " 'v40' 'v50' 'v60' 'v70' 'v_klasse' 'vectra' 'verso' 'viano' 'vito'\n",
      " 'vivaro' 'voyager' 'wrangler' 'x_reihe' 'x_trail' 'x_type' 'xc_reihe'\n",
      " 'yaris' 'yeti' 'ypsilon' 'z_reihe' 'zafira']\n"
     ]
    }
   ],
   "source": [
    "model = df['Model'].unique().astype(dtype='str')\n",
    "model.sort()\n",
    "print(model)"
   ]
  },
  {
   "cell_type": "markdown",
   "metadata": {},
   "source": [
    "**Step 2.6** Mengisi nilai yang hilang pada kolom VehicleType."
   ]
  },
  {
   "cell_type": "markdown",
   "metadata": {},
   "source": [
    "Mengisi nilai yang hilang pada kolom VehicleType dengan asumsi terdapat hubungan antara VehicleType dengan Brand dan Model.   "
   ]
  },
  {
   "cell_type": "code",
   "execution_count": 34,
   "metadata": {},
   "outputs": [
    {
     "data": {
      "text/plain": [
       "37471"
      ]
     },
     "execution_count": 34,
     "metadata": {},
     "output_type": "execute_result"
    }
   ],
   "source": [
    "df['VehicleType'].isna().sum()"
   ]
  },
  {
   "cell_type": "code",
   "execution_count": 35,
   "metadata": {},
   "outputs": [],
   "source": [
    "df['VehicleType'] = df.groupby(['Brand','Model'])['VehicleType'].transform(lambda x: x.fillna((x.mode()[0] if not x.mode().empty else \"Empty\")))"
   ]
  },
  {
   "cell_type": "code",
   "execution_count": 36,
   "metadata": {},
   "outputs": [
    {
     "data": {
      "text/plain": [
       "0"
      ]
     },
     "execution_count": 36,
     "metadata": {},
     "output_type": "execute_result"
    }
   ],
   "source": [
    "df['VehicleType'].isna().sum()"
   ]
  },
  {
   "cell_type": "code",
   "execution_count": 37,
   "metadata": {},
   "outputs": [
    {
     "name": "stdout",
     "output_type": "stream",
     "text": [
      "['Empty' 'bus' 'convertible' 'coupe' 'other' 'sedan' 'small' 'suv' 'wagon']\n"
     ]
    }
   ],
   "source": [
    "vtype = df['VehicleType'].unique().astype(dtype='str')\n",
    "vtype.sort()\n",
    "print(vtype)"
   ]
  },
  {
   "cell_type": "markdown",
   "metadata": {},
   "source": [
    "**Step 2.7** Mengisi nilai yang hilang pada kolom FuelType."
   ]
  },
  {
   "cell_type": "markdown",
   "metadata": {},
   "source": [
    "Mengisi nilai yang hilang pada kolom FuelType dengan asumsi terdapat hubungan antara FuelType dengan Brand dan Model. "
   ]
  },
  {
   "cell_type": "code",
   "execution_count": 38,
   "metadata": {},
   "outputs": [
    {
     "data": {
      "text/plain": [
       "32867"
      ]
     },
     "execution_count": 38,
     "metadata": {},
     "output_type": "execute_result"
    }
   ],
   "source": [
    "df['FuelType'].isna().sum()"
   ]
  },
  {
   "cell_type": "code",
   "execution_count": 39,
   "metadata": {},
   "outputs": [],
   "source": [
    "df['FuelType'] = df.groupby(['Brand','Model'])['FuelType'].transform(lambda x: x.fillna((x.mode()[0] if not x.mode().empty else \"Empty\")))"
   ]
  },
  {
   "cell_type": "code",
   "execution_count": 40,
   "metadata": {},
   "outputs": [
    {
     "data": {
      "text/plain": [
       "0"
      ]
     },
     "execution_count": 40,
     "metadata": {},
     "output_type": "execute_result"
    }
   ],
   "source": [
    "df['FuelType'].isna().sum()"
   ]
  },
  {
   "cell_type": "code",
   "execution_count": 41,
   "metadata": {},
   "outputs": [
    {
     "name": "stdout",
     "output_type": "stream",
     "text": [
      "['Empty' 'cng' 'electric' 'gasoline' 'hybrid' 'lpg' 'other' 'petrol']\n"
     ]
    }
   ],
   "source": [
    "ftype = df['FuelType'].unique().astype(dtype='str')\n",
    "ftype.sort()\n",
    "print(ftype)"
   ]
  },
  {
   "cell_type": "markdown",
   "metadata": {},
   "source": [
    "**Step 2.8** Mengisi nilai yang hilang pada kolom Gearbox."
   ]
  },
  {
   "cell_type": "markdown",
   "metadata": {},
   "source": [
    "Mengisi nilai yang hilang pada kolom Gearbox dengan asumsi terdapat hubungan antara Gearbox dengan Brand dan RegistrationYear."
   ]
  },
  {
   "cell_type": "code",
   "execution_count": 42,
   "metadata": {},
   "outputs": [
    {
     "data": {
      "text/plain": [
       "19826"
      ]
     },
     "execution_count": 42,
     "metadata": {},
     "output_type": "execute_result"
    }
   ],
   "source": [
    "df['Gearbox'].isna().sum()"
   ]
  },
  {
   "cell_type": "code",
   "execution_count": 43,
   "metadata": {},
   "outputs": [],
   "source": [
    "df['Gearbox'] = df.groupby(['Brand','RegistrationYear'])['Gearbox'].transform(lambda x: x.fillna((x.mode()[0] if not x.mode().empty else \"Empty\")))"
   ]
  },
  {
   "cell_type": "code",
   "execution_count": 44,
   "metadata": {},
   "outputs": [
    {
     "data": {
      "text/plain": [
       "0"
      ]
     },
     "execution_count": 44,
     "metadata": {},
     "output_type": "execute_result"
    }
   ],
   "source": [
    "df['Gearbox'].isna().sum()"
   ]
  },
  {
   "cell_type": "code",
   "execution_count": 45,
   "metadata": {},
   "outputs": [
    {
     "name": "stdout",
     "output_type": "stream",
     "text": [
      "['Empty' 'auto' 'manual']\n"
     ]
    }
   ],
   "source": [
    "gbox = df['Gearbox'].unique().astype(dtype='str')\n",
    "gbox.sort()\n",
    "print(gbox)"
   ]
  },
  {
   "cell_type": "markdown",
   "metadata": {},
   "source": [
    "**Step 2.9** Mengganti nilai Empty menjadi NaN (na/null)."
   ]
  },
  {
   "cell_type": "code",
   "execution_count": 46,
   "metadata": {},
   "outputs": [],
   "source": [
    "df = df.replace('Empty',np.nan)"
   ]
  },
  {
   "cell_type": "code",
   "execution_count": 47,
   "metadata": {},
   "outputs": [
    {
     "data": {
      "text/plain": [
       "Price                   0\n",
       "VehicleType             2\n",
       "RegistrationYear        0\n",
       "Gearbox               100\n",
       "Power                   0\n",
       "Model                3402\n",
       "Mileage                 0\n",
       "RegistrationMonth       0\n",
       "FuelType                2\n",
       "Brand                   0\n",
       "NotRepaired             0\n",
       "dtype: int64"
      ]
     },
     "execution_count": 47,
     "metadata": {},
     "output_type": "execute_result"
    }
   ],
   "source": [
    "df.isna().sum()"
   ]
  },
  {
   "cell_type": "code",
   "execution_count": 48,
   "metadata": {},
   "outputs": [
    {
     "data": {
      "text/plain": [
       "Price                0.000000\n",
       "VehicleType          0.000565\n",
       "RegistrationYear     0.000000\n",
       "Gearbox              0.028229\n",
       "Power                0.000000\n",
       "Model                0.960341\n",
       "Mileage              0.000000\n",
       "RegistrationMonth    0.000000\n",
       "FuelType             0.000565\n",
       "Brand                0.000000\n",
       "NotRepaired          0.000000\n",
       "dtype: float64"
      ]
     },
     "execution_count": 48,
     "metadata": {},
     "output_type": "execute_result"
    }
   ],
   "source": [
    "df.isna().sum()/len(df)*100"
   ]
  },
  {
   "cell_type": "markdown",
   "metadata": {},
   "source": [
    "Dapat terlihat bahwa masih terdapat nilai yang hilang dengan maks persentase 0,96%, sudah jauh berkurang dari sebelumnya. Hal ini akan kita tindaklanjuti dengan penghapusan baris terkait."
   ]
  },
  {
   "cell_type": "markdown",
   "metadata": {},
   "source": [
    "**Step 2.10** Menghapus baris yang terkait dengan missing value."
   ]
  },
  {
   "cell_type": "code",
   "execution_count": 49,
   "metadata": {},
   "outputs": [],
   "source": [
    "df = df.dropna()"
   ]
  },
  {
   "cell_type": "code",
   "execution_count": 50,
   "metadata": {},
   "outputs": [
    {
     "data": {
      "text/plain": [
       "Price                0\n",
       "VehicleType          0\n",
       "RegistrationYear     0\n",
       "Gearbox              0\n",
       "Power                0\n",
       "Model                0\n",
       "Mileage              0\n",
       "RegistrationMonth    0\n",
       "FuelType             0\n",
       "Brand                0\n",
       "NotRepaired          0\n",
       "dtype: int64"
      ]
     },
     "execution_count": 50,
     "metadata": {},
     "output_type": "execute_result"
    }
   ],
   "source": [
    "df.isna().sum()"
   ]
  },
  {
   "cell_type": "markdown",
   "metadata": {},
   "source": [
    "Nilai yang hilang sudah tidak ada."
   ]
  },
  {
   "cell_type": "markdown",
   "metadata": {},
   "source": [
    "## Menangani duplicated value <a name=\"dataprep_3\"></a>"
   ]
  },
  {
   "cell_type": "markdown",
   "metadata": {},
   "source": [
    "**Step 2.11** Menindaklanjuti duplicated value pada dataframe df."
   ]
  },
  {
   "cell_type": "code",
   "execution_count": 51,
   "metadata": {},
   "outputs": [],
   "source": [
    "df = df.drop_duplicates()"
   ]
  },
  {
   "cell_type": "code",
   "execution_count": 52,
   "metadata": {},
   "outputs": [
    {
     "data": {
      "text/plain": [
       "0"
      ]
     },
     "execution_count": 52,
     "metadata": {},
     "output_type": "execute_result"
    }
   ],
   "source": [
    "df.duplicated().sum()"
   ]
  },
  {
   "cell_type": "markdown",
   "metadata": {},
   "source": [
    "Nilai yang terduplikasi juga sudah tidak ada."
   ]
  },
  {
   "cell_type": "markdown",
   "metadata": {},
   "source": [
    "## Mempersiapkan data untuk train model <a name=\"dataprep_4\"></a>"
   ]
  },
  {
   "cell_type": "markdown",
   "metadata": {},
   "source": [
    "**Step 2.12** Melihat kembali informasi secara umum dari dataframe df."
   ]
  },
  {
   "cell_type": "code",
   "execution_count": 53,
   "metadata": {},
   "outputs": [
    {
     "name": "stdout",
     "output_type": "stream",
     "text": [
      "<class 'pandas.core.frame.DataFrame'>\n",
      "Index: 317152 entries, 0 to 354368\n",
      "Data columns (total 11 columns):\n",
      " #   Column             Non-Null Count   Dtype  \n",
      "---  ------             --------------   -----  \n",
      " 0   Price              317152 non-null  int64  \n",
      " 1   VehicleType        317152 non-null  object \n",
      " 2   RegistrationYear   317152 non-null  int64  \n",
      " 3   Gearbox            317152 non-null  object \n",
      " 4   Power              317152 non-null  int64  \n",
      " 5   Model              317152 non-null  object \n",
      " 6   Mileage            317152 non-null  int64  \n",
      " 7   RegistrationMonth  317152 non-null  int64  \n",
      " 8   FuelType           317152 non-null  object \n",
      " 9   Brand              317152 non-null  object \n",
      " 10  NotRepaired        317152 non-null  float64\n",
      "dtypes: float64(1), int64(5), object(5)\n",
      "memory usage: 29.0+ MB\n"
     ]
    }
   ],
   "source": [
    "df.info()"
   ]
  },
  {
   "cell_type": "code",
   "execution_count": 54,
   "metadata": {
    "scrolled": true
   },
   "outputs": [
    {
     "data": {
      "text/html": [
       "<div>\n",
       "<style scoped>\n",
       "    .dataframe tbody tr th:only-of-type {\n",
       "        vertical-align: middle;\n",
       "    }\n",
       "\n",
       "    .dataframe tbody tr th {\n",
       "        vertical-align: top;\n",
       "    }\n",
       "\n",
       "    .dataframe thead th {\n",
       "        text-align: right;\n",
       "    }\n",
       "</style>\n",
       "<table border=\"1\" class=\"dataframe\">\n",
       "  <thead>\n",
       "    <tr style=\"text-align: right;\">\n",
       "      <th></th>\n",
       "      <th>Price</th>\n",
       "      <th>VehicleType</th>\n",
       "      <th>RegistrationYear</th>\n",
       "      <th>Gearbox</th>\n",
       "      <th>Power</th>\n",
       "      <th>Model</th>\n",
       "      <th>Mileage</th>\n",
       "      <th>RegistrationMonth</th>\n",
       "      <th>FuelType</th>\n",
       "      <th>Brand</th>\n",
       "      <th>NotRepaired</th>\n",
       "    </tr>\n",
       "  </thead>\n",
       "  <tbody>\n",
       "    <tr>\n",
       "      <th>0</th>\n",
       "      <td>480</td>\n",
       "      <td>sedan</td>\n",
       "      <td>1993</td>\n",
       "      <td>manual</td>\n",
       "      <td>0</td>\n",
       "      <td>golf</td>\n",
       "      <td>150000</td>\n",
       "      <td>0</td>\n",
       "      <td>petrol</td>\n",
       "      <td>volkswagen</td>\n",
       "      <td>0.0</td>\n",
       "    </tr>\n",
       "    <tr>\n",
       "      <th>1</th>\n",
       "      <td>18300</td>\n",
       "      <td>coupe</td>\n",
       "      <td>2011</td>\n",
       "      <td>manual</td>\n",
       "      <td>190</td>\n",
       "      <td>a4</td>\n",
       "      <td>125000</td>\n",
       "      <td>5</td>\n",
       "      <td>gasoline</td>\n",
       "      <td>audi</td>\n",
       "      <td>1.0</td>\n",
       "    </tr>\n",
       "    <tr>\n",
       "      <th>2</th>\n",
       "      <td>9800</td>\n",
       "      <td>suv</td>\n",
       "      <td>2004</td>\n",
       "      <td>auto</td>\n",
       "      <td>163</td>\n",
       "      <td>grand</td>\n",
       "      <td>125000</td>\n",
       "      <td>8</td>\n",
       "      <td>gasoline</td>\n",
       "      <td>jeep</td>\n",
       "      <td>0.0</td>\n",
       "    </tr>\n",
       "    <tr>\n",
       "      <th>3</th>\n",
       "      <td>1500</td>\n",
       "      <td>small</td>\n",
       "      <td>2001</td>\n",
       "      <td>manual</td>\n",
       "      <td>75</td>\n",
       "      <td>golf</td>\n",
       "      <td>150000</td>\n",
       "      <td>6</td>\n",
       "      <td>petrol</td>\n",
       "      <td>volkswagen</td>\n",
       "      <td>0.0</td>\n",
       "    </tr>\n",
       "    <tr>\n",
       "      <th>4</th>\n",
       "      <td>3600</td>\n",
       "      <td>small</td>\n",
       "      <td>2008</td>\n",
       "      <td>manual</td>\n",
       "      <td>69</td>\n",
       "      <td>fabia</td>\n",
       "      <td>90000</td>\n",
       "      <td>7</td>\n",
       "      <td>gasoline</td>\n",
       "      <td>skoda</td>\n",
       "      <td>0.0</td>\n",
       "    </tr>\n",
       "  </tbody>\n",
       "</table>\n",
       "</div>"
      ],
      "text/plain": [
       "   Price VehicleType  RegistrationYear Gearbox  Power  Model  Mileage  \\\n",
       "0    480       sedan              1993  manual      0   golf   150000   \n",
       "1  18300       coupe              2011  manual    190     a4   125000   \n",
       "2   9800         suv              2004    auto    163  grand   125000   \n",
       "3   1500       small              2001  manual     75   golf   150000   \n",
       "4   3600       small              2008  manual     69  fabia    90000   \n",
       "\n",
       "   RegistrationMonth  FuelType       Brand  NotRepaired  \n",
       "0                  0    petrol  volkswagen          0.0  \n",
       "1                  5  gasoline        audi          1.0  \n",
       "2                  8  gasoline        jeep          0.0  \n",
       "3                  6    petrol  volkswagen          0.0  \n",
       "4                  7  gasoline       skoda          0.0  "
      ]
     },
     "execution_count": 54,
     "metadata": {},
     "output_type": "execute_result"
    }
   ],
   "source": [
    "df.head()"
   ]
  },
  {
   "cell_type": "markdown",
   "metadata": {},
   "source": [
    "**Step 2.13** Mempersiapkan dataframe untuk pembuatan model."
   ]
  },
  {
   "cell_type": "markdown",
   "metadata": {},
   "source": [
    "Menyalin dataframe untuk persiapan membuat model dengan catboost dan lightgbm tanpa menerjemahkan data kategorikal ke nominal karena kedua model tersebut dapat berjalan dengan data kategorikal."
   ]
  },
  {
   "cell_type": "code",
   "execution_count": 55,
   "metadata": {},
   "outputs": [],
   "source": [
    "df_categorical = df.copy()"
   ]
  },
  {
   "cell_type": "markdown",
   "metadata": {},
   "source": [
    "**Step 2.14** Melakukan konversi feature kategorikal menjadi nominal dengan menggunakan OrdinalEncoder."
   ]
  },
  {
   "cell_type": "code",
   "execution_count": 56,
   "metadata": {},
   "outputs": [
    {
     "data": {
      "text/html": [
       "<div>\n",
       "<style scoped>\n",
       "    .dataframe tbody tr th:only-of-type {\n",
       "        vertical-align: middle;\n",
       "    }\n",
       "\n",
       "    .dataframe tbody tr th {\n",
       "        vertical-align: top;\n",
       "    }\n",
       "\n",
       "    .dataframe thead th {\n",
       "        text-align: right;\n",
       "    }\n",
       "</style>\n",
       "<table border=\"1\" class=\"dataframe\">\n",
       "  <thead>\n",
       "    <tr style=\"text-align: right;\">\n",
       "      <th></th>\n",
       "      <th>Price</th>\n",
       "      <th>VehicleType</th>\n",
       "      <th>RegistrationYear</th>\n",
       "      <th>Gearbox</th>\n",
       "      <th>Power</th>\n",
       "      <th>Model</th>\n",
       "      <th>Mileage</th>\n",
       "      <th>RegistrationMonth</th>\n",
       "      <th>FuelType</th>\n",
       "      <th>Brand</th>\n",
       "      <th>NotRepaired</th>\n",
       "    </tr>\n",
       "  </thead>\n",
       "  <tbody>\n",
       "    <tr>\n",
       "      <th>0</th>\n",
       "      <td>480</td>\n",
       "      <td>4.0</td>\n",
       "      <td>1993</td>\n",
       "      <td>1.0</td>\n",
       "      <td>0</td>\n",
       "      <td>116.0</td>\n",
       "      <td>150000</td>\n",
       "      <td>0</td>\n",
       "      <td>6.0</td>\n",
       "      <td>37.0</td>\n",
       "      <td>0.0</td>\n",
       "    </tr>\n",
       "    <tr>\n",
       "      <th>1</th>\n",
       "      <td>18300</td>\n",
       "      <td>2.0</td>\n",
       "      <td>2011</td>\n",
       "      <td>1.0</td>\n",
       "      <td>190</td>\n",
       "      <td>29.0</td>\n",
       "      <td>125000</td>\n",
       "      <td>5</td>\n",
       "      <td>2.0</td>\n",
       "      <td>1.0</td>\n",
       "      <td>1.0</td>\n",
       "    </tr>\n",
       "    <tr>\n",
       "      <th>2</th>\n",
       "      <td>9800</td>\n",
       "      <td>6.0</td>\n",
       "      <td>2004</td>\n",
       "      <td>0.0</td>\n",
       "      <td>163</td>\n",
       "      <td>117.0</td>\n",
       "      <td>125000</td>\n",
       "      <td>8</td>\n",
       "      <td>2.0</td>\n",
       "      <td>14.0</td>\n",
       "      <td>0.0</td>\n",
       "    </tr>\n",
       "    <tr>\n",
       "      <th>3</th>\n",
       "      <td>1500</td>\n",
       "      <td>5.0</td>\n",
       "      <td>2001</td>\n",
       "      <td>1.0</td>\n",
       "      <td>75</td>\n",
       "      <td>116.0</td>\n",
       "      <td>150000</td>\n",
       "      <td>6</td>\n",
       "      <td>6.0</td>\n",
       "      <td>37.0</td>\n",
       "      <td>0.0</td>\n",
       "    </tr>\n",
       "    <tr>\n",
       "      <th>4</th>\n",
       "      <td>3600</td>\n",
       "      <td>5.0</td>\n",
       "      <td>2008</td>\n",
       "      <td>1.0</td>\n",
       "      <td>69</td>\n",
       "      <td>101.0</td>\n",
       "      <td>90000</td>\n",
       "      <td>7</td>\n",
       "      <td>2.0</td>\n",
       "      <td>31.0</td>\n",
       "      <td>0.0</td>\n",
       "    </tr>\n",
       "  </tbody>\n",
       "</table>\n",
       "</div>"
      ],
      "text/plain": [
       "   Price  VehicleType  RegistrationYear  Gearbox  Power  Model  Mileage  \\\n",
       "0    480          4.0              1993      1.0      0  116.0   150000   \n",
       "1  18300          2.0              2011      1.0    190   29.0   125000   \n",
       "2   9800          6.0              2004      0.0    163  117.0   125000   \n",
       "3   1500          5.0              2001      1.0     75  116.0   150000   \n",
       "4   3600          5.0              2008      1.0     69  101.0    90000   \n",
       "\n",
       "   RegistrationMonth  FuelType  Brand  NotRepaired  \n",
       "0                  0       6.0   37.0          0.0  \n",
       "1                  5       2.0    1.0          1.0  \n",
       "2                  8       2.0   14.0          0.0  \n",
       "3                  6       6.0   37.0          0.0  \n",
       "4                  7       2.0   31.0          0.0  "
      ]
     },
     "execution_count": 56,
     "metadata": {},
     "output_type": "execute_result"
    }
   ],
   "source": [
    "ordinal_encoder = OrdinalEncoder()\n",
    "columns = list(df.select_dtypes(include='object').columns)\n",
    "df[columns] = ordinal_encoder.fit_transform(df[columns].astype('str'))\n",
    "df.head()"
   ]
  },
  {
   "cell_type": "markdown",
   "metadata": {},
   "source": [
    "**Step 2.15** Menampilkan Heatmap Diagram Korelasi dari data hasil proses OrdinalEncoder."
   ]
  },
  {
   "cell_type": "code",
   "execution_count": 57,
   "metadata": {
    "scrolled": true
   },
   "outputs": [
    {
     "data": {
      "image/png": "[encoded data removed]",
      "text/plain": [
       "<Figure size 960x800 with 2 Axes>"
      ]
     },
     "metadata": {},
     "output_type": "display_data"
    }
   ],
   "source": [
    "plt.figure(figsize=(12, 10), dpi=80)\n",
    "sns.heatmap(df.corr(), xticklabels=df.corr().columns, yticklabels=df.corr().columns, cmap='seismic', center=0,\n",
    "            annot=True)\n",
    "plt.title('Correlation Diagram', fontsize=22)\n",
    "plt.xticks(fontsize=12)\n",
    "plt.yticks(fontsize=12)\n",
    "plt.show()"
   ]
  },
  {
   "cell_type": "code",
   "execution_count": 58,
   "metadata": {},
   "outputs": [
    {
     "data": {
      "text/plain": [
       "Price                1.000000\n",
       "Power                0.416139\n",
       "RegistrationYear     0.383066\n",
       "RegistrationMonth    0.103548\n",
       "Model               -0.019424\n",
       "VehicleType         -0.089617\n",
       "Brand               -0.106414\n",
       "NotRepaired         -0.192072\n",
       "Gearbox             -0.242031\n",
       "FuelType            -0.284506\n",
       "Mileage             -0.335701\n",
       "Name: Price, dtype: float64"
      ]
     },
     "execution_count": 58,
     "metadata": {},
     "output_type": "execute_result"
    }
   ],
   "source": [
    "df.corr()['Price'].sort_values(ascending=False)"
   ]
  },
  {
   "cell_type": "markdown",
   "metadata": {},
   "source": [
    "- Power dan RegistrationYear memiliki korelasi positif yang kuat dengan Price.\n",
    "- Mileage dan FuelType memiliki korelasi negatif yang kuat dengan Price."
   ]
  },
  {
   "cell_type": "markdown",
   "metadata": {},
   "source": [
    "**Step 2.16** Menampilkan distribusi Price untuk melihat gambaran target."
   ]
  },
  {
   "cell_type": "code",
   "execution_count": 59,
   "metadata": {},
   "outputs": [
    {
     "data": {
      "text/plain": [
       "4420.583389037433"
      ]
     },
     "execution_count": 59,
     "metadata": {},
     "output_type": "execute_result"
    }
   ],
   "source": [
    "df['Price'].mean()"
   ]
  },
  {
   "cell_type": "code",
   "execution_count": 60,
   "metadata": {},
   "outputs": [
    {
     "name": "stderr",
     "output_type": "stream",
     "text": [
      "C:\\Users\\Luqmanulhakim\\AppData\\Local\\Temp\\ipykernel_34660\\1615409367.py:1: UserWarning: \n",
      "\n",
      "`distplot` is a deprecated function and will be removed in seaborn v0.14.0.\n",
      "\n",
      "Please adapt your code to use either `displot` (a figure-level function with\n",
      "similar flexibility) or `histplot` (an axes-level function for histograms).\n",
      "\n",
      "For a guide to updating your code to use the new functions, please see\n",
      "https://gist.github.com/mwaskom/de44147ed2974457ad6372750bbe5751\n",
      "\n",
      "  sns.distplot(df['Price'].values)\n"
     ]
    },
    {
     "data": {
      "text/plain": [
       "2700.0"
      ]
     },
     "execution_count": 60,
     "metadata": {},
     "output_type": "execute_result"
    },
    {
     "data": {
      "image/png": "[encoded data removed]",
      "text/plain": [
       "<Figure size 640x480 with 1 Axes>"
      ]
     },
     "metadata": {},
     "output_type": "display_data"
    }
   ],
   "source": [
    "sns.distplot(df['Price'].values)\n",
    "np.median(df['Price'].values)"
   ]
  },
  {
   "cell_type": "markdown",
   "metadata": {},
   "source": [
    "## Kesimpulan <a name=\"dataprep_conclusion\"></a>"
   ]
  },
  {
   "cell_type": "markdown",
   "metadata": {},
   "source": [
    "- Kita telah menghapus kolom yang tidak diperlukan untuk analisis lebih lanjut yaitu DateCrawled, DateCreated, LastSeen, PostalCode, NumberOfPictures\n",
    "- Kita telah mengisi nilai yang hilang dari NotRepaired dengan 0 karena kemungkinan besar pengguna yang mengisi formulir \"Apakah mobilnya diperbaiki\" tidak mengisinya jika memang mobilnya tidak diperbaiki sehingga nilai yang hilang dapat diasumsikan nol.\n",
    "- Kita telah mengeluarkan Power dengan nilai yang ekstrim lebih dari 2000 hp.\n",
    "- Kita telah menetapkan RegistrationYear antara 1920-2020. Sebagian besar nilainya adalah 2000, oleh karenanya mobil yang tidak teridentifikasi pada tahun 2020 diasumsikan nilainya 2000. Untuk nilai yang kurang dari 1920 nilainya dijadikan 1920. \n",
    "- Kita telah mengisi nilai yang hilang pada kolom Model dengan asumsi ada korelasi antara Model dengan Brand dan RegistrationYear.\n",
    "- Kita telah mengisi nilai yang hilang pada kolom VehicleType dengan asumsi ada korelasi antara VehicleType dengan Brand dan Model.\n",
    "- Kita telah mengisi nilai yang hilang pada kolom FuelType dengan asumsi terdapat korelasi antara FuelType dengan Brand dan Model. \n",
    "- Kita telah mengisi nilai yang hilang pada kolom Gearbox dengan asumsi ada korelasi antara Gearbox dengan Brand dan RegistrationYear.\n",
    "- Kita telah menghapus sisa nilai yang hilang yang kurang dari 1%.\n",
    "- Kita telah menghapus duplikat.\n",
    "- Kita telah mengubah data kategorikal menjadi nominal menggunakan OrdinalEncoder\n",
    "- Kita menemukan bahwa Power dan RegistrationYear memiliki korelasi positif yang kuat dengan Price.\n",
    "- Kita menemukan bahwa Mileage dan FuelType memiliki korelasi negatif yang kuat dengan Price.\n",
    "- Kita menemukan bahwa Price memiliki histogram yang miring ke kanan, dengan demikian mediannya lebih rendah dari nilai rata-rata."
   ]
  },
  {
   "cell_type": "markdown",
   "metadata": {},
   "source": [
    "[Kembali ke Daftar Isi](#back)"
   ]
  },
  {
   "cell_type": "markdown",
   "metadata": {},
   "source": [
    "# Tahap 3. Analisis <a name='analysis'></a>"
   ]
  },
  {
   "cell_type": "markdown",
   "metadata": {},
   "source": [
    "## Train Model <a name='analysis_1'></a>"
   ]
  },
  {
   "cell_type": "markdown",
   "metadata": {},
   "source": [
    "**Step 3.1** Melatih model."
   ]
  },
  {
   "cell_type": "code",
   "execution_count": 61,
   "metadata": {},
   "outputs": [
    {
     "name": "stdout",
     "output_type": "stream",
     "text": [
      "Ukuran feature set train: (178398, 10)\n",
      "Ukuran feature set valid: (59466, 10)\n",
      "Ukuran feature set test: (79288, 10)\n"
     ]
    }
   ],
   "source": [
    "X = df.drop(['Price'], axis=1)\n",
    "y = df['Price']\n",
    "\n",
    "X_1, X_test, y_1, y_test = train_test_split(X, y, test_size=0.25, random_state=12345)\n",
    "X_train, X_valid, y_train, y_valid = train_test_split(X_1, y_1, test_size=0.25, random_state=12345)\n",
    "\n",
    "X_1 = X_1.reset_index(drop=True)\n",
    "X_test = X_test.reset_index(drop=True)\n",
    "y_1 = y_1.reset_index(drop=True)\n",
    "y_test = y_test.reset_index(drop=True)\n",
    "\n",
    "print('Ukuran feature set train:', X_train.shape)\n",
    "print('Ukuran feature set valid:', X_valid.shape)\n",
    "print('Ukuran feature set test:', X_test.shape)"
   ]
  },
  {
   "cell_type": "markdown",
   "metadata": {},
   "source": [
    "**Step 3.2** Melakukan standarisasi feature menggunakan StandardScaler, fit scaler hanya pada set train dan penerapannya pada seluruh bagian (train, valid, dan test) untuk mengurangi overfitting."
   ]
  },
  {
   "cell_type": "code",
   "execution_count": 62,
   "metadata": {},
   "outputs": [],
   "source": [
    "scaler = StandardScaler()\n",
    "numeric = ['RegistrationYear','Power','Mileage']\n",
    "X_train[numeric] = scaler.fit_transform(X_train[numeric])\n",
    "X_valid[numeric] = scaler.transform(X_valid[numeric])\n",
    "X_test[numeric] = scaler.transform(X_test[numeric])"
   ]
  },
  {
   "cell_type": "markdown",
   "metadata": {},
   "source": [
    "### Model Linear Regression <a name='analysis_1_1'></a>"
   ]
  },
  {
   "cell_type": "markdown",
   "metadata": {},
   "source": [
    "**Step 3.3** Menjalankan model Linear Regression."
   ]
  },
  {
   "cell_type": "code",
   "execution_count": 63,
   "metadata": {},
   "outputs": [
    {
     "name": "stdout",
     "output_type": "stream",
     "text": [
      "RMSE: 3306.3734224786813\n",
      "Mean: 4420.821218508726\n",
      "CPU times: total: 62.5 ms\n",
      "Wall time: 38 ms\n"
     ]
    }
   ],
   "source": [
    "%%time\n",
    "lr = LinearRegression()\n",
    "lr.fit(X_train,y_train)\n",
    "predicted_valid = lr.predict(X_valid)\n",
    "rmse = mean_squared_error(y_valid, predicted_valid)**0.5\n",
    "print(\"RMSE:\", rmse)\n",
    "print(\"Mean:\", pd.Series(predicted_valid).mean())"
   ]
  },
  {
   "cell_type": "markdown",
   "metadata": {},
   "source": [
    "### Model Decision Tree Regressor <a name='analysis_1_2'></a>"
   ]
  },
  {
   "cell_type": "markdown",
   "metadata": {},
   "source": [
    "**Step 3.4** Menjalankan model Decision Tree Regressor."
   ]
  },
  {
   "cell_type": "code",
   "execution_count": 64,
   "metadata": {},
   "outputs": [
    {
     "name": "stdout",
     "output_type": "stream",
     "text": [
      "RMSE: 2441.169062029298\n",
      "Mean: 4439.890390143334\n",
      "CPU times: total: 2.05 s\n",
      "Wall time: 1.13 s\n"
     ]
    }
   ],
   "source": [
    "%%time\n",
    "dtr_model = DecisionTreeRegressor()\n",
    "dtr_model.fit(X_train,y_train)\n",
    "predicted_valid = dtr_model.predict(X_valid)\n",
    "rmse = mean_squared_error(y_valid, predicted_valid)**0.5\n",
    "print(\"RMSE:\", rmse)\n",
    "print(\"Mean:\", pd.Series(predicted_valid).mean())"
   ]
  },
  {
   "cell_type": "markdown",
   "metadata": {},
   "source": [
    "### Model Random Forest Regressor <a name='analysis_1_3'></a>"
   ]
  },
  {
   "cell_type": "markdown",
   "metadata": {},
   "source": [
    "**Step 3.5** Menjalankan model Random Forest Regressor."
   ]
  },
  {
   "cell_type": "code",
   "execution_count": 65,
   "metadata": {},
   "outputs": [
    {
     "name": "stdout",
     "output_type": "stream",
     "text": [
      "RMSE: 1913.6762716843773\n",
      "Mean: 4457.503211090307\n",
      "CPU times: total: 7.83 s\n",
      "Wall time: 7.96 s\n"
     ]
    }
   ],
   "source": [
    "%%time\n",
    "rfr_model = RandomForestRegressor(n_estimators=10, random_state=12345)\n",
    "rfr_model.fit(X_train,y_train)\n",
    "predicted_valid = rfr_model.predict(X_valid)\n",
    "rmse = mean_squared_error(y_valid, predicted_valid)**0.5\n",
    "print(\"RMSE:\", rmse)\n",
    "print(\"Mean:\", pd.Series(predicted_valid).mean())"
   ]
  },
  {
   "cell_type": "markdown",
   "metadata": {},
   "source": [
    "### Model LGBM Regressor <a name='analysis_1_4'></a>"
   ]
  },
  {
   "cell_type": "markdown",
   "metadata": {},
   "source": [
    "**Step 3.6** Menjalankan model Light Gradient Boost Regressor."
   ]
  },
  {
   "cell_type": "code",
   "execution_count": 66,
   "metadata": {},
   "outputs": [
    {
     "name": "stdout",
     "output_type": "stream",
     "text": [
      "[LightGBM] [Info] Auto-choosing row-wise multi-threading, the overhead of testing was 0.003803 seconds.\n",
      "You can set `force_row_wise=true` to remove the overhead.\n",
      "And if memory is not enough, you can set `force_col_wise=true`.\n",
      "[LightGBM] [Info] Total Bins 663\n",
      "[LightGBM] [Info] Number of data points in the train set: 178398, number of used features: 10\n",
      "[LightGBM] [Info] Start training from score 4424.118880\n",
      "RMSE: 1842.07684642355\n",
      "Mean: 4437.4183203625\n",
      "CPU times: total: 2.86 s\n",
      "Wall time: 531 ms\n"
     ]
    }
   ],
   "source": [
    "%%time\n",
    "lgbm_model = LGBMRegressor()\n",
    "lgbm_model.fit(X_train,y_train)\n",
    "predicted_valid = lgbm_model.predict(X_valid)\n",
    "rmse = mean_squared_error(y_valid, predicted_valid)**0.5\n",
    "print(\"RMSE:\", rmse)\n",
    "print(\"Mean:\", pd.Series(predicted_valid).mean())"
   ]
  },
  {
   "cell_type": "markdown",
   "metadata": {},
   "source": [
    "### Model Cat Boost Regressor <a name='analysis_1_5'></a>"
   ]
  },
  {
   "cell_type": "markdown",
   "metadata": {},
   "source": [
    "**Step 3.7** Menjalankan model Cat Boost Regressor."
   ]
  },
  {
   "cell_type": "code",
   "execution_count": 67,
   "metadata": {},
   "outputs": [
    {
     "name": "stdout",
     "output_type": "stream",
     "text": [
      "Learning rate set to 0.5\n",
      "0:\tlearn: 3274.1573993\ttotal: 145ms\tremaining: 2.75s\n",
      "1:\tlearn: 2721.2655356\ttotal: 157ms\tremaining: 1.41s\n",
      "2:\tlearn: 2477.6610536\ttotal: 168ms\tremaining: 954ms\n",
      "3:\tlearn: 2345.2557841\ttotal: 178ms\tremaining: 713ms\n",
      "4:\tlearn: 2277.5886259\ttotal: 190ms\tremaining: 569ms\n",
      "5:\tlearn: 2219.7752428\ttotal: 200ms\tremaining: 466ms\n",
      "6:\tlearn: 2189.8796269\ttotal: 212ms\tremaining: 394ms\n",
      "7:\tlearn: 2150.3114730\ttotal: 226ms\tremaining: 338ms\n",
      "8:\tlearn: 2118.1418172\ttotal: 238ms\tremaining: 290ms\n",
      "9:\tlearn: 2096.1842050\ttotal: 248ms\tremaining: 248ms\n",
      "10:\tlearn: 2076.4694544\ttotal: 258ms\tremaining: 211ms\n",
      "11:\tlearn: 2055.1164404\ttotal: 270ms\tremaining: 180ms\n",
      "12:\tlearn: 2038.7020087\ttotal: 284ms\tremaining: 153ms\n",
      "13:\tlearn: 2027.3666962\ttotal: 293ms\tremaining: 126ms\n",
      "14:\tlearn: 2021.5415916\ttotal: 305ms\tremaining: 102ms\n",
      "15:\tlearn: 2010.0499783\ttotal: 318ms\tremaining: 79.5ms\n",
      "16:\tlearn: 1999.2616889\ttotal: 328ms\tremaining: 57.8ms\n",
      "17:\tlearn: 1991.7768368\ttotal: 339ms\tremaining: 37.7ms\n",
      "18:\tlearn: 1985.0622873\ttotal: 351ms\tremaining: 18.4ms\n",
      "19:\tlearn: 1976.0728279\ttotal: 363ms\tremaining: 0us\n",
      "RMSE: 1984.4514718361584\n",
      "Mean: 4437.454642097009\n",
      "CPU times: total: 3.23 s\n",
      "Wall time: 485 ms\n"
     ]
    }
   ],
   "source": [
    "%%time\n",
    "cbr_model = CatBoostRegressor(loss_function=\"RMSE\", iterations=20)\n",
    "cbr_model.fit(X_train,y_train)\n",
    "predicted_valid = cbr_model.predict(X_valid)\n",
    "rmse = mean_squared_error(y_valid, predicted_valid)**0.5\n",
    "print(\"RMSE:\", rmse)\n",
    "print(\"Mean:\", pd.Series(predicted_valid).mean())"
   ]
  },
  {
   "cell_type": "markdown",
   "metadata": {},
   "source": [
    "### XGB Regressor <a name='analysis_1_6'></a>"
   ]
  },
  {
   "cell_type": "markdown",
   "metadata": {},
   "source": [
    "**Step 3.8** Menjalankan model Extreme Gradient Boost Regressor."
   ]
  },
  {
   "cell_type": "code",
   "execution_count": 68,
   "metadata": {},
   "outputs": [
    {
     "name": "stdout",
     "output_type": "stream",
     "text": [
      "rmse: 1795.3234956693302\n",
      "mean: 4439.454\n",
      "CPU times: total: 2.83 s\n",
      "Wall time: 1.59 s\n"
     ]
    }
   ],
   "source": [
    "%%time\n",
    "xgb_model = XGBRegressor()\n",
    "xgb_model.fit(X_train,y_train)\n",
    "predicted_valid = xgb_model.predict(X_valid)\n",
    "rmse = mean_squared_error(y_valid, predicted_valid)**0.5\n",
    "print(\"rmse:\", rmse)\n",
    "print(\"mean:\", pd.Series(predicted_valid).mean())"
   ]
  },
  {
   "cell_type": "code",
   "execution_count": 69,
   "metadata": {
    "scrolled": false
   },
   "outputs": [
    {
     "data": {
      "text/html": [
       "<div>\n",
       "<style scoped>\n",
       "    .dataframe tbody tr th:only-of-type {\n",
       "        vertical-align: middle;\n",
       "    }\n",
       "\n",
       "    .dataframe tbody tr th {\n",
       "        vertical-align: top;\n",
       "    }\n",
       "\n",
       "    .dataframe thead th {\n",
       "        text-align: right;\n",
       "    }\n",
       "</style>\n",
       "<table border=\"1\" class=\"dataframe\">\n",
       "  <thead>\n",
       "    <tr style=\"text-align: right;\">\n",
       "      <th></th>\n",
       "      <th>RMSE</th>\n",
       "      <th>Mean</th>\n",
       "      <th>CPU times (ms)</th>\n",
       "      <th>Wall time (ms)</th>\n",
       "    </tr>\n",
       "  </thead>\n",
       "  <tbody>\n",
       "    <tr>\n",
       "      <th>LR</th>\n",
       "      <td>3306.37</td>\n",
       "      <td>4420.82</td>\n",
       "      <td>62.5</td>\n",
       "      <td>38</td>\n",
       "    </tr>\n",
       "    <tr>\n",
       "      <th>DTR</th>\n",
       "      <td>2429.26</td>\n",
       "      <td>4443.13</td>\n",
       "      <td>2050.0</td>\n",
       "      <td>1130</td>\n",
       "    </tr>\n",
       "    <tr>\n",
       "      <th>RFR</th>\n",
       "      <td>1913.68</td>\n",
       "      <td>4457.50</td>\n",
       "      <td>7830.0</td>\n",
       "      <td>7960</td>\n",
       "    </tr>\n",
       "    <tr>\n",
       "      <th>LGBM</th>\n",
       "      <td>1842.08</td>\n",
       "      <td>4437.42</td>\n",
       "      <td>2860.0</td>\n",
       "      <td>531</td>\n",
       "    </tr>\n",
       "    <tr>\n",
       "      <th>CB</th>\n",
       "      <td>1984.45</td>\n",
       "      <td>4437.45</td>\n",
       "      <td>3230.0</td>\n",
       "      <td>485</td>\n",
       "    </tr>\n",
       "    <tr>\n",
       "      <th>XGB</th>\n",
       "      <td>1795.32</td>\n",
       "      <td>4439.45</td>\n",
       "      <td>2830.0</td>\n",
       "      <td>1590</td>\n",
       "    </tr>\n",
       "  </tbody>\n",
       "</table>\n",
       "</div>"
      ],
      "text/plain": [
       "         RMSE     Mean  CPU times (ms)  Wall time (ms)\n",
       "LR    3306.37  4420.82            62.5              38\n",
       "DTR   2429.26  4443.13          2050.0            1130\n",
       "RFR   1913.68  4457.50          7830.0            7960\n",
       "LGBM  1842.08  4437.42          2860.0             531\n",
       "CB    1984.45  4437.45          3230.0             485\n",
       "XGB   1795.32  4439.45          2830.0            1590"
      ]
     },
     "execution_count": 69,
     "metadata": {},
     "output_type": "execute_result"
    }
   ],
   "source": [
    "index=['LR', 'DTR', 'RFR', 'LGBM', 'CB', 'XGB']\n",
    "summary=pd.DataFrame(data={'RMSE': [3306.37, 2429.26, 1913.68, 1842.08, 1984.45, 1795.32],\n",
    "                            'Mean': [4420.82, 4443.13, 4457.50, 4437.42, 4437.45, 4439.45],\n",
    "                            'CPU times (ms)': [62.5, 2050, 7830, 2860, 3230, 2830],\n",
    "                            'Wall time (ms)': [38, 1130, 7960, 531, 485, 1590]},\n",
    "                    index=index)\n",
    "summary"
   ]
  },
  {
   "cell_type": "markdown",
   "metadata": {
    "slideshow": {
     "slide_type": "fragment"
    }
   },
   "source": [
    "Berdasarkan CPU times terlihat Linear Regression dan Decision Tree Regressor adalah model tercepat, sedangkan Random Forest Regressor adalah yang paling lambat.\n",
    "\n",
    "Nilai RMSE terbaik adalah model XGB Regressor dan LGBM Regressor."
   ]
  },
  {
   "cell_type": "markdown",
   "metadata": {},
   "source": [
    "**Step 3.9** Melakukan cross-validation."
   ]
  },
  {
   "cell_type": "code",
   "execution_count": 70,
   "metadata": {},
   "outputs": [],
   "source": [
    "def cross_val_score_DecisionTreeRegressor (X1, y1, depth):\n",
    "    scores = []\n",
    "    sample_size = int(len(X1)/3)\n",
    "    for i in range(0, 3, 1):\n",
    "        valid_indexes = X1.iloc[i:i+sample_size].index\n",
    "        train_indexes = X1[~(X1.index.isin(valid_indexes))].index\n",
    "        X_train = X1.iloc[train_indexes]\n",
    "        X_valid = X1.iloc[valid_indexes]\n",
    "        y_train = y1.iloc[train_indexes]\n",
    "        y_valid = y1.iloc[valid_indexes]\n",
    "        \n",
    "        model = DecisionTreeRegressor(max_depth=depth,random_state=12345)\n",
    "        model = model.fit(X_train, y_train)\n",
    "        predicted_valid = model.predict(X_valid)\n",
    "        rmse = mean_squared_error(y_valid, predicted_valid)**0.5\n",
    "        scores.append(rmse)\n",
    "    return scores"
   ]
  },
  {
   "cell_type": "code",
   "execution_count": 71,
   "metadata": {},
   "outputs": [
    {
     "name": "stdout",
     "output_type": "stream",
     "text": [
      "Depth = 7 : Nilai RMSE rata-rata untuk model DecisionTreeRegressor: 2298.892155933716\n",
      "----------------------------------------------\n",
      "Depth = 8 : Nilai RMSE rata-rata untuk model DecisionTreeRegressor: 2217.9555243322843\n",
      "----------------------------------------------\n",
      "Depth = 9 : Nilai RMSE rata-rata untuk model DecisionTreeRegressor: 2167.6319351958723\n",
      "----------------------------------------------\n",
      "Depth = 10 : Nilai RMSE rata-rata untuk model DecisionTreeRegressor: 2127.1086114650734\n",
      "----------------------------------------------\n",
      "Depth = 11 : Nilai RMSE rata-rata untuk model DecisionTreeRegressor: 2110.042159473153\n",
      "----------------------------------------------\n",
      "Depth = 12 : Nilai RMSE rata-rata untuk model DecisionTreeRegressor: 2112.175067320787\n",
      "----------------------------------------------\n",
      "Depth = 13 : Nilai RMSE rata-rata untuk model DecisionTreeRegressor: 2123.040323557084\n",
      "----------------------------------------------\n",
      "Depth = 14 : Nilai RMSE rata-rata untuk model DecisionTreeRegressor: 2139.0909699694453\n",
      "----------------------------------------------\n",
      "CPU times: total: 9.64 s\n",
      "Wall time: 9.83 s\n"
     ]
    }
   ],
   "source": [
    "%%time\n",
    "for depth in range(7,15):\n",
    "    scores = cross_val_score_DecisionTreeRegressor (X_1, y_1,depth)\n",
    "    final_score = pd.Series(scores).mean()  \n",
    "    print(\"Depth =\", depth, \": \", end='')\n",
    "    print('Nilai RMSE rata-rata untuk model DecisionTreeRegressor:', final_score)\n",
    "    print('----------------------------------------------')"
   ]
  },
  {
   "cell_type": "code",
   "execution_count": 72,
   "metadata": {},
   "outputs": [],
   "source": [
    "def cross_val_score_RandomForestRegressor (X1, y1, estimators):\n",
    "    scores = []\n",
    "    sample_size = int(len(X1)/3)\n",
    "    for i in range(0, 3, 1):\n",
    "        valid_indexes = X1.iloc[i:i+sample_size].index\n",
    "        train_indexes = X1[~(X1.index.isin(valid_indexes))].index\n",
    "        X_train = X1.iloc[train_indexes]\n",
    "        X_valid = X1.iloc[valid_indexes]\n",
    "        y_train = y1.iloc[train_indexes]\n",
    "        y_valid = y1.iloc[valid_indexes]\n",
    "        \n",
    "        model = RandomForestRegressor(n_estimators=estimators,random_state=12345)\n",
    "        model = model.fit(X_train, y_train)\n",
    "        predicted_valid = model.predict(X_valid)\n",
    "        rmse = mean_squared_error(y_valid, predicted_valid)**0.5\n",
    "        scores.append(rmse)\n",
    "    return scores"
   ]
  },
  {
   "cell_type": "code",
   "execution_count": 73,
   "metadata": {},
   "outputs": [
    {
     "name": "stdout",
     "output_type": "stream",
     "text": [
      "Estimators = 10 : Nilai RMSE rata-rata untuk model RandomForestRegressor: 1938.9066431432818\n",
      "----------------------------------------------\n",
      "Estimators = 20 : Nilai RMSE rata-rata untuk model RandomForestRegressor: 1898.925070740181\n",
      "----------------------------------------------\n",
      "Estimators = 30 : Nilai RMSE rata-rata untuk model RandomForestRegressor: 1882.9468064467637\n",
      "----------------------------------------------\n",
      "Estimators = 40 : Nilai RMSE rata-rata untuk model RandomForestRegressor: 1875.8411734313443\n",
      "----------------------------------------------\n",
      "Estimators = 50 : Nilai RMSE rata-rata untuk model RandomForestRegressor: 1872.23608302272\n",
      "----------------------------------------------\n",
      "Estimators = 60 : Nilai RMSE rata-rata untuk model RandomForestRegressor: 1867.7836967031897\n",
      "----------------------------------------------\n",
      "Estimators = 70 : Nilai RMSE rata-rata untuk model RandomForestRegressor: 1865.3203845512107\n",
      "----------------------------------------------\n",
      "Estimators = 80 : Nilai RMSE rata-rata untuk model RandomForestRegressor: 1863.458006246822\n",
      "----------------------------------------------\n",
      "CPU times: total: 12min 32s\n",
      "Wall time: 12min 50s\n"
     ]
    }
   ],
   "source": [
    "%%time\n",
    "for estimators in range(10,81,10):\n",
    "    scores = cross_val_score_RandomForestRegressor (X_1, y_1, estimators)\n",
    "    final_score = pd.Series(scores).mean()\n",
    "    print(\"Estimators =\", estimators, \": \", end='')\n",
    "    print('Nilai RMSE rata-rata untuk model RandomForestRegressor:', final_score)\n",
    "    print('----------------------------------------------')"
   ]
  },
  {
   "cell_type": "markdown",
   "metadata": {},
   "source": [
    "Proses di atas memakan waktu yang lama di mana memerlukan waktu sekitar 13 menit."
   ]
  },
  {
   "cell_type": "markdown",
   "metadata": {},
   "source": [
    "**Step 3.10** Gradient Boosting."
   ]
  },
  {
   "cell_type": "code",
   "execution_count": 74,
   "metadata": {},
   "outputs": [],
   "source": [
    "def LGBM_regressor(X1, y1, estimators):\n",
    "    model = LGBMRegressor(n_estimators=estimators, random_state=12345)\n",
    "    model.fit(X_train, y_train)\n",
    "    predicted_valid = model.predict(X_valid)\n",
    "    rmse = mean_squared_error(y_valid, predicted_valid)**0.5\n",
    "    mean = pd.Series(predicted_valid).mean()\n",
    "    return rmse, mean"
   ]
  },
  {
   "cell_type": "code",
   "execution_count": 75,
   "metadata": {},
   "outputs": [
    {
     "name": "stdout",
     "output_type": "stream",
     "text": [
      "[LightGBM] [Info] Auto-choosing row-wise multi-threading, the overhead of testing was 0.005090 seconds.\n",
      "You can set `force_row_wise=true` to remove the overhead.\n",
      "And if memory is not enough, you can set `force_col_wise=true`.\n",
      "[LightGBM] [Info] Total Bins 663\n",
      "[LightGBM] [Info] Number of data points in the train set: 178398, number of used features: 10\n",
      "[LightGBM] [Info] Start training from score 4424.118880\n",
      "Estimators = 30 : Nilai RMSE rata-rata untuk model LGBMRegressor: 2041.1506704267638\n",
      "Mean: 4436.687036703251\n",
      "----------------------------------------------\n",
      "[LightGBM] [Info] Auto-choosing row-wise multi-threading, the overhead of testing was 0.005067 seconds.\n",
      "You can set `force_row_wise=true` to remove the overhead.\n",
      "And if memory is not enough, you can set `force_col_wise=true`.\n",
      "[LightGBM] [Info] Total Bins 663\n",
      "[LightGBM] [Info] Number of data points in the train set: 178398, number of used features: 10\n",
      "[LightGBM] [Info] Start training from score 4424.118880\n",
      "Estimators = 40 : Nilai RMSE rata-rata untuk model LGBMRegressor: 1963.8057667034998\n",
      "Mean: 4436.766065029987\n",
      "----------------------------------------------\n",
      "[LightGBM] [Info] Auto-choosing row-wise multi-threading, the overhead of testing was 0.004911 seconds.\n",
      "You can set `force_row_wise=true` to remove the overhead.\n",
      "And if memory is not enough, you can set `force_col_wise=true`.\n",
      "[LightGBM] [Info] Total Bins 663\n",
      "[LightGBM] [Info] Number of data points in the train set: 178398, number of used features: 10\n",
      "[LightGBM] [Info] Start training from score 4424.118880\n",
      "Estimators = 50 : Nilai RMSE rata-rata untuk model LGBMRegressor: 1922.0215603824204\n",
      "Mean: 4437.2254401191385\n",
      "----------------------------------------------\n",
      "[LightGBM] [Info] Auto-choosing row-wise multi-threading, the overhead of testing was 0.005026 seconds.\n",
      "You can set `force_row_wise=true` to remove the overhead.\n",
      "And if memory is not enough, you can set `force_col_wise=true`.\n",
      "[LightGBM] [Info] Total Bins 663\n",
      "[LightGBM] [Info] Number of data points in the train set: 178398, number of used features: 10\n",
      "[LightGBM] [Info] Start training from score 4424.118880\n",
      "Estimators = 60 : Nilai RMSE rata-rata untuk model LGBMRegressor: 1896.28318065844\n",
      "Mean: 4437.180943084175\n",
      "----------------------------------------------\n",
      "[LightGBM] [Info] Auto-choosing row-wise multi-threading, the overhead of testing was 0.005401 seconds.\n",
      "You can set `force_row_wise=true` to remove the overhead.\n",
      "And if memory is not enough, you can set `force_col_wise=true`.\n",
      "[LightGBM] [Info] Total Bins 663\n",
      "[LightGBM] [Info] Number of data points in the train set: 178398, number of used features: 10\n",
      "[LightGBM] [Info] Start training from score 4424.118880\n",
      "Estimators = 70 : Nilai RMSE rata-rata untuk model LGBMRegressor: 1878.273171647757\n",
      "Mean: 4437.48062478307\n",
      "----------------------------------------------\n",
      "[LightGBM] [Info] Auto-choosing row-wise multi-threading, the overhead of testing was 0.004806 seconds.\n",
      "You can set `force_row_wise=true` to remove the overhead.\n",
      "And if memory is not enough, you can set `force_col_wise=true`.\n",
      "[LightGBM] [Info] Total Bins 663\n",
      "[LightGBM] [Info] Number of data points in the train set: 178398, number of used features: 10\n",
      "[LightGBM] [Info] Start training from score 4424.118880\n",
      "Estimators = 80 : Nilai RMSE rata-rata untuk model LGBMRegressor: 1862.9703785586387\n",
      "Mean: 4437.6707534696525\n",
      "----------------------------------------------\n",
      "[LightGBM] [Info] Auto-choosing row-wise multi-threading, the overhead of testing was 0.003898 seconds.\n",
      "You can set `force_row_wise=true` to remove the overhead.\n",
      "And if memory is not enough, you can set `force_col_wise=true`.\n",
      "[LightGBM] [Info] Total Bins 663\n",
      "[LightGBM] [Info] Number of data points in the train set: 178398, number of used features: 10\n",
      "[LightGBM] [Info] Start training from score 4424.118880\n",
      "Estimators = 90 : Nilai RMSE rata-rata untuk model LGBMRegressor: 1850.4208106911344\n",
      "Mean: 4437.43900176753\n",
      "----------------------------------------------\n",
      "[LightGBM] [Info] Auto-choosing row-wise multi-threading, the overhead of testing was 0.003853 seconds.\n",
      "You can set `force_row_wise=true` to remove the overhead.\n",
      "And if memory is not enough, you can set `force_col_wise=true`.\n",
      "[LightGBM] [Info] Total Bins 663\n",
      "[LightGBM] [Info] Number of data points in the train set: 178398, number of used features: 10\n",
      "[LightGBM] [Info] Start training from score 4424.118880\n",
      "Estimators = 100 : Nilai RMSE rata-rata untuk model LGBMRegressor: 1842.07684642355\n",
      "Mean: 4437.4183203625\n",
      "----------------------------------------------\n",
      "[LightGBM] [Info] Auto-choosing row-wise multi-threading, the overhead of testing was 0.003737 seconds.\n",
      "You can set `force_row_wise=true` to remove the overhead.\n",
      "And if memory is not enough, you can set `force_col_wise=true`.\n",
      "[LightGBM] [Info] Total Bins 663\n",
      "[LightGBM] [Info] Number of data points in the train set: 178398, number of used features: 10\n",
      "[LightGBM] [Info] Start training from score 4424.118880\n",
      "Estimators = 110 : Nilai RMSE rata-rata untuk model LGBMRegressor: 1835.359727512312\n",
      "Mean: 4437.173539201084\n",
      "----------------------------------------------\n",
      "[LightGBM] [Info] Auto-choosing row-wise multi-threading, the overhead of testing was 0.004327 seconds.\n",
      "You can set `force_row_wise=true` to remove the overhead.\n",
      "And if memory is not enough, you can set `force_col_wise=true`.\n",
      "[LightGBM] [Info] Total Bins 663\n",
      "[LightGBM] [Info] Number of data points in the train set: 178398, number of used features: 10\n",
      "[LightGBM] [Info] Start training from score 4424.118880\n",
      "Estimators = 120 : Nilai RMSE rata-rata untuk model LGBMRegressor: 1827.9101842305624\n",
      "Mean: 4436.870039556516\n",
      "----------------------------------------------\n",
      "[LightGBM] [Info] Auto-choosing row-wise multi-threading, the overhead of testing was 0.004022 seconds.\n",
      "You can set `force_row_wise=true` to remove the overhead.\n",
      "And if memory is not enough, you can set `force_col_wise=true`.\n",
      "[LightGBM] [Info] Total Bins 663\n",
      "[LightGBM] [Info] Number of data points in the train set: 178398, number of used features: 10\n",
      "[LightGBM] [Info] Start training from score 4424.118880\n",
      "Estimators = 130 : Nilai RMSE rata-rata untuk model LGBMRegressor: 1821.6849295579025\n",
      "Mean: 4436.994998578883\n",
      "----------------------------------------------\n",
      "CPU times: total: 32.7 s\n",
      "Wall time: 4.19 s\n"
     ]
    }
   ],
   "source": [
    "%%time\n",
    "for estimators in range(30,131,10):\n",
    "    rmse,mean = LGBM_regressor(X_train, y_train,estimators)\n",
    "    print(\"Estimators =\", estimators, \": \", end='')\n",
    "    print('Nilai RMSE rata-rata untuk model LGBMRegressor:', rmse)\n",
    "    print(\"Mean:\", mean)\n",
    "    print('----------------------------------------------')"
   ]
  },
  {
   "cell_type": "code",
   "execution_count": 76,
   "metadata": {},
   "outputs": [],
   "source": [
    "def CatBoost_regressor(X1, y1, estimators):\n",
    "    model = CatBoostRegressor(n_estimators=estimators, random_state=12345)\n",
    "    model.fit(X_train, y_train, verbose=10)\n",
    "    predicted_valid = model.predict(X_valid)\n",
    "    rmse = mean_squared_error(y_valid, predicted_valid)**0.5\n",
    "    mean = pd.Series(predicted_valid).mean()\n",
    "    return rmse, mean"
   ]
  },
  {
   "cell_type": "code",
   "execution_count": 77,
   "metadata": {},
   "outputs": [
    {
     "name": "stdout",
     "output_type": "stream",
     "text": [
      "Learning rate set to 0.5\n",
      "0:\tlearn: 3285.8681240\ttotal: 19.8ms\tremaining: 575ms\n",
      "10:\tlearn: 2071.8382306\ttotal: 189ms\tremaining: 326ms\n",
      "20:\tlearn: 1968.6680085\ttotal: 358ms\tremaining: 153ms\n",
      "29:\tlearn: 1919.9292559\ttotal: 513ms\tremaining: 0us\n",
      "Estimators = 30 : Nilai RMSE rata-rata untuk model CatBoostRegressor: 1930.7533605111912\n",
      "mean: 4438.033549663069\n",
      "----------------------------------------------\n",
      "Learning rate set to 0.5\n",
      "0:\tlearn: 3285.8681240\ttotal: 24.8ms\tremaining: 969ms\n",
      "10:\tlearn: 2071.8382306\ttotal: 220ms\tremaining: 580ms\n",
      "20:\tlearn: 1968.6680085\ttotal: 388ms\tremaining: 351ms\n",
      "30:\tlearn: 1916.7902323\ttotal: 567ms\tremaining: 165ms\n",
      "39:\tlearn: 1882.1518100\ttotal: 722ms\tremaining: 0us\n",
      "Estimators = 40 : Nilai RMSE rata-rata untuk model CatBoostRegressor: 1898.2691845616414\n",
      "mean: 4438.292073645338\n",
      "----------------------------------------------\n",
      "Learning rate set to 0.5\n",
      "0:\tlearn: 3285.8681240\ttotal: 19ms\tremaining: 931ms\n",
      "10:\tlearn: 2071.8382306\ttotal: 172ms\tremaining: 609ms\n",
      "20:\tlearn: 1968.6680085\ttotal: 302ms\tremaining: 418ms\n",
      "30:\tlearn: 1916.7902323\ttotal: 430ms\tremaining: 264ms\n",
      "40:\tlearn: 1879.0110362\ttotal: 560ms\tremaining: 123ms\n",
      "49:\tlearn: 1850.7197367\ttotal: 667ms\tremaining: 0us\n",
      "Estimators = 50 : Nilai RMSE rata-rata untuk model CatBoostRegressor: 1873.4294352349198\n",
      "mean: 4438.383805372556\n",
      "----------------------------------------------\n",
      "Learning rate set to 0.5\n",
      "0:\tlearn: 3285.8681240\ttotal: 14.9ms\tremaining: 878ms\n",
      "10:\tlearn: 2071.8382306\ttotal: 144ms\tremaining: 640ms\n",
      "20:\tlearn: 1968.6680085\ttotal: 262ms\tremaining: 486ms\n",
      "30:\tlearn: 1916.7902323\ttotal: 382ms\tremaining: 357ms\n",
      "40:\tlearn: 1879.0110362\ttotal: 507ms\tremaining: 235ms\n",
      "50:\tlearn: 1848.9846819\ttotal: 617ms\tremaining: 109ms\n",
      "59:\tlearn: 1830.4213534\ttotal: 719ms\tremaining: 0us\n",
      "Estimators = 60 : Nilai RMSE rata-rata untuk model CatBoostRegressor: 1861.270376206263\n",
      "mean: 4439.186635100431\n",
      "----------------------------------------------\n",
      "Learning rate set to 0.5\n",
      "0:\tlearn: 3285.8681240\ttotal: 17.7ms\tremaining: 1.22s\n",
      "10:\tlearn: 2071.8382306\ttotal: 154ms\tremaining: 828ms\n",
      "20:\tlearn: 1968.6680085\ttotal: 288ms\tremaining: 672ms\n",
      "30:\tlearn: 1916.7902323\ttotal: 413ms\tremaining: 520ms\n",
      "40:\tlearn: 1879.0110362\ttotal: 537ms\tremaining: 379ms\n",
      "50:\tlearn: 1848.9846819\ttotal: 652ms\tremaining: 243ms\n",
      "60:\tlearn: 1827.4473344\ttotal: 767ms\tremaining: 113ms\n",
      "69:\tlearn: 1813.3964311\ttotal: 875ms\tremaining: 0us\n",
      "Estimators = 70 : Nilai RMSE rata-rata untuk model CatBoostRegressor: 1849.481005268915\n",
      "mean: 4439.785845674001\n",
      "----------------------------------------------\n",
      "Learning rate set to 0.5\n",
      "0:\tlearn: 3285.8681240\ttotal: 14.9ms\tremaining: 1.18s\n",
      "10:\tlearn: 2071.8382306\ttotal: 144ms\tremaining: 906ms\n",
      "20:\tlearn: 1968.6680085\ttotal: 266ms\tremaining: 749ms\n",
      "30:\tlearn: 1916.7902323\ttotal: 388ms\tremaining: 613ms\n",
      "40:\tlearn: 1879.0110362\ttotal: 509ms\tremaining: 484ms\n",
      "50:\tlearn: 1848.9846819\ttotal: 620ms\tremaining: 352ms\n",
      "60:\tlearn: 1827.4473344\ttotal: 737ms\tremaining: 229ms\n",
      "70:\tlearn: 1812.1987034\ttotal: 858ms\tremaining: 109ms\n",
      "79:\tlearn: 1797.8760872\ttotal: 966ms\tremaining: 0us\n",
      "Estimators = 80 : Nilai RMSE rata-rata untuk model CatBoostRegressor: 1838.4551691490187\n",
      "mean: 4439.787585148843\n",
      "----------------------------------------------\n",
      "Learning rate set to 0.5\n",
      "0:\tlearn: 3285.8681240\ttotal: 14ms\tremaining: 1.25s\n",
      "10:\tlearn: 2071.8382306\ttotal: 131ms\tremaining: 939ms\n",
      "20:\tlearn: 1968.6680085\ttotal: 253ms\tremaining: 833ms\n",
      "30:\tlearn: 1916.7902323\ttotal: 372ms\tremaining: 707ms\n",
      "40:\tlearn: 1879.0110362\ttotal: 495ms\tremaining: 592ms\n",
      "50:\tlearn: 1848.9846819\ttotal: 605ms\tremaining: 463ms\n",
      "60:\tlearn: 1827.4473344\ttotal: 721ms\tremaining: 343ms\n",
      "70:\tlearn: 1812.1987034\ttotal: 838ms\tremaining: 224ms\n",
      "80:\tlearn: 1796.2545981\ttotal: 963ms\tremaining: 107ms\n",
      "89:\tlearn: 1785.9958240\ttotal: 1.07s\tremaining: 0us\n",
      "Estimators = 90 : Nilai RMSE rata-rata untuk model CatBoostRegressor: 1831.1312617026551\n",
      "mean: 4440.3670949183315\n",
      "----------------------------------------------\n",
      "Learning rate set to 0.5\n",
      "0:\tlearn: 3285.8681240\ttotal: 16ms\tremaining: 1.59s\n",
      "10:\tlearn: 2071.8382306\ttotal: 137ms\tremaining: 1.11s\n",
      "20:\tlearn: 1968.6680085\ttotal: 262ms\tremaining: 987ms\n",
      "30:\tlearn: 1916.7902323\ttotal: 391ms\tremaining: 871ms\n",
      "40:\tlearn: 1879.0110362\ttotal: 514ms\tremaining: 739ms\n",
      "50:\tlearn: 1848.9846819\ttotal: 626ms\tremaining: 602ms\n",
      "60:\tlearn: 1827.4473344\ttotal: 740ms\tremaining: 473ms\n",
      "70:\tlearn: 1812.1987034\ttotal: 859ms\tremaining: 351ms\n",
      "80:\tlearn: 1796.2545981\ttotal: 984ms\tremaining: 231ms\n",
      "90:\tlearn: 1785.3758911\ttotal: 1.1s\tremaining: 109ms\n",
      "99:\tlearn: 1773.4436396\ttotal: 1.21s\tremaining: 0us\n",
      "Estimators = 100 : Nilai RMSE rata-rata untuk model CatBoostRegressor: 1825.328879255456\n",
      "mean: 4439.506398611155\n",
      "----------------------------------------------\n",
      "Learning rate set to 0.5\n",
      "0:\tlearn: 3285.8681240\ttotal: 14.2ms\tremaining: 1.54s\n",
      "10:\tlearn: 2071.8382306\ttotal: 133ms\tremaining: 1.2s\n",
      "20:\tlearn: 1968.6680085\ttotal: 253ms\tremaining: 1.07s\n",
      "30:\tlearn: 1916.7902323\ttotal: 376ms\tremaining: 957ms\n",
      "40:\tlearn: 1879.0110362\ttotal: 500ms\tremaining: 842ms\n",
      "50:\tlearn: 1848.9846819\ttotal: 614ms\tremaining: 711ms\n",
      "60:\tlearn: 1827.4473344\ttotal: 733ms\tremaining: 589ms\n",
      "70:\tlearn: 1812.1987034\ttotal: 854ms\tremaining: 469ms\n",
      "80:\tlearn: 1796.2545981\ttotal: 979ms\tremaining: 350ms\n",
      "90:\tlearn: 1785.3758911\ttotal: 1.1s\tremaining: 230ms\n",
      "100:\tlearn: 1772.4485682\ttotal: 1.23s\tremaining: 109ms\n",
      "109:\tlearn: 1764.0353144\ttotal: 1.33s\tremaining: 0us\n",
      "Estimators = 110 : Nilai RMSE rata-rata untuk model CatBoostRegressor: 1819.5116889536203\n",
      "mean: 4439.587086951781\n",
      "----------------------------------------------\n",
      "Learning rate set to 0.5\n",
      "0:\tlearn: 3285.8681240\ttotal: 13.8ms\tremaining: 1.64s\n",
      "10:\tlearn: 2071.8382306\ttotal: 136ms\tremaining: 1.34s\n",
      "20:\tlearn: 1968.6680085\ttotal: 262ms\tremaining: 1.24s\n",
      "30:\tlearn: 1916.7902323\ttotal: 388ms\tremaining: 1.11s\n",
      "40:\tlearn: 1879.0110362\ttotal: 514ms\tremaining: 990ms\n",
      "50:\tlearn: 1848.9846819\ttotal: 628ms\tremaining: 850ms\n",
      "60:\tlearn: 1827.4473344\ttotal: 746ms\tremaining: 721ms\n",
      "70:\tlearn: 1812.1987034\ttotal: 875ms\tremaining: 604ms\n",
      "80:\tlearn: 1796.2545981\ttotal: 1s\tremaining: 484ms\n",
      "90:\tlearn: 1785.3758911\ttotal: 1.13s\tremaining: 359ms\n",
      "100:\tlearn: 1772.4485682\ttotal: 1.25s\tremaining: 235ms\n",
      "110:\tlearn: 1762.7555646\ttotal: 1.37s\tremaining: 111ms\n",
      "119:\tlearn: 1754.6218083\ttotal: 1.48s\tremaining: 0us\n",
      "Estimators = 120 : Nilai RMSE rata-rata untuk model CatBoostRegressor: 1816.153753824653\n",
      "mean: 4439.297919538632\n",
      "----------------------------------------------\n",
      "Learning rate set to 0.487824\n",
      "0:\tlearn: 3309.9198613\ttotal: 17.4ms\tremaining: 2.24s\n",
      "10:\tlearn: 2071.9412012\ttotal: 148ms\tremaining: 1.6s\n",
      "20:\tlearn: 1955.2939699\ttotal: 271ms\tremaining: 1.4s\n",
      "30:\tlearn: 1911.4980140\ttotal: 390ms\tremaining: 1.24s\n",
      "40:\tlearn: 1875.5933188\ttotal: 512ms\tremaining: 1.11s\n",
      "50:\tlearn: 1852.1650412\ttotal: 636ms\tremaining: 986ms\n",
      "60:\tlearn: 1830.7105043\ttotal: 752ms\tremaining: 851ms\n",
      "70:\tlearn: 1814.0483362\ttotal: 877ms\tremaining: 729ms\n",
      "80:\tlearn: 1799.2734850\ttotal: 996ms\tremaining: 602ms\n",
      "90:\tlearn: 1785.1313993\ttotal: 1.12s\tremaining: 479ms\n",
      "100:\tlearn: 1771.9691517\ttotal: 1.23s\tremaining: 354ms\n",
      "110:\tlearn: 1762.0809124\ttotal: 1.35s\tremaining: 231ms\n",
      "120:\tlearn: 1751.9303316\ttotal: 1.47s\tremaining: 109ms\n",
      "129:\tlearn: 1742.9414649\ttotal: 1.57s\tremaining: 0us\n",
      "Estimators = 130 : Nilai RMSE rata-rata untuk model CatBoostRegressor: 1808.1109831176163\n",
      "mean: 4438.5672339326065\n",
      "----------------------------------------------\n",
      "CPU times: total: 1min 57s\n",
      "Wall time: 12.6 s\n"
     ]
    }
   ],
   "source": [
    "%%time\n",
    "for estimators in range(30,131,10):\n",
    "    rmse,mean = CatBoost_regressor(X_train, y_train,estimators)\n",
    "    print(\"Estimators =\", estimators, \": \", end='')\n",
    "    print('Nilai RMSE rata-rata untuk model CatBoostRegressor:', rmse)\n",
    "    print(\"mean:\", mean)\n",
    "    print('----------------------------------------------')"
   ]
  },
  {
   "cell_type": "code",
   "execution_count": 78,
   "metadata": {},
   "outputs": [],
   "source": [
    "def XGB_regressor(X1, y1, estimators):\n",
    "    model = XGBRegressor(n_estimators=estimators, random_state=12345)\n",
    "    model.fit(X_train, y_train)\n",
    "    predicted_valid = model.predict(X_valid)\n",
    "    rmse = mean_squared_error(y_valid, predicted_valid)**0.5\n",
    "    mean = pd.Series(predicted_valid).mean()\n",
    "    return rmse, mean"
   ]
  },
  {
   "cell_type": "code",
   "execution_count": 79,
   "metadata": {
    "scrolled": true
   },
   "outputs": [
    {
     "name": "stdout",
     "output_type": "stream",
     "text": [
      "Estimators = 30 : Nilai RMSE rata-rata untuk model XGBRegressor: 1875.3941355339282\n",
      "mean: 4440.904\n",
      "----------------------------------------------\n",
      "Estimators = 40 : Nilai RMSE rata-rata untuk model XGBRegressor: 1849.3619475716375\n",
      "mean: 4440.6655\n",
      "----------------------------------------------\n",
      "Estimators = 50 : Nilai RMSE rata-rata untuk model XGBRegressor: 1829.550875969385\n",
      "mean: 4439.3794\n",
      "----------------------------------------------\n",
      "Estimators = 60 : Nilai RMSE rata-rata untuk model XGBRegressor: 1820.5324120869514\n",
      "mean: 4438.905\n",
      "----------------------------------------------\n",
      "Estimators = 70 : Nilai RMSE rata-rata untuk model XGBRegressor: 1814.2363106233634\n",
      "mean: 4439.132\n",
      "----------------------------------------------\n",
      "Estimators = 80 : Nilai RMSE rata-rata untuk model XGBRegressor: 1806.6243160547492\n",
      "mean: 4439.6367\n",
      "----------------------------------------------\n",
      "Estimators = 90 : Nilai RMSE rata-rata untuk model XGBRegressor: 1797.6360008315448\n",
      "mean: 4439.693\n",
      "----------------------------------------------\n",
      "Estimators = 100 : Nilai RMSE rata-rata untuk model XGBRegressor: 1795.3234956693302\n",
      "mean: 4439.454\n",
      "----------------------------------------------\n",
      "Estimators = 110 : Nilai RMSE rata-rata untuk model XGBRegressor: 1791.223594429125\n",
      "mean: 4439.1265\n",
      "----------------------------------------------\n",
      "Estimators = 120 : Nilai RMSE rata-rata untuk model XGBRegressor: 1785.1529351406043\n",
      "mean: 4438.9546\n",
      "----------------------------------------------\n",
      "Estimators = 130 : Nilai RMSE rata-rata untuk model XGBRegressor: 1781.8401115489162\n",
      "mean: 4438.4995\n",
      "----------------------------------------------\n",
      "CPU times: total: 30.8 s\n",
      "Wall time: 3.96 s\n"
     ]
    }
   ],
   "source": [
    "%%time\n",
    "for estimators in range(30,131,10):\n",
    "    rmse,mean = XGB_regressor(X_train, y_train,estimators)\n",
    "    print(\"Estimators =\", estimators, \": \", end='')\n",
    "    print('Nilai RMSE rata-rata untuk model XGBRegressor:', rmse)\n",
    "    print(\"mean:\", mean)\n",
    "    print('----------------------------------------------')"
   ]
  },
  {
   "cell_type": "markdown",
   "metadata": {},
   "source": [
    "**Step 3.11** Membuat kondisi jika data kategorikal tidak diubah ke nominal."
   ]
  },
  {
   "cell_type": "code",
   "execution_count": 80,
   "metadata": {},
   "outputs": [],
   "source": [
    "categorical = ['Brand','Model','VehicleType','Gearbox','FuelType']"
   ]
  },
  {
   "cell_type": "code",
   "execution_count": 81,
   "metadata": {},
   "outputs": [],
   "source": [
    "df_categorical[categorical] = df_categorical[categorical].astype('category')\n",
    "df_categorical['NotRepaired'] = df_categorical['NotRepaired'].astype('int64')"
   ]
  },
  {
   "cell_type": "markdown",
   "metadata": {},
   "source": [
    "**Step 3.12**  Mengubah fitur kategorikal ke format kategori."
   ]
  },
  {
   "cell_type": "code",
   "execution_count": 82,
   "metadata": {},
   "outputs": [],
   "source": [
    "X_ = df_categorical.drop(['Price'],axis=1)\n",
    "y_ = df_categorical['Price']"
   ]
  },
  {
   "cell_type": "markdown",
   "metadata": {},
   "source": [
    "**Step 3.13** Melakukan split data."
   ]
  },
  {
   "cell_type": "code",
   "execution_count": 83,
   "metadata": {},
   "outputs": [
    {
     "name": "stdout",
     "output_type": "stream",
     "text": [
      "Ukuran feature set train: (178398, 10)\n",
      "Ukuran feature set valid: (59466, 10)\n",
      "Ukuran feature set test: (79288, 10)\n"
     ]
    }
   ],
   "source": [
    "X__1, X__test, y__1, y__test = train_test_split(X_, y_, test_size=0.25, random_state=12345)\n",
    "X__train, X__valid, y__train, y__valid = train_test_split(X__1, y__1, test_size=0.25, random_state=12345)\n",
    "\n",
    "X__1 = X__1.reset_index(drop=True)\n",
    "X__test = X__test.reset_index(drop=True)\n",
    "y__1 = y__1.reset_index(drop=True)\n",
    "y__test = y__test.reset_index(drop=True)\n",
    "\n",
    "print('Ukuran feature set train:', X__train.shape)\n",
    "print('Ukuran feature set valid:', X__valid.shape)\n",
    "print('Ukuran feature set test:', X__test.shape)"
   ]
  },
  {
   "cell_type": "markdown",
   "metadata": {},
   "source": [
    "**Step 3.14** Menskalakan data numerikal."
   ]
  },
  {
   "cell_type": "code",
   "execution_count": 84,
   "metadata": {},
   "outputs": [],
   "source": [
    "scaler = StandardScaler()\n",
    "numeric = ['RegistrationYear','Power','Mileage']\n",
    "X__train[numeric] = scaler.fit_transform(X__train[numeric])\n",
    "X__valid[numeric] = scaler.transform(X__valid[numeric])\n",
    "X__test[numeric] = scaler.transform(X__test[numeric])"
   ]
  },
  {
   "cell_type": "markdown",
   "metadata": {},
   "source": [
    "**Step 3.15** Menjalankan model."
   ]
  },
  {
   "cell_type": "code",
   "execution_count": 85,
   "metadata": {},
   "outputs": [],
   "source": [
    "def cat_LGBM_regressor(X1, y1, estimators, categorical_feature=categorical):\n",
    "    model = LGBMRegressor(n_estimators=estimators, random_state=12345)\n",
    "    model.fit(X__train, y__train)\n",
    "    predicted_valid = model.predict(X__valid)\n",
    "    rmse = mean_squared_error(y__valid, predicted_valid)**0.5\n",
    "    mean = pd.Series(predicted_valid).mean()\n",
    "    return rmse, mean"
   ]
  },
  {
   "cell_type": "code",
   "execution_count": 86,
   "metadata": {},
   "outputs": [
    {
     "name": "stdout",
     "output_type": "stream",
     "text": [
      "[LightGBM] [Info] Auto-choosing row-wise multi-threading, the overhead of testing was 0.005080 seconds.\n",
      "You can set `force_row_wise=true` to remove the overhead.\n",
      "And if memory is not enough, you can set `force_col_wise=true`.\n",
      "[LightGBM] [Info] Total Bins 664\n",
      "[LightGBM] [Info] Number of data points in the train set: 178398, number of used features: 10\n",
      "[LightGBM] [Info] Start training from score 4424.118880\n",
      "Estimators = 30 : Nilai RMSE rata-rata untuk model LGBMRegressor: 1912.1243718846827\n",
      "Mean: 4434.28829475852\n",
      "----------------------------------------------\n",
      "[LightGBM] [Info] Auto-choosing row-wise multi-threading, the overhead of testing was 0.005059 seconds.\n",
      "You can set `force_row_wise=true` to remove the overhead.\n",
      "And if memory is not enough, you can set `force_col_wise=true`.\n",
      "[LightGBM] [Info] Total Bins 664\n",
      "[LightGBM] [Info] Number of data points in the train set: 178398, number of used features: 10\n",
      "[LightGBM] [Info] Start training from score 4424.118880\n",
      "Estimators = 40 : Nilai RMSE rata-rata untuk model LGBMRegressor: 1857.29160125117\n",
      "Mean: 4434.136964580989\n",
      "----------------------------------------------\n",
      "[LightGBM] [Info] Auto-choosing row-wise multi-threading, the overhead of testing was 0.005326 seconds.\n",
      "You can set `force_row_wise=true` to remove the overhead.\n",
      "And if memory is not enough, you can set `force_col_wise=true`.\n",
      "[LightGBM] [Info] Total Bins 664\n",
      "[LightGBM] [Info] Number of data points in the train set: 178398, number of used features: 10\n",
      "[LightGBM] [Info] Start training from score 4424.118880\n",
      "Estimators = 50 : Nilai RMSE rata-rata untuk model LGBMRegressor: 1833.911590512762\n",
      "Mean: 4434.269480946635\n",
      "----------------------------------------------\n",
      "[LightGBM] [Info] Auto-choosing row-wise multi-threading, the overhead of testing was 0.005324 seconds.\n",
      "You can set `force_row_wise=true` to remove the overhead.\n",
      "And if memory is not enough, you can set `force_col_wise=true`.\n",
      "[LightGBM] [Info] Total Bins 664\n",
      "[LightGBM] [Info] Number of data points in the train set: 178398, number of used features: 10\n",
      "[LightGBM] [Info] Start training from score 4424.118880\n",
      "Estimators = 60 : Nilai RMSE rata-rata untuk model LGBMRegressor: 1817.9161829336526\n",
      "Mean: 4434.827465945594\n",
      "----------------------------------------------\n",
      "[LightGBM] [Info] Auto-choosing row-wise multi-threading, the overhead of testing was 0.004640 seconds.\n",
      "You can set `force_row_wise=true` to remove the overhead.\n",
      "And if memory is not enough, you can set `force_col_wise=true`.\n",
      "[LightGBM] [Info] Total Bins 664\n",
      "[LightGBM] [Info] Number of data points in the train set: 178398, number of used features: 10\n",
      "[LightGBM] [Info] Start training from score 4424.118880\n",
      "Estimators = 70 : Nilai RMSE rata-rata untuk model LGBMRegressor: 1806.6215835745506\n",
      "Mean: 4434.671300459842\n",
      "----------------------------------------------\n",
      "[LightGBM] [Info] Auto-choosing row-wise multi-threading, the overhead of testing was 0.004277 seconds.\n",
      "You can set `force_row_wise=true` to remove the overhead.\n",
      "And if memory is not enough, you can set `force_col_wise=true`.\n",
      "[LightGBM] [Info] Total Bins 664\n",
      "[LightGBM] [Info] Number of data points in the train set: 178398, number of used features: 10\n",
      "[LightGBM] [Info] Start training from score 4424.118880\n",
      "Estimators = 80 : Nilai RMSE rata-rata untuk model LGBMRegressor: 1798.4743741869224\n",
      "Mean: 4434.754633084742\n",
      "----------------------------------------------\n",
      "[LightGBM] [Info] Auto-choosing row-wise multi-threading, the overhead of testing was 0.003729 seconds.\n",
      "You can set `force_row_wise=true` to remove the overhead.\n",
      "And if memory is not enough, you can set `force_col_wise=true`.\n",
      "[LightGBM] [Info] Total Bins 664\n",
      "[LightGBM] [Info] Number of data points in the train set: 178398, number of used features: 10\n",
      "[LightGBM] [Info] Start training from score 4424.118880\n",
      "Estimators = 90 : Nilai RMSE rata-rata untuk model LGBMRegressor: 1792.429562733457\n",
      "Mean: 4434.914414079133\n",
      "----------------------------------------------\n",
      "[LightGBM] [Info] Auto-choosing row-wise multi-threading, the overhead of testing was 0.004126 seconds.\n",
      "You can set `force_row_wise=true` to remove the overhead.\n",
      "And if memory is not enough, you can set `force_col_wise=true`.\n",
      "[LightGBM] [Info] Total Bins 664\n",
      "[LightGBM] [Info] Number of data points in the train set: 178398, number of used features: 10\n",
      "[LightGBM] [Info] Start training from score 4424.118880\n",
      "Estimators = 100 : Nilai RMSE rata-rata untuk model LGBMRegressor: 1786.6252450233337\n",
      "Mean: 4434.842949399704\n",
      "----------------------------------------------\n",
      "[LightGBM] [Info] Auto-choosing row-wise multi-threading, the overhead of testing was 0.004137 seconds.\n",
      "You can set `force_row_wise=true` to remove the overhead.\n",
      "And if memory is not enough, you can set `force_col_wise=true`.\n",
      "[LightGBM] [Info] Total Bins 664\n",
      "[LightGBM] [Info] Number of data points in the train set: 178398, number of used features: 10\n",
      "[LightGBM] [Info] Start training from score 4424.118880\n",
      "Estimators = 110 : Nilai RMSE rata-rata untuk model LGBMRegressor: 1781.2253442295264\n",
      "Mean: 4434.819247570955\n",
      "----------------------------------------------\n",
      "[LightGBM] [Info] Auto-choosing row-wise multi-threading, the overhead of testing was 0.003872 seconds.\n",
      "You can set `force_row_wise=true` to remove the overhead.\n",
      "And if memory is not enough, you can set `force_col_wise=true`.\n",
      "[LightGBM] [Info] Total Bins 664\n",
      "[LightGBM] [Info] Number of data points in the train set: 178398, number of used features: 10\n",
      "[LightGBM] [Info] Start training from score 4424.118880\n",
      "Estimators = 120 : Nilai RMSE rata-rata untuk model LGBMRegressor: 1776.821916479131\n",
      "Mean: 4434.971121395477\n",
      "----------------------------------------------\n",
      "[LightGBM] [Info] Auto-choosing row-wise multi-threading, the overhead of testing was 0.003845 seconds.\n",
      "You can set `force_row_wise=true` to remove the overhead.\n",
      "And if memory is not enough, you can set `force_col_wise=true`.\n",
      "[LightGBM] [Info] Total Bins 664\n",
      "[LightGBM] [Info] Number of data points in the train set: 178398, number of used features: 10\n",
      "[LightGBM] [Info] Start training from score 4424.118880\n",
      "Estimators = 130 : Nilai RMSE rata-rata untuk model LGBMRegressor: 1773.4855943089883\n",
      "Mean: 4435.084455924434\n",
      "----------------------------------------------\n",
      "CPU times: total: 37.2 s\n",
      "Wall time: 4.77 s\n"
     ]
    }
   ],
   "source": [
    "%%time\n",
    "for estimators in range(30,131,10):\n",
    "    rmse,mean = cat_LGBM_regressor(X__train, y__train,estimators, categorical_feature=categorical)\n",
    "    print(\"Estimators =\", estimators, \": \", end='')\n",
    "    print('Nilai RMSE rata-rata untuk model LGBMRegressor:', rmse)\n",
    "    print(\"Mean:\", mean)\n",
    "    print('----------------------------------------------')"
   ]
  },
  {
   "cell_type": "markdown",
   "metadata": {},
   "source": [
    "## Kesimpulan <a name=\"analysis_conclusion\"></a>"
   ]
  },
  {
   "cell_type": "markdown",
   "metadata": {},
   "source": [
    "- Kita telah melakukan standarisasi feature dengan menggunakan StandardScaler pada set train untuk mengurangi overfitting.\n",
    "- Regresi Linier merupakan model tercepat namun tidak memberikan hasil RMSE yang baik.\n",
    "- Random Forest Regressor adalah yang paling lambat jadi kami tidak akan memeriksanya.\n",
    "- DecisionTreeRegressor dan CatBoostRegressor adalah model yang cepat.\n",
    "- Nilai RMSE terbaik adalah model LGBMRegressor dan RandomForestRegressor jadi kita akan melakukan setting hyperparameternya.\n",
    "- Estimator terbaik RandomForestRegressor berjumlah lebih dari 30 estimator tetapi membutuhkan waktu yang lama untuk menjalankannya.\n",
    "- Kita telah memeriksa apa yang terjadi pada Regresor LGMB jika kita tidak mengubah data kategorikal menjadi nominal, karena model ini dapat mendukung pengerjaan dengan data kategorikal. Kita melakukan konversi fitur kategorikal ke format kategori serta menyiapkan data kategorikal untuk melatih model\n",
    "- LGBMRegressor dengan data kategorikal dan penyetelan hyperparameter categorical_feature memiliki hasil terbaik dengan RMSE-nya 1822, dan jauh lebih cepat (sekitar 4 detik) dibandingkan RandomForestRegressor (sekitar 13 menit).\n",
    "- Kita akan memeriksa LGBMRegressor dengan estimator 130, RandomForestRegressor dengan 80 estimator dan DecisionTreeRegressor hyperparameter max_depth 11."
   ]
  },
  {
   "cell_type": "markdown",
   "metadata": {},
   "source": [
    "[Kembali ke Daftar Isi](#back)"
   ]
  },
  {
   "cell_type": "markdown",
   "metadata": {},
   "source": [
    "# Tahap 4. Pengujian <a name=\"test\"></a>"
   ]
  },
  {
   "cell_type": "markdown",
   "metadata": {},
   "source": [
    "**Step 4.1** Menjalankan model Decision Tree Regressor, Random Forest Regressor, dan LGBM Regressor sebagai tahap awal."
   ]
  },
  {
   "cell_type": "code",
   "execution_count": 90,
   "metadata": {},
   "outputs": [
    {
     "name": "stdout",
     "output_type": "stream",
     "text": [
      "Nilai RMSE untuk model Decision Tree Regressor: 2106.389348588228\n",
      "Nilai Mean untuk model Decision Tree Regressor: 4428.188441386057\n",
      "CPU times: total: 578 ms\n",
      "Wall time: 581 ms\n"
     ]
    }
   ],
   "source": [
    "%%time\n",
    "dtr_model = DecisionTreeRegressor(max_depth=11,random_state=12345)\n",
    "dtr_model.fit(X_train,y_train)\n",
    "predicted_test = dtr_model.predict(X_test)\n",
    "rmse = mean_squared_error(y_test, predicted_test)**0.5\n",
    "print(\"Nilai RMSE untuk model Decision Tree Regressor:\", rmse)\n",
    "print(\"Nilai Mean untuk model Decision Tree Regressor:\", pd.Series(predicted_test).mean())"
   ]
  },
  {
   "cell_type": "code",
   "execution_count": 91,
   "metadata": {},
   "outputs": [
    {
     "name": "stdout",
     "output_type": "stream",
     "text": [
      "Nilai RMSE untuk model Random Forest Regressor: 1858.232139374764\n",
      "Nilai Mean untuk model Random Forest Regressor: 4448.217610886819\n",
      "CPU times: total: 1min 1s\n",
      "Wall time: 1min 2s\n"
     ]
    }
   ],
   "source": [
    "%%time\n",
    "rfr_model = RandomForestRegressor(n_estimators=80 ,random_state=12345)\n",
    "rfr_model.fit(X_train,y_train)\n",
    "predicted_test = rfr_model.predict(X_test)\n",
    "rmse = mean_squared_error(y_test, predicted_test)**0.5\n",
    "print(\"Nilai RMSE untuk model Random Forest Regressor:\", rmse)\n",
    "print(\"Nilai Mean untuk model Random Forest Regressor:\", pd.Series(predicted_test).mean())"
   ]
  },
  {
   "cell_type": "code",
   "execution_count": 92,
   "metadata": {},
   "outputs": [
    {
     "name": "stdout",
     "output_type": "stream",
     "text": [
      "[LightGBM] [Info] Auto-choosing row-wise multi-threading, the overhead of testing was 0.004910 seconds.\n",
      "You can set `force_row_wise=true` to remove the overhead.\n",
      "And if memory is not enough, you can set `force_col_wise=true`.\n",
      "[LightGBM] [Info] Total Bins 663\n",
      "[LightGBM] [Info] Number of data points in the train set: 178398, number of used features: 10\n",
      "[LightGBM] [Info] Start training from score 4424.118880\n",
      "Nilai RMSE untuk model LGBM Regressor: 1830.776504489804\n",
      "Nilai Mean untuk model LGBM Regressor: 4417.121237336348\n",
      "CPU times: total: 4.38 s\n",
      "Wall time: 616 ms\n"
     ]
    }
   ],
   "source": [
    "%%time\n",
    "lgbm_model = LGBMRegressor(n_estimators=130, random_state=12345)\n",
    "lgbm_model.fit(X_train,y_train)\n",
    "predicted_test = lgbm_model.predict(X_test)\n",
    "rmse = mean_squared_error(y_test, predicted_test)**0.5\n",
    "print(\"Nilai RMSE untuk model LGBM Regressor:\", rmse)\n",
    "print(\"Nilai Mean untuk model LGBM Regressor:\", pd.Series(predicted_test).mean())"
   ]
  },
  {
   "cell_type": "markdown",
   "metadata": {},
   "source": [
    "Model Random Forest Regressor memiliki RMSE terbaik tahun 1858 (setelah cross-validation), namun sangat lambat saat menghitung model. Sebaliknya, model LGBM Regressor cepat dalam menghitung dan menyesuaikan (fit) model serta memberikan hasil yang baik, dengan nilai RMSE 1831 lebih baik dibandingkan Random Forest Regressor dan lebih cepat."
   ]
  },
  {
   "cell_type": "markdown",
   "metadata": {},
   "source": [
    "**Step 4.2** Menyempurnakan model LGBM Regressor dengan mengubah hyperparameter untuk mendapatkan RMSE yang lebih baik."
   ]
  },
  {
   "cell_type": "code",
   "execution_count": 93,
   "metadata": {},
   "outputs": [
    {
     "name": "stdout",
     "output_type": "stream",
     "text": [
      "[LightGBM] [Debug] Dataset::GetMultiBinFromSparseFeatures: sparse rate 0.849743\n",
      "[LightGBM] [Debug] Dataset::GetMultiBinFromAllFeatures: sparse rate 0.190611\n",
      "[LightGBM] [Debug] init for col-wise cost 0.003531 seconds, init for row-wise cost 0.004223 seconds\n",
      "[LightGBM] [Info] Auto-choosing row-wise multi-threading, the overhead of testing was 0.005059 seconds.\n",
      "You can set `force_row_wise=true` to remove the overhead.\n",
      "And if memory is not enough, you can set `force_col_wise=true`.\n",
      "[LightGBM] [Debug] Using Dense Multi-Val Bin\n",
      "[LightGBM] [Info] Total Bins 663\n",
      "[LightGBM] [Info] Number of data points in the train set: 178398, number of used features: 10\n",
      "[LightGBM] [Info] Start training from score 4424.118880\n",
      "[LightGBM] [Debug] Trained a tree with leaves = 31 and depth = 7\n",
      "[LightGBM] [Debug] Trained a tree with leaves = 31 and depth = 8\n",
      "[LightGBM] [Debug] Trained a tree with leaves = 31 and depth = 8\n",
      "[LightGBM] [Debug] Trained a tree with leaves = 31 and depth = 10\n",
      "[LightGBM] [Debug] Trained a tree with leaves = 31 and depth = 10\n",
      "[LightGBM] [Debug] Trained a tree with leaves = 31 and depth = 9\n",
      "[LightGBM] [Debug] Trained a tree with leaves = 31 and depth = 10\n",
      "[LightGBM] [Debug] Trained a tree with leaves = 31 and depth = 12\n",
      "[LightGBM] [Debug] Trained a tree with leaves = 31 and depth = 10\n",
      "[LightGBM] [Debug] Trained a tree with leaves = 31 and depth = 11\n",
      "[LightGBM] [Debug] Trained a tree with leaves = 31 and depth = 8\n",
      "[LightGBM] [Debug] Trained a tree with leaves = 31 and depth = 10\n",
      "[LightGBM] [Debug] Trained a tree with leaves = 31 and depth = 10\n",
      "[LightGBM] [Debug] Trained a tree with leaves = 31 and depth = 10\n",
      "[LightGBM] [Debug] Trained a tree with leaves = 31 and depth = 9\n",
      "[LightGBM] [Debug] Trained a tree with leaves = 31 and depth = 13\n",
      "[LightGBM] [Debug] Trained a tree with leaves = 31 and depth = 13\n",
      "[LightGBM] [Debug] Trained a tree with leaves = 31 and depth = 9\n",
      "[LightGBM] [Debug] Trained a tree with leaves = 31 and depth = 10\n",
      "[LightGBM] [Debug] Trained a tree with leaves = 31 and depth = 9\n",
      "[LightGBM] [Debug] Trained a tree with leaves = 31 and depth = 11\n",
      "[LightGBM] [Debug] Trained a tree with leaves = 31 and depth = 11\n",
      "[LightGBM] [Debug] Trained a tree with leaves = 31 and depth = 12\n",
      "[LightGBM] [Debug] Trained a tree with leaves = 31 and depth = 13\n",
      "[LightGBM] [Debug] Trained a tree with leaves = 31 and depth = 10\n",
      "[LightGBM] [Debug] Trained a tree with leaves = 31 and depth = 8\n",
      "[LightGBM] [Debug] Trained a tree with leaves = 31 and depth = 9\n",
      "[LightGBM] [Debug] Trained a tree with leaves = 31 and depth = 9\n",
      "[LightGBM] [Debug] Trained a tree with leaves = 31 and depth = 11\n",
      "[LightGBM] [Debug] Trained a tree with leaves = 31 and depth = 13\n",
      "[LightGBM] [Debug] Trained a tree with leaves = 31 and depth = 9\n",
      "[LightGBM] [Debug] Trained a tree with leaves = 31 and depth = 12\n",
      "[LightGBM] [Debug] Trained a tree with leaves = 31 and depth = 14\n",
      "[LightGBM] [Debug] Trained a tree with leaves = 31 and depth = 9\n",
      "[LightGBM] [Debug] Trained a tree with leaves = 31 and depth = 13\n",
      "[LightGBM] [Debug] Trained a tree with leaves = 31 and depth = 10\n",
      "[LightGBM] [Debug] Trained a tree with leaves = 31 and depth = 14\n",
      "[LightGBM] [Debug] Trained a tree with leaves = 31 and depth = 13\n",
      "[LightGBM] [Debug] Trained a tree with leaves = 31 and depth = 9\n",
      "[LightGBM] [Debug] Trained a tree with leaves = 31 and depth = 10\n",
      "[LightGBM] [Debug] Trained a tree with leaves = 31 and depth = 10\n",
      "[LightGBM] [Debug] Trained a tree with leaves = 31 and depth = 12\n",
      "[LightGBM] [Debug] Trained a tree with leaves = 31 and depth = 9\n",
      "[LightGBM] [Debug] Trained a tree with leaves = 31 and depth = 10\n",
      "[LightGBM] [Debug] Trained a tree with leaves = 31 and depth = 12\n",
      "[LightGBM] [Debug] Trained a tree with leaves = 31 and depth = 12\n",
      "[LightGBM] [Debug] Trained a tree with leaves = 31 and depth = 11\n",
      "[LightGBM] [Debug] Trained a tree with leaves = 31 and depth = 13\n",
      "[LightGBM] [Debug] Trained a tree with leaves = 31 and depth = 12\n",
      "[LightGBM] [Debug] Trained a tree with leaves = 31 and depth = 9\n",
      "[LightGBM] [Debug] Trained a tree with leaves = 31 and depth = 11\n",
      "[LightGBM] [Debug] Trained a tree with leaves = 31 and depth = 10\n",
      "[LightGBM] [Debug] Trained a tree with leaves = 31 and depth = 11\n",
      "[LightGBM] [Debug] Trained a tree with leaves = 31 and depth = 12\n",
      "[LightGBM] [Debug] Trained a tree with leaves = 31 and depth = 10\n",
      "[LightGBM] [Debug] Trained a tree with leaves = 31 and depth = 10\n",
      "[LightGBM] [Debug] Trained a tree with leaves = 31 and depth = 12\n",
      "[LightGBM] [Debug] Trained a tree with leaves = 31 and depth = 9\n",
      "[LightGBM] [Debug] Trained a tree with leaves = 31 and depth = 12\n",
      "[LightGBM] [Debug] Trained a tree with leaves = 31 and depth = 12\n",
      "[LightGBM] [Debug] Trained a tree with leaves = 31 and depth = 12\n",
      "[LightGBM] [Debug] Trained a tree with leaves = 31 and depth = 10\n",
      "[LightGBM] [Debug] Trained a tree with leaves = 31 and depth = 9\n",
      "[LightGBM] [Debug] Trained a tree with leaves = 31 and depth = 15\n",
      "[LightGBM] [Debug] Trained a tree with leaves = 31 and depth = 8\n",
      "[LightGBM] [Debug] Trained a tree with leaves = 31 and depth = 9\n",
      "[LightGBM] [Debug] Trained a tree with leaves = 31 and depth = 10\n",
      "[LightGBM] [Debug] Trained a tree with leaves = 31 and depth = 10\n",
      "[LightGBM] [Debug] Trained a tree with leaves = 31 and depth = 8\n",
      "[LightGBM] [Debug] Trained a tree with leaves = 31 and depth = 8\n",
      "[LightGBM] [Debug] Trained a tree with leaves = 31 and depth = 12\n",
      "[LightGBM] [Debug] Trained a tree with leaves = 31 and depth = 11\n",
      "[LightGBM] [Debug] Trained a tree with leaves = 31 and depth = 11\n",
      "[LightGBM] [Debug] Trained a tree with leaves = 31 and depth = 13\n",
      "[LightGBM] [Debug] Trained a tree with leaves = 31 and depth = 9\n",
      "[LightGBM] [Debug] Trained a tree with leaves = 31 and depth = 12\n",
      "[LightGBM] [Debug] Trained a tree with leaves = 31 and depth = 14\n",
      "[LightGBM] [Debug] Trained a tree with leaves = 31 and depth = 11\n",
      "[LightGBM] [Debug] Trained a tree with leaves = 31 and depth = 12\n",
      "[LightGBM] [Debug] Trained a tree with leaves = 31 and depth = 13\n",
      "[LightGBM] [Debug] Trained a tree with leaves = 31 and depth = 10\n",
      "[LightGBM] [Debug] Trained a tree with leaves = 31 and depth = 12\n",
      "[LightGBM] [Debug] Trained a tree with leaves = 31 and depth = 12\n",
      "[LightGBM] [Debug] Trained a tree with leaves = 31 and depth = 12\n",
      "[LightGBM] [Debug] Trained a tree with leaves = 31 and depth = 9\n",
      "[LightGBM] [Debug] Trained a tree with leaves = 31 and depth = 14\n",
      "[LightGBM] [Debug] Trained a tree with leaves = 31 and depth = 10\n",
      "[LightGBM] [Debug] Trained a tree with leaves = 31 and depth = 8\n",
      "[LightGBM] [Debug] Trained a tree with leaves = 31 and depth = 10\n",
      "[LightGBM] [Debug] Trained a tree with leaves = 31 and depth = 9\n",
      "[LightGBM] [Debug] Trained a tree with leaves = 31 and depth = 10\n",
      "[LightGBM] [Debug] Trained a tree with leaves = 31 and depth = 11\n",
      "[LightGBM] [Debug] Trained a tree with leaves = 31 and depth = 12\n",
      "[LightGBM] [Debug] Trained a tree with leaves = 31 and depth = 14\n",
      "[LightGBM] [Debug] Trained a tree with leaves = 31 and depth = 9\n",
      "[LightGBM] [Debug] Trained a tree with leaves = 31 and depth = 11\n",
      "[LightGBM] [Debug] Trained a tree with leaves = 31 and depth = 14\n",
      "[LightGBM] [Debug] Trained a tree with leaves = 31 and depth = 11\n",
      "[LightGBM] [Debug] Trained a tree with leaves = 31 and depth = 11\n",
      "[LightGBM] [Debug] Trained a tree with leaves = 31 and depth = 11\n",
      "[LightGBM] [Debug] Trained a tree with leaves = 31 and depth = 13\n",
      "[LightGBM] [Debug] Trained a tree with leaves = 31 and depth = 10\n",
      "[LightGBM] [Debug] Trained a tree with leaves = 31 and depth = 10\n",
      "[LightGBM] [Debug] Trained a tree with leaves = 31 and depth = 12\n",
      "[LightGBM] [Debug] Trained a tree with leaves = 31 and depth = 15\n",
      "[LightGBM] [Debug] Trained a tree with leaves = 31 and depth = 13\n",
      "[LightGBM] [Debug] Trained a tree with leaves = 31 and depth = 9\n",
      "[LightGBM] [Debug] Trained a tree with leaves = 31 and depth = 12\n",
      "[LightGBM] [Debug] Trained a tree with leaves = 31 and depth = 13\n",
      "[LightGBM] [Debug] Trained a tree with leaves = 31 and depth = 11\n",
      "[LightGBM] [Debug] Trained a tree with leaves = 31 and depth = 10\n",
      "[LightGBM] [Debug] Trained a tree with leaves = 31 and depth = 12\n",
      "[LightGBM] [Debug] Trained a tree with leaves = 31 and depth = 13\n",
      "[LightGBM] [Debug] Trained a tree with leaves = 31 and depth = 10\n",
      "[LightGBM] [Debug] Trained a tree with leaves = 31 and depth = 13\n",
      "[LightGBM] [Debug] Trained a tree with leaves = 31 and depth = 11\n",
      "[LightGBM] [Debug] Trained a tree with leaves = 31 and depth = 13\n",
      "[LightGBM] [Debug] Trained a tree with leaves = 31 and depth = 11\n",
      "[LightGBM] [Debug] Trained a tree with leaves = 31 and depth = 13\n",
      "[LightGBM] [Debug] Trained a tree with leaves = 31 and depth = 11\n",
      "[LightGBM] [Debug] Trained a tree with leaves = 31 and depth = 12\n",
      "[LightGBM] [Debug] Trained a tree with leaves = 31 and depth = 11\n",
      "[LightGBM] [Debug] Trained a tree with leaves = 31 and depth = 14\n",
      "[LightGBM] [Debug] Trained a tree with leaves = 31 and depth = 13\n",
      "[LightGBM] [Debug] Trained a tree with leaves = 31 and depth = 11\n",
      "[LightGBM] [Debug] Trained a tree with leaves = 31 and depth = 14\n",
      "[LightGBM] [Debug] Trained a tree with leaves = 31 and depth = 9\n",
      "[LightGBM] [Debug] Trained a tree with leaves = 31 and depth = 13\n",
      "[LightGBM] [Debug] Trained a tree with leaves = 31 and depth = 10\n",
      "[LightGBM] [Debug] Trained a tree with leaves = 31 and depth = 8\n",
      "Nilai RMSE untuk model LGBM Regressor: 1797.7606216057864\n",
      "Nilai Mean untuk model LGBM Regressor: 4419.265444551743\n",
      "CPU times: total: 3.53 s\n",
      "Wall time: 504 ms\n"
     ]
    }
   ],
   "source": [
    "%%time\n",
    "lgbm_model = LGBMRegressor(task='train', \n",
    "                        boosting_type='gbdt', \n",
    "                        objective='regression', \n",
    "                        metric='rmse', \n",
    "                        learning_rate=0.5, \n",
    "                        verbose=200, \n",
    "                        n_estimators= 130,\n",
    "                        random_state=12345)\n",
    "lgbm_model.fit(X_train,y_train)\n",
    "predicted_test = lgbm_model.predict(X_test)\n",
    "rmse = mean_squared_error(y_test, predicted_test)**0.5\n",
    "print(\"Nilai RMSE untuk model LGBM Regressor:\", rmse)\n",
    "print(\"Nilai Mean untuk model LGBM Regressor:\", pd.Series(predicted_test).mean())"
   ]
  },
  {
   "cell_type": "markdown",
   "metadata": {},
   "source": [
    "Dengan mengubah hyperparameter, LGBM Regressor  memiliki nilai RMSE yang lebih baik yaitu 1798 dibandingkan LGBM Regressor sebelumnya 1831 maupun Random Forest Regressor 1858.\n",
    "\n",
    "Catatan: LGBM yang menggunakan data kategorikal dan fitur kategorikal akan dievaluasi di bawah setelah regressor cat boost dengan data kategorikal."
   ]
  },
  {
   "cell_type": "markdown",
   "metadata": {},
   "source": [
    "**Step 4.3** Kita akan menjalankan kembali model Cat Boost Regressor dengan hyperparameter untuk melihat apakah nilai RMSE mendapatkan yang lebih baik dari LGBM Regressor."
   ]
  },
  {
   "cell_type": "code",
   "execution_count": 95,
   "metadata": {},
   "outputs": [
    {
     "data": {
      "application/vnd.jupyter.widget-view+json": {
       "model_id": "1e81a385c07e4aa28b2b828d75da9607",
       "version_major": 2,
       "version_minor": 0
      },
      "text/plain": [
       "MetricVisualizer(layout=Layout(align_self='stretch', height='500px'))"
      ]
     },
     "metadata": {},
     "output_type": "display_data"
    },
    {
     "name": "stdout",
     "output_type": "stream",
     "text": [
      "0:\tlearn: 3914.1519335\ttest: 3898.0638174\tbest: 3898.0638174 (0)\ttotal: 40.8ms\tremaining: 20.4s\n",
      "1:\tlearn: 3460.9843007\ttest: 3446.9432254\tbest: 3446.9432254 (1)\ttotal: 80ms\tremaining: 19.9s\n",
      "2:\tlearn: 3125.5584703\ttest: 3113.4198772\tbest: 3113.4198772 (2)\ttotal: 120ms\tremaining: 19.9s\n",
      "3:\tlearn: 2854.6724080\ttest: 2842.3837217\tbest: 2842.3837217 (3)\ttotal: 157ms\tremaining: 19.4s\n",
      "4:\tlearn: 2664.6501564\ttest: 2654.0656976\tbest: 2654.0656976 (4)\ttotal: 195ms\tremaining: 19.4s\n",
      "5:\tlearn: 2504.4947261\ttest: 2493.8483175\tbest: 2493.8483175 (5)\ttotal: 233ms\tremaining: 19.2s\n",
      "6:\tlearn: 2390.8793105\ttest: 2384.2008605\tbest: 2384.2008605 (6)\ttotal: 273ms\tremaining: 19.2s\n",
      "7:\tlearn: 2300.1859060\ttest: 2297.9570565\tbest: 2297.9570565 (7)\ttotal: 312ms\tremaining: 19.2s\n",
      "8:\tlearn: 2231.5106723\ttest: 2231.5260179\tbest: 2231.5260179 (8)\ttotal: 351ms\tremaining: 19.1s\n",
      "9:\tlearn: 2182.2526796\ttest: 2184.2309137\tbest: 2184.2309137 (9)\ttotal: 388ms\tremaining: 19s\n",
      "10:\tlearn: 2134.0869030\ttest: 2138.7300470\tbest: 2138.7300470 (10)\ttotal: 428ms\tremaining: 19s\n",
      "11:\tlearn: 2095.7674197\ttest: 2102.8750870\tbest: 2102.8750870 (11)\ttotal: 469ms\tremaining: 19.1s\n",
      "12:\tlearn: 2064.2372140\ttest: 2073.7419057\tbest: 2073.7419057 (12)\ttotal: 511ms\tremaining: 19.1s\n",
      "13:\tlearn: 2040.1096420\ttest: 2050.1499325\tbest: 2050.1499325 (13)\ttotal: 550ms\tremaining: 19.1s\n",
      "14:\tlearn: 2015.2730857\ttest: 2028.3490239\tbest: 2028.3490239 (14)\ttotal: 587ms\tremaining: 19s\n",
      "15:\tlearn: 1999.1174427\ttest: 2014.2575886\tbest: 2014.2575886 (15)\ttotal: 627ms\tremaining: 19s\n",
      "16:\tlearn: 1980.7187081\ttest: 1997.3097435\tbest: 1997.3097435 (16)\ttotal: 665ms\tremaining: 18.9s\n",
      "17:\tlearn: 1968.6062937\ttest: 1987.8871228\tbest: 1987.8871228 (17)\ttotal: 705ms\tremaining: 18.9s\n",
      "18:\tlearn: 1955.7595301\ttest: 1976.8104315\tbest: 1976.8104315 (18)\ttotal: 744ms\tremaining: 18.8s\n",
      "19:\tlearn: 1943.0608529\ttest: 1964.7518182\tbest: 1964.7518182 (19)\ttotal: 782ms\tremaining: 18.8s\n",
      "20:\tlearn: 1934.5362948\ttest: 1957.1980905\tbest: 1957.1980905 (20)\ttotal: 820ms\tremaining: 18.7s\n",
      "21:\tlearn: 1926.8601260\ttest: 1950.4105645\tbest: 1950.4105645 (21)\ttotal: 860ms\tremaining: 18.7s\n",
      "22:\tlearn: 1917.0102097\ttest: 1941.7066440\tbest: 1941.7066440 (22)\ttotal: 901ms\tremaining: 18.7s\n",
      "23:\tlearn: 1909.5749163\ttest: 1936.1083669\tbest: 1936.1083669 (23)\ttotal: 940ms\tremaining: 18.7s\n",
      "24:\tlearn: 1903.2168915\ttest: 1932.0804551\tbest: 1932.0804551 (24)\ttotal: 983ms\tremaining: 18.7s\n",
      "25:\tlearn: 1893.8433997\ttest: 1924.3072894\tbest: 1924.3072894 (25)\ttotal: 1.02s\tremaining: 18.7s\n",
      "26:\tlearn: 1890.6427115\ttest: 1921.8877814\tbest: 1921.8877814 (26)\ttotal: 1.06s\tremaining: 18.6s\n",
      "27:\tlearn: 1885.1659656\ttest: 1917.2067400\tbest: 1917.2067400 (27)\ttotal: 1.1s\tremaining: 18.6s\n",
      "28:\tlearn: 1879.6883147\ttest: 1912.3830938\tbest: 1912.3830938 (28)\ttotal: 1.14s\tremaining: 18.5s\n",
      "29:\tlearn: 1875.6605814\ttest: 1909.3346060\tbest: 1909.3346060 (29)\ttotal: 1.18s\tremaining: 18.4s\n",
      "30:\tlearn: 1870.0957137\ttest: 1904.4198658\tbest: 1904.4198658 (30)\ttotal: 1.22s\tremaining: 18.4s\n",
      "31:\tlearn: 1863.8586245\ttest: 1900.0717717\tbest: 1900.0717717 (31)\ttotal: 1.25s\tremaining: 18.3s\n",
      "32:\tlearn: 1858.8150259\ttest: 1895.9616352\tbest: 1895.9616352 (32)\ttotal: 1.29s\tremaining: 18.2s\n",
      "33:\tlearn: 1855.8971540\ttest: 1893.1542267\tbest: 1893.1542267 (33)\ttotal: 1.32s\tremaining: 18.2s\n",
      "34:\tlearn: 1852.0065934\ttest: 1891.1260474\tbest: 1891.1260474 (34)\ttotal: 1.36s\tremaining: 18.1s\n",
      "35:\tlearn: 1847.4818175\ttest: 1887.8234410\tbest: 1887.8234410 (35)\ttotal: 1.4s\tremaining: 18.1s\n",
      "36:\tlearn: 1843.5610178\ttest: 1885.0595882\tbest: 1885.0595882 (36)\ttotal: 1.45s\tremaining: 18.1s\n",
      "37:\tlearn: 1837.1322895\ttest: 1879.9648182\tbest: 1879.9648182 (37)\ttotal: 1.49s\tremaining: 18.1s\n",
      "38:\tlearn: 1832.9070605\ttest: 1876.9890584\tbest: 1876.9890584 (38)\ttotal: 1.52s\tremaining: 18s\n",
      "39:\tlearn: 1828.4602754\ttest: 1874.0931249\tbest: 1874.0931249 (39)\ttotal: 1.56s\tremaining: 17.9s\n",
      "40:\tlearn: 1825.2629718\ttest: 1871.8120559\tbest: 1871.8120559 (40)\ttotal: 1.6s\tremaining: 17.9s\n",
      "41:\tlearn: 1823.5435631\ttest: 1870.8947323\tbest: 1870.8947323 (41)\ttotal: 1.64s\tremaining: 17.9s\n",
      "42:\tlearn: 1821.4559899\ttest: 1870.1338053\tbest: 1870.1338053 (42)\ttotal: 1.68s\tremaining: 17.9s\n",
      "43:\tlearn: 1817.9998946\ttest: 1868.1475401\tbest: 1868.1475401 (43)\ttotal: 1.72s\tremaining: 17.8s\n",
      "44:\tlearn: 1813.6541013\ttest: 1865.0643176\tbest: 1865.0643176 (44)\ttotal: 1.76s\tremaining: 17.8s\n",
      "45:\tlearn: 1809.1869950\ttest: 1861.9721096\tbest: 1861.9721096 (45)\ttotal: 1.79s\tremaining: 17.7s\n",
      "46:\tlearn: 1806.7575253\ttest: 1860.7554663\tbest: 1860.7554663 (46)\ttotal: 1.83s\tremaining: 17.7s\n",
      "47:\tlearn: 1803.3232344\ttest: 1859.2577191\tbest: 1859.2577191 (47)\ttotal: 1.87s\tremaining: 17.6s\n",
      "48:\tlearn: 1801.7184214\ttest: 1858.4003285\tbest: 1858.4003285 (48)\ttotal: 1.91s\tremaining: 17.6s\n",
      "49:\tlearn: 1799.1303647\ttest: 1857.2859158\tbest: 1857.2859158 (49)\ttotal: 1.95s\tremaining: 17.5s\n",
      "50:\tlearn: 1796.4557257\ttest: 1855.6792033\tbest: 1855.6792033 (50)\ttotal: 1.98s\tremaining: 17.4s\n",
      "51:\tlearn: 1794.4987521\ttest: 1853.9718578\tbest: 1853.9718578 (51)\ttotal: 2.01s\tremaining: 17.3s\n",
      "52:\tlearn: 1792.4316580\ttest: 1853.0394054\tbest: 1853.0394054 (52)\ttotal: 2.04s\tremaining: 17.2s\n",
      "53:\tlearn: 1790.1415995\ttest: 1851.4089433\tbest: 1851.4089433 (53)\ttotal: 2.08s\tremaining: 17.1s\n",
      "54:\tlearn: 1788.6324175\ttest: 1850.5043732\tbest: 1850.5043732 (54)\ttotal: 2.11s\tremaining: 17.1s\n",
      "55:\tlearn: 1785.5697720\ttest: 1848.3332440\tbest: 1848.3332440 (55)\ttotal: 2.14s\tremaining: 17s\n",
      "56:\tlearn: 1781.9188489\ttest: 1845.9574986\tbest: 1845.9574986 (56)\ttotal: 2.17s\tremaining: 16.9s\n",
      "57:\tlearn: 1780.5784757\ttest: 1845.3114619\tbest: 1845.3114619 (57)\ttotal: 2.21s\tremaining: 16.8s\n",
      "58:\tlearn: 1777.4332168\ttest: 1843.3951370\tbest: 1843.3951370 (58)\ttotal: 2.24s\tremaining: 16.8s\n",
      "59:\tlearn: 1776.0085000\ttest: 1842.6440166\tbest: 1842.6440166 (59)\ttotal: 2.28s\tremaining: 16.7s\n",
      "60:\tlearn: 1774.1763181\ttest: 1841.6195666\tbest: 1841.6195666 (60)\ttotal: 2.31s\tremaining: 16.6s\n",
      "61:\tlearn: 1772.2610243\ttest: 1840.2228059\tbest: 1840.2228059 (61)\ttotal: 2.34s\tremaining: 16.6s\n",
      "62:\tlearn: 1770.3302507\ttest: 1839.4168772\tbest: 1839.4168772 (62)\ttotal: 2.38s\tremaining: 16.5s\n",
      "63:\tlearn: 1767.6714823\ttest: 1837.3393651\tbest: 1837.3393651 (63)\ttotal: 2.41s\tremaining: 16.4s\n",
      "64:\tlearn: 1765.8032217\ttest: 1835.9743792\tbest: 1835.9743792 (64)\ttotal: 2.44s\tremaining: 16.3s\n",
      "65:\tlearn: 1763.4535527\ttest: 1834.6906131\tbest: 1834.6906131 (65)\ttotal: 2.47s\tremaining: 16.2s\n",
      "66:\tlearn: 1762.1240140\ttest: 1833.5995769\tbest: 1833.5995769 (66)\ttotal: 2.5s\tremaining: 16.2s\n",
      "67:\tlearn: 1760.6412094\ttest: 1832.9309933\tbest: 1832.9309933 (67)\ttotal: 2.53s\tremaining: 16.1s\n",
      "68:\tlearn: 1757.5352500\ttest: 1830.6853632\tbest: 1830.6853632 (68)\ttotal: 2.56s\tremaining: 16s\n",
      "69:\tlearn: 1755.7133832\ttest: 1829.7028321\tbest: 1829.7028321 (69)\ttotal: 2.6s\tremaining: 16s\n",
      "70:\tlearn: 1752.9086870\ttest: 1827.6497104\tbest: 1827.6497104 (70)\ttotal: 2.63s\tremaining: 15.9s\n",
      "71:\tlearn: 1750.7016232\ttest: 1826.0982340\tbest: 1826.0982340 (71)\ttotal: 2.66s\tremaining: 15.8s\n",
      "72:\tlearn: 1748.4728805\ttest: 1825.2938059\tbest: 1825.2938059 (72)\ttotal: 2.69s\tremaining: 15.7s\n",
      "73:\tlearn: 1746.6712597\ttest: 1824.6010734\tbest: 1824.6010734 (73)\ttotal: 2.72s\tremaining: 15.6s\n",
      "74:\tlearn: 1744.9759319\ttest: 1824.1859523\tbest: 1824.1859523 (74)\ttotal: 2.75s\tremaining: 15.6s\n",
      "75:\tlearn: 1742.7472049\ttest: 1823.2880230\tbest: 1823.2880230 (75)\ttotal: 2.78s\tremaining: 15.5s\n",
      "76:\tlearn: 1741.5622172\ttest: 1823.1653229\tbest: 1823.1653229 (76)\ttotal: 2.81s\tremaining: 15.4s\n",
      "77:\tlearn: 1740.3006834\ttest: 1822.3560039\tbest: 1822.3560039 (77)\ttotal: 2.84s\tremaining: 15.4s\n",
      "78:\tlearn: 1737.9446346\ttest: 1821.1055943\tbest: 1821.1055943 (78)\ttotal: 2.87s\tremaining: 15.3s\n",
      "79:\tlearn: 1735.6799715\ttest: 1819.3184839\tbest: 1819.3184839 (79)\ttotal: 2.9s\tremaining: 15.2s\n",
      "80:\tlearn: 1734.2269948\ttest: 1818.1302229\tbest: 1818.1302229 (80)\ttotal: 2.93s\tremaining: 15.2s\n",
      "81:\tlearn: 1731.9345240\ttest: 1816.7348921\tbest: 1816.7348921 (81)\ttotal: 2.96s\tremaining: 15.1s\n",
      "82:\tlearn: 1730.5355874\ttest: 1815.9096108\tbest: 1815.9096108 (82)\ttotal: 2.99s\tremaining: 15s\n",
      "83:\tlearn: 1728.9743648\ttest: 1814.9633685\tbest: 1814.9633685 (83)\ttotal: 3.02s\tremaining: 15s\n",
      "84:\tlearn: 1727.5035068\ttest: 1814.1933036\tbest: 1814.1933036 (84)\ttotal: 3.05s\tremaining: 14.9s\n",
      "85:\tlearn: 1726.4629170\ttest: 1813.6342249\tbest: 1813.6342249 (85)\ttotal: 3.08s\tremaining: 14.8s\n",
      "86:\tlearn: 1724.2245689\ttest: 1812.9227459\tbest: 1812.9227459 (86)\ttotal: 3.11s\tremaining: 14.7s\n",
      "87:\tlearn: 1722.4619846\ttest: 1812.5763426\tbest: 1812.5763426 (87)\ttotal: 3.13s\tremaining: 14.7s\n",
      "88:\tlearn: 1721.2070366\ttest: 1811.7739193\tbest: 1811.7739193 (88)\ttotal: 3.16s\tremaining: 14.6s\n"
     ]
    },
    {
     "name": "stdout",
     "output_type": "stream",
     "text": [
      "89:\tlearn: 1719.6101497\ttest: 1810.7879612\tbest: 1810.7879612 (89)\ttotal: 3.19s\tremaining: 14.5s\n",
      "90:\tlearn: 1718.7819710\ttest: 1810.4695129\tbest: 1810.4695129 (90)\ttotal: 3.22s\tremaining: 14.5s\n",
      "91:\tlearn: 1716.8888479\ttest: 1809.5699978\tbest: 1809.5699978 (91)\ttotal: 3.25s\tremaining: 14.4s\n",
      "92:\tlearn: 1715.1881568\ttest: 1808.5403685\tbest: 1808.5403685 (92)\ttotal: 3.27s\tremaining: 14.3s\n",
      "93:\tlearn: 1714.0472951\ttest: 1808.5577139\tbest: 1808.5403685 (92)\ttotal: 3.3s\tremaining: 14.3s\n",
      "94:\tlearn: 1712.2610523\ttest: 1808.3802248\tbest: 1808.3802248 (94)\ttotal: 3.33s\tremaining: 14.2s\n",
      "95:\tlearn: 1711.4161749\ttest: 1808.2485793\tbest: 1808.2485793 (95)\ttotal: 3.36s\tremaining: 14.1s\n",
      "96:\tlearn: 1710.2405094\ttest: 1807.5121689\tbest: 1807.5121689 (96)\ttotal: 3.38s\tremaining: 14.1s\n",
      "97:\tlearn: 1708.2682059\ttest: 1806.6461116\tbest: 1806.6461116 (97)\ttotal: 3.41s\tremaining: 14s\n",
      "98:\tlearn: 1706.9376315\ttest: 1806.2565676\tbest: 1806.2565676 (98)\ttotal: 3.44s\tremaining: 13.9s\n",
      "99:\tlearn: 1705.8955492\ttest: 1805.9842311\tbest: 1805.9842311 (99)\ttotal: 3.47s\tremaining: 13.9s\n",
      "100:\tlearn: 1704.4766621\ttest: 1805.5285764\tbest: 1805.5285764 (100)\ttotal: 3.5s\tremaining: 13.8s\n",
      "101:\tlearn: 1703.5007877\ttest: 1805.3918114\tbest: 1805.3918114 (101)\ttotal: 3.52s\tremaining: 13.7s\n",
      "102:\tlearn: 1702.2450795\ttest: 1804.6242559\tbest: 1804.6242559 (102)\ttotal: 3.55s\tremaining: 13.7s\n",
      "103:\tlearn: 1701.0914143\ttest: 1803.8446967\tbest: 1803.8446967 (103)\ttotal: 3.58s\tremaining: 13.6s\n",
      "104:\tlearn: 1699.3851353\ttest: 1803.3954764\tbest: 1803.3954764 (104)\ttotal: 3.6s\tremaining: 13.6s\n",
      "105:\tlearn: 1698.0042770\ttest: 1803.0955274\tbest: 1803.0955274 (105)\ttotal: 3.63s\tremaining: 13.5s\n",
      "106:\tlearn: 1695.6803067\ttest: 1801.9497582\tbest: 1801.9497582 (106)\ttotal: 3.66s\tremaining: 13.4s\n",
      "107:\tlearn: 1694.4077315\ttest: 1801.2930145\tbest: 1801.2930145 (107)\ttotal: 3.69s\tremaining: 13.4s\n",
      "108:\tlearn: 1693.1052146\ttest: 1800.8621096\tbest: 1800.8621096 (108)\ttotal: 3.71s\tremaining: 13.3s\n",
      "109:\tlearn: 1691.5592239\ttest: 1800.2257435\tbest: 1800.2257435 (109)\ttotal: 3.75s\tremaining: 13.3s\n",
      "110:\tlearn: 1689.8054433\ttest: 1798.8097871\tbest: 1798.8097871 (110)\ttotal: 3.77s\tremaining: 13.2s\n",
      "111:\tlearn: 1687.8373958\ttest: 1797.8692561\tbest: 1797.8692561 (111)\ttotal: 3.8s\tremaining: 13.2s\n",
      "112:\tlearn: 1686.5732348\ttest: 1797.5933849\tbest: 1797.5933849 (112)\ttotal: 3.83s\tremaining: 13.1s\n",
      "113:\tlearn: 1685.5146554\ttest: 1797.1022893\tbest: 1797.1022893 (113)\ttotal: 3.86s\tremaining: 13.1s\n",
      "114:\tlearn: 1684.3453089\ttest: 1796.3436984\tbest: 1796.3436984 (114)\ttotal: 3.89s\tremaining: 13s\n",
      "115:\tlearn: 1683.2489803\ttest: 1795.9381191\tbest: 1795.9381191 (115)\ttotal: 3.91s\tremaining: 13s\n",
      "116:\tlearn: 1682.3370059\ttest: 1795.6470962\tbest: 1795.6470962 (116)\ttotal: 3.94s\tremaining: 12.9s\n",
      "117:\tlearn: 1680.9263140\ttest: 1795.2644778\tbest: 1795.2644778 (117)\ttotal: 3.97s\tremaining: 12.8s\n",
      "118:\tlearn: 1679.9403496\ttest: 1794.5927813\tbest: 1794.5927813 (118)\ttotal: 3.99s\tremaining: 12.8s\n",
      "119:\tlearn: 1678.6698322\ttest: 1794.4939492\tbest: 1794.4939492 (119)\ttotal: 4.02s\tremaining: 12.7s\n",
      "120:\tlearn: 1676.9820882\ttest: 1793.7367726\tbest: 1793.7367726 (120)\ttotal: 4.05s\tremaining: 12.7s\n",
      "121:\tlearn: 1676.0787815\ttest: 1793.3992330\tbest: 1793.3992330 (121)\ttotal: 4.08s\tremaining: 12.6s\n",
      "122:\tlearn: 1675.1788139\ttest: 1793.2006054\tbest: 1793.2006054 (122)\ttotal: 4.1s\tremaining: 12.6s\n",
      "123:\tlearn: 1674.4154373\ttest: 1792.8342116\tbest: 1792.8342116 (123)\ttotal: 4.13s\tremaining: 12.5s\n",
      "124:\tlearn: 1673.5713677\ttest: 1792.6050623\tbest: 1792.6050623 (124)\ttotal: 4.16s\tremaining: 12.5s\n",
      "125:\tlearn: 1672.3236050\ttest: 1792.2944543\tbest: 1792.2944543 (125)\ttotal: 4.18s\tremaining: 12.4s\n",
      "126:\tlearn: 1671.2112167\ttest: 1791.6633241\tbest: 1791.6633241 (126)\ttotal: 4.21s\tremaining: 12.4s\n",
      "127:\tlearn: 1670.0654929\ttest: 1791.0591745\tbest: 1791.0591745 (127)\ttotal: 4.24s\tremaining: 12.3s\n",
      "128:\tlearn: 1669.0256743\ttest: 1790.3367444\tbest: 1790.3367444 (128)\ttotal: 4.27s\tremaining: 12.3s\n",
      "129:\tlearn: 1667.4430799\ttest: 1789.8187487\tbest: 1789.8187487 (129)\ttotal: 4.3s\tremaining: 12.2s\n",
      "130:\tlearn: 1666.6580062\ttest: 1789.8964395\tbest: 1789.8187487 (129)\ttotal: 4.33s\tremaining: 12.2s\n",
      "131:\tlearn: 1665.2469323\ttest: 1789.2999344\tbest: 1789.2999344 (131)\ttotal: 4.36s\tremaining: 12.1s\n",
      "132:\tlearn: 1663.9823565\ttest: 1788.9005292\tbest: 1788.9005292 (132)\ttotal: 4.39s\tremaining: 12.1s\n",
      "133:\tlearn: 1662.5964613\ttest: 1788.1279394\tbest: 1788.1279394 (133)\ttotal: 4.42s\tremaining: 12.1s\n",
      "134:\tlearn: 1661.7670275\ttest: 1787.9159004\tbest: 1787.9159004 (134)\ttotal: 4.44s\tremaining: 12s\n",
      "135:\tlearn: 1660.2369678\ttest: 1787.5604762\tbest: 1787.5604762 (135)\ttotal: 4.47s\tremaining: 12s\n",
      "136:\tlearn: 1658.9280745\ttest: 1787.2667933\tbest: 1787.2667933 (136)\ttotal: 4.5s\tremaining: 11.9s\n",
      "137:\tlearn: 1658.0208863\ttest: 1787.1421174\tbest: 1787.1421174 (137)\ttotal: 4.53s\tremaining: 11.9s\n",
      "138:\tlearn: 1656.7244012\ttest: 1786.8437551\tbest: 1786.8437551 (138)\ttotal: 4.55s\tremaining: 11.8s\n",
      "139:\tlearn: 1655.7689301\ttest: 1786.3159191\tbest: 1786.3159191 (139)\ttotal: 4.58s\tremaining: 11.8s\n",
      "140:\tlearn: 1654.9432471\ttest: 1785.8407278\tbest: 1785.8407278 (140)\ttotal: 4.61s\tremaining: 11.7s\n",
      "141:\tlearn: 1654.1796247\ttest: 1785.5817721\tbest: 1785.5817721 (141)\ttotal: 4.64s\tremaining: 11.7s\n",
      "142:\tlearn: 1653.2342597\ttest: 1784.9989339\tbest: 1784.9989339 (142)\ttotal: 4.66s\tremaining: 11.6s\n",
      "143:\tlearn: 1651.8336708\ttest: 1784.6058790\tbest: 1784.6058790 (143)\ttotal: 4.69s\tremaining: 11.6s\n",
      "144:\tlearn: 1651.2386948\ttest: 1784.4588835\tbest: 1784.4588835 (144)\ttotal: 4.72s\tremaining: 11.6s\n",
      "145:\tlearn: 1649.9936611\ttest: 1783.9330910\tbest: 1783.9330910 (145)\ttotal: 4.75s\tremaining: 11.5s\n",
      "146:\tlearn: 1648.9144130\ttest: 1783.4493867\tbest: 1783.4493867 (146)\ttotal: 4.77s\tremaining: 11.5s\n",
      "147:\tlearn: 1648.2920986\ttest: 1783.1383714\tbest: 1783.1383714 (147)\ttotal: 4.8s\tremaining: 11.4s\n",
      "148:\tlearn: 1646.7239241\ttest: 1782.9883141\tbest: 1782.9883141 (148)\ttotal: 4.83s\tremaining: 11.4s\n",
      "149:\tlearn: 1646.1553355\ttest: 1782.7143439\tbest: 1782.7143439 (149)\ttotal: 4.86s\tremaining: 11.3s\n",
      "150:\tlearn: 1645.3037238\ttest: 1782.6690716\tbest: 1782.6690716 (150)\ttotal: 4.88s\tremaining: 11.3s\n",
      "151:\tlearn: 1644.2211629\ttest: 1782.3410039\tbest: 1782.3410039 (151)\ttotal: 4.91s\tremaining: 11.3s\n",
      "152:\tlearn: 1643.3684568\ttest: 1782.4079536\tbest: 1782.3410039 (151)\ttotal: 4.94s\tremaining: 11.2s\n",
      "153:\tlearn: 1642.1256826\ttest: 1781.9452101\tbest: 1781.9452101 (153)\ttotal: 4.97s\tremaining: 11.2s\n",
      "154:\tlearn: 1640.9839378\ttest: 1781.4503150\tbest: 1781.4503150 (154)\ttotal: 5s\tremaining: 11.1s\n",
      "155:\tlearn: 1640.1228336\ttest: 1781.2049228\tbest: 1781.2049228 (155)\ttotal: 5.03s\tremaining: 11.1s\n",
      "156:\tlearn: 1638.9886897\ttest: 1780.4309489\tbest: 1780.4309489 (156)\ttotal: 5.06s\tremaining: 11.1s\n",
      "157:\tlearn: 1638.3354795\ttest: 1780.4860559\tbest: 1780.4309489 (156)\ttotal: 5.09s\tremaining: 11s\n",
      "158:\tlearn: 1636.8247561\ttest: 1780.1082937\tbest: 1780.1082937 (158)\ttotal: 5.12s\tremaining: 11s\n",
      "159:\tlearn: 1635.8456166\ttest: 1779.9876037\tbest: 1779.9876037 (159)\ttotal: 5.15s\tremaining: 10.9s\n",
      "160:\tlearn: 1635.3548324\ttest: 1779.9089177\tbest: 1779.9089177 (160)\ttotal: 5.17s\tremaining: 10.9s\n",
      "161:\tlearn: 1634.3937703\ttest: 1779.7064510\tbest: 1779.7064510 (161)\ttotal: 5.2s\tremaining: 10.9s\n",
      "162:\tlearn: 1633.4504985\ttest: 1779.3057334\tbest: 1779.3057334 (162)\ttotal: 5.23s\tremaining: 10.8s\n",
      "163:\tlearn: 1632.4529503\ttest: 1778.9285841\tbest: 1778.9285841 (163)\ttotal: 5.26s\tremaining: 10.8s\n",
      "164:\tlearn: 1631.5220483\ttest: 1778.6084216\tbest: 1778.6084216 (164)\ttotal: 5.29s\tremaining: 10.7s\n",
      "165:\tlearn: 1630.9854288\ttest: 1778.2878579\tbest: 1778.2878579 (165)\ttotal: 5.31s\tremaining: 10.7s\n",
      "166:\tlearn: 1629.5689212\ttest: 1777.7879242\tbest: 1777.7879242 (166)\ttotal: 5.34s\tremaining: 10.7s\n",
      "167:\tlearn: 1628.4385732\ttest: 1777.3775080\tbest: 1777.3775080 (167)\ttotal: 5.37s\tremaining: 10.6s\n",
      "168:\tlearn: 1627.4834508\ttest: 1776.8568102\tbest: 1776.8568102 (168)\ttotal: 5.4s\tremaining: 10.6s\n",
      "169:\tlearn: 1626.3056392\ttest: 1776.1162992\tbest: 1776.1162992 (169)\ttotal: 5.42s\tremaining: 10.5s\n",
      "170:\tlearn: 1625.0942168\ttest: 1775.8770851\tbest: 1775.8770851 (170)\ttotal: 5.45s\tremaining: 10.5s\n",
      "171:\tlearn: 1624.2316105\ttest: 1775.6808058\tbest: 1775.6808058 (171)\ttotal: 5.48s\tremaining: 10.4s\n",
      "172:\tlearn: 1623.3868883\ttest: 1775.5327287\tbest: 1775.5327287 (172)\ttotal: 5.5s\tremaining: 10.4s\n",
      "173:\tlearn: 1621.9943032\ttest: 1775.2045860\tbest: 1775.2045860 (173)\ttotal: 5.53s\tremaining: 10.4s\n",
      "174:\tlearn: 1621.4682636\ttest: 1774.9405878\tbest: 1774.9405878 (174)\ttotal: 5.56s\tremaining: 10.3s\n"
     ]
    },
    {
     "name": "stdout",
     "output_type": "stream",
     "text": [
      "175:\tlearn: 1620.3355589\ttest: 1774.6575966\tbest: 1774.6575966 (175)\ttotal: 5.59s\tremaining: 10.3s\n",
      "176:\tlearn: 1619.7911681\ttest: 1774.4691161\tbest: 1774.4691161 (176)\ttotal: 5.62s\tremaining: 10.3s\n",
      "177:\tlearn: 1619.1617256\ttest: 1774.3230204\tbest: 1774.3230204 (177)\ttotal: 5.65s\tremaining: 10.2s\n",
      "178:\tlearn: 1618.5632540\ttest: 1774.1101794\tbest: 1774.1101794 (178)\ttotal: 5.67s\tremaining: 10.2s\n",
      "179:\tlearn: 1618.0207487\ttest: 1774.0280047\tbest: 1774.0280047 (179)\ttotal: 5.7s\tremaining: 10.1s\n",
      "180:\tlearn: 1617.0727411\ttest: 1773.5753420\tbest: 1773.5753420 (180)\ttotal: 5.73s\tremaining: 10.1s\n",
      "181:\tlearn: 1616.3055777\ttest: 1773.2765380\tbest: 1773.2765380 (181)\ttotal: 5.76s\tremaining: 10.1s\n",
      "182:\tlearn: 1615.6862413\ttest: 1773.2256415\tbest: 1773.2256415 (182)\ttotal: 5.79s\tremaining: 10s\n",
      "183:\tlearn: 1614.5677513\ttest: 1772.6387588\tbest: 1772.6387588 (183)\ttotal: 5.81s\tremaining: 9.98s\n",
      "184:\tlearn: 1613.3478637\ttest: 1771.9242106\tbest: 1771.9242106 (184)\ttotal: 5.84s\tremaining: 9.95s\n",
      "185:\tlearn: 1612.2938951\ttest: 1771.8226463\tbest: 1771.8226463 (185)\ttotal: 5.87s\tremaining: 9.91s\n",
      "186:\tlearn: 1611.6340746\ttest: 1771.7858694\tbest: 1771.7858694 (186)\ttotal: 5.89s\tremaining: 9.87s\n",
      "187:\tlearn: 1610.5078475\ttest: 1771.4003876\tbest: 1771.4003876 (187)\ttotal: 5.92s\tremaining: 9.83s\n",
      "188:\tlearn: 1609.8266277\ttest: 1771.0585084\tbest: 1771.0585084 (188)\ttotal: 5.95s\tremaining: 9.79s\n",
      "189:\tlearn: 1608.6810834\ttest: 1770.5150925\tbest: 1770.5150925 (189)\ttotal: 5.98s\tremaining: 9.76s\n",
      "190:\tlearn: 1607.7882027\ttest: 1770.4193545\tbest: 1770.4193545 (190)\ttotal: 6.01s\tremaining: 9.72s\n",
      "191:\tlearn: 1607.2146389\ttest: 1770.3004879\tbest: 1770.3004879 (191)\ttotal: 6.04s\tremaining: 9.68s\n",
      "192:\tlearn: 1606.5787142\ttest: 1770.1479324\tbest: 1770.1479324 (192)\ttotal: 6.06s\tremaining: 9.65s\n",
      "193:\tlearn: 1606.0558178\ttest: 1770.1391950\tbest: 1770.1391950 (193)\ttotal: 6.09s\tremaining: 9.61s\n",
      "194:\tlearn: 1605.3805557\ttest: 1769.8408515\tbest: 1769.8408515 (194)\ttotal: 6.12s\tremaining: 9.57s\n",
      "195:\tlearn: 1604.5325542\ttest: 1769.3781975\tbest: 1769.3781975 (195)\ttotal: 6.15s\tremaining: 9.53s\n",
      "196:\tlearn: 1603.5574371\ttest: 1768.8554527\tbest: 1768.8554527 (196)\ttotal: 6.18s\tremaining: 9.5s\n",
      "197:\tlearn: 1602.0366757\ttest: 1768.5630867\tbest: 1768.5630867 (197)\ttotal: 6.21s\tremaining: 9.46s\n",
      "198:\tlearn: 1601.2331897\ttest: 1768.4016309\tbest: 1768.4016309 (198)\ttotal: 6.23s\tremaining: 9.43s\n",
      "199:\tlearn: 1600.1602344\ttest: 1768.3983515\tbest: 1768.3983515 (199)\ttotal: 6.26s\tremaining: 9.39s\n",
      "200:\tlearn: 1599.4409711\ttest: 1768.2609605\tbest: 1768.2609605 (200)\ttotal: 6.29s\tremaining: 9.36s\n",
      "201:\tlearn: 1598.3698499\ttest: 1768.2923447\tbest: 1768.2609605 (200)\ttotal: 6.32s\tremaining: 9.32s\n",
      "202:\tlearn: 1597.9803349\ttest: 1768.1704468\tbest: 1768.1704468 (202)\ttotal: 6.34s\tremaining: 9.28s\n",
      "203:\tlearn: 1596.9214537\ttest: 1767.9130943\tbest: 1767.9130943 (203)\ttotal: 6.37s\tremaining: 9.24s\n",
      "204:\tlearn: 1595.9581768\ttest: 1767.7077909\tbest: 1767.7077909 (204)\ttotal: 6.4s\tremaining: 9.21s\n",
      "205:\tlearn: 1595.0027862\ttest: 1767.4603217\tbest: 1767.4603217 (205)\ttotal: 6.43s\tremaining: 9.17s\n",
      "206:\tlearn: 1594.1390547\ttest: 1767.2402606\tbest: 1767.2402606 (206)\ttotal: 6.45s\tremaining: 9.13s\n",
      "207:\tlearn: 1593.1150740\ttest: 1766.8188955\tbest: 1766.8188955 (207)\ttotal: 6.48s\tremaining: 9.1s\n",
      "208:\tlearn: 1592.1219696\ttest: 1766.6765448\tbest: 1766.6765448 (208)\ttotal: 6.51s\tremaining: 9.07s\n",
      "209:\tlearn: 1591.4820249\ttest: 1766.5701865\tbest: 1766.5701865 (209)\ttotal: 6.54s\tremaining: 9.04s\n",
      "210:\tlearn: 1590.6467915\ttest: 1766.5121093\tbest: 1766.5121093 (210)\ttotal: 6.57s\tremaining: 9s\n",
      "211:\tlearn: 1589.8639966\ttest: 1766.4912946\tbest: 1766.4912946 (211)\ttotal: 6.6s\tremaining: 8.96s\n",
      "212:\tlearn: 1588.9309514\ttest: 1766.4771642\tbest: 1766.4771642 (212)\ttotal: 6.63s\tremaining: 8.93s\n",
      "213:\tlearn: 1588.4733080\ttest: 1766.2943949\tbest: 1766.2943949 (213)\ttotal: 6.66s\tremaining: 8.89s\n",
      "214:\tlearn: 1587.7085931\ttest: 1766.1040915\tbest: 1766.1040915 (214)\ttotal: 6.68s\tremaining: 8.86s\n",
      "215:\tlearn: 1587.1208041\ttest: 1766.2146009\tbest: 1766.1040915 (214)\ttotal: 6.71s\tremaining: 8.83s\n",
      "216:\tlearn: 1586.2228067\ttest: 1766.2758850\tbest: 1766.1040915 (214)\ttotal: 6.74s\tremaining: 8.79s\n",
      "217:\tlearn: 1584.8613362\ttest: 1765.9649866\tbest: 1765.9649866 (217)\ttotal: 6.77s\tremaining: 8.75s\n",
      "218:\tlearn: 1584.3992452\ttest: 1765.6814156\tbest: 1765.6814156 (218)\ttotal: 6.79s\tremaining: 8.72s\n",
      "219:\tlearn: 1583.5826222\ttest: 1765.6192659\tbest: 1765.6192659 (219)\ttotal: 6.82s\tremaining: 8.69s\n",
      "220:\tlearn: 1582.7578003\ttest: 1765.3733141\tbest: 1765.3733141 (220)\ttotal: 6.85s\tremaining: 8.65s\n",
      "221:\tlearn: 1581.8895726\ttest: 1765.1212418\tbest: 1765.1212418 (221)\ttotal: 6.88s\tremaining: 8.61s\n",
      "222:\tlearn: 1581.2996936\ttest: 1764.7770366\tbest: 1764.7770366 (222)\ttotal: 6.91s\tremaining: 8.58s\n",
      "223:\tlearn: 1580.5177421\ttest: 1764.7241246\tbest: 1764.7241246 (223)\ttotal: 6.94s\tremaining: 8.55s\n",
      "224:\tlearn: 1579.6668469\ttest: 1764.6194183\tbest: 1764.6194183 (224)\ttotal: 6.96s\tremaining: 8.51s\n",
      "225:\tlearn: 1579.2117833\ttest: 1764.5548370\tbest: 1764.5548370 (225)\ttotal: 6.99s\tremaining: 8.48s\n",
      "226:\tlearn: 1577.9437171\ttest: 1764.5858775\tbest: 1764.5548370 (225)\ttotal: 7.02s\tremaining: 8.44s\n",
      "227:\tlearn: 1576.9411502\ttest: 1764.1539311\tbest: 1764.1539311 (227)\ttotal: 7.05s\tremaining: 8.41s\n",
      "228:\tlearn: 1576.2370718\ttest: 1763.7383615\tbest: 1763.7383615 (228)\ttotal: 7.08s\tremaining: 8.37s\n",
      "229:\tlearn: 1575.5103994\ttest: 1763.5249886\tbest: 1763.5249886 (229)\ttotal: 7.1s\tremaining: 8.34s\n",
      "230:\tlearn: 1574.9704959\ttest: 1763.5142705\tbest: 1763.5142705 (230)\ttotal: 7.13s\tremaining: 8.3s\n",
      "231:\tlearn: 1574.2961058\ttest: 1763.2145267\tbest: 1763.2145267 (231)\ttotal: 7.16s\tremaining: 8.27s\n",
      "232:\tlearn: 1573.8118277\ttest: 1763.0482383\tbest: 1763.0482383 (232)\ttotal: 7.18s\tremaining: 8.23s\n",
      "233:\tlearn: 1572.8678872\ttest: 1762.8442141\tbest: 1762.8442141 (233)\ttotal: 7.21s\tremaining: 8.2s\n",
      "234:\tlearn: 1572.3980469\ttest: 1762.5893479\tbest: 1762.5893479 (234)\ttotal: 7.24s\tremaining: 8.16s\n",
      "235:\tlearn: 1571.7876389\ttest: 1762.4639656\tbest: 1762.4639656 (235)\ttotal: 7.27s\tremaining: 8.13s\n",
      "236:\tlearn: 1570.9875676\ttest: 1762.5827765\tbest: 1762.4639656 (235)\ttotal: 7.29s\tremaining: 8.09s\n",
      "237:\tlearn: 1569.7227268\ttest: 1762.5847669\tbest: 1762.4639656 (235)\ttotal: 7.32s\tremaining: 8.06s\n",
      "238:\tlearn: 1568.7023413\ttest: 1762.2320619\tbest: 1762.2320619 (238)\ttotal: 7.35s\tremaining: 8.03s\n",
      "239:\tlearn: 1567.9718384\ttest: 1762.3256168\tbest: 1762.2320619 (238)\ttotal: 7.38s\tremaining: 7.99s\n",
      "240:\tlearn: 1567.5217661\ttest: 1762.1417324\tbest: 1762.1417324 (240)\ttotal: 7.41s\tremaining: 7.96s\n",
      "241:\tlearn: 1566.9281764\ttest: 1762.1828802\tbest: 1762.1417324 (240)\ttotal: 7.43s\tremaining: 7.92s\n",
      "242:\tlearn: 1565.7112333\ttest: 1761.7022021\tbest: 1761.7022021 (242)\ttotal: 7.46s\tremaining: 7.89s\n",
      "243:\tlearn: 1564.4815405\ttest: 1761.1874251\tbest: 1761.1874251 (243)\ttotal: 7.49s\tremaining: 7.86s\n",
      "244:\tlearn: 1563.6268530\ttest: 1760.8574111\tbest: 1760.8574111 (244)\ttotal: 7.51s\tremaining: 7.82s\n",
      "245:\tlearn: 1562.9232998\ttest: 1760.9890778\tbest: 1760.8574111 (244)\ttotal: 7.54s\tremaining: 7.79s\n",
      "246:\tlearn: 1562.1569802\ttest: 1760.8047847\tbest: 1760.8047847 (246)\ttotal: 7.57s\tremaining: 7.75s\n",
      "247:\tlearn: 1561.8158038\ttest: 1760.7674489\tbest: 1760.7674489 (247)\ttotal: 7.59s\tremaining: 7.72s\n",
      "248:\tlearn: 1561.7058968\ttest: 1760.7573635\tbest: 1760.7573635 (248)\ttotal: 7.62s\tremaining: 7.68s\n",
      "249:\tlearn: 1561.3117362\ttest: 1760.6041309\tbest: 1760.6041309 (249)\ttotal: 7.65s\tremaining: 7.65s\n",
      "250:\tlearn: 1560.4281689\ttest: 1760.2541365\tbest: 1760.2541365 (250)\ttotal: 7.68s\tremaining: 7.62s\n",
      "251:\tlearn: 1560.0787160\ttest: 1760.1713559\tbest: 1760.1713559 (251)\ttotal: 7.7s\tremaining: 7.58s\n",
      "252:\tlearn: 1559.1716896\ttest: 1760.1634607\tbest: 1760.1634607 (252)\ttotal: 7.73s\tremaining: 7.55s\n",
      "253:\tlearn: 1558.3283739\ttest: 1760.1576919\tbest: 1760.1576919 (253)\ttotal: 7.76s\tremaining: 7.51s\n",
      "254:\tlearn: 1557.5130755\ttest: 1759.9880506\tbest: 1759.9880506 (254)\ttotal: 7.78s\tremaining: 7.48s\n",
      "255:\tlearn: 1556.5053795\ttest: 1759.7841839\tbest: 1759.7841839 (255)\ttotal: 7.81s\tremaining: 7.44s\n",
      "256:\tlearn: 1555.9011877\ttest: 1759.6534474\tbest: 1759.6534474 (256)\ttotal: 7.84s\tremaining: 7.41s\n",
      "257:\tlearn: 1555.3118760\ttest: 1759.5057043\tbest: 1759.5057043 (257)\ttotal: 7.87s\tremaining: 7.38s\n",
      "258:\tlearn: 1554.6378535\ttest: 1759.5620451\tbest: 1759.5057043 (257)\ttotal: 7.89s\tremaining: 7.34s\n",
      "259:\tlearn: 1554.0865507\ttest: 1759.2370839\tbest: 1759.2370839 (259)\ttotal: 7.92s\tremaining: 7.31s\n",
      "260:\tlearn: 1553.5707636\ttest: 1759.2597792\tbest: 1759.2370839 (259)\ttotal: 7.95s\tremaining: 7.28s\n",
      "261:\tlearn: 1553.3135179\ttest: 1759.2087853\tbest: 1759.2087853 (261)\ttotal: 7.98s\tremaining: 7.25s\n",
      "262:\tlearn: 1552.6425804\ttest: 1759.0447985\tbest: 1759.0447985 (262)\ttotal: 8.01s\tremaining: 7.21s\n"
     ]
    },
    {
     "name": "stdout",
     "output_type": "stream",
     "text": [
      "263:\tlearn: 1552.2442028\ttest: 1759.2193498\tbest: 1759.0447985 (262)\ttotal: 8.03s\tremaining: 7.18s\n",
      "264:\tlearn: 1551.7984762\ttest: 1759.0473241\tbest: 1759.0447985 (262)\ttotal: 8.06s\tremaining: 7.15s\n",
      "265:\tlearn: 1551.2563941\ttest: 1759.0047428\tbest: 1759.0047428 (265)\ttotal: 8.09s\tremaining: 7.12s\n",
      "266:\tlearn: 1550.8467831\ttest: 1758.9668774\tbest: 1758.9668774 (266)\ttotal: 8.12s\tremaining: 7.08s\n",
      "267:\tlearn: 1550.2898112\ttest: 1758.9251945\tbest: 1758.9251945 (267)\ttotal: 8.14s\tremaining: 7.05s\n",
      "268:\tlearn: 1550.2662623\ttest: 1758.9547864\tbest: 1758.9251945 (267)\ttotal: 8.17s\tremaining: 7.02s\n",
      "269:\tlearn: 1549.8138705\ttest: 1758.8053771\tbest: 1758.8053771 (269)\ttotal: 8.2s\tremaining: 6.99s\n",
      "270:\tlearn: 1549.2864558\ttest: 1758.8068494\tbest: 1758.8053771 (269)\ttotal: 8.23s\tremaining: 6.95s\n",
      "271:\tlearn: 1548.7552878\ttest: 1758.6484043\tbest: 1758.6484043 (271)\ttotal: 8.26s\tremaining: 6.92s\n",
      "272:\tlearn: 1548.2234698\ttest: 1758.4222200\tbest: 1758.4222200 (272)\ttotal: 8.28s\tremaining: 6.89s\n",
      "273:\tlearn: 1547.5466721\ttest: 1758.3632466\tbest: 1758.3632466 (273)\ttotal: 8.31s\tremaining: 6.86s\n",
      "274:\tlearn: 1546.7179531\ttest: 1758.4093463\tbest: 1758.3632466 (273)\ttotal: 8.34s\tremaining: 6.82s\n",
      "275:\tlearn: 1545.8191390\ttest: 1758.4344705\tbest: 1758.3632466 (273)\ttotal: 8.37s\tremaining: 6.79s\n",
      "276:\tlearn: 1545.0962303\ttest: 1758.0868288\tbest: 1758.0868288 (276)\ttotal: 8.39s\tremaining: 6.76s\n",
      "277:\tlearn: 1544.0493819\ttest: 1758.0136972\tbest: 1758.0136972 (277)\ttotal: 8.42s\tremaining: 6.73s\n",
      "278:\tlearn: 1543.3016639\ttest: 1757.7752228\tbest: 1757.7752228 (278)\ttotal: 8.45s\tremaining: 6.69s\n",
      "279:\tlearn: 1542.6166359\ttest: 1757.7367252\tbest: 1757.7367252 (279)\ttotal: 8.48s\tremaining: 6.66s\n",
      "280:\tlearn: 1542.0614437\ttest: 1757.6187370\tbest: 1757.6187370 (280)\ttotal: 8.51s\tremaining: 6.63s\n",
      "281:\tlearn: 1541.3577520\ttest: 1757.4862959\tbest: 1757.4862959 (281)\ttotal: 8.54s\tremaining: 6.6s\n",
      "282:\tlearn: 1540.7411139\ttest: 1757.3716195\tbest: 1757.3716195 (282)\ttotal: 8.57s\tremaining: 6.57s\n",
      "283:\tlearn: 1540.0872763\ttest: 1757.2744803\tbest: 1757.2744803 (283)\ttotal: 8.59s\tremaining: 6.54s\n",
      "284:\tlearn: 1539.6341495\ttest: 1757.1513074\tbest: 1757.1513074 (284)\ttotal: 8.62s\tremaining: 6.5s\n",
      "285:\tlearn: 1539.2903003\ttest: 1757.0391829\tbest: 1757.0391829 (285)\ttotal: 8.65s\tremaining: 6.47s\n",
      "286:\tlearn: 1538.6505546\ttest: 1756.8559203\tbest: 1756.8559203 (286)\ttotal: 8.68s\tremaining: 6.44s\n",
      "287:\tlearn: 1538.3325009\ttest: 1756.7248323\tbest: 1756.7248323 (287)\ttotal: 8.71s\tremaining: 6.41s\n",
      "288:\tlearn: 1537.9011663\ttest: 1756.7385295\tbest: 1756.7248323 (287)\ttotal: 8.73s\tremaining: 6.38s\n",
      "289:\tlearn: 1537.3779632\ttest: 1756.6332746\tbest: 1756.6332746 (289)\ttotal: 8.76s\tremaining: 6.34s\n",
      "290:\tlearn: 1536.7551176\ttest: 1756.6011766\tbest: 1756.6011766 (290)\ttotal: 8.79s\tremaining: 6.31s\n",
      "291:\tlearn: 1535.9866704\ttest: 1756.5537815\tbest: 1756.5537815 (291)\ttotal: 8.82s\tremaining: 6.28s\n",
      "292:\tlearn: 1535.9111430\ttest: 1756.5236207\tbest: 1756.5236207 (292)\ttotal: 8.85s\tremaining: 6.25s\n",
      "293:\tlearn: 1534.9327740\ttest: 1756.4019732\tbest: 1756.4019732 (293)\ttotal: 8.87s\tremaining: 6.21s\n",
      "294:\tlearn: 1534.4676634\ttest: 1756.3217280\tbest: 1756.3217280 (294)\ttotal: 8.9s\tremaining: 6.18s\n",
      "295:\tlearn: 1534.1897369\ttest: 1756.2923181\tbest: 1756.2923181 (295)\ttotal: 8.93s\tremaining: 6.15s\n",
      "296:\tlearn: 1533.6783313\ttest: 1756.4347024\tbest: 1756.2923181 (295)\ttotal: 8.96s\tremaining: 6.13s\n",
      "297:\tlearn: 1533.6155356\ttest: 1756.4088818\tbest: 1756.2923181 (295)\ttotal: 8.99s\tremaining: 6.09s\n",
      "298:\tlearn: 1533.0614961\ttest: 1756.4263050\tbest: 1756.2923181 (295)\ttotal: 9.01s\tremaining: 6.06s\n",
      "299:\tlearn: 1532.3123358\ttest: 1756.2737428\tbest: 1756.2737428 (299)\ttotal: 9.04s\tremaining: 6.03s\n",
      "300:\tlearn: 1531.7375650\ttest: 1756.1817729\tbest: 1756.1817729 (300)\ttotal: 9.07s\tremaining: 6s\n",
      "301:\tlearn: 1531.1833981\ttest: 1756.0562797\tbest: 1756.0562797 (301)\ttotal: 9.1s\tremaining: 5.96s\n",
      "302:\tlearn: 1530.6857276\ttest: 1755.9796259\tbest: 1755.9796259 (302)\ttotal: 9.12s\tremaining: 5.93s\n",
      "303:\tlearn: 1529.9793805\ttest: 1756.0517560\tbest: 1755.9796259 (302)\ttotal: 9.15s\tremaining: 5.9s\n",
      "304:\tlearn: 1529.4883659\ttest: 1756.0413966\tbest: 1755.9796259 (302)\ttotal: 9.18s\tremaining: 5.87s\n",
      "305:\tlearn: 1529.0894245\ttest: 1755.9662288\tbest: 1755.9662288 (305)\ttotal: 9.2s\tremaining: 5.83s\n",
      "306:\tlearn: 1528.4286562\ttest: 1755.9253270\tbest: 1755.9253270 (306)\ttotal: 9.23s\tremaining: 5.8s\n",
      "307:\tlearn: 1527.5339588\ttest: 1755.8641817\tbest: 1755.8641817 (307)\ttotal: 9.26s\tremaining: 5.77s\n",
      "308:\tlearn: 1526.5250272\ttest: 1755.9934165\tbest: 1755.8641817 (307)\ttotal: 9.29s\tremaining: 5.74s\n",
      "309:\tlearn: 1526.1058187\ttest: 1755.8129127\tbest: 1755.8129127 (309)\ttotal: 9.32s\tremaining: 5.71s\n",
      "310:\tlearn: 1525.8071317\ttest: 1755.7704071\tbest: 1755.7704071 (310)\ttotal: 9.34s\tremaining: 5.68s\n",
      "311:\tlearn: 1525.5197375\ttest: 1755.6062006\tbest: 1755.6062006 (311)\ttotal: 9.37s\tremaining: 5.65s\n",
      "312:\tlearn: 1524.8399779\ttest: 1755.3697761\tbest: 1755.3697761 (312)\ttotal: 9.4s\tremaining: 5.62s\n",
      "313:\tlearn: 1524.2509324\ttest: 1755.2558173\tbest: 1755.2558173 (313)\ttotal: 9.43s\tremaining: 5.58s\n",
      "314:\tlearn: 1523.3618285\ttest: 1755.2121257\tbest: 1755.2121257 (314)\ttotal: 9.46s\tremaining: 5.55s\n",
      "315:\tlearn: 1522.9893352\ttest: 1755.1569664\tbest: 1755.1569664 (315)\ttotal: 9.49s\tremaining: 5.52s\n",
      "316:\tlearn: 1522.6462058\ttest: 1755.0796226\tbest: 1755.0796226 (316)\ttotal: 9.51s\tremaining: 5.49s\n",
      "317:\tlearn: 1522.0298909\ttest: 1755.1106648\tbest: 1755.0796226 (316)\ttotal: 9.54s\tremaining: 5.46s\n",
      "318:\tlearn: 1521.0667993\ttest: 1754.8845987\tbest: 1754.8845987 (318)\ttotal: 9.57s\tremaining: 5.43s\n",
      "319:\tlearn: 1520.4582417\ttest: 1754.7974340\tbest: 1754.7974340 (319)\ttotal: 9.6s\tremaining: 5.4s\n",
      "320:\tlearn: 1519.8491607\ttest: 1754.9707342\tbest: 1754.7974340 (319)\ttotal: 9.63s\tremaining: 5.37s\n",
      "321:\tlearn: 1519.3169973\ttest: 1754.8588855\tbest: 1754.7974340 (319)\ttotal: 9.65s\tremaining: 5.34s\n",
      "322:\tlearn: 1518.7628574\ttest: 1754.7307789\tbest: 1754.7307789 (322)\ttotal: 9.68s\tremaining: 5.31s\n",
      "323:\tlearn: 1518.1275192\ttest: 1754.6666228\tbest: 1754.6666228 (323)\ttotal: 9.71s\tremaining: 5.28s\n",
      "324:\tlearn: 1517.7304133\ttest: 1754.5315216\tbest: 1754.5315216 (324)\ttotal: 9.74s\tremaining: 5.25s\n",
      "325:\tlearn: 1516.9520613\ttest: 1754.2633343\tbest: 1754.2633343 (325)\ttotal: 9.77s\tremaining: 5.21s\n",
      "326:\tlearn: 1516.0717867\ttest: 1754.1061423\tbest: 1754.1061423 (326)\ttotal: 9.8s\tremaining: 5.18s\n",
      "327:\tlearn: 1515.2261823\ttest: 1754.1223127\tbest: 1754.1061423 (326)\ttotal: 9.83s\tremaining: 5.15s\n",
      "328:\tlearn: 1514.6162954\ttest: 1754.1098441\tbest: 1754.1061423 (326)\ttotal: 9.86s\tremaining: 5.12s\n",
      "329:\tlearn: 1513.6104230\ttest: 1754.0723572\tbest: 1754.0723572 (329)\ttotal: 9.88s\tremaining: 5.09s\n",
      "330:\tlearn: 1513.2990996\ttest: 1754.0635765\tbest: 1754.0635765 (330)\ttotal: 9.91s\tremaining: 5.06s\n",
      "331:\tlearn: 1512.8868007\ttest: 1754.0352708\tbest: 1754.0352708 (331)\ttotal: 9.94s\tremaining: 5.03s\n",
      "332:\tlearn: 1512.2093141\ttest: 1754.0761032\tbest: 1754.0352708 (331)\ttotal: 9.97s\tremaining: 5s\n",
      "333:\tlearn: 1511.8602724\ttest: 1754.0337200\tbest: 1754.0337200 (333)\ttotal: 10s\tremaining: 4.97s\n",
      "334:\tlearn: 1511.2088343\ttest: 1753.9149372\tbest: 1753.9149372 (334)\ttotal: 10s\tremaining: 4.94s\n",
      "335:\tlearn: 1510.3791969\ttest: 1753.8982187\tbest: 1753.8982187 (335)\ttotal: 10.1s\tremaining: 4.91s\n",
      "336:\tlearn: 1509.8008660\ttest: 1753.7054245\tbest: 1753.7054245 (336)\ttotal: 10.1s\tremaining: 4.88s\n",
      "337:\tlearn: 1509.5585988\ttest: 1753.8008597\tbest: 1753.7054245 (336)\ttotal: 10.1s\tremaining: 4.84s\n",
      "338:\tlearn: 1509.2421525\ttest: 1753.7162451\tbest: 1753.7054245 (336)\ttotal: 10.1s\tremaining: 4.81s\n",
      "339:\tlearn: 1508.7730803\ttest: 1753.6928053\tbest: 1753.6928053 (339)\ttotal: 10.2s\tremaining: 4.78s\n",
      "340:\tlearn: 1507.9473077\ttest: 1753.5787568\tbest: 1753.5787568 (340)\ttotal: 10.2s\tremaining: 4.75s\n",
      "341:\tlearn: 1507.3047300\ttest: 1753.4899537\tbest: 1753.4899537 (341)\ttotal: 10.2s\tremaining: 4.72s\n",
      "342:\tlearn: 1506.8804604\ttest: 1753.5000377\tbest: 1753.4899537 (341)\ttotal: 10.2s\tremaining: 4.69s\n",
      "343:\tlearn: 1506.3507541\ttest: 1753.4255484\tbest: 1753.4255484 (343)\ttotal: 10.3s\tremaining: 4.66s\n",
      "344:\tlearn: 1505.8504345\ttest: 1753.4207532\tbest: 1753.4207532 (344)\ttotal: 10.3s\tremaining: 4.63s\n",
      "345:\tlearn: 1505.3869319\ttest: 1753.4622845\tbest: 1753.4207532 (344)\ttotal: 10.3s\tremaining: 4.59s\n",
      "346:\tlearn: 1504.7036074\ttest: 1753.5154421\tbest: 1753.4207532 (344)\ttotal: 10.3s\tremaining: 4.56s\n",
      "347:\tlearn: 1504.6909019\ttest: 1753.5137757\tbest: 1753.4207532 (344)\ttotal: 10.4s\tremaining: 4.53s\n",
      "348:\tlearn: 1504.2361986\ttest: 1753.5047051\tbest: 1753.4207532 (344)\ttotal: 10.4s\tremaining: 4.5s\n",
      "349:\tlearn: 1504.2160348\ttest: 1753.5276982\tbest: 1753.4207532 (344)\ttotal: 10.4s\tremaining: 4.47s\n"
     ]
    },
    {
     "name": "stdout",
     "output_type": "stream",
     "text": [
      "350:\tlearn: 1503.9231251\ttest: 1753.4034131\tbest: 1753.4034131 (350)\ttotal: 10.5s\tremaining: 4.44s\n",
      "351:\tlearn: 1503.5672946\ttest: 1753.3746746\tbest: 1753.3746746 (351)\ttotal: 10.5s\tremaining: 4.41s\n",
      "352:\tlearn: 1502.8979159\ttest: 1753.3669816\tbest: 1753.3669816 (352)\ttotal: 10.5s\tremaining: 4.38s\n",
      "353:\tlearn: 1502.3918397\ttest: 1753.1880529\tbest: 1753.1880529 (353)\ttotal: 10.5s\tremaining: 4.35s\n",
      "354:\tlearn: 1501.7403973\ttest: 1752.9894412\tbest: 1752.9894412 (354)\ttotal: 10.6s\tremaining: 4.32s\n",
      "355:\tlearn: 1501.4340448\ttest: 1753.0595306\tbest: 1752.9894412 (354)\ttotal: 10.6s\tremaining: 4.29s\n",
      "356:\tlearn: 1500.9470621\ttest: 1752.9037416\tbest: 1752.9037416 (356)\ttotal: 10.6s\tremaining: 4.25s\n",
      "357:\tlearn: 1500.4841234\ttest: 1752.9364577\tbest: 1752.9037416 (356)\ttotal: 10.7s\tremaining: 4.22s\n",
      "358:\tlearn: 1499.8956565\ttest: 1752.7483299\tbest: 1752.7483299 (358)\ttotal: 10.7s\tremaining: 4.19s\n",
      "359:\tlearn: 1499.0477087\ttest: 1752.6958905\tbest: 1752.6958905 (359)\ttotal: 10.7s\tremaining: 4.16s\n",
      "360:\tlearn: 1498.6157545\ttest: 1752.7725163\tbest: 1752.6958905 (359)\ttotal: 10.7s\tremaining: 4.13s\n",
      "361:\tlearn: 1498.0610744\ttest: 1752.8997477\tbest: 1752.6958905 (359)\ttotal: 10.8s\tremaining: 4.1s\n",
      "362:\tlearn: 1497.8510519\ttest: 1752.8405138\tbest: 1752.6958905 (359)\ttotal: 10.8s\tremaining: 4.07s\n",
      "363:\tlearn: 1497.5060404\ttest: 1752.7111460\tbest: 1752.6958905 (359)\ttotal: 10.8s\tremaining: 4.04s\n",
      "364:\tlearn: 1497.3447286\ttest: 1752.7608698\tbest: 1752.6958905 (359)\ttotal: 10.8s\tremaining: 4.01s\n",
      "365:\tlearn: 1496.9468917\ttest: 1752.7441258\tbest: 1752.6958905 (359)\ttotal: 10.9s\tremaining: 3.98s\n",
      "366:\tlearn: 1496.9195012\ttest: 1752.7604897\tbest: 1752.6958905 (359)\ttotal: 10.9s\tremaining: 3.95s\n",
      "367:\tlearn: 1496.2291703\ttest: 1752.6474108\tbest: 1752.6474108 (367)\ttotal: 10.9s\tremaining: 3.92s\n",
      "368:\tlearn: 1495.7133343\ttest: 1752.4336656\tbest: 1752.4336656 (368)\ttotal: 11s\tremaining: 3.89s\n",
      "369:\tlearn: 1495.4324980\ttest: 1752.3629352\tbest: 1752.3629352 (369)\ttotal: 11s\tremaining: 3.86s\n",
      "370:\tlearn: 1494.8928721\ttest: 1752.0974137\tbest: 1752.0974137 (370)\ttotal: 11s\tremaining: 3.83s\n",
      "371:\tlearn: 1494.0623160\ttest: 1751.8899928\tbest: 1751.8899928 (371)\ttotal: 11s\tremaining: 3.8s\n",
      "372:\tlearn: 1493.5667496\ttest: 1751.8392527\tbest: 1751.8392527 (372)\ttotal: 11.1s\tremaining: 3.77s\n",
      "373:\tlearn: 1493.5360002\ttest: 1751.8094573\tbest: 1751.8094573 (373)\ttotal: 11.1s\tremaining: 3.74s\n",
      "374:\tlearn: 1492.8447511\ttest: 1751.8229464\tbest: 1751.8094573 (373)\ttotal: 11.1s\tremaining: 3.71s\n",
      "375:\tlearn: 1492.5718990\ttest: 1751.7905018\tbest: 1751.7905018 (375)\ttotal: 11.2s\tremaining: 3.68s\n",
      "376:\tlearn: 1492.1633150\ttest: 1751.7318913\tbest: 1751.7318913 (376)\ttotal: 11.2s\tremaining: 3.65s\n",
      "377:\tlearn: 1492.1421255\ttest: 1751.7290406\tbest: 1751.7290406 (377)\ttotal: 11.2s\tremaining: 3.62s\n",
      "378:\tlearn: 1491.2002761\ttest: 1751.6630015\tbest: 1751.6630015 (378)\ttotal: 11.2s\tremaining: 3.59s\n",
      "379:\tlearn: 1491.1108875\ttest: 1751.6802525\tbest: 1751.6630015 (378)\ttotal: 11.3s\tremaining: 3.56s\n",
      "380:\tlearn: 1490.3283884\ttest: 1751.7767099\tbest: 1751.6630015 (378)\ttotal: 11.3s\tremaining: 3.53s\n",
      "381:\tlearn: 1490.3119712\ttest: 1751.7960702\tbest: 1751.6630015 (378)\ttotal: 11.3s\tremaining: 3.5s\n",
      "382:\tlearn: 1489.8708523\ttest: 1751.8889841\tbest: 1751.6630015 (378)\ttotal: 11.4s\tremaining: 3.47s\n",
      "383:\tlearn: 1489.7860352\ttest: 1751.8741812\tbest: 1751.6630015 (378)\ttotal: 11.4s\tremaining: 3.44s\n",
      "384:\tlearn: 1489.3601229\ttest: 1751.8322924\tbest: 1751.6630015 (378)\ttotal: 11.4s\tremaining: 3.41s\n",
      "385:\tlearn: 1489.2990818\ttest: 1751.8393409\tbest: 1751.6630015 (378)\ttotal: 11.4s\tremaining: 3.38s\n",
      "386:\tlearn: 1488.8482751\ttest: 1751.7898738\tbest: 1751.6630015 (378)\ttotal: 11.5s\tremaining: 3.35s\n",
      "387:\tlearn: 1488.3462886\ttest: 1751.8341113\tbest: 1751.6630015 (378)\ttotal: 11.5s\tremaining: 3.32s\n",
      "388:\tlearn: 1487.4334938\ttest: 1751.6393701\tbest: 1751.6393701 (388)\ttotal: 11.5s\tremaining: 3.29s\n",
      "389:\tlearn: 1486.4959319\ttest: 1751.3822534\tbest: 1751.3822534 (389)\ttotal: 11.5s\tremaining: 3.26s\n",
      "390:\tlearn: 1485.8169172\ttest: 1751.4797042\tbest: 1751.3822534 (389)\ttotal: 11.6s\tremaining: 3.23s\n",
      "391:\tlearn: 1485.3642950\ttest: 1751.5663476\tbest: 1751.3822534 (389)\ttotal: 11.6s\tremaining: 3.2s\n",
      "392:\tlearn: 1484.9524088\ttest: 1751.6442411\tbest: 1751.3822534 (389)\ttotal: 11.6s\tremaining: 3.17s\n",
      "393:\tlearn: 1484.4904736\ttest: 1751.7648119\tbest: 1751.3822534 (389)\ttotal: 11.7s\tremaining: 3.14s\n",
      "394:\tlearn: 1483.9807630\ttest: 1751.8551477\tbest: 1751.3822534 (389)\ttotal: 11.7s\tremaining: 3.11s\n",
      "395:\tlearn: 1483.4560869\ttest: 1751.8345126\tbest: 1751.3822534 (389)\ttotal: 11.7s\tremaining: 3.08s\n",
      "396:\tlearn: 1482.9677400\ttest: 1751.7223749\tbest: 1751.3822534 (389)\ttotal: 11.7s\tremaining: 3.05s\n",
      "397:\tlearn: 1482.3496891\ttest: 1751.7849095\tbest: 1751.3822534 (389)\ttotal: 11.8s\tremaining: 3.02s\n",
      "398:\tlearn: 1481.8560986\ttest: 1751.6203249\tbest: 1751.3822534 (389)\ttotal: 11.8s\tremaining: 2.99s\n",
      "399:\tlearn: 1481.2071776\ttest: 1751.5743222\tbest: 1751.3822534 (389)\ttotal: 11.8s\tremaining: 2.96s\n",
      "400:\tlearn: 1480.6023399\ttest: 1751.5609070\tbest: 1751.3822534 (389)\ttotal: 11.9s\tremaining: 2.93s\n",
      "401:\tlearn: 1480.1448106\ttest: 1751.3464261\tbest: 1751.3464261 (401)\ttotal: 11.9s\tremaining: 2.9s\n",
      "402:\tlearn: 1479.6578784\ttest: 1751.2674877\tbest: 1751.2674877 (402)\ttotal: 11.9s\tremaining: 2.87s\n",
      "403:\tlearn: 1479.4317487\ttest: 1751.2344533\tbest: 1751.2344533 (403)\ttotal: 11.9s\tremaining: 2.84s\n",
      "404:\tlearn: 1478.7954582\ttest: 1751.0901249\tbest: 1751.0901249 (404)\ttotal: 12s\tremaining: 2.81s\n",
      "405:\tlearn: 1478.7124242\ttest: 1751.0991471\tbest: 1751.0901249 (404)\ttotal: 12s\tremaining: 2.78s\n",
      "406:\tlearn: 1478.4232035\ttest: 1751.0364861\tbest: 1751.0364861 (406)\ttotal: 12s\tremaining: 2.75s\n",
      "407:\tlearn: 1478.2213073\ttest: 1751.1991951\tbest: 1751.0364861 (406)\ttotal: 12s\tremaining: 2.72s\n",
      "408:\tlearn: 1477.7824654\ttest: 1751.1420050\tbest: 1751.0364861 (406)\ttotal: 12.1s\tremaining: 2.69s\n",
      "409:\tlearn: 1477.3289777\ttest: 1751.0498979\tbest: 1751.0364861 (406)\ttotal: 12.1s\tremaining: 2.66s\n",
      "410:\tlearn: 1476.8470377\ttest: 1750.8679375\tbest: 1750.8679375 (410)\ttotal: 12.1s\tremaining: 2.63s\n",
      "411:\tlearn: 1476.3759447\ttest: 1750.8161533\tbest: 1750.8161533 (411)\ttotal: 12.2s\tremaining: 2.6s\n",
      "412:\tlearn: 1475.6298162\ttest: 1750.6490529\tbest: 1750.6490529 (412)\ttotal: 12.2s\tremaining: 2.57s\n",
      "413:\tlearn: 1475.3651848\ttest: 1750.5868118\tbest: 1750.5868118 (413)\ttotal: 12.2s\tremaining: 2.54s\n",
      "414:\tlearn: 1475.3251057\ttest: 1750.5639520\tbest: 1750.5639520 (414)\ttotal: 12.2s\tremaining: 2.51s\n",
      "415:\tlearn: 1474.7697662\ttest: 1750.4193466\tbest: 1750.4193466 (415)\ttotal: 12.3s\tremaining: 2.48s\n",
      "416:\tlearn: 1474.3754474\ttest: 1750.4539447\tbest: 1750.4193466 (415)\ttotal: 12.3s\tremaining: 2.45s\n",
      "417:\tlearn: 1474.0755096\ttest: 1750.3403052\tbest: 1750.3403052 (417)\ttotal: 12.3s\tremaining: 2.42s\n",
      "418:\tlearn: 1473.9975189\ttest: 1750.3421021\tbest: 1750.3403052 (417)\ttotal: 12.4s\tremaining: 2.39s\n",
      "419:\tlearn: 1473.5710374\ttest: 1750.4313777\tbest: 1750.3403052 (417)\ttotal: 12.4s\tremaining: 2.36s\n",
      "420:\tlearn: 1473.1786586\ttest: 1750.3407147\tbest: 1750.3403052 (417)\ttotal: 12.4s\tremaining: 2.33s\n",
      "421:\tlearn: 1472.7915772\ttest: 1750.2601844\tbest: 1750.2601844 (421)\ttotal: 12.4s\tremaining: 2.3s\n",
      "422:\tlearn: 1472.2832653\ttest: 1750.3935242\tbest: 1750.2601844 (421)\ttotal: 12.5s\tremaining: 2.27s\n",
      "423:\tlearn: 1471.6722570\ttest: 1750.3114133\tbest: 1750.2601844 (421)\ttotal: 12.5s\tremaining: 2.24s\n",
      "424:\tlearn: 1471.4014593\ttest: 1750.3396763\tbest: 1750.2601844 (421)\ttotal: 12.5s\tremaining: 2.21s\n",
      "425:\tlearn: 1470.6710665\ttest: 1750.4467671\tbest: 1750.2601844 (421)\ttotal: 12.5s\tremaining: 2.18s\n",
      "426:\tlearn: 1470.2849464\ttest: 1750.4641087\tbest: 1750.2601844 (421)\ttotal: 12.6s\tremaining: 2.15s\n",
      "427:\tlearn: 1470.0206303\ttest: 1750.4041442\tbest: 1750.2601844 (421)\ttotal: 12.6s\tremaining: 2.12s\n",
      "428:\tlearn: 1469.4379365\ttest: 1750.2313504\tbest: 1750.2313504 (428)\ttotal: 12.6s\tremaining: 2.09s\n",
      "429:\tlearn: 1469.0035298\ttest: 1750.2659760\tbest: 1750.2313504 (428)\ttotal: 12.7s\tremaining: 2.06s\n",
      "430:\tlearn: 1468.6642380\ttest: 1750.2834323\tbest: 1750.2313504 (428)\ttotal: 12.7s\tremaining: 2.03s\n",
      "431:\tlearn: 1468.4667695\ttest: 1750.2522198\tbest: 1750.2313504 (428)\ttotal: 12.7s\tremaining: 2s\n",
      "432:\tlearn: 1468.0786392\ttest: 1750.2609117\tbest: 1750.2313504 (428)\ttotal: 12.7s\tremaining: 1.97s\n",
      "433:\tlearn: 1467.7187784\ttest: 1750.2493703\tbest: 1750.2313504 (428)\ttotal: 12.8s\tremaining: 1.94s\n",
      "434:\tlearn: 1467.6614032\ttest: 1750.2118756\tbest: 1750.2118756 (434)\ttotal: 12.8s\tremaining: 1.91s\n",
      "435:\tlearn: 1466.9537500\ttest: 1750.0422423\tbest: 1750.0422423 (435)\ttotal: 12.8s\tremaining: 1.88s\n",
      "436:\tlearn: 1466.8913981\ttest: 1750.0223335\tbest: 1750.0223335 (436)\ttotal: 12.8s\tremaining: 1.85s\n"
     ]
    },
    {
     "name": "stdout",
     "output_type": "stream",
     "text": [
      "437:\tlearn: 1466.2211262\ttest: 1749.8795923\tbest: 1749.8795923 (437)\ttotal: 12.9s\tremaining: 1.82s\n",
      "438:\tlearn: 1465.8396919\ttest: 1749.6581856\tbest: 1749.6581856 (438)\ttotal: 12.9s\tremaining: 1.79s\n",
      "439:\tlearn: 1465.5405347\ttest: 1749.6210097\tbest: 1749.6210097 (439)\ttotal: 12.9s\tremaining: 1.76s\n",
      "440:\tlearn: 1464.9487058\ttest: 1749.6419050\tbest: 1749.6210097 (439)\ttotal: 13s\tremaining: 1.73s\n",
      "441:\tlearn: 1464.6542795\ttest: 1749.6358425\tbest: 1749.6210097 (439)\ttotal: 13s\tremaining: 1.7s\n",
      "442:\tlearn: 1464.1764490\ttest: 1749.6240874\tbest: 1749.6210097 (439)\ttotal: 13s\tremaining: 1.68s\n",
      "443:\tlearn: 1463.9237950\ttest: 1749.5708008\tbest: 1749.5708008 (443)\ttotal: 13s\tremaining: 1.65s\n",
      "444:\tlearn: 1463.5886429\ttest: 1749.4306782\tbest: 1749.4306782 (444)\ttotal: 13.1s\tremaining: 1.61s\n",
      "445:\tlearn: 1463.2180698\ttest: 1749.2780618\tbest: 1749.2780618 (445)\ttotal: 13.1s\tremaining: 1.59s\n",
      "446:\tlearn: 1462.8368021\ttest: 1749.1486530\tbest: 1749.1486530 (446)\ttotal: 13.1s\tremaining: 1.56s\n",
      "447:\tlearn: 1462.4796628\ttest: 1749.3124204\tbest: 1749.1486530 (446)\ttotal: 13.2s\tremaining: 1.53s\n",
      "448:\tlearn: 1462.0119211\ttest: 1749.3016200\tbest: 1749.1486530 (446)\ttotal: 13.2s\tremaining: 1.5s\n",
      "449:\tlearn: 1461.6278108\ttest: 1749.2995762\tbest: 1749.1486530 (446)\ttotal: 13.2s\tremaining: 1.47s\n",
      "450:\tlearn: 1461.3448912\ttest: 1749.1710548\tbest: 1749.1486530 (446)\ttotal: 13.2s\tremaining: 1.44s\n",
      "451:\tlearn: 1461.1344768\ttest: 1749.1544737\tbest: 1749.1486530 (446)\ttotal: 13.3s\tremaining: 1.41s\n",
      "452:\tlearn: 1460.5873826\ttest: 1749.1449166\tbest: 1749.1449166 (452)\ttotal: 13.3s\tremaining: 1.38s\n",
      "453:\tlearn: 1460.0965431\ttest: 1749.2080990\tbest: 1749.1449166 (452)\ttotal: 13.3s\tremaining: 1.35s\n",
      "454:\tlearn: 1459.7229117\ttest: 1749.2485247\tbest: 1749.1449166 (452)\ttotal: 13.3s\tremaining: 1.32s\n",
      "455:\tlearn: 1459.1881034\ttest: 1749.2059237\tbest: 1749.1449166 (452)\ttotal: 13.4s\tremaining: 1.29s\n",
      "456:\tlearn: 1458.8951762\ttest: 1749.0885095\tbest: 1749.0885095 (456)\ttotal: 13.4s\tremaining: 1.26s\n",
      "457:\tlearn: 1458.5923860\ttest: 1749.0494482\tbest: 1749.0494482 (457)\ttotal: 13.4s\tremaining: 1.23s\n",
      "458:\tlearn: 1458.1521907\ttest: 1749.0616253\tbest: 1749.0494482 (457)\ttotal: 13.5s\tremaining: 1.2s\n",
      "459:\tlearn: 1457.7487331\ttest: 1749.1058310\tbest: 1749.0494482 (457)\ttotal: 13.5s\tremaining: 1.17s\n",
      "460:\tlearn: 1457.5867355\ttest: 1749.1103524\tbest: 1749.0494482 (457)\ttotal: 13.5s\tremaining: 1.14s\n",
      "461:\tlearn: 1457.1381488\ttest: 1749.0134593\tbest: 1749.0134593 (461)\ttotal: 13.5s\tremaining: 1.11s\n",
      "462:\tlearn: 1456.8334675\ttest: 1748.9831136\tbest: 1748.9831136 (462)\ttotal: 13.6s\tremaining: 1.08s\n",
      "463:\tlearn: 1456.8240629\ttest: 1748.9545393\tbest: 1748.9545393 (463)\ttotal: 13.6s\tremaining: 1.05s\n",
      "464:\tlearn: 1456.4679106\ttest: 1748.7387598\tbest: 1748.7387598 (464)\ttotal: 13.6s\tremaining: 1.02s\n",
      "465:\tlearn: 1456.0636098\ttest: 1748.8039358\tbest: 1748.7387598 (464)\ttotal: 13.6s\tremaining: 996ms\n",
      "466:\tlearn: 1455.6090315\ttest: 1748.8369727\tbest: 1748.7387598 (464)\ttotal: 13.7s\tremaining: 966ms\n",
      "467:\tlearn: 1455.2441987\ttest: 1748.7961660\tbest: 1748.7387598 (464)\ttotal: 13.7s\tremaining: 937ms\n",
      "468:\tlearn: 1454.4493121\ttest: 1748.7395163\tbest: 1748.7387598 (464)\ttotal: 13.7s\tremaining: 907ms\n",
      "469:\tlearn: 1454.0689109\ttest: 1748.7096527\tbest: 1748.7096527 (469)\ttotal: 13.8s\tremaining: 878ms\n",
      "470:\tlearn: 1453.6420111\ttest: 1748.4744952\tbest: 1748.4744952 (470)\ttotal: 13.8s\tremaining: 849ms\n",
      "471:\tlearn: 1453.1447865\ttest: 1748.4415287\tbest: 1748.4415287 (471)\ttotal: 13.8s\tremaining: 819ms\n",
      "472:\tlearn: 1452.9891315\ttest: 1748.4307795\tbest: 1748.4307795 (472)\ttotal: 13.8s\tremaining: 790ms\n",
      "473:\tlearn: 1452.5863175\ttest: 1748.4506282\tbest: 1748.4307795 (472)\ttotal: 13.9s\tremaining: 761ms\n",
      "474:\tlearn: 1452.2735430\ttest: 1748.4407875\tbest: 1748.4307795 (472)\ttotal: 13.9s\tremaining: 731ms\n",
      "475:\tlearn: 1451.6349786\ttest: 1748.4626754\tbest: 1748.4307795 (472)\ttotal: 13.9s\tremaining: 702ms\n",
      "476:\tlearn: 1451.0887457\ttest: 1748.4270379\tbest: 1748.4270379 (476)\ttotal: 14s\tremaining: 673ms\n",
      "477:\tlearn: 1450.6264429\ttest: 1748.3984545\tbest: 1748.3984545 (477)\ttotal: 14s\tremaining: 643ms\n",
      "478:\tlearn: 1450.3943964\ttest: 1748.3678169\tbest: 1748.3678169 (478)\ttotal: 14s\tremaining: 614ms\n",
      "479:\tlearn: 1449.7716159\ttest: 1748.2506006\tbest: 1748.2506006 (479)\ttotal: 14s\tremaining: 585ms\n",
      "480:\tlearn: 1449.3401934\ttest: 1748.2631667\tbest: 1748.2506006 (479)\ttotal: 14.1s\tremaining: 556ms\n",
      "481:\tlearn: 1448.6969263\ttest: 1748.1932393\tbest: 1748.1932393 (481)\ttotal: 14.1s\tremaining: 526ms\n",
      "482:\tlearn: 1448.1113622\ttest: 1748.0076448\tbest: 1748.0076448 (482)\ttotal: 14.1s\tremaining: 497ms\n",
      "483:\tlearn: 1447.6414123\ttest: 1747.9213049\tbest: 1747.9213049 (483)\ttotal: 14.2s\tremaining: 468ms\n",
      "484:\tlearn: 1447.3776901\ttest: 1748.0617377\tbest: 1747.9213049 (483)\ttotal: 14.2s\tremaining: 439ms\n",
      "485:\tlearn: 1447.0675431\ttest: 1748.2385878\tbest: 1747.9213049 (483)\ttotal: 14.2s\tremaining: 409ms\n",
      "486:\tlearn: 1446.6062163\ttest: 1748.2554886\tbest: 1747.9213049 (483)\ttotal: 14.2s\tremaining: 380ms\n",
      "487:\tlearn: 1446.5387699\ttest: 1748.2773186\tbest: 1747.9213049 (483)\ttotal: 14.3s\tremaining: 351ms\n",
      "488:\tlearn: 1446.1792763\ttest: 1748.1243911\tbest: 1747.9213049 (483)\ttotal: 14.3s\tremaining: 321ms\n",
      "489:\tlearn: 1446.0623846\ttest: 1748.1255140\tbest: 1747.9213049 (483)\ttotal: 14.3s\tremaining: 292ms\n",
      "490:\tlearn: 1445.8161472\ttest: 1748.0897065\tbest: 1747.9213049 (483)\ttotal: 14.3s\tremaining: 263ms\n",
      "491:\tlearn: 1445.4185809\ttest: 1748.1520776\tbest: 1747.9213049 (483)\ttotal: 14.4s\tremaining: 234ms\n",
      "492:\tlearn: 1445.0507657\ttest: 1748.0593441\tbest: 1747.9213049 (483)\ttotal: 14.4s\tremaining: 205ms\n",
      "493:\tlearn: 1444.7045873\ttest: 1747.9962057\tbest: 1747.9213049 (483)\ttotal: 14.4s\tremaining: 175ms\n",
      "494:\tlearn: 1444.6468222\ttest: 1747.9861046\tbest: 1747.9213049 (483)\ttotal: 14.5s\tremaining: 146ms\n",
      "495:\tlearn: 1443.9728601\ttest: 1748.1108792\tbest: 1747.9213049 (483)\ttotal: 14.5s\tremaining: 117ms\n",
      "496:\tlearn: 1443.7192464\ttest: 1748.0612014\tbest: 1747.9213049 (483)\ttotal: 14.5s\tremaining: 87.6ms\n",
      "497:\tlearn: 1443.3964532\ttest: 1747.9879043\tbest: 1747.9213049 (483)\ttotal: 14.5s\tremaining: 58.4ms\n",
      "498:\tlearn: 1442.8403503\ttest: 1747.9663379\tbest: 1747.9213049 (483)\ttotal: 14.6s\tremaining: 29.2ms\n",
      "499:\tlearn: 1442.3560122\ttest: 1748.0573574\tbest: 1747.9213049 (483)\ttotal: 14.6s\tremaining: 0us\n",
      "\n",
      "bestTest = 1747.921305\n",
      "bestIteration = 483\n",
      "\n",
      "Shrink model to first 484 iterations.\n",
      "Nilai RMSE untuk model Cat Boost Regressor: 1747.9213048672339\n",
      "Nilai Mean untuk model Cat Boost Regressor: 4420.191998875582\n",
      "CPU times: total: 1min 51s\n",
      "Wall time: 15.1 s\n"
     ]
    }
   ],
   "source": [
    "%%time\n",
    "cbr_model = CatBoostRegressor(loss_function='RMSE', \n",
    "                              iterations=500, \n",
    "                              learning_rate=0.2, \n",
    "                              thread_count=-1, \n",
    "                              random_state=18, \n",
    "                              max_depth=10, \n",
    "                              l2_leaf_reg=3.5)\n",
    "cbr_model.fit(X_train,y_train, plot=True, eval_set=(X_test, y_test))\n",
    "predicted_test = cbr_model.predict(X_test)\n",
    "rmse = mean_squared_error(y_test, predicted_test)**0.5\n",
    "print(\"Nilai RMSE untuk model Cat Boost Regressor:\", rmse)\n",
    "print(\"Nilai Mean untuk model Cat Boost Regressor:\", pd.Series(predicted_test).mean())"
   ]
  },
  {
   "cell_type": "markdown",
   "metadata": {},
   "source": [
    "Cat Boost Regressor dapat mengungguli LGBM Regressor dengan nilai RMSE 1748."
   ]
  },
  {
   "cell_type": "markdown",
   "metadata": {},
   "source": [
    "**Step 4.4** Kita akan menjalankan kembali model Cat Boost Regressor untuk kondisi di mana data kategorikal tidak diubah ke nominal mengingat model ini dapat berjalan dengan data kategorikal."
   ]
  },
  {
   "cell_type": "code",
   "execution_count": 96,
   "metadata": {},
   "outputs": [
    {
     "data": {
      "application/vnd.jupyter.widget-view+json": {
       "model_id": "fa449ff949c544449c231063745e44f5",
       "version_major": 2,
       "version_minor": 0
      },
      "text/plain": [
       "MetricVisualizer(layout=Layout(align_self='stretch', height='500px'))"
      ]
     },
     "metadata": {},
     "output_type": "display_data"
    },
    {
     "name": "stdout",
     "output_type": "stream",
     "text": [
      "0:\tlearn: 3904.3923355\ttest: 3887.7374675\tbest: 3887.7374675 (0)\ttotal: 286ms\tremaining: 2m 22s\n",
      "1:\tlearn: 3446.3658220\ttest: 3431.4102430\tbest: 3431.4102430 (1)\ttotal: 563ms\tremaining: 2m 20s\n",
      "2:\tlearn: 3078.3773549\ttest: 3063.7269111\tbest: 3063.7269111 (2)\ttotal: 857ms\tremaining: 2m 21s\n",
      "3:\tlearn: 2796.8106201\ttest: 2782.3232210\tbest: 2782.3232210 (3)\ttotal: 1.14s\tremaining: 2m 21s\n",
      "4:\tlearn: 2593.4795371\ttest: 2579.1576277\tbest: 2579.1576277 (4)\ttotal: 1.45s\tremaining: 2m 23s\n",
      "5:\tlearn: 2443.5887839\ttest: 2430.9404056\tbest: 2430.9404056 (5)\ttotal: 1.72s\tremaining: 2m 21s\n",
      "6:\tlearn: 2332.5482085\ttest: 2321.3641936\tbest: 2321.3641936 (6)\ttotal: 1.92s\tremaining: 2m 15s\n",
      "7:\tlearn: 2251.2401954\ttest: 2241.8684163\tbest: 2241.8684163 (7)\ttotal: 2.11s\tremaining: 2m 9s\n",
      "8:\tlearn: 2178.6753660\ttest: 2171.6438557\tbest: 2171.6438557 (8)\ttotal: 2.31s\tremaining: 2m 6s\n",
      "9:\tlearn: 2119.7996043\ttest: 2116.3263755\tbest: 2116.3263755 (9)\ttotal: 2.49s\tremaining: 2m 2s\n",
      "10:\tlearn: 2074.5808651\ttest: 2072.9727069\tbest: 2072.9727069 (10)\ttotal: 2.67s\tremaining: 1m 58s\n",
      "11:\tlearn: 2040.2429346\ttest: 2039.4754788\tbest: 2039.4754788 (11)\ttotal: 2.84s\tremaining: 1m 55s\n",
      "12:\tlearn: 2009.5519452\ttest: 2011.7270367\tbest: 2011.7270367 (12)\ttotal: 3s\tremaining: 1m 52s\n",
      "13:\tlearn: 1986.4923755\ttest: 1989.9880112\tbest: 1989.9880112 (13)\ttotal: 3.17s\tremaining: 1m 50s\n",
      "14:\tlearn: 1960.5990518\ttest: 1968.1828552\tbest: 1968.1828552 (14)\ttotal: 3.37s\tremaining: 1m 49s\n",
      "15:\tlearn: 1946.2972014\ttest: 1956.1686847\tbest: 1956.1686847 (15)\ttotal: 3.55s\tremaining: 1m 47s\n",
      "16:\tlearn: 1931.1072680\ttest: 1943.2296749\tbest: 1943.2296749 (16)\ttotal: 3.7s\tremaining: 1m 45s\n",
      "17:\tlearn: 1918.0961878\ttest: 1931.4593294\tbest: 1931.4593294 (17)\ttotal: 3.86s\tremaining: 1m 43s\n",
      "18:\tlearn: 1909.6220494\ttest: 1923.8294166\tbest: 1923.8294166 (18)\ttotal: 4.03s\tremaining: 1m 42s\n",
      "19:\tlearn: 1899.0868260\ttest: 1914.7688862\tbest: 1914.7688862 (19)\ttotal: 4.21s\tremaining: 1m 40s\n",
      "20:\tlearn: 1890.7582515\ttest: 1908.2297389\tbest: 1908.2297389 (20)\ttotal: 4.39s\tremaining: 1m 40s\n",
      "21:\tlearn: 1881.9029465\ttest: 1901.2577466\tbest: 1901.2577466 (21)\ttotal: 4.56s\tremaining: 1m 39s\n",
      "22:\tlearn: 1876.0943529\ttest: 1895.9635570\tbest: 1895.9635570 (22)\ttotal: 4.74s\tremaining: 1m 38s\n",
      "23:\tlearn: 1870.2548750\ttest: 1891.2457272\tbest: 1891.2457272 (23)\ttotal: 4.9s\tremaining: 1m 37s\n",
      "24:\tlearn: 1864.6881084\ttest: 1886.5020213\tbest: 1886.5020213 (24)\ttotal: 5.07s\tremaining: 1m 36s\n",
      "25:\tlearn: 1858.5891897\ttest: 1881.3966804\tbest: 1881.3966804 (25)\ttotal: 5.25s\tremaining: 1m 35s\n",
      "26:\tlearn: 1851.9414239\ttest: 1876.9832560\tbest: 1876.9832560 (26)\ttotal: 5.42s\tremaining: 1m 34s\n",
      "27:\tlearn: 1848.5534175\ttest: 1874.5827102\tbest: 1874.5827102 (27)\ttotal: 5.59s\tremaining: 1m 34s\n",
      "28:\tlearn: 1841.9848932\ttest: 1870.1321316\tbest: 1870.1321316 (28)\ttotal: 5.77s\tremaining: 1m 33s\n",
      "29:\tlearn: 1835.9870080\ttest: 1864.9307830\tbest: 1864.9307830 (29)\ttotal: 5.95s\tremaining: 1m 33s\n",
      "30:\tlearn: 1829.5017071\ttest: 1859.9403028\tbest: 1859.9403028 (30)\ttotal: 6.12s\tremaining: 1m 32s\n",
      "31:\tlearn: 1825.7794341\ttest: 1857.1232387\tbest: 1857.1232387 (31)\ttotal: 6.27s\tremaining: 1m 31s\n",
      "32:\tlearn: 1822.1855879\ttest: 1854.8011457\tbest: 1854.8011457 (32)\ttotal: 6.45s\tremaining: 1m 31s\n",
      "33:\tlearn: 1815.9838278\ttest: 1851.6648772\tbest: 1851.6648772 (33)\ttotal: 6.62s\tremaining: 1m 30s\n",
      "34:\tlearn: 1813.6879109\ttest: 1850.2974300\tbest: 1850.2974300 (34)\ttotal: 6.79s\tremaining: 1m 30s\n",
      "35:\tlearn: 1811.0579990\ttest: 1848.3022743\tbest: 1848.3022743 (35)\ttotal: 6.95s\tremaining: 1m 29s\n",
      "36:\tlearn: 1808.2148820\ttest: 1846.2795909\tbest: 1846.2795909 (36)\ttotal: 7.13s\tremaining: 1m 29s\n",
      "37:\tlearn: 1802.7549708\ttest: 1843.1798128\tbest: 1843.1798128 (37)\ttotal: 7.29s\tremaining: 1m 28s\n",
      "38:\tlearn: 1799.9489999\ttest: 1841.5157219\tbest: 1841.5157219 (38)\ttotal: 7.48s\tremaining: 1m 28s\n",
      "39:\tlearn: 1797.0768731\ttest: 1840.2899318\tbest: 1840.2899318 (39)\ttotal: 7.66s\tremaining: 1m 28s\n",
      "40:\tlearn: 1794.1142713\ttest: 1839.0405714\tbest: 1839.0405714 (40)\ttotal: 7.83s\tremaining: 1m 27s\n",
      "41:\tlearn: 1791.0001747\ttest: 1836.7612066\tbest: 1836.7612066 (41)\ttotal: 7.99s\tremaining: 1m 27s\n",
      "42:\tlearn: 1788.1830583\ttest: 1834.7658975\tbest: 1834.7658975 (42)\ttotal: 8.16s\tremaining: 1m 26s\n",
      "43:\tlearn: 1781.2777582\ttest: 1830.2313035\tbest: 1830.2313035 (43)\ttotal: 8.33s\tremaining: 1m 26s\n",
      "44:\tlearn: 1779.7344525\ttest: 1829.3402050\tbest: 1829.3402050 (44)\ttotal: 8.51s\tremaining: 1m 26s\n",
      "45:\tlearn: 1776.3976698\ttest: 1827.6095162\tbest: 1827.6095162 (45)\ttotal: 8.66s\tremaining: 1m 25s\n",
      "46:\tlearn: 1774.9585078\ttest: 1826.9474806\tbest: 1826.9474806 (46)\ttotal: 8.85s\tremaining: 1m 25s\n",
      "47:\tlearn: 1771.5895249\ttest: 1824.8439445\tbest: 1824.8439445 (47)\ttotal: 9.04s\tremaining: 1m 25s\n",
      "48:\tlearn: 1767.7742533\ttest: 1822.4124358\tbest: 1822.4124358 (48)\ttotal: 9.21s\tremaining: 1m 24s\n",
      "49:\tlearn: 1765.5747032\ttest: 1821.2305571\tbest: 1821.2305571 (49)\ttotal: 9.39s\tremaining: 1m 24s\n",
      "50:\tlearn: 1763.5313413\ttest: 1819.9477526\tbest: 1819.9477526 (50)\ttotal: 9.55s\tremaining: 1m 24s\n",
      "51:\tlearn: 1761.9395506\ttest: 1819.0598652\tbest: 1819.0598652 (51)\ttotal: 9.71s\tremaining: 1m 23s\n",
      "52:\tlearn: 1758.1985448\ttest: 1816.4518214\tbest: 1816.4518214 (52)\ttotal: 9.88s\tremaining: 1m 23s\n",
      "53:\tlearn: 1756.8823163\ttest: 1815.5430338\tbest: 1815.5430338 (53)\ttotal: 10.1s\tremaining: 1m 23s\n",
      "54:\tlearn: 1754.6276393\ttest: 1814.5056011\tbest: 1814.5056011 (54)\ttotal: 10.3s\tremaining: 1m 22s\n",
      "55:\tlearn: 1750.2746463\ttest: 1812.3521872\tbest: 1812.3521872 (55)\ttotal: 10.4s\tremaining: 1m 22s\n",
      "56:\tlearn: 1747.2716862\ttest: 1810.6853296\tbest: 1810.6853296 (56)\ttotal: 10.6s\tremaining: 1m 22s\n",
      "57:\tlearn: 1745.1848234\ttest: 1809.6216188\tbest: 1809.6216188 (57)\ttotal: 10.8s\tremaining: 1m 22s\n",
      "58:\tlearn: 1743.2070373\ttest: 1808.2607059\tbest: 1808.2607059 (58)\ttotal: 10.9s\tremaining: 1m 21s\n",
      "59:\tlearn: 1741.2247715\ttest: 1807.1783174\tbest: 1807.1783174 (59)\ttotal: 11.1s\tremaining: 1m 21s\n",
      "60:\tlearn: 1738.0358314\ttest: 1805.9217978\tbest: 1805.9217978 (60)\ttotal: 11.3s\tremaining: 1m 21s\n",
      "61:\tlearn: 1735.6322237\ttest: 1804.7264238\tbest: 1804.7264238 (61)\ttotal: 11.5s\tremaining: 1m 21s\n",
      "62:\tlearn: 1734.1287827\ttest: 1803.5656928\tbest: 1803.5656928 (62)\ttotal: 11.7s\tremaining: 1m 20s\n",
      "63:\tlearn: 1731.8860955\ttest: 1802.9349586\tbest: 1802.9349586 (63)\ttotal: 11.8s\tremaining: 1m 20s\n",
      "64:\tlearn: 1729.7856502\ttest: 1801.8565106\tbest: 1801.8565106 (64)\ttotal: 12s\tremaining: 1m 20s\n",
      "65:\tlearn: 1727.0409004\ttest: 1800.5283829\tbest: 1800.5283829 (65)\ttotal: 12.2s\tremaining: 1m 20s\n",
      "66:\tlearn: 1726.1655703\ttest: 1800.2343895\tbest: 1800.2343895 (66)\ttotal: 12.4s\tremaining: 1m 19s\n",
      "67:\tlearn: 1725.0903407\ttest: 1799.7669924\tbest: 1799.7669924 (67)\ttotal: 12.5s\tremaining: 1m 19s\n",
      "68:\tlearn: 1723.7719499\ttest: 1799.4455229\tbest: 1799.4455229 (68)\ttotal: 12.7s\tremaining: 1m 19s\n",
      "69:\tlearn: 1722.3713372\ttest: 1798.6837781\tbest: 1798.6837781 (69)\ttotal: 12.9s\tremaining: 1m 19s\n",
      "70:\tlearn: 1720.2427102\ttest: 1797.3796007\tbest: 1797.3796007 (70)\ttotal: 13.1s\tremaining: 1m 19s\n",
      "71:\tlearn: 1719.1498858\ttest: 1796.8769495\tbest: 1796.8769495 (71)\ttotal: 13.3s\tremaining: 1m 18s\n",
      "72:\tlearn: 1716.7421477\ttest: 1795.9128919\tbest: 1795.9128919 (72)\ttotal: 13.4s\tremaining: 1m 18s\n",
      "73:\tlearn: 1714.6661514\ttest: 1795.2295407\tbest: 1795.2295407 (73)\ttotal: 13.6s\tremaining: 1m 18s\n",
      "74:\tlearn: 1713.0293528\ttest: 1794.4288947\tbest: 1794.4288947 (74)\ttotal: 13.8s\tremaining: 1m 18s\n",
      "75:\tlearn: 1711.5968240\ttest: 1793.8521654\tbest: 1793.8521654 (75)\ttotal: 14s\tremaining: 1m 17s\n",
      "76:\tlearn: 1709.2261696\ttest: 1792.8147113\tbest: 1792.8147113 (76)\ttotal: 14.1s\tremaining: 1m 17s\n",
      "77:\tlearn: 1708.1526246\ttest: 1792.6564638\tbest: 1792.6564638 (77)\ttotal: 14.3s\tremaining: 1m 17s\n",
      "78:\tlearn: 1705.4886012\ttest: 1791.2911800\tbest: 1791.2911800 (78)\ttotal: 14.5s\tremaining: 1m 17s\n",
      "79:\tlearn: 1703.6574816\ttest: 1790.4826565\tbest: 1790.4826565 (79)\ttotal: 14.6s\tremaining: 1m 16s\n",
      "80:\tlearn: 1702.3808284\ttest: 1789.6282083\tbest: 1789.6282083 (80)\ttotal: 14.8s\tremaining: 1m 16s\n",
      "81:\tlearn: 1700.9946253\ttest: 1789.2541506\tbest: 1789.2541506 (81)\ttotal: 14.9s\tremaining: 1m 16s\n",
      "82:\tlearn: 1699.8222109\ttest: 1788.5241855\tbest: 1788.5241855 (82)\ttotal: 15.1s\tremaining: 1m 15s\n",
      "83:\tlearn: 1698.5392452\ttest: 1788.0069161\tbest: 1788.0069161 (83)\ttotal: 15.3s\tremaining: 1m 15s\n"
     ]
    },
    {
     "name": "stdout",
     "output_type": "stream",
     "text": [
      "84:\tlearn: 1697.8679573\ttest: 1787.8549992\tbest: 1787.8549992 (84)\ttotal: 15.5s\tremaining: 1m 15s\n",
      "85:\tlearn: 1695.3794906\ttest: 1787.2961353\tbest: 1787.2961353 (85)\ttotal: 15.6s\tremaining: 1m 15s\n",
      "86:\tlearn: 1693.6519686\ttest: 1786.4406422\tbest: 1786.4406422 (86)\ttotal: 15.8s\tremaining: 1m 15s\n",
      "87:\tlearn: 1692.8736261\ttest: 1786.1879257\tbest: 1786.1879257 (87)\ttotal: 16s\tremaining: 1m 14s\n",
      "88:\tlearn: 1691.7018671\ttest: 1785.5071013\tbest: 1785.5071013 (88)\ttotal: 16.2s\tremaining: 1m 14s\n",
      "89:\tlearn: 1690.3718099\ttest: 1785.0226784\tbest: 1785.0226784 (89)\ttotal: 16.3s\tremaining: 1m 14s\n",
      "90:\tlearn: 1688.9172862\ttest: 1784.3985618\tbest: 1784.3985618 (90)\ttotal: 16.5s\tremaining: 1m 14s\n",
      "91:\tlearn: 1687.5626993\ttest: 1784.0957102\tbest: 1784.0957102 (91)\ttotal: 16.7s\tremaining: 1m 14s\n",
      "92:\tlearn: 1685.6593784\ttest: 1783.7865493\tbest: 1783.7865493 (92)\ttotal: 16.9s\tremaining: 1m 13s\n",
      "93:\tlearn: 1684.5410223\ttest: 1783.3940121\tbest: 1783.3940121 (93)\ttotal: 17s\tremaining: 1m 13s\n",
      "94:\tlearn: 1682.3744979\ttest: 1782.7559049\tbest: 1782.7559049 (94)\ttotal: 17.2s\tremaining: 1m 13s\n",
      "95:\tlearn: 1681.5810649\ttest: 1782.6236050\tbest: 1782.6236050 (95)\ttotal: 17.4s\tremaining: 1m 13s\n",
      "96:\tlearn: 1679.9654575\ttest: 1781.8874985\tbest: 1781.8874985 (96)\ttotal: 17.6s\tremaining: 1m 13s\n",
      "97:\tlearn: 1678.4958879\ttest: 1781.6649681\tbest: 1781.6649681 (97)\ttotal: 17.8s\tremaining: 1m 12s\n",
      "98:\tlearn: 1676.0635216\ttest: 1781.4792749\tbest: 1781.4792749 (98)\ttotal: 17.9s\tremaining: 1m 12s\n",
      "99:\tlearn: 1674.2963162\ttest: 1780.8313152\tbest: 1780.8313152 (99)\ttotal: 18.1s\tremaining: 1m 12s\n",
      "100:\tlearn: 1673.9931680\ttest: 1780.5825516\tbest: 1780.5825516 (100)\ttotal: 18.3s\tremaining: 1m 12s\n",
      "101:\tlearn: 1672.1421133\ttest: 1779.5284767\tbest: 1779.5284767 (101)\ttotal: 18.4s\tremaining: 1m 11s\n",
      "102:\tlearn: 1671.0170067\ttest: 1779.4132164\tbest: 1779.4132164 (102)\ttotal: 18.6s\tremaining: 1m 11s\n",
      "103:\tlearn: 1668.8852020\ttest: 1778.7656376\tbest: 1778.7656376 (103)\ttotal: 18.8s\tremaining: 1m 11s\n",
      "104:\tlearn: 1667.9027926\ttest: 1778.8222527\tbest: 1778.7656376 (103)\ttotal: 19s\tremaining: 1m 11s\n",
      "105:\tlearn: 1666.3303437\ttest: 1778.0858613\tbest: 1778.0858613 (105)\ttotal: 19.1s\tremaining: 1m 11s\n",
      "106:\tlearn: 1665.8387068\ttest: 1778.0027489\tbest: 1778.0027489 (106)\ttotal: 19.3s\tremaining: 1m 10s\n",
      "107:\tlearn: 1664.7301548\ttest: 1777.8718622\tbest: 1777.8718622 (107)\ttotal: 19.5s\tremaining: 1m 10s\n",
      "108:\tlearn: 1663.4695059\ttest: 1777.3766928\tbest: 1777.3766928 (108)\ttotal: 19.7s\tremaining: 1m 10s\n",
      "109:\tlearn: 1662.5294077\ttest: 1777.1618519\tbest: 1777.1618519 (109)\ttotal: 19.9s\tremaining: 1m 10s\n",
      "110:\tlearn: 1662.1934171\ttest: 1777.0877134\tbest: 1777.0877134 (110)\ttotal: 20s\tremaining: 1m 10s\n",
      "111:\tlearn: 1662.0336591\ttest: 1777.0828058\tbest: 1777.0828058 (111)\ttotal: 20.2s\tremaining: 1m 9s\n",
      "112:\tlearn: 1660.8919719\ttest: 1776.5803023\tbest: 1776.5803023 (112)\ttotal: 20.4s\tremaining: 1m 9s\n",
      "113:\tlearn: 1659.9626237\ttest: 1776.5195285\tbest: 1776.5195285 (113)\ttotal: 20.6s\tremaining: 1m 9s\n",
      "114:\tlearn: 1658.6914171\ttest: 1775.8593039\tbest: 1775.8593039 (114)\ttotal: 20.7s\tremaining: 1m 9s\n",
      "115:\tlearn: 1657.2783404\ttest: 1775.5402023\tbest: 1775.5402023 (115)\ttotal: 20.9s\tremaining: 1m 9s\n",
      "116:\tlearn: 1656.5348124\ttest: 1775.0306719\tbest: 1775.0306719 (116)\ttotal: 21.1s\tremaining: 1m 8s\n",
      "117:\tlearn: 1655.0769600\ttest: 1774.6809915\tbest: 1774.6809915 (117)\ttotal: 21.3s\tremaining: 1m 8s\n",
      "118:\tlearn: 1653.7940286\ttest: 1774.0850408\tbest: 1774.0850408 (118)\ttotal: 21.4s\tremaining: 1m 8s\n",
      "119:\tlearn: 1652.8286339\ttest: 1773.8800562\tbest: 1773.8800562 (119)\ttotal: 21.6s\tremaining: 1m 8s\n",
      "120:\tlearn: 1651.7833963\ttest: 1773.5571754\tbest: 1773.5571754 (120)\ttotal: 21.8s\tremaining: 1m 8s\n",
      "121:\tlearn: 1650.1861691\ttest: 1772.8855660\tbest: 1772.8855660 (121)\ttotal: 22s\tremaining: 1m 8s\n",
      "122:\tlearn: 1648.9200790\ttest: 1772.3723305\tbest: 1772.3723305 (122)\ttotal: 22.1s\tremaining: 1m 7s\n",
      "123:\tlearn: 1647.4127972\ttest: 1771.9229198\tbest: 1771.9229198 (123)\ttotal: 22.3s\tremaining: 1m 7s\n",
      "124:\tlearn: 1646.1861798\ttest: 1771.6038458\tbest: 1771.6038458 (124)\ttotal: 22.5s\tremaining: 1m 7s\n",
      "125:\tlearn: 1644.8268338\ttest: 1771.2608883\tbest: 1771.2608883 (125)\ttotal: 22.7s\tremaining: 1m 7s\n",
      "126:\tlearn: 1643.3755614\ttest: 1770.9712777\tbest: 1770.9712777 (126)\ttotal: 22.8s\tremaining: 1m 7s\n",
      "127:\tlearn: 1642.3872356\ttest: 1770.3218861\tbest: 1770.3218861 (127)\ttotal: 23s\tremaining: 1m 6s\n",
      "128:\tlearn: 1640.3367233\ttest: 1769.3702468\tbest: 1769.3702468 (128)\ttotal: 23.1s\tremaining: 1m 6s\n",
      "129:\tlearn: 1638.5512851\ttest: 1768.7380370\tbest: 1768.7380370 (129)\ttotal: 23.3s\tremaining: 1m 6s\n",
      "130:\tlearn: 1637.3853861\ttest: 1768.5468378\tbest: 1768.5468378 (130)\ttotal: 23.5s\tremaining: 1m 6s\n",
      "131:\tlearn: 1636.7696210\ttest: 1768.4649582\tbest: 1768.4649582 (131)\ttotal: 23.7s\tremaining: 1m 5s\n",
      "132:\tlearn: 1635.8237511\ttest: 1768.0667456\tbest: 1768.0667456 (132)\ttotal: 23.8s\tremaining: 1m 5s\n",
      "133:\tlearn: 1634.7294294\ttest: 1767.5757808\tbest: 1767.5757808 (133)\ttotal: 24s\tremaining: 1m 5s\n",
      "134:\tlearn: 1633.6360292\ttest: 1767.3042751\tbest: 1767.3042751 (134)\ttotal: 24.1s\tremaining: 1m 5s\n",
      "135:\tlearn: 1633.2654409\ttest: 1767.2105004\tbest: 1767.2105004 (135)\ttotal: 24.3s\tremaining: 1m 5s\n",
      "136:\tlearn: 1631.9759862\ttest: 1766.9893900\tbest: 1766.9893900 (136)\ttotal: 24.5s\tremaining: 1m 4s\n",
      "137:\tlearn: 1630.7591188\ttest: 1766.7137504\tbest: 1766.7137504 (137)\ttotal: 24.6s\tremaining: 1m 4s\n",
      "138:\tlearn: 1629.9717798\ttest: 1766.5863350\tbest: 1766.5863350 (138)\ttotal: 24.8s\tremaining: 1m 4s\n",
      "139:\tlearn: 1629.0017028\ttest: 1766.1623882\tbest: 1766.1623882 (139)\ttotal: 25s\tremaining: 1m 4s\n",
      "140:\tlearn: 1627.9737469\ttest: 1766.0876105\tbest: 1766.0876105 (140)\ttotal: 25.2s\tremaining: 1m 4s\n",
      "141:\tlearn: 1627.2204413\ttest: 1765.7477110\tbest: 1765.7477110 (141)\ttotal: 25.4s\tremaining: 1m 3s\n",
      "142:\tlearn: 1626.0118226\ttest: 1765.4507612\tbest: 1765.4507612 (142)\ttotal: 25.5s\tremaining: 1m 3s\n",
      "143:\tlearn: 1624.6965657\ttest: 1764.9536236\tbest: 1764.9536236 (143)\ttotal: 25.7s\tremaining: 1m 3s\n",
      "144:\tlearn: 1623.5886281\ttest: 1764.7503567\tbest: 1764.7503567 (144)\ttotal: 25.9s\tremaining: 1m 3s\n",
      "145:\tlearn: 1623.2067747\ttest: 1764.6774628\tbest: 1764.6774628 (145)\ttotal: 26.1s\tremaining: 1m 3s\n",
      "146:\tlearn: 1622.3395911\ttest: 1764.5188069\tbest: 1764.5188069 (146)\ttotal: 26.2s\tremaining: 1m 3s\n",
      "147:\tlearn: 1620.9477572\ttest: 1764.0462874\tbest: 1764.0462874 (147)\ttotal: 26.4s\tremaining: 1m 2s\n",
      "148:\tlearn: 1619.7273595\ttest: 1764.0602475\tbest: 1764.0462874 (147)\ttotal: 26.6s\tremaining: 1m 2s\n",
      "149:\tlearn: 1619.0468398\ttest: 1764.0087074\tbest: 1764.0087074 (149)\ttotal: 26.7s\tremaining: 1m 2s\n",
      "150:\tlearn: 1618.1418023\ttest: 1763.8849882\tbest: 1763.8849882 (150)\ttotal: 26.9s\tremaining: 1m 2s\n",
      "151:\tlearn: 1617.3471072\ttest: 1763.6411229\tbest: 1763.6411229 (151)\ttotal: 27.1s\tremaining: 1m 2s\n",
      "152:\tlearn: 1616.2998463\ttest: 1763.4679894\tbest: 1763.4679894 (152)\ttotal: 27.3s\tremaining: 1m 1s\n",
      "153:\tlearn: 1615.8627960\ttest: 1763.2971524\tbest: 1763.2971524 (153)\ttotal: 27.5s\tremaining: 1m 1s\n",
      "154:\tlearn: 1614.9933346\ttest: 1763.2555760\tbest: 1763.2555760 (154)\ttotal: 27.6s\tremaining: 1m 1s\n",
      "155:\tlearn: 1613.7708712\ttest: 1762.8708169\tbest: 1762.8708169 (155)\ttotal: 27.8s\tremaining: 1m 1s\n",
      "156:\tlearn: 1612.8705087\ttest: 1762.7211999\tbest: 1762.7211999 (156)\ttotal: 28s\tremaining: 1m 1s\n",
      "157:\tlearn: 1612.1939524\ttest: 1762.4704068\tbest: 1762.4704068 (157)\ttotal: 28.2s\tremaining: 1m\n",
      "158:\tlearn: 1611.9842966\ttest: 1762.5604431\tbest: 1762.4704068 (157)\ttotal: 28.3s\tremaining: 1m\n",
      "159:\tlearn: 1610.7141283\ttest: 1762.1834405\tbest: 1762.1834405 (159)\ttotal: 28.5s\tremaining: 1m\n",
      "160:\tlearn: 1609.9861302\ttest: 1761.8713909\tbest: 1761.8713909 (160)\ttotal: 28.7s\tremaining: 1m\n",
      "161:\tlearn: 1609.3982399\ttest: 1761.6504855\tbest: 1761.6504855 (161)\ttotal: 28.9s\tremaining: 1m\n",
      "162:\tlearn: 1609.2360464\ttest: 1761.6338369\tbest: 1761.6338369 (162)\ttotal: 29.1s\tremaining: 1m\n",
      "163:\tlearn: 1608.2977628\ttest: 1761.3479744\tbest: 1761.3479744 (163)\ttotal: 29.2s\tremaining: 59.9s\n",
      "164:\tlearn: 1607.2376068\ttest: 1761.2962099\tbest: 1761.2962099 (164)\ttotal: 29.4s\tremaining: 59.7s\n",
      "165:\tlearn: 1606.6663222\ttest: 1761.2301443\tbest: 1761.2301443 (165)\ttotal: 29.6s\tremaining: 59.5s\n",
      "166:\tlearn: 1606.0729723\ttest: 1761.0212022\tbest: 1761.0212022 (166)\ttotal: 29.8s\tremaining: 59.4s\n",
      "167:\tlearn: 1605.2854702\ttest: 1761.1202949\tbest: 1761.0212022 (166)\ttotal: 29.9s\tremaining: 59.2s\n"
     ]
    },
    {
     "name": "stdout",
     "output_type": "stream",
     "text": [
      "168:\tlearn: 1604.1626241\ttest: 1760.8069531\tbest: 1760.8069531 (168)\ttotal: 30.1s\tremaining: 58.9s\n",
      "169:\tlearn: 1603.5460054\ttest: 1760.9480432\tbest: 1760.8069531 (168)\ttotal: 30.3s\tremaining: 58.8s\n",
      "170:\tlearn: 1602.3627716\ttest: 1761.0086260\tbest: 1760.8069531 (168)\ttotal: 30.4s\tremaining: 58.6s\n",
      "171:\tlearn: 1601.4305958\ttest: 1760.7766650\tbest: 1760.7766650 (171)\ttotal: 30.6s\tremaining: 58.4s\n",
      "172:\tlearn: 1600.7252643\ttest: 1760.8385166\tbest: 1760.7766650 (171)\ttotal: 30.8s\tremaining: 58.1s\n",
      "173:\tlearn: 1599.8533691\ttest: 1760.8806613\tbest: 1760.7766650 (171)\ttotal: 30.9s\tremaining: 57.9s\n",
      "174:\tlearn: 1597.8639658\ttest: 1760.8828013\tbest: 1760.7766650 (171)\ttotal: 31.1s\tremaining: 57.8s\n",
      "175:\tlearn: 1596.8486330\ttest: 1760.7752600\tbest: 1760.7752600 (175)\ttotal: 31.3s\tremaining: 57.6s\n",
      "176:\tlearn: 1596.0795230\ttest: 1760.5391515\tbest: 1760.5391515 (176)\ttotal: 31.4s\tremaining: 57.4s\n",
      "177:\tlearn: 1594.7991660\ttest: 1760.0717458\tbest: 1760.0717458 (177)\ttotal: 31.6s\tremaining: 57.2s\n",
      "178:\tlearn: 1594.1450089\ttest: 1760.0877891\tbest: 1760.0717458 (177)\ttotal: 31.8s\tremaining: 57s\n",
      "179:\tlearn: 1593.4726152\ttest: 1760.0278461\tbest: 1760.0278461 (179)\ttotal: 32s\tremaining: 56.9s\n",
      "180:\tlearn: 1592.9824720\ttest: 1759.9677344\tbest: 1759.9677344 (180)\ttotal: 32.2s\tremaining: 56.7s\n",
      "181:\tlearn: 1592.6202011\ttest: 1759.9907698\tbest: 1759.9677344 (180)\ttotal: 32.3s\tremaining: 56.4s\n",
      "182:\tlearn: 1591.7343759\ttest: 1759.7082279\tbest: 1759.7082279 (182)\ttotal: 32.5s\tremaining: 56.3s\n",
      "183:\tlearn: 1591.2038055\ttest: 1759.5583739\tbest: 1759.5583739 (183)\ttotal: 32.7s\tremaining: 56.1s\n",
      "184:\tlearn: 1590.4955577\ttest: 1759.4984881\tbest: 1759.4984881 (184)\ttotal: 32.9s\tremaining: 56s\n",
      "185:\tlearn: 1589.9737071\ttest: 1759.3665065\tbest: 1759.3665065 (185)\ttotal: 33.1s\tremaining: 55.8s\n",
      "186:\tlearn: 1588.8413200\ttest: 1758.8102707\tbest: 1758.8102707 (186)\ttotal: 33.2s\tremaining: 55.6s\n",
      "187:\tlearn: 1588.1777322\ttest: 1758.5565077\tbest: 1758.5565077 (187)\ttotal: 33.4s\tremaining: 55.5s\n",
      "188:\tlearn: 1587.7553127\ttest: 1758.4738515\tbest: 1758.4738515 (188)\ttotal: 33.6s\tremaining: 55.3s\n",
      "189:\tlearn: 1587.2692429\ttest: 1758.0907615\tbest: 1758.0907615 (189)\ttotal: 33.8s\tremaining: 55.1s\n",
      "190:\tlearn: 1586.4912792\ttest: 1757.8379163\tbest: 1757.8379163 (190)\ttotal: 34s\tremaining: 55s\n",
      "191:\tlearn: 1586.1056320\ttest: 1757.7617195\tbest: 1757.7617195 (191)\ttotal: 34.2s\tremaining: 54.8s\n",
      "192:\tlearn: 1585.5299354\ttest: 1757.6077736\tbest: 1757.6077736 (192)\ttotal: 34.3s\tremaining: 54.6s\n",
      "193:\tlearn: 1584.4993330\ttest: 1757.2241991\tbest: 1757.2241991 (193)\ttotal: 34.5s\tremaining: 54.4s\n",
      "194:\tlearn: 1583.7283653\ttest: 1757.2156684\tbest: 1757.2156684 (194)\ttotal: 34.7s\tremaining: 54.2s\n",
      "195:\tlearn: 1583.0242621\ttest: 1757.0473721\tbest: 1757.0473721 (195)\ttotal: 34.8s\tremaining: 54s\n",
      "196:\tlearn: 1582.4995595\ttest: 1757.1584852\tbest: 1757.0473721 (195)\ttotal: 35s\tremaining: 53.8s\n",
      "197:\tlearn: 1582.2514931\ttest: 1757.0342417\tbest: 1757.0342417 (197)\ttotal: 35.2s\tremaining: 53.6s\n",
      "198:\tlearn: 1581.5836213\ttest: 1756.9448898\tbest: 1756.9448898 (198)\ttotal: 35.4s\tremaining: 53.5s\n",
      "199:\tlearn: 1581.1999717\ttest: 1756.8129963\tbest: 1756.8129963 (199)\ttotal: 35.5s\tremaining: 53.3s\n",
      "200:\tlearn: 1580.2371127\ttest: 1756.6447591\tbest: 1756.6447591 (200)\ttotal: 35.7s\tremaining: 53.1s\n",
      "201:\tlearn: 1579.1121605\ttest: 1756.4877646\tbest: 1756.4877646 (201)\ttotal: 35.9s\tremaining: 52.9s\n",
      "202:\tlearn: 1578.3942327\ttest: 1756.4380212\tbest: 1756.4380212 (202)\ttotal: 36.1s\tremaining: 52.8s\n",
      "203:\tlearn: 1577.2586143\ttest: 1755.8534204\tbest: 1755.8534204 (203)\ttotal: 36.2s\tremaining: 52.6s\n",
      "204:\tlearn: 1576.4854909\ttest: 1755.6629026\tbest: 1755.6629026 (204)\ttotal: 36.4s\tremaining: 52.4s\n",
      "205:\tlearn: 1575.8788238\ttest: 1755.4467818\tbest: 1755.4467818 (205)\ttotal: 36.6s\tremaining: 52.2s\n",
      "206:\tlearn: 1574.8446943\ttest: 1755.4982411\tbest: 1755.4467818 (205)\ttotal: 36.8s\tremaining: 52.1s\n",
      "207:\tlearn: 1573.4636033\ttest: 1755.4708257\tbest: 1755.4467818 (205)\ttotal: 37s\tremaining: 51.9s\n",
      "208:\tlearn: 1572.8122381\ttest: 1755.5050326\tbest: 1755.4467818 (205)\ttotal: 37.1s\tremaining: 51.7s\n",
      "209:\tlearn: 1572.1572540\ttest: 1755.3667866\tbest: 1755.3667866 (209)\ttotal: 37.3s\tremaining: 51.5s\n",
      "210:\tlearn: 1571.5518445\ttest: 1755.1791950\tbest: 1755.1791950 (210)\ttotal: 37.5s\tremaining: 51.4s\n",
      "211:\tlearn: 1570.9324884\ttest: 1755.1553891\tbest: 1755.1553891 (211)\ttotal: 37.7s\tremaining: 51.2s\n",
      "212:\tlearn: 1570.2685200\ttest: 1755.0485330\tbest: 1755.0485330 (212)\ttotal: 37.8s\tremaining: 51s\n",
      "213:\tlearn: 1569.4562883\ttest: 1754.8891658\tbest: 1754.8891658 (213)\ttotal: 38s\tremaining: 50.8s\n",
      "214:\tlearn: 1569.0131064\ttest: 1754.9207403\tbest: 1754.8891658 (213)\ttotal: 38.2s\tremaining: 50.6s\n",
      "215:\tlearn: 1568.3957969\ttest: 1754.8300786\tbest: 1754.8300786 (215)\ttotal: 38.4s\tremaining: 50.5s\n",
      "216:\tlearn: 1567.4983555\ttest: 1754.4796402\tbest: 1754.4796402 (216)\ttotal: 38.5s\tremaining: 50.3s\n",
      "217:\tlearn: 1567.0926491\ttest: 1754.4321352\tbest: 1754.4321352 (217)\ttotal: 38.7s\tremaining: 50.1s\n",
      "218:\tlearn: 1566.1286404\ttest: 1753.9869099\tbest: 1753.9869099 (218)\ttotal: 38.9s\tremaining: 49.9s\n",
      "219:\tlearn: 1566.0641729\ttest: 1753.9755803\tbest: 1753.9755803 (219)\ttotal: 39.1s\tremaining: 49.7s\n",
      "220:\tlearn: 1564.8273303\ttest: 1754.0384157\tbest: 1753.9755803 (219)\ttotal: 39.2s\tremaining: 49.5s\n",
      "221:\tlearn: 1563.8368445\ttest: 1754.0064073\tbest: 1753.9755803 (219)\ttotal: 39.4s\tremaining: 49.4s\n",
      "222:\tlearn: 1563.5759797\ttest: 1753.9663956\tbest: 1753.9663956 (222)\ttotal: 39.6s\tremaining: 49.2s\n",
      "223:\tlearn: 1561.8192946\ttest: 1753.6964561\tbest: 1753.6964561 (223)\ttotal: 39.7s\tremaining: 49s\n",
      "224:\tlearn: 1561.1735620\ttest: 1753.6954859\tbest: 1753.6954859 (224)\ttotal: 39.9s\tremaining: 48.8s\n",
      "225:\tlearn: 1560.4848153\ttest: 1753.6486074\tbest: 1753.6486074 (225)\ttotal: 40.1s\tremaining: 48.6s\n",
      "226:\tlearn: 1559.9697068\ttest: 1753.6598969\tbest: 1753.6486074 (225)\ttotal: 40.3s\tremaining: 48.4s\n",
      "227:\tlearn: 1559.4894390\ttest: 1753.6456296\tbest: 1753.6456296 (227)\ttotal: 40.4s\tremaining: 48.2s\n",
      "228:\tlearn: 1559.0767514\ttest: 1753.5670783\tbest: 1753.5670783 (228)\ttotal: 40.6s\tremaining: 48s\n",
      "229:\tlearn: 1558.6385538\ttest: 1753.4871622\tbest: 1753.4871622 (229)\ttotal: 40.8s\tremaining: 47.8s\n",
      "230:\tlearn: 1558.4189309\ttest: 1753.4345165\tbest: 1753.4345165 (230)\ttotal: 40.9s\tremaining: 47.7s\n",
      "231:\tlearn: 1558.0309129\ttest: 1753.2228105\tbest: 1753.2228105 (231)\ttotal: 41.1s\tremaining: 47.5s\n",
      "232:\tlearn: 1557.3731299\ttest: 1753.0639238\tbest: 1753.0639238 (232)\ttotal: 41.3s\tremaining: 47.3s\n",
      "233:\tlearn: 1556.7075204\ttest: 1753.1255321\tbest: 1753.0639238 (232)\ttotal: 41.5s\tremaining: 47.1s\n",
      "234:\tlearn: 1556.1756294\ttest: 1753.1671055\tbest: 1753.0639238 (232)\ttotal: 41.6s\tremaining: 47s\n",
      "235:\tlearn: 1555.2006554\ttest: 1753.0122127\tbest: 1753.0122127 (235)\ttotal: 41.8s\tremaining: 46.8s\n",
      "236:\tlearn: 1554.6083645\ttest: 1752.9380679\tbest: 1752.9380679 (236)\ttotal: 42s\tremaining: 46.6s\n",
      "237:\tlearn: 1554.2304743\ttest: 1752.9394532\tbest: 1752.9380679 (236)\ttotal: 42.2s\tremaining: 46.4s\n",
      "238:\tlearn: 1553.7559427\ttest: 1752.7883229\tbest: 1752.7883229 (238)\ttotal: 42.3s\tremaining: 46.2s\n",
      "239:\tlearn: 1553.3577859\ttest: 1752.7272017\tbest: 1752.7272017 (239)\ttotal: 42.5s\tremaining: 46s\n",
      "240:\tlearn: 1552.6564420\ttest: 1752.7677087\tbest: 1752.7272017 (239)\ttotal: 42.6s\tremaining: 45.8s\n",
      "241:\tlearn: 1551.6181920\ttest: 1752.4228226\tbest: 1752.4228226 (241)\ttotal: 42.8s\tremaining: 45.6s\n",
      "242:\tlearn: 1551.1892262\ttest: 1752.4650670\tbest: 1752.4228226 (241)\ttotal: 43s\tremaining: 45.4s\n",
      "243:\tlearn: 1550.9348853\ttest: 1752.4777845\tbest: 1752.4228226 (241)\ttotal: 43.1s\tremaining: 45.3s\n",
      "244:\tlearn: 1550.0907053\ttest: 1752.3425832\tbest: 1752.3425832 (244)\ttotal: 43.3s\tremaining: 45.1s\n",
      "245:\tlearn: 1549.8083017\ttest: 1752.2907926\tbest: 1752.2907926 (245)\ttotal: 43.5s\tremaining: 44.9s\n",
      "246:\tlearn: 1549.1474430\ttest: 1752.0574272\tbest: 1752.0574272 (246)\ttotal: 43.7s\tremaining: 44.7s\n",
      "247:\tlearn: 1548.7365758\ttest: 1751.8232607\tbest: 1751.8232607 (247)\ttotal: 43.8s\tremaining: 44.6s\n",
      "248:\tlearn: 1547.6825241\ttest: 1751.5264529\tbest: 1751.5264529 (248)\ttotal: 44s\tremaining: 44.4s\n",
      "249:\tlearn: 1547.0648653\ttest: 1751.2698150\tbest: 1751.2698150 (249)\ttotal: 44.2s\tremaining: 44.2s\n",
      "250:\tlearn: 1546.5635363\ttest: 1751.3412270\tbest: 1751.2698150 (249)\ttotal: 44.4s\tremaining: 44s\n",
      "251:\tlearn: 1546.0439674\ttest: 1751.2061725\tbest: 1751.2061725 (251)\ttotal: 44.5s\tremaining: 43.8s\n"
     ]
    },
    {
     "name": "stdout",
     "output_type": "stream",
     "text": [
      "252:\tlearn: 1545.3698375\ttest: 1751.1889168\tbest: 1751.1889168 (252)\ttotal: 44.7s\tremaining: 43.7s\n",
      "253:\tlearn: 1544.9524146\ttest: 1751.1447533\tbest: 1751.1447533 (253)\ttotal: 44.9s\tremaining: 43.5s\n",
      "254:\tlearn: 1544.5182466\ttest: 1750.9777968\tbest: 1750.9777968 (254)\ttotal: 45.1s\tremaining: 43.3s\n",
      "255:\tlearn: 1544.2095544\ttest: 1750.9111831\tbest: 1750.9111831 (255)\ttotal: 45.3s\tremaining: 43.1s\n",
      "256:\tlearn: 1543.8851830\ttest: 1750.7787288\tbest: 1750.7787288 (256)\ttotal: 45.5s\tremaining: 43s\n",
      "257:\tlearn: 1542.9646928\ttest: 1750.8882182\tbest: 1750.7787288 (256)\ttotal: 45.6s\tremaining: 42.8s\n",
      "258:\tlearn: 1542.0927036\ttest: 1750.7095668\tbest: 1750.7095668 (258)\ttotal: 45.8s\tremaining: 42.6s\n",
      "259:\tlearn: 1541.3571441\ttest: 1750.5506036\tbest: 1750.5506036 (259)\ttotal: 46s\tremaining: 42.4s\n",
      "260:\tlearn: 1540.4469574\ttest: 1750.4881102\tbest: 1750.4881102 (260)\ttotal: 46.1s\tremaining: 42.3s\n",
      "261:\tlearn: 1540.1259968\ttest: 1750.4538762\tbest: 1750.4538762 (261)\ttotal: 46.3s\tremaining: 42.1s\n",
      "262:\tlearn: 1539.4585750\ttest: 1750.4344820\tbest: 1750.4344820 (262)\ttotal: 46.5s\tremaining: 41.9s\n",
      "263:\tlearn: 1539.1049319\ttest: 1750.4974642\tbest: 1750.4344820 (262)\ttotal: 46.7s\tremaining: 41.7s\n",
      "264:\tlearn: 1538.7503685\ttest: 1750.4595366\tbest: 1750.4344820 (262)\ttotal: 46.8s\tremaining: 41.5s\n",
      "265:\tlearn: 1538.3908820\ttest: 1750.3941022\tbest: 1750.3941022 (265)\ttotal: 47s\tremaining: 41.4s\n",
      "266:\tlearn: 1537.8299149\ttest: 1750.1085721\tbest: 1750.1085721 (266)\ttotal: 47.2s\tremaining: 41.2s\n",
      "267:\tlearn: 1536.8569233\ttest: 1749.8895660\tbest: 1749.8895660 (267)\ttotal: 47.4s\tremaining: 41s\n",
      "268:\tlearn: 1535.6168094\ttest: 1749.7552472\tbest: 1749.7552472 (268)\ttotal: 47.5s\tremaining: 40.8s\n",
      "269:\tlearn: 1535.1959112\ttest: 1749.8089023\tbest: 1749.7552472 (268)\ttotal: 47.7s\tremaining: 40.6s\n",
      "270:\tlearn: 1534.8533792\ttest: 1749.7500426\tbest: 1749.7500426 (270)\ttotal: 47.9s\tremaining: 40.5s\n",
      "271:\tlearn: 1533.8201078\ttest: 1749.6887724\tbest: 1749.6887724 (271)\ttotal: 48s\tremaining: 40.3s\n",
      "272:\tlearn: 1532.8647800\ttest: 1749.4126244\tbest: 1749.4126244 (272)\ttotal: 48.2s\tremaining: 40.1s\n",
      "273:\tlearn: 1532.3525327\ttest: 1749.2159030\tbest: 1749.2159030 (273)\ttotal: 48.4s\tremaining: 39.9s\n",
      "274:\tlearn: 1531.7180384\ttest: 1749.2950759\tbest: 1749.2159030 (273)\ttotal: 48.6s\tremaining: 39.7s\n",
      "275:\tlearn: 1530.6986479\ttest: 1749.3302270\tbest: 1749.2159030 (273)\ttotal: 48.7s\tremaining: 39.6s\n",
      "276:\tlearn: 1529.7228991\ttest: 1749.3169462\tbest: 1749.2159030 (273)\ttotal: 48.9s\tremaining: 39.4s\n",
      "277:\tlearn: 1529.3757777\ttest: 1749.2892095\tbest: 1749.2159030 (273)\ttotal: 49.1s\tremaining: 39.2s\n",
      "278:\tlearn: 1528.7356273\ttest: 1749.3874300\tbest: 1749.2159030 (273)\ttotal: 49.3s\tremaining: 39s\n",
      "279:\tlearn: 1528.2412799\ttest: 1749.2169310\tbest: 1749.2159030 (273)\ttotal: 49.4s\tremaining: 38.8s\n",
      "280:\tlearn: 1527.8104985\ttest: 1749.1461426\tbest: 1749.1461426 (280)\ttotal: 49.6s\tremaining: 38.7s\n",
      "281:\tlearn: 1527.5456245\ttest: 1749.0937845\tbest: 1749.0937845 (281)\ttotal: 49.8s\tremaining: 38.5s\n",
      "282:\tlearn: 1526.4258557\ttest: 1748.8539025\tbest: 1748.8539025 (282)\ttotal: 50s\tremaining: 38.3s\n",
      "283:\tlearn: 1526.0576742\ttest: 1748.6979181\tbest: 1748.6979181 (283)\ttotal: 50.2s\tremaining: 38.2s\n",
      "284:\tlearn: 1525.3401092\ttest: 1748.6090796\tbest: 1748.6090796 (284)\ttotal: 50.4s\tremaining: 38s\n",
      "285:\tlearn: 1524.6854617\ttest: 1748.6540431\tbest: 1748.6090796 (284)\ttotal: 50.5s\tremaining: 37.8s\n",
      "286:\tlearn: 1524.1360383\ttest: 1748.6509255\tbest: 1748.6090796 (284)\ttotal: 50.7s\tremaining: 37.6s\n",
      "287:\tlearn: 1522.9788938\ttest: 1748.3392150\tbest: 1748.3392150 (287)\ttotal: 50.9s\tremaining: 37.4s\n",
      "288:\tlearn: 1522.6974540\ttest: 1748.3102246\tbest: 1748.3102246 (288)\ttotal: 51s\tremaining: 37.3s\n",
      "289:\tlearn: 1521.7189621\ttest: 1748.2010723\tbest: 1748.2010723 (289)\ttotal: 51.2s\tremaining: 37.1s\n",
      "290:\tlearn: 1521.2988088\ttest: 1748.2652982\tbest: 1748.2010723 (289)\ttotal: 51.4s\tremaining: 36.9s\n",
      "291:\tlearn: 1520.9354818\ttest: 1748.2950475\tbest: 1748.2010723 (289)\ttotal: 51.6s\tremaining: 36.7s\n",
      "292:\tlearn: 1520.7237718\ttest: 1748.2252277\tbest: 1748.2010723 (289)\ttotal: 51.7s\tremaining: 36.5s\n",
      "293:\tlearn: 1520.3250576\ttest: 1748.0683637\tbest: 1748.0683637 (293)\ttotal: 51.9s\tremaining: 36.4s\n",
      "294:\tlearn: 1519.3283726\ttest: 1748.0450880\tbest: 1748.0450880 (294)\ttotal: 52.1s\tremaining: 36.2s\n",
      "295:\tlearn: 1518.3414390\ttest: 1748.1102756\tbest: 1748.0450880 (294)\ttotal: 52.2s\tremaining: 36s\n",
      "296:\tlearn: 1517.3037418\ttest: 1747.8957436\tbest: 1747.8957436 (296)\ttotal: 52.4s\tremaining: 35.8s\n",
      "297:\tlearn: 1516.5355055\ttest: 1747.8985946\tbest: 1747.8957436 (296)\ttotal: 52.6s\tremaining: 35.6s\n",
      "298:\tlearn: 1516.0678584\ttest: 1747.8738028\tbest: 1747.8738028 (298)\ttotal: 52.7s\tremaining: 35.4s\n",
      "299:\tlearn: 1515.8212156\ttest: 1747.7737465\tbest: 1747.7737465 (299)\ttotal: 52.9s\tremaining: 35.3s\n",
      "300:\tlearn: 1515.2444946\ttest: 1747.6326781\tbest: 1747.6326781 (300)\ttotal: 53.1s\tremaining: 35.1s\n",
      "301:\tlearn: 1514.7999367\ttest: 1747.5532302\tbest: 1747.5532302 (301)\ttotal: 53.2s\tremaining: 34.9s\n",
      "302:\tlearn: 1514.4395641\ttest: 1747.5089372\tbest: 1747.5089372 (302)\ttotal: 53.4s\tremaining: 34.7s\n",
      "303:\tlearn: 1514.1552582\ttest: 1747.4749085\tbest: 1747.4749085 (303)\ttotal: 53.6s\tremaining: 34.5s\n",
      "304:\tlearn: 1513.2815869\ttest: 1747.3679145\tbest: 1747.3679145 (304)\ttotal: 53.7s\tremaining: 34.4s\n",
      "305:\tlearn: 1512.8052062\ttest: 1747.5220672\tbest: 1747.3679145 (304)\ttotal: 53.9s\tremaining: 34.2s\n",
      "306:\tlearn: 1512.4083923\ttest: 1747.5404986\tbest: 1747.3679145 (304)\ttotal: 54.1s\tremaining: 34s\n",
      "307:\tlearn: 1512.0117938\ttest: 1747.3795860\tbest: 1747.3679145 (304)\ttotal: 54.3s\tremaining: 33.8s\n",
      "308:\tlearn: 1511.4454654\ttest: 1747.1060474\tbest: 1747.1060474 (308)\ttotal: 54.4s\tremaining: 33.7s\n",
      "309:\tlearn: 1511.2800138\ttest: 1747.0643679\tbest: 1747.0643679 (309)\ttotal: 54.6s\tremaining: 33.5s\n",
      "310:\tlearn: 1510.6160941\ttest: 1746.9992152\tbest: 1746.9992152 (310)\ttotal: 54.8s\tremaining: 33.3s\n",
      "311:\tlearn: 1510.3810840\ttest: 1746.9627627\tbest: 1746.9627627 (311)\ttotal: 55s\tremaining: 33.1s\n",
      "312:\tlearn: 1510.1714287\ttest: 1746.9336480\tbest: 1746.9336480 (312)\ttotal: 55.1s\tremaining: 32.9s\n",
      "313:\tlearn: 1509.8170649\ttest: 1746.7943070\tbest: 1746.7943070 (313)\ttotal: 55.3s\tremaining: 32.8s\n",
      "314:\tlearn: 1509.1086807\ttest: 1746.7751698\tbest: 1746.7751698 (314)\ttotal: 55.5s\tremaining: 32.6s\n",
      "315:\tlearn: 1508.2356566\ttest: 1746.4608222\tbest: 1746.4608222 (315)\ttotal: 55.7s\tremaining: 32.4s\n",
      "316:\tlearn: 1507.9933520\ttest: 1746.3786121\tbest: 1746.3786121 (316)\ttotal: 55.8s\tremaining: 32.2s\n",
      "317:\tlearn: 1507.9073092\ttest: 1746.4126900\tbest: 1746.3786121 (316)\ttotal: 56s\tremaining: 32.1s\n",
      "318:\tlearn: 1506.9909546\ttest: 1746.4392104\tbest: 1746.3786121 (316)\ttotal: 56.2s\tremaining: 31.9s\n",
      "319:\tlearn: 1506.5154062\ttest: 1746.4249448\tbest: 1746.3786121 (316)\ttotal: 56.4s\tremaining: 31.7s\n",
      "320:\tlearn: 1505.9247649\ttest: 1746.2816878\tbest: 1746.2816878 (320)\ttotal: 56.6s\tremaining: 31.5s\n",
      "321:\tlearn: 1504.9740302\ttest: 1746.3053227\tbest: 1746.2816878 (320)\ttotal: 56.7s\tremaining: 31.4s\n",
      "322:\tlearn: 1504.8687165\ttest: 1746.3208263\tbest: 1746.2816878 (320)\ttotal: 56.9s\tremaining: 31.2s\n",
      "323:\tlearn: 1504.5979582\ttest: 1746.3690756\tbest: 1746.2816878 (320)\ttotal: 57.1s\tremaining: 31s\n",
      "324:\tlearn: 1503.8854698\ttest: 1746.5089932\tbest: 1746.2816878 (320)\ttotal: 57.2s\tremaining: 30.8s\n",
      "325:\tlearn: 1503.7232916\ttest: 1746.3631913\tbest: 1746.2816878 (320)\ttotal: 57.4s\tremaining: 30.7s\n",
      "326:\tlearn: 1503.0578716\ttest: 1746.3985063\tbest: 1746.2816878 (320)\ttotal: 57.6s\tremaining: 30.5s\n",
      "327:\tlearn: 1502.8394412\ttest: 1746.3607186\tbest: 1746.2816878 (320)\ttotal: 57.8s\tremaining: 30.3s\n",
      "328:\tlearn: 1502.8077818\ttest: 1746.3712543\tbest: 1746.2816878 (320)\ttotal: 58s\tremaining: 30.1s\n",
      "329:\tlearn: 1502.7617787\ttest: 1746.3400303\tbest: 1746.2816878 (320)\ttotal: 58.1s\tremaining: 29.9s\n",
      "330:\tlearn: 1502.0080688\ttest: 1746.0949658\tbest: 1746.0949658 (330)\ttotal: 58.3s\tremaining: 29.8s\n",
      "331:\tlearn: 1501.7925167\ttest: 1746.0619256\tbest: 1746.0619256 (331)\ttotal: 58.5s\tremaining: 29.6s\n",
      "332:\tlearn: 1500.8489749\ttest: 1745.8869555\tbest: 1745.8869555 (332)\ttotal: 58.6s\tremaining: 29.4s\n",
      "333:\tlearn: 1500.2915847\ttest: 1745.8440169\tbest: 1745.8440169 (333)\ttotal: 58.8s\tremaining: 29.2s\n",
      "334:\tlearn: 1499.9994493\ttest: 1745.7432775\tbest: 1745.7432775 (334)\ttotal: 59s\tremaining: 29s\n",
      "335:\tlearn: 1499.8101627\ttest: 1745.6764833\tbest: 1745.6764833 (335)\ttotal: 59.1s\tremaining: 28.9s\n"
     ]
    },
    {
     "name": "stdout",
     "output_type": "stream",
     "text": [
      "336:\tlearn: 1499.3633755\ttest: 1745.8311150\tbest: 1745.6764833 (335)\ttotal: 59.3s\tremaining: 28.7s\n",
      "337:\tlearn: 1498.8501381\ttest: 1745.8261844\tbest: 1745.6764833 (335)\ttotal: 59.5s\tremaining: 28.5s\n",
      "338:\tlearn: 1498.8390429\ttest: 1745.8153000\tbest: 1745.6764833 (335)\ttotal: 59.6s\tremaining: 28.3s\n",
      "339:\tlearn: 1497.4033863\ttest: 1745.0389195\tbest: 1745.0389195 (339)\ttotal: 59.7s\tremaining: 28.1s\n",
      "340:\tlearn: 1496.8969745\ttest: 1744.8531134\tbest: 1744.8531134 (340)\ttotal: 59.9s\tremaining: 27.9s\n",
      "341:\tlearn: 1496.3229926\ttest: 1744.7683270\tbest: 1744.7683270 (341)\ttotal: 1m\tremaining: 27.8s\n",
      "342:\tlearn: 1495.5994199\ttest: 1744.5888335\tbest: 1744.5888335 (342)\ttotal: 1m\tremaining: 27.6s\n",
      "343:\tlearn: 1495.0292088\ttest: 1744.4353414\tbest: 1744.4353414 (343)\ttotal: 1m\tremaining: 27.4s\n",
      "344:\tlearn: 1494.8637464\ttest: 1744.3950608\tbest: 1744.3950608 (344)\ttotal: 1m\tremaining: 27.2s\n",
      "345:\tlearn: 1494.2805741\ttest: 1744.3011373\tbest: 1744.3011373 (345)\ttotal: 1m\tremaining: 27s\n",
      "346:\tlearn: 1494.0269494\ttest: 1744.2661342\tbest: 1744.2661342 (346)\ttotal: 1m\tremaining: 26.9s\n",
      "347:\tlearn: 1493.6175732\ttest: 1744.1771011\tbest: 1744.1771011 (347)\ttotal: 1m 1s\tremaining: 26.7s\n",
      "348:\tlearn: 1493.2786804\ttest: 1744.0999854\tbest: 1744.0999854 (348)\ttotal: 1m 1s\tremaining: 26.5s\n",
      "349:\tlearn: 1492.9363408\ttest: 1744.1039541\tbest: 1744.0999854 (348)\ttotal: 1m 1s\tremaining: 26.4s\n",
      "350:\tlearn: 1492.4765023\ttest: 1744.1354696\tbest: 1744.0999854 (348)\ttotal: 1m 1s\tremaining: 26.2s\n",
      "351:\tlearn: 1492.2003642\ttest: 1744.1017693\tbest: 1744.0999854 (348)\ttotal: 1m 1s\tremaining: 26s\n",
      "352:\tlearn: 1492.0465776\ttest: 1744.1163779\tbest: 1744.0999854 (348)\ttotal: 1m 2s\tremaining: 25.8s\n",
      "353:\tlearn: 1491.5804086\ttest: 1744.0959840\tbest: 1744.0959840 (353)\ttotal: 1m 2s\tremaining: 25.7s\n",
      "354:\tlearn: 1490.9172049\ttest: 1743.8793527\tbest: 1743.8793527 (354)\ttotal: 1m 2s\tremaining: 25.5s\n",
      "355:\tlearn: 1490.2907257\ttest: 1743.7741159\tbest: 1743.7741159 (355)\ttotal: 1m 2s\tremaining: 25.3s\n",
      "356:\tlearn: 1488.9324974\ttest: 1743.5843905\tbest: 1743.5843905 (356)\ttotal: 1m 2s\tremaining: 25.1s\n",
      "357:\tlearn: 1488.6744994\ttest: 1743.6351908\tbest: 1743.5843905 (356)\ttotal: 1m 2s\tremaining: 25s\n",
      "358:\tlearn: 1487.5445577\ttest: 1743.5637491\tbest: 1743.5637491 (358)\ttotal: 1m 3s\tremaining: 24.8s\n",
      "359:\tlearn: 1486.9482023\ttest: 1743.5835177\tbest: 1743.5637491 (358)\ttotal: 1m 3s\tremaining: 24.6s\n",
      "360:\tlearn: 1486.6552768\ttest: 1743.5333887\tbest: 1743.5333887 (360)\ttotal: 1m 3s\tremaining: 24.4s\n",
      "361:\tlearn: 1486.3985437\ttest: 1743.4748940\tbest: 1743.4748940 (361)\ttotal: 1m 3s\tremaining: 24.3s\n",
      "362:\tlearn: 1485.9853686\ttest: 1743.3949261\tbest: 1743.3949261 (362)\ttotal: 1m 3s\tremaining: 24.1s\n",
      "363:\tlearn: 1485.8402653\ttest: 1743.4227105\tbest: 1743.3949261 (362)\ttotal: 1m 3s\tremaining: 23.9s\n",
      "364:\tlearn: 1485.1304372\ttest: 1743.5686219\tbest: 1743.3949261 (362)\ttotal: 1m 4s\tremaining: 23.7s\n",
      "365:\tlearn: 1484.7951111\ttest: 1743.5516375\tbest: 1743.3949261 (362)\ttotal: 1m 4s\tremaining: 23.6s\n",
      "366:\tlearn: 1484.5745599\ttest: 1743.5972398\tbest: 1743.3949261 (362)\ttotal: 1m 4s\tremaining: 23.4s\n",
      "367:\tlearn: 1484.0508218\ttest: 1743.4824692\tbest: 1743.3949261 (362)\ttotal: 1m 4s\tremaining: 23.2s\n",
      "368:\tlearn: 1484.0435090\ttest: 1743.4924651\tbest: 1743.3949261 (362)\ttotal: 1m 4s\tremaining: 23s\n",
      "369:\tlearn: 1483.6802883\ttest: 1743.5358026\tbest: 1743.3949261 (362)\ttotal: 1m 4s\tremaining: 22.8s\n",
      "370:\tlearn: 1483.3235796\ttest: 1743.5472480\tbest: 1743.3949261 (362)\ttotal: 1m 5s\tremaining: 22.7s\n",
      "371:\tlearn: 1483.0139480\ttest: 1743.5447611\tbest: 1743.3949261 (362)\ttotal: 1m 5s\tremaining: 22.5s\n",
      "372:\tlearn: 1482.2832403\ttest: 1743.4524000\tbest: 1743.3949261 (362)\ttotal: 1m 5s\tremaining: 22.3s\n",
      "373:\tlearn: 1481.4480716\ttest: 1743.3724983\tbest: 1743.3724983 (373)\ttotal: 1m 5s\tremaining: 22.1s\n",
      "374:\tlearn: 1480.9694786\ttest: 1743.5253062\tbest: 1743.3724983 (373)\ttotal: 1m 5s\tremaining: 22s\n",
      "375:\tlearn: 1480.6533818\ttest: 1743.4537053\tbest: 1743.3724983 (373)\ttotal: 1m 6s\tremaining: 21.8s\n",
      "376:\tlearn: 1480.5759308\ttest: 1743.4657375\tbest: 1743.3724983 (373)\ttotal: 1m 6s\tremaining: 21.6s\n",
      "377:\tlearn: 1479.9844057\ttest: 1743.4572336\tbest: 1743.3724983 (373)\ttotal: 1m 6s\tremaining: 21.4s\n",
      "378:\tlearn: 1479.2846191\ttest: 1743.3502213\tbest: 1743.3502213 (378)\ttotal: 1m 6s\tremaining: 21.2s\n",
      "379:\tlearn: 1478.7569741\ttest: 1743.3138193\tbest: 1743.3138193 (379)\ttotal: 1m 6s\tremaining: 21.1s\n",
      "380:\tlearn: 1478.5593880\ttest: 1743.3685933\tbest: 1743.3138193 (379)\ttotal: 1m 6s\tremaining: 20.9s\n",
      "381:\tlearn: 1478.4425920\ttest: 1743.3502708\tbest: 1743.3138193 (379)\ttotal: 1m 7s\tremaining: 20.7s\n",
      "382:\tlearn: 1477.8132771\ttest: 1743.2643403\tbest: 1743.2643403 (382)\ttotal: 1m 7s\tremaining: 20.5s\n",
      "383:\tlearn: 1477.2999456\ttest: 1743.3426738\tbest: 1743.2643403 (382)\ttotal: 1m 7s\tremaining: 20.4s\n",
      "384:\tlearn: 1475.9227372\ttest: 1743.1410471\tbest: 1743.1410471 (384)\ttotal: 1m 7s\tremaining: 20.2s\n",
      "385:\tlearn: 1475.7578163\ttest: 1743.1189217\tbest: 1743.1189217 (385)\ttotal: 1m 7s\tremaining: 20s\n",
      "386:\tlearn: 1475.0078965\ttest: 1743.2082563\tbest: 1743.1189217 (385)\ttotal: 1m 7s\tremaining: 19.8s\n",
      "387:\tlearn: 1474.8207422\ttest: 1743.2134821\tbest: 1743.1189217 (385)\ttotal: 1m 8s\tremaining: 19.7s\n",
      "388:\tlearn: 1474.3985053\ttest: 1743.1876008\tbest: 1743.1189217 (385)\ttotal: 1m 8s\tremaining: 19.5s\n",
      "389:\tlearn: 1473.6386819\ttest: 1743.1698290\tbest: 1743.1189217 (385)\ttotal: 1m 8s\tremaining: 19.4s\n",
      "390:\tlearn: 1473.0714527\ttest: 1743.1030777\tbest: 1743.1030777 (390)\ttotal: 1m 8s\tremaining: 19.2s\n",
      "391:\tlearn: 1472.8174388\ttest: 1743.0370383\tbest: 1743.0370383 (391)\ttotal: 1m 8s\tremaining: 19s\n",
      "392:\tlearn: 1472.4218731\ttest: 1743.0863103\tbest: 1743.0370383 (391)\ttotal: 1m 9s\tremaining: 18.8s\n",
      "393:\tlearn: 1471.9754919\ttest: 1743.1127822\tbest: 1743.0370383 (391)\ttotal: 1m 9s\tremaining: 18.6s\n",
      "394:\tlearn: 1471.3746589\ttest: 1743.2023557\tbest: 1743.0370383 (391)\ttotal: 1m 9s\tremaining: 18.5s\n",
      "395:\tlearn: 1470.9230324\ttest: 1743.1828308\tbest: 1743.0370383 (391)\ttotal: 1m 9s\tremaining: 18.3s\n",
      "396:\tlearn: 1469.8088987\ttest: 1742.9301068\tbest: 1742.9301068 (396)\ttotal: 1m 9s\tremaining: 18.1s\n",
      "397:\tlearn: 1469.6422311\ttest: 1742.9054603\tbest: 1742.9054603 (397)\ttotal: 1m 10s\tremaining: 17.9s\n",
      "398:\tlearn: 1469.0981476\ttest: 1743.0271635\tbest: 1742.9054603 (397)\ttotal: 1m 10s\tremaining: 17.8s\n",
      "399:\tlearn: 1468.6627446\ttest: 1743.0083708\tbest: 1742.9054603 (397)\ttotal: 1m 10s\tremaining: 17.6s\n",
      "400:\tlearn: 1468.1565531\ttest: 1742.9190106\tbest: 1742.9054603 (397)\ttotal: 1m 10s\tremaining: 17.4s\n",
      "401:\tlearn: 1467.7125763\ttest: 1742.8804482\tbest: 1742.8804482 (401)\ttotal: 1m 10s\tremaining: 17.2s\n",
      "402:\tlearn: 1467.3773596\ttest: 1742.8935642\tbest: 1742.8804482 (401)\ttotal: 1m 10s\tremaining: 17.1s\n",
      "403:\tlearn: 1466.7918913\ttest: 1742.9040519\tbest: 1742.8804482 (401)\ttotal: 1m 11s\tremaining: 16.9s\n",
      "404:\tlearn: 1466.3037954\ttest: 1742.7750518\tbest: 1742.7750518 (404)\ttotal: 1m 11s\tremaining: 16.7s\n",
      "405:\tlearn: 1465.6944399\ttest: 1742.7593852\tbest: 1742.7593852 (405)\ttotal: 1m 11s\tremaining: 16.5s\n",
      "406:\tlearn: 1464.6485346\ttest: 1742.4656893\tbest: 1742.4656893 (406)\ttotal: 1m 11s\tremaining: 16.4s\n",
      "407:\tlearn: 1463.8418757\ttest: 1742.4413512\tbest: 1742.4413512 (407)\ttotal: 1m 11s\tremaining: 16.2s\n",
      "408:\tlearn: 1463.6895463\ttest: 1742.3766064\tbest: 1742.3766064 (408)\ttotal: 1m 11s\tremaining: 16s\n",
      "409:\tlearn: 1463.1240055\ttest: 1742.3951235\tbest: 1742.3766064 (408)\ttotal: 1m 12s\tremaining: 15.8s\n",
      "410:\tlearn: 1462.5635644\ttest: 1742.5104375\tbest: 1742.3766064 (408)\ttotal: 1m 12s\tremaining: 15.7s\n",
      "411:\tlearn: 1462.1737710\ttest: 1742.4863632\tbest: 1742.3766064 (408)\ttotal: 1m 12s\tremaining: 15.5s\n",
      "412:\tlearn: 1461.7913197\ttest: 1742.3610175\tbest: 1742.3610175 (412)\ttotal: 1m 12s\tremaining: 15.3s\n",
      "413:\tlearn: 1461.2124939\ttest: 1742.5229496\tbest: 1742.3610175 (412)\ttotal: 1m 12s\tremaining: 15.1s\n",
      "414:\tlearn: 1460.8948469\ttest: 1742.4628496\tbest: 1742.3610175 (412)\ttotal: 1m 13s\tremaining: 15s\n",
      "415:\tlearn: 1460.4720877\ttest: 1742.3708346\tbest: 1742.3610175 (412)\ttotal: 1m 13s\tremaining: 14.8s\n",
      "416:\tlearn: 1459.8693494\ttest: 1742.3790994\tbest: 1742.3610175 (412)\ttotal: 1m 13s\tremaining: 14.6s\n",
      "417:\tlearn: 1459.1327393\ttest: 1742.4298805\tbest: 1742.3610175 (412)\ttotal: 1m 13s\tremaining: 14.4s\n",
      "418:\tlearn: 1458.6245255\ttest: 1742.4348166\tbest: 1742.3610175 (412)\ttotal: 1m 13s\tremaining: 14.3s\n"
     ]
    },
    {
     "name": "stdout",
     "output_type": "stream",
     "text": [
      "419:\tlearn: 1458.1688027\ttest: 1742.5228619\tbest: 1742.3610175 (412)\ttotal: 1m 13s\tremaining: 14.1s\n",
      "420:\tlearn: 1458.0285254\ttest: 1742.5148425\tbest: 1742.3610175 (412)\ttotal: 1m 14s\tremaining: 13.9s\n",
      "421:\tlearn: 1457.3222910\ttest: 1742.5635708\tbest: 1742.3610175 (412)\ttotal: 1m 14s\tremaining: 13.7s\n",
      "422:\tlearn: 1457.0163387\ttest: 1742.5768806\tbest: 1742.3610175 (412)\ttotal: 1m 14s\tremaining: 13.6s\n",
      "423:\tlearn: 1456.1288198\ttest: 1742.4741680\tbest: 1742.3610175 (412)\ttotal: 1m 14s\tremaining: 13.4s\n",
      "424:\tlearn: 1455.7463220\ttest: 1742.4823075\tbest: 1742.3610175 (412)\ttotal: 1m 14s\tremaining: 13.2s\n",
      "425:\tlearn: 1455.3794463\ttest: 1742.5328916\tbest: 1742.3610175 (412)\ttotal: 1m 15s\tremaining: 13s\n",
      "426:\tlearn: 1454.6264057\ttest: 1742.4913665\tbest: 1742.3610175 (412)\ttotal: 1m 15s\tremaining: 12.9s\n",
      "427:\tlearn: 1454.3630286\ttest: 1742.5113346\tbest: 1742.3610175 (412)\ttotal: 1m 15s\tremaining: 12.7s\n",
      "428:\tlearn: 1454.1778390\ttest: 1742.5190044\tbest: 1742.3610175 (412)\ttotal: 1m 15s\tremaining: 12.5s\n",
      "429:\tlearn: 1453.6666742\ttest: 1742.5313208\tbest: 1742.3610175 (412)\ttotal: 1m 15s\tremaining: 12.3s\n",
      "430:\tlearn: 1453.2972657\ttest: 1742.5828530\tbest: 1742.3610175 (412)\ttotal: 1m 15s\tremaining: 12.2s\n",
      "431:\tlearn: 1452.7901580\ttest: 1742.6722607\tbest: 1742.3610175 (412)\ttotal: 1m 16s\tremaining: 12s\n",
      "432:\tlearn: 1452.6024968\ttest: 1742.7509690\tbest: 1742.3610175 (412)\ttotal: 1m 16s\tremaining: 11.8s\n",
      "433:\tlearn: 1452.1482914\ttest: 1742.6166395\tbest: 1742.3610175 (412)\ttotal: 1m 16s\tremaining: 11.6s\n",
      "434:\tlearn: 1451.7818439\ttest: 1742.5364685\tbest: 1742.3610175 (412)\ttotal: 1m 16s\tremaining: 11.5s\n",
      "435:\tlearn: 1451.0003521\ttest: 1742.5111947\tbest: 1742.3610175 (412)\ttotal: 1m 16s\tremaining: 11.3s\n",
      "436:\tlearn: 1450.8599347\ttest: 1742.5405346\tbest: 1742.3610175 (412)\ttotal: 1m 16s\tremaining: 11.1s\n",
      "437:\tlearn: 1450.3838480\ttest: 1742.3695068\tbest: 1742.3610175 (412)\ttotal: 1m 17s\tremaining: 10.9s\n",
      "438:\tlearn: 1450.1233298\ttest: 1742.2700560\tbest: 1742.2700560 (438)\ttotal: 1m 17s\tremaining: 10.7s\n",
      "439:\tlearn: 1449.7050971\ttest: 1742.1770678\tbest: 1742.1770678 (439)\ttotal: 1m 17s\tremaining: 10.6s\n",
      "440:\tlearn: 1449.2273140\ttest: 1742.1994193\tbest: 1742.1770678 (439)\ttotal: 1m 17s\tremaining: 10.4s\n",
      "441:\tlearn: 1448.4966225\ttest: 1741.9497969\tbest: 1741.9497969 (441)\ttotal: 1m 17s\tremaining: 10.2s\n",
      "442:\tlearn: 1448.0998110\ttest: 1741.9349049\tbest: 1741.9349049 (442)\ttotal: 1m 18s\tremaining: 10s\n",
      "443:\tlearn: 1447.9038972\ttest: 1741.8698047\tbest: 1741.8698047 (443)\ttotal: 1m 18s\tremaining: 9.86s\n",
      "444:\tlearn: 1447.8008422\ttest: 1741.8324216\tbest: 1741.8324216 (444)\ttotal: 1m 18s\tremaining: 9.68s\n",
      "445:\tlearn: 1447.5739661\ttest: 1741.8454961\tbest: 1741.8324216 (444)\ttotal: 1m 18s\tremaining: 9.51s\n",
      "446:\tlearn: 1447.3787699\ttest: 1741.7698234\tbest: 1741.7698234 (446)\ttotal: 1m 18s\tremaining: 9.34s\n",
      "447:\tlearn: 1446.8164687\ttest: 1741.7970628\tbest: 1741.7698234 (446)\ttotal: 1m 18s\tremaining: 9.16s\n",
      "448:\tlearn: 1446.5551926\ttest: 1741.7840136\tbest: 1741.7698234 (446)\ttotal: 1m 19s\tremaining: 8.98s\n",
      "449:\tlearn: 1446.1965209\ttest: 1741.7050909\tbest: 1741.7050909 (449)\ttotal: 1m 19s\tremaining: 8.81s\n",
      "450:\tlearn: 1445.7079607\ttest: 1741.6286780\tbest: 1741.6286780 (450)\ttotal: 1m 19s\tremaining: 8.63s\n",
      "451:\tlearn: 1445.2729447\ttest: 1741.6593096\tbest: 1741.6286780 (450)\ttotal: 1m 19s\tremaining: 8.46s\n",
      "452:\tlearn: 1445.0482085\ttest: 1741.6210053\tbest: 1741.6210053 (452)\ttotal: 1m 19s\tremaining: 8.28s\n",
      "453:\tlearn: 1444.7636567\ttest: 1741.5460646\tbest: 1741.5460646 (453)\ttotal: 1m 19s\tremaining: 8.1s\n",
      "454:\tlearn: 1444.6075804\ttest: 1741.5239654\tbest: 1741.5239654 (454)\ttotal: 1m 20s\tremaining: 7.93s\n",
      "455:\tlearn: 1444.1333552\ttest: 1741.5165328\tbest: 1741.5165328 (455)\ttotal: 1m 20s\tremaining: 7.75s\n",
      "456:\tlearn: 1443.3952305\ttest: 1741.5168489\tbest: 1741.5165328 (455)\ttotal: 1m 20s\tremaining: 7.58s\n",
      "457:\tlearn: 1442.7354402\ttest: 1741.3487443\tbest: 1741.3487443 (457)\ttotal: 1m 20s\tremaining: 7.4s\n",
      "458:\tlearn: 1442.3056461\ttest: 1741.3681732\tbest: 1741.3487443 (457)\ttotal: 1m 20s\tremaining: 7.22s\n",
      "459:\tlearn: 1441.9566544\ttest: 1741.3715548\tbest: 1741.3487443 (457)\ttotal: 1m 21s\tremaining: 7.05s\n",
      "460:\tlearn: 1441.6297244\ttest: 1741.3278835\tbest: 1741.3278835 (460)\ttotal: 1m 21s\tremaining: 6.87s\n",
      "461:\tlearn: 1441.3640775\ttest: 1741.3599591\tbest: 1741.3278835 (460)\ttotal: 1m 21s\tremaining: 6.7s\n",
      "462:\tlearn: 1441.0472247\ttest: 1741.4111704\tbest: 1741.3278835 (460)\ttotal: 1m 21s\tremaining: 6.52s\n",
      "463:\tlearn: 1440.7508415\ttest: 1741.3323610\tbest: 1741.3278835 (460)\ttotal: 1m 21s\tremaining: 6.34s\n",
      "464:\tlearn: 1440.6828885\ttest: 1741.3635383\tbest: 1741.3278835 (460)\ttotal: 1m 21s\tremaining: 6.17s\n",
      "465:\tlearn: 1440.0931391\ttest: 1741.2991689\tbest: 1741.2991689 (465)\ttotal: 1m 22s\tremaining: 5.99s\n",
      "466:\tlearn: 1439.5557995\ttest: 1741.2956427\tbest: 1741.2956427 (466)\ttotal: 1m 22s\tremaining: 5.81s\n",
      "467:\tlearn: 1439.1129338\ttest: 1741.2848514\tbest: 1741.2848514 (467)\ttotal: 1m 22s\tremaining: 5.63s\n",
      "468:\tlearn: 1438.5628545\ttest: 1741.2095748\tbest: 1741.2095748 (468)\ttotal: 1m 22s\tremaining: 5.46s\n",
      "469:\tlearn: 1438.1686863\ttest: 1741.1208384\tbest: 1741.1208384 (469)\ttotal: 1m 22s\tremaining: 5.28s\n",
      "470:\tlearn: 1437.8260002\ttest: 1741.1418062\tbest: 1741.1208384 (469)\ttotal: 1m 22s\tremaining: 5.11s\n",
      "471:\tlearn: 1437.7503086\ttest: 1741.1749033\tbest: 1741.1208384 (469)\ttotal: 1m 23s\tremaining: 4.93s\n",
      "472:\tlearn: 1437.0325271\ttest: 1741.3969005\tbest: 1741.1208384 (469)\ttotal: 1m 23s\tremaining: 4.75s\n",
      "473:\tlearn: 1436.7103033\ttest: 1741.3588315\tbest: 1741.1208384 (469)\ttotal: 1m 23s\tremaining: 4.58s\n",
      "474:\tlearn: 1436.3745470\ttest: 1741.3197123\tbest: 1741.1208384 (469)\ttotal: 1m 23s\tremaining: 4.4s\n",
      "475:\tlearn: 1435.9632473\ttest: 1741.2789438\tbest: 1741.1208384 (469)\ttotal: 1m 23s\tremaining: 4.22s\n",
      "476:\tlearn: 1435.8057088\ttest: 1741.2510351\tbest: 1741.1208384 (469)\ttotal: 1m 23s\tremaining: 4.05s\n",
      "477:\tlearn: 1435.6420114\ttest: 1741.2606844\tbest: 1741.1208384 (469)\ttotal: 1m 24s\tremaining: 3.87s\n",
      "478:\tlearn: 1435.0269867\ttest: 1740.9294309\tbest: 1740.9294309 (478)\ttotal: 1m 24s\tremaining: 3.7s\n",
      "479:\tlearn: 1434.8519307\ttest: 1740.9867226\tbest: 1740.9294309 (478)\ttotal: 1m 24s\tremaining: 3.52s\n",
      "480:\tlearn: 1434.3654531\ttest: 1740.9944689\tbest: 1740.9294309 (478)\ttotal: 1m 24s\tremaining: 3.35s\n",
      "481:\tlearn: 1433.9683073\ttest: 1740.9893255\tbest: 1740.9294309 (478)\ttotal: 1m 24s\tremaining: 3.17s\n",
      "482:\tlearn: 1433.7006443\ttest: 1741.0385033\tbest: 1740.9294309 (478)\ttotal: 1m 25s\tremaining: 2.99s\n",
      "483:\tlearn: 1433.5111284\ttest: 1740.9942772\tbest: 1740.9294309 (478)\ttotal: 1m 25s\tremaining: 2.82s\n",
      "484:\tlearn: 1433.0482874\ttest: 1741.0098487\tbest: 1740.9294309 (478)\ttotal: 1m 25s\tremaining: 2.64s\n",
      "485:\tlearn: 1432.8288773\ttest: 1740.9294370\tbest: 1740.9294309 (478)\ttotal: 1m 25s\tremaining: 2.46s\n",
      "486:\tlearn: 1432.2591582\ttest: 1740.8240085\tbest: 1740.8240085 (486)\ttotal: 1m 25s\tremaining: 2.29s\n",
      "487:\tlearn: 1431.3775224\ttest: 1740.7367949\tbest: 1740.7367949 (487)\ttotal: 1m 25s\tremaining: 2.11s\n",
      "488:\tlearn: 1431.0663470\ttest: 1740.8036893\tbest: 1740.7367949 (487)\ttotal: 1m 26s\tremaining: 1.94s\n",
      "489:\tlearn: 1430.2311997\ttest: 1740.4444856\tbest: 1740.4444856 (489)\ttotal: 1m 26s\tremaining: 1.76s\n",
      "490:\tlearn: 1429.8051970\ttest: 1740.5200606\tbest: 1740.4444856 (489)\ttotal: 1m 26s\tremaining: 1.58s\n",
      "491:\tlearn: 1429.6309406\ttest: 1740.4851498\tbest: 1740.4444856 (489)\ttotal: 1m 26s\tremaining: 1.41s\n",
      "492:\tlearn: 1429.4113747\ttest: 1740.4091661\tbest: 1740.4091661 (492)\ttotal: 1m 26s\tremaining: 1.23s\n",
      "493:\tlearn: 1429.0164897\ttest: 1740.4485078\tbest: 1740.4091661 (492)\ttotal: 1m 26s\tremaining: 1.06s\n",
      "494:\tlearn: 1428.7131543\ttest: 1740.4642780\tbest: 1740.4091661 (492)\ttotal: 1m 27s\tremaining: 880ms\n",
      "495:\tlearn: 1428.2982059\ttest: 1740.4910527\tbest: 1740.4091661 (492)\ttotal: 1m 27s\tremaining: 704ms\n",
      "496:\tlearn: 1427.8653576\ttest: 1740.5887682\tbest: 1740.4091661 (492)\ttotal: 1m 27s\tremaining: 528ms\n",
      "497:\tlearn: 1427.6487147\ttest: 1740.5758333\tbest: 1740.4091661 (492)\ttotal: 1m 27s\tremaining: 352ms\n",
      "498:\tlearn: 1427.2577570\ttest: 1740.5822465\tbest: 1740.4091661 (492)\ttotal: 1m 27s\tremaining: 176ms\n",
      "499:\tlearn: 1426.9334449\ttest: 1740.6039036\tbest: 1740.4091661 (492)\ttotal: 1m 28s\tremaining: 0us\n",
      "\n",
      "bestTest = 1740.409166\n",
      "bestIteration = 492\n",
      "\n",
      "Shrink model to first 493 iterations.\n",
      "Nilai RMSE untuk model Cat Boost Regressor-data kategorikal: 1740.4091661015693\n",
      "Nilai Mean untuk model Cat Boost Regressor-data kategorikal: 4423.265216785669\n",
      "CPU times: total: 11min 33s\n",
      "Wall time: 1min 29s\n"
     ]
    }
   ],
   "source": [
    "%%time\n",
    "cat_cbr_model = CatBoostRegressor(loss_function='RMSE', \n",
    "                              iterations=500, \n",
    "                              learning_rate=0.2, \n",
    "                              thread_count=-1, \n",
    "                              random_state=18, \n",
    "                              max_depth=10, \n",
    "                              l2_leaf_reg=3.5,\n",
    "                              cat_features=categorical)\n",
    "cat_cbr_model.fit(X__train,y__train, plot=True, eval_set=(X__test, y__test))\n",
    "predicted_test = cat_cbr_model.predict(X__test)\n",
    "rmse = mean_squared_error(y__test, predicted_test)**0.5\n",
    "print(\"Nilai RMSE untuk model Cat Boost Regressor-data kategorikal:\", rmse)\n",
    "print(\"Nilai Mean untuk model Cat Boost Regressor-data kategorikal:\", pd.Series(predicted_test).mean())"
   ]
  },
  {
   "cell_type": "markdown",
   "metadata": {},
   "source": [
    "Cat Boost Regressor dengan data kategorikal mempunyai hasil RMSE yang lebih baik yaitu 1740, dibandingkan dengan Cat Boost Regressor pada data sebelumnya (yang mengubah data kategorikal menjadi nominal) dengan RMSE 1748, yang berarti model Cat Boost Regressor sangat baik dalam mendukung data kategorikal dan dengan hasil yang lebih baik."
   ]
  },
  {
   "cell_type": "markdown",
   "metadata": {},
   "source": [
    "**Step 4.5** Kita akan menjalankan kembali model LGBM Regressor untuk kondisi di mana data kategorikal tidak diubah ke nominal mengingat model ini juga dapat berjalan dengan data kategorikal."
   ]
  },
  {
   "cell_type": "code",
   "execution_count": 97,
   "metadata": {},
   "outputs": [
    {
     "name": "stderr",
     "output_type": "stream",
     "text": [
      "C:\\Users\\Luqmanulhakim\\AppData\\Roaming\\Python\\Python311\\site-packages\\lightgbm\\basic.py:1873: UserWarning: categorical_feature keyword has been found in `params` and will be ignored.\n",
      "Please use categorical_feature argument of the Dataset constructor to pass this parameter.\n",
      "  _log_warning(f'{key} keyword has been found in `params` and will be ignored.\\n'\n",
      "C:\\Users\\Luqmanulhakim\\AppData\\Roaming\\Python\\Python311\\site-packages\\lightgbm\\basic.py:1893: UserWarning: categorical_feature in param dict is overridden.\n",
      "  _log_warning(f'{cat_alias} in param dict is overridden.')\n"
     ]
    },
    {
     "name": "stdout",
     "output_type": "stream",
     "text": [
      "[LightGBM] [Warning] categorical_feature is set=Brand,Model,VehicleType,Gearbox,FuelType, categorical_column=0,2,4,7,8 will be ignored. Current value: categorical_feature=Brand,Model,VehicleType,Gearbox,FuelType\n",
      "[LightGBM] [Debug] Dataset::GetMultiBinFromSparseFeatures: sparse rate 0.849743\n",
      "[LightGBM] [Debug] Dataset::GetMultiBinFromAllFeatures: sparse rate 0.190611\n",
      "[LightGBM] [Debug] init for col-wise cost 0.003084 seconds, init for row-wise cost 0.004240 seconds\n",
      "[LightGBM] [Info] Auto-choosing row-wise multi-threading, the overhead of testing was 0.004958 seconds.\n",
      "You can set `force_row_wise=true` to remove the overhead.\n",
      "And if memory is not enough, you can set `force_col_wise=true`.\n",
      "[LightGBM] [Debug] Using Dense Multi-Val Bin\n",
      "[LightGBM] [Info] Total Bins 664\n",
      "[LightGBM] [Info] Number of data points in the train set: 178398, number of used features: 10\n",
      "[LightGBM] [Info] Start training from score 4424.118880\n",
      "[LightGBM] [Debug] Trained a tree with leaves = 31 and depth = 7\n",
      "[LightGBM] [Debug] Trained a tree with leaves = 31 and depth = 9\n",
      "[LightGBM] [Debug] Trained a tree with leaves = 31 and depth = 9\n",
      "[LightGBM] [Debug] Trained a tree with leaves = 31 and depth = 10\n",
      "[LightGBM] [Debug] Trained a tree with leaves = 31 and depth = 9\n",
      "[LightGBM] [Debug] Trained a tree with leaves = 31 and depth = 9\n",
      "[LightGBM] [Debug] Trained a tree with leaves = 31 and depth = 13\n",
      "[LightGBM] [Debug] Trained a tree with leaves = 31 and depth = 10\n",
      "[LightGBM] [Debug] Trained a tree with leaves = 31 and depth = 8\n",
      "[LightGBM] [Debug] Trained a tree with leaves = 31 and depth = 15\n",
      "[LightGBM] [Debug] Trained a tree with leaves = 31 and depth = 11\n",
      "[LightGBM] [Debug] Trained a tree with leaves = 31 and depth = 12\n",
      "[LightGBM] [Debug] Trained a tree with leaves = 31 and depth = 9\n",
      "[LightGBM] [Debug] Trained a tree with leaves = 31 and depth = 11\n",
      "[LightGBM] [Debug] Trained a tree with leaves = 31 and depth = 8\n",
      "[LightGBM] [Debug] Trained a tree with leaves = 31 and depth = 10\n",
      "[LightGBM] [Debug] Trained a tree with leaves = 31 and depth = 8\n",
      "[LightGBM] [Debug] Trained a tree with leaves = 31 and depth = 10\n",
      "[LightGBM] [Debug] Trained a tree with leaves = 31 and depth = 9\n",
      "[LightGBM] [Debug] Trained a tree with leaves = 31 and depth = 9\n",
      "[LightGBM] [Debug] Trained a tree with leaves = 31 and depth = 8\n",
      "[LightGBM] [Debug] Trained a tree with leaves = 31 and depth = 10\n",
      "[LightGBM] [Debug] Trained a tree with leaves = 31 and depth = 8\n",
      "[LightGBM] [Debug] Trained a tree with leaves = 31 and depth = 9\n",
      "[LightGBM] [Debug] Trained a tree with leaves = 31 and depth = 12\n",
      "[LightGBM] [Debug] Trained a tree with leaves = 31 and depth = 11\n",
      "[LightGBM] [Debug] Trained a tree with leaves = 31 and depth = 11\n",
      "[LightGBM] [Debug] Trained a tree with leaves = 31 and depth = 9\n",
      "[LightGBM] [Debug] Trained a tree with leaves = 31 and depth = 10\n",
      "[LightGBM] [Debug] Trained a tree with leaves = 31 and depth = 10\n",
      "[LightGBM] [Debug] Trained a tree with leaves = 31 and depth = 10\n",
      "[LightGBM] [Debug] Trained a tree with leaves = 31 and depth = 11\n",
      "[LightGBM] [Debug] Trained a tree with leaves = 31 and depth = 9\n",
      "[LightGBM] [Debug] Trained a tree with leaves = 31 and depth = 10\n",
      "[LightGBM] [Debug] Trained a tree with leaves = 31 and depth = 11\n",
      "[LightGBM] [Debug] Trained a tree with leaves = 31 and depth = 11\n",
      "[LightGBM] [Debug] Trained a tree with leaves = 31 and depth = 8\n",
      "[LightGBM] [Debug] Trained a tree with leaves = 31 and depth = 12\n",
      "[LightGBM] [Debug] Trained a tree with leaves = 31 and depth = 10\n",
      "[LightGBM] [Debug] Trained a tree with leaves = 31 and depth = 9\n",
      "[LightGBM] [Debug] Trained a tree with leaves = 31 and depth = 12\n",
      "[LightGBM] [Debug] Trained a tree with leaves = 31 and depth = 10\n",
      "[LightGBM] [Debug] Trained a tree with leaves = 31 and depth = 9\n",
      "[LightGBM] [Debug] Trained a tree with leaves = 31 and depth = 10\n",
      "[LightGBM] [Debug] Trained a tree with leaves = 31 and depth = 11\n",
      "[LightGBM] [Debug] Trained a tree with leaves = 31 and depth = 11\n",
      "[LightGBM] [Debug] Trained a tree with leaves = 31 and depth = 14\n",
      "[LightGBM] [Debug] Trained a tree with leaves = 31 and depth = 9\n",
      "[LightGBM] [Debug] Trained a tree with leaves = 31 and depth = 11\n",
      "[LightGBM] [Debug] Trained a tree with leaves = 31 and depth = 13\n",
      "[LightGBM] [Debug] Trained a tree with leaves = 31 and depth = 12\n",
      "[LightGBM] [Debug] Trained a tree with leaves = 31 and depth = 12\n",
      "[LightGBM] [Debug] Trained a tree with leaves = 31 and depth = 12\n",
      "[LightGBM] [Debug] Trained a tree with leaves = 31 and depth = 12\n",
      "[LightGBM] [Debug] Trained a tree with leaves = 31 and depth = 13\n",
      "[LightGBM] [Debug] Trained a tree with leaves = 31 and depth = 10\n",
      "[LightGBM] [Debug] Trained a tree with leaves = 31 and depth = 14\n",
      "[LightGBM] [Debug] Trained a tree with leaves = 31 and depth = 13\n",
      "[LightGBM] [Debug] Trained a tree with leaves = 31 and depth = 10\n",
      "[LightGBM] [Debug] Trained a tree with leaves = 31 and depth = 15\n",
      "[LightGBM] [Debug] Trained a tree with leaves = 31 and depth = 10\n",
      "[LightGBM] [Debug] Trained a tree with leaves = 31 and depth = 12\n",
      "[LightGBM] [Debug] Trained a tree with leaves = 31 and depth = 11\n",
      "[LightGBM] [Debug] Trained a tree with leaves = 31 and depth = 11\n",
      "[LightGBM] [Debug] Trained a tree with leaves = 31 and depth = 10\n",
      "[LightGBM] [Debug] Trained a tree with leaves = 31 and depth = 8\n",
      "[LightGBM] [Debug] Trained a tree with leaves = 31 and depth = 13\n",
      "[LightGBM] [Debug] Trained a tree with leaves = 31 and depth = 13\n",
      "[LightGBM] [Debug] Trained a tree with leaves = 31 and depth = 11\n",
      "[LightGBM] [Debug] Trained a tree with leaves = 31 and depth = 10\n",
      "[LightGBM] [Debug] Trained a tree with leaves = 31 and depth = 10\n",
      "[LightGBM] [Debug] Trained a tree with leaves = 31 and depth = 9\n",
      "[LightGBM] [Debug] Trained a tree with leaves = 31 and depth = 10\n",
      "[LightGBM] [Debug] Trained a tree with leaves = 31 and depth = 13\n",
      "[LightGBM] [Debug] Trained a tree with leaves = 31 and depth = 9\n",
      "[LightGBM] [Debug] Trained a tree with leaves = 31 and depth = 9\n",
      "[LightGBM] [Debug] Trained a tree with leaves = 31 and depth = 11\n",
      "[LightGBM] [Debug] Trained a tree with leaves = 31 and depth = 12\n",
      "[LightGBM] [Debug] Trained a tree with leaves = 31 and depth = 13\n",
      "[LightGBM] [Debug] Trained a tree with leaves = 31 and depth = 12\n",
      "[LightGBM] [Debug] Trained a tree with leaves = 31 and depth = 9\n",
      "[LightGBM] [Debug] Trained a tree with leaves = 31 and depth = 13\n",
      "[LightGBM] [Debug] Trained a tree with leaves = 31 and depth = 10\n",
      "[LightGBM] [Debug] Trained a tree with leaves = 31 and depth = 11\n",
      "[LightGBM] [Debug] Trained a tree with leaves = 31 and depth = 15\n",
      "[LightGBM] [Debug] Trained a tree with leaves = 31 and depth = 14\n",
      "[LightGBM] [Debug] Trained a tree with leaves = 31 and depth = 12\n",
      "[LightGBM] [Debug] Trained a tree with leaves = 31 and depth = 10\n",
      "[LightGBM] [Debug] Trained a tree with leaves = 31 and depth = 11\n",
      "[LightGBM] [Debug] Trained a tree with leaves = 31 and depth = 11\n",
      "[LightGBM] [Debug] Trained a tree with leaves = 31 and depth = 9\n",
      "[LightGBM] [Debug] Trained a tree with leaves = 31 and depth = 11\n",
      "[LightGBM] [Debug] Trained a tree with leaves = 31 and depth = 8\n",
      "[LightGBM] [Debug] Trained a tree with leaves = 31 and depth = 13\n",
      "[LightGBM] [Debug] Trained a tree with leaves = 31 and depth = 10\n",
      "[LightGBM] [Debug] Trained a tree with leaves = 31 and depth = 12\n",
      "[LightGBM] [Debug] Trained a tree with leaves = 31 and depth = 12\n",
      "[LightGBM] [Debug] Trained a tree with leaves = 31 and depth = 11\n",
      "[LightGBM] [Debug] Trained a tree with leaves = 31 and depth = 11\n",
      "[LightGBM] [Debug] Trained a tree with leaves = 31 and depth = 11\n",
      "[LightGBM] [Debug] Trained a tree with leaves = 31 and depth = 9\n",
      "[LightGBM] [Debug] Trained a tree with leaves = 31 and depth = 11\n",
      "[LightGBM] [Debug] Trained a tree with leaves = 31 and depth = 10\n",
      "[LightGBM] [Debug] Trained a tree with leaves = 31 and depth = 11\n",
      "[LightGBM] [Debug] Trained a tree with leaves = 31 and depth = 14\n",
      "[LightGBM] [Debug] Trained a tree with leaves = 31 and depth = 13\n",
      "[LightGBM] [Debug] Trained a tree with leaves = 31 and depth = 10\n",
      "[LightGBM] [Debug] Trained a tree with leaves = 31 and depth = 9\n",
      "[LightGBM] [Debug] Trained a tree with leaves = 31 and depth = 13\n",
      "[LightGBM] [Debug] Trained a tree with leaves = 31 and depth = 12\n",
      "[LightGBM] [Debug] Trained a tree with leaves = 31 and depth = 10\n",
      "[LightGBM] [Debug] Trained a tree with leaves = 31 and depth = 11\n",
      "[LightGBM] [Debug] Trained a tree with leaves = 31 and depth = 15\n",
      "[LightGBM] [Debug] Trained a tree with leaves = 31 and depth = 14\n",
      "[LightGBM] [Debug] Trained a tree with leaves = 31 and depth = 13\n",
      "[LightGBM] [Debug] Trained a tree with leaves = 31 and depth = 13\n",
      "[LightGBM] [Debug] Trained a tree with leaves = 31 and depth = 10\n",
      "[LightGBM] [Debug] Trained a tree with leaves = 31 and depth = 9\n",
      "[LightGBM] [Debug] Trained a tree with leaves = 31 and depth = 15\n",
      "[LightGBM] [Debug] Trained a tree with leaves = 31 and depth = 13\n",
      "[LightGBM] [Debug] Trained a tree with leaves = 31 and depth = 10\n",
      "[LightGBM] [Debug] Trained a tree with leaves = 31 and depth = 9\n",
      "[LightGBM] [Debug] Trained a tree with leaves = 31 and depth = 12\n",
      "[LightGBM] [Debug] Trained a tree with leaves = 31 and depth = 11\n",
      "[LightGBM] [Debug] Trained a tree with leaves = 31 and depth = 14\n",
      "[LightGBM] [Debug] Trained a tree with leaves = 31 and depth = 12\n",
      "[LightGBM] [Debug] Trained a tree with leaves = 31 and depth = 12\n",
      "[LightGBM] [Debug] Trained a tree with leaves = 31 and depth = 10\n",
      "[LightGBM] [Debug] Trained a tree with leaves = 31 and depth = 13\n",
      "[LightGBM] [Debug] Trained a tree with leaves = 31 and depth = 13\n",
      "Nilai RMSE untuk model LGBM Regressor-data kategorikal: 1790.6413525392395\n"
     ]
    },
    {
     "name": "stdout",
     "output_type": "stream",
     "text": [
      "Nilai Mean untuk model LGBM Regressor-data kategorikal: 4423.739575794788\n",
      "CPU times: total: 3.86 s\n",
      "Wall time: 546 ms\n"
     ]
    }
   ],
   "source": [
    "%%time\n",
    "cat_lgbm_model = LGBMRegressor(task='train', \n",
    "                        boosting_type='gbdt', \n",
    "                        objective='regression', \n",
    "                        metric='rmse', \n",
    "                        learning_rate=0.5, \n",
    "                        verbose=200,\n",
    "                        n_estimators=130,\n",
    "                        random_state=12345,\n",
    "                        categorical_feature=categorical)\n",
    "cat_lgbm_model.fit(X__train,y__train)\n",
    "predicted_test = cat_lgbm_model.predict(X__test)\n",
    "rmse = mean_squared_error(y__test, predicted_test)**0.5\n",
    "print(\"Nilai RMSE untuk model LGBM Regressor-data kategorikal:\", rmse)\n",
    "print(\"Nilai Mean untuk model LGBM Regressor-data kategorikal:\", pd.Series(predicted_test).mean())"
   ]
  },
  {
   "cell_type": "markdown",
   "metadata": {},
   "source": [
    "Cat Boost Regressor dengan data kategorikal memiliki hasil RMSE 1740 lebih baik dibandingkan LGBM Regressor dengan data kategorikal dengan RMSE 1791.\n",
    "\n",
    "LGBM Regressor dengan data kategorikal memiliki hasil RMSE 1795 lebih baik dibandingkan LGBM Regressor dengan data sebelumnya (di mana data kategorikal diubah menjadi nominal) dengan RMSE 1798. Artinya LGBM Regressor baik dalam mendukung data kategorikal.\n",
    "\n",
    "LGBM Regressor jauh lebih cepat dibandingkan Cat Boost Regressor."
   ]
  },
  {
   "cell_type": "markdown",
   "metadata": {},
   "source": [
    "## Kesimpulan <a name=\"test_conclusion\"></a>"
   ]
  },
  {
   "cell_type": "markdown",
   "metadata": {},
   "source": [
    "- Model Random Forest Regressor memiliki RMSE 1858 (setelah cross-validation), namun sangat lambat saat menghitung model.\n",
    "- Model LGBMRegressor cepat dalam menghitung dan menyesuaikan model serta memberikan nilai RMSE yang baik yakni 1831, tidak jauh berbeda dengan Random Forest Regressor namun juga lebih cepat.\n",
    "- Kita telah mencoba menyempurnakan model Regressor LGBM dari RMSE 1831, dengan mengubah hyperparameter untuk mendapatkan nilai RMSE yang lebih baik yaitu 1798, juga lebih baik dari Random Forest Regressor 1858.\n",
    "- Kemudian kita bandingkan dengan model Cat Boost Regressor dengan hyperparameter yang diubah, mampu mengalahkan Regressor LGBM dengan RMSE 1748.\n",
    "- Kita telah memeriksa apa yang terjadi jika kami tidak mengubah data kategorikal menjadi nominal karena model ini dapat mendukung penggunaan data kategorikal.\n",
    "- Kita telah mengonversi fitur kategorikal ke format kategori, menyiapkan data kategorikal untuk melatih model\n",
    "- Nilai RMSE untuk Cat Boost Regressor dengan data kategorikal adalah 1740, lebih baik dari data sebelumnya (yang mengubah data kategorikal menjadi nominal) dengan RMSE 1748, yang artinya model Cat Boost Regressor mampu menangani dan mendukung data kategorikal dengan sangat baik serta memberikan hasil yang lebih baik.\n",
    "- Dengan data kategorikal ini mari kita cek kembali LGBM Regressor untuk mengecek apakah lebih baik dari Cat Boost Regressor sebelumnya atau tidak. Dengan skor RMSE 1795, lebih baik dibandingkan LGBM Regressor dengan data sebelumnya (yang mengubah data kategorikal menjadi nominal) yakni dengan RSME 1798, namun masih belum bisa mengalahkan Cat Boost Regressor dengan data kategorikal.\n",
    "- Regresor Cat Boost dengan data kategorikal memiliki RMSE 1740 yang paling baik, meskipun lebih lambat dibandingkan Regresor LGBM.\n",
    "- Regresor LGBM sangat cepat dibandingkan model lain untuk mendapatkan RMSE 1795, sedangkan Cat Boost Regressor membutuhkan waktu lebih lama untuk mendapatkan RMSE 1740."
   ]
  },
  {
   "cell_type": "markdown",
   "metadata": {},
   "source": [
    "[Kembali ke Daftar Isi](#back)"
   ]
  },
  {
   "cell_type": "markdown",
   "metadata": {},
   "source": [
    "# Temuan <a name=\"end\"></a>"
   ]
  },
  {
   "cell_type": "markdown",
   "metadata": {},
   "source": [
    "- Berdasarkan hasil pengujian, Cat Boost Regressor dengan data kategorikal adalah pemenangnya karena mendapatkan RMSE 1740 yang paling baik dari beberapa pengujian model, meskipun lebih lambat dibandingkan LGBM Regressor.\n",
    "- LGBM Regressor sangat cepat dan dengan nilai RMSE yang kompetitif, sehingga dapat disarankan juga jika pertimbangan waktu lebih penting dan dalam kondisi pengerjaan dengan dataset besar dalam waktu terbatas.\n",
    "- Linear Regression sangat cepat namun tidak memiliki RMSE yang baik.\n",
    "- Hampir semua model memberikan hasil Mean yang sama yaitu 4420, mendekati Price rata-rata sebenarnya. Namun, karena nilai Price berbeda satu sama lain, dengan histogram yang miring ke kanan, sehingga median 2700 jauh lebih rendah dari nilai rata-rata. Model sulit memprediksi nilai target yang tepat sehingga RMSE cukup tinggi untuk semua model."
   ]
  },
  {
   "cell_type": "markdown",
   "metadata": {},
   "source": [
    "[Kembali ke Daftar Isi](#back)"
   ]
  }
 ],
 "metadata": {
  "kernelspec": {
   "display_name": "Python 3 (ipykernel)",
   "language": "python",
   "name": "python3"
  },
  "language_info": {
   "codemirror_mode": {
    "name": "ipython",
    "version": 3
   },
   "file_extension": ".py",
   "mimetype": "text/x-python",
   "name": "python",
   "nbconvert_exporter": "python",
   "pygments_lexer": "ipython3",
   "version": "3.11.5"
  },
  "toc": {
   "base_numbering": 1,
   "nav_menu": {},
   "number_sections": true,
   "sideBar": true,
   "skip_h1_title": true,
   "title_cell": "Table of Contents",
   "title_sidebar": "Contents",
   "toc_cell": false,
   "toc_position": {},
   "toc_section_display": true,
   "toc_window_display": false
  }
 },
 "nbformat": 4,
 "nbformat_minor": 2
}
